{
 "cells": [
  {
   "cell_type": "code",
   "execution_count": 0,
   "metadata": {
    "application/vnd.databricks.v1+cell": {
     "cellMetadata": {
      "byteLimit": 2048000,
      "rowLimit": 10000
     },
     "inputWidgets": {},
     "nuid": "a50ea683-a59c-4b24-a6b4-5c2765e4d636",
     "showTitle": false,
     "title": ""
    }
   },
   "outputs": [],
   "source": [
    "# Release notes, first attempt at Lasso Regularization with Cross Validation"
   ]
  },
  {
   "cell_type": "code",
   "execution_count": 0,
   "metadata": {
    "application/vnd.databricks.v1+cell": {
     "cellMetadata": {
      "byteLimit": 2048000,
      "rowLimit": 10000
     },
     "inputWidgets": {},
     "nuid": "cab59a0d-bb26-4ded-9650-a356eb96e0be",
     "showTitle": false,
     "title": ""
    }
   },
   "outputs": [],
   "source": [
    "from itertools import chain\n",
    "import pandas as pd\n",
    "import numpy as np\n",
    "import matplotlib.pyplot as plt\n",
    "from pyspark.sql.functions import col, count, isnan, when, substring, min, log, lit, row_number, concat, to_timestamp, format_string\n",
    "from pyspark.sql.types import FloatType\n",
    "from pyspark.ml import Pipeline\n",
    "from pyspark.ml.feature import SQLTransformer, OneHotEncoder, StringIndexer, VectorAssembler,\\\n",
    "    StandardScaler, Imputer\n",
    "#from pyspark.ml.regression import LinearRegression\n",
    "from pyspark.ml.classification import LogisticRegression\n",
    "from pyspark.ml.evaluation import BinaryClassificationEvaluator\n",
    "from pyspark.mllib.evaluation import MulticlassMetrics\n",
    "\n",
    "from pyspark.sql.window import Window"
   ]
  },
  {
   "cell_type": "code",
   "execution_count": 0,
   "metadata": {
    "application/vnd.databricks.v1+cell": {
     "cellMetadata": {
      "byteLimit": 2048000,
      "rowLimit": 10000
     },
     "inputWidgets": {},
     "nuid": "1a95c44c-a02b-4480-b9e4-25165611387f",
     "showTitle": false,
     "title": ""
    }
   },
   "outputs": [],
   "source": [
    "## Place this cell in any team notebook that needs access to the team cloud storage.\n",
    "\n",
    "\n",
    "# The following blob storage is accessible to team members only (read and write)\n",
    "# access key is valid til TTL\n",
    "# after that you will need to create a new SAS key and authenticate access again via DataBrick command line\n",
    "blob_container  = \"final-project-summer24-team3\"       # The name of your container created in https://portal.azure.com\n",
    "storage_account = \"summer2024team3\"  # The name of your Storage account created in https://portal.azure.com\n",
    "secret_scope    = \"summer24_team_3_2_scope\"           # The name of the scope created in your local computer using the Databricks CLI\n",
    "secret_key      = \"final-project-summer24-team3\"             # The name of the secret key created in your local computer using the Databricks CLI\n",
    "team_blob_url   = f\"wasbs://{blob_container}@{storage_account}.blob.core.windows.net\"  #points to the root of your team storage bucket\n",
    "\n",
    "# SAS Token: Grant the team limited access to Azure Storage resources\n",
    "spark.conf.set(\n",
    "  f\"fs.azure.sas.{blob_container}.{storage_account}.blob.core.windows.net\",\n",
    "  dbutils.secrets.get(scope = secret_scope, key = secret_key)\n",
    ")\n",
    "data_BASE_DIR = f\"{team_blob_url}/TP\""
   ]
  },
  {
   "cell_type": "code",
   "execution_count": 0,
   "metadata": {
    "application/vnd.databricks.v1+cell": {
     "cellMetadata": {
      "byteLimit": 2048000,
      "rowLimit": 10000
     },
     "inputWidgets": {},
     "nuid": "71c8f38e-ebad-4208-8345-6038cf94b7b4",
     "showTitle": false,
     "title": ""
    }
   },
   "outputs": [
    {
     "output_type": "display_data",
     "data": {
      "text/html": [
       "<style scoped>\n",
       "  .table-result-container {\n",
       "    max-height: 300px;\n",
       "    overflow: auto;\n",
       "  }\n",
       "  table, th, td {\n",
       "    border: 1px solid black;\n",
       "    border-collapse: collapse;\n",
       "  }\n",
       "  th, td {\n",
       "    padding: 5px;\n",
       "  }\n",
       "  th {\n",
       "    text-align: left;\n",
       "  }\n",
       "</style><div class='table-result-container'><table class='table-result'><thead style='background-color: white'><tr><th>path</th><th>name</th><th>size</th><th>modificationTime</th></tr></thead><tbody><tr><td>wasbs://final-project-summer24-team3@summer2024team3.blob.core.windows.net/TP/_SUCCESS</td><td>_SUCCESS</td><td>0</td><td>1720561571000</td></tr><tr><td>wasbs://final-project-summer24-team3@summer2024team3.blob.core.windows.net/TP/_committed_1002670972388615845</td><td>_committed_1002670972388615845</td><td>625</td><td>1720560531000</td></tr><tr><td>wasbs://final-project-summer24-team3@summer2024team3.blob.core.windows.net/TP/_committed_5669257934384103852</td><td>_committed_5669257934384103852</td><td>221</td><td>1720561571000</td></tr><tr><td>wasbs://final-project-summer24-team3@summer2024team3.blob.core.windows.net/TP/_committed_6618439955609603938</td><td>_committed_6618439955609603938</td><td>419</td><td>1720561337000</td></tr><tr><td>wasbs://final-project-summer24-team3@summer2024team3.blob.core.windows.net/TP/_committed_9167039456723159873</td><td>_committed_9167039456723159873</td><td>318</td><td>1720559468000</td></tr><tr><td>wasbs://final-project-summer24-team3@summer2024team3.blob.core.windows.net/TP/_committed_vacuum825530481471543349</td><td>_committed_vacuum825530481471543349</td><td>95</td><td>1720561338000</td></tr><tr><td>wasbs://final-project-summer24-team3@summer2024team3.blob.core.windows.net/TP/_started_1002670972388615845</td><td>_started_1002670972388615845</td><td>0</td><td>1720560531000</td></tr><tr><td>wasbs://final-project-summer24-team3@summer2024team3.blob.core.windows.net/TP/_started_5669257934384103852</td><td>_started_5669257934384103852</td><td>0</td><td>1720561570000</td></tr><tr><td>wasbs://final-project-summer24-team3@summer2024team3.blob.core.windows.net/TP/_started_6618439955609603938</td><td>_started_6618439955609603938</td><td>0</td><td>1720561337000</td></tr><tr><td>wasbs://final-project-summer24-team3@summer2024team3.blob.core.windows.net/TP/df_1y_cleaned_transformed/</td><td>df_1y_cleaned_transformed/</td><td>0</td><td>1722046865000</td></tr><tr><td>wasbs://final-project-summer24-team3@summer2024team3.blob.core.windows.net/TP/df_clean_transformed_ian/</td><td>df_clean_transformed_ian/</td><td>0</td><td>1722887351000</td></tr><tr><td>wasbs://final-project-summer24-team3@summer2024team3.blob.core.windows.net/TP/flat-ui__data.csv</td><td>flat-ui__data.csv</td><td>5491822</td><td>1720877593000</td></tr><tr><td>wasbs://final-project-summer24-team3@summer2024team3.blob.core.windows.net/TP/flight_stations_weather_1y/</td><td>flight_stations_weather_1y/</td><td>0</td><td>1721986685000</td></tr><tr><td>wasbs://final-project-summer24-team3@summer2024team3.blob.core.windows.net/TP/flight_stations_weather_1y_cleaned/</td><td>flight_stations_weather_1y_cleaned/</td><td>0</td><td>1722318047000</td></tr><tr><td>wasbs://final-project-summer24-team3@summer2024team3.blob.core.windows.net/TP/flight_stations_weather_1y_cleaned2/</td><td>flight_stations_weather_1y_cleaned2/</td><td>0</td><td>1722328427000</td></tr><tr><td>wasbs://final-project-summer24-team3@summer2024team3.blob.core.windows.net/TP/flight_stations_weather_1y_cleaned2DownSample1-1/</td><td>flight_stations_weather_1y_cleaned2DownSample1-1/</td><td>0</td><td>1722533565000</td></tr><tr><td>wasbs://final-project-summer24-team3@summer2024team3.blob.core.windows.net/TP/flight_stations_weather_1y_cleaned2DownSample2-1/</td><td>flight_stations_weather_1y_cleaned2DownSample2-1/</td><td>0</td><td>1722445568000</td></tr><tr><td>wasbs://final-project-summer24-team3@summer2024team3.blob.core.windows.net/TP/flight_stations_weather_1y_cleaned2DownSample3-1/</td><td>flight_stations_weather_1y_cleaned2DownSample3-1/</td><td>0</td><td>1722445041000</td></tr><tr><td>wasbs://final-project-summer24-team3@summer2024team3.blob.core.windows.net/TP/flight_stations_weather_3m/</td><td>flight_stations_weather_3m/</td><td>0</td><td>1721983865000</td></tr><tr><td>wasbs://final-project-summer24-team3@summer2024team3.blob.core.windows.net/TP/flight_stations_weather_3m_cleaned/</td><td>flight_stations_weather_3m_cleaned/</td><td>0</td><td>1722317090000</td></tr><tr><td>wasbs://final-project-summer24-team3@summer2024team3.blob.core.windows.net/TP/flight_stations_weather_3m_cleaned2/</td><td>flight_stations_weather_3m_cleaned2/</td><td>0</td><td>1722329466000</td></tr><tr><td>wasbs://final-project-summer24-team3@summer2024team3.blob.core.windows.net/TP/flight_stations_weather_3m_cleaned2DownSample2-1/</td><td>flight_stations_weather_3m_cleaned2DownSample2-1/</td><td>0</td><td>1722445594000</td></tr><tr><td>wasbs://final-project-summer24-team3@summer2024team3.blob.core.windows.net/TP/flight_stations_weather_3m_cleaned2DownSample3-1/</td><td>flight_stations_weather_3m_cleaned2DownSample3-1/</td><td>0</td><td>1722444939000</td></tr><tr><td>wasbs://final-project-summer24-team3@summer2024team3.blob.core.windows.net/TP/flight_stations_weather_3m_graphs/</td><td>flight_stations_weather_3m_graphs/</td><td>0</td><td>1722492863000</td></tr><tr><td>wasbs://final-project-summer24-team3@summer2024team3.blob.core.windows.net/TP/flight_stations_weather_all/</td><td>flight_stations_weather_all/</td><td>0</td><td>1721990625000</td></tr><tr><td>wasbs://final-project-summer24-team3@summer2024team3.blob.core.windows.net/TP/flight_stations_weather_all_cleaned/</td><td>flight_stations_weather_all_cleaned/</td><td>0</td><td>1722328073000</td></tr><tr><td>wasbs://final-project-summer24-team3@summer2024team3.blob.core.windows.net/TP/flight_stations_weather_all_cleaned2/</td><td>flight_stations_weather_all_cleaned2/</td><td>0</td><td>1722329220000</td></tr><tr><td>wasbs://final-project-summer24-team3@summer2024team3.blob.core.windows.net/TP/flight_stations_weather_all_cleaned2DownSample2-1/</td><td>flight_stations_weather_all_cleaned2DownSample2-1/</td><td>0</td><td>1722445509000</td></tr><tr><td>wasbs://final-project-summer24-team3@summer2024team3.blob.core.windows.net/TP/flight_stations_weather_all_cleaned2DownSample3-1/</td><td>flight_stations_weather_all_cleaned2DownSample3-1/</td><td>0</td><td>1722445240000</td></tr><tr><td>wasbs://final-project-summer24-team3@summer2024team3.blob.core.windows.net/TP/flight_stations_weather_all_cleaned3/</td><td>flight_stations_weather_all_cleaned3/</td><td>0</td><td>1722596532000</td></tr><tr><td>wasbs://final-project-summer24-team3@summer2024team3.blob.core.windows.net/TP/logbaseline_0.03_probabilities_2018_2019/</td><td>logbaseline_0.03_probabilities_2018_2019/</td><td>0</td><td>1722882689000</td></tr><tr><td>wasbs://final-project-summer24-team3@summer2024team3.blob.core.windows.net/TP/logbaseline_probabilities_2018_2019/</td><td>logbaseline_probabilities_2018_2019/</td><td>0</td><td>1722842525000</td></tr><tr><td>wasbs://final-project-summer24-team3@summer2024team3.blob.core.windows.net/TP/lr_data/</td><td>lr_data/</td><td>0</td><td>1721720411000</td></tr><tr><td>wasbs://final-project-summer24-team3@summer2024team3.blob.core.windows.net/TP/mlpipe.png</td><td>mlpipe.png</td><td>44394</td><td>1720753556000</td></tr><tr><td>wasbs://final-project-summer24-team3@summer2024team3.blob.core.windows.net/TP/nn_model1/</td><td>nn_model1/</td><td>0</td><td>1722819918000</td></tr><tr><td>wasbs://final-project-summer24-team3@summer2024team3.blob.core.windows.net/TP/nn_model2/</td><td>nn_model2/</td><td>0</td><td>1722819888000</td></tr><tr><td>wasbs://final-project-summer24-team3@summer2024team3.blob.core.windows.net/TP/nn_model3/</td><td>nn_model3/</td><td>0</td><td>1722819879000</td></tr><tr><td>wasbs://final-project-summer24-team3@summer2024team3.blob.core.windows.net/TP/nn_model4/</td><td>nn_model4/</td><td>0</td><td>1722819872000</td></tr><tr><td>wasbs://final-project-summer24-team3@summer2024team3.blob.core.windows.net/TP/nn_model5/</td><td>nn_model5/</td><td>0</td><td>1722819813000</td></tr><tr><td>wasbs://final-project-summer24-team3@summer2024team3.blob.core.windows.net/TP/nn_preds_test1/</td><td>nn_preds_test1/</td><td>0</td><td>1722721986000</td></tr><tr><td>wasbs://final-project-summer24-team3@summer2024team3.blob.core.windows.net/TP/nn_preds_test2/</td><td>nn_preds_test2/</td><td>0</td><td>1722771326000</td></tr><tr><td>wasbs://final-project-summer24-team3@summer2024team3.blob.core.windows.net/TP/nn_preds_test3/</td><td>nn_preds_test3/</td><td>0</td><td>1722778571000</td></tr><tr><td>wasbs://final-project-summer24-team3@summer2024team3.blob.core.windows.net/TP/nn_preds_test4/</td><td>nn_preds_test4/</td><td>0</td><td>1722791190000</td></tr><tr><td>wasbs://final-project-summer24-team3@summer2024team3.blob.core.windows.net/TP/nn_preds_test5/</td><td>nn_preds_test5/</td><td>0</td><td>1722818460000</td></tr><tr><td>wasbs://final-project-summer24-team3@summer2024team3.blob.core.windows.net/TP/nn_preds_val1/</td><td>nn_preds_val1/</td><td>0</td><td>1722721834000</td></tr><tr><td>wasbs://final-project-summer24-team3@summer2024team3.blob.core.windows.net/TP/nn_preds_val2/</td><td>nn_preds_val2/</td><td>0</td><td>1722771147000</td></tr><tr><td>wasbs://final-project-summer24-team3@summer2024team3.blob.core.windows.net/TP/nn_preds_val3/</td><td>nn_preds_val3/</td><td>0</td><td>1722778422000</td></tr><tr><td>wasbs://final-project-summer24-team3@summer2024team3.blob.core.windows.net/TP/nn_preds_val4/</td><td>nn_preds_val4/</td><td>0</td><td>1722790886000</td></tr><tr><td>wasbs://final-project-summer24-team3@summer2024team3.blob.core.windows.net/TP/nn_preds_val5/</td><td>nn_preds_val5/</td><td>0</td><td>1722818080000</td></tr><tr><td>wasbs://final-project-summer24-team3@summer2024team3.blob.core.windows.net/TP/part-00000-tid-5669257934384103852-091b7fb5-c969-4ffb-8606-1028f66fa60c-49-1-c000.snappy.parquet</td><td>part-00000-tid-5669257934384103852-091b7fb5-c969-4ffb-8606-1028f66fa60c-49-1-c000.snappy.parquet</td><td>14493</td><td>1720561571000</td></tr><tr><td>wasbs://final-project-summer24-team3@summer2024team3.blob.core.windows.net/TP/sham_cp/</td><td>sham_cp/</td><td>0</td><td>1722965113000</td></tr><tr><td>wasbs://final-project-summer24-team3@summer2024team3.blob.core.windows.net/TP/xgboost_10_1_1/</td><td>xgboost_10_1_1/</td><td>0</td><td>1722923230000</td></tr><tr><td>wasbs://final-project-summer24-team3@summer2024team3.blob.core.windows.net/TP/xgboost_fbeta_recall/</td><td>xgboost_fbeta_recall/</td><td>0</td><td>1722923744000</td></tr><tr><td>wasbs://final-project-summer24-team3@summer2024team3.blob.core.windows.net/TP/xgboost_param_tuning/</td><td>xgboost_param_tuning/</td><td>0</td><td>1722896255000</td></tr><tr><td>wasbs://final-project-summer24-team3@summer2024team3.blob.core.windows.net/TP/xgboost_precision/</td><td>xgboost_precision/</td><td>0</td><td>1722924069000</td></tr></tbody></table></div>"
      ]
     },
     "metadata": {
      "application/vnd.databricks.v1+output": {
       "addedWidgets": {},
       "aggData": [],
       "aggError": "",
       "aggOverflow": false,
       "aggSchema": [],
       "aggSeriesLimitReached": false,
       "aggType": "",
       "arguments": {},
       "columnCustomDisplayInfos": {},
       "data": [
        [
         "wasbs://final-project-summer24-team3@summer2024team3.blob.core.windows.net/TP/_SUCCESS",
         "_SUCCESS",
         0,
         1720561571000
        ],
        [
         "wasbs://final-project-summer24-team3@summer2024team3.blob.core.windows.net/TP/_committed_1002670972388615845",
         "_committed_1002670972388615845",
         625,
         1720560531000
        ],
        [
         "wasbs://final-project-summer24-team3@summer2024team3.blob.core.windows.net/TP/_committed_5669257934384103852",
         "_committed_5669257934384103852",
         221,
         1720561571000
        ],
        [
         "wasbs://final-project-summer24-team3@summer2024team3.blob.core.windows.net/TP/_committed_6618439955609603938",
         "_committed_6618439955609603938",
         419,
         1720561337000
        ],
        [
         "wasbs://final-project-summer24-team3@summer2024team3.blob.core.windows.net/TP/_committed_9167039456723159873",
         "_committed_9167039456723159873",
         318,
         1720559468000
        ],
        [
         "wasbs://final-project-summer24-team3@summer2024team3.blob.core.windows.net/TP/_committed_vacuum825530481471543349",
         "_committed_vacuum825530481471543349",
         95,
         1720561338000
        ],
        [
         "wasbs://final-project-summer24-team3@summer2024team3.blob.core.windows.net/TP/_started_1002670972388615845",
         "_started_1002670972388615845",
         0,
         1720560531000
        ],
        [
         "wasbs://final-project-summer24-team3@summer2024team3.blob.core.windows.net/TP/_started_5669257934384103852",
         "_started_5669257934384103852",
         0,
         1720561570000
        ],
        [
         "wasbs://final-project-summer24-team3@summer2024team3.blob.core.windows.net/TP/_started_6618439955609603938",
         "_started_6618439955609603938",
         0,
         1720561337000
        ],
        [
         "wasbs://final-project-summer24-team3@summer2024team3.blob.core.windows.net/TP/df_1y_cleaned_transformed/",
         "df_1y_cleaned_transformed/",
         0,
         1722046865000
        ],
        [
         "wasbs://final-project-summer24-team3@summer2024team3.blob.core.windows.net/TP/df_clean_transformed_ian/",
         "df_clean_transformed_ian/",
         0,
         1722887351000
        ],
        [
         "wasbs://final-project-summer24-team3@summer2024team3.blob.core.windows.net/TP/flat-ui__data.csv",
         "flat-ui__data.csv",
         5491822,
         1720877593000
        ],
        [
         "wasbs://final-project-summer24-team3@summer2024team3.blob.core.windows.net/TP/flight_stations_weather_1y/",
         "flight_stations_weather_1y/",
         0,
         1721986685000
        ],
        [
         "wasbs://final-project-summer24-team3@summer2024team3.blob.core.windows.net/TP/flight_stations_weather_1y_cleaned/",
         "flight_stations_weather_1y_cleaned/",
         0,
         1722318047000
        ],
        [
         "wasbs://final-project-summer24-team3@summer2024team3.blob.core.windows.net/TP/flight_stations_weather_1y_cleaned2/",
         "flight_stations_weather_1y_cleaned2/",
         0,
         1722328427000
        ],
        [
         "wasbs://final-project-summer24-team3@summer2024team3.blob.core.windows.net/TP/flight_stations_weather_1y_cleaned2DownSample1-1/",
         "flight_stations_weather_1y_cleaned2DownSample1-1/",
         0,
         1722533565000
        ],
        [
         "wasbs://final-project-summer24-team3@summer2024team3.blob.core.windows.net/TP/flight_stations_weather_1y_cleaned2DownSample2-1/",
         "flight_stations_weather_1y_cleaned2DownSample2-1/",
         0,
         1722445568000
        ],
        [
         "wasbs://final-project-summer24-team3@summer2024team3.blob.core.windows.net/TP/flight_stations_weather_1y_cleaned2DownSample3-1/",
         "flight_stations_weather_1y_cleaned2DownSample3-1/",
         0,
         1722445041000
        ],
        [
         "wasbs://final-project-summer24-team3@summer2024team3.blob.core.windows.net/TP/flight_stations_weather_3m/",
         "flight_stations_weather_3m/",
         0,
         1721983865000
        ],
        [
         "wasbs://final-project-summer24-team3@summer2024team3.blob.core.windows.net/TP/flight_stations_weather_3m_cleaned/",
         "flight_stations_weather_3m_cleaned/",
         0,
         1722317090000
        ],
        [
         "wasbs://final-project-summer24-team3@summer2024team3.blob.core.windows.net/TP/flight_stations_weather_3m_cleaned2/",
         "flight_stations_weather_3m_cleaned2/",
         0,
         1722329466000
        ],
        [
         "wasbs://final-project-summer24-team3@summer2024team3.blob.core.windows.net/TP/flight_stations_weather_3m_cleaned2DownSample2-1/",
         "flight_stations_weather_3m_cleaned2DownSample2-1/",
         0,
         1722445594000
        ],
        [
         "wasbs://final-project-summer24-team3@summer2024team3.blob.core.windows.net/TP/flight_stations_weather_3m_cleaned2DownSample3-1/",
         "flight_stations_weather_3m_cleaned2DownSample3-1/",
         0,
         1722444939000
        ],
        [
         "wasbs://final-project-summer24-team3@summer2024team3.blob.core.windows.net/TP/flight_stations_weather_3m_graphs/",
         "flight_stations_weather_3m_graphs/",
         0,
         1722492863000
        ],
        [
         "wasbs://final-project-summer24-team3@summer2024team3.blob.core.windows.net/TP/flight_stations_weather_all/",
         "flight_stations_weather_all/",
         0,
         1721990625000
        ],
        [
         "wasbs://final-project-summer24-team3@summer2024team3.blob.core.windows.net/TP/flight_stations_weather_all_cleaned/",
         "flight_stations_weather_all_cleaned/",
         0,
         1722328073000
        ],
        [
         "wasbs://final-project-summer24-team3@summer2024team3.blob.core.windows.net/TP/flight_stations_weather_all_cleaned2/",
         "flight_stations_weather_all_cleaned2/",
         0,
         1722329220000
        ],
        [
         "wasbs://final-project-summer24-team3@summer2024team3.blob.core.windows.net/TP/flight_stations_weather_all_cleaned2DownSample2-1/",
         "flight_stations_weather_all_cleaned2DownSample2-1/",
         0,
         1722445509000
        ],
        [
         "wasbs://final-project-summer24-team3@summer2024team3.blob.core.windows.net/TP/flight_stations_weather_all_cleaned2DownSample3-1/",
         "flight_stations_weather_all_cleaned2DownSample3-1/",
         0,
         1722445240000
        ],
        [
         "wasbs://final-project-summer24-team3@summer2024team3.blob.core.windows.net/TP/flight_stations_weather_all_cleaned3/",
         "flight_stations_weather_all_cleaned3/",
         0,
         1722596532000
        ],
        [
         "wasbs://final-project-summer24-team3@summer2024team3.blob.core.windows.net/TP/logbaseline_0.03_probabilities_2018_2019/",
         "logbaseline_0.03_probabilities_2018_2019/",
         0,
         1722882689000
        ],
        [
         "wasbs://final-project-summer24-team3@summer2024team3.blob.core.windows.net/TP/logbaseline_probabilities_2018_2019/",
         "logbaseline_probabilities_2018_2019/",
         0,
         1722842525000
        ],
        [
         "wasbs://final-project-summer24-team3@summer2024team3.blob.core.windows.net/TP/lr_data/",
         "lr_data/",
         0,
         1721720411000
        ],
        [
         "wasbs://final-project-summer24-team3@summer2024team3.blob.core.windows.net/TP/mlpipe.png",
         "mlpipe.png",
         44394,
         1720753556000
        ],
        [
         "wasbs://final-project-summer24-team3@summer2024team3.blob.core.windows.net/TP/nn_model1/",
         "nn_model1/",
         0,
         1722819918000
        ],
        [
         "wasbs://final-project-summer24-team3@summer2024team3.blob.core.windows.net/TP/nn_model2/",
         "nn_model2/",
         0,
         1722819888000
        ],
        [
         "wasbs://final-project-summer24-team3@summer2024team3.blob.core.windows.net/TP/nn_model3/",
         "nn_model3/",
         0,
         1722819879000
        ],
        [
         "wasbs://final-project-summer24-team3@summer2024team3.blob.core.windows.net/TP/nn_model4/",
         "nn_model4/",
         0,
         1722819872000
        ],
        [
         "wasbs://final-project-summer24-team3@summer2024team3.blob.core.windows.net/TP/nn_model5/",
         "nn_model5/",
         0,
         1722819813000
        ],
        [
         "wasbs://final-project-summer24-team3@summer2024team3.blob.core.windows.net/TP/nn_preds_test1/",
         "nn_preds_test1/",
         0,
         1722721986000
        ],
        [
         "wasbs://final-project-summer24-team3@summer2024team3.blob.core.windows.net/TP/nn_preds_test2/",
         "nn_preds_test2/",
         0,
         1722771326000
        ],
        [
         "wasbs://final-project-summer24-team3@summer2024team3.blob.core.windows.net/TP/nn_preds_test3/",
         "nn_preds_test3/",
         0,
         1722778571000
        ],
        [
         "wasbs://final-project-summer24-team3@summer2024team3.blob.core.windows.net/TP/nn_preds_test4/",
         "nn_preds_test4/",
         0,
         1722791190000
        ],
        [
         "wasbs://final-project-summer24-team3@summer2024team3.blob.core.windows.net/TP/nn_preds_test5/",
         "nn_preds_test5/",
         0,
         1722818460000
        ],
        [
         "wasbs://final-project-summer24-team3@summer2024team3.blob.core.windows.net/TP/nn_preds_val1/",
         "nn_preds_val1/",
         0,
         1722721834000
        ],
        [
         "wasbs://final-project-summer24-team3@summer2024team3.blob.core.windows.net/TP/nn_preds_val2/",
         "nn_preds_val2/",
         0,
         1722771147000
        ],
        [
         "wasbs://final-project-summer24-team3@summer2024team3.blob.core.windows.net/TP/nn_preds_val3/",
         "nn_preds_val3/",
         0,
         1722778422000
        ],
        [
         "wasbs://final-project-summer24-team3@summer2024team3.blob.core.windows.net/TP/nn_preds_val4/",
         "nn_preds_val4/",
         0,
         1722790886000
        ],
        [
         "wasbs://final-project-summer24-team3@summer2024team3.blob.core.windows.net/TP/nn_preds_val5/",
         "nn_preds_val5/",
         0,
         1722818080000
        ],
        [
         "wasbs://final-project-summer24-team3@summer2024team3.blob.core.windows.net/TP/part-00000-tid-5669257934384103852-091b7fb5-c969-4ffb-8606-1028f66fa60c-49-1-c000.snappy.parquet",
         "part-00000-tid-5669257934384103852-091b7fb5-c969-4ffb-8606-1028f66fa60c-49-1-c000.snappy.parquet",
         14493,
         1720561571000
        ],
        [
         "wasbs://final-project-summer24-team3@summer2024team3.blob.core.windows.net/TP/sham_cp/",
         "sham_cp/",
         0,
         1722965113000
        ],
        [
         "wasbs://final-project-summer24-team3@summer2024team3.blob.core.windows.net/TP/xgboost_10_1_1/",
         "xgboost_10_1_1/",
         0,
         1722923230000
        ],
        [
         "wasbs://final-project-summer24-team3@summer2024team3.blob.core.windows.net/TP/xgboost_fbeta_recall/",
         "xgboost_fbeta_recall/",
         0,
         1722923744000
        ],
        [
         "wasbs://final-project-summer24-team3@summer2024team3.blob.core.windows.net/TP/xgboost_param_tuning/",
         "xgboost_param_tuning/",
         0,
         1722896255000
        ],
        [
         "wasbs://final-project-summer24-team3@summer2024team3.blob.core.windows.net/TP/xgboost_precision/",
         "xgboost_precision/",
         0,
         1722924069000
        ]
       ],
       "datasetInfos": [],
       "dbfsResultPath": null,
       "isJsonSchema": true,
       "metadata": {},
       "overflow": false,
       "plotOptions": {
        "customPlotOptions": {},
        "displayType": "table",
        "pivotAggregation": null,
        "pivotColumns": null,
        "xColumns": null,
        "yColumns": null
       },
       "removedWidgets": [],
       "schema": [
        {
         "metadata": "{}",
         "name": "path",
         "type": "\"string\""
        },
        {
         "metadata": "{}",
         "name": "name",
         "type": "\"string\""
        },
        {
         "metadata": "{}",
         "name": "size",
         "type": "\"long\""
        },
        {
         "metadata": "{}",
         "name": "modificationTime",
         "type": "\"long\""
        }
       ],
       "type": "table"
      }
     },
     "output_type": "display_data"
    }
   ],
   "source": [
    "display(dbutils.fs.ls(f\"{data_BASE_DIR}\"))"
   ]
  },
  {
   "cell_type": "code",
   "execution_count": 0,
   "metadata": {
    "application/vnd.databricks.v1+cell": {
     "cellMetadata": {
      "byteLimit": 2048000,
      "rowLimit": 10000
     },
     "inputWidgets": {},
     "nuid": "fa2e3d05-a4a4-4b02-9552-400141c85543",
     "showTitle": false,
     "title": ""
    }
   },
   "outputs": [],
   "source": [
    "# Load clean data    \n",
    "df = spark.read.parquet(f\"{data_BASE_DIR}/flight_stations_weather_all_cleaned3/\")\n",
    "\n",
    "# Drop the HourlyPrecipitation column (was causing issues with the saving as Parquet file)\n",
    "# df_1y_cleaned = df_1y_cleaned.drop(\"HourlyPrecipitation\")\n",
    "# df_1y_cleaned = df_1y_cleaned.orderBy(col(\"FL_DATE\").asc(), col(\"CRS_DEP_TIME\").asc())\n",
    "# display(df_1y_cleaned)"
   ]
  },
  {
   "cell_type": "code",
   "execution_count": 0,
   "metadata": {
    "application/vnd.databricks.v1+cell": {
     "cellMetadata": {
      "byteLimit": 2048000,
      "rowLimit": 10000
     },
     "inputWidgets": {},
     "nuid": "35d9e78d-b4f5-4d8b-b818-d4c63778edc2",
     "showTitle": false,
     "title": ""
    }
   },
   "outputs": [
    {
     "output_type": "stream",
     "name": "stdout",
     "output_type": "stream",
     "text": [
      "+----+-------+\n|YEAR|  count|\n+----+-------+\n|2016|2741210|\n|2015|2895703|\n|2017|2808936|\n|2018|3607369|\n|2019|7270542|\n+----+-------+\n\n"
     ]
    }
   ],
   "source": [
    "df.groupBy(\"YEAR\").count().show()"
   ]
  },
  {
   "cell_type": "code",
   "execution_count": 0,
   "metadata": {
    "application/vnd.databricks.v1+cell": {
     "cellMetadata": {
      "byteLimit": 2048000,
      "rowLimit": 10000
     },
     "inputWidgets": {},
     "nuid": "68c1d811-ccc2-4549-8444-e4aee50954e9",
     "showTitle": false,
     "title": ""
    }
   },
   "outputs": [],
   "source": [
    "#df_train_3m = merged_3m.filter(col(\"MONTH\").isin(1,2))\n",
    "#df_test_3m = merged_3m.filter(col(\"MONTH\") == 3)\n",
    "#df_train_1y = merged_1y.filter(col('QUARTER').isin(1, 2, 3))\n",
    "#df_test_1y = merged_1y.filter(col('QUARTER').isin(4))\n",
    "\n",
    "df_train = df.filter(col(\"YEAR\").isin(\"2015\", \"2016\", \"2017\"))\n",
    "# Hold out 2018 for model blending \n",
    "df_val = df.filter(col(\"YEAR\").isin(\"2018\"))\n",
    "df_test = df.filter(col(\"YEAR\").isin(\"2019\"))"
   ]
  },
  {
   "cell_type": "code",
   "execution_count": 0,
   "metadata": {
    "application/vnd.databricks.v1+cell": {
     "cellMetadata": {
      "byteLimit": 2048000,
      "rowLimit": 10000
     },
     "inputWidgets": {},
     "nuid": "43a37a97-4257-4154-a2a4-5a99b84ddc5a",
     "showTitle": false,
     "title": ""
    }
   },
   "outputs": [
    {
     "output_type": "display_data",
     "data": {
      "text/html": [
       "<style scoped>\n",
       "  .table-result-container {\n",
       "    max-height: 300px;\n",
       "    overflow: auto;\n",
       "  }\n",
       "  table, th, td {\n",
       "    border: 1px solid black;\n",
       "    border-collapse: collapse;\n",
       "  }\n",
       "  th, td {\n",
       "    padding: 5px;\n",
       "  }\n",
       "  th {\n",
       "    text-align: left;\n",
       "  }\n",
       "</style><div class='table-result-container'><table class='table-result'><thead style='background-color: white'><tr><th>index</th><th>MONTH</th><th>DAY_OF_WEEK</th><th>OP_CARRIER</th><th>ORIGIN_AIRPORT_ID</th><th>CRS_DEP_TIME</th><th>DISTANCE</th><th>DEP_DEL15</th><th>QUARTER</th><th>DEP_DELAY</th><th>DEST_AIRPORT_ID</th><th>FL_DATE</th><th>TAIL_NUM</th><th>ARR_TIME</th><th>ARR_DELAY</th><th>ARR_DEL15</th><th>CANCELLED</th><th>type</th><th>ELEVATION</th><th>HourlyAltimeterSetting</th><th>HourlyDryBulbTemperature</th><th>HourlyPrecipitation</th><th>HourlyRelativeHumidity</th><th>HourlySkyConditions</th><th>HourlySeaLevelPressure</th><th>HourlyVisibility</th><th>HourlyWindDirection</th><th>HourlyWindSpeed</th><th>HourlyPresentWeatherType</th><th>HOUR</th><th>MONTH_indexed</th><th>MONTH_vec</th><th>DAY_OF_WEEK_indexed</th><th>DAY_OF_WEEK_vec</th><th>OP_CARRIER_indexed</th><th>OP_CARRIER_vec</th><th>ORIGIN_AIRPORT_ID_indexed</th><th>ORIGIN_AIRPORT_ID_vec</th><th>HOUR_indexed</th><th>HOUR_vec</th><th>type_indexed</th><th>type_vec</th><th>HourlySkyConditions_vec</th><th>HourlyPresentWeatherType_vec</th><th>Rain</th><th>Snow</th><th>Thunder</th><th>Tornado</th><th>View Obstruction</th><th>MONTH_1</th><th>MONTH_2</th><th>MONTH_3</th><th>MONTH_4</th><th>MONTH_5</th><th>MONTH_6</th><th>MONTH_7</th><th>MONTH_8</th><th>MONTH_9</th><th>MONTH_10</th><th>MONTH_11</th><th>MONTH_12</th><th>HOUR_00</th><th>HOUR_01</th><th>HOUR_02</th><th>HOUR_03</th><th>HOUR_04</th><th>HOUR_05</th><th>HOUR_06</th><th>HOUR_07</th><th>HOUR_08</th><th>HOUR_09</th><th>HOUR_10</th><th>HOUR_11</th><th>HOUR_12</th><th>HOUR_13</th><th>HOUR_14</th><th>HOUR_15</th><th>HOUR_16</th><th>HOUR_17</th><th>HOUR_18</th><th>HOUR_19</th><th>HOUR_20</th><th>HOUR_21</th><th>HOUR_22</th><th>HOUR_23</th><th>DAY_OF_WEEK_1</th><th>DAY_OF_WEEK_2</th><th>DAY_OF_WEEK_3</th><th>DAY_OF_WEEK_4</th><th>DAY_OF_WEEK_5</th><th>DAY_OF_WEEK_6</th><th>DAY_OF_WEEK_7</th><th>OP_CARRIER_9E</th><th>OP_CARRIER_AA</th><th>OP_CARRIER_AS</th><th>OP_CARRIER_B6</th><th>OP_CARRIER_DL</th><th>OP_CARRIER_EV</th><th>OP_CARRIER_F9</th><th>OP_CARRIER_G4</th><th>OP_CARRIER_HA</th><th>OP_CARRIER_MQ</th><th>OP_CARRIER_NK</th><th>OP_CARRIER_OH</th><th>OP_CARRIER_OO</th><th>OP_CARRIER_QX</th><th>OP_CARRIER_UA</th><th>OP_CARRIER_US</th><th>OP_CARRIER_VX</th><th>OP_CARRIER_WN</th><th>OP_CARRIER_YV</th><th>OP_CARRIER_YX</th><th>type_large_airport</th><th>type_medium_airport</th><th>type_seaplane_base</th><th>type_small_airport</th><th>DEP_12hr</th><th>DEP_6hr</th><th>DEP_4hr</th><th>DISTANCE_LAG</th><th>REALIZED_DELAY_MIN</th><th>REALIZED_DEL15</th><th>HOLIDAY</th><th>OUTDEG_AIRPORT_6hr</th><th>YEAR</th></tr></thead><tbody><tr><td>0</td><td>1</td><td>4</td><td>AS</td><td>14747</td><td>25</td><td>1448.0</td><td>0.0</td><td>1</td><td>-1.0</td><td>10299</td><td>2015-01-01</td><td>N527AS</td><td>259</td><td>-21.0</td><td>0.0</td><td>0.0</td><td>large_airport</td><td>0.0</td><td>0.0</td><td>0.0</td><td>0.0</td><td>0.0</td><td>null</td><td>0.0</td><td>0.0</td><td>0.0</td><td>0.0</td><td>null</td><td>00</td><td>6.0</td><td>Map(vectorType -> sparse, length -> 11, indices -> List(6), values -> List(1.0))</td><td>2.0</td><td>Map(vectorType -> sparse, length -> 6, indices -> List(2), values -> List(1.0))</td><td>8.0</td><td>Map(vectorType -> sparse, length -> 19, indices -> List(8), values -> List(1.0))</td><td>10.0</td><td>Map(vectorType -> sparse, length -> 372, indices -> List(10), values -> List(1.0))</td><td>19.0</td><td>Map(vectorType -> sparse, length -> 23, indices -> List(19), values -> List(1.0))</td><td>0.0</td><td>Map(vectorType -> sparse, length -> 3, indices -> List(0), values -> List(1.0))</td><td>null</td><td>null</td><td>0</td><td>0</td><td>0</td><td>0</td><td>0</td><td>1</td><td>0</td><td>0</td><td>0</td><td>0</td><td>0</td><td>0</td><td>0</td><td>0</td><td>0</td><td>0</td><td>0</td><td>1</td><td>0</td><td>0</td><td>0</td><td>0</td><td>0</td><td>0</td><td>0</td><td>0</td><td>0</td><td>0</td><td>0</td><td>0</td><td>0</td><td>0</td><td>0</td><td>0</td><td>0</td><td>0</td><td>0</td><td>0</td><td>0</td><td>0</td><td>0</td><td>0</td><td>0</td><td>0</td><td>1</td><td>0</td><td>0</td><td>0</td><td>0</td><td>0</td><td>1</td><td>0</td><td>0</td><td>0</td><td>0</td><td>0</td><td>0</td><td>0</td><td>0</td><td>0</td><td>0</td><td>0</td><td>0</td><td>0</td><td>0</td><td>0</td><td>0</td><td>0</td><td>1</td><td>0</td><td>0</td><td>0</td><td>0.0</td><td>0.0</td><td>0.0</td><td>null</td><td>null</td><td>0</td><td>1</td><td>0.0</td><td>2015</td></tr><tr><td>1</td><td>1</td><td>4</td><td>DL</td><td>14771</td><td>25</td><td>1589.0</td><td>0.0</td><td>1</td><td>-5.0</td><td>13487</td><td>2015-01-01</td><td>N3730B</td><td>610</td><td>8.0</td><td>0.0</td><td>0.0</td><td>large_airport</td><td>0.0</td><td>0.0</td><td>0.0</td><td>0.0</td><td>0.0</td><td>null</td><td>0.0</td><td>0.0</td><td>0.0</td><td>0.0</td><td>null</td><td>00</td><td>6.0</td><td>Map(vectorType -> sparse, length -> 11, indices -> List(6), values -> List(1.0))</td><td>2.0</td><td>Map(vectorType -> sparse, length -> 6, indices -> List(2), values -> List(1.0))</td><td>1.0</td><td>Map(vectorType -> sparse, length -> 19, indices -> List(1), values -> List(1.0))</td><td>7.0</td><td>Map(vectorType -> sparse, length -> 372, indices -> List(7), values -> List(1.0))</td><td>19.0</td><td>Map(vectorType -> sparse, length -> 23, indices -> List(19), values -> List(1.0))</td><td>0.0</td><td>Map(vectorType -> sparse, length -> 3, indices -> List(0), values -> List(1.0))</td><td>null</td><td>null</td><td>0</td><td>0</td><td>0</td><td>0</td><td>0</td><td>1</td><td>0</td><td>0</td><td>0</td><td>0</td><td>0</td><td>0</td><td>0</td><td>0</td><td>0</td><td>0</td><td>0</td><td>1</td><td>0</td><td>0</td><td>0</td><td>0</td><td>0</td><td>0</td><td>0</td><td>0</td><td>0</td><td>0</td><td>0</td><td>0</td><td>0</td><td>0</td><td>0</td><td>0</td><td>0</td><td>0</td><td>0</td><td>0</td><td>0</td><td>0</td><td>0</td><td>0</td><td>0</td><td>0</td><td>1</td><td>0</td><td>0</td><td>0</td><td>0</td><td>0</td><td>0</td><td>0</td><td>1</td><td>0</td><td>0</td><td>0</td><td>0</td><td>0</td><td>0</td><td>0</td><td>0</td><td>0</td><td>0</td><td>0</td><td>0</td><td>0</td><td>0</td><td>0</td><td>1</td><td>0</td><td>0</td><td>0</td><td>0.0</td><td>0.0</td><td>0.0</td><td>null</td><td>null</td><td>0</td><td>1</td><td>0.0</td><td>2015</td></tr><tr><td>2</td><td>1</td><td>4</td><td>US</td><td>12892</td><td>30</td><td>2125.0</td><td>0.0</td><td>1</td><td>14.0</td><td>11057</td><td>2015-01-01</td><td>N584UW</td><td>753</td><td>-10.0</td><td>0.0</td><td>0.0</td><td>large_airport</td><td>0.0</td><td>0.0</td><td>0.0</td><td>0.0</td><td>0.0</td><td>null</td><td>0.0</td><td>0.0</td><td>0.0</td><td>0.0</td><td>null</td><td>00</td><td>6.0</td><td>Map(vectorType -> sparse, length -> 11, indices -> List(6), values -> List(1.0))</td><td>2.0</td><td>Map(vectorType -> sparse, length -> 6, indices -> List(2), values -> List(1.0))</td><td>17.0</td><td>Map(vectorType -> sparse, length -> 19, indices -> List(17), values -> List(1.0))</td><td>4.0</td><td>Map(vectorType -> sparse, length -> 372, indices -> List(4), values -> List(1.0))</td><td>19.0</td><td>Map(vectorType -> sparse, length -> 23, indices -> List(19), values -> List(1.0))</td><td>0.0</td><td>Map(vectorType -> sparse, length -> 3, indices -> List(0), values -> List(1.0))</td><td>null</td><td>null</td><td>0</td><td>0</td><td>0</td><td>0</td><td>0</td><td>1</td><td>0</td><td>0</td><td>0</td><td>0</td><td>0</td><td>0</td><td>0</td><td>0</td><td>0</td><td>0</td><td>0</td><td>1</td><td>0</td><td>0</td><td>0</td><td>0</td><td>0</td><td>0</td><td>0</td><td>0</td><td>0</td><td>0</td><td>0</td><td>0</td><td>0</td><td>0</td><td>0</td><td>0</td><td>0</td><td>0</td><td>0</td><td>0</td><td>0</td><td>0</td><td>0</td><td>0</td><td>0</td><td>0</td><td>1</td><td>0</td><td>0</td><td>0</td><td>0</td><td>0</td><td>0</td><td>0</td><td>0</td><td>0</td><td>0</td><td>0</td><td>0</td><td>0</td><td>0</td><td>0</td><td>0</td><td>0</td><td>0</td><td>1</td><td>0</td><td>0</td><td>0</td><td>0</td><td>1</td><td>0</td><td>0</td><td>0</td><td>0.0</td><td>0.0</td><td>0.0</td><td>null</td><td>null</td><td>0</td><td>1</td><td>0.0</td><td>2015</td></tr><tr><td>3</td><td>1</td><td>4</td><td>DL</td><td>11292</td><td>30</td><td>1199.0</td><td>0.0</td><td>1</td><td>-6.0</td><td>10397</td><td>2015-01-01</td><td>N958DN</td><td>453</td><td>-30.0</td><td>0.0</td><td>0.0</td><td>large_airport</td><td>0.0</td><td>0.0</td><td>0.0</td><td>0.0</td><td>0.0</td><td>null</td><td>0.0</td><td>0.0</td><td>0.0</td><td>0.0</td><td>null</td><td>00</td><td>6.0</td><td>Map(vectorType -> sparse, length -> 11, indices -> List(6), values -> List(1.0))</td><td>2.0</td><td>Map(vectorType -> sparse, length -> 6, indices -> List(2), values -> List(1.0))</td><td>1.0</td><td>Map(vectorType -> sparse, length -> 19, indices -> List(1), values -> List(1.0))</td><td>3.0</td><td>Map(vectorType -> sparse, length -> 372, indices -> List(3), values -> List(1.0))</td><td>19.0</td><td>Map(vectorType -> sparse, length -> 23, indices -> List(19), values -> List(1.0))</td><td>0.0</td><td>Map(vectorType -> sparse, length -> 3, indices -> List(0), values -> List(1.0))</td><td>null</td><td>null</td><td>0</td><td>0</td><td>0</td><td>0</td><td>0</td><td>1</td><td>0</td><td>0</td><td>0</td><td>0</td><td>0</td><td>0</td><td>0</td><td>0</td><td>0</td><td>0</td><td>0</td><td>1</td><td>0</td><td>0</td><td>0</td><td>0</td><td>0</td><td>0</td><td>0</td><td>0</td><td>0</td><td>0</td><td>0</td><td>0</td><td>0</td><td>0</td><td>0</td><td>0</td><td>0</td><td>0</td><td>0</td><td>0</td><td>0</td><td>0</td><td>0</td><td>0</td><td>0</td><td>0</td><td>1</td><td>0</td><td>0</td><td>0</td><td>0</td><td>0</td><td>0</td><td>0</td><td>1</td><td>0</td><td>0</td><td>0</td><td>0</td><td>0</td><td>0</td><td>0</td><td>0</td><td>0</td><td>0</td><td>0</td><td>0</td><td>0</td><td>0</td><td>0</td><td>1</td><td>0</td><td>0</td><td>0</td><td>0.0</td><td>0.0</td><td>0.0</td><td>null</td><td>null</td><td>0</td><td>1</td><td>0.0</td><td>2015</td></tr><tr><td>4</td><td>1</td><td>4</td><td>AA</td><td>12889</td><td>35</td><td>2174.0</td><td>0.0</td><td>1</td><td>-8.0</td><td>13303</td><td>2015-01-01</td><td>N853AA</td><td>753</td><td>-10.0</td><td>0.0</td><td>0.0</td><td>large_airport</td><td>0.0</td><td>0.0</td><td>0.0</td><td>0.0</td><td>0.0</td><td>null</td><td>0.0</td><td>0.0</td><td>0.0</td><td>0.0</td><td>null</td><td>00</td><td>6.0</td><td>Map(vectorType -> sparse, length -> 11, indices -> List(6), values -> List(1.0))</td><td>2.0</td><td>Map(vectorType -> sparse, length -> 6, indices -> List(2), values -> List(1.0))</td><td>2.0</td><td>Map(vectorType -> sparse, length -> 19, indices -> List(2), values -> List(1.0))</td><td>8.0</td><td>Map(vectorType -> sparse, length -> 372, indices -> List(8), values -> List(1.0))</td><td>19.0</td><td>Map(vectorType -> sparse, length -> 23, indices -> List(19), values -> List(1.0))</td><td>0.0</td><td>Map(vectorType -> sparse, length -> 3, indices -> List(0), values -> List(1.0))</td><td>null</td><td>null</td><td>0</td><td>0</td><td>0</td><td>0</td><td>0</td><td>1</td><td>0</td><td>0</td><td>0</td><td>0</td><td>0</td><td>0</td><td>0</td><td>0</td><td>0</td><td>0</td><td>0</td><td>1</td><td>0</td><td>0</td><td>0</td><td>0</td><td>0</td><td>0</td><td>0</td><td>0</td><td>0</td><td>0</td><td>0</td><td>0</td><td>0</td><td>0</td><td>0</td><td>0</td><td>0</td><td>0</td><td>0</td><td>0</td><td>0</td><td>0</td><td>0</td><td>0</td><td>0</td><td>0</td><td>1</td><td>0</td><td>0</td><td>0</td><td>0</td><td>1</td><td>0</td><td>0</td><td>0</td><td>0</td><td>0</td><td>0</td><td>0</td><td>0</td><td>0</td><td>0</td><td>0</td><td>0</td><td>0</td><td>0</td><td>0</td><td>0</td><td>0</td><td>0</td><td>1</td><td>0</td><td>0</td><td>0</td><td>0.0</td><td>0.0</td><td>0.0</td><td>null</td><td>null</td><td>0</td><td>1</td><td>0.0</td><td>2015</td></tr><tr><td>5</td><td>1</td><td>4</td><td>DL</td><td>14869</td><td>40</td><td>1590.0</td><td>0.0</td><td>1</td><td>-6.0</td><td>10397</td><td>2015-01-01</td><td>N3751B</td><td>553</td><td>-22.0</td><td>0.0</td><td>0.0</td><td>large_airport</td><td>0.0</td><td>0.0</td><td>0.0</td><td>0.0</td><td>0.0</td><td>null</td><td>0.0</td><td>0.0</td><td>0.0</td><td>0.0</td><td>null</td><td>00</td><td>6.0</td><td>Map(vectorType -> sparse, length -> 11, indices -> List(6), values -> List(1.0))</td><td>2.0</td><td>Map(vectorType -> sparse, length -> 6, indices -> List(2), values -> List(1.0))</td><td>1.0</td><td>Map(vectorType -> sparse, length -> 19, indices -> List(1), values -> List(1.0))</td><td>17.0</td><td>Map(vectorType -> sparse, length -> 372, indices -> List(17), values -> List(1.0))</td><td>19.0</td><td>Map(vectorType -> sparse, length -> 23, indices -> List(19), values -> List(1.0))</td><td>0.0</td><td>Map(vectorType -> sparse, length -> 3, indices -> List(0), values -> List(1.0))</td><td>null</td><td>null</td><td>0</td><td>0</td><td>0</td><td>0</td><td>0</td><td>1</td><td>0</td><td>0</td><td>0</td><td>0</td><td>0</td><td>0</td><td>0</td><td>0</td><td>0</td><td>0</td><td>0</td><td>1</td><td>0</td><td>0</td><td>0</td><td>0</td><td>0</td><td>0</td><td>0</td><td>0</td><td>0</td><td>0</td><td>0</td><td>0</td><td>0</td><td>0</td><td>0</td><td>0</td><td>0</td><td>0</td><td>0</td><td>0</td><td>0</td><td>0</td><td>0</td><td>0</td><td>0</td><td>0</td><td>1</td><td>0</td><td>0</td><td>0</td><td>0</td><td>0</td><td>0</td><td>0</td><td>1</td><td>0</td><td>0</td><td>0</td><td>0</td><td>0</td><td>0</td><td>0</td><td>0</td><td>0</td><td>0</td><td>0</td><td>0</td><td>0</td><td>0</td><td>0</td><td>1</td><td>0</td><td>0</td><td>0</td><td>0.0</td><td>0.0</td><td>0.0</td><td>null</td><td>null</td><td>0</td><td>1</td><td>0.0</td><td>2015</td></tr><tr><td>6</td><td>1</td><td>4</td><td>DL</td><td>14747</td><td>40</td><td>1399.0</td><td>0.0</td><td>1</td><td>-1.0</td><td>13487</td><td>2015-01-01</td><td>N651DL</td><td>557</td><td>8.0</td><td>0.0</td><td>0.0</td><td>large_airport</td><td>0.0</td><td>0.0</td><td>0.0</td><td>0.0</td><td>0.0</td><td>null</td><td>0.0</td><td>0.0</td><td>0.0</td><td>0.0</td><td>null</td><td>00</td><td>6.0</td><td>Map(vectorType -> sparse, length -> 11, indices -> List(6), values -> List(1.0))</td><td>2.0</td><td>Map(vectorType -> sparse, length -> 6, indices -> List(2), values -> List(1.0))</td><td>1.0</td><td>Map(vectorType -> sparse, length -> 19, indices -> List(1), values -> List(1.0))</td><td>10.0</td><td>Map(vectorType -> sparse, length -> 372, indices -> List(10), values -> List(1.0))</td><td>19.0</td><td>Map(vectorType -> sparse, length -> 23, indices -> List(19), values -> List(1.0))</td><td>0.0</td><td>Map(vectorType -> sparse, length -> 3, indices -> List(0), values -> List(1.0))</td><td>null</td><td>null</td><td>0</td><td>0</td><td>0</td><td>0</td><td>0</td><td>1</td><td>0</td><td>0</td><td>0</td><td>0</td><td>0</td><td>0</td><td>0</td><td>0</td><td>0</td><td>0</td><td>0</td><td>1</td><td>0</td><td>0</td><td>0</td><td>0</td><td>0</td><td>0</td><td>0</td><td>0</td><td>0</td><td>0</td><td>0</td><td>0</td><td>0</td><td>0</td><td>0</td><td>0</td><td>0</td><td>0</td><td>0</td><td>0</td><td>0</td><td>0</td><td>0</td><td>0</td><td>0</td><td>0</td><td>1</td><td>0</td><td>0</td><td>0</td><td>0</td><td>0</td><td>0</td><td>0</td><td>1</td><td>0</td><td>0</td><td>0</td><td>0</td><td>0</td><td>0</td><td>0</td><td>0</td><td>0</td><td>0</td><td>0</td><td>0</td><td>0</td><td>0</td><td>0</td><td>1</td><td>0</td><td>0</td><td>0</td><td>0.0</td><td>0.0</td><td>0.0</td><td>null</td><td>null</td><td>0</td><td>1</td><td>0.0</td><td>2015</td></tr><tr><td>7</td><td>1</td><td>4</td><td>DL</td><td>10299</td><td>45</td><td>1448.0</td><td>0.0</td><td>1</td><td>-14.0</td><td>14747</td><td>2015-01-01</td><td>N3743H</td><td>451</td><td>-24.0</td><td>0.0</td><td>0.0</td><td>large_airport</td><td>0.0</td><td>0.0</td><td>0.0</td><td>0.0</td><td>0.0</td><td>null</td><td>0.0</td><td>0.0</td><td>0.0</td><td>0.0</td><td>null</td><td>00</td><td>6.0</td><td>Map(vectorType -> sparse, length -> 11, indices -> List(6), values -> List(1.0))</td><td>2.0</td><td>Map(vectorType -> sparse, length -> 6, indices -> List(2), values -> List(1.0))</td><td>1.0</td><td>Map(vectorType -> sparse, length -> 19, indices -> List(1), values -> List(1.0))</td><td>62.0</td><td>Map(vectorType -> sparse, length -> 372, indices -> List(62), values -> List(1.0))</td><td>19.0</td><td>Map(vectorType -> sparse, length -> 23, indices -> List(19), values -> List(1.0))</td><td>0.0</td><td>Map(vectorType -> sparse, length -> 3, indices -> List(0), values -> List(1.0))</td><td>null</td><td>null</td><td>0</td><td>0</td><td>0</td><td>0</td><td>0</td><td>1</td><td>0</td><td>0</td><td>0</td><td>0</td><td>0</td><td>0</td><td>0</td><td>0</td><td>0</td><td>0</td><td>0</td><td>1</td><td>0</td><td>0</td><td>0</td><td>0</td><td>0</td><td>0</td><td>0</td><td>0</td><td>0</td><td>0</td><td>0</td><td>0</td><td>0</td><td>0</td><td>0</td><td>0</td><td>0</td><td>0</td><td>0</td><td>0</td><td>0</td><td>0</td><td>0</td><td>0</td><td>0</td><td>0</td><td>1</td><td>0</td><td>0</td><td>0</td><td>0</td><td>0</td><td>0</td><td>0</td><td>1</td><td>0</td><td>0</td><td>0</td><td>0</td><td>0</td><td>0</td><td>0</td><td>0</td><td>0</td><td>0</td><td>0</td><td>0</td><td>0</td><td>0</td><td>0</td><td>1</td><td>0</td><td>0</td><td>0</td><td>0.0</td><td>0.0</td><td>0.0</td><td>null</td><td>null</td><td>0</td><td>1</td><td>0.0</td><td>2015</td></tr><tr><td>8</td><td>1</td><td>4</td><td>NK</td><td>12889</td><td>55</td><td>1139.0</td><td>1.0</td><td>1</td><td>25.0</td><td>13198</td><td>2015-01-01</td><td>N525NK</td><td>543</td><td>6.0</td><td>0.0</td><td>0.0</td><td>large_airport</td><td>0.0</td><td>0.0</td><td>0.0</td><td>0.0</td><td>0.0</td><td>null</td><td>0.0</td><td>0.0</td><td>0.0</td><td>0.0</td><td>null</td><td>00</td><td>6.0</td><td>Map(vectorType -> sparse, length -> 11, indices -> List(6), values -> List(1.0))</td><td>2.0</td><td>Map(vectorType -> sparse, length -> 6, indices -> List(2), values -> List(1.0))</td><td>10.0</td><td>Map(vectorType -> sparse, length -> 19, indices -> List(10), values -> List(1.0))</td><td>8.0</td><td>Map(vectorType -> sparse, length -> 372, indices -> List(8), values -> List(1.0))</td><td>19.0</td><td>Map(vectorType -> sparse, length -> 23, indices -> List(19), values -> List(1.0))</td><td>0.0</td><td>Map(vectorType -> sparse, length -> 3, indices -> List(0), values -> List(1.0))</td><td>null</td><td>null</td><td>0</td><td>0</td><td>0</td><td>0</td><td>0</td><td>1</td><td>0</td><td>0</td><td>0</td><td>0</td><td>0</td><td>0</td><td>0</td><td>0</td><td>0</td><td>0</td><td>0</td><td>1</td><td>0</td><td>0</td><td>0</td><td>0</td><td>0</td><td>0</td><td>0</td><td>0</td><td>0</td><td>0</td><td>0</td><td>0</td><td>0</td><td>0</td><td>0</td><td>0</td><td>0</td><td>0</td><td>0</td><td>0</td><td>0</td><td>0</td><td>0</td><td>0</td><td>0</td><td>0</td><td>1</td><td>0</td><td>0</td><td>0</td><td>0</td><td>0</td><td>0</td><td>0</td><td>0</td><td>0</td><td>0</td><td>0</td><td>0</td><td>0</td><td>1</td><td>0</td><td>0</td><td>0</td><td>0</td><td>0</td><td>0</td><td>0</td><td>0</td><td>0</td><td>1</td><td>0</td><td>0</td><td>0</td><td>0.0</td><td>0.0</td><td>0.0</td><td>null</td><td>null</td><td>0</td><td>1</td><td>0.0</td><td>2015</td></tr><tr><td>9</td><td>1</td><td>4</td><td>NK</td><td>12889</td><td>103</td><td>1055.0</td><td>0.0</td><td>1</td><td>-1.0</td><td>11298</td><td>2015-01-01</td><td>N632NK</td><td>529</td><td>-1.0</td><td>0.0</td><td>0.0</td><td>large_airport</td><td>0.0</td><td>0.0</td><td>0.0</td><td>0.0</td><td>0.0</td><td>null</td><td>0.0</td><td>0.0</td><td>0.0</td><td>0.0</td><td>null</td><td>01</td><td>6.0</td><td>Map(vectorType -> sparse, length -> 11, indices -> List(6), values -> List(1.0))</td><td>2.0</td><td>Map(vectorType -> sparse, length -> 6, indices -> List(2), values -> List(1.0))</td><td>10.0</td><td>Map(vectorType -> sparse, length -> 19, indices -> List(10), values -> List(1.0))</td><td>8.0</td><td>Map(vectorType -> sparse, length -> 372, indices -> List(8), values -> List(1.0))</td><td>20.0</td><td>Map(vectorType -> sparse, length -> 23, indices -> List(20), values -> List(1.0))</td><td>0.0</td><td>Map(vectorType -> sparse, length -> 3, indices -> List(0), values -> List(1.0))</td><td>Map(vectorType -> sparse, length -> 269, indices -> List(221), values -> List(1.0))</td><td>null</td><td>0</td><td>0</td><td>0</td><td>0</td><td>0</td><td>1</td><td>0</td><td>0</td><td>0</td><td>0</td><td>0</td><td>0</td><td>0</td><td>0</td><td>0</td><td>1</td><td>0</td><td>0</td><td>1</td><td>0</td><td>0</td><td>0</td><td>0</td><td>0</td><td>0</td><td>0</td><td>0</td><td>0</td><td>0</td><td>0</td><td>0</td><td>0</td><td>0</td><td>0</td><td>0</td><td>0</td><td>0</td><td>0</td><td>1</td><td>0</td><td>0</td><td>1</td><td>0</td><td>0</td><td>1</td><td>0</td><td>0</td><td>0</td><td>0</td><td>0</td><td>0</td><td>0</td><td>0</td><td>0</td><td>0</td><td>0</td><td>0</td><td>0</td><td>1</td><td>0</td><td>1</td><td>0</td><td>0</td><td>0</td><td>0</td><td>0</td><td>0</td><td>0</td><td>2</td><td>0</td><td>0</td><td>0</td><td>0.0</td><td>0.0</td><td>0.0</td><td>null</td><td>null</td><td>0</td><td>1</td><td>0.0</td><td>2015</td></tr></tbody></table></div>"
      ]
     },
     "metadata": {
      "application/vnd.databricks.v1+output": {
       "addedWidgets": {},
       "aggData": [],
       "aggError": "",
       "aggOverflow": false,
       "aggSchema": [],
       "aggSeriesLimitReached": false,
       "aggType": "",
       "arguments": {},
       "columnCustomDisplayInfos": {},
       "data": [
        [
         0,
         1,
         4,
         "AS",
         14747,
         25,
         1448.0,
         0.0,
         1,
         -1.0,
         10299,
         "2015-01-01",
         "N527AS",
         259,
         -21.0,
         0.0,
         0.0,
         "large_airport",
         0.0,
         0.0,
         0.0,
         0.0,
         0.0,
         null,
         0.0,
         0.0,
         0.0,
         0.0,
         null,
         "00",
         6.0,
         {
          "indices": [
           6
          ],
          "length": 11,
          "values": [
           1.0
          ],
          "vectorType": "sparse"
         },
         2.0,
         {
          "indices": [
           2
          ],
          "length": 6,
          "values": [
           1.0
          ],
          "vectorType": "sparse"
         },
         8.0,
         {
          "indices": [
           8
          ],
          "length": 19,
          "values": [
           1.0
          ],
          "vectorType": "sparse"
         },
         10.0,
         {
          "indices": [
           10
          ],
          "length": 372,
          "values": [
           1.0
          ],
          "vectorType": "sparse"
         },
         19.0,
         {
          "indices": [
           19
          ],
          "length": 23,
          "values": [
           1.0
          ],
          "vectorType": "sparse"
         },
         0.0,
         {
          "indices": [
           0
          ],
          "length": 3,
          "values": [
           1.0
          ],
          "vectorType": "sparse"
         },
         null,
         null,
         0,
         0,
         0,
         0,
         0,
         1,
         0,
         0,
         0,
         0,
         0,
         0,
         0,
         0,
         0,
         0,
         0,
         1,
         0,
         0,
         0,
         0,
         0,
         0,
         0,
         0,
         0,
         0,
         0,
         0,
         0,
         0,
         0,
         0,
         0,
         0,
         0,
         0,
         0,
         0,
         0,
         0,
         0,
         0,
         1,
         0,
         0,
         0,
         0,
         0,
         1,
         0,
         0,
         0,
         0,
         0,
         0,
         0,
         0,
         0,
         0,
         0,
         0,
         0,
         0,
         0,
         0,
         0,
         1,
         0,
         0,
         0,
         0.0,
         0.0,
         0.0,
         null,
         null,
         0,
         1,
         0.0,
         "2015"
        ],
        [
         1,
         1,
         4,
         "DL",
         14771,
         25,
         1589.0,
         0.0,
         1,
         -5.0,
         13487,
         "2015-01-01",
         "N3730B",
         610,
         8.0,
         0.0,
         0.0,
         "large_airport",
         0.0,
         0.0,
         0.0,
         0.0,
         0.0,
         null,
         0.0,
         0.0,
         0.0,
         0.0,
         null,
         "00",
         6.0,
         {
          "indices": [
           6
          ],
          "length": 11,
          "values": [
           1.0
          ],
          "vectorType": "sparse"
         },
         2.0,
         {
          "indices": [
           2
          ],
          "length": 6,
          "values": [
           1.0
          ],
          "vectorType": "sparse"
         },
         1.0,
         {
          "indices": [
           1
          ],
          "length": 19,
          "values": [
           1.0
          ],
          "vectorType": "sparse"
         },
         7.0,
         {
          "indices": [
           7
          ],
          "length": 372,
          "values": [
           1.0
          ],
          "vectorType": "sparse"
         },
         19.0,
         {
          "indices": [
           19
          ],
          "length": 23,
          "values": [
           1.0
          ],
          "vectorType": "sparse"
         },
         0.0,
         {
          "indices": [
           0
          ],
          "length": 3,
          "values": [
           1.0
          ],
          "vectorType": "sparse"
         },
         null,
         null,
         0,
         0,
         0,
         0,
         0,
         1,
         0,
         0,
         0,
         0,
         0,
         0,
         0,
         0,
         0,
         0,
         0,
         1,
         0,
         0,
         0,
         0,
         0,
         0,
         0,
         0,
         0,
         0,
         0,
         0,
         0,
         0,
         0,
         0,
         0,
         0,
         0,
         0,
         0,
         0,
         0,
         0,
         0,
         0,
         1,
         0,
         0,
         0,
         0,
         0,
         0,
         0,
         1,
         0,
         0,
         0,
         0,
         0,
         0,
         0,
         0,
         0,
         0,
         0,
         0,
         0,
         0,
         0,
         1,
         0,
         0,
         0,
         0.0,
         0.0,
         0.0,
         null,
         null,
         0,
         1,
         0.0,
         "2015"
        ],
        [
         2,
         1,
         4,
         "US",
         12892,
         30,
         2125.0,
         0.0,
         1,
         14.0,
         11057,
         "2015-01-01",
         "N584UW",
         753,
         -10.0,
         0.0,
         0.0,
         "large_airport",
         0.0,
         0.0,
         0.0,
         0.0,
         0.0,
         null,
         0.0,
         0.0,
         0.0,
         0.0,
         null,
         "00",
         6.0,
         {
          "indices": [
           6
          ],
          "length": 11,
          "values": [
           1.0
          ],
          "vectorType": "sparse"
         },
         2.0,
         {
          "indices": [
           2
          ],
          "length": 6,
          "values": [
           1.0
          ],
          "vectorType": "sparse"
         },
         17.0,
         {
          "indices": [
           17
          ],
          "length": 19,
          "values": [
           1.0
          ],
          "vectorType": "sparse"
         },
         4.0,
         {
          "indices": [
           4
          ],
          "length": 372,
          "values": [
           1.0
          ],
          "vectorType": "sparse"
         },
         19.0,
         {
          "indices": [
           19
          ],
          "length": 23,
          "values": [
           1.0
          ],
          "vectorType": "sparse"
         },
         0.0,
         {
          "indices": [
           0
          ],
          "length": 3,
          "values": [
           1.0
          ],
          "vectorType": "sparse"
         },
         null,
         null,
         0,
         0,
         0,
         0,
         0,
         1,
         0,
         0,
         0,
         0,
         0,
         0,
         0,
         0,
         0,
         0,
         0,
         1,
         0,
         0,
         0,
         0,
         0,
         0,
         0,
         0,
         0,
         0,
         0,
         0,
         0,
         0,
         0,
         0,
         0,
         0,
         0,
         0,
         0,
         0,
         0,
         0,
         0,
         0,
         1,
         0,
         0,
         0,
         0,
         0,
         0,
         0,
         0,
         0,
         0,
         0,
         0,
         0,
         0,
         0,
         0,
         0,
         0,
         1,
         0,
         0,
         0,
         0,
         1,
         0,
         0,
         0,
         0.0,
         0.0,
         0.0,
         null,
         null,
         0,
         1,
         0.0,
         "2015"
        ],
        [
         3,
         1,
         4,
         "DL",
         11292,
         30,
         1199.0,
         0.0,
         1,
         -6.0,
         10397,
         "2015-01-01",
         "N958DN",
         453,
         -30.0,
         0.0,
         0.0,
         "large_airport",
         0.0,
         0.0,
         0.0,
         0.0,
         0.0,
         null,
         0.0,
         0.0,
         0.0,
         0.0,
         null,
         "00",
         6.0,
         {
          "indices": [
           6
          ],
          "length": 11,
          "values": [
           1.0
          ],
          "vectorType": "sparse"
         },
         2.0,
         {
          "indices": [
           2
          ],
          "length": 6,
          "values": [
           1.0
          ],
          "vectorType": "sparse"
         },
         1.0,
         {
          "indices": [
           1
          ],
          "length": 19,
          "values": [
           1.0
          ],
          "vectorType": "sparse"
         },
         3.0,
         {
          "indices": [
           3
          ],
          "length": 372,
          "values": [
           1.0
          ],
          "vectorType": "sparse"
         },
         19.0,
         {
          "indices": [
           19
          ],
          "length": 23,
          "values": [
           1.0
          ],
          "vectorType": "sparse"
         },
         0.0,
         {
          "indices": [
           0
          ],
          "length": 3,
          "values": [
           1.0
          ],
          "vectorType": "sparse"
         },
         null,
         null,
         0,
         0,
         0,
         0,
         0,
         1,
         0,
         0,
         0,
         0,
         0,
         0,
         0,
         0,
         0,
         0,
         0,
         1,
         0,
         0,
         0,
         0,
         0,
         0,
         0,
         0,
         0,
         0,
         0,
         0,
         0,
         0,
         0,
         0,
         0,
         0,
         0,
         0,
         0,
         0,
         0,
         0,
         0,
         0,
         1,
         0,
         0,
         0,
         0,
         0,
         0,
         0,
         1,
         0,
         0,
         0,
         0,
         0,
         0,
         0,
         0,
         0,
         0,
         0,
         0,
         0,
         0,
         0,
         1,
         0,
         0,
         0,
         0.0,
         0.0,
         0.0,
         null,
         null,
         0,
         1,
         0.0,
         "2015"
        ],
        [
         4,
         1,
         4,
         "AA",
         12889,
         35,
         2174.0,
         0.0,
         1,
         -8.0,
         13303,
         "2015-01-01",
         "N853AA",
         753,
         -10.0,
         0.0,
         0.0,
         "large_airport",
         0.0,
         0.0,
         0.0,
         0.0,
         0.0,
         null,
         0.0,
         0.0,
         0.0,
         0.0,
         null,
         "00",
         6.0,
         {
          "indices": [
           6
          ],
          "length": 11,
          "values": [
           1.0
          ],
          "vectorType": "sparse"
         },
         2.0,
         {
          "indices": [
           2
          ],
          "length": 6,
          "values": [
           1.0
          ],
          "vectorType": "sparse"
         },
         2.0,
         {
          "indices": [
           2
          ],
          "length": 19,
          "values": [
           1.0
          ],
          "vectorType": "sparse"
         },
         8.0,
         {
          "indices": [
           8
          ],
          "length": 372,
          "values": [
           1.0
          ],
          "vectorType": "sparse"
         },
         19.0,
         {
          "indices": [
           19
          ],
          "length": 23,
          "values": [
           1.0
          ],
          "vectorType": "sparse"
         },
         0.0,
         {
          "indices": [
           0
          ],
          "length": 3,
          "values": [
           1.0
          ],
          "vectorType": "sparse"
         },
         null,
         null,
         0,
         0,
         0,
         0,
         0,
         1,
         0,
         0,
         0,
         0,
         0,
         0,
         0,
         0,
         0,
         0,
         0,
         1,
         0,
         0,
         0,
         0,
         0,
         0,
         0,
         0,
         0,
         0,
         0,
         0,
         0,
         0,
         0,
         0,
         0,
         0,
         0,
         0,
         0,
         0,
         0,
         0,
         0,
         0,
         1,
         0,
         0,
         0,
         0,
         1,
         0,
         0,
         0,
         0,
         0,
         0,
         0,
         0,
         0,
         0,
         0,
         0,
         0,
         0,
         0,
         0,
         0,
         0,
         1,
         0,
         0,
         0,
         0.0,
         0.0,
         0.0,
         null,
         null,
         0,
         1,
         0.0,
         "2015"
        ],
        [
         5,
         1,
         4,
         "DL",
         14869,
         40,
         1590.0,
         0.0,
         1,
         -6.0,
         10397,
         "2015-01-01",
         "N3751B",
         553,
         -22.0,
         0.0,
         0.0,
         "large_airport",
         0.0,
         0.0,
         0.0,
         0.0,
         0.0,
         null,
         0.0,
         0.0,
         0.0,
         0.0,
         null,
         "00",
         6.0,
         {
          "indices": [
           6
          ],
          "length": 11,
          "values": [
           1.0
          ],
          "vectorType": "sparse"
         },
         2.0,
         {
          "indices": [
           2
          ],
          "length": 6,
          "values": [
           1.0
          ],
          "vectorType": "sparse"
         },
         1.0,
         {
          "indices": [
           1
          ],
          "length": 19,
          "values": [
           1.0
          ],
          "vectorType": "sparse"
         },
         17.0,
         {
          "indices": [
           17
          ],
          "length": 372,
          "values": [
           1.0
          ],
          "vectorType": "sparse"
         },
         19.0,
         {
          "indices": [
           19
          ],
          "length": 23,
          "values": [
           1.0
          ],
          "vectorType": "sparse"
         },
         0.0,
         {
          "indices": [
           0
          ],
          "length": 3,
          "values": [
           1.0
          ],
          "vectorType": "sparse"
         },
         null,
         null,
         0,
         0,
         0,
         0,
         0,
         1,
         0,
         0,
         0,
         0,
         0,
         0,
         0,
         0,
         0,
         0,
         0,
         1,
         0,
         0,
         0,
         0,
         0,
         0,
         0,
         0,
         0,
         0,
         0,
         0,
         0,
         0,
         0,
         0,
         0,
         0,
         0,
         0,
         0,
         0,
         0,
         0,
         0,
         0,
         1,
         0,
         0,
         0,
         0,
         0,
         0,
         0,
         1,
         0,
         0,
         0,
         0,
         0,
         0,
         0,
         0,
         0,
         0,
         0,
         0,
         0,
         0,
         0,
         1,
         0,
         0,
         0,
         0.0,
         0.0,
         0.0,
         null,
         null,
         0,
         1,
         0.0,
         "2015"
        ],
        [
         6,
         1,
         4,
         "DL",
         14747,
         40,
         1399.0,
         0.0,
         1,
         -1.0,
         13487,
         "2015-01-01",
         "N651DL",
         557,
         8.0,
         0.0,
         0.0,
         "large_airport",
         0.0,
         0.0,
         0.0,
         0.0,
         0.0,
         null,
         0.0,
         0.0,
         0.0,
         0.0,
         null,
         "00",
         6.0,
         {
          "indices": [
           6
          ],
          "length": 11,
          "values": [
           1.0
          ],
          "vectorType": "sparse"
         },
         2.0,
         {
          "indices": [
           2
          ],
          "length": 6,
          "values": [
           1.0
          ],
          "vectorType": "sparse"
         },
         1.0,
         {
          "indices": [
           1
          ],
          "length": 19,
          "values": [
           1.0
          ],
          "vectorType": "sparse"
         },
         10.0,
         {
          "indices": [
           10
          ],
          "length": 372,
          "values": [
           1.0
          ],
          "vectorType": "sparse"
         },
         19.0,
         {
          "indices": [
           19
          ],
          "length": 23,
          "values": [
           1.0
          ],
          "vectorType": "sparse"
         },
         0.0,
         {
          "indices": [
           0
          ],
          "length": 3,
          "values": [
           1.0
          ],
          "vectorType": "sparse"
         },
         null,
         null,
         0,
         0,
         0,
         0,
         0,
         1,
         0,
         0,
         0,
         0,
         0,
         0,
         0,
         0,
         0,
         0,
         0,
         1,
         0,
         0,
         0,
         0,
         0,
         0,
         0,
         0,
         0,
         0,
         0,
         0,
         0,
         0,
         0,
         0,
         0,
         0,
         0,
         0,
         0,
         0,
         0,
         0,
         0,
         0,
         1,
         0,
         0,
         0,
         0,
         0,
         0,
         0,
         1,
         0,
         0,
         0,
         0,
         0,
         0,
         0,
         0,
         0,
         0,
         0,
         0,
         0,
         0,
         0,
         1,
         0,
         0,
         0,
         0.0,
         0.0,
         0.0,
         null,
         null,
         0,
         1,
         0.0,
         "2015"
        ],
        [
         7,
         1,
         4,
         "DL",
         10299,
         45,
         1448.0,
         0.0,
         1,
         -14.0,
         14747,
         "2015-01-01",
         "N3743H",
         451,
         -24.0,
         0.0,
         0.0,
         "large_airport",
         0.0,
         0.0,
         0.0,
         0.0,
         0.0,
         null,
         0.0,
         0.0,
         0.0,
         0.0,
         null,
         "00",
         6.0,
         {
          "indices": [
           6
          ],
          "length": 11,
          "values": [
           1.0
          ],
          "vectorType": "sparse"
         },
         2.0,
         {
          "indices": [
           2
          ],
          "length": 6,
          "values": [
           1.0
          ],
          "vectorType": "sparse"
         },
         1.0,
         {
          "indices": [
           1
          ],
          "length": 19,
          "values": [
           1.0
          ],
          "vectorType": "sparse"
         },
         62.0,
         {
          "indices": [
           62
          ],
          "length": 372,
          "values": [
           1.0
          ],
          "vectorType": "sparse"
         },
         19.0,
         {
          "indices": [
           19
          ],
          "length": 23,
          "values": [
           1.0
          ],
          "vectorType": "sparse"
         },
         0.0,
         {
          "indices": [
           0
          ],
          "length": 3,
          "values": [
           1.0
          ],
          "vectorType": "sparse"
         },
         null,
         null,
         0,
         0,
         0,
         0,
         0,
         1,
         0,
         0,
         0,
         0,
         0,
         0,
         0,
         0,
         0,
         0,
         0,
         1,
         0,
         0,
         0,
         0,
         0,
         0,
         0,
         0,
         0,
         0,
         0,
         0,
         0,
         0,
         0,
         0,
         0,
         0,
         0,
         0,
         0,
         0,
         0,
         0,
         0,
         0,
         1,
         0,
         0,
         0,
         0,
         0,
         0,
         0,
         1,
         0,
         0,
         0,
         0,
         0,
         0,
         0,
         0,
         0,
         0,
         0,
         0,
         0,
         0,
         0,
         1,
         0,
         0,
         0,
         0.0,
         0.0,
         0.0,
         null,
         null,
         0,
         1,
         0.0,
         "2015"
        ],
        [
         8,
         1,
         4,
         "NK",
         12889,
         55,
         1139.0,
         1.0,
         1,
         25.0,
         13198,
         "2015-01-01",
         "N525NK",
         543,
         6.0,
         0.0,
         0.0,
         "large_airport",
         0.0,
         0.0,
         0.0,
         0.0,
         0.0,
         null,
         0.0,
         0.0,
         0.0,
         0.0,
         null,
         "00",
         6.0,
         {
          "indices": [
           6
          ],
          "length": 11,
          "values": [
           1.0
          ],
          "vectorType": "sparse"
         },
         2.0,
         {
          "indices": [
           2
          ],
          "length": 6,
          "values": [
           1.0
          ],
          "vectorType": "sparse"
         },
         10.0,
         {
          "indices": [
           10
          ],
          "length": 19,
          "values": [
           1.0
          ],
          "vectorType": "sparse"
         },
         8.0,
         {
          "indices": [
           8
          ],
          "length": 372,
          "values": [
           1.0
          ],
          "vectorType": "sparse"
         },
         19.0,
         {
          "indices": [
           19
          ],
          "length": 23,
          "values": [
           1.0
          ],
          "vectorType": "sparse"
         },
         0.0,
         {
          "indices": [
           0
          ],
          "length": 3,
          "values": [
           1.0
          ],
          "vectorType": "sparse"
         },
         null,
         null,
         0,
         0,
         0,
         0,
         0,
         1,
         0,
         0,
         0,
         0,
         0,
         0,
         0,
         0,
         0,
         0,
         0,
         1,
         0,
         0,
         0,
         0,
         0,
         0,
         0,
         0,
         0,
         0,
         0,
         0,
         0,
         0,
         0,
         0,
         0,
         0,
         0,
         0,
         0,
         0,
         0,
         0,
         0,
         0,
         1,
         0,
         0,
         0,
         0,
         0,
         0,
         0,
         0,
         0,
         0,
         0,
         0,
         0,
         1,
         0,
         0,
         0,
         0,
         0,
         0,
         0,
         0,
         0,
         1,
         0,
         0,
         0,
         0.0,
         0.0,
         0.0,
         null,
         null,
         0,
         1,
         0.0,
         "2015"
        ],
        [
         9,
         1,
         4,
         "NK",
         12889,
         103,
         1055.0,
         0.0,
         1,
         -1.0,
         11298,
         "2015-01-01",
         "N632NK",
         529,
         -1.0,
         0.0,
         0.0,
         "large_airport",
         0.0,
         0.0,
         0.0,
         0.0,
         0.0,
         null,
         0.0,
         0.0,
         0.0,
         0.0,
         null,
         "01",
         6.0,
         {
          "indices": [
           6
          ],
          "length": 11,
          "values": [
           1.0
          ],
          "vectorType": "sparse"
         },
         2.0,
         {
          "indices": [
           2
          ],
          "length": 6,
          "values": [
           1.0
          ],
          "vectorType": "sparse"
         },
         10.0,
         {
          "indices": [
           10
          ],
          "length": 19,
          "values": [
           1.0
          ],
          "vectorType": "sparse"
         },
         8.0,
         {
          "indices": [
           8
          ],
          "length": 372,
          "values": [
           1.0
          ],
          "vectorType": "sparse"
         },
         20.0,
         {
          "indices": [
           20
          ],
          "length": 23,
          "values": [
           1.0
          ],
          "vectorType": "sparse"
         },
         0.0,
         {
          "indices": [
           0
          ],
          "length": 3,
          "values": [
           1.0
          ],
          "vectorType": "sparse"
         },
         {
          "indices": [
           221
          ],
          "length": 269,
          "values": [
           1.0
          ],
          "vectorType": "sparse"
         },
         null,
         0,
         0,
         0,
         0,
         0,
         1,
         0,
         0,
         0,
         0,
         0,
         0,
         0,
         0,
         0,
         1,
         0,
         0,
         1,
         0,
         0,
         0,
         0,
         0,
         0,
         0,
         0,
         0,
         0,
         0,
         0,
         0,
         0,
         0,
         0,
         0,
         0,
         0,
         1,
         0,
         0,
         1,
         0,
         0,
         1,
         0,
         0,
         0,
         0,
         0,
         0,
         0,
         0,
         0,
         0,
         0,
         0,
         0,
         1,
         0,
         1,
         0,
         0,
         0,
         0,
         0,
         0,
         0,
         2,
         0,
         0,
         0,
         0.0,
         0.0,
         0.0,
         null,
         null,
         0,
         1,
         0.0,
         "2015"
        ]
       ],
       "datasetInfos": [],
       "dbfsResultPath": null,
       "isJsonSchema": true,
       "metadata": {},
       "overflow": false,
       "plotOptions": {
        "customPlotOptions": {},
        "displayType": "table",
        "pivotAggregation": null,
        "pivotColumns": null,
        "xColumns": null,
        "yColumns": null
       },
       "removedWidgets": [],
       "schema": [
        {
         "metadata": "{}",
         "name": "index",
         "type": "\"integer\""
        },
        {
         "metadata": "{}",
         "name": "MONTH",
         "type": "\"integer\""
        },
        {
         "metadata": "{}",
         "name": "DAY_OF_WEEK",
         "type": "\"integer\""
        },
        {
         "metadata": "{}",
         "name": "OP_CARRIER",
         "type": "\"string\""
        },
        {
         "metadata": "{}",
         "name": "ORIGIN_AIRPORT_ID",
         "type": "\"integer\""
        },
        {
         "metadata": "{}",
         "name": "CRS_DEP_TIME",
         "type": "\"integer\""
        },
        {
         "metadata": "{}",
         "name": "DISTANCE",
         "type": "\"double\""
        },
        {
         "metadata": "{}",
         "name": "DEP_DEL15",
         "type": "\"double\""
        },
        {
         "metadata": "{}",
         "name": "QUARTER",
         "type": "\"integer\""
        },
        {
         "metadata": "{}",
         "name": "DEP_DELAY",
         "type": "\"double\""
        },
        {
         "metadata": "{}",
         "name": "DEST_AIRPORT_ID",
         "type": "\"integer\""
        },
        {
         "metadata": "{}",
         "name": "FL_DATE",
         "type": "\"string\""
        },
        {
         "metadata": "{}",
         "name": "TAIL_NUM",
         "type": "\"string\""
        },
        {
         "metadata": "{}",
         "name": "ARR_TIME",
         "type": "\"integer\""
        },
        {
         "metadata": "{}",
         "name": "ARR_DELAY",
         "type": "\"double\""
        },
        {
         "metadata": "{}",
         "name": "ARR_DEL15",
         "type": "\"double\""
        },
        {
         "metadata": "{}",
         "name": "CANCELLED",
         "type": "\"double\""
        },
        {
         "metadata": "{}",
         "name": "type",
         "type": "\"string\""
        },
        {
         "metadata": "{}",
         "name": "ELEVATION",
         "type": "\"float\""
        },
        {
         "metadata": "{}",
         "name": "HourlyAltimeterSetting",
         "type": "\"float\""
        },
        {
         "metadata": "{}",
         "name": "HourlyDryBulbTemperature",
         "type": "\"float\""
        },
        {
         "metadata": "{}",
         "name": "HourlyPrecipitation",
         "type": "\"float\""
        },
        {
         "metadata": "{}",
         "name": "HourlyRelativeHumidity",
         "type": "\"float\""
        },
        {
         "metadata": "{}",
         "name": "HourlySkyConditions",
         "type": "\"string\""
        },
        {
         "metadata": "{}",
         "name": "HourlySeaLevelPressure",
         "type": "\"float\""
        },
        {
         "metadata": "{}",
         "name": "HourlyVisibility",
         "type": "\"float\""
        },
        {
         "metadata": "{}",
         "name": "HourlyWindDirection",
         "type": "\"float\""
        },
        {
         "metadata": "{}",
         "name": "HourlyWindSpeed",
         "type": "\"float\""
        },
        {
         "metadata": "{}",
         "name": "HourlyPresentWeatherType",
         "type": "\"string\""
        },
        {
         "metadata": "{}",
         "name": "HOUR",
         "type": "\"string\""
        },
        {
         "metadata": "{\"ml_attr\":{\"vals\":[\"3\",\"8\",\"7\",\"10\",\"12\",\"6\",\"1\",\"11\",\"9\",\"5\",\"4\",\"2\"],\"type\":\"nominal\",\"name\":\"MONTH_indexed\"}}",
         "name": "MONTH_indexed",
         "type": "\"double\""
        },
        {
         "metadata": "{\"ml_attr\":{\"attrs\":{\"binary\":[{\"idx\":0,\"name\":\"3\"},{\"idx\":1,\"name\":\"8\"},{\"idx\":2,\"name\":\"7\"},{\"idx\":3,\"name\":\"10\"},{\"idx\":4,\"name\":\"12\"},{\"idx\":5,\"name\":\"6\"},{\"idx\":6,\"name\":\"1\"},{\"idx\":7,\"name\":\"11\"},{\"idx\":8,\"name\":\"9\"},{\"idx\":9,\"name\":\"5\"},{\"idx\":10,\"name\":\"4\"}]},\"num_attrs\":11}}",
         "name": "MONTH_vec",
         "type": "{\"type\":\"udt\",\"class\":\"org.apache.spark.ml.linalg.VectorUDT\",\"pyClass\":\"pyspark.ml.linalg.VectorUDT\",\"sqlType\":{\"type\":\"struct\",\"fields\":[{\"name\":\"type\",\"type\":\"byte\",\"nullable\":false,\"metadata\":{}},{\"name\":\"size\",\"type\":\"integer\",\"nullable\":true,\"metadata\":{}},{\"name\":\"indices\",\"type\":{\"type\":\"array\",\"elementType\":\"integer\",\"containsNull\":false},\"nullable\":true,\"metadata\":{}},{\"name\":\"values\",\"type\":{\"type\":\"array\",\"elementType\":\"double\",\"containsNull\":false},\"nullable\":true,\"metadata\":{}}]}}"
        },
        {
         "metadata": "{\"ml_attr\":{\"vals\":[\"5\",\"1\",\"4\",\"3\",\"7\",\"2\",\"6\"],\"type\":\"nominal\",\"name\":\"DAY_OF_WEEK_indexed\"}}",
         "name": "DAY_OF_WEEK_indexed",
         "type": "\"double\""
        },
        {
         "metadata": "{\"ml_attr\":{\"attrs\":{\"binary\":[{\"idx\":0,\"name\":\"5\"},{\"idx\":1,\"name\":\"1\"},{\"idx\":2,\"name\":\"4\"},{\"idx\":3,\"name\":\"3\"},{\"idx\":4,\"name\":\"7\"},{\"idx\":5,\"name\":\"2\"}]},\"num_attrs\":6}}",
         "name": "DAY_OF_WEEK_vec",
         "type": "{\"type\":\"udt\",\"class\":\"org.apache.spark.ml.linalg.VectorUDT\",\"pyClass\":\"pyspark.ml.linalg.VectorUDT\",\"sqlType\":{\"type\":\"struct\",\"fields\":[{\"name\":\"type\",\"type\":\"byte\",\"nullable\":false,\"metadata\":{}},{\"name\":\"size\",\"type\":\"integer\",\"nullable\":true,\"metadata\":{}},{\"name\":\"indices\",\"type\":{\"type\":\"array\",\"elementType\":\"integer\",\"containsNull\":false},\"nullable\":true,\"metadata\":{}},{\"name\":\"values\",\"type\":{\"type\":\"array\",\"elementType\":\"double\",\"containsNull\":false},\"nullable\":true,\"metadata\":{}}]}}"
        },
        {
         "metadata": "{\"ml_attr\":{\"vals\":[\"WN\",\"DL\",\"AA\",\"OO\",\"UA\",\"EV\",\"B6\",\"MQ\",\"AS\",\"YX\",\"NK\",\"OH\",\"9E\",\"F9\",\"YV\",\"G4\",\"VX\",\"US\",\"QX\",\"HA\"],\"type\":\"nominal\",\"name\":\"OP_CARRIER_indexed\"}}",
         "name": "OP_CARRIER_indexed",
         "type": "\"double\""
        },
        {
         "metadata": "{\"ml_attr\":{\"attrs\":{\"binary\":[{\"idx\":0,\"name\":\"WN\"},{\"idx\":1,\"name\":\"DL\"},{\"idx\":2,\"name\":\"AA\"},{\"idx\":3,\"name\":\"OO\"},{\"idx\":4,\"name\":\"UA\"},{\"idx\":5,\"name\":\"EV\"},{\"idx\":6,\"name\":\"B6\"},{\"idx\":7,\"name\":\"MQ\"},{\"idx\":8,\"name\":\"AS\"},{\"idx\":9,\"name\":\"YX\"},{\"idx\":10,\"name\":\"NK\"},{\"idx\":11,\"name\":\"OH\"},{\"idx\":12,\"name\":\"9E\"},{\"idx\":13,\"name\":\"F9\"},{\"idx\":14,\"name\":\"YV\"},{\"idx\":15,\"name\":\"G4\"},{\"idx\":16,\"name\":\"VX\"},{\"idx\":17,\"name\":\"US\"},{\"idx\":18,\"name\":\"QX\"}]},\"num_attrs\":19}}",
         "name": "OP_CARRIER_vec",
         "type": "{\"type\":\"udt\",\"class\":\"org.apache.spark.ml.linalg.VectorUDT\",\"pyClass\":\"pyspark.ml.linalg.VectorUDT\",\"sqlType\":{\"type\":\"struct\",\"fields\":[{\"name\":\"type\",\"type\":\"byte\",\"nullable\":false,\"metadata\":{}},{\"name\":\"size\",\"type\":\"integer\",\"nullable\":true,\"metadata\":{}},{\"name\":\"indices\",\"type\":{\"type\":\"array\",\"elementType\":\"integer\",\"containsNull\":false},\"nullable\":true,\"metadata\":{}},{\"name\":\"values\",\"type\":{\"type\":\"array\",\"elementType\":\"double\",\"containsNull\":false},\"nullable\":true,\"metadata\":{}}]}}"
        },
        {
         "metadata": "{\"ml_attr\":{\"vals\":[\"10397\",\"13930\",\"11298\",\"11292\",\"12892\",\"11057\",\"14107\",\"14771\",\"12889\",\"12266\",\"14747\",\"13487\",\"11433\",\"13204\",\"10721\",\"12953\",\"11618\",\"14869\",\"12478\",\"11278\",\"10821\",\"14100\",\"11697\",\"13232\",\"14679\",\"13303\",\"15304\",\"11259\",\"10693\",\"15016\",\"14057\",\"10423\",\"12191\",\"12264\",\"14831\",\"13796\",\"13495\",\"13198\",\"14492\",\"14893\",\"14908\",\"11042\",\"12339\",\"14122\",\"14683\",\"14635\",\"11066\",\"11193\",\"13342\",\"10800\",\"12451\",\"14027\",\"10529\",\"13871\",\"13891\",\"10140\",\"10792\",\"13851\",\"10994\",\"13244\",\"14524\",\"10713\",\"10299\",\"14570\",\"15376\",\"14730\",\"13931\",\"15370\",\"10599\",\"11986\",\"14307\",\"11540\",\"12954\",\"11884\",\"14685\",\"11423\",\"15412\",\"14262\",\"12992\",\"13485\",\"11996\",\"10257\",\"14576\",\"11638\",\"13577\",\"15919\",\"14193\",\"11267\",\"11109\",\"15096\",\"12278\",\"11995\",\"14321\",\"12197\",\"13158\",\"11003\",\"14986\",\"15624\",\"12945\",\"13296\",\"10781\",\"12448\",\"12217\",\"10849\",\"14689\",\"14783\",\"10431\",\"11481\",\"11775\",\"10980\",\"14814\",\"11823\",\"14696\",\"10785\",\"14761\",\"10868\",\"12896\",\"10372\",\"10874\",\"11637\",\"11603\",\"12391\",\"13422\",\"11624\",\"11977\",\"13230\",\"12323\",\"12441\",\"15249\",\"13264\",\"14112\",\"11140\",\"12523\",\"10279\",\"14457\",\"14489\",\"14698\",\"12951\",\"14108\",\"10620\",\"13367\",\"11721\",\"10408\",\"13256\",\"14252\",\"11921\",\"11973\",\"15380\",\"11630\",\"10135\",\"10627\",\"10208\",\"10990\",\"13486\",\"11953\",\"13476\",\"11612\",\"12206\",\"14082\",\"10158\",\"10466\",\"11146\",\"11648\",\"13277\",\"10185\",\"11982\",\"14794\",\"13377\",\"11413\",\"11641\",\"11252\",\"12884\",\"14633\",\"12280\",\"10685\",\"10561\",\"11337\",\"15323\",\"15356\",\"12819\",\"10434\",\"10581\",\"13029\",\"13433\",\"10469\",\"14574\",\"13184\",\"13795\",\"13061\",\"10747\",\"12003\",\"13360\",\"11503\",\"11203\",\"11049\",\"13076\",\"11695\",\"16218\",\"13502\",\"11778\",\"10136\",\"15023\",\"12915\",\"12156\",\"14098\",\"11067\",\"14674\",\"10157\",\"11898\",\"14952\",\"14842\",\"15041\",\"10155\",\"11122\",\"10666\",\"11617\",\"11111\",\"13290\",\"11308\",\"14828\",\"12094\",\"15411\",\"12124\",\"11150\",\"14711\",\"12891\",\"15389\",\"11537\",\"15070\",\"12898\",\"14487\",\"13459\",\"15295\",\"12007\",\"14960\",\"15607\",\"14150\",\"14113\",\"12519\",\"14588\",\"10731\",\"11577\",\"10146\",\"13241\",\"15401\",\"11865\",\"14520\",\"10154\",\"10551\",\"12255\",\"13127\",\"14006\",\"14709\",\"14025\",\"11980\",\"13933\",\"12511\",\"10141\",\"11097\",\"12129\",\"10728\",\"10631\",\"14256\",\"15841\",\"11076\",\"15991\",\"10926\",\"10754\",\"11471\",\"15048\",\"13344\",\"11013\",\"12397\",\"12335\",\"10779\",\"10577\",\"12544\",\"14543\",\"14109\",\"13970\",\"13873\",\"10676\",\"11905\",\"11525\",\"10739\",\"12343\",\"11587\",\"14004\",\"10333\",\"12888\",\"12917\",\"10170\",\"10918\",\"11447\",\"11867\",\"11274\",\"12177\",\"12265\",\"10268\",\"14288\",\"11027\",\"14716\",\"13541\",\"14877\",\"14512\",\"14314\",\"10967\",\"13139\",\"15074\",\"14802\",\"12244\",\"12223\",\"11092\",\"12012\",\"11468\",\"12899\",\"14237\",\"10558\",\"13121\",\"12902\",\"15582\",\"13964\",\"14905\",\"13832\",\"11415\",\"15897\",\"14120\",\"10409\",\"15454\",\"11315\",\"14259\",\"13388\",\"14812\",\"11283\",\"11288\",\"14534\",\"11336\",\"10245\",\"14092\",\"14303\",\"11233\",\"11470\",\"10275\",\"16101\",\"10165\",\"10272\",\"12559\",\"15569\",\"12119\",\"15008\",\"11041\",\"12250\",\"11997\",\"13211\",\"11725\",\"10643\",\"13829\",\"15497\",\"13983\",\"10590\",\"10361\",\"10917\",\"12320\",\"10562\",\"10930\",\"11699\",\"15138\",\"12365\",\"10617\",\"16133\",\"11495\",\"11563\",\"15235\"],\"type\":\"nominal\",\"name\":\"ORIGIN_AIRPORT_ID_indexed\"}}",
         "name": "ORIGIN_AIRPORT_ID_indexed",
         "type": "\"double\""
        },
        {
         "metadata": "{\"ml_attr\":{\"attrs\":{\"binary\":[{\"idx\":0,\"name\":\"10397\"},{\"idx\":1,\"name\":\"13930\"},{\"idx\":2,\"name\":\"11298\"},{\"idx\":3,\"name\":\"11292\"},{\"idx\":4,\"name\":\"12892\"},{\"idx\":5,\"name\":\"11057\"},{\"idx\":6,\"name\":\"14107\"},{\"idx\":7,\"name\":\"14771\"},{\"idx\":8,\"name\":\"12889\"},{\"idx\":9,\"name\":\"12266\"},{\"idx\":10,\"name\":\"14747\"},{\"idx\":11,\"name\":\"13487\"},{\"idx\":12,\"name\":\"11433\"},{\"idx\":13,\"name\":\"13204\"},{\"idx\":14,\"name\":\"10721\"},{\"idx\":15,\"name\":\"12953\"},{\"idx\":16,\"name\":\"11618\"},{\"idx\":17,\"name\":\"14869\"},{\"idx\":18,\"name\":\"12478\"},{\"idx\":19,\"name\":\"11278\"},{\"idx\":20,\"name\":\"10821\"},{\"idx\":21,\"name\":\"14100\"},{\"idx\":22,\"name\":\"11697\"},{\"idx\":23,\"name\":\"13232\"},{\"idx\":24,\"name\":\"14679\"},{\"idx\":25,\"name\":\"13303\"},{\"idx\":26,\"name\":\"15304\"},{\"idx\":27,\"name\":\"11259\"},{\"idx\":28,\"name\":\"10693\"},{\"idx\":29,\"name\":\"15016\"},{\"idx\":30,\"name\":\"14057\"},{\"idx\":31,\"name\":\"10423\"},{\"idx\":32,\"name\":\"12191\"},{\"idx\":33,\"name\":\"12264\"},{\"idx\":34,\"name\":\"14831\"},{\"idx\":35,\"name\":\"13796\"},{\"idx\":36,\"name\":\"13495\"},{\"idx\":37,\"name\":\"13198\"},{\"idx\":38,\"name\":\"14492\"},{\"idx\":39,\"name\":\"14893\"},{\"idx\":40,\"name\":\"14908\"},{\"idx\":41,\"name\":\"11042\"},{\"idx\":42,\"name\":\"12339\"},{\"idx\":43,\"name\":\"14122\"},{\"idx\":44,\"name\":\"14683\"},{\"idx\":45,\"name\":\"14635\"},{\"idx\":46,\"name\":\"11066\"},{\"idx\":47,\"name\":\"11193\"},{\"idx\":48,\"name\":\"13342\"},{\"idx\":49,\"name\":\"10800\"},{\"idx\":50,\"name\":\"12451\"},{\"idx\":51,\"name\":\"14027\"},{\"idx\":52,\"name\":\"10529\"},{\"idx\":53,\"name\":\"13871\"},{\"idx\":54,\"name\":\"13891\"},{\"idx\":55,\"name\":\"10140\"},{\"idx\":56,\"name\":\"10792\"},{\"idx\":57,\"name\":\"13851\"},{\"idx\":58,\"name\":\"10994\"},{\"idx\":59,\"name\":\"13244\"},{\"idx\":60,\"name\":\"14524\"},{\"idx\":61,\"name\":\"10713\"},{\"idx\":62,\"name\":\"10299\"},{\"idx\":63,\"name\":\"14570\"},{\"idx\":64,\"name\":\"15376\"},{\"idx\":65,\"name\":\"14730\"},{\"idx\":66,\"name\":\"13931\"},{\"idx\":67,\"name\":\"15370\"},{\"idx\":68,\"name\":\"10599\"},{\"idx\":69,\"name\":\"11986\"},{\"idx\":70,\"name\":\"14307\"},{\"idx\":71,\"name\":\"11540\"},{\"idx\":72,\"name\":\"12954\"},{\"idx\":73,\"name\":\"11884\"},{\"idx\":74,\"name\":\"14685\"},{\"idx\":75,\"name\":\"11423\"},{\"idx\":76,\"name\":\"15412\"},{\"idx\":77,\"name\":\"14262\"},{\"idx\":78,\"name\":\"12992\"},{\"idx\":79,\"name\":\"13485\"},{\"idx\":80,\"name\":\"11996\"},{\"idx\":81,\"name\":\"10257\"},{\"idx\":82,\"name\":\"14576\"},{\"idx\":83,\"name\":\"11638\"},{\"idx\":84,\"name\":\"13577\"},{\"idx\":85,\"name\":\"15919\"},{\"idx\":86,\"name\":\"14193\"},{\"idx\":87,\"name\":\"11267\"},{\"idx\":88,\"name\":\"11109\"},{\"idx\":89,\"name\":\"15096\"},{\"idx\":90,\"name\":\"12278\"},{\"idx\":91,\"name\":\"11995\"},{\"idx\":92,\"name\":\"14321\"},{\"idx\":93,\"name\":\"12197\"},{\"idx\":94,\"name\":\"13158\"},{\"idx\":95,\"name\":\"11003\"},{\"idx\":96,\"name\":\"14986\"},{\"idx\":97,\"name\":\"15624\"},{\"idx\":98,\"name\":\"12945\"},{\"idx\":99,\"name\":\"13296\"},{\"idx\":100,\"name\":\"10781\"},{\"idx\":101,\"name\":\"12448\"},{\"idx\":102,\"name\":\"12217\"},{\"idx\":103,\"name\":\"10849\"},{\"idx\":104,\"name\":\"14689\"},{\"idx\":105,\"name\":\"14783\"},{\"idx\":106,\"name\":\"10431\"},{\"idx\":107,\"name\":\"11481\"},{\"idx\":108,\"name\":\"11775\"},{\"idx\":109,\"name\":\"10980\"},{\"idx\":110,\"name\":\"14814\"},{\"idx\":111,\"name\":\"11823\"},{\"idx\":112,\"name\":\"14696\"},{\"idx\":113,\"name\":\"10785\"},{\"idx\":114,\"name\":\"14761\"},{\"idx\":115,\"name\":\"10868\"},{\"idx\":116,\"name\":\"12896\"},{\"idx\":117,\"name\":\"10372\"},{\"idx\":118,\"name\":\"10874\"},{\"idx\":119,\"name\":\"11637\"},{\"idx\":120,\"name\":\"11603\"},{\"idx\":121,\"name\":\"12391\"},{\"idx\":122,\"name\":\"13422\"},{\"idx\":123,\"name\":\"11624\"},{\"idx\":124,\"name\":\"11977\"},{\"idx\":125,\"name\":\"13230\"},{\"idx\":126,\"name\":\"12323\"},{\"idx\":127,\"name\":\"12441\"},{\"idx\":128,\"name\":\"15249\"},{\"idx\":129,\"name\":\"13264\"},{\"idx\":130,\"name\":\"14112\"},{\"idx\":131,\"name\":\"11140\"},{\"idx\":132,\"name\":\"12523\"},{\"idx\":133,\"name\":\"10279\"},{\"idx\":134,\"name\":\"14457\"},{\"idx\":135,\"name\":\"14489\"},{\"idx\":136,\"name\":\"14698\"},{\"idx\":137,\"name\":\"12951\"},{\"idx\":138,\"name\":\"14108\"},{\"idx\":139,\"name\":\"10620\"},{\"idx\":140,\"name\":\"13367\"},{\"idx\":141,\"name\":\"11721\"},{\"idx\":142,\"name\":\"10408\"},{\"idx\":143,\"name\":\"13256\"},{\"idx\":144,\"name\":\"14252\"},{\"idx\":145,\"name\":\"11921\"},{\"idx\":146,\"name\":\"11973\"},{\"idx\":147,\"name\":\"15380\"},{\"idx\":148,\"name\":\"11630\"},{\"idx\":149,\"name\":\"10135\"},{\"idx\":150,\"name\":\"10627\"},{\"idx\":151,\"name\":\"10208\"},{\"idx\":152,\"name\":\"10990\"},{\"idx\":153,\"name\":\"13486\"},{\"idx\":154,\"name\":\"11953\"},{\"idx\":155,\"name\":\"13476\"},{\"idx\":156,\"name\":\"11612\"},{\"idx\":157,\"name\":\"12206\"},{\"idx\":158,\"name\":\"14082\"},{\"idx\":159,\"name\":\"10158\"},{\"idx\":160,\"name\":\"10466\"},{\"idx\":161,\"name\":\"11146\"},{\"idx\":162,\"name\":\"11648\"},{\"idx\":163,\"name\":\"13277\"},{\"idx\":164,\"name\":\"10185\"},{\"idx\":165,\"name\":\"11982\"},{\"idx\":166,\"name\":\"14794\"},{\"idx\":167,\"name\":\"13377\"},{\"idx\":168,\"name\":\"11413\"},{\"idx\":169,\"name\":\"11641\"},{\"idx\":170,\"name\":\"11252\"},{\"idx\":171,\"name\":\"12884\"},{\"idx\":172,\"name\":\"14633\"},{\"idx\":173,\"name\":\"12280\"},{\"idx\":174,\"name\":\"10685\"},{\"idx\":175,\"name\":\"10561\"},{\"idx\":176,\"name\":\"11337\"},{\"idx\":177,\"name\":\"15323\"},{\"idx\":178,\"name\":\"15356\"},{\"idx\":179,\"name\":\"12819\"},{\"idx\":180,\"name\":\"10434\"},{\"idx\":181,\"name\":\"10581\"},{\"idx\":182,\"name\":\"13029\"},{\"idx\":183,\"name\":\"13433\"},{\"idx\":184,\"name\":\"10469\"},{\"idx\":185,\"name\":\"14574\"},{\"idx\":186,\"name\":\"13184\"},{\"idx\":187,\"name\":\"13795\"},{\"idx\":188,\"name\":\"13061\"},{\"idx\":189,\"name\":\"10747\"},{\"idx\":190,\"name\":\"12003\"},{\"idx\":191,\"name\":\"13360\"},{\"idx\":192,\"name\":\"11503\"},{\"idx\":193,\"name\":\"11203\"},{\"idx\":194,\"name\":\"11049\"},{\"idx\":195,\"name\":\"13076\"},{\"idx\":196,\"name\":\"11695\"},{\"idx\":197,\"name\":\"16218\"},{\"idx\":198,\"name\":\"13502\"},{\"idx\":199,\"name\":\"11778\"},{\"idx\":200,\"name\":\"10136\"},{\"idx\":201,\"name\":\"15023\"},{\"idx\":202,\"name\":\"12915\"},{\"idx\":203,\"name\":\"12156\"},{\"idx\":204,\"name\":\"14098\"},{\"idx\":205,\"name\":\"11067\"},{\"idx\":206,\"name\":\"14674\"},{\"idx\":207,\"name\":\"10157\"},{\"idx\":208,\"name\":\"11898\"},{\"idx\":209,\"name\":\"14952\"},{\"idx\":210,\"name\":\"14842\"},{\"idx\":211,\"name\":\"15041\"},{\"idx\":212,\"name\":\"10155\"},{\"idx\":213,\"name\":\"11122\"},{\"idx\":214,\"name\":\"10666\"},{\"idx\":215,\"name\":\"11617\"},{\"idx\":216,\"name\":\"11111\"},{\"idx\":217,\"name\":\"13290\"},{\"idx\":218,\"name\":\"11308\"},{\"idx\":219,\"name\":\"14828\"},{\"idx\":220,\"name\":\"12094\"},{\"idx\":221,\"name\":\"15411\"},{\"idx\":222,\"name\":\"12124\"},{\"idx\":223,\"name\":\"11150\"},{\"idx\":224,\"name\":\"14711\"},{\"idx\":225,\"name\":\"12891\"},{\"idx\":226,\"name\":\"15389\"},{\"idx\":227,\"name\":\"11537\"},{\"idx\":228,\"name\":\"15070\"},{\"idx\":229,\"name\":\"12898\"},{\"idx\":230,\"name\":\"14487\"},{\"idx\":231,\"name\":\"13459\"},{\"idx\":232,\"name\":\"15295\"},{\"idx\":233,\"name\":\"12007\"},{\"idx\":234,\"name\":\"14960\"},{\"idx\":235,\"name\":\"15607\"},{\"idx\":236,\"name\":\"14150\"},{\"idx\":237,\"name\":\"14113\"},{\"idx\":238,\"name\":\"12519\"},{\"idx\":239,\"name\":\"14588\"},{\"idx\":240,\"name\":\"10731\"},{\"idx\":241,\"name\":\"11577\"},{\"idx\":242,\"name\":\"10146\"},{\"idx\":243,\"name\":\"13241\"},{\"idx\":244,\"name\":\"15401\"},{\"idx\":245,\"name\":\"11865\"},{\"idx\":246,\"name\":\"14520\"},{\"idx\":247,\"name\":\"10154\"},{\"idx\":248,\"name\":\"10551\"},{\"idx\":249,\"name\":\"12255\"},{\"idx\":250,\"name\":\"13127\"},{\"idx\":251,\"name\":\"14006\"},{\"idx\":252,\"name\":\"14709\"},{\"idx\":253,\"name\":\"14025\"},{\"idx\":254,\"name\":\"11980\"},{\"idx\":255,\"name\":\"13933\"},{\"idx\":256,\"name\":\"12511\"},{\"idx\":257,\"name\":\"10141\"},{\"idx\":258,\"name\":\"11097\"},{\"idx\":259,\"name\":\"12129\"},{\"idx\":260,\"name\":\"10728\"},{\"idx\":261,\"name\":\"10631\"},{\"idx\":262,\"name\":\"14256\"},{\"idx\":263,\"name\":\"15841\"},{\"idx\":264,\"name\":\"11076\"},{\"idx\":265,\"name\":\"15991\"},{\"idx\":266,\"name\":\"10926\"},{\"idx\":267,\"name\":\"10754\"},{\"idx\":268,\"name\":\"11471\"},{\"idx\":269,\"name\":\"15048\"},{\"idx\":270,\"name\":\"13344\"},{\"idx\":271,\"name\":\"11013\"},{\"idx\":272,\"name\":\"12397\"},{\"idx\":273,\"name\":\"12335\"},{\"idx\":274,\"name\":\"10779\"},{\"idx\":275,\"name\":\"10577\"},{\"idx\":276,\"name\":\"12544\"},{\"idx\":277,\"name\":\"14543\"},{\"idx\":278,\"name\":\"14109\"},{\"idx\":279,\"name\":\"13970\"},{\"idx\":280,\"name\":\"13873\"},{\"idx\":281,\"name\":\"10676\"},{\"idx\":282,\"name\":\"11905\"},{\"idx\":283,\"name\":\"11525\"},{\"idx\":284,\"name\":\"10739\"},{\"idx\":285,\"name\":\"12343\"},{\"idx\":286,\"name\":\"11587\"},{\"idx\":287,\"name\":\"14004\"},{\"idx\":288,\"name\":\"10333\"},{\"idx\":289,\"name\":\"12888\"},{\"idx\":290,\"name\":\"12917\"},{\"idx\":291,\"name\":\"10170\"},{\"idx\":292,\"name\":\"10918\"},{\"idx\":293,\"name\":\"11447\"},{\"idx\":294,\"name\":\"11867\"},{\"idx\":295,\"name\":\"11274\"},{\"idx\":296,\"name\":\"12177\"},{\"idx\":297,\"name\":\"12265\"},{\"idx\":298,\"name\":\"10268\"},{\"idx\":299,\"name\":\"14288\"},{\"idx\":300,\"name\":\"11027\"},{\"idx\":301,\"name\":\"14716\"},{\"idx\":302,\"name\":\"13541\"},{\"idx\":303,\"name\":\"14877\"},{\"idx\":304,\"name\":\"14512\"},{\"idx\":305,\"name\":\"14314\"},{\"idx\":306,\"name\":\"10967\"},{\"idx\":307,\"name\":\"13139\"},{\"idx\":308,\"name\":\"15074\"},{\"idx\":309,\"name\":\"14802\"},{\"idx\":310,\"name\":\"12244\"},{\"idx\":311,\"name\":\"12223\"},{\"idx\":312,\"name\":\"11092\"},{\"idx\":313,\"name\":\"12012\"},{\"idx\":314,\"name\":\"11468\"},{\"idx\":315,\"name\":\"12899\"},{\"idx\":316,\"name\":\"14237\"},{\"idx\":317,\"name\":\"10558\"},{\"idx\":318,\"name\":\"13121\"},{\"idx\":319,\"name\":\"12902\"},{\"idx\":320,\"name\":\"15582\"},{\"idx\":321,\"name\":\"13964\"},{\"idx\":322,\"name\":\"14905\"},{\"idx\":323,\"name\":\"13832\"},{\"idx\":324,\"name\":\"11415\"},{\"idx\":325,\"name\":\"15897\"},{\"idx\":326,\"name\":\"14120\"},{\"idx\":327,\"name\":\"10409\"},{\"idx\":328,\"name\":\"15454\"},{\"idx\":329,\"name\":\"11315\"},{\"idx\":330,\"name\":\"14259\"},{\"idx\":331,\"name\":\"13388\"},{\"idx\":332,\"name\":\"14812\"},{\"idx\":333,\"name\":\"11283\"},{\"idx\":334,\"name\":\"11288\"},{\"idx\":335,\"name\":\"14534\"},{\"idx\":336,\"name\":\"11336\"},{\"idx\":337,\"name\":\"10245\"},{\"idx\":338,\"name\":\"14092\"},{\"idx\":339,\"name\":\"14303\"},{\"idx\":340,\"name\":\"11233\"},{\"idx\":341,\"name\":\"11470\"},{\"idx\":342,\"name\":\"10275\"},{\"idx\":343,\"name\":\"16101\"},{\"idx\":344,\"name\":\"10165\"},{\"idx\":345,\"name\":\"10272\"},{\"idx\":346,\"name\":\"12559\"},{\"idx\":347,\"name\":\"15569\"},{\"idx\":348,\"name\":\"12119\"},{\"idx\":349,\"name\":\"15008\"},{\"idx\":350,\"name\":\"11041\"},{\"idx\":351,\"name\":\"12250\"},{\"idx\":352,\"name\":\"11997\"},{\"idx\":353,\"name\":\"13211\"},{\"idx\":354,\"name\":\"11725\"},{\"idx\":355,\"name\":\"10643\"},{\"idx\":356,\"name\":\"13829\"},{\"idx\":357,\"name\":\"15497\"},{\"idx\":358,\"name\":\"13983\"},{\"idx\":359,\"name\":\"10590\"},{\"idx\":360,\"name\":\"10361\"},{\"idx\":361,\"name\":\"10917\"},{\"idx\":362,\"name\":\"12320\"},{\"idx\":363,\"name\":\"10562\"},{\"idx\":364,\"name\":\"10930\"},{\"idx\":365,\"name\":\"11699\"},{\"idx\":366,\"name\":\"15138\"},{\"idx\":367,\"name\":\"12365\"},{\"idx\":368,\"name\":\"10617\"},{\"idx\":369,\"name\":\"16133\"},{\"idx\":370,\"name\":\"11495\"},{\"idx\":371,\"name\":\"11563\"}]},\"num_attrs\":372}}",
         "name": "ORIGIN_AIRPORT_ID_vec",
         "type": "{\"type\":\"udt\",\"class\":\"org.apache.spark.ml.linalg.VectorUDT\",\"pyClass\":\"pyspark.ml.linalg.VectorUDT\",\"sqlType\":{\"type\":\"struct\",\"fields\":[{\"name\":\"type\",\"type\":\"byte\",\"nullable\":false,\"metadata\":{}},{\"name\":\"size\",\"type\":\"integer\",\"nullable\":true,\"metadata\":{}},{\"name\":\"indices\",\"type\":{\"type\":\"array\",\"elementType\":\"integer\",\"containsNull\":false},\"nullable\":true,\"metadata\":{}},{\"name\":\"values\",\"type\":{\"type\":\"array\",\"elementType\":\"double\",\"containsNull\":false},\"nullable\":true,\"metadata\":{}}]}}"
        },
        {
         "metadata": "{\"ml_attr\":{\"vals\":[\"06\",\"07\",\"08\",\"17\",\"11\",\"10\",\"12\",\"15\",\"09\",\"13\",\"18\",\"16\",\"14\",\"19\",\"20\",\"21\",\"22\",\"05\",\"23\",\"00\",\"01\",\"02\",\"04\",\"03\"],\"type\":\"nominal\",\"name\":\"HOUR_indexed\"}}",
         "name": "HOUR_indexed",
         "type": "\"double\""
        },
        {
         "metadata": "{\"ml_attr\":{\"attrs\":{\"binary\":[{\"idx\":0,\"name\":\"06\"},{\"idx\":1,\"name\":\"07\"},{\"idx\":2,\"name\":\"08\"},{\"idx\":3,\"name\":\"17\"},{\"idx\":4,\"name\":\"11\"},{\"idx\":5,\"name\":\"10\"},{\"idx\":6,\"name\":\"12\"},{\"idx\":7,\"name\":\"15\"},{\"idx\":8,\"name\":\"09\"},{\"idx\":9,\"name\":\"13\"},{\"idx\":10,\"name\":\"18\"},{\"idx\":11,\"name\":\"16\"},{\"idx\":12,\"name\":\"14\"},{\"idx\":13,\"name\":\"19\"},{\"idx\":14,\"name\":\"20\"},{\"idx\":15,\"name\":\"21\"},{\"idx\":16,\"name\":\"22\"},{\"idx\":17,\"name\":\"05\"},{\"idx\":18,\"name\":\"23\"},{\"idx\":19,\"name\":\"00\"},{\"idx\":20,\"name\":\"01\"},{\"idx\":21,\"name\":\"02\"},{\"idx\":22,\"name\":\"04\"}]},\"num_attrs\":23}}",
         "name": "HOUR_vec",
         "type": "{\"type\":\"udt\",\"class\":\"org.apache.spark.ml.linalg.VectorUDT\",\"pyClass\":\"pyspark.ml.linalg.VectorUDT\",\"sqlType\":{\"type\":\"struct\",\"fields\":[{\"name\":\"type\",\"type\":\"byte\",\"nullable\":false,\"metadata\":{}},{\"name\":\"size\",\"type\":\"integer\",\"nullable\":true,\"metadata\":{}},{\"name\":\"indices\",\"type\":{\"type\":\"array\",\"elementType\":\"integer\",\"containsNull\":false},\"nullable\":true,\"metadata\":{}},{\"name\":\"values\",\"type\":{\"type\":\"array\",\"elementType\":\"double\",\"containsNull\":false},\"nullable\":true,\"metadata\":{}}]}}"
        },
        {
         "metadata": "{\"ml_attr\":{\"vals\":[\"large_airport\",\"medium_airport\",\"small_airport\",\"seaplane_base\"],\"type\":\"nominal\",\"name\":\"type_indexed\"}}",
         "name": "type_indexed",
         "type": "\"double\""
        },
        {
         "metadata": "{\"ml_attr\":{\"attrs\":{\"binary\":[{\"idx\":0,\"name\":\"large_airport\"},{\"idx\":1,\"name\":\"medium_airport\"},{\"idx\":2,\"name\":\"small_airport\"}]},\"num_attrs\":3}}",
         "name": "type_vec",
         "type": "{\"type\":\"udt\",\"class\":\"org.apache.spark.ml.linalg.VectorUDT\",\"pyClass\":\"pyspark.ml.linalg.VectorUDT\",\"sqlType\":{\"type\":\"struct\",\"fields\":[{\"name\":\"type\",\"type\":\"byte\",\"nullable\":false,\"metadata\":{}},{\"name\":\"size\",\"type\":\"integer\",\"nullable\":true,\"metadata\":{}},{\"name\":\"indices\",\"type\":{\"type\":\"array\",\"elementType\":\"integer\",\"containsNull\":false},\"nullable\":true,\"metadata\":{}},{\"name\":\"values\",\"type\":{\"type\":\"array\",\"elementType\":\"double\",\"containsNull\":false},\"nullable\":true,\"metadata\":{}}]}}"
        },
        {
         "metadata": "{\"ml_attr\":{\"attrs\":{\"numeric\":[{\"idx\":0,\"name\":\"0\"},{\"idx\":1,\"name\":\"1\"},{\"idx\":2,\"name\":\"10\"},{\"idx\":3,\"name\":\"100\"},{\"idx\":4,\"name\":\"100s\"},{\"idx\":5,\"name\":\"104\"},{\"idx\":6,\"name\":\"105\"},{\"idx\":7,\"name\":\"106\"},{\"idx\":8,\"name\":\"107\"},{\"idx\":9,\"name\":\"10s\"},{\"idx\":10,\"name\":\"11\"},{\"idx\":11,\"name\":\"110\"},{\"idx\":12,\"name\":\"110s\"},{\"idx\":13,\"name\":\"111\"},{\"idx\":14,\"name\":\"112\"},{\"idx\":15,\"name\":\"113\"},{\"idx\":16,\"name\":\"114\"},{\"idx\":17,\"name\":\"115\"},{\"idx\":18,\"name\":\"116\"},{\"idx\":19,\"name\":\"117\"},{\"idx\":20,\"name\":\"118\"},{\"idx\":21,\"name\":\"119\"},{\"idx\":22,\"name\":\"11s\"},{\"idx\":23,\"name\":\"12\"},{\"idx\":24,\"name\":\"120\"},{\"idx\":25,\"name\":\"120s\"},{\"idx\":26,\"name\":\"125\"},{\"idx\":27,\"name\":\"128\"},{\"idx\":28,\"name\":\"129\"},{\"idx\":29,\"name\":\"12s\"},{\"idx\":30,\"name\":\"13\"},{\"idx\":31,\"name\":\"130\"},{\"idx\":32,\"name\":\"130s\"},{\"idx\":33,\"name\":\"132\"},{\"idx\":34,\"name\":\"135\"},{\"idx\":35,\"name\":\"138\"},{\"idx\":36,\"name\":\"139\"},{\"idx\":37,\"name\":\"13s\"},{\"idx\":38,\"name\":\"14\"},{\"idx\":39,\"name\":\"140\"},{\"idx\":40,\"name\":\"145\"},{\"idx\":41,\"name\":\"146\"},{\"idx\":42,\"name\":\"147\"},{\"idx\":43,\"name\":\"149\"},{\"idx\":44,\"name\":\"14s\"},{\"idx\":45,\"name\":\"15\"},{\"idx\":46,\"name\":\"150\"},{\"idx\":47,\"name\":\"150s\"},{\"idx\":48,\"name\":\"154\"},{\"idx\":49,\"name\":\"155\"},{\"idx\":50,\"name\":\"156\"},{\"idx\":51,\"name\":\"157\"},{\"idx\":52,\"name\":\"159\"},{\"idx\":53,\"name\":\"15s\"},{\"idx\":54,\"name\":\"16\"},{\"idx\":55,\"name\":\"160\"},{\"idx\":56,\"name\":\"164\"},{\"idx\":57,\"name\":\"165\"},{\"idx\":58,\"name\":\"168\"},{\"idx\":59,\"name\":\"16s\"},{\"idx\":60,\"name\":\"17\"},{\"idx\":61,\"name\":\"170\"},{\"idx\":62,\"name\":\"175\"},{\"idx\":63,\"name\":\"178\"},{\"idx\":64,\"name\":\"179\"},{\"idx\":65,\"name\":\"17s\"},{\"idx\":66,\"name\":\"18\"},{\"idx\":67,\"name\":\"180\"},{\"idx\":68,\"name\":\"180s\"},{\"idx\":69,\"name\":\"185\"},{\"idx\":70,\"name\":\"188\"},{\"idx\":71,\"name\":\"189\"},{\"idx\":72,\"name\":\"18s\"},{\"idx\":73,\"name\":\"19\"},{\"idx\":74,\"name\":\"190\"},{\"idx\":75,\"name\":\"190s\"},{\"idx\":76,\"name\":\"191\"},{\"idx\":77,\"name\":\"195\"},{\"idx\":78,\"name\":\"199\"},{\"idx\":79,\"name\":\"19s\"},{\"idx\":80,\"name\":\"2\"},{\"idx\":81,\"name\":\"20\"},{\"idx\":82,\"name\":\"200\"},{\"idx\":83,\"name\":\"200s\"},{\"idx\":84,\"name\":\"205\"},{\"idx\":85,\"name\":\"20s\"},{\"idx\":86,\"name\":\"21\"},{\"idx\":87,\"name\":\"210\"},{\"idx\":88,\"name\":\"214\"},{\"idx\":89,\"name\":\"219\"},{\"idx\":90,\"name\":\"21s\"},{\"idx\":91,\"name\":\"22\"},{\"idx\":92,\"name\":\"220\"},{\"idx\":93,\"name\":\"221\"},{\"idx\":94,\"name\":\"225\"},{\"idx\":95,\"name\":\"228\"},{\"idx\":96,\"name\":\"229\"},{\"idx\":97,\"name\":\"22s\"},{\"idx\":98,\"name\":\"23\"},{\"idx\":99,\"name\":\"230\"},{\"idx\":100,\"name\":\"238\"},{\"idx\":101,\"name\":\"23s\"},{\"idx\":102,\"name\":\"24\"},{\"idx\":103,\"name\":\"240\"},{\"idx\":104,\"name\":\"24s\"},{\"idx\":105,\"name\":\"25\"},{\"idx\":106,\"name\":\"250\"},{\"idx\":107,\"name\":\"250s\"},{\"idx\":108,\"name\":\"252\"},{\"idx\":109,\"name\":\"254s\"},{\"idx\":110,\"name\":\"255\"},{\"idx\":111,\"name\":\"258\"},{\"idx\":112,\"name\":\"259\"},{\"idx\":113,\"name\":\"25s\"},{\"idx\":114,\"name\":\"26\"},{\"idx\":115,\"name\":\"260\"},{\"idx\":116,\"name\":\"269\"},{\"idx\":117,\"name\":\"26s\"},{\"idx\":118,\"name\":\"27\"},{\"idx\":119,\"name\":\"270\"},{\"idx\":120,\"name\":\"279\"},{\"idx\":121,\"name\":\"27s\"},{\"idx\":122,\"name\":\"28\"},{\"idx\":123,\"name\":\"280\"},{\"idx\":124,\"name\":\"289\"},{\"idx\":125,\"name\":\"28s\"},{\"idx\":126,\"name\":\"29\"},{\"idx\":127,\"name\":\"290\"},{\"idx\":128,\"name\":\"290s\"},{\"idx\":129,\"name\":\"299\"},{\"idx\":130,\"name\":\"29s\"},{\"idx\":131,\"name\":\"2s\"},{\"idx\":132,\"name\":\"3\"},{\"idx\":133,\"name\":\"30\"},{\"idx\":134,\"name\":\"300\"},{\"idx\":135,\"name\":\"300s\"},{\"idx\":136,\"name\":\"30s\"},{\"idx\":137,\"name\":\"31\"},{\"idx\":138,\"name\":\"310\"},{\"idx\":139,\"name\":\"31s\"},{\"idx\":140,\"name\":\"32\"},{\"idx\":141,\"name\":\"320\"},{\"idx\":142,\"name\":\"322\"},{\"idx\":143,\"name\":\"32s\"},{\"idx\":144,\"name\":\"33\"},{\"idx\":145,\"name\":\"330\"},{\"idx\":146,\"name\":\"339\"},{\"idx\":147,\"name\":\"33s\"},{\"idx\":148,\"name\":\"34\"},{\"idx\":149,\"name\":\"340\"},{\"idx\":150,\"name\":\"34s\"},{\"idx\":151,\"name\":\"35\"},{\"idx\":152,\"name\":\"350\"},{\"idx\":153,\"name\":\"35s\"},{\"idx\":154,\"name\":\"36\"},{\"idx\":155,\"name\":\"360\"},{\"idx\":156,\"name\":\"36s\"},{\"idx\":157,\"name\":\"37\"},{\"idx\":158,\"name\":\"370\"},{\"idx\":159,\"name\":\"37s\"},{\"idx\":160,\"name\":\"38\"},{\"idx\":161,\"name\":\"380\"},{\"idx\":162,\"name\":\"38s\"},{\"idx\":163,\"name\":\"39\"},{\"idx\":164,\"name\":\"39s\"},{\"idx\":165,\"name\":\"3s\"},{\"idx\":166,\"name\":\"4\"},{\"idx\":167,\"name\":\"40\"},{\"idx\":168,\"name\":\"40s\"},{\"idx\":169,\"name\":\"41\"},{\"idx\":170,\"name\":\"41s\"},{\"idx\":171,\"name\":\"42\"},{\"idx\":172,\"name\":\"43\"},{\"idx\":173,\"name\":\"43s\"},{\"idx\":174,\"name\":\"44\"},{\"idx\":175,\"name\":\"44s\"},{\"idx\":176,\"name\":\"45\"},{\"idx\":177,\"name\":\"45s\"},{\"idx\":178,\"name\":\"46\"},{\"idx\":179,\"name\":\"46s\"},{\"idx\":180,\"name\":\"47\"},{\"idx\":181,\"name\":\"47s\"},{\"idx\":182,\"name\":\"48\"},{\"idx\":183,\"name\":\"48s\"},{\"idx\":184,\"name\":\"49\"},{\"idx\":185,\"name\":\"49s\"},{\"idx\":186,\"name\":\"4s\"},{\"idx\":187,\"name\":\"5\"},{\"idx\":188,\"name\":\"50\"},{\"idx\":189,\"name\":\"50s\"},{\"idx\":190,\"name\":\"51\"},{\"idx\":191,\"name\":\"52\"},{\"idx\":192,\"name\":\"53\"},{\"idx\":193,\"name\":\"54\"},{\"idx\":194,\"name\":\"55\"},{\"idx\":195,\"name\":\"55s\"},{\"idx\":196,\"name\":\"56\"},{\"idx\":197,\"name\":\"57\"},{\"idx\":198,\"name\":\"58\"},{\"idx\":199,\"name\":\"59\"},{\"idx\":200,\"name\":\"5s\"},{\"idx\":201,\"name\":\"6\"},{\"idx\":202,\"name\":\"60\"},{\"idx\":203,\"name\":\"60s\"},{\"idx\":204,\"name\":\"61\"},{\"idx\":205,\"name\":\"62\"},{\"idx\":206,\"name\":\"63\"},{\"idx\":207,\"name\":\"64\"},{\"idx\":208,\"name\":\"65\"},{\"idx\":209,\"name\":\"65s\"},{\"idx\":210,\"name\":\"66\"},{\"idx\":211,\"name\":\"67\"},{\"idx\":212,\"name\":\"68\"},{\"idx\":213,\"name\":\"69\"},{\"idx\":214,\"name\":\"6s\"},{\"idx\":215,\"name\":\"7\"},{\"idx\":216,\"name\":\"70\"},{\"idx\":217,\"name\":\"70s\"},{\"idx\":218,\"name\":\"71\"},{\"idx\":219,\"name\":\"72\"},{\"idx\":220,\"name\":\"73\"},{\"idx\":221,\"name\":\"74\"},{\"idx\":222,\"name\":\"75\"},{\"idx\":223,\"name\":\"75s\"},{\"idx\":224,\"name\":\"76\"},{\"idx\":225,\"name\":\"77\"},{\"idx\":226,\"name\":\"78\"},{\"idx\":227,\"name\":\"79\"},{\"idx\":228,\"name\":\"7s\"},{\"idx\":229,\"name\":\"8\"},{\"idx\":230,\"name\":\"80\"},{\"idx\":231,\"name\":\"80s\"},{\"idx\":232,\"name\":\"81\"},{\"idx\":233,\"name\":\"82\"},{\"idx\":234,\"name\":\"83\"},{\"idx\":235,\"name\":\"84\"},{\"idx\":236,\"name\":\"85\"},{\"idx\":237,\"name\":\"850\"},{\"idx\":238,\"name\":\"85s\"},{\"idx\":239,\"name\":\"86\"},{\"idx\":240,\"name\":\"87\"},{\"idx\":241,\"name\":\"88\"},{\"idx\":242,\"name\":\"89\"},{\"idx\":243,\"name\":\"8s\"},{\"idx\":244,\"name\":\"9\"},{\"idx\":245,\"name\":\"90\"},{\"idx\":246,\"name\":\"900\"},{\"idx\":247,\"name\":\"905\"},{\"idx\":248,\"name\":\"90s\"},{\"idx\":249,\"name\":\"91\"},{\"idx\":250,\"name\":\"92\"},{\"idx\":251,\"name\":\"93\"},{\"idx\":252,\"name\":\"94\"},{\"idx\":253,\"name\":\"95\"},{\"idx\":254,\"name\":\"95s\"},{\"idx\":255,\"name\":\"96\"},{\"idx\":256,\"name\":\"98\"},{\"idx\":257,\"name\":\"9s\"},{\"idx\":258,\"name\":\"BKN:07\"},{\"idx\":259,\"name\":\"BKN:07s\"},{\"idx\":260,\"name\":\"CLR:00\"},{\"idx\":261,\"name\":\"FEW:02\"},{\"idx\":262,\"name\":\"FEW:02s\"},{\"idx\":263,\"name\":\"OVC:08\"},{\"idx\":264,\"name\":\"OVC:08s\"},{\"idx\":265,\"name\":\"SCT:04\"},{\"idx\":266,\"name\":\"SCT:04s\"},{\"idx\":267,\"name\":\"VV:09\"},{\"idx\":268,\"name\":\"X:10\"}]},\"num_attrs\":269}}",
         "name": "HourlySkyConditions_vec",
         "type": "{\"type\":\"udt\",\"class\":\"org.apache.spark.ml.linalg.VectorUDT\",\"pyClass\":\"pyspark.ml.linalg.VectorUDT\",\"sqlType\":{\"type\":\"struct\",\"fields\":[{\"name\":\"type\",\"type\":\"byte\",\"nullable\":false,\"metadata\":{}},{\"name\":\"size\",\"type\":\"integer\",\"nullable\":true,\"metadata\":{}},{\"name\":\"indices\",\"type\":{\"type\":\"array\",\"elementType\":\"integer\",\"containsNull\":false},\"nullable\":true,\"metadata\":{}},{\"name\":\"values\",\"type\":{\"type\":\"array\",\"elementType\":\"double\",\"containsNull\":false},\"nullable\":true,\"metadata\":{}}]}}"
        },
        {
         "metadata": "{\"ml_attr\":{\"attrs\":{\"numeric\":[{\"idx\":0,\"name\":\"Rain\"},{\"idx\":1,\"name\":\"Snow\"},{\"idx\":2,\"name\":\"Thunder\"},{\"idx\":3,\"name\":\"Tornado\"},{\"idx\":4,\"name\":\"View Obstruction\"}]},\"num_attrs\":5}}",
         "name": "HourlyPresentWeatherType_vec",
         "type": "{\"type\":\"udt\",\"class\":\"org.apache.spark.ml.linalg.VectorUDT\",\"pyClass\":\"pyspark.ml.linalg.VectorUDT\",\"sqlType\":{\"type\":\"struct\",\"fields\":[{\"name\":\"type\",\"type\":\"byte\",\"nullable\":false,\"metadata\":{}},{\"name\":\"size\",\"type\":\"integer\",\"nullable\":true,\"metadata\":{}},{\"name\":\"indices\",\"type\":{\"type\":\"array\",\"elementType\":\"integer\",\"containsNull\":false},\"nullable\":true,\"metadata\":{}},{\"name\":\"values\",\"type\":{\"type\":\"array\",\"elementType\":\"double\",\"containsNull\":false},\"nullable\":true,\"metadata\":{}}]}}"
        },
        {
         "metadata": "{}",
         "name": "Rain",
         "type": "\"long\""
        },
        {
         "metadata": "{}",
         "name": "Snow",
         "type": "\"long\""
        },
        {
         "metadata": "{}",
         "name": "Thunder",
         "type": "\"long\""
        },
        {
         "metadata": "{}",
         "name": "Tornado",
         "type": "\"long\""
        },
        {
         "metadata": "{}",
         "name": "View Obstruction",
         "type": "\"long\""
        },
        {
         "metadata": "{}",
         "name": "MONTH_1",
         "type": "\"long\""
        },
        {
         "metadata": "{}",
         "name": "MONTH_2",
         "type": "\"long\""
        },
        {
         "metadata": "{}",
         "name": "MONTH_3",
         "type": "\"long\""
        },
        {
         "metadata": "{}",
         "name": "MONTH_4",
         "type": "\"long\""
        },
        {
         "metadata": "{}",
         "name": "MONTH_5",
         "type": "\"long\""
        },
        {
         "metadata": "{}",
         "name": "MONTH_6",
         "type": "\"long\""
        },
        {
         "metadata": "{}",
         "name": "MONTH_7",
         "type": "\"long\""
        },
        {
         "metadata": "{}",
         "name": "MONTH_8",
         "type": "\"long\""
        },
        {
         "metadata": "{}",
         "name": "MONTH_9",
         "type": "\"long\""
        },
        {
         "metadata": "{}",
         "name": "MONTH_10",
         "type": "\"long\""
        },
        {
         "metadata": "{}",
         "name": "MONTH_11",
         "type": "\"long\""
        },
        {
         "metadata": "{}",
         "name": "MONTH_12",
         "type": "\"long\""
        },
        {
         "metadata": "{}",
         "name": "HOUR_00",
         "type": "\"long\""
        },
        {
         "metadata": "{}",
         "name": "HOUR_01",
         "type": "\"long\""
        },
        {
         "metadata": "{}",
         "name": "HOUR_02",
         "type": "\"long\""
        },
        {
         "metadata": "{}",
         "name": "HOUR_03",
         "type": "\"long\""
        },
        {
         "metadata": "{}",
         "name": "HOUR_04",
         "type": "\"long\""
        },
        {
         "metadata": "{}",
         "name": "HOUR_05",
         "type": "\"long\""
        },
        {
         "metadata": "{}",
         "name": "HOUR_06",
         "type": "\"long\""
        },
        {
         "metadata": "{}",
         "name": "HOUR_07",
         "type": "\"long\""
        },
        {
         "metadata": "{}",
         "name": "HOUR_08",
         "type": "\"long\""
        },
        {
         "metadata": "{}",
         "name": "HOUR_09",
         "type": "\"long\""
        },
        {
         "metadata": "{}",
         "name": "HOUR_10",
         "type": "\"long\""
        },
        {
         "metadata": "{}",
         "name": "HOUR_11",
         "type": "\"long\""
        },
        {
         "metadata": "{}",
         "name": "HOUR_12",
         "type": "\"long\""
        },
        {
         "metadata": "{}",
         "name": "HOUR_13",
         "type": "\"long\""
        },
        {
         "metadata": "{}",
         "name": "HOUR_14",
         "type": "\"long\""
        },
        {
         "metadata": "{}",
         "name": "HOUR_15",
         "type": "\"long\""
        },
        {
         "metadata": "{}",
         "name": "HOUR_16",
         "type": "\"long\""
        },
        {
         "metadata": "{}",
         "name": "HOUR_17",
         "type": "\"long\""
        },
        {
         "metadata": "{}",
         "name": "HOUR_18",
         "type": "\"long\""
        },
        {
         "metadata": "{}",
         "name": "HOUR_19",
         "type": "\"long\""
        },
        {
         "metadata": "{}",
         "name": "HOUR_20",
         "type": "\"long\""
        },
        {
         "metadata": "{}",
         "name": "HOUR_21",
         "type": "\"long\""
        },
        {
         "metadata": "{}",
         "name": "HOUR_22",
         "type": "\"long\""
        },
        {
         "metadata": "{}",
         "name": "HOUR_23",
         "type": "\"long\""
        },
        {
         "metadata": "{}",
         "name": "DAY_OF_WEEK_1",
         "type": "\"long\""
        },
        {
         "metadata": "{}",
         "name": "DAY_OF_WEEK_2",
         "type": "\"long\""
        },
        {
         "metadata": "{}",
         "name": "DAY_OF_WEEK_3",
         "type": "\"long\""
        },
        {
         "metadata": "{}",
         "name": "DAY_OF_WEEK_4",
         "type": "\"long\""
        },
        {
         "metadata": "{}",
         "name": "DAY_OF_WEEK_5",
         "type": "\"long\""
        },
        {
         "metadata": "{}",
         "name": "DAY_OF_WEEK_6",
         "type": "\"long\""
        },
        {
         "metadata": "{}",
         "name": "DAY_OF_WEEK_7",
         "type": "\"long\""
        },
        {
         "metadata": "{}",
         "name": "OP_CARRIER_9E",
         "type": "\"long\""
        },
        {
         "metadata": "{}",
         "name": "OP_CARRIER_AA",
         "type": "\"long\""
        },
        {
         "metadata": "{}",
         "name": "OP_CARRIER_AS",
         "type": "\"long\""
        },
        {
         "metadata": "{}",
         "name": "OP_CARRIER_B6",
         "type": "\"long\""
        },
        {
         "metadata": "{}",
         "name": "OP_CARRIER_DL",
         "type": "\"long\""
        },
        {
         "metadata": "{}",
         "name": "OP_CARRIER_EV",
         "type": "\"long\""
        },
        {
         "metadata": "{}",
         "name": "OP_CARRIER_F9",
         "type": "\"long\""
        },
        {
         "metadata": "{}",
         "name": "OP_CARRIER_G4",
         "type": "\"long\""
        },
        {
         "metadata": "{}",
         "name": "OP_CARRIER_HA",
         "type": "\"long\""
        },
        {
         "metadata": "{}",
         "name": "OP_CARRIER_MQ",
         "type": "\"long\""
        },
        {
         "metadata": "{}",
         "name": "OP_CARRIER_NK",
         "type": "\"long\""
        },
        {
         "metadata": "{}",
         "name": "OP_CARRIER_OH",
         "type": "\"long\""
        },
        {
         "metadata": "{}",
         "name": "OP_CARRIER_OO",
         "type": "\"long\""
        },
        {
         "metadata": "{}",
         "name": "OP_CARRIER_QX",
         "type": "\"long\""
        },
        {
         "metadata": "{}",
         "name": "OP_CARRIER_UA",
         "type": "\"long\""
        },
        {
         "metadata": "{}",
         "name": "OP_CARRIER_US",
         "type": "\"long\""
        },
        {
         "metadata": "{}",
         "name": "OP_CARRIER_VX",
         "type": "\"long\""
        },
        {
         "metadata": "{}",
         "name": "OP_CARRIER_WN",
         "type": "\"long\""
        },
        {
         "metadata": "{}",
         "name": "OP_CARRIER_YV",
         "type": "\"long\""
        },
        {
         "metadata": "{}",
         "name": "OP_CARRIER_YX",
         "type": "\"long\""
        },
        {
         "metadata": "{}",
         "name": "type_large_airport",
         "type": "\"long\""
        },
        {
         "metadata": "{}",
         "name": "type_medium_airport",
         "type": "\"long\""
        },
        {
         "metadata": "{}",
         "name": "type_seaplane_base",
         "type": "\"long\""
        },
        {
         "metadata": "{}",
         "name": "type_small_airport",
         "type": "\"long\""
        },
        {
         "metadata": "{}",
         "name": "DEP_12hr",
         "type": "\"double\""
        },
        {
         "metadata": "{}",
         "name": "DEP_6hr",
         "type": "\"double\""
        },
        {
         "metadata": "{}",
         "name": "DEP_4hr",
         "type": "\"double\""
        },
        {
         "metadata": "{}",
         "name": "DISTANCE_LAG",
         "type": "\"double\""
        },
        {
         "metadata": "{}",
         "name": "REALIZED_DELAY_MIN",
         "type": "\"double\""
        },
        {
         "metadata": "{}",
         "name": "REALIZED_DEL15",
         "type": "\"integer\""
        },
        {
         "metadata": "{}",
         "name": "HOLIDAY",
         "type": "\"integer\""
        },
        {
         "metadata": "{}",
         "name": "OUTDEG_AIRPORT_6hr",
         "type": "\"double\""
        },
        {
         "metadata": "{}",
         "name": "YEAR",
         "type": "\"string\""
        }
       ],
       "type": "table"
      }
     },
     "output_type": "display_data"
    }
   ],
   "source": [
    "display(df.limit(10))"
   ]
  },
  {
   "cell_type": "code",
   "execution_count": 0,
   "metadata": {
    "application/vnd.databricks.v1+cell": {
     "cellMetadata": {
      "byteLimit": 2048000,
      "rowLimit": 10000
     },
     "inputWidgets": {},
     "nuid": "9cdd5325-ea97-49d1-a36e-94cd719ae94c",
     "showTitle": false,
     "title": ""
    }
   },
   "outputs": [
    {
     "output_type": "execute_result",
     "data": {
      "text/plain": [
       "['index',\n",
       " 'MONTH',\n",
       " 'DAY_OF_WEEK',\n",
       " 'OP_CARRIER',\n",
       " 'ORIGIN_AIRPORT_ID',\n",
       " 'CRS_DEP_TIME',\n",
       " 'DISTANCE',\n",
       " 'DEP_DEL15',\n",
       " 'QUARTER',\n",
       " 'DEP_DELAY',\n",
       " 'DEST_AIRPORT_ID',\n",
       " 'FL_DATE',\n",
       " 'TAIL_NUM',\n",
       " 'ARR_TIME',\n",
       " 'ARR_DELAY',\n",
       " 'ARR_DEL15',\n",
       " 'CANCELLED',\n",
       " 'type',\n",
       " 'ELEVATION',\n",
       " 'HourlyAltimeterSetting',\n",
       " 'HourlyDryBulbTemperature',\n",
       " 'HourlyPrecipitation',\n",
       " 'HourlyRelativeHumidity',\n",
       " 'HourlySkyConditions',\n",
       " 'HourlySeaLevelPressure',\n",
       " 'HourlyVisibility',\n",
       " 'HourlyWindDirection',\n",
       " 'HourlyWindSpeed',\n",
       " 'HourlyPresentWeatherType',\n",
       " 'HOUR',\n",
       " 'MONTH_indexed',\n",
       " 'MONTH_vec',\n",
       " 'DAY_OF_WEEK_indexed',\n",
       " 'DAY_OF_WEEK_vec',\n",
       " 'OP_CARRIER_indexed',\n",
       " 'OP_CARRIER_vec',\n",
       " 'ORIGIN_AIRPORT_ID_indexed',\n",
       " 'ORIGIN_AIRPORT_ID_vec',\n",
       " 'HOUR_indexed',\n",
       " 'HOUR_vec',\n",
       " 'type_indexed',\n",
       " 'type_vec',\n",
       " 'HourlySkyConditions_vec',\n",
       " 'HourlyPresentWeatherType_vec',\n",
       " 'Rain',\n",
       " 'Snow',\n",
       " 'Thunder',\n",
       " 'Tornado',\n",
       " 'View Obstruction',\n",
       " 'MONTH_1',\n",
       " 'MONTH_2',\n",
       " 'MONTH_3',\n",
       " 'MONTH_4',\n",
       " 'MONTH_5',\n",
       " 'MONTH_6',\n",
       " 'MONTH_7',\n",
       " 'MONTH_8',\n",
       " 'MONTH_9',\n",
       " 'MONTH_10',\n",
       " 'MONTH_11',\n",
       " 'MONTH_12',\n",
       " 'HOUR_00',\n",
       " 'HOUR_01',\n",
       " 'HOUR_02',\n",
       " 'HOUR_03',\n",
       " 'HOUR_04',\n",
       " 'HOUR_05',\n",
       " 'HOUR_06',\n",
       " 'HOUR_07',\n",
       " 'HOUR_08',\n",
       " 'HOUR_09',\n",
       " 'HOUR_10',\n",
       " 'HOUR_11',\n",
       " 'HOUR_12',\n",
       " 'HOUR_13',\n",
       " 'HOUR_14',\n",
       " 'HOUR_15',\n",
       " 'HOUR_16',\n",
       " 'HOUR_17',\n",
       " 'HOUR_18',\n",
       " 'HOUR_19',\n",
       " 'HOUR_20',\n",
       " 'HOUR_21',\n",
       " 'HOUR_22',\n",
       " 'HOUR_23',\n",
       " 'DAY_OF_WEEK_1',\n",
       " 'DAY_OF_WEEK_2',\n",
       " 'DAY_OF_WEEK_3',\n",
       " 'DAY_OF_WEEK_4',\n",
       " 'DAY_OF_WEEK_5',\n",
       " 'DAY_OF_WEEK_6',\n",
       " 'DAY_OF_WEEK_7',\n",
       " 'OP_CARRIER_9E',\n",
       " 'OP_CARRIER_AA',\n",
       " 'OP_CARRIER_AS',\n",
       " 'OP_CARRIER_B6',\n",
       " 'OP_CARRIER_DL',\n",
       " 'OP_CARRIER_EV',\n",
       " 'OP_CARRIER_F9',\n",
       " 'OP_CARRIER_G4',\n",
       " 'OP_CARRIER_HA',\n",
       " 'OP_CARRIER_MQ',\n",
       " 'OP_CARRIER_NK',\n",
       " 'OP_CARRIER_OH',\n",
       " 'OP_CARRIER_OO',\n",
       " 'OP_CARRIER_QX',\n",
       " 'OP_CARRIER_UA',\n",
       " 'OP_CARRIER_US',\n",
       " 'OP_CARRIER_VX',\n",
       " 'OP_CARRIER_WN',\n",
       " 'OP_CARRIER_YV',\n",
       " 'OP_CARRIER_YX',\n",
       " 'type_large_airport',\n",
       " 'type_medium_airport',\n",
       " 'type_seaplane_base',\n",
       " 'type_small_airport',\n",
       " 'DEP_12hr',\n",
       " 'DEP_6hr',\n",
       " 'DEP_4hr',\n",
       " 'DISTANCE_LAG',\n",
       " 'REALIZED_DELAY_MIN',\n",
       " 'REALIZED_DEL15',\n",
       " 'HOLIDAY',\n",
       " 'OUTDEG_AIRPORT_6hr',\n",
       " 'YEAR']"
      ]
     },
     "execution_count": 6,
     "metadata": {},
     "output_type": "execute_result"
    }
   ],
   "source": [
    "df.columns"
   ]
  },
  {
   "cell_type": "code",
   "execution_count": 0,
   "metadata": {
    "application/vnd.databricks.v1+cell": {
     "cellMetadata": {
      "byteLimit": 2048000,
      "rowLimit": 10000
     },
     "inputWidgets": {},
     "nuid": "d6c86e60-7a7b-4e6d-baf8-2982a7bd6ef7",
     "showTitle": false,
     "title": ""
    }
   },
   "outputs": [
    {
     "output_type": "execute_result",
     "data": {
      "text/plain": [
       "8445849"
      ]
     },
     "execution_count": 7,
     "metadata": {},
     "output_type": "execute_result"
    }
   ],
   "source": [
    "df_train.count()"
   ]
  },
  {
   "cell_type": "code",
   "execution_count": 0,
   "metadata": {
    "application/vnd.databricks.v1+cell": {
     "cellMetadata": {
      "byteLimit": 2048000,
      "rowLimit": 10000
     },
     "inputWidgets": {},
     "nuid": "eb6cc067-7def-4ad2-bb24-0dcbb2c0a41c",
     "showTitle": false,
     "title": ""
    }
   },
   "outputs": [
    {
     "output_type": "execute_result",
     "data": {
      "text/plain": [
       "3607369"
      ]
     },
     "execution_count": 8,
     "metadata": {},
     "output_type": "execute_result"
    }
   ],
   "source": [
    "df_val.count()"
   ]
  },
  {
   "cell_type": "code",
   "execution_count": 0,
   "metadata": {
    "application/vnd.databricks.v1+cell": {
     "cellMetadata": {
      "byteLimit": 2048000,
      "rowLimit": 10000
     },
     "inputWidgets": {},
     "nuid": "8e9e2ecf-fc8b-40cd-8ae7-057542fba05c",
     "showTitle": false,
     "title": ""
    }
   },
   "outputs": [
    {
     "output_type": "execute_result",
     "data": {
      "text/plain": [
       "7270542"
      ]
     },
     "execution_count": 9,
     "metadata": {},
     "output_type": "execute_result"
    }
   ],
   "source": [
    "df_test.count()"
   ]
  },
  {
   "cell_type": "markdown",
   "metadata": {
    "application/vnd.databricks.v1+cell": {
     "cellMetadata": {
      "byteLimit": 2048000,
      "rowLimit": 10000
     },
     "inputWidgets": {},
     "nuid": "81c09171-f899-4044-b449-f93acb603df0",
     "showTitle": false,
     "title": ""
    }
   },
   "source": [
    "##Transform"
   ]
  },
  {
   "cell_type": "code",
   "execution_count": 0,
   "metadata": {
    "application/vnd.databricks.v1+cell": {
     "cellMetadata": {
      "byteLimit": 2048000,
      "rowLimit": 10000
     },
     "inputWidgets": {},
     "nuid": "b9539e3a-88a6-4fe0-96bc-ab2c6e68d520",
     "showTitle": false,
     "title": ""
    }
   },
   "outputs": [],
   "source": [
    "# def create_row_id(data):\n",
    "#     formatted_crs_dep_time = format_string(\"%04d\", col(\"CRS_DEP_TIME\"))\n",
    "#     datetime_str = concat(col(\"FL_DATE\"), lit(\" \"), formatted_crs_dep_time\\\n",
    "#         .substr(1, 2), lit(\":\"), formatted_crs_dep_time.substr(3, 2))\n",
    "#     datetime_col = to_timestamp(datetime_str, 'yyyy-MM-dd HH:mm')\n",
    "#     windowSpec = Window.orderBy(\"DATE_TIME\")\n",
    "#     return data.withColumn(\"DATE_TIME\", datetime_col).withColumn(\"index\", row_number().over(windowSpec) - 1)\n",
    "# df_train = create_row_id(df_train)\n",
    "# df_test = create_row_id(df_test)\n"
   ]
  },
  {
   "cell_type": "markdown",
   "metadata": {
    "application/vnd.databricks.v1+cell": {
     "cellMetadata": {
      "byteLimit": 2048000,
      "rowLimit": 10000
     },
     "inputWidgets": {},
     "nuid": "fa773870-c969-421a-9257-f879e024144e",
     "showTitle": false,
     "title": ""
    }
   },
   "source": [
    "#### DISTANCE_LAG"
   ]
  },
  {
   "cell_type": "code",
   "execution_count": 0,
   "metadata": {
    "application/vnd.databricks.v1+cell": {
     "cellMetadata": {
      "byteLimit": 2048000,
      "rowLimit": 10000
     },
     "inputWidgets": {},
     "nuid": "63716ad2-6352-44f8-8c38-af8c013d8a16",
     "showTitle": false,
     "title": ""
    }
   },
   "outputs": [],
   "source": [
    "sample_rdd = df_train.sample(fraction=0.05, seed=42)"
   ]
  },
  {
   "cell_type": "code",
   "execution_count": 0,
   "metadata": {
    "application/vnd.databricks.v1+cell": {
     "cellMetadata": {
      "byteLimit": 2048000,
      "rowLimit": 10000
     },
     "inputWidgets": {},
     "nuid": "cc47d427-bc2a-4162-b510-b272c8dcb379",
     "showTitle": false,
     "title": ""
    }
   },
   "outputs": [],
   "source": [
    "# print(f\"Original DataFrame row count: {df_train.count()}\")\n",
    "# print(f\"Test DataFrame row count: {sample_rdd.count()}\")"
   ]
  },
  {
   "cell_type": "code",
   "execution_count": 0,
   "metadata": {
    "application/vnd.databricks.v1+cell": {
     "cellMetadata": {
      "byteLimit": 2048000,
      "rowLimit": 10000
     },
     "inputWidgets": {},
     "nuid": "2c0576d3-e77b-4029-b142-6bb9561d08ca",
     "showTitle": false,
     "title": ""
    }
   },
   "outputs": [],
   "source": [
    "# Create an Imputer\n",
    "imputer = Imputer(\n",
    "    inputCols=['DISTANCE_LAG'],\n",
    "    outputCols=['DISTANCE_LAG']\n",
    ").setStrategy(\"mean\")\n",
    "imputer_model = imputer.fit(sample_rdd)\n",
    "sample_rdd = imputer_model.transform(sample_rdd)"
   ]
  },
  {
   "cell_type": "code",
   "execution_count": 0,
   "metadata": {
    "application/vnd.databricks.v1+cell": {
     "cellMetadata": {
      "byteLimit": 2048000,
      "rowLimit": 10000
     },
     "inputWidgets": {},
     "nuid": "a189baa5-fdef-4696-bd9d-b1c0e6d96f96",
     "showTitle": false,
     "title": ""
    }
   },
   "outputs": [],
   "source": [
    "# Run on main df\n",
    "imputer = Imputer(\n",
    "    inputCols=['DISTANCE_LAG'],\n",
    "    outputCols=['DISTANCE_LAG']\n",
    ").setStrategy(\"mean\")\n",
    "\n",
    "imputer_model = imputer.fit(df_train)\n"
   ]
  },
  {
   "cell_type": "code",
   "execution_count": 0,
   "metadata": {
    "application/vnd.databricks.v1+cell": {
     "cellMetadata": {
      "byteLimit": 2048000,
      "rowLimit": 10000
     },
     "inputWidgets": {},
     "nuid": "807609dc-6ed5-4d7d-90ea-6ebd27b3290f",
     "showTitle": false,
     "title": ""
    }
   },
   "outputs": [
    {
     "output_type": "execute_result",
     "data": {
      "text/plain": [
       "DataFrame[index: int, MONTH: int, DAY_OF_WEEK: int, OP_CARRIER: string, ORIGIN_AIRPORT_ID: int, CRS_DEP_TIME: int, DISTANCE: double, DEP_DEL15: double, QUARTER: int, DEP_DELAY: double, DEST_AIRPORT_ID: int, FL_DATE: string, TAIL_NUM: string, ARR_TIME: int, ARR_DELAY: double, ARR_DEL15: double, CANCELLED: double, type: string, ELEVATION: float, HourlyAltimeterSetting: float, HourlyDryBulbTemperature: float, HourlyPrecipitation: float, HourlyRelativeHumidity: float, HourlySkyConditions: string, HourlySeaLevelPressure: float, HourlyVisibility: float, HourlyWindDirection: float, HourlyWindSpeed: float, HourlyPresentWeatherType: string, HOUR: string, MONTH_indexed: double, MONTH_vec: vector, DAY_OF_WEEK_indexed: double, DAY_OF_WEEK_vec: vector, OP_CARRIER_indexed: double, OP_CARRIER_vec: vector, ORIGIN_AIRPORT_ID_indexed: double, ORIGIN_AIRPORT_ID_vec: vector, HOUR_indexed: double, HOUR_vec: vector, type_indexed: double, type_vec: vector, HourlySkyConditions_vec: vector, HourlyPresentWeatherType_vec: vector, Rain: bigint, Snow: bigint, Thunder: bigint, Tornado: bigint, View Obstruction: bigint, MONTH_1: bigint, MONTH_2: bigint, MONTH_3: bigint, MONTH_4: bigint, MONTH_5: bigint, MONTH_6: bigint, MONTH_7: bigint, MONTH_8: bigint, MONTH_9: bigint, MONTH_10: bigint, MONTH_11: bigint, MONTH_12: bigint, HOUR_00: bigint, HOUR_01: bigint, HOUR_02: bigint, HOUR_03: bigint, HOUR_04: bigint, HOUR_05: bigint, HOUR_06: bigint, HOUR_07: bigint, HOUR_08: bigint, HOUR_09: bigint, HOUR_10: bigint, HOUR_11: bigint, HOUR_12: bigint, HOUR_13: bigint, HOUR_14: bigint, HOUR_15: bigint, HOUR_16: bigint, HOUR_17: bigint, HOUR_18: bigint, HOUR_19: bigint, HOUR_20: bigint, HOUR_21: bigint, HOUR_22: bigint, HOUR_23: bigint, DAY_OF_WEEK_1: bigint, DAY_OF_WEEK_2: bigint, DAY_OF_WEEK_3: bigint, DAY_OF_WEEK_4: bigint, DAY_OF_WEEK_5: bigint, DAY_OF_WEEK_6: bigint, DAY_OF_WEEK_7: bigint, OP_CARRIER_9E: bigint, OP_CARRIER_AA: bigint, OP_CARRIER_AS: bigint, OP_CARRIER_B6: bigint, OP_CARRIER_DL: bigint, OP_CARRIER_EV: bigint, OP_CARRIER_F9: bigint, OP_CARRIER_G4: bigint, OP_CARRIER_HA: bigint, OP_CARRIER_MQ: bigint, OP_CARRIER_NK: bigint, OP_CARRIER_OH: bigint, OP_CARRIER_OO: bigint, OP_CARRIER_QX: bigint, OP_CARRIER_UA: bigint, OP_CARRIER_US: bigint, OP_CARRIER_VX: bigint, OP_CARRIER_WN: bigint, OP_CARRIER_YV: bigint, OP_CARRIER_YX: bigint, type_large_airport: bigint, type_medium_airport: bigint, type_seaplane_base: bigint, type_small_airport: bigint, DEP_12hr: double, DEP_6hr: double, DEP_4hr: double, DISTANCE_LAG: double, REALIZED_DELAY_MIN: double, REALIZED_DEL15: int, HOLIDAY: int, OUTDEG_AIRPORT_6hr: double, YEAR: string]"
      ]
     },
     "execution_count": 6,
     "metadata": {},
     "output_type": "execute_result"
    }
   ],
   "source": [
    "\n",
    "df_train = imputer_model.transform(df_train)\n",
    "\n",
    "df_train"
   ]
  },
  {
   "cell_type": "code",
   "execution_count": 0,
   "metadata": {
    "application/vnd.databricks.v1+cell": {
     "cellMetadata": {
      "byteLimit": 2048000,
      "rowLimit": 10000
     },
     "inputWidgets": {},
     "nuid": "e5cf5ad1-8b31-41ed-8c7e-6ffb564fa3d6",
     "showTitle": false,
     "title": ""
    }
   },
   "outputs": [],
   "source": [
    "df_val = imputer_model.transform(df_val)"
   ]
  },
  {
   "cell_type": "code",
   "execution_count": 0,
   "metadata": {
    "application/vnd.databricks.v1+cell": {
     "cellMetadata": {
      "byteLimit": 2048000,
      "rowLimit": 10000
     },
     "inputWidgets": {},
     "nuid": "e62f1e85-e22f-4a59-a5ad-09a9fe24a2ae",
     "showTitle": false,
     "title": ""
    }
   },
   "outputs": [],
   "source": [
    "df_test = imputer_model.transform(df_test)"
   ]
  },
  {
   "cell_type": "markdown",
   "metadata": {
    "application/vnd.databricks.v1+cell": {
     "cellMetadata": {
      "byteLimit": 2048000,
      "rowLimit": 10000
     },
     "inputWidgets": {},
     "nuid": "b00844c9-3717-414b-9fe4-1fcee124057b",
     "showTitle": false,
     "title": ""
    }
   },
   "source": [
    "####REALIZED_DELAY_MIN"
   ]
  },
  {
   "cell_type": "code",
   "execution_count": 0,
   "metadata": {
    "application/vnd.databricks.v1+cell": {
     "cellMetadata": {
      "byteLimit": 2048000,
      "rowLimit": 10000
     },
     "inputWidgets": {},
     "nuid": "5f956ae1-425a-40c1-ab4e-2a2f01bbc2d5",
     "showTitle": false,
     "title": ""
    }
   },
   "outputs": [
    {
     "output_type": "stream",
     "name": "stdout",
     "output_type": "stream",
     "text": [
      "Sample of transformed training data:\n+------------------+----------------------+\n|REALIZED_DELAY_MIN|LOG_REALIZED_DELAY_MIN|\n+------------------+----------------------+\n|              NULL|                   0.0|\n|              NULL|                   0.0|\n|              NULL|                   0.0|\n|              NULL|                   0.0|\n|              NULL|                   0.0|\n+------------------+----------------------+\nonly showing top 5 rows\n\n\nFloor value used: -251.90000000000003\n"
     ]
    }
   ],
   "source": [
    "from pyspark.sql.functions import col, log, min, lit, when\n",
    "\n",
    "def log_transform_delay(train_df, column_name=\"REALIZED_DELAY_MIN\"):\n",
    "    # Find the minimum value in the training set\n",
    "    min_delay = train_df.agg(min(column_name)).collect()[0][0]\n",
    "    \n",
    "    # Set a floor value that's slightly lower than the minimum observed value\n",
    "    floor_value = min_delay - 1 if min_delay > 0 else min_delay * 1.1 if min_delay < 0 else -1\n",
    "    \n",
    "    # Define the transformation\n",
    "    def transform(df):\n",
    "        return df.withColumn(\n",
    "            f\"LOG_{column_name}\",\n",
    "            when(col(column_name) > floor_value,\n",
    "                 log(col(column_name) - floor_value + 1)\n",
    "            ).otherwise(0)\n",
    "        )\n",
    "    \n",
    "    # Apply the transformation to both dataframes\n",
    "    train_df_transformed = transform(train_df)\n",
    "    # val_df_transformed = transform(val_df)\n",
    "    # test_df_transformed = transform(test_df)\n",
    "    \n",
    "    # return train_df_transformed, val_df_transformed, test_df_transformed, floor_value\n",
    "\n",
    "    return train_df_transformed, floor_value\n",
    "\n",
    "# Apply the transformation\n",
    "df_train, floor_value = log_transform_delay(df_train)\n",
    "\n",
    "# Display a sample of the transformed data\n",
    "print(\"Sample of transformed training data:\")\n",
    "df_train.select(\"REALIZED_DELAY_MIN\", \"LOG_REALIZED_DELAY_MIN\").show(5)\n",
    "\n",
    "# print(\"\\nSample of transformed test data:\")\n",
    "# df_test.select(\"REALIZED_DELAY_MIN\", \"LOG_REALIZED_DELAY_MIN\").show(5)\n",
    "\n",
    "print(f\"\\nFloor value used: {floor_value}\")"
   ]
  },
  {
   "cell_type": "code",
   "execution_count": 0,
   "metadata": {
    "application/vnd.databricks.v1+cell": {
     "cellMetadata": {
      "byteLimit": 2048000,
      "rowLimit": 10000
     },
     "inputWidgets": {},
     "nuid": "b97d28c9-4b70-4caa-bd3e-8540e2419ebc",
     "showTitle": false,
     "title": ""
    }
   },
   "outputs": [],
   "source": [
    "df_test = df_test.withColumn(\n",
    "                    \"LOG_REALIZED_DELAY_MIN\",\n",
    "                    when(col(\"REALIZED_DELAY_MIN\") > floor_value,\n",
    "                        log(col(\"REALIZED_DELAY_MIN\") - floor_value + 1)\n",
    "                    ).otherwise(0)\n",
    "                )"
   ]
  },
  {
   "cell_type": "code",
   "execution_count": 0,
   "metadata": {
    "application/vnd.databricks.v1+cell": {
     "cellMetadata": {
      "byteLimit": 2048000,
      "rowLimit": 10000
     },
     "inputWidgets": {},
     "nuid": "f1784aaa-ea99-48dd-aeb3-e3d41d4f65a8",
     "showTitle": false,
     "title": ""
    }
   },
   "outputs": [],
   "source": [
    "df_val = df_val.withColumn(\n",
    "                    \"LOG_REALIZED_DELAY_MIN\",\n",
    "                    when(col(\"REALIZED_DELAY_MIN\") > floor_value,\n",
    "                        log(col(\"REALIZED_DELAY_MIN\") - floor_value + 1)\n",
    "                    ).otherwise(0)\n",
    "                )"
   ]
  },
  {
   "cell_type": "code",
   "execution_count": 0,
   "metadata": {
    "application/vnd.databricks.v1+cell": {
     "cellMetadata": {
      "byteLimit": 2048000,
      "rowLimit": 10000
     },
     "inputWidgets": {},
     "nuid": "0a4511e9-849a-46cb-9aae-8c7d08f13f90",
     "showTitle": false,
     "title": ""
    }
   },
   "outputs": [],
   "source": [
    "numeric_cols = [\n",
    "    'DISTANCE',\n",
    "    'ELEVATION',\n",
    "    'HourlyAltimeterSetting',\n",
    "    'HourlyDryBulbTemperature',\n",
    "    'HourlyPrecipitation',\n",
    "    'HourlyRelativeHumidity',\n",
    "    'HourlySeaLevelPressure',\n",
    "    'HourlyVisibility',\n",
    "    'HourlyWindDirection',\n",
    "    'HourlyWindSpeed',\n",
    "    'DISTANCE_LAG',\n",
    "    # 'REALIZED_DELAY_MIN',    \n",
    "    'LOG_REALIZED_DELAY_MIN',\n",
    "    'OUTDEG_AIRPORT_6hr',\n",
    "    'DEP_12hr', 'DEP_6hr', 'DEP_4hr'\n",
    "]\n",
    "\n",
    "categorical_cols = [\n",
    "    'MONTH_1', 'MONTH_2', 'MONTH_3', 'MONTH_4', 'MONTH_5', 'MONTH_6', 'MONTH_7', 'MONTH_8', 'MONTH_9', 'MONTH_10', 'MONTH_11', 'MONTH_12',\n",
    "    'HOUR_00', 'HOUR_01', 'HOUR_02', 'HOUR_03', 'HOUR_04', 'HOUR_05', 'HOUR_06', 'HOUR_07', 'HOUR_08', 'HOUR_09', 'HOUR_10', 'HOUR_11',\n",
    "    'HOUR_12', 'HOUR_13', 'HOUR_14', 'HOUR_15', 'HOUR_16', 'HOUR_17', 'HOUR_18', 'HOUR_19', 'HOUR_20', 'HOUR_21', 'HOUR_22', 'HOUR_23',\n",
    "    'DAY_OF_WEEK_1', 'DAY_OF_WEEK_2', 'DAY_OF_WEEK_3', 'DAY_OF_WEEK_4', 'DAY_OF_WEEK_5', 'DAY_OF_WEEK_6', 'DAY_OF_WEEK_7',\n",
    "    'OP_CARRIER_9E', 'OP_CARRIER_AA', 'OP_CARRIER_AS', 'OP_CARRIER_B6', 'OP_CARRIER_DL', 'OP_CARRIER_EV', 'OP_CARRIER_F9',\n",
    "    'OP_CARRIER_G4', 'OP_CARRIER_HA', 'OP_CARRIER_MQ', 'OP_CARRIER_NK', 'OP_CARRIER_OH', 'OP_CARRIER_OO', 'OP_CARRIER_UA',\n",
    "    'OP_CARRIER_WN', 'OP_CARRIER_YV', 'OP_CARRIER_YX',\n",
    "    'Rain',\n",
    "    'Snow',\n",
    "    'Thunder',\n",
    "    'Tornado',\n",
    "    'View Obstruction',\n",
    "    'REALIZED_DEL15',\n",
    "    'HOLIDAY',\n",
    "    'type_large_airport',\n",
    "    'type_medium_airport',\n",
    "    'type_seaplane_base',\n",
    "    'type_small_airport'\n",
    " ]\n",
    "\n",
    "other_reqiured_cols = [\"YEAR\", \"FL_DATE\", \"CRS_DEP_TIME\", \"DEP_DEL15\"]\n",
    "feats = numeric_cols + categorical_cols + other_reqiured_cols"
   ]
  },
  {
   "cell_type": "code",
   "execution_count": 0,
   "metadata": {
    "application/vnd.databricks.v1+cell": {
     "cellMetadata": {
      "byteLimit": 2048000,
      "rowLimit": 10000
     },
     "inputWidgets": {},
     "nuid": "b2ac62d5-d8fe-45ff-83ed-2ccbcc37f3ec",
     "showTitle": false,
     "title": ""
    }
   },
   "outputs": [],
   "source": [
    "df_train = df_train.select(feats + [\"index\"])\n",
    "\n",
    "df_train = df_train.dropna()\n"
   ]
  },
  {
   "cell_type": "code",
   "execution_count": 0,
   "metadata": {
    "application/vnd.databricks.v1+cell": {
     "cellMetadata": {
      "byteLimit": 2048000,
      "rowLimit": 10000
     },
     "inputWidgets": {},
     "nuid": "d534dc33-0c77-4441-aa7c-8b74d4e5130f",
     "showTitle": false,
     "title": ""
    }
   },
   "outputs": [
    {
     "output_type": "display_data",
     "data": {
      "application/vnd.jupyter.widget-view+json": {
       "model_id": "78d55e1599694fe6947ec954ff008d4b",
       "version_major": 2,
       "version_minor": 0
      },
      "text/plain": [
       "Downloading artifacts:   0%|          | 0/25 [00:00<?, ?it/s]"
      ]
     },
     "metadata": {},
     "output_type": "display_data"
    },
    {
     "output_type": "display_data",
     "data": {
      "application/vnd.jupyter.widget-view+json": {
       "model_id": "33158977bfe84a61bb66836da84a350d",
       "version_major": 2,
       "version_minor": 0
      },
      "text/plain": [
       "Uploading artifacts:   0%|          | 0/4 [00:00<?, ?it/s]"
      ]
     },
     "metadata": {},
     "output_type": "display_data"
    }
   ],
   "source": [
    "# Assemble one-hot encoded variables with numerical features\n",
    "assembler = VectorAssembler(inputCols=numeric_cols, outputCol=\"numeric_features\")\n",
    "scaler = StandardScaler(inputCol='numeric_features', outputCol=\"num_feats_scaled\", withMean=True)\n",
    "final_assembler = VectorAssembler(\n",
    "    inputCols=[\"num_feats_scaled\"] + categorical_cols,\n",
    "    outputCol=\"features\"\n",
    ")\n",
    "pipeline = Pipeline(stages=[assembler, scaler, final_assembler])\n",
    "# pipeline_model = pipeline.fit(trainDF)\n",
    "df_train_transform = pipeline \\\n",
    "    .fit(df_train) \\\n",
    "    .transform(df_train) \\\n",
    "    .select(\"YEAR\", \"FL_DATE\", \"CRS_DEP_TIME\", \"DEP_DEL15\", \"features\", \"index\")\n"
   ]
  },
  {
   "cell_type": "markdown",
   "metadata": {
    "application/vnd.databricks.v1+cell": {
     "cellMetadata": {
      "byteLimit": 2048000,
      "rowLimit": 10000
     },
     "inputWidgets": {},
     "nuid": "819d5ad5-2b3d-4218-8029-9d00066f869e",
     "showTitle": false,
     "title": ""
    }
   },
   "source": [
    "## Helper Functions"
   ]
  },
  {
   "cell_type": "code",
   "execution_count": 0,
   "metadata": {
    "application/vnd.databricks.v1+cell": {
     "cellMetadata": {
      "byteLimit": 2048000,
      "rowLimit": 10000
     },
     "inputWidgets": {},
     "nuid": "a1651a4f-ec09-4f98-b0a6-338427e9b58e",
     "showTitle": false,
     "title": ""
    }
   },
   "outputs": [],
   "source": [
    "def evaluate_multiclass_metrics(predictions, target_feature):\n",
    "    # Convert DataFrame to RDD\n",
    "    prediction_and_label = predictions\\\n",
    "                            .select([\"prediction\", target_feature])\\\n",
    "                            .withColumn(target_feature, col(target_feature).cast(FloatType()))\\\n",
    "                            .orderBy(target_feature)\n",
    "\n",
    "    # Create MulticlassMetrics object\n",
    "    metrics = MulticlassMetrics(prediction_and_label.rdd.map(tuple))\n",
    "\n",
    "    # Collect metrics\n",
    "    accuracy = metrics.accuracy\n",
    "    precision = metrics.precision(1.0)\n",
    "    recall = metrics.recall(1.0)\n",
    "    f1_measure = metrics.fMeasure(1.0)\n",
    "    \n",
    "    return accuracy, precision, recall, f1_measure\n",
    "\n",
    "def evaluate_roc_curve(predictions, target_feature):\n",
    "    evaluator = BinaryClassificationEvaluator(labelCol=target_feature)\n",
    "    area_under_curve = evaluator.evaluate(predictions)\n",
    "    return area_under_curve"
   ]
  },
  {
   "cell_type": "code",
   "execution_count": 0,
   "metadata": {
    "application/vnd.databricks.v1+cell": {
     "cellMetadata": {
      "byteLimit": 2048000,
      "rowLimit": 10000
     },
     "inputWidgets": {},
     "nuid": "6ba83d7d-54e9-4bb0-9fdb-5940c0d2192a",
     "showTitle": false,
     "title": ""
    }
   },
   "outputs": [],
   "source": [
    "def plot_precision_recall_curve(lr_model):\n",
    "    training_summary = lr_model.summary\n",
    "    score = training_summary.pr.toPandas()\n",
    "    plt.plot(score[\"recall\"], score[\"precision\"])\n",
    "    plt.title(\"Precision vs Recall\")\n",
    "    plt.ylabel(\"Precision\")\n",
    "    plt.xlabel(\"Recall\")\n",
    "    plt.show()\n",
    "\n",
    "def plot_roc_curve(lr_model):\n",
    "    training_summary = lr_model.summary\n",
    "    lr_roc = training_summary.roc.toPandas()\n",
    "\n",
    "    plt.plot(lr_roc[\"FPR\"], lr_roc[\"TPR\"])\n",
    "    plt.ylabel(\"False Positive Rate\")\n",
    "    plt.xlabel(\"True Positive Rate\")\n",
    "    plt.title(\"ROC Curve\")\n",
    "    plt.show()\n",
    "\n",
    "    print(\"Training set areaUnderROC: \" + str(training_summary.areaUnderROC))"
   ]
  },
  {
   "cell_type": "markdown",
   "metadata": {
    "application/vnd.databricks.v1+cell": {
     "cellMetadata": {},
     "inputWidgets": {},
     "nuid": "44800abf-0484-440f-aa25-915f21af50c9",
     "showTitle": false,
     "title": ""
    }
   },
   "source": []
  },
  {
   "cell_type": "code",
   "execution_count": 0,
   "metadata": {
    "application/vnd.databricks.v1+cell": {
     "cellMetadata": {
      "byteLimit": 2048000,
      "rowLimit": 10000
     },
     "inputWidgets": {},
     "nuid": "ecb014bc-89e9-449a-8756-1340358d5f6a",
     "showTitle": false,
     "title": ""
    }
   },
   "outputs": [],
   "source": [
    "def create_dataset(lr_predictions, lr_model):\n",
    "    attrs = sorted((attr[\"idx\"], attr[\"name\"]) for attr in \n",
    "                   (chain(*lr_predictions.schema[\"features\"].metadata[\"ml_attr\"][\"attrs\"].values())\n",
    "                   ))\n",
    "\n",
    "    pairs = [(name, lr_model.coefficients[idx]) for idx, name in attrs]\n",
    "    sorted_pairs = sorted(pairs, key = lambda p: abs(p[1]), reverse=True)\n",
    "    variables = sorted_pairs\n",
    "\n",
    "    dataset = pd.DataFrame(variables, columns = [\"predictors\", \"coefficients\"])\n",
    "    dataset[\"exp_coef\"] = np.exp(dataset.coefficients)\n",
    "    dataset = dataset.sort_values(by=\"exp_coef\", ascending=False)\n",
    "\n",
    "    return dataset"
   ]
  },
  {
   "cell_type": "code",
   "execution_count": 0,
   "metadata": {
    "application/vnd.databricks.v1+cell": {
     "cellMetadata": {
      "byteLimit": 2048000,
      "rowLimit": 10000
     },
     "inputWidgets": {},
     "nuid": "5bf2967b-e317-4c61-ba5b-9750cbcfb08c",
     "showTitle": false,
     "title": ""
    }
   },
   "outputs": [],
   "source": [
    "def block_splits(n_splits, df):\n",
    "    n_samples = df.count()\n",
    "    k_fold_size = n_samples // n_splits\n",
    "    indices = np.arange(n_samples)\n",
    "\n",
    "    blocks = []\n",
    "    margin = 0\n",
    "    for i in range(n_splits):\n",
    "        start = i * k_fold_size\n",
    "        stop = start + k_fold_size\n",
    "        mid = int(0.8 * (stop - start)) + start\n",
    "        block = [start, mid, stop]\n",
    "        blocks.append(block)\n",
    "\n",
    "    return blocks"
   ]
  },
  {
   "cell_type": "code",
   "execution_count": 0,
   "metadata": {
    "application/vnd.databricks.v1+cell": {
     "cellMetadata": {
      "byteLimit": 2048000,
      "rowLimit": 10000
     },
     "inputWidgets": {},
     "nuid": "7cc348f1-6fb7-4580-a212-bb02d8ba44bd",
     "showTitle": false,
     "title": ""
    }
   },
   "outputs": [
    {
     "output_type": "stream",
     "name": "stdout",
     "output_type": "stream",
     "text": [
      "[[0, 165264, 206580], [206580, 371844, 413160], [413160, 578424, 619740], [619740, 785004, 826320], [826320, 991584, 1032900], [1032900, 1198164, 1239480]]\n"
     ]
    }
   ],
   "source": [
    "blocks = block_splits(n_splits=6, df=df_train_transform)\n",
    "print(blocks)"
   ]
  },
  {
   "cell_type": "markdown",
   "metadata": {
    "application/vnd.databricks.v1+cell": {
     "cellMetadata": {
      "byteLimit": 2048000,
      "rowLimit": 10000
     },
     "inputWidgets": {},
     "nuid": "500d2c2d-bc47-4068-8e38-2399992183de",
     "showTitle": false,
     "title": ""
    }
   },
   "source": [
    "##LogReg With Lasso With Block Time Series Splits"
   ]
  },
  {
   "cell_type": "code",
   "execution_count": 0,
   "metadata": {
    "application/vnd.databricks.v1+cell": {
     "cellMetadata": {
      "byteLimit": 2048000,
      "rowLimit": 10000
     },
     "inputWidgets": {},
     "nuid": "b3926285-e4e7-4f99-bb59-6c30b02cab2f",
     "showTitle": false,
     "title": ""
    }
   },
   "outputs": [
    {
     "output_type": "display_data",
     "data": {
      "text/html": [
       "<style scoped>\n",
       "  .table-result-container {\n",
       "    max-height: 300px;\n",
       "    overflow: auto;\n",
       "  }\n",
       "  table, th, td {\n",
       "    border: 1px solid black;\n",
       "    border-collapse: collapse;\n",
       "  }\n",
       "  th, td {\n",
       "    padding: 5px;\n",
       "  }\n",
       "  th {\n",
       "    text-align: left;\n",
       "  }\n",
       "</style><div class='table-result-container'><table class='table-result'><thead style='background-color: white'><tr><th>YEAR</th><th>FL_DATE</th><th>CRS_DEP_TIME</th><th>DEP_DEL15</th><th>features</th><th>index</th></tr></thead><tbody><tr><td>2015</td><td>2015-01-01</td><td>515</td><td>1.0</td><td>Map(vectorType -> sparse, length -> 87, indices -> List(0, 1, 2, 3, 4, 5, 6, 7, 8, 9, 10, 11, 12, 13, 14, 15, 16, 33, 55, 60, 76, 82, 83), values -> List(0.4931302957384638, -0.14711279512505573, 0.43012418358580196, -1.3507800584486882, -0.29681411056900553, -0.6413437089299155, 0.5477557688206123, 1.1369205965954012, -1.2885845784957484, -0.6522296362892461, 0.5069748911064916, -3.2148547156111107, -0.9751745435483247, -1.118160971981017, -0.9066118068884264, -0.879387815459479, 1.0, 1.0, 1.0, 1.0, 1.0, 1.0, 1.0))</td><td>28</td></tr><tr><td>2015</td><td>2015-01-01</td><td>600</td><td>0.0</td><td>Map(vectorType -> sparse, length -> 87, indices -> List(0, 1, 2, 3, 4, 5, 6, 7, 8, 9, 10, 11, 12, 13, 14, 15, 16, 20, 34, 40, 53, 55, 62, 73, 76, 80, 82, 83), values -> List(0.4054122149618101, -0.6014243824661881, 0.19482285022736376, 0.8337922242069862, -0.29681411056900553, 0.8557696709017842, 0.5281015360715038, -0.3079805502185981, 1.8318741208185734, -0.6522296362892461, 0.41896270848393025, -3.2148547156111107, -0.9751745435483247, -1.118160971981017, -0.9066118068884264, -0.879387815459479, 1.0, 1.0, 1.0, 1.0, 1.0, 1.0, 1.0, 1.0, 1.0, 1.0, 1.0, 2.0))</td><td>105</td></tr><tr><td>2015</td><td>2015-01-01</td><td>600</td><td>0.0</td><td>Map(vectorType -> sparse, length -> 87, indices -> List(0, 1, 2, 3, 4, 5, 6, 7, 8, 9, 10, 11, 12, 13, 14, 15, 16, 34, 55, 69, 76, 82, 83), values -> List(0.4897565234009002, -0.14711279512505573, 0.39943219628704774, -1.2947653845344402, -0.29681411056900553, -0.8552170489058727, 0.5461178770420306, 1.1544701274613054, 1.7427181579810214, -0.6522296362892461, 0.0787617718082605, -0.03176444365678946, -0.9751745435483247, -1.118160971981017, -0.9066118068884264, -0.879387815459479, 1.0, 1.0, 1.0, 1.0, 1.0, 1.0, 1.0))</td><td>142</td></tr><tr><td>2015</td><td>2015-01-01</td><td>625</td><td>0.0</td><td>Map(vectorType -> sparse, length -> 87, indices -> List(0, 1, 2, 3, 4, 5, 6, 7, 8, 9, 10, 11, 12, 13, 14, 15, 16, 18, 34, 46, 54, 55, 60, 73, 76, 82, 83), values -> List(0.18105635451383054, -0.14711279512505573, 0.39943219628704774, -1.2947653845344402, -0.29681411056900553, -0.8552170489058727, 0.5461178770420306, 1.1544701274613054, 1.7427181579810214, -0.6522296362892461, 0.19385462600699455, -3.2148547156111107, -0.9751745435483247, -1.118160971981017, -0.9066118068884264, -0.879387815459479, 1.0, 1.0, 1.0, 1.0, 1.0, 1.0, 1.0, 1.0, 1.0, 1.0, 2.0))</td><td>289</td></tr><tr><td>2015</td><td>2015-01-01</td><td>630</td><td>1.0</td><td>Map(vectorType -> sparse, length -> 87, indices -> List(0, 1, 2, 3, 4, 5, 6, 7, 8, 9, 10, 11, 12, 13, 14, 15, 16, 34, 55, 65, 80, 82, 83), values -> List(1.3129569737664193, -0.5851310808601439, 0.22551483752611798, 0.6097335285499939, -0.29681411056900553, 0.9270607842271033, -1.9385070950099375, -0.8929608212905594, -1.2885845784957484, -0.6522296362892461, 1.3295502902327379, -3.2148547156111107, -0.9751745435483247, -1.118160971981017, -0.9066118068884264, -0.879387815459479, 1.0, 1.0, 1.0, 1.0, 1.0, 1.0, 1.0))</td><td>322</td></tr><tr><td>2015</td><td>2015-01-01</td><td>655</td><td>0.0</td><td>Map(vectorType -> sparse, length -> 87, indices -> List(0, 1, 2, 3, 4, 5, 6, 7, 8, 9, 10, 11, 12, 13, 14, 15, 16, 34, 55, 60, 76, 82, 83), values -> List(0.9452157889719865, -0.14711279512505573, 0.39943219628704774, -1.2947653845344402, -0.29681411056900553, -0.8552170489058727, 0.5461178770420306, 1.1544701274613054, 1.7427181579810214, -0.6522296362892461, 1.0875167880206942, -0.23341094594021725, -0.9751745435483247, -1.118160971981017, -0.9066118068884264, -0.879387815459479, 1.0, 1.0, 1.0, 1.0, 1.0, 1.0, 1.0))</td><td>421</td></tr><tr><td>2015</td><td>2015-01-01</td><td>655</td><td>0.0</td><td>Map(vectorType -> sparse, length -> 87, indices -> List(0, 1, 2, 3, 4, 5, 6, 7, 8, 9, 10, 11, 12, 13, 14, 15, 16, 22, 34, 52, 55, 60, 63, 76, 82, 83, 84), values -> List(0.9452157889719865, -0.14711279512505573, 0.39943219628704774, -1.2947653845344402, -0.29681411056900553, -0.8552170489058727, 0.5461178770420306, 1.1544701274613054, 1.7427181579810214, -0.6522296362892461, 0.9605761400073846, -3.2148547156111107, -0.9751745435483247, -1.118160971981017, -0.9066118068884264, -0.879387815459479, 1.0, 1.0, 2.0, 1.0, 1.0, 1.0, 1.0, 1.0, 1.0, 1.0, 1.0))</td><td>423</td></tr><tr><td>2015</td><td>2015-01-01</td><td>713</td><td>1.0</td><td>Map(vectorType -> sparse, length -> 87, indices -> List(0, 1, 2, 3, 4, 5, 6, 7, 8, 9, 10, 11, 12, 13, 14, 15, 16, 35, 55, 60, 80, 82, 83), values -> List(0.3649269469110469, -0.5867604095963854, 0.2152841750931999, 0.8337922242069862, -0.29681411056900553, 0.42802299094987, 0.5305582175414192, -0.015490414682617408, 1.6535621951434694, -0.6522296362892461, 0.3783417011196712, -3.2148547156111107, -0.9751745435483247, -1.118160971981017, -0.9066118068884264, -0.879387815459479, 1.0, 1.0, 1.0, 1.0, 1.0, 1.0, 1.0))</td><td>544</td></tr><tr><td>2015</td><td>2015-01-01</td><td>715</td><td>0.0</td><td>Map(vectorType -> sparse, length -> 87, indices -> List(0, 1, 2, 3, 4, 5, 6, 7, 8, 9, 10, 11, 12, 13, 14, 15, 16, 35, 55, 60, 80, 82, 83), values -> List(0.4509581415189188, -0.5867604095963854, 0.2152841750931999, 0.8337922242069862, -0.29681411056900553, 0.42802299094987, 0.5305582175414192, -0.015490414682617408, 1.6535621951434694, -0.6522296362892461, 0.4646613417687217, -3.2148547156111107, -0.9751745435483247, -1.118160971981017, -0.9066118068884264, -0.879387815459479, 1.0, 1.0, 1.0, 1.0, 1.0, 1.0, 1.0))</td><td>562</td></tr><tr><td>2015</td><td>2015-01-01</td><td>720</td><td>0.0</td><td>Map(vectorType -> sparse, length -> 87, indices -> List(0, 1, 2, 3, 4, 5, 6, 7, 8, 9, 10, 11, 12, 13, 14, 15, 16, 35, 55, 60, 80, 82, 83), values -> List(0.4324023936623189, -0.5867604095963854, 0.2152841750931999, 0.8337922242069862, -0.29681411056900553, 0.42802299094987, 0.5305582175414192, -0.015490414682617408, 1.6535621951434694, -0.6522296362892461, -1.0653966022850367, -0.07144557424155, -0.9751745435483247, -1.118160971981017, -0.9066118068884264, -0.879387815459479, 1.0, 1.0, 1.0, 1.0, 1.0, 1.0, 1.0))</td><td>591</td></tr></tbody></table></div>"
      ]
     },
     "metadata": {
      "application/vnd.databricks.v1+output": {
       "addedWidgets": {},
       "aggData": [],
       "aggError": "",
       "aggOverflow": false,
       "aggSchema": [],
       "aggSeriesLimitReached": false,
       "aggType": "",
       "arguments": {},
       "columnCustomDisplayInfos": {},
       "data": [
        [
         "2015",
         "2015-01-01",
         515,
         1.0,
         {
          "indices": [
           0,
           1,
           2,
           3,
           4,
           5,
           6,
           7,
           8,
           9,
           10,
           11,
           12,
           13,
           14,
           15,
           16,
           33,
           55,
           60,
           76,
           82,
           83
          ],
          "length": 87,
          "values": [
           0.4931302957384638,
           -0.14711279512505573,
           0.43012418358580196,
           -1.3507800584486882,
           -0.29681411056900553,
           -0.6413437089299155,
           0.5477557688206123,
           1.1369205965954012,
           -1.2885845784957484,
           -0.6522296362892461,
           0.5069748911064916,
           -3.2148547156111107,
           -0.9751745435483247,
           -1.118160971981017,
           -0.9066118068884264,
           -0.879387815459479,
           1.0,
           1.0,
           1.0,
           1.0,
           1.0,
           1.0,
           1.0
          ],
          "vectorType": "sparse"
         },
         28
        ],
        [
         "2015",
         "2015-01-01",
         600,
         0.0,
         {
          "indices": [
           0,
           1,
           2,
           3,
           4,
           5,
           6,
           7,
           8,
           9,
           10,
           11,
           12,
           13,
           14,
           15,
           16,
           20,
           34,
           40,
           53,
           55,
           62,
           73,
           76,
           80,
           82,
           83
          ],
          "length": 87,
          "values": [
           0.4054122149618101,
           -0.6014243824661881,
           0.19482285022736376,
           0.8337922242069862,
           -0.29681411056900553,
           0.8557696709017842,
           0.5281015360715038,
           -0.3079805502185981,
           1.8318741208185734,
           -0.6522296362892461,
           0.41896270848393025,
           -3.2148547156111107,
           -0.9751745435483247,
           -1.118160971981017,
           -0.9066118068884264,
           -0.879387815459479,
           1.0,
           1.0,
           1.0,
           1.0,
           1.0,
           1.0,
           1.0,
           1.0,
           1.0,
           1.0,
           1.0,
           2.0
          ],
          "vectorType": "sparse"
         },
         105
        ],
        [
         "2015",
         "2015-01-01",
         600,
         0.0,
         {
          "indices": [
           0,
           1,
           2,
           3,
           4,
           5,
           6,
           7,
           8,
           9,
           10,
           11,
           12,
           13,
           14,
           15,
           16,
           34,
           55,
           69,
           76,
           82,
           83
          ],
          "length": 87,
          "values": [
           0.4897565234009002,
           -0.14711279512505573,
           0.39943219628704774,
           -1.2947653845344402,
           -0.29681411056900553,
           -0.8552170489058727,
           0.5461178770420306,
           1.1544701274613054,
           1.7427181579810214,
           -0.6522296362892461,
           0.0787617718082605,
           -0.03176444365678946,
           -0.9751745435483247,
           -1.118160971981017,
           -0.9066118068884264,
           -0.879387815459479,
           1.0,
           1.0,
           1.0,
           1.0,
           1.0,
           1.0,
           1.0
          ],
          "vectorType": "sparse"
         },
         142
        ],
        [
         "2015",
         "2015-01-01",
         625,
         0.0,
         {
          "indices": [
           0,
           1,
           2,
           3,
           4,
           5,
           6,
           7,
           8,
           9,
           10,
           11,
           12,
           13,
           14,
           15,
           16,
           18,
           34,
           46,
           54,
           55,
           60,
           73,
           76,
           82,
           83
          ],
          "length": 87,
          "values": [
           0.18105635451383054,
           -0.14711279512505573,
           0.39943219628704774,
           -1.2947653845344402,
           -0.29681411056900553,
           -0.8552170489058727,
           0.5461178770420306,
           1.1544701274613054,
           1.7427181579810214,
           -0.6522296362892461,
           0.19385462600699455,
           -3.2148547156111107,
           -0.9751745435483247,
           -1.118160971981017,
           -0.9066118068884264,
           -0.879387815459479,
           1.0,
           1.0,
           1.0,
           1.0,
           1.0,
           1.0,
           1.0,
           1.0,
           1.0,
           1.0,
           2.0
          ],
          "vectorType": "sparse"
         },
         289
        ],
        [
         "2015",
         "2015-01-01",
         630,
         1.0,
         {
          "indices": [
           0,
           1,
           2,
           3,
           4,
           5,
           6,
           7,
           8,
           9,
           10,
           11,
           12,
           13,
           14,
           15,
           16,
           34,
           55,
           65,
           80,
           82,
           83
          ],
          "length": 87,
          "values": [
           1.3129569737664193,
           -0.5851310808601439,
           0.22551483752611798,
           0.6097335285499939,
           -0.29681411056900553,
           0.9270607842271033,
           -1.9385070950099375,
           -0.8929608212905594,
           -1.2885845784957484,
           -0.6522296362892461,
           1.3295502902327379,
           -3.2148547156111107,
           -0.9751745435483247,
           -1.118160971981017,
           -0.9066118068884264,
           -0.879387815459479,
           1.0,
           1.0,
           1.0,
           1.0,
           1.0,
           1.0,
           1.0
          ],
          "vectorType": "sparse"
         },
         322
        ],
        [
         "2015",
         "2015-01-01",
         655,
         0.0,
         {
          "indices": [
           0,
           1,
           2,
           3,
           4,
           5,
           6,
           7,
           8,
           9,
           10,
           11,
           12,
           13,
           14,
           15,
           16,
           34,
           55,
           60,
           76,
           82,
           83
          ],
          "length": 87,
          "values": [
           0.9452157889719865,
           -0.14711279512505573,
           0.39943219628704774,
           -1.2947653845344402,
           -0.29681411056900553,
           -0.8552170489058727,
           0.5461178770420306,
           1.1544701274613054,
           1.7427181579810214,
           -0.6522296362892461,
           1.0875167880206942,
           -0.23341094594021725,
           -0.9751745435483247,
           -1.118160971981017,
           -0.9066118068884264,
           -0.879387815459479,
           1.0,
           1.0,
           1.0,
           1.0,
           1.0,
           1.0,
           1.0
          ],
          "vectorType": "sparse"
         },
         421
        ],
        [
         "2015",
         "2015-01-01",
         655,
         0.0,
         {
          "indices": [
           0,
           1,
           2,
           3,
           4,
           5,
           6,
           7,
           8,
           9,
           10,
           11,
           12,
           13,
           14,
           15,
           16,
           22,
           34,
           52,
           55,
           60,
           63,
           76,
           82,
           83,
           84
          ],
          "length": 87,
          "values": [
           0.9452157889719865,
           -0.14711279512505573,
           0.39943219628704774,
           -1.2947653845344402,
           -0.29681411056900553,
           -0.8552170489058727,
           0.5461178770420306,
           1.1544701274613054,
           1.7427181579810214,
           -0.6522296362892461,
           0.9605761400073846,
           -3.2148547156111107,
           -0.9751745435483247,
           -1.118160971981017,
           -0.9066118068884264,
           -0.879387815459479,
           1.0,
           1.0,
           2.0,
           1.0,
           1.0,
           1.0,
           1.0,
           1.0,
           1.0,
           1.0,
           1.0
          ],
          "vectorType": "sparse"
         },
         423
        ],
        [
         "2015",
         "2015-01-01",
         713,
         1.0,
         {
          "indices": [
           0,
           1,
           2,
           3,
           4,
           5,
           6,
           7,
           8,
           9,
           10,
           11,
           12,
           13,
           14,
           15,
           16,
           35,
           55,
           60,
           80,
           82,
           83
          ],
          "length": 87,
          "values": [
           0.3649269469110469,
           -0.5867604095963854,
           0.2152841750931999,
           0.8337922242069862,
           -0.29681411056900553,
           0.42802299094987,
           0.5305582175414192,
           -0.015490414682617408,
           1.6535621951434694,
           -0.6522296362892461,
           0.3783417011196712,
           -3.2148547156111107,
           -0.9751745435483247,
           -1.118160971981017,
           -0.9066118068884264,
           -0.879387815459479,
           1.0,
           1.0,
           1.0,
           1.0,
           1.0,
           1.0,
           1.0
          ],
          "vectorType": "sparse"
         },
         544
        ],
        [
         "2015",
         "2015-01-01",
         715,
         0.0,
         {
          "indices": [
           0,
           1,
           2,
           3,
           4,
           5,
           6,
           7,
           8,
           9,
           10,
           11,
           12,
           13,
           14,
           15,
           16,
           35,
           55,
           60,
           80,
           82,
           83
          ],
          "length": 87,
          "values": [
           0.4509581415189188,
           -0.5867604095963854,
           0.2152841750931999,
           0.8337922242069862,
           -0.29681411056900553,
           0.42802299094987,
           0.5305582175414192,
           -0.015490414682617408,
           1.6535621951434694,
           -0.6522296362892461,
           0.4646613417687217,
           -3.2148547156111107,
           -0.9751745435483247,
           -1.118160971981017,
           -0.9066118068884264,
           -0.879387815459479,
           1.0,
           1.0,
           1.0,
           1.0,
           1.0,
           1.0,
           1.0
          ],
          "vectorType": "sparse"
         },
         562
        ],
        [
         "2015",
         "2015-01-01",
         720,
         0.0,
         {
          "indices": [
           0,
           1,
           2,
           3,
           4,
           5,
           6,
           7,
           8,
           9,
           10,
           11,
           12,
           13,
           14,
           15,
           16,
           35,
           55,
           60,
           80,
           82,
           83
          ],
          "length": 87,
          "values": [
           0.4324023936623189,
           -0.5867604095963854,
           0.2152841750931999,
           0.8337922242069862,
           -0.29681411056900553,
           0.42802299094987,
           0.5305582175414192,
           -0.015490414682617408,
           1.6535621951434694,
           -0.6522296362892461,
           -1.0653966022850367,
           -0.07144557424155,
           -0.9751745435483247,
           -1.118160971981017,
           -0.9066118068884264,
           -0.879387815459479,
           1.0,
           1.0,
           1.0,
           1.0,
           1.0,
           1.0,
           1.0
          ],
          "vectorType": "sparse"
         },
         591
        ]
       ],
       "datasetInfos": [],
       "dbfsResultPath": null,
       "isJsonSchema": true,
       "metadata": {},
       "overflow": false,
       "plotOptions": {
        "customPlotOptions": {},
        "displayType": "table",
        "pivotAggregation": null,
        "pivotColumns": null,
        "xColumns": null,
        "yColumns": null
       },
       "removedWidgets": [],
       "schema": [
        {
         "metadata": "{}",
         "name": "YEAR",
         "type": "\"string\""
        },
        {
         "metadata": "{}",
         "name": "FL_DATE",
         "type": "\"string\""
        },
        {
         "metadata": "{}",
         "name": "CRS_DEP_TIME",
         "type": "\"integer\""
        },
        {
         "metadata": "{}",
         "name": "DEP_DEL15",
         "type": "\"double\""
        },
        {
         "metadata": "{\"ml_attr\":{\"attrs\":{\"numeric\":[{\"idx\":0,\"name\":\"num_feats_scaled_0\"},{\"idx\":1,\"name\":\"num_feats_scaled_1\"},{\"idx\":2,\"name\":\"num_feats_scaled_2\"},{\"idx\":3,\"name\":\"num_feats_scaled_3\"},{\"idx\":4,\"name\":\"num_feats_scaled_4\"},{\"idx\":5,\"name\":\"num_feats_scaled_5\"},{\"idx\":6,\"name\":\"num_feats_scaled_6\"},{\"idx\":7,\"name\":\"num_feats_scaled_7\"},{\"idx\":8,\"name\":\"num_feats_scaled_8\"},{\"idx\":9,\"name\":\"num_feats_scaled_9\"},{\"idx\":10,\"name\":\"num_feats_scaled_10\"},{\"idx\":11,\"name\":\"num_feats_scaled_11\"},{\"idx\":12,\"name\":\"num_feats_scaled_12\"},{\"idx\":13,\"name\":\"num_feats_scaled_13\"},{\"idx\":14,\"name\":\"num_feats_scaled_14\"},{\"idx\":15,\"name\":\"num_feats_scaled_15\"},{\"idx\":16,\"name\":\"MONTH_1\"},{\"idx\":17,\"name\":\"MONTH_2\"},{\"idx\":18,\"name\":\"MONTH_3\"},{\"idx\":19,\"name\":\"MONTH_4\"},{\"idx\":20,\"name\":\"MONTH_5\"},{\"idx\":21,\"name\":\"MONTH_6\"},{\"idx\":22,\"name\":\"MONTH_7\"},{\"idx\":23,\"name\":\"MONTH_8\"},{\"idx\":24,\"name\":\"MONTH_9\"},{\"idx\":25,\"name\":\"MONTH_10\"},{\"idx\":26,\"name\":\"MONTH_11\"},{\"idx\":27,\"name\":\"MONTH_12\"},{\"idx\":28,\"name\":\"HOUR_00\"},{\"idx\":29,\"name\":\"HOUR_01\"},{\"idx\":30,\"name\":\"HOUR_02\"},{\"idx\":31,\"name\":\"HOUR_03\"},{\"idx\":32,\"name\":\"HOUR_04\"},{\"idx\":33,\"name\":\"HOUR_05\"},{\"idx\":34,\"name\":\"HOUR_06\"},{\"idx\":35,\"name\":\"HOUR_07\"},{\"idx\":36,\"name\":\"HOUR_08\"},{\"idx\":37,\"name\":\"HOUR_09\"},{\"idx\":38,\"name\":\"HOUR_10\"},{\"idx\":39,\"name\":\"HOUR_11\"},{\"idx\":40,\"name\":\"HOUR_12\"},{\"idx\":41,\"name\":\"HOUR_13\"},{\"idx\":42,\"name\":\"HOUR_14\"},{\"idx\":43,\"name\":\"HOUR_15\"},{\"idx\":44,\"name\":\"HOUR_16\"},{\"idx\":45,\"name\":\"HOUR_17\"},{\"idx\":46,\"name\":\"HOUR_18\"},{\"idx\":47,\"name\":\"HOUR_19\"},{\"idx\":48,\"name\":\"HOUR_20\"},{\"idx\":49,\"name\":\"HOUR_21\"},{\"idx\":50,\"name\":\"HOUR_22\"},{\"idx\":51,\"name\":\"HOUR_23\"},{\"idx\":52,\"name\":\"DAY_OF_WEEK_1\"},{\"idx\":53,\"name\":\"DAY_OF_WEEK_2\"},{\"idx\":54,\"name\":\"DAY_OF_WEEK_3\"},{\"idx\":55,\"name\":\"DAY_OF_WEEK_4\"},{\"idx\":56,\"name\":\"DAY_OF_WEEK_5\"},{\"idx\":57,\"name\":\"DAY_OF_WEEK_6\"},{\"idx\":58,\"name\":\"DAY_OF_WEEK_7\"},{\"idx\":59,\"name\":\"OP_CARRIER_9E\"},{\"idx\":60,\"name\":\"OP_CARRIER_AA\"},{\"idx\":61,\"name\":\"OP_CARRIER_AS\"},{\"idx\":62,\"name\":\"OP_CARRIER_B6\"},{\"idx\":63,\"name\":\"OP_CARRIER_DL\"},{\"idx\":64,\"name\":\"OP_CARRIER_EV\"},{\"idx\":65,\"name\":\"OP_CARRIER_F9\"},{\"idx\":66,\"name\":\"OP_CARRIER_G4\"},{\"idx\":67,\"name\":\"OP_CARRIER_HA\"},{\"idx\":68,\"name\":\"OP_CARRIER_MQ\"},{\"idx\":69,\"name\":\"OP_CARRIER_NK\"},{\"idx\":70,\"name\":\"OP_CARRIER_OH\"},{\"idx\":71,\"name\":\"OP_CARRIER_OO\"},{\"idx\":72,\"name\":\"OP_CARRIER_UA\"},{\"idx\":73,\"name\":\"OP_CARRIER_WN\"},{\"idx\":74,\"name\":\"OP_CARRIER_YV\"},{\"idx\":75,\"name\":\"OP_CARRIER_YX\"},{\"idx\":76,\"name\":\"Rain\"},{\"idx\":77,\"name\":\"Snow\"},{\"idx\":78,\"name\":\"Thunder\"},{\"idx\":79,\"name\":\"Tornado\"},{\"idx\":80,\"name\":\"View Obstruction\"},{\"idx\":81,\"name\":\"REALIZED_DEL15\"},{\"idx\":82,\"name\":\"HOLIDAY\"},{\"idx\":83,\"name\":\"type_large_airport\"},{\"idx\":84,\"name\":\"type_medium_airport\"},{\"idx\":85,\"name\":\"type_seaplane_base\"},{\"idx\":86,\"name\":\"type_small_airport\"}]},\"num_attrs\":87}}",
         "name": "features",
         "type": "{\"type\":\"udt\",\"class\":\"org.apache.spark.ml.linalg.VectorUDT\",\"pyClass\":\"pyspark.ml.linalg.VectorUDT\",\"sqlType\":{\"type\":\"struct\",\"fields\":[{\"name\":\"type\",\"type\":\"byte\",\"nullable\":false,\"metadata\":{}},{\"name\":\"size\",\"type\":\"integer\",\"nullable\":true,\"metadata\":{}},{\"name\":\"indices\",\"type\":{\"type\":\"array\",\"elementType\":\"integer\",\"containsNull\":false},\"nullable\":true,\"metadata\":{}},{\"name\":\"values\",\"type\":{\"type\":\"array\",\"elementType\":\"double\",\"containsNull\":false},\"nullable\":true,\"metadata\":{}}]}}"
        },
        {
         "metadata": "{}",
         "name": "index",
         "type": "\"integer\""
        }
       ],
       "type": "table"
      }
     },
     "output_type": "display_data"
    }
   ],
   "source": [
    "display(df_train_transform.limit(10))"
   ]
  },
  {
   "cell_type": "code",
   "execution_count": 0,
   "metadata": {
    "application/vnd.databricks.v1+cell": {
     "cellMetadata": {
      "byteLimit": 2048000,
      "rowLimit": 10000
     },
     "collapsed": true,
     "inputWidgets": {},
     "nuid": "7dad3347-cfbf-49ad-9335-29129d87370c",
     "showTitle": false,
     "title": ""
    }
   },
   "outputs": [],
   "source": [
    "from pyspark.ml.classification import LogisticRegression\n",
    "from pyspark.ml.evaluation import BinaryClassificationEvaluator\n",
    "import numpy as np\n",
    "\n",
    "def lasso_block_cross_val_scores_with_coef(blocks, train, target_feature, final_assembler, reg_param=0.01, elastic_net_param=1.0):\n",
    "    feature_names = final_assembler.getInputCols()\n",
    "    feature_names = numeric_cols + feature_names[1:]\n",
    "    acc, prec, rec, f1, auc = [], [], [], [], []\n",
    "    all_coefficients = []\n",
    "\n",
    "    for block in blocks:\n",
    "        train_block = train.filter((col(\"index\") >= block[0]) & (col(\"index\") < block[1]))\n",
    "        val_block = train.filter((col(\"index\") >= block[1]) & (col(\"index\") < block[2]))\n",
    "\n",
    "        lasso_model = LogisticRegression(\n",
    "            featuresCol=\"features\",\n",
    "            labelCol=target_feature,\n",
    "            maxIter=10,\n",
    "            regParam=reg_param,\n",
    "            elasticNetParam=elastic_net_param\n",
    "        ).fit(train_block)\n",
    "\n",
    "        val_preds = lasso_model.transform(val_block)\n",
    "\n",
    "        accuracy, precision, recall, f1_measure = evaluate_multiclass_metrics(val_preds, target_feature)\n",
    "        evaluator = BinaryClassificationEvaluator(labelCol=target_feature, metricName=\"areaUnderROC\")\n",
    "        auc_score = evaluator.evaluate(val_preds)\n",
    "\n",
    "        beta = 1/(2**0.5)\n",
    "        fbeta = (1 + beta**2) * (precision * recall) / ((beta**2 * precision) + recall)\n",
    "\n",
    "        acc.append(accuracy)\n",
    "        prec.append(precision)\n",
    "        rec.append(recall)\n",
    "        f1.append(fbeta)\n",
    "        auc.append(auc_score)\n",
    "\n",
    "        coefficients = lasso_model.coefficients.toArray()\n",
    "        all_coefficients.append(coefficients)\n",
    "\n",
    "        print(f\"Block {block}:\")\n",
    "        print(f\"Accuracy: {accuracy:.4f}, Precision: {precision:.4f}, Recall: {recall:.4f}, F1: {fbeta:.4f}, AUC: {auc_score:.4f}\")\n",
    "        print(\"Non-zero coefficients (sorted by absolute value):\")\n",
    "        non_zero_features = sorted([(feature, coef) for feature, coef in zip(feature_names, coefficients) if coef != 0], \n",
    "                                   key=lambda x: abs(x[1]), reverse=True)\n",
    "        for feature, coef in non_zero_features:\n",
    "            print(f\"{feature}: {coef:.6f}\")\n",
    "        print(f\"Number of non-zero coefficients: {len(non_zero_features)}\")\n",
    "        print(\"---\")\n",
    "\n",
    "    # Calculate average metrics\n",
    "    avg_acc = np.mean(acc)\n",
    "    avg_prec = np.mean(prec)\n",
    "    avg_rec = np.mean(rec)\n",
    "    avg_f1 = np.mean(f1)\n",
    "    avg_auc = np.mean(auc)\n",
    "\n",
    "    print(\"\\nAverage Metrics Across All Blocks:\")\n",
    "    print(f\"Accuracy: {avg_acc:.4f}\")\n",
    "    print(f\"Precision: {avg_prec:.4f}\")\n",
    "    print(f\"Recall: {avg_rec:.4f}\")\n",
    "    print(f\"F-0.5 Score: {avg_f1:.4f}\")\n",
    "    print(f\"AUC: {avg_auc:.4f}\")\n",
    "\n",
    "    # Calculate average coefficients across all blocks\n",
    "    avg_coefficients = np.mean(all_coefficients, axis=0)\n",
    "    \n",
    "    print(\"\\nOverall Non-zero coefficients (sorted by absolute average value) for reg_param: \", reg_param)\n",
    "    overall_non_zero_features = sorted([(feature, coef) for feature, coef in zip(feature_names, avg_coefficients) if coef != 0], \n",
    "                                       key=lambda x: abs(x[1]), reverse=True)\n",
    "    for feature, coef in overall_non_zero_features:\n",
    "        print(f\"{feature}: {coef:.6f}\")\n",
    "    print(f\"Number of overall non-zero coefficients: {len(overall_non_zero_features)}\")\n",
    "\n",
    "    return {\n",
    "        'avg_accuracy': avg_acc,\n",
    "        'avg_precision': avg_prec,\n",
    "        'avg_recall': avg_rec,\n",
    "        'avg_f0.5': avg_f1,\n",
    "        'avg_auc': avg_auc,\n",
    "        'accuracies': acc,\n",
    "        'precisions': prec,\n",
    "        'recalls': rec,\n",
    "        'f0.5_scores': f1,\n",
    "        'auc_scores': auc,\n",
    "        'avg_coefficients': dict(zip(feature_names, avg_coefficients)),\n",
    "        'non_zero_features': dict(overall_non_zero_features),\n",
    "        'feature_names': feature_names\n",
    "    }\n"
   ]
  },
  {
   "cell_type": "code",
   "execution_count": 0,
   "metadata": {
    "application/vnd.databricks.v1+cell": {
     "cellMetadata": {
      "byteLimit": 2048000,
      "rowLimit": 10000
     },
     "inputWidgets": {},
     "nuid": "5d8fb0d9-b983-4da0-afff-3f33be5d1313",
     "showTitle": false,
     "title": ""
    }
   },
   "outputs": [
    {
     "output_type": "display_data",
     "data": {
      "application/vnd.jupyter.widget-view+json": {
       "model_id": "35690b5f4dc548c58f262a47137ef9f9",
       "version_major": 2,
       "version_minor": 0
      },
      "text/plain": [
       "Downloading artifacts:   0%|          | 0/15 [00:00<?, ?it/s]"
      ]
     },
     "metadata": {},
     "output_type": "display_data"
    },
    {
     "output_type": "display_data",
     "data": {
      "application/vnd.jupyter.widget-view+json": {
       "model_id": "a35b1223b2f7420c9fe891d382a8a6cc",
       "version_major": 2,
       "version_minor": 0
      },
      "text/plain": [
       "Uploading artifacts:   0%|          | 0/4 [00:00<?, ?it/s]"
      ]
     },
     "metadata": {},
     "output_type": "display_data"
    },
    {
     "output_type": "stream",
     "name": "stderr",
     "output_type": "stream",
     "text": [
      "/databricks/spark/python/pyspark/sql/context.py:164: FutureWarning: Deprecated in 3.0.0. Use SparkSession.builder.getOrCreate() instead.\n  warnings.warn(\n"
     ]
    },
    {
     "output_type": "stream",
     "name": "stdout",
     "output_type": "stream",
     "text": [
      "Block [0, 165264, 206580]:\nAccuracy: 0.6808, Precision: 0.6061, Recall: 0.5752, F1: 0.5955, AUC: 0.7226\nNon-zero coefficients (sorted by absolute value):\nREALIZED_DEL15: 0.982882\nHOUR_06: -0.708882\nHOUR_05: -0.590236\nHOUR_07: -0.496137\nOP_CARRIER_MQ: 0.382845\nSnow: 0.325588\nDEP_4hr: 0.322137\nOP_CARRIER_AS: -0.260305\nDEP_6hr: 0.257766\nHOUR_08: -0.223687\nOP_CARRIER_DL: -0.172641\nOP_CARRIER_OO: 0.133370\nHourlyVisibility: -0.092126\nDAY_OF_WEEK_2: -0.058313\nHOUR_23: -0.051889\nDAY_OF_WEEK_6: 0.040105\nDAY_OF_WEEK_3: -0.037886\nDAY_OF_WEEK_7: 0.037845\nRain: 0.025785\nLOG_REALIZED_DELAY_MIN: -0.019866\ntype_medium_airport: 0.013429\nHOUR_16: 0.012860\nDISTANCE_LAG: -0.011511\nHourlyWindSpeed: 0.011159\nHourlyRelativeHumidity: 0.009344\nOUTDEG_AIRPORT_6hr: 0.005859\nNumber of non-zero coefficients: 26\n---\n"
     ]
    },
    {
     "output_type": "display_data",
     "data": {
      "application/vnd.jupyter.widget-view+json": {
       "model_id": "d8aa33121bb44dcf8afa60b213dcce78",
       "version_major": 2,
       "version_minor": 0
      },
      "text/plain": [
       "Downloading artifacts:   0%|          | 0/15 [00:00<?, ?it/s]"
      ]
     },
     "metadata": {},
     "output_type": "display_data"
    },
    {
     "output_type": "display_data",
     "data": {
      "application/vnd.jupyter.widget-view+json": {
       "model_id": "bf85d0332b254c4c8447a73584e5e2cc",
       "version_major": 2,
       "version_minor": 0
      },
      "text/plain": [
       "Uploading artifacts:   0%|          | 0/4 [00:00<?, ?it/s]"
      ]
     },
     "metadata": {},
     "output_type": "display_data"
    },
    {
     "output_type": "stream",
     "name": "stderr",
     "output_type": "stream",
     "text": [
      "/databricks/spark/python/pyspark/sql/context.py:164: FutureWarning: Deprecated in 3.0.0. Use SparkSession.builder.getOrCreate() instead.\n  warnings.warn(\n"
     ]
    },
    {
     "output_type": "stream",
     "name": "stdout",
     "output_type": "stream",
     "text": [
      "Block [206580, 371844, 413160]:\nAccuracy: 0.6527, Precision: 0.6904, Recall: 0.6014, F1: 0.6579, AUC: 0.7101\nNon-zero coefficients (sorted by absolute value):\nREALIZED_DEL15: 1.057763\nHOUR_06: -0.591743\nOP_CARRIER_MQ: 0.423241\nHOUR_05: -0.403136\nSnow: 0.396608\nDEP_4hr: 0.315353\nHOUR_07: -0.309789\nHOLIDAY: 0.128328\nDEP_6hr: 0.127490\nOP_CARRIER_OO: 0.126455\nDAY_OF_WEEK_6: -0.125544\nHourlyVisibility: -0.123328\nHOUR_08: -0.121091\nDEP_12hr: 0.113321\nHOUR_18: 0.108071\nOP_CARRIER_AA: -0.106238\nOP_CARRIER_B6: 0.069991\nDAY_OF_WEEK_5: 0.060201\nHourlyWindSpeed: 0.055198\nRain: 0.050842\nHourlyPrecipitation: 0.045271\nOUTDEG_AIRPORT_6hr: 0.042417\nHourlySeaLevelPressure: -0.033829\nHOUR_17: 0.032978\nOP_CARRIER_AS: -0.025866\nMONTH_2: 0.024848\nLOG_REALIZED_DELAY_MIN: -0.023311\nHOUR_09: -0.017758\nELEVATION: 0.012576\nHOUR_19: 0.007029\nHourlyWindDirection: 0.000153\nNumber of non-zero coefficients: 31\n---\n"
     ]
    },
    {
     "output_type": "display_data",
     "data": {
      "application/vnd.jupyter.widget-view+json": {
       "model_id": "9ce479d1736b48aa89dac55c095d9cbe",
       "version_major": 2,
       "version_minor": 0
      },
      "text/plain": [
       "Downloading artifacts:   0%|          | 0/15 [00:00<?, ?it/s]"
      ]
     },
     "metadata": {},
     "output_type": "display_data"
    },
    {
     "output_type": "display_data",
     "data": {
      "application/vnd.jupyter.widget-view+json": {
       "model_id": "7e1debe76b5f414ea03cbb4fe38d8a6b",
       "version_major": 2,
       "version_minor": 0
      },
      "text/plain": [
       "Uploading artifacts:   0%|          | 0/4 [00:00<?, ?it/s]"
      ]
     },
     "metadata": {},
     "output_type": "display_data"
    },
    {
     "output_type": "stream",
     "name": "stdout",
     "output_type": "stream",
     "text": [
      "Block [413160, 578424, 619740]:\nAccuracy: 0.6871, Precision: 0.6144, Recall: 0.4582, F1: 0.5517, AUC: 0.7021\nNon-zero coefficients (sorted by absolute value):\nREALIZED_DEL15: 0.790018\nHOUR_06: -0.612120\nHOUR_05: -0.558470\nHOUR_07: -0.552376\nHOUR_08: -0.446537\nOP_CARRIER_MQ: 0.438017\nDEP_4hr: 0.293626\nSnow: 0.283940\nOP_CARRIER_AS: -0.170021\nDEP_6hr: 0.166992\nOP_CARRIER_F9: 0.143315\nDAY_OF_WEEK_7: 0.131314\nHourlyDryBulbTemperature: -0.086956\nHOUR_19: 0.077064\nHourlyVisibility: -0.053553\nHourlyWindSpeed: 0.036309\nHourlyPrecipitation: 0.029100\nELEVATION: 0.026663\nDISTANCE_LAG: -0.023784\nLOG_REALIZED_DELAY_MIN: -0.018749\nHourlySeaLevelPressure: -0.006478\nNumber of non-zero coefficients: 21\n---\n"
     ]
    },
    {
     "output_type": "display_data",
     "data": {
      "application/vnd.jupyter.widget-view+json": {
       "model_id": "a47781f7b77740c793ba2fc395cf30c9",
       "version_major": 2,
       "version_minor": 0
      },
      "text/plain": [
       "Downloading artifacts:   0%|          | 0/15 [00:00<?, ?it/s]"
      ]
     },
     "metadata": {},
     "output_type": "display_data"
    },
    {
     "output_type": "display_data",
     "data": {
      "application/vnd.jupyter.widget-view+json": {
       "model_id": "a6e568b1066b459b8774ecf66e0936e6",
       "version_major": 2,
       "version_minor": 0
      },
      "text/plain": [
       "Uploading artifacts:   0%|          | 0/4 [00:00<?, ?it/s]"
      ]
     },
     "metadata": {},
     "output_type": "display_data"
    },
    {
     "output_type": "stream",
     "name": "stdout",
     "output_type": "stream",
     "text": [
      "Block [619740, 785004, 826320]:\nAccuracy: 0.6894, Precision: 0.7880, Recall: 0.5995, F1: 0.7133, AUC: 0.7611\nNon-zero coefficients (sorted by absolute value):\nREALIZED_DEL15: 1.016136\nHOUR_05: -0.750347\nHOUR_06: -0.734664\nHOUR_07: -0.412240\nThunder: 0.410336\nSnow: 0.357012\nDEP_6hr: 0.311629\nHOUR_08: -0.242612\nDEP_4hr: 0.240913\nHOUR_21: 0.191387\nOP_CARRIER_UA: 0.146659\nOP_CARRIER_DL: -0.116566\ntype_large_airport: 0.081215\nHourlyVisibility: -0.079342\nOP_CARRIER_MQ: 0.073380\nHOUR_20: 0.068714\nHOUR_19: 0.065050\nOP_CARRIER_AS: -0.040562\nOP_CARRIER_WN: 0.037674\nHourlyWindSpeed: 0.025453\nLOG_REALIZED_DELAY_MIN: -0.022281\nOUTDEG_AIRPORT_6hr: 0.016908\nHOUR_16: 0.009006\nHourlyPrecipitation: 0.001844\nHOUR_18: 0.000904\nNumber of non-zero coefficients: 25\n---\n"
     ]
    },
    {
     "output_type": "display_data",
     "data": {
      "application/vnd.jupyter.widget-view+json": {
       "model_id": "a927c67b95d24bcf9b3fa6a2582bfc06",
       "version_major": 2,
       "version_minor": 0
      },
      "text/plain": [
       "Downloading artifacts:   0%|          | 0/15 [00:00<?, ?it/s]"
      ]
     },
     "metadata": {},
     "output_type": "display_data"
    },
    {
     "output_type": "display_data",
     "data": {
      "application/vnd.jupyter.widget-view+json": {
       "model_id": "e5d73d7736224d95be7f0094c1fab524",
       "version_major": 2,
       "version_minor": 0
      },
      "text/plain": [
       "Uploading artifacts:   0%|          | 0/4 [00:00<?, ?it/s]"
      ]
     },
     "metadata": {},
     "output_type": "display_data"
    },
    {
     "output_type": "stream",
     "name": "stdout",
     "output_type": "stream",
     "text": [
      "Block [826320, 991584, 1032900]:\nAccuracy: 0.6969, Precision: 0.7456, Recall: 0.4552, F1: 0.6148, AUC: 0.7365\nNon-zero coefficients (sorted by absolute value):\nREALIZED_DEL15: 0.997491\nThunder: 0.795969\nHOUR_06: -0.736563\nHOUR_05: -0.663397\nHOUR_07: -0.600705\nDEP_4hr: 0.340850\nHOUR_08: -0.321624\nOP_CARRIER_UA: 0.212270\nDEP_6hr: 0.200363\nOP_CARRIER_DL: -0.160683\nDAY_OF_WEEK_2: -0.123818\nHourlyVisibility: -0.096782\nHourlyWindSpeed: 0.080944\nHOUR_00: -0.068735\nHOUR_18: 0.062929\nMONTH_5: -0.050541\nHourlyPrecipitation: 0.049356\nDAY_OF_WEEK_1: 0.030730\nMONTH_4: 0.030337\nDAY_OF_WEEK_5: 0.025203\nHourlyDryBulbTemperature: 0.017673\nOP_CARRIER_AS: -0.015693\nOUTDEG_AIRPORT_6hr: 0.010085\nHOUR_19: 0.006708\nHourlySeaLevelPressure: -0.003031\nNumber of non-zero coefficients: 25\n---\n"
     ]
    },
    {
     "output_type": "display_data",
     "data": {
      "application/vnd.jupyter.widget-view+json": {
       "model_id": "6eb8fcfa34d047f0a5e0afa776d0516a",
       "version_major": 2,
       "version_minor": 0
      },
      "text/plain": [
       "Downloading artifacts:   0%|          | 0/15 [00:00<?, ?it/s]"
      ]
     },
     "metadata": {},
     "output_type": "display_data"
    },
    {
     "output_type": "display_data",
     "data": {
      "application/vnd.jupyter.widget-view+json": {
       "model_id": "66e4d068ff3e4fbe85201c04d871747d",
       "version_major": 2,
       "version_minor": 0
      },
      "text/plain": [
       "Uploading artifacts:   0%|          | 0/4 [00:00<?, ?it/s]"
      ]
     },
     "metadata": {},
     "output_type": "display_data"
    },
    {
     "output_type": "stream",
     "name": "stdout",
     "output_type": "stream",
     "text": [
      "Block [1032900, 1198164, 1239480]:\nAccuracy: 0.7112, Precision: 0.7849, Recall: 0.6682, F1: 0.7417, AUC: 0.7831\nNon-zero coefficients (sorted by absolute value):\nREALIZED_DEL15: 0.902077\nThunder: 0.892707\nOP_CARRIER_NK: 0.539764\nHOUR_06: -0.449872\nHOUR_07: -0.382242\nDEP_4hr: 0.316897\nHOUR_05: -0.269759\nOP_CARRIER_UA: 0.242637\nHOUR_08: -0.235394\nDEP_6hr: 0.206493\nHourlyDryBulbTemperature: 0.201330\nRain: 0.135492\nOUTDEG_AIRPORT_6hr: 0.085445\nOP_CARRIER_WN: 0.076518\nHOUR_09: -0.076310\nDAY_OF_WEEK_7: -0.058547\nDAY_OF_WEEK_3: 0.057264\nOP_CARRIER_EV: 0.054155\nHOUR_19: 0.051061\nHourlySeaLevelPressure: -0.050139\nView Obstruction: -0.044887\nHOUR_15: 0.042675\nHourlyPrecipitation: 0.022778\nHOUR_16: 0.019962\nHourlyWindSpeed: 0.013097\nOP_CARRIER_OO: -0.011845\nHourlyWindDirection: -0.010359\nHourlyVisibility: -0.010354\nDAY_OF_WEEK_5: -0.010093\nDISTANCE_LAG: -0.009434\nNumber of non-zero coefficients: 30\n---\n\nAverage Metrics Across All Blocks:\nAccuracy: 0.6864\nPrecision: 0.7049\nRecall: 0.5596\nF-0.5 Score: 0.6458\nAUC: 0.7359\n\nOverall Non-zero coefficients (sorted by absolute average value) for reg_param:  0.01\nREALIZED_DEL15: 0.957728\nHOUR_06: -0.638974\nHOUR_05: -0.539224\nHOUR_07: -0.458915\nThunder: 0.349836\nDEP_4hr: 0.304963\nHOUR_08: -0.265158\nSnow: 0.227191\nOP_CARRIER_MQ: 0.219580\nDEP_6hr: 0.211789\nOP_CARRIER_UA: 0.100261\nOP_CARRIER_NK: 0.089961\nOP_CARRIER_AS: -0.085408\nHourlyVisibility: -0.075914\nOP_CARRIER_DL: -0.074982\nOP_CARRIER_OO: 0.041330\nHourlyWindSpeed: 0.037027\nRain: 0.035353\nHOUR_19: 0.034485\nHOUR_21: 0.031898\nDAY_OF_WEEK_2: -0.030355\nHOUR_18: 0.028651\nOUTDEG_AIRPORT_6hr: 0.026786\nHourlyPrecipitation: 0.024725\nOP_CARRIER_F9: 0.023886\nHourlyDryBulbTemperature: 0.022008\nHOLIDAY: 0.021388\nOP_CARRIER_WN: 0.019032\nDEP_12hr: 0.018887\nDAY_OF_WEEK_7: 0.018435\nOP_CARRIER_AA: -0.017706\nHOUR_09: -0.015678\nHourlySeaLevelPressure: -0.015579\nDAY_OF_WEEK_6: -0.014240\nLOG_REALIZED_DELAY_MIN: -0.014035\ntype_large_airport: 0.013536\nDAY_OF_WEEK_5: 0.012552\nOP_CARRIER_B6: 0.011665\nHOUR_00: -0.011456\nHOUR_20: 0.011452\nOP_CARRIER_EV: 0.009026\nHOUR_23: -0.008648\nMONTH_5: -0.008424\nView Obstruction: -0.007481\nDISTANCE_LAG: -0.007455\nHOUR_15: 0.007112\nHOUR_16: 0.006971\nELEVATION: 0.006540\nHOUR_17: 0.005496\nDAY_OF_WEEK_1: 0.005122\nMONTH_4: 0.005056\nMONTH_2: 0.004141\nDAY_OF_WEEK_3: 0.003230\ntype_medium_airport: 0.002238\nHourlyWindDirection: -0.001701\nHourlyRelativeHumidity: 0.001557\nNumber of overall non-zero coefficients: 56\n"
     ]
    }
   ],
   "source": [
    "# Usage\n",
    "results1 = lasso_block_cross_val_scores_with_coef(blocks, df_train_transform, 'DEP_DEL15', final_assembler, reg_param=0.01, elastic_net_param=1.0)\n",
    "# results1"
   ]
  },
  {
   "cell_type": "code",
   "execution_count": 0,
   "metadata": {
    "application/vnd.databricks.v1+cell": {
     "cellMetadata": {
      "byteLimit": 2048000,
      "rowLimit": 10000
     },
     "inputWidgets": {},
     "nuid": "ff52afe4-ad6f-4e95-a3c0-3c0cffcb43ba",
     "showTitle": false,
     "title": ""
    }
   },
   "outputs": [
    {
     "output_type": "display_data",
     "data": {
      "application/vnd.jupyter.widget-view+json": {
       "model_id": "cb26a1ceb8104214940a82c208e201a8",
       "version_major": 2,
       "version_minor": 0
      },
      "text/plain": [
       "Downloading artifacts:   0%|          | 0/15 [00:00<?, ?it/s]"
      ]
     },
     "metadata": {},
     "output_type": "display_data"
    },
    {
     "output_type": "display_data",
     "data": {
      "application/vnd.jupyter.widget-view+json": {
       "model_id": "6a90c8b86a8a4375aace9915a50c539a",
       "version_major": 2,
       "version_minor": 0
      },
      "text/plain": [
       "Uploading artifacts:   0%|          | 0/4 [00:00<?, ?it/s]"
      ]
     },
     "metadata": {},
     "output_type": "display_data"
    },
    {
     "output_type": "stream",
     "name": "stderr",
     "output_type": "stream",
     "text": [
      "/databricks/spark/python/pyspark/sql/context.py:164: FutureWarning: Deprecated in 3.0.0. Use SparkSession.builder.getOrCreate() instead.\n  warnings.warn(\n"
     ]
    },
    {
     "output_type": "stream",
     "name": "stdout",
     "output_type": "stream",
     "text": [
      "Block [0, 165264, 206580]:\nAccuracy: 0.6794, Precision: 0.6158, Recall: 0.5261, F1: 0.5827, AUC: 0.6976\nNon-zero coefficients (sorted by absolute value):\nREALIZED_DEL15: 0.491783\nDEP_4hr: 0.277414\nDEP_6hr: 0.225438\nNumber of non-zero coefficients: 3\n---\n"
     ]
    },
    {
     "output_type": "display_data",
     "data": {
      "application/vnd.jupyter.widget-view+json": {
       "model_id": "187938abe08c49fc8cc526b207fa6a86",
       "version_major": 2,
       "version_minor": 0
      },
      "text/plain": [
       "Downloading artifacts:   0%|          | 0/15 [00:00<?, ?it/s]"
      ]
     },
     "metadata": {},
     "output_type": "display_data"
    },
    {
     "output_type": "display_data",
     "data": {
      "application/vnd.jupyter.widget-view+json": {
       "model_id": "b6893887e5454b9da14791cca676e4a1",
       "version_major": 2,
       "version_minor": 0
      },
      "text/plain": [
       "Uploading artifacts:   0%|          | 0/4 [00:00<?, ?it/s]"
      ]
     },
     "metadata": {},
     "output_type": "display_data"
    },
    {
     "output_type": "stream",
     "name": "stdout",
     "output_type": "stream",
     "text": [
      "Block [206580, 371844, 413160]:\nAccuracy: 0.6489, Precision: 0.7181, Recall: 0.5340, F1: 0.6441, AUC: 0.6965\nNon-zero coefficients (sorted by absolute value):\nREALIZED_DEL15: 0.577376\nDEP_4hr: 0.295223\nDEP_6hr: 0.154681\nSnow: 0.147422\nNumber of non-zero coefficients: 4\n---\n"
     ]
    },
    {
     "output_type": "display_data",
     "data": {
      "application/vnd.jupyter.widget-view+json": {
       "model_id": "0efd6fb008614faca17b8d8efad01dd9",
       "version_major": 2,
       "version_minor": 0
      },
      "text/plain": [
       "Downloading artifacts:   0%|          | 0/15 [00:00<?, ?it/s]"
      ]
     },
     "metadata": {},
     "output_type": "display_data"
    },
    {
     "output_type": "display_data",
     "data": {
      "application/vnd.jupyter.widget-view+json": {
       "model_id": "9208210a6fd349efb0d5fbe4f8c946ea",
       "version_major": 2,
       "version_minor": 0
      },
      "text/plain": [
       "Uploading artifacts:   0%|          | 0/4 [00:00<?, ?it/s]"
      ]
     },
     "metadata": {},
     "output_type": "display_data"
    },
    {
     "output_type": "stream",
     "name": "stdout",
     "output_type": "stream",
     "text": [
      "Block [413160, 578424, 619740]:\nAccuracy: 0.6554, Precision: 0.5474, Recall: 0.4992, F1: 0.5304, AUC: 0.6806\nNon-zero coefficients (sorted by absolute value):\nREALIZED_DEL15: 0.307137\nDEP_4hr: 0.285653\nDEP_6hr: 0.145911\nSnow: 0.021572\nNumber of non-zero coefficients: 4\n---\n"
     ]
    },
    {
     "output_type": "display_data",
     "data": {
      "application/vnd.jupyter.widget-view+json": {
       "model_id": "fbe1133cee064aff98ae6637ada0e77e",
       "version_major": 2,
       "version_minor": 0
      },
      "text/plain": [
       "Downloading artifacts:   0%|          | 0/15 [00:00<?, ?it/s]"
      ]
     },
     "metadata": {},
     "output_type": "display_data"
    },
    {
     "output_type": "display_data",
     "data": {
      "application/vnd.jupyter.widget-view+json": {
       "model_id": "80b34b91f4614b51ab4f72ab960c8ebd",
       "version_major": 2,
       "version_minor": 0
      },
      "text/plain": [
       "Uploading artifacts:   0%|          | 0/4 [00:00<?, ?it/s]"
      ]
     },
     "metadata": {},
     "output_type": "display_data"
    },
    {
     "output_type": "stream",
     "name": "stdout",
     "output_type": "stream",
     "text": [
      "Block [619740, 785004, 826320]:\nAccuracy: 0.6534, Precision: 0.8081, Recall: 0.4893, F1: 0.6640, AUC: 0.7393\nNon-zero coefficients (sorted by absolute value):\nREALIZED_DEL15: 0.508969\nDEP_4hr: 0.239336\nDEP_6hr: 0.231332\nNumber of non-zero coefficients: 3\n---\n"
     ]
    },
    {
     "output_type": "display_data",
     "data": {
      "application/vnd.jupyter.widget-view+json": {
       "model_id": "e74a526c343a443892d9c3f349513e3e",
       "version_major": 2,
       "version_minor": 0
      },
      "text/plain": [
       "Downloading artifacts:   0%|          | 0/15 [00:00<?, ?it/s]"
      ]
     },
     "metadata": {},
     "output_type": "display_data"
    },
    {
     "output_type": "display_data",
     "data": {
      "application/vnd.jupyter.widget-view+json": {
       "model_id": "004d94dbf3e54b75bd4bac3ccba1b699",
       "version_major": 2,
       "version_minor": 0
      },
      "text/plain": [
       "Uploading artifacts:   0%|          | 0/4 [00:00<?, ?it/s]"
      ]
     },
     "metadata": {},
     "output_type": "display_data"
    },
    {
     "output_type": "stream",
     "name": "stdout",
     "output_type": "stream",
     "text": [
      "Block [826320, 991584, 1032900]:\nAccuracy: 0.6728, Precision: 0.7704, Recall: 0.3477, F1: 0.5483, AUC: 0.7232\nNon-zero coefficients (sorted by absolute value):\nREALIZED_DEL15: 0.476759\nThunder: 0.363420\nDEP_4hr: 0.320925\nDEP_6hr: 0.167517\nNumber of non-zero coefficients: 4\n---\n"
     ]
    },
    {
     "output_type": "display_data",
     "data": {
      "application/vnd.jupyter.widget-view+json": {
       "model_id": "1069c47ae28d45f48b0ba2948b3409b7",
       "version_major": 2,
       "version_minor": 0
      },
      "text/plain": [
       "Downloading artifacts:   0%|          | 0/15 [00:00<?, ?it/s]"
      ]
     },
     "metadata": {},
     "output_type": "display_data"
    },
    {
     "output_type": "display_data",
     "data": {
      "application/vnd.jupyter.widget-view+json": {
       "model_id": "12cc3b7b5edf4c12a900b0b3fa2c6dc7",
       "version_major": 2,
       "version_minor": 0
      },
      "text/plain": [
       "Uploading artifacts:   0%|          | 0/4 [00:00<?, ?it/s]"
      ]
     },
     "metadata": {},
     "output_type": "display_data"
    },
    {
     "output_type": "stream",
     "name": "stdout",
     "output_type": "stream",
     "text": [
      "Block [1032900, 1198164, 1239480]:\nAccuracy: 0.6969, Precision: 0.7812, Recall: 0.6384, F1: 0.7270, AUC: 0.7664\nNon-zero coefficients (sorted by absolute value):\nThunder: 0.577725\nREALIZED_DEL15: 0.401145\nDEP_4hr: 0.318763\nDEP_6hr: 0.118426\nHourlyDryBulbTemperature: 0.014611\nNumber of non-zero coefficients: 5\n---\n\nAverage Metrics Across All Blocks:\nAccuracy: 0.6678\nPrecision: 0.7069\nRecall: 0.5058\nF-0.5 Score: 0.6161\nAUC: 0.7173\n\nOverall Non-zero coefficients (sorted by absolute average value) for reg_param:  0.05\nREALIZED_DEL15: 0.460528\nDEP_4hr: 0.289552\nDEP_6hr: 0.173884\nThunder: 0.156858\nSnow: 0.028166\nHourlyDryBulbTemperature: 0.002435\nNumber of overall non-zero coefficients: 6\n"
     ]
    }
   ],
   "source": [
    "results2 = lasso_block_cross_val_scores_with_coef(blocks, df_train_transform, 'DEP_DEL15', final_assembler, reg_param=0.05, elastic_net_param=1.0)\n",
    "# results2"
   ]
  },
  {
   "cell_type": "code",
   "execution_count": 0,
   "metadata": {
    "application/vnd.databricks.v1+cell": {
     "cellMetadata": {
      "byteLimit": 2048000,
      "rowLimit": 10000
     },
     "inputWidgets": {},
     "nuid": "a62faef8-4978-4598-a8cd-c36c28a3707b",
     "showTitle": false,
     "title": ""
    }
   },
   "outputs": [
    {
     "output_type": "display_data",
     "data": {
      "application/vnd.jupyter.widget-view+json": {
       "model_id": "a3fb4fc369bc4bcc9ef0a4128f669ae3",
       "version_major": 2,
       "version_minor": 0
      },
      "text/plain": [
       "Downloading artifacts:   0%|          | 0/15 [00:00<?, ?it/s]"
      ]
     },
     "metadata": {},
     "output_type": "display_data"
    },
    {
     "output_type": "display_data",
     "data": {
      "application/vnd.jupyter.widget-view+json": {
       "model_id": "b73dff4d851b4dc7a51dced687ff646b",
       "version_major": 2,
       "version_minor": 0
      },
      "text/plain": [
       "Uploading artifacts:   0%|          | 0/4 [00:00<?, ?it/s]"
      ]
     },
     "metadata": {},
     "output_type": "display_data"
    },
    {
     "output_type": "stream",
     "name": "stderr",
     "output_type": "stream",
     "text": [
      "/databricks/spark/python/pyspark/sql/context.py:164: FutureWarning: Deprecated in 3.0.0. Use SparkSession.builder.getOrCreate() instead.\n  warnings.warn(\n"
     ]
    },
    {
     "output_type": "stream",
     "name": "stdout",
     "output_type": "stream",
     "text": [
      "Block [0, 165264, 206580]:\nAccuracy: 0.6830, Precision: 0.6200, Recall: 0.5341, F1: 0.5884, AUC: 0.7046\nNon-zero coefficients (sorted by absolute value):\nREALIZED_DEL15: 0.692590\nDEP_4hr: 0.323878\nDEP_6hr: 0.255318\nHOUR_06: -0.215339\nSnow: 0.051051\nHOUR_07: -0.049374\nOP_CARRIER_MQ: 0.041390\nNumber of non-zero coefficients: 7\n---\n"
     ]
    },
    {
     "output_type": "display_data",
     "data": {
      "application/vnd.jupyter.widget-view+json": {
       "model_id": "95f9fcc68e7a461bb08488a4f3cbffd4",
       "version_major": 2,
       "version_minor": 0
      },
      "text/plain": [
       "Downloading artifacts:   0%|          | 0/15 [00:00<?, ?it/s]"
      ]
     },
     "metadata": {},
     "output_type": "display_data"
    },
    {
     "output_type": "display_data",
     "data": {
      "application/vnd.jupyter.widget-view+json": {
       "model_id": "3c2ad6e389f44c7ba815a1e97890ef64",
       "version_major": 2,
       "version_minor": 0
      },
      "text/plain": [
       "Uploading artifacts:   0%|          | 0/4 [00:00<?, ?it/s]"
      ]
     },
     "metadata": {},
     "output_type": "display_data"
    },
    {
     "output_type": "stream",
     "name": "stdout",
     "output_type": "stream",
     "text": [
      "Block [206580, 371844, 413160]:\nAccuracy: 0.6542, Precision: 0.7041, Recall: 0.5773, F1: 0.6560, AUC: 0.6998\nNon-zero coefficients (sorted by absolute value):\nREALIZED_DEL15: 0.783359\nDEP_4hr: 0.326377\nSnow: 0.275044\nDEP_6hr: 0.191882\nHOUR_06: -0.076099\nOP_CARRIER_MQ: 0.047220\nHourlyVisibility: -0.023201\nDEP_12hr: 0.001550\nNumber of non-zero coefficients: 8\n---\n"
     ]
    },
    {
     "output_type": "display_data",
     "data": {
      "application/vnd.jupyter.widget-view+json": {
       "model_id": "cf2bb8181e304f48847e5db324af91ec",
       "version_major": 2,
       "version_minor": 0
      },
      "text/plain": [
       "Downloading artifacts:   0%|          | 0/15 [00:00<?, ?it/s]"
      ]
     },
     "metadata": {},
     "output_type": "display_data"
    },
    {
     "output_type": "display_data",
     "data": {
      "application/vnd.jupyter.widget-view+json": {
       "model_id": "bd78cffac63741b1bfb931a4afce8131",
       "version_major": 2,
       "version_minor": 0
      },
      "text/plain": [
       "Uploading artifacts:   0%|          | 0/4 [00:00<?, ?it/s]"
      ]
     },
     "metadata": {},
     "output_type": "display_data"
    },
    {
     "output_type": "stream",
     "name": "stderr",
     "output_type": "stream",
     "text": [
      "/databricks/spark/python/pyspark/sql/context.py:164: FutureWarning: Deprecated in 3.0.0. Use SparkSession.builder.getOrCreate() instead.\n  warnings.warn(\n"
     ]
    },
    {
     "output_type": "stream",
     "name": "stdout",
     "output_type": "stream",
     "text": [
      "Block [413160, 578424, 619740]:\nAccuracy: 0.6869, Precision: 0.6209, Recall: 0.4367, F1: 0.5444, AUC: 0.6908\nNon-zero coefficients (sorted by absolute value):\nREALIZED_DEL15: 0.502890\nDEP_4hr: 0.296960\nDEP_6hr: 0.189328\nSnow: 0.150264\nHOUR_06: -0.131161\nHOUR_07: -0.109389\nOP_CARRIER_MQ: 0.100209\nHOUR_08: -0.059936\nHourlyDryBulbTemperature: -0.042197\nNumber of non-zero coefficients: 9\n---\n"
     ]
    },
    {
     "output_type": "display_data",
     "data": {
      "application/vnd.jupyter.widget-view+json": {
       "model_id": "1ee8133fe3f24f10b9b175b721a0aeae",
       "version_major": 2,
       "version_minor": 0
      },
      "text/plain": [
       "Downloading artifacts:   0%|          | 0/15 [00:00<?, ?it/s]"
      ]
     },
     "metadata": {},
     "output_type": "display_data"
    },
    {
     "output_type": "display_data",
     "data": {
      "application/vnd.jupyter.widget-view+json": {
       "model_id": "29c837aaad31462680624107bf8caa70",
       "version_major": 2,
       "version_minor": 0
      },
      "text/plain": [
       "Uploading artifacts:   0%|          | 0/4 [00:00<?, ?it/s]"
      ]
     },
     "metadata": {},
     "output_type": "display_data"
    },
    {
     "output_type": "stream",
     "name": "stdout",
     "output_type": "stream",
     "text": [
      "Block [619740, 785004, 826320]:\nAccuracy: 0.6631, Precision: 0.7917, Recall: 0.5302, F1: 0.6799, AUC: 0.7411\nNon-zero coefficients (sorted by absolute value):\nREALIZED_DEL15: 0.727139\nDEP_4hr: 0.279446\nDEP_6hr: 0.278916\nHOUR_06: -0.249114\nSnow: 0.124346\nHOUR_07: -0.019632\nNumber of non-zero coefficients: 6\n---\n"
     ]
    },
    {
     "output_type": "display_data",
     "data": {
      "application/vnd.jupyter.widget-view+json": {
       "model_id": "fe6bfef54d2846649ec8f0566cc78e70",
       "version_major": 2,
       "version_minor": 0
      },
      "text/plain": [
       "Downloading artifacts:   0%|          | 0/15 [00:00<?, ?it/s]"
      ]
     },
     "metadata": {},
     "output_type": "display_data"
    },
    {
     "output_type": "display_data",
     "data": {
      "application/vnd.jupyter.widget-view+json": {
       "model_id": "7c0c53cc46df4e038fc68c2fadca1f14",
       "version_major": 2,
       "version_minor": 0
      },
      "text/plain": [
       "Uploading artifacts:   0%|          | 0/4 [00:00<?, ?it/s]"
      ]
     },
     "metadata": {},
     "output_type": "display_data"
    },
    {
     "output_type": "stream",
     "name": "stdout",
     "output_type": "stream",
     "text": [
      "Block [826320, 991584, 1032900]:\nAccuracy: 0.6908, Precision: 0.7522, Recall: 0.4263, F1: 0.5994, AUC: 0.7284\nNon-zero coefficients (sorted by absolute value):\nREALIZED_DEL15: 0.711533\nThunder: 0.574932\nDEP_4hr: 0.361543\nHOUR_06: -0.239241\nDEP_6hr: 0.192208\nHOUR_07: -0.172963\nHourlyWindSpeed: 0.014764\nNumber of non-zero coefficients: 7\n---\n"
     ]
    },
    {
     "output_type": "display_data",
     "data": {
      "application/vnd.jupyter.widget-view+json": {
       "model_id": "8791c495298345e9a2edd48ef1c83db9",
       "version_major": 2,
       "version_minor": 0
      },
      "text/plain": [
       "Downloading artifacts:   0%|          | 0/15 [00:00<?, ?it/s]"
      ]
     },
     "metadata": {},
     "output_type": "display_data"
    },
    {
     "output_type": "display_data",
     "data": {
      "application/vnd.jupyter.widget-view+json": {
       "model_id": "9c92363597104922b7d05d66a03bff01",
       "version_major": 2,
       "version_minor": 0
      },
      "text/plain": [
       "Uploading artifacts:   0%|          | 0/4 [00:00<?, ?it/s]"
      ]
     },
     "metadata": {},
     "output_type": "display_data"
    },
    {
     "output_type": "stream",
     "name": "stdout",
     "output_type": "stream",
     "text": [
      "Block [1032900, 1198164, 1239480]:\nAccuracy: 0.7039, Precision: 0.7874, Recall: 0.6468, F1: 0.7342, AUC: 0.7716\nNon-zero coefficients (sorted by absolute value):\nThunder: 0.724992\nREALIZED_DEL15: 0.620928\nDEP_4hr: 0.352857\nDEP_6hr: 0.165543\nHourlyDryBulbTemperature: 0.107742\nHOUR_06: -0.062721\nHOUR_07: -0.056047\nView Obstruction: -0.054565\nOUTDEG_AIRPORT_6hr: 0.038618\nNumber of non-zero coefficients: 9\n---\n\nAverage Metrics Across All Blocks:\nAccuracy: 0.6803\nPrecision: 0.7127\nRecall: 0.5252\nF-0.5 Score: 0.6337\nAUC: 0.7227\n\nOverall Non-zero coefficients (sorted by absolute average value) for reg_param:  0.03\nREALIZED_DEL15: 0.673073\nDEP_4hr: 0.323510\nThunder: 0.216654\nDEP_6hr: 0.212199\nHOUR_06: -0.162279\nSnow: 0.100118\nHOUR_07: -0.067901\nOP_CARRIER_MQ: 0.031470\nHourlyDryBulbTemperature: 0.010924\nHOUR_08: -0.009989\nView Obstruction: -0.009094\nOUTDEG_AIRPORT_6hr: 0.006436\nHourlyVisibility: -0.003867\nHourlyWindSpeed: 0.002461\nDEP_12hr: 0.000258\nNumber of overall non-zero coefficients: 15\n"
     ]
    }
   ],
   "source": [
    "results3 = lasso_block_cross_val_scores_with_coef(blocks, df_train_transform, 'DEP_DEL15', final_assembler, reg_param=0.03, elastic_net_param=1.0)\n",
    "# results3"
   ]
  },
  {
   "cell_type": "markdown",
   "metadata": {
    "application/vnd.databricks.v1+cell": {
     "cellMetadata": {},
     "inputWidgets": {},
     "nuid": "534961ef-63d4-469d-8ba3-0c2879054393",
     "showTitle": false,
     "title": ""
    }
   },
   "source": [
    "## Run baseline using lasso alpha value of 0.01 on full training set 2015-2017"
   ]
  },
  {
   "cell_type": "code",
   "execution_count": 0,
   "metadata": {
    "application/vnd.databricks.v1+cell": {
     "cellMetadata": {
      "byteLimit": 2048000,
      "rowLimit": 10000
     },
     "inputWidgets": {},
     "nuid": "8b474006-ad0e-4eb4-8594-c9831b2a1667",
     "showTitle": false,
     "title": ""
    }
   },
   "outputs": [
    {
     "output_type": "display_data",
     "data": {
      "application/vnd.jupyter.widget-view+json": {
       "model_id": "ebf67ee05b744b198d193093f602e334",
       "version_major": 2,
       "version_minor": 0
      },
      "text/plain": [
       "Downloading artifacts:   0%|          | 0/35 [00:00<?, ?it/s]"
      ]
     },
     "metadata": {},
     "output_type": "display_data"
    },
    {
     "output_type": "display_data",
     "data": {
      "application/vnd.jupyter.widget-view+json": {
       "model_id": "ff35f16cd2e34d5b891ad684630d8d3a",
       "version_major": 2,
       "version_minor": 0
      },
      "text/plain": [
       "Uploading artifacts:   0%|          | 0/4 [00:00<?, ?it/s]"
      ]
     },
     "metadata": {},
     "output_type": "display_data"
    }
   ],
   "source": [
    "# Assemble one-hot encoded variables with numerical features\n",
    "assembler = VectorAssembler(inputCols=numeric_cols, outputCol=\"numeric_features\")\n",
    "scaler = StandardScaler(inputCol='numeric_features', outputCol=\"num_feats_scaled\", withMean=True)\n",
    "final_assembler = VectorAssembler(\n",
    "    inputCols=[\"num_feats_scaled\"] + categorical_cols,\n",
    "    outputCol=\"features\"\n",
    ")\n",
    "\n",
    "target_feature = 'DEP_DEL15'\n",
    "\n",
    "lr = LogisticRegression(maxIter=10, featuresCol = \"features\", labelCol=target_feature, regParam=0.01, elasticNetParam=1.0)\n",
    "\n",
    "pipeline = Pipeline(stages=[assembler, scaler, final_assembler, lr])\n",
    "\n",
    "baseline_pipeline = pipeline.fit(df_train)\n",
    "# df_train_transform = pipeline \\\n",
    "#     .fit(df_train) \\\n",
    "#     .transform(df_train) \\\n",
    "#     .select(\"QUARTER\", \"FL_DATE\", \"CRS_DEP_TIME\", \"DEP_DEL15\", \"features\", \"index\")\n"
   ]
  },
  {
   "cell_type": "code",
   "execution_count": 0,
   "metadata": {
    "application/vnd.databricks.v1+cell": {
     "cellMetadata": {
      "byteLimit": 2048000,
      "rowLimit": 10000
     },
     "inputWidgets": {},
     "nuid": "90cbb437-286b-4bb2-9ce2-c5ed58850d4c",
     "showTitle": false,
     "title": ""
    }
   },
   "outputs": [],
   "source": [
    "baseline_model = baseline_pipeline.stages[-1]"
   ]
  },
  {
   "cell_type": "code",
   "execution_count": 0,
   "metadata": {
    "application/vnd.databricks.v1+cell": {
     "cellMetadata": {
      "byteLimit": 2048000,
      "rowLimit": 10000
     },
     "inputWidgets": {},
     "nuid": "6bb8604e-f9f2-4e57-8689-6359e1cb3ec9",
     "showTitle": false,
     "title": ""
    }
   },
   "outputs": [
    {
     "output_type": "stream",
     "name": "stdout",
     "output_type": "stream",
     "text": [
      "Precision by Label: \n[0.6913825906117017, 0.7281731801517264]\nRecall by Label: \n[0.8174651131485664, 0.5726564744294893]\nF-Beta Score: \n0.6677280599990196\n"
     ]
    }
   ],
   "source": [
    "# Training Summary & Metrics\n",
    "training_summary = baseline_model.summary\n",
    "train_precision = training_summary.precisionByLabel[1]\n",
    "train_recall = training_summary.recallByLabel[1]\n",
    "beta = 1/(2**0.5)\n",
    "fbeta = (1 + beta**2) * (train_precision * train_recall) / ((beta**2 * train_precision) + train_recall)\n",
    "\n",
    "print(f\"Precision by Label: \\n{training_summary.precisionByLabel}\")\n",
    "print(f\"Recall by Label: \\n{training_summary.recallByLabel}\")\n",
    "print(f\"F-Beta Score: \\n{fbeta}\")\n"
   ]
  },
  {
   "cell_type": "code",
   "execution_count": 0,
   "metadata": {
    "application/vnd.databricks.v1+cell": {
     "cellMetadata": {
      "byteLimit": 2048000,
      "rowLimit": 10000
     },
     "inputWidgets": {},
     "nuid": "91ff3dbc-5b75-4e89-86e9-2ee0ce709b12",
     "showTitle": false,
     "title": ""
    }
   },
   "outputs": [
    {
     "output_type": "stream",
     "name": "stdout",
     "output_type": "stream",
     "text": [
      "87\n"
     ]
    }
   ],
   "source": [
    "# Model coefficients\n",
    "\n",
    "coefficients = baseline_model.coefficients.toArray()\n",
    "print(len(coefficients))\n",
    "features = numeric_cols + categorical_cols"
   ]
  },
  {
   "cell_type": "code",
   "execution_count": 0,
   "metadata": {
    "application/vnd.databricks.v1+cell": {
     "cellMetadata": {
      "byteLimit": 2048000,
      "rowLimit": 10000
     },
     "collapsed": true,
     "inputWidgets": {},
     "nuid": "c9052b25-7caf-466a-b2dc-b9788c022fbe",
     "showTitle": false,
     "title": ""
    }
   },
   "outputs": [
    {
     "output_type": "execute_result",
     "data": {
      "text/plain": [
       "array([ 0.        ,  0.        ,  0.        ,  0.        ,  0.03888968,\n",
       "        0.        , -0.01367048, -0.03561889,  0.        ,  0.05266061,\n",
       "        0.        ,  0.        ,  0.01724833,  0.        ,  0.23042965,\n",
       "        0.38983607,  0.        ,  0.        ,  0.        ,  0.        ,\n",
       "        0.        ,  0.01843534,  0.        ,  0.        ,  0.        ,\n",
       "        0.        ,  0.        ,  0.        ,  0.        ,  0.        ,\n",
       "        0.        ,  0.        ,  0.        , -0.63853353, -0.62712592,\n",
       "       -0.50205953, -0.28064397,  0.        ,  0.        ,  0.        ,\n",
       "        0.        ,  0.        ,  0.        ,  0.        ,  0.        ,\n",
       "        0.        ,  0.01550906,  0.01421074,  0.        ,  0.        ,\n",
       "        0.        ,  0.        ,  0.        ,  0.        ,  0.        ,\n",
       "        0.        ,  0.        ,  0.        ,  0.        ,  0.        ,\n",
       "        0.        , -0.14861588,  0.        , -0.07599524,  0.        ,\n",
       "        0.        ,  0.        ,  0.        ,  0.        ,  0.        ,\n",
       "        0.        ,  0.        ,  0.        ,  0.        ,  0.        ,\n",
       "        0.        ,  0.        ,  0.14399352,  0.73445009,  0.        ,\n",
       "        0.        ,  1.02838027,  0.        ,  0.        ,  0.        ,\n",
       "        0.        ,  0.        ])"
      ]
     },
     "execution_count": 46,
     "metadata": {},
     "output_type": "execute_result"
    }
   ],
   "source": [
    "coefficients"
   ]
  },
  {
   "cell_type": "code",
   "execution_count": 0,
   "metadata": {
    "application/vnd.databricks.v1+cell": {
     "cellMetadata": {
      "byteLimit": 2048000,
      "rowLimit": 10000
     },
     "inputWidgets": {},
     "nuid": "baa19c33-d135-4ca8-b17e-69596c731e3a",
     "showTitle": false,
     "title": ""
    }
   },
   "outputs": [],
   "source": [
    "baseline_coeff_df = pd.DataFrame({'Features': features, 'Coefficients': coefficients})\n",
    "baseline_coeff_df = baseline_coeff_df.set_index('Features')\n",
    "baseline_coeff_df['Exp_Coefficients'] = np.exp(baseline_coeff_df['Coefficients'])"
   ]
  },
  {
   "cell_type": "code",
   "execution_count": 0,
   "metadata": {
    "application/vnd.databricks.v1+cell": {
     "cellMetadata": {
      "byteLimit": 2048000,
      "rowLimit": 10000
     },
     "inputWidgets": {},
     "nuid": "bde9de98-855d-460c-823a-e84a1a00ad0e",
     "showTitle": false,
     "title": ""
    }
   },
   "outputs": [
    {
     "output_type": "execute_result",
     "data": {
      "text/html": [
       "<div>\n",
       "<style scoped>\n",
       "    .dataframe tbody tr th:only-of-type {\n",
       "        vertical-align: middle;\n",
       "    }\n",
       "\n",
       "    .dataframe tbody tr th {\n",
       "        vertical-align: top;\n",
       "    }\n",
       "\n",
       "    .dataframe thead th {\n",
       "        text-align: right;\n",
       "    }\n",
       "</style>\n",
       "<table border=\"1\" class=\"dataframe\">\n",
       "  <thead>\n",
       "    <tr style=\"text-align: right;\">\n",
       "      <th></th>\n",
       "      <th>Coefficients</th>\n",
       "      <th>Exp_Coefficients</th>\n",
       "    </tr>\n",
       "    <tr>\n",
       "      <th>Features</th>\n",
       "      <th></th>\n",
       "      <th></th>\n",
       "    </tr>\n",
       "  </thead>\n",
       "  <tbody>\n",
       "    <tr>\n",
       "      <th>REALIZED_DEL15</th>\n",
       "      <td>1.028380</td>\n",
       "      <td>2.796533</td>\n",
       "    </tr>\n",
       "    <tr>\n",
       "      <th>Thunder</th>\n",
       "      <td>0.734450</td>\n",
       "      <td>2.084335</td>\n",
       "    </tr>\n",
       "    <tr>\n",
       "      <th>DEP_4hr</th>\n",
       "      <td>0.389836</td>\n",
       "      <td>1.476739</td>\n",
       "    </tr>\n",
       "    <tr>\n",
       "      <th>DEP_6hr</th>\n",
       "      <td>0.230430</td>\n",
       "      <td>1.259141</td>\n",
       "    </tr>\n",
       "    <tr>\n",
       "      <th>Snow</th>\n",
       "      <td>0.143994</td>\n",
       "      <td>1.154877</td>\n",
       "    </tr>\n",
       "    <tr>\n",
       "      <th>HourlyWindSpeed</th>\n",
       "      <td>0.052661</td>\n",
       "      <td>1.054072</td>\n",
       "    </tr>\n",
       "    <tr>\n",
       "      <th>HourlyPrecipitation</th>\n",
       "      <td>0.038890</td>\n",
       "      <td>1.039656</td>\n",
       "    </tr>\n",
       "    <tr>\n",
       "      <th>MONTH_6</th>\n",
       "      <td>0.018435</td>\n",
       "      <td>1.018606</td>\n",
       "    </tr>\n",
       "    <tr>\n",
       "      <th>OUTDEG_AIRPORT_6hr</th>\n",
       "      <td>0.017248</td>\n",
       "      <td>1.017398</td>\n",
       "    </tr>\n",
       "    <tr>\n",
       "      <th>HOUR_18</th>\n",
       "      <td>0.015509</td>\n",
       "      <td>1.015630</td>\n",
       "    </tr>\n",
       "    <tr>\n",
       "      <th>HOUR_19</th>\n",
       "      <td>0.014211</td>\n",
       "      <td>1.014312</td>\n",
       "    </tr>\n",
       "    <tr>\n",
       "      <th>HourlySeaLevelPressure</th>\n",
       "      <td>-0.013670</td>\n",
       "      <td>0.986423</td>\n",
       "    </tr>\n",
       "    <tr>\n",
       "      <th>HourlyVisibility</th>\n",
       "      <td>-0.035619</td>\n",
       "      <td>0.965008</td>\n",
       "    </tr>\n",
       "    <tr>\n",
       "      <th>OP_CARRIER_DL</th>\n",
       "      <td>-0.075995</td>\n",
       "      <td>0.926821</td>\n",
       "    </tr>\n",
       "    <tr>\n",
       "      <th>OP_CARRIER_AS</th>\n",
       "      <td>-0.148616</td>\n",
       "      <td>0.861900</td>\n",
       "    </tr>\n",
       "    <tr>\n",
       "      <th>HOUR_08</th>\n",
       "      <td>-0.280644</td>\n",
       "      <td>0.755297</td>\n",
       "    </tr>\n",
       "    <tr>\n",
       "      <th>HOUR_07</th>\n",
       "      <td>-0.502060</td>\n",
       "      <td>0.605283</td>\n",
       "    </tr>\n",
       "    <tr>\n",
       "      <th>HOUR_06</th>\n",
       "      <td>-0.627126</td>\n",
       "      <td>0.534125</td>\n",
       "    </tr>\n",
       "    <tr>\n",
       "      <th>HOUR_05</th>\n",
       "      <td>-0.638534</td>\n",
       "      <td>0.528066</td>\n",
       "    </tr>\n",
       "  </tbody>\n",
       "</table>\n",
       "</div>"
      ],
      "text/plain": [
       "                        Coefficients  Exp_Coefficients\n",
       "Features                                              \n",
       "REALIZED_DEL15              1.028380          2.796533\n",
       "Thunder                     0.734450          2.084335\n",
       "DEP_4hr                     0.389836          1.476739\n",
       "DEP_6hr                     0.230430          1.259141\n",
       "Snow                        0.143994          1.154877\n",
       "HourlyWindSpeed             0.052661          1.054072\n",
       "HourlyPrecipitation         0.038890          1.039656\n",
       "MONTH_6                     0.018435          1.018606\n",
       "OUTDEG_AIRPORT_6hr          0.017248          1.017398\n",
       "HOUR_18                     0.015509          1.015630\n",
       "HOUR_19                     0.014211          1.014312\n",
       "HourlySeaLevelPressure     -0.013670          0.986423\n",
       "HourlyVisibility           -0.035619          0.965008\n",
       "OP_CARRIER_DL              -0.075995          0.926821\n",
       "OP_CARRIER_AS              -0.148616          0.861900\n",
       "HOUR_08                    -0.280644          0.755297\n",
       "HOUR_07                    -0.502060          0.605283\n",
       "HOUR_06                    -0.627126          0.534125\n",
       "HOUR_05                    -0.638534          0.528066"
      ]
     },
     "execution_count": 48,
     "metadata": {},
     "output_type": "execute_result"
    }
   ],
   "source": [
    "baseline_coeff_df[baseline_coeff_df['Exp_Coefficients'] != 1].sort_values(by='Exp_Coefficients', ascending=False)"
   ]
  },
  {
   "cell_type": "code",
   "execution_count": 0,
   "metadata": {
    "application/vnd.databricks.v1+cell": {
     "cellMetadata": {
      "byteLimit": 2048000,
      "rowLimit": 10000
     },
     "inputWidgets": {},
     "nuid": "a54306b9-7682-4697-abfa-6ad5aca718cd",
     "showTitle": false,
     "title": ""
    }
   },
   "outputs": [],
   "source": [
    "predictions_2018 = baseline_pipeline.transform(df_val)"
   ]
  },
  {
   "cell_type": "code",
   "execution_count": 0,
   "metadata": {
    "application/vnd.databricks.v1+cell": {
     "cellMetadata": {
      "byteLimit": 2048000,
      "rowLimit": 10000
     },
     "inputWidgets": {},
     "nuid": "9da627c4-c568-4d47-a616-e5444f652eb4",
     "showTitle": false,
     "title": ""
    }
   },
   "outputs": [
    {
     "output_type": "stream",
     "name": "stdout",
     "output_type": "stream",
     "text": [
      "Test Area under ROC curve: 0.7271615903130036\n"
     ]
    },
    {
     "output_type": "stream",
     "name": "stderr",
     "output_type": "stream",
     "text": [
      "/databricks/spark/python/pyspark/sql/context.py:164: FutureWarning: Deprecated in 3.0.0. Use SparkSession.builder.getOrCreate() instead.\n  warnings.warn(\n"
     ]
    },
    {
     "output_type": "stream",
     "name": "stdout",
     "output_type": "stream",
     "text": [
      "Test Metrics\nAccuracy: 0.7128203408079407\nPrecision: 0.7100300659420004\nRecall: 0.44689405225314527\nF Beta: 0.5935365103795329\n"
     ]
    }
   ],
   "source": [
    "# Evaluate the model\n",
    "evaluator = BinaryClassificationEvaluator(labelCol=target_feature)\n",
    "area_under_curve = evaluator.evaluate(predictions_2018)\n",
    "print(f\"Test Area under ROC curve: {area_under_curve}\")\n",
    "\n",
    "# Convert DataFrame to RDD\n",
    "prediction_and_label = predictions_2018\\\n",
    "                        .select([\"prediction\", target_feature])\\\n",
    "\n",
    "# Create MulticlassMetrics object\n",
    "metrics = MulticlassMetrics(prediction_and_label.rdd.map(tuple))\n",
    "\n",
    "beta = 1/(2**0.5)\n",
    "fbeta = (1 + beta**2) * (metrics.precision(1.0) * metrics.recall(1.0)) / ((beta**2 * metrics.precision(1.0)) + metrics.recall(1.0))\n",
    "\n",
    "\n",
    "# metrics\n",
    "print(\"Test Metrics\")\n",
    "print(\"Accuracy:\", metrics.accuracy)\n",
    "print(\"Precision:\", metrics.precision(1.0))\n",
    "print(\"Recall:\", metrics.recall(1.0))\n",
    "print(\"F Beta:\", fbeta)"
   ]
  },
  {
   "cell_type": "code",
   "execution_count": 0,
   "metadata": {
    "application/vnd.databricks.v1+cell": {
     "cellMetadata": {
      "byteLimit": 2048000,
      "rowLimit": 10000
     },
     "inputWidgets": {},
     "nuid": "cee39615-aa3d-45a4-a1c2-d4bf53ffb0e8",
     "showTitle": false,
     "title": ""
    }
   },
   "outputs": [
    {
     "output_type": "display_data",
     "data": {
      "text/html": [
       "<style scoped>\n",
       "  .table-result-container {\n",
       "    max-height: 300px;\n",
       "    overflow: auto;\n",
       "  }\n",
       "  table, th, td {\n",
       "    border: 1px solid black;\n",
       "    border-collapse: collapse;\n",
       "  }\n",
       "  th, td {\n",
       "    padding: 5px;\n",
       "  }\n",
       "  th {\n",
       "    text-align: left;\n",
       "  }\n",
       "</style><div class='table-result-container'><table class='table-result'><thead style='background-color: white'><tr><th>index</th><th>MONTH</th><th>DAY_OF_WEEK</th><th>OP_CARRIER</th><th>ORIGIN_AIRPORT_ID</th><th>CRS_DEP_TIME</th><th>DISTANCE</th><th>DEP_DEL15</th><th>QUARTER</th><th>DEP_DELAY</th><th>DEST_AIRPORT_ID</th><th>FL_DATE</th><th>TAIL_NUM</th><th>ARR_TIME</th><th>ARR_DELAY</th><th>ARR_DEL15</th><th>CANCELLED</th><th>type</th><th>ELEVATION</th><th>HourlyAltimeterSetting</th><th>HourlyDryBulbTemperature</th><th>HourlyPrecipitation</th><th>HourlyRelativeHumidity</th><th>HourlySkyConditions</th><th>HourlySeaLevelPressure</th><th>HourlyVisibility</th><th>HourlyWindDirection</th><th>HourlyWindSpeed</th><th>HourlyPresentWeatherType</th><th>HOUR</th><th>MONTH_indexed</th><th>MONTH_vec</th><th>DAY_OF_WEEK_indexed</th><th>DAY_OF_WEEK_vec</th><th>OP_CARRIER_indexed</th><th>OP_CARRIER_vec</th><th>ORIGIN_AIRPORT_ID_indexed</th><th>ORIGIN_AIRPORT_ID_vec</th><th>HOUR_indexed</th><th>HOUR_vec</th><th>type_indexed</th><th>type_vec</th><th>HourlySkyConditions_vec</th><th>HourlyPresentWeatherType_vec</th><th>Rain</th><th>Snow</th><th>Thunder</th><th>Tornado</th><th>View Obstruction</th><th>MONTH_1</th><th>MONTH_2</th><th>MONTH_3</th><th>MONTH_4</th><th>MONTH_5</th><th>MONTH_6</th><th>MONTH_7</th><th>MONTH_8</th><th>MONTH_9</th><th>MONTH_10</th><th>MONTH_11</th><th>MONTH_12</th><th>HOUR_00</th><th>HOUR_01</th><th>HOUR_02</th><th>HOUR_03</th><th>HOUR_04</th><th>HOUR_05</th><th>HOUR_06</th><th>HOUR_07</th><th>HOUR_08</th><th>HOUR_09</th><th>HOUR_10</th><th>HOUR_11</th><th>HOUR_12</th><th>HOUR_13</th><th>HOUR_14</th><th>HOUR_15</th><th>HOUR_16</th><th>HOUR_17</th><th>HOUR_18</th><th>HOUR_19</th><th>HOUR_20</th><th>HOUR_21</th><th>HOUR_22</th><th>HOUR_23</th><th>DAY_OF_WEEK_1</th><th>DAY_OF_WEEK_2</th><th>DAY_OF_WEEK_3</th><th>DAY_OF_WEEK_4</th><th>DAY_OF_WEEK_5</th><th>DAY_OF_WEEK_6</th><th>DAY_OF_WEEK_7</th><th>OP_CARRIER_9E</th><th>OP_CARRIER_AA</th><th>OP_CARRIER_AS</th><th>OP_CARRIER_B6</th><th>OP_CARRIER_DL</th><th>OP_CARRIER_EV</th><th>OP_CARRIER_F9</th><th>OP_CARRIER_G4</th><th>OP_CARRIER_HA</th><th>OP_CARRIER_MQ</th><th>OP_CARRIER_NK</th><th>OP_CARRIER_OH</th><th>OP_CARRIER_OO</th><th>OP_CARRIER_QX</th><th>OP_CARRIER_UA</th><th>OP_CARRIER_US</th><th>OP_CARRIER_VX</th><th>OP_CARRIER_WN</th><th>OP_CARRIER_YV</th><th>OP_CARRIER_YX</th><th>type_large_airport</th><th>type_medium_airport</th><th>type_seaplane_base</th><th>type_small_airport</th><th>DEP_12hr</th><th>DEP_6hr</th><th>DEP_4hr</th><th>DISTANCE_LAG</th><th>REALIZED_DELAY_MIN</th><th>REALIZED_DEL15</th><th>HOLIDAY</th><th>OUTDEG_AIRPORT_6hr</th><th>YEAR</th><th>LOG_REALIZED_DELAY_MIN</th><th>numeric_features</th><th>num_feats_scaled</th><th>features</th><th>rawPrediction</th><th>probability</th><th>prediction</th></tr></thead><tbody><tr><td>8445849</td><td>1</td><td>1</td><td>DL</td><td>14771</td><td>20</td><td>1589.0</td><td>0.0</td><td>1</td><td>-6.0</td><td>13487</td><td>2018-01-01</td><td>N669DN</td><td>543</td><td>-12.0</td><td>0.0</td><td>0.0</td><td>large_airport</td><td>2.4</td><td>30.17</td><td>54.0</td><td>0.0</td><td>80.0</td><td>BKN:07 160</td><td>30.16</td><td>9.94</td><td>0.0</td><td>0.0</td><td>null</td><td>00</td><td>6.0</td><td>Map(vectorType -> sparse, length -> 11, indices -> List(6), values -> List(1.0))</td><td>1.0</td><td>Map(vectorType -> sparse, length -> 6, indices -> List(1), values -> List(1.0))</td><td>1.0</td><td>Map(vectorType -> sparse, length -> 19, indices -> List(1), values -> List(1.0))</td><td>7.0</td><td>Map(vectorType -> sparse, length -> 372, indices -> List(7), values -> List(1.0))</td><td>19.0</td><td>Map(vectorType -> sparse, length -> 23, indices -> List(19), values -> List(1.0))</td><td>0.0</td><td>Map(vectorType -> sparse, length -> 3, indices -> List(0), values -> List(1.0))</td><td>Map(vectorType -> sparse, length -> 269, indices -> List(55, 258), values -> List(1.0, 1.0))</td><td>null</td><td>0</td><td>0</td><td>0</td><td>0</td><td>0</td><td>1</td><td>0</td><td>0</td><td>0</td><td>0</td><td>0</td><td>0</td><td>0</td><td>0</td><td>0</td><td>0</td><td>0</td><td>1</td><td>0</td><td>0</td><td>0</td><td>0</td><td>0</td><td>0</td><td>0</td><td>0</td><td>0</td><td>0</td><td>0</td><td>0</td><td>0</td><td>0</td><td>0</td><td>0</td><td>0</td><td>0</td><td>0</td><td>0</td><td>0</td><td>0</td><td>0</td><td>1</td><td>0</td><td>0</td><td>0</td><td>0</td><td>0</td><td>0</td><td>0</td><td>0</td><td>0</td><td>0</td><td>1</td><td>0</td><td>0</td><td>0</td><td>0</td><td>0</td><td>0</td><td>0</td><td>0</td><td>0</td><td>0</td><td>0</td><td>0</td><td>0</td><td>0</td><td>0</td><td>1</td><td>0</td><td>0</td><td>0</td><td>0.11940298507462686</td><td>0.1111111111111111</td><td>0.10714285714285714</td><td>2079.0</td><td>-1.0</td><td>0</td><td>1</td><td>0.033707865168539325</td><td>2018</td><td>5.529032183358565</td><td>Map(vectorType -> dense, length -> 16, values -> List(1589.0, 2.4000000953674316, 30.170000076293945, 54.0, 0.0, 80.0, 30.15999984741211, 9.9399995803833, 0.0, 0.0, 2079.0, 5.529032183358565, 0.033707865168539325, 0.11940298507462686, 0.1111111111111111, 0.10714285714285714))</td><td>Map(vectorType -> dense, length -> 16, values -> List(1.2825930227283469, -0.6041399329496747, 0.23574549995903235, -0.1184572323352305, -0.29681411056900553, -0.2848881423033194, 0.53137716343071, 1.1369205965954012, -1.3777405413333004, -0.652229636289246, 2.1284301017298333, -0.03176444365678946, 0.6769743860053596, -0.4923255922718723, -0.39540686784453966, -0.4384035529200434))</td><td>Map(vectorType -> sparse, length -> 87, indices -> List(0, 1, 2, 3, 4, 5, 6, 7, 8, 9, 10, 11, 12, 13, 14, 15, 16, 28, 52, 63, 82, 83), values -> List(1.2825930227283469, -0.6041399329496747, 0.23574549995903235, -0.1184572323352305, -0.29681411056900553, -0.2848881423033194, 0.53137716343071, 1.1369205965954012, -1.3777405413333004, -0.652229636289246, 2.1284301017298333, -0.03176444365678946, 0.6769743860053596, -0.4923255922718723, -0.39540686784453966, -0.4384035529200434, 1.0, 1.0, 1.0, 1.0, 1.0, 1.0))</td><td>Map(vectorType -> dense, length -> 2, values -> List(0.7393824318427165, -0.7393824318427165))</td><td>Map(vectorType -> dense, length -> 2, values -> List(0.6768607963274049, 0.3231392036725951))</td><td>0.0</td></tr><tr><td>8445850</td><td>1</td><td>1</td><td>AA</td><td>12892</td><td>30</td><td>2125.0</td><td>0.0</td><td>1</td><td>-4.0</td><td>11057</td><td>2018-01-01</td><td>N927UW</td><td>745</td><td>-30.0</td><td>0.0</td><td>0.0</td><td>large_airport</td><td>29.6</td><td>30.14</td><td>58.0</td><td>0.0</td><td>87.0</td><td>5</td><td>30.14</td><td>3.73</td><td>0.0</td><td>0.0</td><td>BR:1 ||</td><td>00</td><td>6.0</td><td>Map(vectorType -> sparse, length -> 11, indices -> List(6), values -> List(1.0))</td><td>1.0</td><td>Map(vectorType -> sparse, length -> 6, indices -> List(1), values -> List(1.0))</td><td>2.0</td><td>Map(vectorType -> sparse, length -> 19, indices -> List(2), values -> List(1.0))</td><td>4.0</td><td>Map(vectorType -> sparse, length -> 372, indices -> List(4), values -> List(1.0))</td><td>19.0</td><td>Map(vectorType -> sparse, length -> 23, indices -> List(19), values -> List(1.0))</td><td>0.0</td><td>Map(vectorType -> sparse, length -> 3, indices -> List(0), values -> List(1.0))</td><td>Map(vectorType -> sparse, length -> 269, indices -> List(187), values -> List(1.0))</td><td>Map(vectorType -> sparse, length -> 5, indices -> List(4), values -> List(1.0))</td><td>0</td><td>0</td><td>0</td><td>0</td><td>1</td><td>1</td><td>0</td><td>0</td><td>0</td><td>0</td><td>0</td><td>0</td><td>0</td><td>0</td><td>0</td><td>0</td><td>0</td><td>1</td><td>0</td><td>0</td><td>0</td><td>0</td><td>0</td><td>0</td><td>0</td><td>0</td><td>0</td><td>0</td><td>0</td><td>0</td><td>0</td><td>0</td><td>0</td><td>0</td><td>0</td><td>0</td><td>0</td><td>0</td><td>0</td><td>0</td><td>0</td><td>1</td><td>0</td><td>0</td><td>0</td><td>0</td><td>0</td><td>0</td><td>0</td><td>1</td><td>0</td><td>0</td><td>0</td><td>0</td><td>0</td><td>0</td><td>0</td><td>0</td><td>0</td><td>0</td><td>0</td><td>0</td><td>0</td><td>0</td><td>0</td><td>0</td><td>0</td><td>0</td><td>1</td><td>0</td><td>0</td><td>0</td><td>0.26693227091633465</td><td>0.32</td><td>0.24242424242424243</td><td>2279.0</td><td>14.0</td><td>0</td><td>1</td><td>0.041345093715545754</td><td>2018</td><td>5.586874056410479</td><td>Map(vectorType -> dense, length -> 16, values -> List(2125.0, 29.600000381469727, 30.139999389648438, 58.0, 0.0, 87.0, 30.139999389648438, 3.7300000190734863, 0.0, 0.0, 2279.0, 5.586874056410479, 0.041345093715545754, 0.26693227091633465, 0.32, 0.24242424242424243))</td><td>Map(vectorType -> dense, length -> 16, values -> List(2.1867640091953926, -0.5302769590219136, 0.20505351266027816, 0.10560146332176179, -0.29681411056900553, 0.2141496509739139, 0.5297392716521283, -0.679443016770487, -1.3777405413333004, -0.652229636289246, 2.4669384964319923, 0.256170750314657, 1.0513036087432672, 0.2809301731954526, 0.5656584175579674, 0.11839475836712271))</td><td>Map(vectorType -> sparse, length -> 87, indices -> List(0, 1, 2, 3, 4, 5, 6, 7, 8, 9, 10, 11, 12, 13, 14, 15, 16, 28, 52, 60, 80, 82, 83), values -> List(2.1867640091953926, -0.5302769590219136, 0.20505351266027816, 0.10560146332176179, -0.29681411056900553, 0.2141496509739139, 0.5297392716521283, -0.679443016770487, -1.3777405413333004, -0.652229636289246, 2.4669384964319923, 0.256170750314657, 1.0513036087432672, 0.2809301731954526, 0.5656584175579674, 0.11839475836712271, 1.0, 1.0, 1.0, 1.0, 1.0, 1.0, 1.0))</td><td>Map(vectorType -> dense, length -> 2, values -> List(0.15369338968161333, -0.15369338968161333))</td><td>Map(vectorType -> dense, length -> 2, values -> List(0.5383478903929685, 0.4616521096070315))</td><td>0.0</td></tr><tr><td>8445851</td><td>1</td><td>1</td><td>AS</td><td>10299</td><td>30</td><td>1542.0</td><td>0.0</td><td>1</td><td>-12.0</td><td>14057</td><td>2018-01-01</td><td>N319AS</td><td>442</td><td>-25.0</td><td>0.0</td><td>0.0</td><td>large_airport</td><td>27.4</td><td>29.59</td><td>25.0</td><td>0.0</td><td>78.0</td><td>FEW:02 70 FEW:02 110</td><td>29.59</td><td>10.0</td><td>20.0</td><td>0.0</td><td>null</td><td>00</td><td>6.0</td><td>Map(vectorType -> sparse, length -> 11, indices -> List(6), values -> List(1.0))</td><td>1.0</td><td>Map(vectorType -> sparse, length -> 6, indices -> List(1), values -> List(1.0))</td><td>8.0</td><td>Map(vectorType -> sparse, length -> 19, indices -> List(8), values -> List(1.0))</td><td>62.0</td><td>Map(vectorType -> sparse, length -> 372, indices -> List(62), values -> List(1.0))</td><td>19.0</td><td>Map(vectorType -> sparse, length -> 23, indices -> List(19), values -> List(1.0))</td><td>0.0</td><td>Map(vectorType -> sparse, length -> 3, indices -> List(0), values -> List(1.0))</td><td>Map(vectorType -> sparse, length -> 269, indices -> List(11, 216, 261), values -> List(1.0, 1.0, 1.0))</td><td>null</td><td>0</td><td>0</td><td>0</td><td>0</td><td>0</td><td>1</td><td>0</td><td>0</td><td>0</td><td>0</td><td>0</td><td>0</td><td>0</td><td>0</td><td>0</td><td>0</td><td>0</td><td>1</td><td>0</td><td>0</td><td>0</td><td>0</td><td>0</td><td>0</td><td>0</td><td>0</td><td>0</td><td>0</td><td>0</td><td>0</td><td>0</td><td>0</td><td>0</td><td>0</td><td>0</td><td>0</td><td>0</td><td>0</td><td>0</td><td>0</td><td>0</td><td>1</td><td>0</td><td>0</td><td>0</td><td>0</td><td>0</td><td>0</td><td>0</td><td>0</td><td>1</td><td>0</td><td>0</td><td>0</td><td>0</td><td>0</td><td>0</td><td>0</td><td>0</td><td>0</td><td>0</td><td>0</td><td>0</td><td>0</td><td>0</td><td>0</td><td>0</td><td>0</td><td>1</td><td>0</td><td>0</td><td>0</td><td>0.0</td><td>0.0</td><td>0.0</td><td>1542.0</td><td>4.0</td><td>0</td><td>1</td><td>0.0016538037486218302</td><td>2018</td><td>5.548686904115838</td><td>Map(vectorType -> dense, length -> 16, values -> List(1542.0, 27.399999618530273, 29.59000015258789, 25.0, 0.0, 78.0, 29.59000015258789, 10.0, 20.0, 0.0, 1542.0, 5.548686904115838, 0.0016538037486218302, 0.0, 0.0, 0.0))</td><td>Map(vectorType -> dense, length -> 16, values -> List(1.2033093727956021, -0.5362511721573848, -0.3576192620548446, -1.7428827758484247, -0.29681411056900553, -0.42747036895395746, 0.48469834112683285, 1.1544701274613054, -1.1994286156581961, -0.652229636289246, 1.2195350619545362, 0.06607619557390841, -0.894115417456661, -1.1181609719810173, -0.9066118068884264, -0.879387815459479))</td><td>Map(vectorType -> sparse, length -> 87, indices -> List(0, 1, 2, 3, 4, 5, 6, 7, 8, 9, 10, 11, 12, 13, 14, 15, 16, 28, 52, 61, 82, 83), values -> List(1.2033093727956021, -0.5362511721573848, -0.3576192620548446, -1.7428827758484247, -0.29681411056900553, -0.42747036895395746, 0.48469834112683285, 1.1544701274613054, -1.1994286156581961, -0.652229636289246, 1.2195350619545362, 0.06607619557390841, -0.894115417456661, -1.1181609719810173, -0.9066118068884264, -0.879387815459479, 1.0, 1.0, 1.0, 1.0, 1.0, 1.0))</td><td>Map(vectorType -> dense, length -> 2, values -> List(1.1287970707288086, -1.1287970707288086))</td><td>Map(vectorType -> dense, length -> 2, values -> List(0.7556168344439501, 0.24438316555604989))</td><td>0.0</td></tr><tr><td>8445852</td><td>1</td><td>1</td><td>UA</td><td>14747</td><td>34</td><td>1721.0</td><td>0.0</td><td>1</td><td>7.0</td><td>13930</td><td>2018-01-01</td><td>N69839</td><td>607</td><td>-23.0</td><td>0.0</td><td>0.0</td><td>large_airport</td><td>112.8</td><td>30.25</td><td>35.0</td><td>0.0</td><td>82.0</td><td>BKN:07 150</td><td>30.29</td><td>9.94</td><td>20.0</td><td>10.0</td><td>null</td><td>00</td><td>6.0</td><td>Map(vectorType -> sparse, length -> 11, indices -> List(6), values -> List(1.0))</td><td>1.0</td><td>Map(vectorType -> sparse, length -> 6, indices -> List(1), values -> List(1.0))</td><td>4.0</td><td>Map(vectorType -> sparse, length -> 19, indices -> List(4), values -> List(1.0))</td><td>10.0</td><td>Map(vectorType -> sparse, length -> 372, indices -> List(10), values -> List(1.0))</td><td>19.0</td><td>Map(vectorType -> sparse, length -> 23, indices -> List(19), values -> List(1.0))</td><td>0.0</td><td>Map(vectorType -> sparse, length -> 3, indices -> List(0), values -> List(1.0))</td><td>Map(vectorType -> sparse, length -> 269, indices -> List(46, 258), values -> List(1.0, 1.0))</td><td>null</td><td>0</td><td>0</td><td>0</td><td>0</td><td>0</td><td>1</td><td>0</td><td>0</td><td>0</td><td>0</td><td>0</td><td>0</td><td>0</td><td>0</td><td>0</td><td>0</td><td>0</td><td>1</td><td>0</td><td>0</td><td>0</td><td>0</td><td>0</td><td>0</td><td>0</td><td>0</td><td>0</td><td>0</td><td>0</td><td>0</td><td>0</td><td>0</td><td>0</td><td>0</td><td>0</td><td>0</td><td>0</td><td>0</td><td>0</td><td>0</td><td>0</td><td>1</td><td>0</td><td>0</td><td>0</td><td>0</td><td>0</td><td>0</td><td>0</td><td>0</td><td>0</td><td>0</td><td>0</td><td>0</td><td>0</td><td>0</td><td>0</td><td>0</td><td>0</td><td>0</td><td>0</td><td>0</td><td>1</td><td>0</td><td>0</td><td>0</td><td>0</td><td>0</td><td>1</td><td>0</td><td>0</td><td>0</td><td>0.21897810218978103</td><td>0.1</td><td>0.08</td><td>1874.0</td><td>6.0</td><td>0</td><td>1</td><td>0.028457598178713718</td><td>2018</td><td>5.556441886757492</td><td>Map(vectorType -> dense, length -> 16, values -> List(1721.0, 112.80000305175781, 30.25, 35.0, 0.0, 82.0, 30.290000915527344, 9.9399995803833, 20.0, 10.0, 1874.0, 5.556441886757492, 0.028457598178713718, 0.21897810218978103, 0.1, 0.08))</td><td>Map(vectorType -> dense, length -> 16, values -> List(1.5052619970075445, -0.3043431515445256, 0.31758884812303817, -1.1827360367059438, -0.29681411056900553, -0.1423059156526813, 0.5420233037935336, 1.1369205965954012, -1.1994286156581961, 0.45538077244577413, 1.78145899716012, 0.10468027793420205, 0.4196391040543875, 0.029584569273892806, -0.44652736174892826, -0.5501195660967003))</td><td>Map(vectorType -> sparse, length -> 87, indices -> List(0, 1, 2, 3, 4, 5, 6, 7, 8, 9, 10, 11, 12, 13, 14, 15, 16, 28, 52, 72, 82, 83), values -> List(1.5052619970075445, -0.3043431515445256, 0.31758884812303817, -1.1827360367059438, -0.29681411056900553, -0.1423059156526813, 0.5420233037935336, 1.1369205965954012, -1.1994286156581961, 0.45538077244577413, 1.78145899716012, 0.10468027793420205, 0.4196391040543875, 0.029584569273892806, -0.44652736174892826, -0.5501195660967003, 1.0, 1.0, 1.0, 1.0, 1.0, 1.0))</td><td>Map(vectorType -> dense, length -> 2, values -> List(0.6649745007876522, -0.6649745007876522))</td><td>Map(vectorType -> dense, length -> 2, values -> List(0.6603769541588272, 0.33962304584117275))</td><td>0.0</td></tr><tr><td>8445853</td><td>1</td><td>1</td><td>AA</td><td>14107</td><td>35</td><td>1773.0</td><td>0.0</td><td>1</td><td>-2.0</td><td>11057</td><td>2018-01-01</td><td>N519UW</td><td>557</td><td>-25.0</td><td>0.0</td><td>0.0</td><td>large_airport</td><td>337.4</td><td>30.1</td><td>52.0</td><td>0.0</td><td>47.0</td><td>FEW:02 160 SCT:04 210 BKN:07 250</td><td>30.09</td><td>10.0</td><td>110.0</td><td>0.0</td><td>null</td><td>00</td><td>6.0</td><td>Map(vectorType -> sparse, length -> 11, indices -> List(6), values -> List(1.0))</td><td>1.0</td><td>Map(vectorType -> sparse, length -> 6, indices -> List(1), values -> List(1.0))</td><td>2.0</td><td>Map(vectorType -> sparse, length -> 19, indices -> List(2), values -> List(1.0))</td><td>6.0</td><td>Map(vectorType -> sparse, length -> 372, indices -> List(6), values -> List(1.0))</td><td>19.0</td><td>Map(vectorType -> sparse, length -> 23, indices -> List(19), values -> List(1.0))</td><td>0.0</td><td>Map(vectorType -> sparse, length -> 3, indices -> List(0), values -> List(1.0))</td><td>Map(vectorType -> sparse, length -> 269, indices -> List(55, 87, 106, 258, 261, 265), values -> List(1.0, 1.0, 1.0, 1.0, 1.0, 1.0))</td><td>null</td><td>0</td><td>0</td><td>0</td><td>0</td><td>0</td><td>1</td><td>0</td><td>0</td><td>0</td><td>0</td><td>0</td><td>0</td><td>0</td><td>0</td><td>0</td><td>0</td><td>0</td><td>1</td><td>0</td><td>0</td><td>0</td><td>0</td><td>0</td><td>0</td><td>0</td><td>0</td><td>0</td><td>0</td><td>0</td><td>0</td><td>0</td><td>0</td><td>0</td><td>0</td><td>0</td><td>0</td><td>0</td><td>0</td><td>0</td><td>0</td><td>0</td><td>1</td><td>0</td><td>0</td><td>0</td><td>0</td><td>0</td><td>0</td><td>0</td><td>1</td><td>0</td><td>0</td><td>0</td><td>0</td><td>0</td><td>0</td><td>0</td><td>0</td><td>0</td><td>0</td><td>0</td><td>0</td><td>0</td><td>0</td><td>0</td><td>0</td><td>0</td><td>0</td><td>1</td><td>0</td><td>0</td><td>0</td><td>0.2616279069767442</td><td>0.2564102564102564</td><td>0.16666666666666666</td><td>1337.0</td><td>-4.0</td><td>0</td><td>1</td><td>0.0221969265793967</td><td>2018</td><td>5.517051209373546</td><td>Map(vectorType -> dense, length -> 16, values -> List(1773.0, 337.3999938964844, 30.100000381469727, 52.0, 0.0, 47.0, 30.09000015258789, 10.0, 110.0, 0.0, 1337.0, 5.517051209373546, 0.0221969265793967, 0.2616279069767442, 0.2564102564102564, 0.16666666666666666))</td><td>Map(vectorType -> dense, length -> 16, values -> List(1.5929800777841983, 0.30556946218495984, 0.1641328142279446, -0.23048658016372667, -0.29681411056900553, -2.6374948820388475, 0.5256446984036314, 1.1544701274613054, -0.3970249501202278, -0.652229636289246, 0.8725639573848233, -0.09140539036760724, 0.11278010158179079, 0.2531280322508666, 0.27309189859746597, -0.19341229595369036))</td><td>Map(vectorType -> sparse, length -> 87, indices -> List(0, 1, 2, 3, 4, 5, 6, 7, 8, 9, 10, 11, 12, 13, 14, 15, 16, 28, 52, 60, 82, 83), values -> List(1.5929800777841983, 0.30556946218495984, 0.1641328142279446, -0.23048658016372667, -0.29681411056900553, -2.6374948820388475, 0.5256446984036314, 1.1544701274613054, -0.3970249501202278, -0.652229636289246, 0.8725639573848233, -0.09140539036760724, 0.11278010158179079, 0.2531280322508666, 0.27309189859746597, -0.19341229595369036, 1.0, 1.0, 1.0, 1.0, 1.0, 1.0))</td><td>Map(vectorType -> dense, length -> 2, values -> List(0.4241169612667326, -0.4241169612667326))</td><td>Map(vectorType -> dense, length -> 2, values -> List(0.6044679816139937, 0.39553201838600627))</td><td>0.0</td></tr></tbody></table></div>"
      ]
     },
     "metadata": {
      "application/vnd.databricks.v1+output": {
       "addedWidgets": {},
       "aggData": [],
       "aggError": "",
       "aggOverflow": false,
       "aggSchema": [],
       "aggSeriesLimitReached": false,
       "aggType": "",
       "arguments": {},
       "columnCustomDisplayInfos": {},
       "data": [
        [
         8445849,
         1,
         1,
         "DL",
         14771,
         20,
         1589.0,
         0.0,
         1,
         -6.0,
         13487,
         "2018-01-01",
         "N669DN",
         543,
         -12.0,
         0.0,
         0.0,
         "large_airport",
         2.4,
         30.17,
         54.0,
         0.0,
         80.0,
         "BKN:07 160",
         30.16,
         9.94,
         0.0,
         0.0,
         null,
         "00",
         6.0,
         {
          "indices": [
           6
          ],
          "length": 11,
          "values": [
           1.0
          ],
          "vectorType": "sparse"
         },
         1.0,
         {
          "indices": [
           1
          ],
          "length": 6,
          "values": [
           1.0
          ],
          "vectorType": "sparse"
         },
         1.0,
         {
          "indices": [
           1
          ],
          "length": 19,
          "values": [
           1.0
          ],
          "vectorType": "sparse"
         },
         7.0,
         {
          "indices": [
           7
          ],
          "length": 372,
          "values": [
           1.0
          ],
          "vectorType": "sparse"
         },
         19.0,
         {
          "indices": [
           19
          ],
          "length": 23,
          "values": [
           1.0
          ],
          "vectorType": "sparse"
         },
         0.0,
         {
          "indices": [
           0
          ],
          "length": 3,
          "values": [
           1.0
          ],
          "vectorType": "sparse"
         },
         {
          "indices": [
           55,
           258
          ],
          "length": 269,
          "values": [
           1.0,
           1.0
          ],
          "vectorType": "sparse"
         },
         null,
         0,
         0,
         0,
         0,
         0,
         1,
         0,
         0,
         0,
         0,
         0,
         0,
         0,
         0,
         0,
         0,
         0,
         1,
         0,
         0,
         0,
         0,
         0,
         0,
         0,
         0,
         0,
         0,
         0,
         0,
         0,
         0,
         0,
         0,
         0,
         0,
         0,
         0,
         0,
         0,
         0,
         1,
         0,
         0,
         0,
         0,
         0,
         0,
         0,
         0,
         0,
         0,
         1,
         0,
         0,
         0,
         0,
         0,
         0,
         0,
         0,
         0,
         0,
         0,
         0,
         0,
         0,
         0,
         1,
         0,
         0,
         0,
         0.11940298507462686,
         0.1111111111111111,
         0.10714285714285714,
         2079.0,
         -1.0,
         0,
         1,
         0.033707865168539325,
         "2018",
         5.529032183358565,
         {
          "length": 16,
          "values": [
           1589.0,
           2.4000000953674316,
           30.170000076293945,
           54.0,
           0.0,
           80.0,
           30.15999984741211,
           9.9399995803833,
           0.0,
           0.0,
           2079.0,
           5.529032183358565,
           0.033707865168539325,
           0.11940298507462686,
           0.1111111111111111,
           0.10714285714285714
          ],
          "vectorType": "dense"
         },
         {
          "length": 16,
          "values": [
           1.2825930227283469,
           -0.6041399329496747,
           0.23574549995903235,
           -0.1184572323352305,
           -0.29681411056900553,
           -0.2848881423033194,
           0.53137716343071,
           1.1369205965954012,
           -1.3777405413333004,
           -0.652229636289246,
           2.1284301017298333,
           -0.03176444365678946,
           0.6769743860053596,
           -0.4923255922718723,
           -0.39540686784453966,
           -0.4384035529200434
          ],
          "vectorType": "dense"
         },
         {
          "indices": [
           0,
           1,
           2,
           3,
           4,
           5,
           6,
           7,
           8,
           9,
           10,
           11,
           12,
           13,
           14,
           15,
           16,
           28,
           52,
           63,
           82,
           83
          ],
          "length": 87,
          "values": [
           1.2825930227283469,
           -0.6041399329496747,
           0.23574549995903235,
           -0.1184572323352305,
           -0.29681411056900553,
           -0.2848881423033194,
           0.53137716343071,
           1.1369205965954012,
           -1.3777405413333004,
           -0.652229636289246,
           2.1284301017298333,
           -0.03176444365678946,
           0.6769743860053596,
           -0.4923255922718723,
           -0.39540686784453966,
           -0.4384035529200434,
           1.0,
           1.0,
           1.0,
           1.0,
           1.0,
           1.0
          ],
          "vectorType": "sparse"
         },
         {
          "length": 2,
          "values": [
           0.7393824318427165,
           -0.7393824318427165
          ],
          "vectorType": "dense"
         },
         {
          "length": 2,
          "values": [
           0.6768607963274049,
           0.3231392036725951
          ],
          "vectorType": "dense"
         },
         0.0
        ],
        [
         8445850,
         1,
         1,
         "AA",
         12892,
         30,
         2125.0,
         0.0,
         1,
         -4.0,
         11057,
         "2018-01-01",
         "N927UW",
         745,
         -30.0,
         0.0,
         0.0,
         "large_airport",
         29.6,
         30.14,
         58.0,
         0.0,
         87.0,
         "5",
         30.14,
         3.73,
         0.0,
         0.0,
         "BR:1 ||",
         "00",
         6.0,
         {
          "indices": [
           6
          ],
          "length": 11,
          "values": [
           1.0
          ],
          "vectorType": "sparse"
         },
         1.0,
         {
          "indices": [
           1
          ],
          "length": 6,
          "values": [
           1.0
          ],
          "vectorType": "sparse"
         },
         2.0,
         {
          "indices": [
           2
          ],
          "length": 19,
          "values": [
           1.0
          ],
          "vectorType": "sparse"
         },
         4.0,
         {
          "indices": [
           4
          ],
          "length": 372,
          "values": [
           1.0
          ],
          "vectorType": "sparse"
         },
         19.0,
         {
          "indices": [
           19
          ],
          "length": 23,
          "values": [
           1.0
          ],
          "vectorType": "sparse"
         },
         0.0,
         {
          "indices": [
           0
          ],
          "length": 3,
          "values": [
           1.0
          ],
          "vectorType": "sparse"
         },
         {
          "indices": [
           187
          ],
          "length": 269,
          "values": [
           1.0
          ],
          "vectorType": "sparse"
         },
         {
          "indices": [
           4
          ],
          "length": 5,
          "values": [
           1.0
          ],
          "vectorType": "sparse"
         },
         0,
         0,
         0,
         0,
         1,
         1,
         0,
         0,
         0,
         0,
         0,
         0,
         0,
         0,
         0,
         0,
         0,
         1,
         0,
         0,
         0,
         0,
         0,
         0,
         0,
         0,
         0,
         0,
         0,
         0,
         0,
         0,
         0,
         0,
         0,
         0,
         0,
         0,
         0,
         0,
         0,
         1,
         0,
         0,
         0,
         0,
         0,
         0,
         0,
         1,
         0,
         0,
         0,
         0,
         0,
         0,
         0,
         0,
         0,
         0,
         0,
         0,
         0,
         0,
         0,
         0,
         0,
         0,
         1,
         0,
         0,
         0,
         0.26693227091633465,
         0.32,
         0.24242424242424243,
         2279.0,
         14.0,
         0,
         1,
         0.041345093715545754,
         "2018",
         5.586874056410479,
         {
          "length": 16,
          "values": [
           2125.0,
           29.600000381469727,
           30.139999389648438,
           58.0,
           0.0,
           87.0,
           30.139999389648438,
           3.7300000190734863,
           0.0,
           0.0,
           2279.0,
           5.586874056410479,
           0.041345093715545754,
           0.26693227091633465,
           0.32,
           0.24242424242424243
          ],
          "vectorType": "dense"
         },
         {
          "length": 16,
          "values": [
           2.1867640091953926,
           -0.5302769590219136,
           0.20505351266027816,
           0.10560146332176179,
           -0.29681411056900553,
           0.2141496509739139,
           0.5297392716521283,
           -0.679443016770487,
           -1.3777405413333004,
           -0.652229636289246,
           2.4669384964319923,
           0.256170750314657,
           1.0513036087432672,
           0.2809301731954526,
           0.5656584175579674,
           0.11839475836712271
          ],
          "vectorType": "dense"
         },
         {
          "indices": [
           0,
           1,
           2,
           3,
           4,
           5,
           6,
           7,
           8,
           9,
           10,
           11,
           12,
           13,
           14,
           15,
           16,
           28,
           52,
           60,
           80,
           82,
           83
          ],
          "length": 87,
          "values": [
           2.1867640091953926,
           -0.5302769590219136,
           0.20505351266027816,
           0.10560146332176179,
           -0.29681411056900553,
           0.2141496509739139,
           0.5297392716521283,
           -0.679443016770487,
           -1.3777405413333004,
           -0.652229636289246,
           2.4669384964319923,
           0.256170750314657,
           1.0513036087432672,
           0.2809301731954526,
           0.5656584175579674,
           0.11839475836712271,
           1.0,
           1.0,
           1.0,
           1.0,
           1.0,
           1.0,
           1.0
          ],
          "vectorType": "sparse"
         },
         {
          "length": 2,
          "values": [
           0.15369338968161333,
           -0.15369338968161333
          ],
          "vectorType": "dense"
         },
         {
          "length": 2,
          "values": [
           0.5383478903929685,
           0.4616521096070315
          ],
          "vectorType": "dense"
         },
         0.0
        ],
        [
         8445851,
         1,
         1,
         "AS",
         10299,
         30,
         1542.0,
         0.0,
         1,
         -12.0,
         14057,
         "2018-01-01",
         "N319AS",
         442,
         -25.0,
         0.0,
         0.0,
         "large_airport",
         27.4,
         29.59,
         25.0,
         0.0,
         78.0,
         "FEW:02 70 FEW:02 110",
         29.59,
         10.0,
         20.0,
         0.0,
         null,
         "00",
         6.0,
         {
          "indices": [
           6
          ],
          "length": 11,
          "values": [
           1.0
          ],
          "vectorType": "sparse"
         },
         1.0,
         {
          "indices": [
           1
          ],
          "length": 6,
          "values": [
           1.0
          ],
          "vectorType": "sparse"
         },
         8.0,
         {
          "indices": [
           8
          ],
          "length": 19,
          "values": [
           1.0
          ],
          "vectorType": "sparse"
         },
         62.0,
         {
          "indices": [
           62
          ],
          "length": 372,
          "values": [
           1.0
          ],
          "vectorType": "sparse"
         },
         19.0,
         {
          "indices": [
           19
          ],
          "length": 23,
          "values": [
           1.0
          ],
          "vectorType": "sparse"
         },
         0.0,
         {
          "indices": [
           0
          ],
          "length": 3,
          "values": [
           1.0
          ],
          "vectorType": "sparse"
         },
         {
          "indices": [
           11,
           216,
           261
          ],
          "length": 269,
          "values": [
           1.0,
           1.0,
           1.0
          ],
          "vectorType": "sparse"
         },
         null,
         0,
         0,
         0,
         0,
         0,
         1,
         0,
         0,
         0,
         0,
         0,
         0,
         0,
         0,
         0,
         0,
         0,
         1,
         0,
         0,
         0,
         0,
         0,
         0,
         0,
         0,
         0,
         0,
         0,
         0,
         0,
         0,
         0,
         0,
         0,
         0,
         0,
         0,
         0,
         0,
         0,
         1,
         0,
         0,
         0,
         0,
         0,
         0,
         0,
         0,
         1,
         0,
         0,
         0,
         0,
         0,
         0,
         0,
         0,
         0,
         0,
         0,
         0,
         0,
         0,
         0,
         0,
         0,
         1,
         0,
         0,
         0,
         0.0,
         0.0,
         0.0,
         1542.0,
         4.0,
         0,
         1,
         0.0016538037486218302,
         "2018",
         5.548686904115838,
         {
          "length": 16,
          "values": [
           1542.0,
           27.399999618530273,
           29.59000015258789,
           25.0,
           0.0,
           78.0,
           29.59000015258789,
           10.0,
           20.0,
           0.0,
           1542.0,
           5.548686904115838,
           0.0016538037486218302,
           0.0,
           0.0,
           0.0
          ],
          "vectorType": "dense"
         },
         {
          "length": 16,
          "values": [
           1.2033093727956021,
           -0.5362511721573848,
           -0.3576192620548446,
           -1.7428827758484247,
           -0.29681411056900553,
           -0.42747036895395746,
           0.48469834112683285,
           1.1544701274613054,
           -1.1994286156581961,
           -0.652229636289246,
           1.2195350619545362,
           0.06607619557390841,
           -0.894115417456661,
           -1.1181609719810173,
           -0.9066118068884264,
           -0.879387815459479
          ],
          "vectorType": "dense"
         },
         {
          "indices": [
           0,
           1,
           2,
           3,
           4,
           5,
           6,
           7,
           8,
           9,
           10,
           11,
           12,
           13,
           14,
           15,
           16,
           28,
           52,
           61,
           82,
           83
          ],
          "length": 87,
          "values": [
           1.2033093727956021,
           -0.5362511721573848,
           -0.3576192620548446,
           -1.7428827758484247,
           -0.29681411056900553,
           -0.42747036895395746,
           0.48469834112683285,
           1.1544701274613054,
           -1.1994286156581961,
           -0.652229636289246,
           1.2195350619545362,
           0.06607619557390841,
           -0.894115417456661,
           -1.1181609719810173,
           -0.9066118068884264,
           -0.879387815459479,
           1.0,
           1.0,
           1.0,
           1.0,
           1.0,
           1.0
          ],
          "vectorType": "sparse"
         },
         {
          "length": 2,
          "values": [
           1.1287970707288086,
           -1.1287970707288086
          ],
          "vectorType": "dense"
         },
         {
          "length": 2,
          "values": [
           0.7556168344439501,
           0.24438316555604989
          ],
          "vectorType": "dense"
         },
         0.0
        ],
        [
         8445852,
         1,
         1,
         "UA",
         14747,
         34,
         1721.0,
         0.0,
         1,
         7.0,
         13930,
         "2018-01-01",
         "N69839",
         607,
         -23.0,
         0.0,
         0.0,
         "large_airport",
         112.8,
         30.25,
         35.0,
         0.0,
         82.0,
         "BKN:07 150",
         30.29,
         9.94,
         20.0,
         10.0,
         null,
         "00",
         6.0,
         {
          "indices": [
           6
          ],
          "length": 11,
          "values": [
           1.0
          ],
          "vectorType": "sparse"
         },
         1.0,
         {
          "indices": [
           1
          ],
          "length": 6,
          "values": [
           1.0
          ],
          "vectorType": "sparse"
         },
         4.0,
         {
          "indices": [
           4
          ],
          "length": 19,
          "values": [
           1.0
          ],
          "vectorType": "sparse"
         },
         10.0,
         {
          "indices": [
           10
          ],
          "length": 372,
          "values": [
           1.0
          ],
          "vectorType": "sparse"
         },
         19.0,
         {
          "indices": [
           19
          ],
          "length": 23,
          "values": [
           1.0
          ],
          "vectorType": "sparse"
         },
         0.0,
         {
          "indices": [
           0
          ],
          "length": 3,
          "values": [
           1.0
          ],
          "vectorType": "sparse"
         },
         {
          "indices": [
           46,
           258
          ],
          "length": 269,
          "values": [
           1.0,
           1.0
          ],
          "vectorType": "sparse"
         },
         null,
         0,
         0,
         0,
         0,
         0,
         1,
         0,
         0,
         0,
         0,
         0,
         0,
         0,
         0,
         0,
         0,
         0,
         1,
         0,
         0,
         0,
         0,
         0,
         0,
         0,
         0,
         0,
         0,
         0,
         0,
         0,
         0,
         0,
         0,
         0,
         0,
         0,
         0,
         0,
         0,
         0,
         1,
         0,
         0,
         0,
         0,
         0,
         0,
         0,
         0,
         0,
         0,
         0,
         0,
         0,
         0,
         0,
         0,
         0,
         0,
         0,
         0,
         1,
         0,
         0,
         0,
         0,
         0,
         1,
         0,
         0,
         0,
         0.21897810218978103,
         0.1,
         0.08,
         1874.0,
         6.0,
         0,
         1,
         0.028457598178713718,
         "2018",
         5.556441886757492,
         {
          "length": 16,
          "values": [
           1721.0,
           112.80000305175781,
           30.25,
           35.0,
           0.0,
           82.0,
           30.290000915527344,
           9.9399995803833,
           20.0,
           10.0,
           1874.0,
           5.556441886757492,
           0.028457598178713718,
           0.21897810218978103,
           0.1,
           0.08
          ],
          "vectorType": "dense"
         },
         {
          "length": 16,
          "values": [
           1.5052619970075445,
           -0.3043431515445256,
           0.31758884812303817,
           -1.1827360367059438,
           -0.29681411056900553,
           -0.1423059156526813,
           0.5420233037935336,
           1.1369205965954012,
           -1.1994286156581961,
           0.45538077244577413,
           1.78145899716012,
           0.10468027793420205,
           0.4196391040543875,
           0.029584569273892806,
           -0.44652736174892826,
           -0.5501195660967003
          ],
          "vectorType": "dense"
         },
         {
          "indices": [
           0,
           1,
           2,
           3,
           4,
           5,
           6,
           7,
           8,
           9,
           10,
           11,
           12,
           13,
           14,
           15,
           16,
           28,
           52,
           72,
           82,
           83
          ],
          "length": 87,
          "values": [
           1.5052619970075445,
           -0.3043431515445256,
           0.31758884812303817,
           -1.1827360367059438,
           -0.29681411056900553,
           -0.1423059156526813,
           0.5420233037935336,
           1.1369205965954012,
           -1.1994286156581961,
           0.45538077244577413,
           1.78145899716012,
           0.10468027793420205,
           0.4196391040543875,
           0.029584569273892806,
           -0.44652736174892826,
           -0.5501195660967003,
           1.0,
           1.0,
           1.0,
           1.0,
           1.0,
           1.0
          ],
          "vectorType": "sparse"
         },
         {
          "length": 2,
          "values": [
           0.6649745007876522,
           -0.6649745007876522
          ],
          "vectorType": "dense"
         },
         {
          "length": 2,
          "values": [
           0.6603769541588272,
           0.33962304584117275
          ],
          "vectorType": "dense"
         },
         0.0
        ],
        [
         8445853,
         1,
         1,
         "AA",
         14107,
         35,
         1773.0,
         0.0,
         1,
         -2.0,
         11057,
         "2018-01-01",
         "N519UW",
         557,
         -25.0,
         0.0,
         0.0,
         "large_airport",
         337.4,
         30.1,
         52.0,
         0.0,
         47.0,
         "FEW:02 160 SCT:04 210 BKN:07 250",
         30.09,
         10.0,
         110.0,
         0.0,
         null,
         "00",
         6.0,
         {
          "indices": [
           6
          ],
          "length": 11,
          "values": [
           1.0
          ],
          "vectorType": "sparse"
         },
         1.0,
         {
          "indices": [
           1
          ],
          "length": 6,
          "values": [
           1.0
          ],
          "vectorType": "sparse"
         },
         2.0,
         {
          "indices": [
           2
          ],
          "length": 19,
          "values": [
           1.0
          ],
          "vectorType": "sparse"
         },
         6.0,
         {
          "indices": [
           6
          ],
          "length": 372,
          "values": [
           1.0
          ],
          "vectorType": "sparse"
         },
         19.0,
         {
          "indices": [
           19
          ],
          "length": 23,
          "values": [
           1.0
          ],
          "vectorType": "sparse"
         },
         0.0,
         {
          "indices": [
           0
          ],
          "length": 3,
          "values": [
           1.0
          ],
          "vectorType": "sparse"
         },
         {
          "indices": [
           55,
           87,
           106,
           258,
           261,
           265
          ],
          "length": 269,
          "values": [
           1.0,
           1.0,
           1.0,
           1.0,
           1.0,
           1.0
          ],
          "vectorType": "sparse"
         },
         null,
         0,
         0,
         0,
         0,
         0,
         1,
         0,
         0,
         0,
         0,
         0,
         0,
         0,
         0,
         0,
         0,
         0,
         1,
         0,
         0,
         0,
         0,
         0,
         0,
         0,
         0,
         0,
         0,
         0,
         0,
         0,
         0,
         0,
         0,
         0,
         0,
         0,
         0,
         0,
         0,
         0,
         1,
         0,
         0,
         0,
         0,
         0,
         0,
         0,
         1,
         0,
         0,
         0,
         0,
         0,
         0,
         0,
         0,
         0,
         0,
         0,
         0,
         0,
         0,
         0,
         0,
         0,
         0,
         1,
         0,
         0,
         0,
         0.2616279069767442,
         0.2564102564102564,
         0.16666666666666666,
         1337.0,
         -4.0,
         0,
         1,
         0.0221969265793967,
         "2018",
         5.517051209373546,
         {
          "length": 16,
          "values": [
           1773.0,
           337.3999938964844,
           30.100000381469727,
           52.0,
           0.0,
           47.0,
           30.09000015258789,
           10.0,
           110.0,
           0.0,
           1337.0,
           5.517051209373546,
           0.0221969265793967,
           0.2616279069767442,
           0.2564102564102564,
           0.16666666666666666
          ],
          "vectorType": "dense"
         },
         {
          "length": 16,
          "values": [
           1.5929800777841983,
           0.30556946218495984,
           0.1641328142279446,
           -0.23048658016372667,
           -0.29681411056900553,
           -2.6374948820388475,
           0.5256446984036314,
           1.1544701274613054,
           -0.3970249501202278,
           -0.652229636289246,
           0.8725639573848233,
           -0.09140539036760724,
           0.11278010158179079,
           0.2531280322508666,
           0.27309189859746597,
           -0.19341229595369036
          ],
          "vectorType": "dense"
         },
         {
          "indices": [
           0,
           1,
           2,
           3,
           4,
           5,
           6,
           7,
           8,
           9,
           10,
           11,
           12,
           13,
           14,
           15,
           16,
           28,
           52,
           60,
           82,
           83
          ],
          "length": 87,
          "values": [
           1.5929800777841983,
           0.30556946218495984,
           0.1641328142279446,
           -0.23048658016372667,
           -0.29681411056900553,
           -2.6374948820388475,
           0.5256446984036314,
           1.1544701274613054,
           -0.3970249501202278,
           -0.652229636289246,
           0.8725639573848233,
           -0.09140539036760724,
           0.11278010158179079,
           0.2531280322508666,
           0.27309189859746597,
           -0.19341229595369036,
           1.0,
           1.0,
           1.0,
           1.0,
           1.0,
           1.0
          ],
          "vectorType": "sparse"
         },
         {
          "length": 2,
          "values": [
           0.4241169612667326,
           -0.4241169612667326
          ],
          "vectorType": "dense"
         },
         {
          "length": 2,
          "values": [
           0.6044679816139937,
           0.39553201838600627
          ],
          "vectorType": "dense"
         },
         0.0
        ]
       ],
       "datasetInfos": [],
       "dbfsResultPath": null,
       "isJsonSchema": true,
       "metadata": {},
       "overflow": false,
       "plotOptions": {
        "customPlotOptions": {},
        "displayType": "table",
        "pivotAggregation": null,
        "pivotColumns": null,
        "xColumns": null,
        "yColumns": null
       },
       "removedWidgets": [],
       "schema": [
        {
         "metadata": "{}",
         "name": "index",
         "type": "\"integer\""
        },
        {
         "metadata": "{}",
         "name": "MONTH",
         "type": "\"integer\""
        },
        {
         "metadata": "{}",
         "name": "DAY_OF_WEEK",
         "type": "\"integer\""
        },
        {
         "metadata": "{}",
         "name": "OP_CARRIER",
         "type": "\"string\""
        },
        {
         "metadata": "{}",
         "name": "ORIGIN_AIRPORT_ID",
         "type": "\"integer\""
        },
        {
         "metadata": "{}",
         "name": "CRS_DEP_TIME",
         "type": "\"integer\""
        },
        {
         "metadata": "{}",
         "name": "DISTANCE",
         "type": "\"double\""
        },
        {
         "metadata": "{}",
         "name": "DEP_DEL15",
         "type": "\"double\""
        },
        {
         "metadata": "{}",
         "name": "QUARTER",
         "type": "\"integer\""
        },
        {
         "metadata": "{}",
         "name": "DEP_DELAY",
         "type": "\"double\""
        },
        {
         "metadata": "{}",
         "name": "DEST_AIRPORT_ID",
         "type": "\"integer\""
        },
        {
         "metadata": "{}",
         "name": "FL_DATE",
         "type": "\"string\""
        },
        {
         "metadata": "{}",
         "name": "TAIL_NUM",
         "type": "\"string\""
        },
        {
         "metadata": "{}",
         "name": "ARR_TIME",
         "type": "\"integer\""
        },
        {
         "metadata": "{}",
         "name": "ARR_DELAY",
         "type": "\"double\""
        },
        {
         "metadata": "{}",
         "name": "ARR_DEL15",
         "type": "\"double\""
        },
        {
         "metadata": "{}",
         "name": "CANCELLED",
         "type": "\"double\""
        },
        {
         "metadata": "{}",
         "name": "type",
         "type": "\"string\""
        },
        {
         "metadata": "{}",
         "name": "ELEVATION",
         "type": "\"float\""
        },
        {
         "metadata": "{}",
         "name": "HourlyAltimeterSetting",
         "type": "\"float\""
        },
        {
         "metadata": "{}",
         "name": "HourlyDryBulbTemperature",
         "type": "\"float\""
        },
        {
         "metadata": "{}",
         "name": "HourlyPrecipitation",
         "type": "\"float\""
        },
        {
         "metadata": "{}",
         "name": "HourlyRelativeHumidity",
         "type": "\"float\""
        },
        {
         "metadata": "{}",
         "name": "HourlySkyConditions",
         "type": "\"string\""
        },
        {
         "metadata": "{}",
         "name": "HourlySeaLevelPressure",
         "type": "\"float\""
        },
        {
         "metadata": "{}",
         "name": "HourlyVisibility",
         "type": "\"float\""
        },
        {
         "metadata": "{}",
         "name": "HourlyWindDirection",
         "type": "\"float\""
        },
        {
         "metadata": "{}",
         "name": "HourlyWindSpeed",
         "type": "\"float\""
        },
        {
         "metadata": "{}",
         "name": "HourlyPresentWeatherType",
         "type": "\"string\""
        },
        {
         "metadata": "{}",
         "name": "HOUR",
         "type": "\"string\""
        },
        {
         "metadata": "{\"ml_attr\":{\"vals\":[\"3\",\"8\",\"7\",\"10\",\"12\",\"6\",\"1\",\"11\",\"9\",\"5\",\"4\",\"2\"],\"type\":\"nominal\",\"name\":\"MONTH_indexed\"}}",
         "name": "MONTH_indexed",
         "type": "\"double\""
        },
        {
         "metadata": "{\"ml_attr\":{\"attrs\":{\"binary\":[{\"idx\":0,\"name\":\"3\"},{\"idx\":1,\"name\":\"8\"},{\"idx\":2,\"name\":\"7\"},{\"idx\":3,\"name\":\"10\"},{\"idx\":4,\"name\":\"12\"},{\"idx\":5,\"name\":\"6\"},{\"idx\":6,\"name\":\"1\"},{\"idx\":7,\"name\":\"11\"},{\"idx\":8,\"name\":\"9\"},{\"idx\":9,\"name\":\"5\"},{\"idx\":10,\"name\":\"4\"}]},\"num_attrs\":11}}",
         "name": "MONTH_vec",
         "type": "{\"type\":\"udt\",\"class\":\"org.apache.spark.ml.linalg.VectorUDT\",\"pyClass\":\"pyspark.ml.linalg.VectorUDT\",\"sqlType\":{\"type\":\"struct\",\"fields\":[{\"name\":\"type\",\"type\":\"byte\",\"nullable\":false,\"metadata\":{}},{\"name\":\"size\",\"type\":\"integer\",\"nullable\":true,\"metadata\":{}},{\"name\":\"indices\",\"type\":{\"type\":\"array\",\"elementType\":\"integer\",\"containsNull\":false},\"nullable\":true,\"metadata\":{}},{\"name\":\"values\",\"type\":{\"type\":\"array\",\"elementType\":\"double\",\"containsNull\":false},\"nullable\":true,\"metadata\":{}}]}}"
        },
        {
         "metadata": "{\"ml_attr\":{\"vals\":[\"5\",\"1\",\"4\",\"3\",\"7\",\"2\",\"6\"],\"type\":\"nominal\",\"name\":\"DAY_OF_WEEK_indexed\"}}",
         "name": "DAY_OF_WEEK_indexed",
         "type": "\"double\""
        },
        {
         "metadata": "{\"ml_attr\":{\"attrs\":{\"binary\":[{\"idx\":0,\"name\":\"5\"},{\"idx\":1,\"name\":\"1\"},{\"idx\":2,\"name\":\"4\"},{\"idx\":3,\"name\":\"3\"},{\"idx\":4,\"name\":\"7\"},{\"idx\":5,\"name\":\"2\"}]},\"num_attrs\":6}}",
         "name": "DAY_OF_WEEK_vec",
         "type": "{\"type\":\"udt\",\"class\":\"org.apache.spark.ml.linalg.VectorUDT\",\"pyClass\":\"pyspark.ml.linalg.VectorUDT\",\"sqlType\":{\"type\":\"struct\",\"fields\":[{\"name\":\"type\",\"type\":\"byte\",\"nullable\":false,\"metadata\":{}},{\"name\":\"size\",\"type\":\"integer\",\"nullable\":true,\"metadata\":{}},{\"name\":\"indices\",\"type\":{\"type\":\"array\",\"elementType\":\"integer\",\"containsNull\":false},\"nullable\":true,\"metadata\":{}},{\"name\":\"values\",\"type\":{\"type\":\"array\",\"elementType\":\"double\",\"containsNull\":false},\"nullable\":true,\"metadata\":{}}]}}"
        },
        {
         "metadata": "{\"ml_attr\":{\"vals\":[\"WN\",\"DL\",\"AA\",\"OO\",\"UA\",\"EV\",\"B6\",\"MQ\",\"AS\",\"YX\",\"NK\",\"OH\",\"9E\",\"F9\",\"YV\",\"G4\",\"VX\",\"US\",\"QX\",\"HA\"],\"type\":\"nominal\",\"name\":\"OP_CARRIER_indexed\"}}",
         "name": "OP_CARRIER_indexed",
         "type": "\"double\""
        },
        {
         "metadata": "{\"ml_attr\":{\"attrs\":{\"binary\":[{\"idx\":0,\"name\":\"WN\"},{\"idx\":1,\"name\":\"DL\"},{\"idx\":2,\"name\":\"AA\"},{\"idx\":3,\"name\":\"OO\"},{\"idx\":4,\"name\":\"UA\"},{\"idx\":5,\"name\":\"EV\"},{\"idx\":6,\"name\":\"B6\"},{\"idx\":7,\"name\":\"MQ\"},{\"idx\":8,\"name\":\"AS\"},{\"idx\":9,\"name\":\"YX\"},{\"idx\":10,\"name\":\"NK\"},{\"idx\":11,\"name\":\"OH\"},{\"idx\":12,\"name\":\"9E\"},{\"idx\":13,\"name\":\"F9\"},{\"idx\":14,\"name\":\"YV\"},{\"idx\":15,\"name\":\"G4\"},{\"idx\":16,\"name\":\"VX\"},{\"idx\":17,\"name\":\"US\"},{\"idx\":18,\"name\":\"QX\"}]},\"num_attrs\":19}}",
         "name": "OP_CARRIER_vec",
         "type": "{\"type\":\"udt\",\"class\":\"org.apache.spark.ml.linalg.VectorUDT\",\"pyClass\":\"pyspark.ml.linalg.VectorUDT\",\"sqlType\":{\"type\":\"struct\",\"fields\":[{\"name\":\"type\",\"type\":\"byte\",\"nullable\":false,\"metadata\":{}},{\"name\":\"size\",\"type\":\"integer\",\"nullable\":true,\"metadata\":{}},{\"name\":\"indices\",\"type\":{\"type\":\"array\",\"elementType\":\"integer\",\"containsNull\":false},\"nullable\":true,\"metadata\":{}},{\"name\":\"values\",\"type\":{\"type\":\"array\",\"elementType\":\"double\",\"containsNull\":false},\"nullable\":true,\"metadata\":{}}]}}"
        },
        {
         "metadata": "{\"ml_attr\":{\"vals\":[\"10397\",\"13930\",\"11298\",\"11292\",\"12892\",\"11057\",\"14107\",\"14771\",\"12889\",\"12266\",\"14747\",\"13487\",\"11433\",\"13204\",\"10721\",\"12953\",\"11618\",\"14869\",\"12478\",\"11278\",\"10821\",\"14100\",\"11697\",\"13232\",\"14679\",\"13303\",\"15304\",\"11259\",\"10693\",\"15016\",\"14057\",\"10423\",\"12191\",\"12264\",\"14831\",\"13796\",\"13495\",\"13198\",\"14492\",\"14893\",\"14908\",\"11042\",\"12339\",\"14122\",\"14683\",\"14635\",\"11066\",\"11193\",\"13342\",\"10800\",\"12451\",\"14027\",\"10529\",\"13871\",\"13891\",\"10140\",\"10792\",\"13851\",\"10994\",\"13244\",\"14524\",\"10713\",\"10299\",\"14570\",\"15376\",\"14730\",\"13931\",\"15370\",\"10599\",\"11986\",\"14307\",\"11540\",\"12954\",\"11884\",\"14685\",\"11423\",\"15412\",\"14262\",\"12992\",\"13485\",\"11996\",\"10257\",\"14576\",\"11638\",\"13577\",\"15919\",\"14193\",\"11267\",\"11109\",\"15096\",\"12278\",\"11995\",\"14321\",\"12197\",\"13158\",\"11003\",\"14986\",\"15624\",\"12945\",\"13296\",\"10781\",\"12448\",\"12217\",\"10849\",\"14689\",\"14783\",\"10431\",\"11481\",\"11775\",\"10980\",\"14814\",\"11823\",\"14696\",\"10785\",\"14761\",\"10868\",\"12896\",\"10372\",\"10874\",\"11637\",\"11603\",\"12391\",\"13422\",\"11624\",\"11977\",\"13230\",\"12323\",\"12441\",\"15249\",\"13264\",\"14112\",\"11140\",\"12523\",\"10279\",\"14457\",\"14489\",\"14698\",\"12951\",\"14108\",\"10620\",\"13367\",\"11721\",\"10408\",\"13256\",\"14252\",\"11921\",\"11973\",\"15380\",\"11630\",\"10135\",\"10627\",\"10208\",\"10990\",\"13486\",\"11953\",\"13476\",\"11612\",\"12206\",\"14082\",\"10158\",\"10466\",\"11146\",\"11648\",\"13277\",\"10185\",\"11982\",\"14794\",\"13377\",\"11413\",\"11641\",\"11252\",\"12884\",\"14633\",\"12280\",\"10685\",\"10561\",\"11337\",\"15323\",\"15356\",\"12819\",\"10434\",\"10581\",\"13029\",\"13433\",\"10469\",\"14574\",\"13184\",\"13795\",\"13061\",\"10747\",\"12003\",\"13360\",\"11503\",\"11203\",\"11049\",\"13076\",\"11695\",\"16218\",\"13502\",\"11778\",\"10136\",\"15023\",\"12915\",\"12156\",\"14098\",\"11067\",\"14674\",\"10157\",\"11898\",\"14952\",\"14842\",\"15041\",\"10155\",\"11122\",\"10666\",\"11617\",\"11111\",\"13290\",\"11308\",\"14828\",\"12094\",\"15411\",\"12124\",\"11150\",\"14711\",\"12891\",\"15389\",\"11537\",\"15070\",\"12898\",\"14487\",\"13459\",\"15295\",\"12007\",\"14960\",\"15607\",\"14150\",\"14113\",\"12519\",\"14588\",\"10731\",\"11577\",\"10146\",\"13241\",\"15401\",\"11865\",\"14520\",\"10154\",\"10551\",\"12255\",\"13127\",\"14006\",\"14709\",\"14025\",\"11980\",\"13933\",\"12511\",\"10141\",\"11097\",\"12129\",\"10728\",\"10631\",\"14256\",\"15841\",\"11076\",\"15991\",\"10926\",\"10754\",\"11471\",\"15048\",\"13344\",\"11013\",\"12397\",\"12335\",\"10779\",\"10577\",\"12544\",\"14543\",\"14109\",\"13970\",\"13873\",\"10676\",\"11905\",\"11525\",\"10739\",\"12343\",\"11587\",\"14004\",\"10333\",\"12888\",\"12917\",\"10170\",\"10918\",\"11447\",\"11867\",\"11274\",\"12177\",\"12265\",\"10268\",\"14288\",\"11027\",\"14716\",\"13541\",\"14877\",\"14512\",\"14314\",\"10967\",\"13139\",\"15074\",\"14802\",\"12244\",\"12223\",\"11092\",\"12012\",\"11468\",\"12899\",\"14237\",\"10558\",\"13121\",\"12902\",\"15582\",\"13964\",\"14905\",\"13832\",\"11415\",\"15897\",\"14120\",\"10409\",\"15454\",\"11315\",\"14259\",\"13388\",\"14812\",\"11283\",\"11288\",\"14534\",\"11336\",\"10245\",\"14092\",\"14303\",\"11233\",\"11470\",\"10275\",\"16101\",\"10165\",\"10272\",\"12559\",\"15569\",\"12119\",\"15008\",\"11041\",\"12250\",\"11997\",\"13211\",\"11725\",\"10643\",\"13829\",\"15497\",\"13983\",\"10590\",\"10361\",\"10917\",\"12320\",\"10562\",\"10930\",\"11699\",\"15138\",\"12365\",\"10617\",\"16133\",\"11495\",\"11563\",\"15235\"],\"type\":\"nominal\",\"name\":\"ORIGIN_AIRPORT_ID_indexed\"}}",
         "name": "ORIGIN_AIRPORT_ID_indexed",
         "type": "\"double\""
        },
        {
         "metadata": "{\"ml_attr\":{\"attrs\":{\"binary\":[{\"idx\":0,\"name\":\"10397\"},{\"idx\":1,\"name\":\"13930\"},{\"idx\":2,\"name\":\"11298\"},{\"idx\":3,\"name\":\"11292\"},{\"idx\":4,\"name\":\"12892\"},{\"idx\":5,\"name\":\"11057\"},{\"idx\":6,\"name\":\"14107\"},{\"idx\":7,\"name\":\"14771\"},{\"idx\":8,\"name\":\"12889\"},{\"idx\":9,\"name\":\"12266\"},{\"idx\":10,\"name\":\"14747\"},{\"idx\":11,\"name\":\"13487\"},{\"idx\":12,\"name\":\"11433\"},{\"idx\":13,\"name\":\"13204\"},{\"idx\":14,\"name\":\"10721\"},{\"idx\":15,\"name\":\"12953\"},{\"idx\":16,\"name\":\"11618\"},{\"idx\":17,\"name\":\"14869\"},{\"idx\":18,\"name\":\"12478\"},{\"idx\":19,\"name\":\"11278\"},{\"idx\":20,\"name\":\"10821\"},{\"idx\":21,\"name\":\"14100\"},{\"idx\":22,\"name\":\"11697\"},{\"idx\":23,\"name\":\"13232\"},{\"idx\":24,\"name\":\"14679\"},{\"idx\":25,\"name\":\"13303\"},{\"idx\":26,\"name\":\"15304\"},{\"idx\":27,\"name\":\"11259\"},{\"idx\":28,\"name\":\"10693\"},{\"idx\":29,\"name\":\"15016\"},{\"idx\":30,\"name\":\"14057\"},{\"idx\":31,\"name\":\"10423\"},{\"idx\":32,\"name\":\"12191\"},{\"idx\":33,\"name\":\"12264\"},{\"idx\":34,\"name\":\"14831\"},{\"idx\":35,\"name\":\"13796\"},{\"idx\":36,\"name\":\"13495\"},{\"idx\":37,\"name\":\"13198\"},{\"idx\":38,\"name\":\"14492\"},{\"idx\":39,\"name\":\"14893\"},{\"idx\":40,\"name\":\"14908\"},{\"idx\":41,\"name\":\"11042\"},{\"idx\":42,\"name\":\"12339\"},{\"idx\":43,\"name\":\"14122\"},{\"idx\":44,\"name\":\"14683\"},{\"idx\":45,\"name\":\"14635\"},{\"idx\":46,\"name\":\"11066\"},{\"idx\":47,\"name\":\"11193\"},{\"idx\":48,\"name\":\"13342\"},{\"idx\":49,\"name\":\"10800\"},{\"idx\":50,\"name\":\"12451\"},{\"idx\":51,\"name\":\"14027\"},{\"idx\":52,\"name\":\"10529\"},{\"idx\":53,\"name\":\"13871\"},{\"idx\":54,\"name\":\"13891\"},{\"idx\":55,\"name\":\"10140\"},{\"idx\":56,\"name\":\"10792\"},{\"idx\":57,\"name\":\"13851\"},{\"idx\":58,\"name\":\"10994\"},{\"idx\":59,\"name\":\"13244\"},{\"idx\":60,\"name\":\"14524\"},{\"idx\":61,\"name\":\"10713\"},{\"idx\":62,\"name\":\"10299\"},{\"idx\":63,\"name\":\"14570\"},{\"idx\":64,\"name\":\"15376\"},{\"idx\":65,\"name\":\"14730\"},{\"idx\":66,\"name\":\"13931\"},{\"idx\":67,\"name\":\"15370\"},{\"idx\":68,\"name\":\"10599\"},{\"idx\":69,\"name\":\"11986\"},{\"idx\":70,\"name\":\"14307\"},{\"idx\":71,\"name\":\"11540\"},{\"idx\":72,\"name\":\"12954\"},{\"idx\":73,\"name\":\"11884\"},{\"idx\":74,\"name\":\"14685\"},{\"idx\":75,\"name\":\"11423\"},{\"idx\":76,\"name\":\"15412\"},{\"idx\":77,\"name\":\"14262\"},{\"idx\":78,\"name\":\"12992\"},{\"idx\":79,\"name\":\"13485\"},{\"idx\":80,\"name\":\"11996\"},{\"idx\":81,\"name\":\"10257\"},{\"idx\":82,\"name\":\"14576\"},{\"idx\":83,\"name\":\"11638\"},{\"idx\":84,\"name\":\"13577\"},{\"idx\":85,\"name\":\"15919\"},{\"idx\":86,\"name\":\"14193\"},{\"idx\":87,\"name\":\"11267\"},{\"idx\":88,\"name\":\"11109\"},{\"idx\":89,\"name\":\"15096\"},{\"idx\":90,\"name\":\"12278\"},{\"idx\":91,\"name\":\"11995\"},{\"idx\":92,\"name\":\"14321\"},{\"idx\":93,\"name\":\"12197\"},{\"idx\":94,\"name\":\"13158\"},{\"idx\":95,\"name\":\"11003\"},{\"idx\":96,\"name\":\"14986\"},{\"idx\":97,\"name\":\"15624\"},{\"idx\":98,\"name\":\"12945\"},{\"idx\":99,\"name\":\"13296\"},{\"idx\":100,\"name\":\"10781\"},{\"idx\":101,\"name\":\"12448\"},{\"idx\":102,\"name\":\"12217\"},{\"idx\":103,\"name\":\"10849\"},{\"idx\":104,\"name\":\"14689\"},{\"idx\":105,\"name\":\"14783\"},{\"idx\":106,\"name\":\"10431\"},{\"idx\":107,\"name\":\"11481\"},{\"idx\":108,\"name\":\"11775\"},{\"idx\":109,\"name\":\"10980\"},{\"idx\":110,\"name\":\"14814\"},{\"idx\":111,\"name\":\"11823\"},{\"idx\":112,\"name\":\"14696\"},{\"idx\":113,\"name\":\"10785\"},{\"idx\":114,\"name\":\"14761\"},{\"idx\":115,\"name\":\"10868\"},{\"idx\":116,\"name\":\"12896\"},{\"idx\":117,\"name\":\"10372\"},{\"idx\":118,\"name\":\"10874\"},{\"idx\":119,\"name\":\"11637\"},{\"idx\":120,\"name\":\"11603\"},{\"idx\":121,\"name\":\"12391\"},{\"idx\":122,\"name\":\"13422\"},{\"idx\":123,\"name\":\"11624\"},{\"idx\":124,\"name\":\"11977\"},{\"idx\":125,\"name\":\"13230\"},{\"idx\":126,\"name\":\"12323\"},{\"idx\":127,\"name\":\"12441\"},{\"idx\":128,\"name\":\"15249\"},{\"idx\":129,\"name\":\"13264\"},{\"idx\":130,\"name\":\"14112\"},{\"idx\":131,\"name\":\"11140\"},{\"idx\":132,\"name\":\"12523\"},{\"idx\":133,\"name\":\"10279\"},{\"idx\":134,\"name\":\"14457\"},{\"idx\":135,\"name\":\"14489\"},{\"idx\":136,\"name\":\"14698\"},{\"idx\":137,\"name\":\"12951\"},{\"idx\":138,\"name\":\"14108\"},{\"idx\":139,\"name\":\"10620\"},{\"idx\":140,\"name\":\"13367\"},{\"idx\":141,\"name\":\"11721\"},{\"idx\":142,\"name\":\"10408\"},{\"idx\":143,\"name\":\"13256\"},{\"idx\":144,\"name\":\"14252\"},{\"idx\":145,\"name\":\"11921\"},{\"idx\":146,\"name\":\"11973\"},{\"idx\":147,\"name\":\"15380\"},{\"idx\":148,\"name\":\"11630\"},{\"idx\":149,\"name\":\"10135\"},{\"idx\":150,\"name\":\"10627\"},{\"idx\":151,\"name\":\"10208\"},{\"idx\":152,\"name\":\"10990\"},{\"idx\":153,\"name\":\"13486\"},{\"idx\":154,\"name\":\"11953\"},{\"idx\":155,\"name\":\"13476\"},{\"idx\":156,\"name\":\"11612\"},{\"idx\":157,\"name\":\"12206\"},{\"idx\":158,\"name\":\"14082\"},{\"idx\":159,\"name\":\"10158\"},{\"idx\":160,\"name\":\"10466\"},{\"idx\":161,\"name\":\"11146\"},{\"idx\":162,\"name\":\"11648\"},{\"idx\":163,\"name\":\"13277\"},{\"idx\":164,\"name\":\"10185\"},{\"idx\":165,\"name\":\"11982\"},{\"idx\":166,\"name\":\"14794\"},{\"idx\":167,\"name\":\"13377\"},{\"idx\":168,\"name\":\"11413\"},{\"idx\":169,\"name\":\"11641\"},{\"idx\":170,\"name\":\"11252\"},{\"idx\":171,\"name\":\"12884\"},{\"idx\":172,\"name\":\"14633\"},{\"idx\":173,\"name\":\"12280\"},{\"idx\":174,\"name\":\"10685\"},{\"idx\":175,\"name\":\"10561\"},{\"idx\":176,\"name\":\"11337\"},{\"idx\":177,\"name\":\"15323\"},{\"idx\":178,\"name\":\"15356\"},{\"idx\":179,\"name\":\"12819\"},{\"idx\":180,\"name\":\"10434\"},{\"idx\":181,\"name\":\"10581\"},{\"idx\":182,\"name\":\"13029\"},{\"idx\":183,\"name\":\"13433\"},{\"idx\":184,\"name\":\"10469\"},{\"idx\":185,\"name\":\"14574\"},{\"idx\":186,\"name\":\"13184\"},{\"idx\":187,\"name\":\"13795\"},{\"idx\":188,\"name\":\"13061\"},{\"idx\":189,\"name\":\"10747\"},{\"idx\":190,\"name\":\"12003\"},{\"idx\":191,\"name\":\"13360\"},{\"idx\":192,\"name\":\"11503\"},{\"idx\":193,\"name\":\"11203\"},{\"idx\":194,\"name\":\"11049\"},{\"idx\":195,\"name\":\"13076\"},{\"idx\":196,\"name\":\"11695\"},{\"idx\":197,\"name\":\"16218\"},{\"idx\":198,\"name\":\"13502\"},{\"idx\":199,\"name\":\"11778\"},{\"idx\":200,\"name\":\"10136\"},{\"idx\":201,\"name\":\"15023\"},{\"idx\":202,\"name\":\"12915\"},{\"idx\":203,\"name\":\"12156\"},{\"idx\":204,\"name\":\"14098\"},{\"idx\":205,\"name\":\"11067\"},{\"idx\":206,\"name\":\"14674\"},{\"idx\":207,\"name\":\"10157\"},{\"idx\":208,\"name\":\"11898\"},{\"idx\":209,\"name\":\"14952\"},{\"idx\":210,\"name\":\"14842\"},{\"idx\":211,\"name\":\"15041\"},{\"idx\":212,\"name\":\"10155\"},{\"idx\":213,\"name\":\"11122\"},{\"idx\":214,\"name\":\"10666\"},{\"idx\":215,\"name\":\"11617\"},{\"idx\":216,\"name\":\"11111\"},{\"idx\":217,\"name\":\"13290\"},{\"idx\":218,\"name\":\"11308\"},{\"idx\":219,\"name\":\"14828\"},{\"idx\":220,\"name\":\"12094\"},{\"idx\":221,\"name\":\"15411\"},{\"idx\":222,\"name\":\"12124\"},{\"idx\":223,\"name\":\"11150\"},{\"idx\":224,\"name\":\"14711\"},{\"idx\":225,\"name\":\"12891\"},{\"idx\":226,\"name\":\"15389\"},{\"idx\":227,\"name\":\"11537\"},{\"idx\":228,\"name\":\"15070\"},{\"idx\":229,\"name\":\"12898\"},{\"idx\":230,\"name\":\"14487\"},{\"idx\":231,\"name\":\"13459\"},{\"idx\":232,\"name\":\"15295\"},{\"idx\":233,\"name\":\"12007\"},{\"idx\":234,\"name\":\"14960\"},{\"idx\":235,\"name\":\"15607\"},{\"idx\":236,\"name\":\"14150\"},{\"idx\":237,\"name\":\"14113\"},{\"idx\":238,\"name\":\"12519\"},{\"idx\":239,\"name\":\"14588\"},{\"idx\":240,\"name\":\"10731\"},{\"idx\":241,\"name\":\"11577\"},{\"idx\":242,\"name\":\"10146\"},{\"idx\":243,\"name\":\"13241\"},{\"idx\":244,\"name\":\"15401\"},{\"idx\":245,\"name\":\"11865\"},{\"idx\":246,\"name\":\"14520\"},{\"idx\":247,\"name\":\"10154\"},{\"idx\":248,\"name\":\"10551\"},{\"idx\":249,\"name\":\"12255\"},{\"idx\":250,\"name\":\"13127\"},{\"idx\":251,\"name\":\"14006\"},{\"idx\":252,\"name\":\"14709\"},{\"idx\":253,\"name\":\"14025\"},{\"idx\":254,\"name\":\"11980\"},{\"idx\":255,\"name\":\"13933\"},{\"idx\":256,\"name\":\"12511\"},{\"idx\":257,\"name\":\"10141\"},{\"idx\":258,\"name\":\"11097\"},{\"idx\":259,\"name\":\"12129\"},{\"idx\":260,\"name\":\"10728\"},{\"idx\":261,\"name\":\"10631\"},{\"idx\":262,\"name\":\"14256\"},{\"idx\":263,\"name\":\"15841\"},{\"idx\":264,\"name\":\"11076\"},{\"idx\":265,\"name\":\"15991\"},{\"idx\":266,\"name\":\"10926\"},{\"idx\":267,\"name\":\"10754\"},{\"idx\":268,\"name\":\"11471\"},{\"idx\":269,\"name\":\"15048\"},{\"idx\":270,\"name\":\"13344\"},{\"idx\":271,\"name\":\"11013\"},{\"idx\":272,\"name\":\"12397\"},{\"idx\":273,\"name\":\"12335\"},{\"idx\":274,\"name\":\"10779\"},{\"idx\":275,\"name\":\"10577\"},{\"idx\":276,\"name\":\"12544\"},{\"idx\":277,\"name\":\"14543\"},{\"idx\":278,\"name\":\"14109\"},{\"idx\":279,\"name\":\"13970\"},{\"idx\":280,\"name\":\"13873\"},{\"idx\":281,\"name\":\"10676\"},{\"idx\":282,\"name\":\"11905\"},{\"idx\":283,\"name\":\"11525\"},{\"idx\":284,\"name\":\"10739\"},{\"idx\":285,\"name\":\"12343\"},{\"idx\":286,\"name\":\"11587\"},{\"idx\":287,\"name\":\"14004\"},{\"idx\":288,\"name\":\"10333\"},{\"idx\":289,\"name\":\"12888\"},{\"idx\":290,\"name\":\"12917\"},{\"idx\":291,\"name\":\"10170\"},{\"idx\":292,\"name\":\"10918\"},{\"idx\":293,\"name\":\"11447\"},{\"idx\":294,\"name\":\"11867\"},{\"idx\":295,\"name\":\"11274\"},{\"idx\":296,\"name\":\"12177\"},{\"idx\":297,\"name\":\"12265\"},{\"idx\":298,\"name\":\"10268\"},{\"idx\":299,\"name\":\"14288\"},{\"idx\":300,\"name\":\"11027\"},{\"idx\":301,\"name\":\"14716\"},{\"idx\":302,\"name\":\"13541\"},{\"idx\":303,\"name\":\"14877\"},{\"idx\":304,\"name\":\"14512\"},{\"idx\":305,\"name\":\"14314\"},{\"idx\":306,\"name\":\"10967\"},{\"idx\":307,\"name\":\"13139\"},{\"idx\":308,\"name\":\"15074\"},{\"idx\":309,\"name\":\"14802\"},{\"idx\":310,\"name\":\"12244\"},{\"idx\":311,\"name\":\"12223\"},{\"idx\":312,\"name\":\"11092\"},{\"idx\":313,\"name\":\"12012\"},{\"idx\":314,\"name\":\"11468\"},{\"idx\":315,\"name\":\"12899\"},{\"idx\":316,\"name\":\"14237\"},{\"idx\":317,\"name\":\"10558\"},{\"idx\":318,\"name\":\"13121\"},{\"idx\":319,\"name\":\"12902\"},{\"idx\":320,\"name\":\"15582\"},{\"idx\":321,\"name\":\"13964\"},{\"idx\":322,\"name\":\"14905\"},{\"idx\":323,\"name\":\"13832\"},{\"idx\":324,\"name\":\"11415\"},{\"idx\":325,\"name\":\"15897\"},{\"idx\":326,\"name\":\"14120\"},{\"idx\":327,\"name\":\"10409\"},{\"idx\":328,\"name\":\"15454\"},{\"idx\":329,\"name\":\"11315\"},{\"idx\":330,\"name\":\"14259\"},{\"idx\":331,\"name\":\"13388\"},{\"idx\":332,\"name\":\"14812\"},{\"idx\":333,\"name\":\"11283\"},{\"idx\":334,\"name\":\"11288\"},{\"idx\":335,\"name\":\"14534\"},{\"idx\":336,\"name\":\"11336\"},{\"idx\":337,\"name\":\"10245\"},{\"idx\":338,\"name\":\"14092\"},{\"idx\":339,\"name\":\"14303\"},{\"idx\":340,\"name\":\"11233\"},{\"idx\":341,\"name\":\"11470\"},{\"idx\":342,\"name\":\"10275\"},{\"idx\":343,\"name\":\"16101\"},{\"idx\":344,\"name\":\"10165\"},{\"idx\":345,\"name\":\"10272\"},{\"idx\":346,\"name\":\"12559\"},{\"idx\":347,\"name\":\"15569\"},{\"idx\":348,\"name\":\"12119\"},{\"idx\":349,\"name\":\"15008\"},{\"idx\":350,\"name\":\"11041\"},{\"idx\":351,\"name\":\"12250\"},{\"idx\":352,\"name\":\"11997\"},{\"idx\":353,\"name\":\"13211\"},{\"idx\":354,\"name\":\"11725\"},{\"idx\":355,\"name\":\"10643\"},{\"idx\":356,\"name\":\"13829\"},{\"idx\":357,\"name\":\"15497\"},{\"idx\":358,\"name\":\"13983\"},{\"idx\":359,\"name\":\"10590\"},{\"idx\":360,\"name\":\"10361\"},{\"idx\":361,\"name\":\"10917\"},{\"idx\":362,\"name\":\"12320\"},{\"idx\":363,\"name\":\"10562\"},{\"idx\":364,\"name\":\"10930\"},{\"idx\":365,\"name\":\"11699\"},{\"idx\":366,\"name\":\"15138\"},{\"idx\":367,\"name\":\"12365\"},{\"idx\":368,\"name\":\"10617\"},{\"idx\":369,\"name\":\"16133\"},{\"idx\":370,\"name\":\"11495\"},{\"idx\":371,\"name\":\"11563\"}]},\"num_attrs\":372}}",
         "name": "ORIGIN_AIRPORT_ID_vec",
         "type": "{\"type\":\"udt\",\"class\":\"org.apache.spark.ml.linalg.VectorUDT\",\"pyClass\":\"pyspark.ml.linalg.VectorUDT\",\"sqlType\":{\"type\":\"struct\",\"fields\":[{\"name\":\"type\",\"type\":\"byte\",\"nullable\":false,\"metadata\":{}},{\"name\":\"size\",\"type\":\"integer\",\"nullable\":true,\"metadata\":{}},{\"name\":\"indices\",\"type\":{\"type\":\"array\",\"elementType\":\"integer\",\"containsNull\":false},\"nullable\":true,\"metadata\":{}},{\"name\":\"values\",\"type\":{\"type\":\"array\",\"elementType\":\"double\",\"containsNull\":false},\"nullable\":true,\"metadata\":{}}]}}"
        },
        {
         "metadata": "{\"ml_attr\":{\"vals\":[\"06\",\"07\",\"08\",\"17\",\"11\",\"10\",\"12\",\"15\",\"09\",\"13\",\"18\",\"16\",\"14\",\"19\",\"20\",\"21\",\"22\",\"05\",\"23\",\"00\",\"01\",\"02\",\"04\",\"03\"],\"type\":\"nominal\",\"name\":\"HOUR_indexed\"}}",
         "name": "HOUR_indexed",
         "type": "\"double\""
        },
        {
         "metadata": "{\"ml_attr\":{\"attrs\":{\"binary\":[{\"idx\":0,\"name\":\"06\"},{\"idx\":1,\"name\":\"07\"},{\"idx\":2,\"name\":\"08\"},{\"idx\":3,\"name\":\"17\"},{\"idx\":4,\"name\":\"11\"},{\"idx\":5,\"name\":\"10\"},{\"idx\":6,\"name\":\"12\"},{\"idx\":7,\"name\":\"15\"},{\"idx\":8,\"name\":\"09\"},{\"idx\":9,\"name\":\"13\"},{\"idx\":10,\"name\":\"18\"},{\"idx\":11,\"name\":\"16\"},{\"idx\":12,\"name\":\"14\"},{\"idx\":13,\"name\":\"19\"},{\"idx\":14,\"name\":\"20\"},{\"idx\":15,\"name\":\"21\"},{\"idx\":16,\"name\":\"22\"},{\"idx\":17,\"name\":\"05\"},{\"idx\":18,\"name\":\"23\"},{\"idx\":19,\"name\":\"00\"},{\"idx\":20,\"name\":\"01\"},{\"idx\":21,\"name\":\"02\"},{\"idx\":22,\"name\":\"04\"}]},\"num_attrs\":23}}",
         "name": "HOUR_vec",
         "type": "{\"type\":\"udt\",\"class\":\"org.apache.spark.ml.linalg.VectorUDT\",\"pyClass\":\"pyspark.ml.linalg.VectorUDT\",\"sqlType\":{\"type\":\"struct\",\"fields\":[{\"name\":\"type\",\"type\":\"byte\",\"nullable\":false,\"metadata\":{}},{\"name\":\"size\",\"type\":\"integer\",\"nullable\":true,\"metadata\":{}},{\"name\":\"indices\",\"type\":{\"type\":\"array\",\"elementType\":\"integer\",\"containsNull\":false},\"nullable\":true,\"metadata\":{}},{\"name\":\"values\",\"type\":{\"type\":\"array\",\"elementType\":\"double\",\"containsNull\":false},\"nullable\":true,\"metadata\":{}}]}}"
        },
        {
         "metadata": "{\"ml_attr\":{\"vals\":[\"large_airport\",\"medium_airport\",\"small_airport\",\"seaplane_base\"],\"type\":\"nominal\",\"name\":\"type_indexed\"}}",
         "name": "type_indexed",
         "type": "\"double\""
        },
        {
         "metadata": "{\"ml_attr\":{\"attrs\":{\"binary\":[{\"idx\":0,\"name\":\"large_airport\"},{\"idx\":1,\"name\":\"medium_airport\"},{\"idx\":2,\"name\":\"small_airport\"}]},\"num_attrs\":3}}",
         "name": "type_vec",
         "type": "{\"type\":\"udt\",\"class\":\"org.apache.spark.ml.linalg.VectorUDT\",\"pyClass\":\"pyspark.ml.linalg.VectorUDT\",\"sqlType\":{\"type\":\"struct\",\"fields\":[{\"name\":\"type\",\"type\":\"byte\",\"nullable\":false,\"metadata\":{}},{\"name\":\"size\",\"type\":\"integer\",\"nullable\":true,\"metadata\":{}},{\"name\":\"indices\",\"type\":{\"type\":\"array\",\"elementType\":\"integer\",\"containsNull\":false},\"nullable\":true,\"metadata\":{}},{\"name\":\"values\",\"type\":{\"type\":\"array\",\"elementType\":\"double\",\"containsNull\":false},\"nullable\":true,\"metadata\":{}}]}}"
        },
        {
         "metadata": "{\"ml_attr\":{\"attrs\":{\"numeric\":[{\"idx\":0,\"name\":\"0\"},{\"idx\":1,\"name\":\"1\"},{\"idx\":2,\"name\":\"10\"},{\"idx\":3,\"name\":\"100\"},{\"idx\":4,\"name\":\"100s\"},{\"idx\":5,\"name\":\"104\"},{\"idx\":6,\"name\":\"105\"},{\"idx\":7,\"name\":\"106\"},{\"idx\":8,\"name\":\"107\"},{\"idx\":9,\"name\":\"10s\"},{\"idx\":10,\"name\":\"11\"},{\"idx\":11,\"name\":\"110\"},{\"idx\":12,\"name\":\"110s\"},{\"idx\":13,\"name\":\"111\"},{\"idx\":14,\"name\":\"112\"},{\"idx\":15,\"name\":\"113\"},{\"idx\":16,\"name\":\"114\"},{\"idx\":17,\"name\":\"115\"},{\"idx\":18,\"name\":\"116\"},{\"idx\":19,\"name\":\"117\"},{\"idx\":20,\"name\":\"118\"},{\"idx\":21,\"name\":\"119\"},{\"idx\":22,\"name\":\"11s\"},{\"idx\":23,\"name\":\"12\"},{\"idx\":24,\"name\":\"120\"},{\"idx\":25,\"name\":\"120s\"},{\"idx\":26,\"name\":\"125\"},{\"idx\":27,\"name\":\"128\"},{\"idx\":28,\"name\":\"129\"},{\"idx\":29,\"name\":\"12s\"},{\"idx\":30,\"name\":\"13\"},{\"idx\":31,\"name\":\"130\"},{\"idx\":32,\"name\":\"130s\"},{\"idx\":33,\"name\":\"132\"},{\"idx\":34,\"name\":\"135\"},{\"idx\":35,\"name\":\"138\"},{\"idx\":36,\"name\":\"139\"},{\"idx\":37,\"name\":\"13s\"},{\"idx\":38,\"name\":\"14\"},{\"idx\":39,\"name\":\"140\"},{\"idx\":40,\"name\":\"145\"},{\"idx\":41,\"name\":\"146\"},{\"idx\":42,\"name\":\"147\"},{\"idx\":43,\"name\":\"149\"},{\"idx\":44,\"name\":\"14s\"},{\"idx\":45,\"name\":\"15\"},{\"idx\":46,\"name\":\"150\"},{\"idx\":47,\"name\":\"150s\"},{\"idx\":48,\"name\":\"154\"},{\"idx\":49,\"name\":\"155\"},{\"idx\":50,\"name\":\"156\"},{\"idx\":51,\"name\":\"157\"},{\"idx\":52,\"name\":\"159\"},{\"idx\":53,\"name\":\"15s\"},{\"idx\":54,\"name\":\"16\"},{\"idx\":55,\"name\":\"160\"},{\"idx\":56,\"name\":\"164\"},{\"idx\":57,\"name\":\"165\"},{\"idx\":58,\"name\":\"168\"},{\"idx\":59,\"name\":\"16s\"},{\"idx\":60,\"name\":\"17\"},{\"idx\":61,\"name\":\"170\"},{\"idx\":62,\"name\":\"175\"},{\"idx\":63,\"name\":\"178\"},{\"idx\":64,\"name\":\"179\"},{\"idx\":65,\"name\":\"17s\"},{\"idx\":66,\"name\":\"18\"},{\"idx\":67,\"name\":\"180\"},{\"idx\":68,\"name\":\"180s\"},{\"idx\":69,\"name\":\"185\"},{\"idx\":70,\"name\":\"188\"},{\"idx\":71,\"name\":\"189\"},{\"idx\":72,\"name\":\"18s\"},{\"idx\":73,\"name\":\"19\"},{\"idx\":74,\"name\":\"190\"},{\"idx\":75,\"name\":\"190s\"},{\"idx\":76,\"name\":\"191\"},{\"idx\":77,\"name\":\"195\"},{\"idx\":78,\"name\":\"199\"},{\"idx\":79,\"name\":\"19s\"},{\"idx\":80,\"name\":\"2\"},{\"idx\":81,\"name\":\"20\"},{\"idx\":82,\"name\":\"200\"},{\"idx\":83,\"name\":\"200s\"},{\"idx\":84,\"name\":\"205\"},{\"idx\":85,\"name\":\"20s\"},{\"idx\":86,\"name\":\"21\"},{\"idx\":87,\"name\":\"210\"},{\"idx\":88,\"name\":\"214\"},{\"idx\":89,\"name\":\"219\"},{\"idx\":90,\"name\":\"21s\"},{\"idx\":91,\"name\":\"22\"},{\"idx\":92,\"name\":\"220\"},{\"idx\":93,\"name\":\"221\"},{\"idx\":94,\"name\":\"225\"},{\"idx\":95,\"name\":\"228\"},{\"idx\":96,\"name\":\"229\"},{\"idx\":97,\"name\":\"22s\"},{\"idx\":98,\"name\":\"23\"},{\"idx\":99,\"name\":\"230\"},{\"idx\":100,\"name\":\"238\"},{\"idx\":101,\"name\":\"23s\"},{\"idx\":102,\"name\":\"24\"},{\"idx\":103,\"name\":\"240\"},{\"idx\":104,\"name\":\"24s\"},{\"idx\":105,\"name\":\"25\"},{\"idx\":106,\"name\":\"250\"},{\"idx\":107,\"name\":\"250s\"},{\"idx\":108,\"name\":\"252\"},{\"idx\":109,\"name\":\"254s\"},{\"idx\":110,\"name\":\"255\"},{\"idx\":111,\"name\":\"258\"},{\"idx\":112,\"name\":\"259\"},{\"idx\":113,\"name\":\"25s\"},{\"idx\":114,\"name\":\"26\"},{\"idx\":115,\"name\":\"260\"},{\"idx\":116,\"name\":\"269\"},{\"idx\":117,\"name\":\"26s\"},{\"idx\":118,\"name\":\"27\"},{\"idx\":119,\"name\":\"270\"},{\"idx\":120,\"name\":\"279\"},{\"idx\":121,\"name\":\"27s\"},{\"idx\":122,\"name\":\"28\"},{\"idx\":123,\"name\":\"280\"},{\"idx\":124,\"name\":\"289\"},{\"idx\":125,\"name\":\"28s\"},{\"idx\":126,\"name\":\"29\"},{\"idx\":127,\"name\":\"290\"},{\"idx\":128,\"name\":\"290s\"},{\"idx\":129,\"name\":\"299\"},{\"idx\":130,\"name\":\"29s\"},{\"idx\":131,\"name\":\"2s\"},{\"idx\":132,\"name\":\"3\"},{\"idx\":133,\"name\":\"30\"},{\"idx\":134,\"name\":\"300\"},{\"idx\":135,\"name\":\"300s\"},{\"idx\":136,\"name\":\"30s\"},{\"idx\":137,\"name\":\"31\"},{\"idx\":138,\"name\":\"310\"},{\"idx\":139,\"name\":\"31s\"},{\"idx\":140,\"name\":\"32\"},{\"idx\":141,\"name\":\"320\"},{\"idx\":142,\"name\":\"322\"},{\"idx\":143,\"name\":\"32s\"},{\"idx\":144,\"name\":\"33\"},{\"idx\":145,\"name\":\"330\"},{\"idx\":146,\"name\":\"339\"},{\"idx\":147,\"name\":\"33s\"},{\"idx\":148,\"name\":\"34\"},{\"idx\":149,\"name\":\"340\"},{\"idx\":150,\"name\":\"34s\"},{\"idx\":151,\"name\":\"35\"},{\"idx\":152,\"name\":\"350\"},{\"idx\":153,\"name\":\"35s\"},{\"idx\":154,\"name\":\"36\"},{\"idx\":155,\"name\":\"360\"},{\"idx\":156,\"name\":\"36s\"},{\"idx\":157,\"name\":\"37\"},{\"idx\":158,\"name\":\"370\"},{\"idx\":159,\"name\":\"37s\"},{\"idx\":160,\"name\":\"38\"},{\"idx\":161,\"name\":\"380\"},{\"idx\":162,\"name\":\"38s\"},{\"idx\":163,\"name\":\"39\"},{\"idx\":164,\"name\":\"39s\"},{\"idx\":165,\"name\":\"3s\"},{\"idx\":166,\"name\":\"4\"},{\"idx\":167,\"name\":\"40\"},{\"idx\":168,\"name\":\"40s\"},{\"idx\":169,\"name\":\"41\"},{\"idx\":170,\"name\":\"41s\"},{\"idx\":171,\"name\":\"42\"},{\"idx\":172,\"name\":\"43\"},{\"idx\":173,\"name\":\"43s\"},{\"idx\":174,\"name\":\"44\"},{\"idx\":175,\"name\":\"44s\"},{\"idx\":176,\"name\":\"45\"},{\"idx\":177,\"name\":\"45s\"},{\"idx\":178,\"name\":\"46\"},{\"idx\":179,\"name\":\"46s\"},{\"idx\":180,\"name\":\"47\"},{\"idx\":181,\"name\":\"47s\"},{\"idx\":182,\"name\":\"48\"},{\"idx\":183,\"name\":\"48s\"},{\"idx\":184,\"name\":\"49\"},{\"idx\":185,\"name\":\"49s\"},{\"idx\":186,\"name\":\"4s\"},{\"idx\":187,\"name\":\"5\"},{\"idx\":188,\"name\":\"50\"},{\"idx\":189,\"name\":\"50s\"},{\"idx\":190,\"name\":\"51\"},{\"idx\":191,\"name\":\"52\"},{\"idx\":192,\"name\":\"53\"},{\"idx\":193,\"name\":\"54\"},{\"idx\":194,\"name\":\"55\"},{\"idx\":195,\"name\":\"55s\"},{\"idx\":196,\"name\":\"56\"},{\"idx\":197,\"name\":\"57\"},{\"idx\":198,\"name\":\"58\"},{\"idx\":199,\"name\":\"59\"},{\"idx\":200,\"name\":\"5s\"},{\"idx\":201,\"name\":\"6\"},{\"idx\":202,\"name\":\"60\"},{\"idx\":203,\"name\":\"60s\"},{\"idx\":204,\"name\":\"61\"},{\"idx\":205,\"name\":\"62\"},{\"idx\":206,\"name\":\"63\"},{\"idx\":207,\"name\":\"64\"},{\"idx\":208,\"name\":\"65\"},{\"idx\":209,\"name\":\"65s\"},{\"idx\":210,\"name\":\"66\"},{\"idx\":211,\"name\":\"67\"},{\"idx\":212,\"name\":\"68\"},{\"idx\":213,\"name\":\"69\"},{\"idx\":214,\"name\":\"6s\"},{\"idx\":215,\"name\":\"7\"},{\"idx\":216,\"name\":\"70\"},{\"idx\":217,\"name\":\"70s\"},{\"idx\":218,\"name\":\"71\"},{\"idx\":219,\"name\":\"72\"},{\"idx\":220,\"name\":\"73\"},{\"idx\":221,\"name\":\"74\"},{\"idx\":222,\"name\":\"75\"},{\"idx\":223,\"name\":\"75s\"},{\"idx\":224,\"name\":\"76\"},{\"idx\":225,\"name\":\"77\"},{\"idx\":226,\"name\":\"78\"},{\"idx\":227,\"name\":\"79\"},{\"idx\":228,\"name\":\"7s\"},{\"idx\":229,\"name\":\"8\"},{\"idx\":230,\"name\":\"80\"},{\"idx\":231,\"name\":\"80s\"},{\"idx\":232,\"name\":\"81\"},{\"idx\":233,\"name\":\"82\"},{\"idx\":234,\"name\":\"83\"},{\"idx\":235,\"name\":\"84\"},{\"idx\":236,\"name\":\"85\"},{\"idx\":237,\"name\":\"850\"},{\"idx\":238,\"name\":\"85s\"},{\"idx\":239,\"name\":\"86\"},{\"idx\":240,\"name\":\"87\"},{\"idx\":241,\"name\":\"88\"},{\"idx\":242,\"name\":\"89\"},{\"idx\":243,\"name\":\"8s\"},{\"idx\":244,\"name\":\"9\"},{\"idx\":245,\"name\":\"90\"},{\"idx\":246,\"name\":\"900\"},{\"idx\":247,\"name\":\"905\"},{\"idx\":248,\"name\":\"90s\"},{\"idx\":249,\"name\":\"91\"},{\"idx\":250,\"name\":\"92\"},{\"idx\":251,\"name\":\"93\"},{\"idx\":252,\"name\":\"94\"},{\"idx\":253,\"name\":\"95\"},{\"idx\":254,\"name\":\"95s\"},{\"idx\":255,\"name\":\"96\"},{\"idx\":256,\"name\":\"98\"},{\"idx\":257,\"name\":\"9s\"},{\"idx\":258,\"name\":\"BKN:07\"},{\"idx\":259,\"name\":\"BKN:07s\"},{\"idx\":260,\"name\":\"CLR:00\"},{\"idx\":261,\"name\":\"FEW:02\"},{\"idx\":262,\"name\":\"FEW:02s\"},{\"idx\":263,\"name\":\"OVC:08\"},{\"idx\":264,\"name\":\"OVC:08s\"},{\"idx\":265,\"name\":\"SCT:04\"},{\"idx\":266,\"name\":\"SCT:04s\"},{\"idx\":267,\"name\":\"VV:09\"},{\"idx\":268,\"name\":\"X:10\"}]},\"num_attrs\":269}}",
         "name": "HourlySkyConditions_vec",
         "type": "{\"type\":\"udt\",\"class\":\"org.apache.spark.ml.linalg.VectorUDT\",\"pyClass\":\"pyspark.ml.linalg.VectorUDT\",\"sqlType\":{\"type\":\"struct\",\"fields\":[{\"name\":\"type\",\"type\":\"byte\",\"nullable\":false,\"metadata\":{}},{\"name\":\"size\",\"type\":\"integer\",\"nullable\":true,\"metadata\":{}},{\"name\":\"indices\",\"type\":{\"type\":\"array\",\"elementType\":\"integer\",\"containsNull\":false},\"nullable\":true,\"metadata\":{}},{\"name\":\"values\",\"type\":{\"type\":\"array\",\"elementType\":\"double\",\"containsNull\":false},\"nullable\":true,\"metadata\":{}}]}}"
        },
        {
         "metadata": "{\"ml_attr\":{\"attrs\":{\"numeric\":[{\"idx\":0,\"name\":\"Rain\"},{\"idx\":1,\"name\":\"Snow\"},{\"idx\":2,\"name\":\"Thunder\"},{\"idx\":3,\"name\":\"Tornado\"},{\"idx\":4,\"name\":\"View Obstruction\"}]},\"num_attrs\":5}}",
         "name": "HourlyPresentWeatherType_vec",
         "type": "{\"type\":\"udt\",\"class\":\"org.apache.spark.ml.linalg.VectorUDT\",\"pyClass\":\"pyspark.ml.linalg.VectorUDT\",\"sqlType\":{\"type\":\"struct\",\"fields\":[{\"name\":\"type\",\"type\":\"byte\",\"nullable\":false,\"metadata\":{}},{\"name\":\"size\",\"type\":\"integer\",\"nullable\":true,\"metadata\":{}},{\"name\":\"indices\",\"type\":{\"type\":\"array\",\"elementType\":\"integer\",\"containsNull\":false},\"nullable\":true,\"metadata\":{}},{\"name\":\"values\",\"type\":{\"type\":\"array\",\"elementType\":\"double\",\"containsNull\":false},\"nullable\":true,\"metadata\":{}}]}}"
        },
        {
         "metadata": "{}",
         "name": "Rain",
         "type": "\"long\""
        },
        {
         "metadata": "{}",
         "name": "Snow",
         "type": "\"long\""
        },
        {
         "metadata": "{}",
         "name": "Thunder",
         "type": "\"long\""
        },
        {
         "metadata": "{}",
         "name": "Tornado",
         "type": "\"long\""
        },
        {
         "metadata": "{}",
         "name": "View Obstruction",
         "type": "\"long\""
        },
        {
         "metadata": "{}",
         "name": "MONTH_1",
         "type": "\"long\""
        },
        {
         "metadata": "{}",
         "name": "MONTH_2",
         "type": "\"long\""
        },
        {
         "metadata": "{}",
         "name": "MONTH_3",
         "type": "\"long\""
        },
        {
         "metadata": "{}",
         "name": "MONTH_4",
         "type": "\"long\""
        },
        {
         "metadata": "{}",
         "name": "MONTH_5",
         "type": "\"long\""
        },
        {
         "metadata": "{}",
         "name": "MONTH_6",
         "type": "\"long\""
        },
        {
         "metadata": "{}",
         "name": "MONTH_7",
         "type": "\"long\""
        },
        {
         "metadata": "{}",
         "name": "MONTH_8",
         "type": "\"long\""
        },
        {
         "metadata": "{}",
         "name": "MONTH_9",
         "type": "\"long\""
        },
        {
         "metadata": "{}",
         "name": "MONTH_10",
         "type": "\"long\""
        },
        {
         "metadata": "{}",
         "name": "MONTH_11",
         "type": "\"long\""
        },
        {
         "metadata": "{}",
         "name": "MONTH_12",
         "type": "\"long\""
        },
        {
         "metadata": "{}",
         "name": "HOUR_00",
         "type": "\"long\""
        },
        {
         "metadata": "{}",
         "name": "HOUR_01",
         "type": "\"long\""
        },
        {
         "metadata": "{}",
         "name": "HOUR_02",
         "type": "\"long\""
        },
        {
         "metadata": "{}",
         "name": "HOUR_03",
         "type": "\"long\""
        },
        {
         "metadata": "{}",
         "name": "HOUR_04",
         "type": "\"long\""
        },
        {
         "metadata": "{}",
         "name": "HOUR_05",
         "type": "\"long\""
        },
        {
         "metadata": "{}",
         "name": "HOUR_06",
         "type": "\"long\""
        },
        {
         "metadata": "{}",
         "name": "HOUR_07",
         "type": "\"long\""
        },
        {
         "metadata": "{}",
         "name": "HOUR_08",
         "type": "\"long\""
        },
        {
         "metadata": "{}",
         "name": "HOUR_09",
         "type": "\"long\""
        },
        {
         "metadata": "{}",
         "name": "HOUR_10",
         "type": "\"long\""
        },
        {
         "metadata": "{}",
         "name": "HOUR_11",
         "type": "\"long\""
        },
        {
         "metadata": "{}",
         "name": "HOUR_12",
         "type": "\"long\""
        },
        {
         "metadata": "{}",
         "name": "HOUR_13",
         "type": "\"long\""
        },
        {
         "metadata": "{}",
         "name": "HOUR_14",
         "type": "\"long\""
        },
        {
         "metadata": "{}",
         "name": "HOUR_15",
         "type": "\"long\""
        },
        {
         "metadata": "{}",
         "name": "HOUR_16",
         "type": "\"long\""
        },
        {
         "metadata": "{}",
         "name": "HOUR_17",
         "type": "\"long\""
        },
        {
         "metadata": "{}",
         "name": "HOUR_18",
         "type": "\"long\""
        },
        {
         "metadata": "{}",
         "name": "HOUR_19",
         "type": "\"long\""
        },
        {
         "metadata": "{}",
         "name": "HOUR_20",
         "type": "\"long\""
        },
        {
         "metadata": "{}",
         "name": "HOUR_21",
         "type": "\"long\""
        },
        {
         "metadata": "{}",
         "name": "HOUR_22",
         "type": "\"long\""
        },
        {
         "metadata": "{}",
         "name": "HOUR_23",
         "type": "\"long\""
        },
        {
         "metadata": "{}",
         "name": "DAY_OF_WEEK_1",
         "type": "\"long\""
        },
        {
         "metadata": "{}",
         "name": "DAY_OF_WEEK_2",
         "type": "\"long\""
        },
        {
         "metadata": "{}",
         "name": "DAY_OF_WEEK_3",
         "type": "\"long\""
        },
        {
         "metadata": "{}",
         "name": "DAY_OF_WEEK_4",
         "type": "\"long\""
        },
        {
         "metadata": "{}",
         "name": "DAY_OF_WEEK_5",
         "type": "\"long\""
        },
        {
         "metadata": "{}",
         "name": "DAY_OF_WEEK_6",
         "type": "\"long\""
        },
        {
         "metadata": "{}",
         "name": "DAY_OF_WEEK_7",
         "type": "\"long\""
        },
        {
         "metadata": "{}",
         "name": "OP_CARRIER_9E",
         "type": "\"long\""
        },
        {
         "metadata": "{}",
         "name": "OP_CARRIER_AA",
         "type": "\"long\""
        },
        {
         "metadata": "{}",
         "name": "OP_CARRIER_AS",
         "type": "\"long\""
        },
        {
         "metadata": "{}",
         "name": "OP_CARRIER_B6",
         "type": "\"long\""
        },
        {
         "metadata": "{}",
         "name": "OP_CARRIER_DL",
         "type": "\"long\""
        },
        {
         "metadata": "{}",
         "name": "OP_CARRIER_EV",
         "type": "\"long\""
        },
        {
         "metadata": "{}",
         "name": "OP_CARRIER_F9",
         "type": "\"long\""
        },
        {
         "metadata": "{}",
         "name": "OP_CARRIER_G4",
         "type": "\"long\""
        },
        {
         "metadata": "{}",
         "name": "OP_CARRIER_HA",
         "type": "\"long\""
        },
        {
         "metadata": "{}",
         "name": "OP_CARRIER_MQ",
         "type": "\"long\""
        },
        {
         "metadata": "{}",
         "name": "OP_CARRIER_NK",
         "type": "\"long\""
        },
        {
         "metadata": "{}",
         "name": "OP_CARRIER_OH",
         "type": "\"long\""
        },
        {
         "metadata": "{}",
         "name": "OP_CARRIER_OO",
         "type": "\"long\""
        },
        {
         "metadata": "{}",
         "name": "OP_CARRIER_QX",
         "type": "\"long\""
        },
        {
         "metadata": "{}",
         "name": "OP_CARRIER_UA",
         "type": "\"long\""
        },
        {
         "metadata": "{}",
         "name": "OP_CARRIER_US",
         "type": "\"long\""
        },
        {
         "metadata": "{}",
         "name": "OP_CARRIER_VX",
         "type": "\"long\""
        },
        {
         "metadata": "{}",
         "name": "OP_CARRIER_WN",
         "type": "\"long\""
        },
        {
         "metadata": "{}",
         "name": "OP_CARRIER_YV",
         "type": "\"long\""
        },
        {
         "metadata": "{}",
         "name": "OP_CARRIER_YX",
         "type": "\"long\""
        },
        {
         "metadata": "{}",
         "name": "type_large_airport",
         "type": "\"long\""
        },
        {
         "metadata": "{}",
         "name": "type_medium_airport",
         "type": "\"long\""
        },
        {
         "metadata": "{}",
         "name": "type_seaplane_base",
         "type": "\"long\""
        },
        {
         "metadata": "{}",
         "name": "type_small_airport",
         "type": "\"long\""
        },
        {
         "metadata": "{}",
         "name": "DEP_12hr",
         "type": "\"double\""
        },
        {
         "metadata": "{}",
         "name": "DEP_6hr",
         "type": "\"double\""
        },
        {
         "metadata": "{}",
         "name": "DEP_4hr",
         "type": "\"double\""
        },
        {
         "metadata": "{}",
         "name": "DISTANCE_LAG",
         "type": "\"double\""
        },
        {
         "metadata": "{}",
         "name": "REALIZED_DELAY_MIN",
         "type": "\"double\""
        },
        {
         "metadata": "{}",
         "name": "REALIZED_DEL15",
         "type": "\"integer\""
        },
        {
         "metadata": "{}",
         "name": "HOLIDAY",
         "type": "\"integer\""
        },
        {
         "metadata": "{}",
         "name": "OUTDEG_AIRPORT_6hr",
         "type": "\"double\""
        },
        {
         "metadata": "{}",
         "name": "YEAR",
         "type": "\"string\""
        },
        {
         "metadata": "{}",
         "name": "LOG_REALIZED_DELAY_MIN",
         "type": "\"double\""
        },
        {
         "metadata": "{\"ml_attr\":{\"attrs\":{\"numeric\":[{\"idx\":0,\"name\":\"DISTANCE\"},{\"idx\":1,\"name\":\"ELEVATION\"},{\"idx\":2,\"name\":\"HourlyAltimeterSetting\"},{\"idx\":3,\"name\":\"HourlyDryBulbTemperature\"},{\"idx\":4,\"name\":\"HourlyPrecipitation\"},{\"idx\":5,\"name\":\"HourlyRelativeHumidity\"},{\"idx\":6,\"name\":\"HourlySeaLevelPressure\"},{\"idx\":7,\"name\":\"HourlyVisibility\"},{\"idx\":8,\"name\":\"HourlyWindDirection\"},{\"idx\":9,\"name\":\"HourlyWindSpeed\"},{\"idx\":10,\"name\":\"DISTANCE_LAG\"},{\"idx\":11,\"name\":\"LOG_REALIZED_DELAY_MIN\"},{\"idx\":12,\"name\":\"OUTDEG_AIRPORT_6hr\"},{\"idx\":13,\"name\":\"DEP_12hr\"},{\"idx\":14,\"name\":\"DEP_6hr\"},{\"idx\":15,\"name\":\"DEP_4hr\"}]},\"num_attrs\":16}}",
         "name": "numeric_features",
         "type": "{\"type\":\"udt\",\"class\":\"org.apache.spark.ml.linalg.VectorUDT\",\"pyClass\":\"pyspark.ml.linalg.VectorUDT\",\"sqlType\":{\"type\":\"struct\",\"fields\":[{\"name\":\"type\",\"type\":\"byte\",\"nullable\":false,\"metadata\":{}},{\"name\":\"size\",\"type\":\"integer\",\"nullable\":true,\"metadata\":{}},{\"name\":\"indices\",\"type\":{\"type\":\"array\",\"elementType\":\"integer\",\"containsNull\":false},\"nullable\":true,\"metadata\":{}},{\"name\":\"values\",\"type\":{\"type\":\"array\",\"elementType\":\"double\",\"containsNull\":false},\"nullable\":true,\"metadata\":{}}]}}"
        },
        {
         "metadata": "{\"ml_attr\":{\"num_attrs\":16}}",
         "name": "num_feats_scaled",
         "type": "{\"type\":\"udt\",\"class\":\"org.apache.spark.ml.linalg.VectorUDT\",\"pyClass\":\"pyspark.ml.linalg.VectorUDT\",\"sqlType\":{\"type\":\"struct\",\"fields\":[{\"name\":\"type\",\"type\":\"byte\",\"nullable\":false,\"metadata\":{}},{\"name\":\"size\",\"type\":\"integer\",\"nullable\":true,\"metadata\":{}},{\"name\":\"indices\",\"type\":{\"type\":\"array\",\"elementType\":\"integer\",\"containsNull\":false},\"nullable\":true,\"metadata\":{}},{\"name\":\"values\",\"type\":{\"type\":\"array\",\"elementType\":\"double\",\"containsNull\":false},\"nullable\":true,\"metadata\":{}}]}}"
        },
        {
         "metadata": "{\"ml_attr\":{\"attrs\":{\"numeric\":[{\"idx\":0,\"name\":\"num_feats_scaled_0\"},{\"idx\":1,\"name\":\"num_feats_scaled_1\"},{\"idx\":2,\"name\":\"num_feats_scaled_2\"},{\"idx\":3,\"name\":\"num_feats_scaled_3\"},{\"idx\":4,\"name\":\"num_feats_scaled_4\"},{\"idx\":5,\"name\":\"num_feats_scaled_5\"},{\"idx\":6,\"name\":\"num_feats_scaled_6\"},{\"idx\":7,\"name\":\"num_feats_scaled_7\"},{\"idx\":8,\"name\":\"num_feats_scaled_8\"},{\"idx\":9,\"name\":\"num_feats_scaled_9\"},{\"idx\":10,\"name\":\"num_feats_scaled_10\"},{\"idx\":11,\"name\":\"num_feats_scaled_11\"},{\"idx\":12,\"name\":\"num_feats_scaled_12\"},{\"idx\":13,\"name\":\"num_feats_scaled_13\"},{\"idx\":14,\"name\":\"num_feats_scaled_14\"},{\"idx\":15,\"name\":\"num_feats_scaled_15\"},{\"idx\":16,\"name\":\"MONTH_1\"},{\"idx\":17,\"name\":\"MONTH_2\"},{\"idx\":18,\"name\":\"MONTH_3\"},{\"idx\":19,\"name\":\"MONTH_4\"},{\"idx\":20,\"name\":\"MONTH_5\"},{\"idx\":21,\"name\":\"MONTH_6\"},{\"idx\":22,\"name\":\"MONTH_7\"},{\"idx\":23,\"name\":\"MONTH_8\"},{\"idx\":24,\"name\":\"MONTH_9\"},{\"idx\":25,\"name\":\"MONTH_10\"},{\"idx\":26,\"name\":\"MONTH_11\"},{\"idx\":27,\"name\":\"MONTH_12\"},{\"idx\":28,\"name\":\"HOUR_00\"},{\"idx\":29,\"name\":\"HOUR_01\"},{\"idx\":30,\"name\":\"HOUR_02\"},{\"idx\":31,\"name\":\"HOUR_03\"},{\"idx\":32,\"name\":\"HOUR_04\"},{\"idx\":33,\"name\":\"HOUR_05\"},{\"idx\":34,\"name\":\"HOUR_06\"},{\"idx\":35,\"name\":\"HOUR_07\"},{\"idx\":36,\"name\":\"HOUR_08\"},{\"idx\":37,\"name\":\"HOUR_09\"},{\"idx\":38,\"name\":\"HOUR_10\"},{\"idx\":39,\"name\":\"HOUR_11\"},{\"idx\":40,\"name\":\"HOUR_12\"},{\"idx\":41,\"name\":\"HOUR_13\"},{\"idx\":42,\"name\":\"HOUR_14\"},{\"idx\":43,\"name\":\"HOUR_15\"},{\"idx\":44,\"name\":\"HOUR_16\"},{\"idx\":45,\"name\":\"HOUR_17\"},{\"idx\":46,\"name\":\"HOUR_18\"},{\"idx\":47,\"name\":\"HOUR_19\"},{\"idx\":48,\"name\":\"HOUR_20\"},{\"idx\":49,\"name\":\"HOUR_21\"},{\"idx\":50,\"name\":\"HOUR_22\"},{\"idx\":51,\"name\":\"HOUR_23\"},{\"idx\":52,\"name\":\"DAY_OF_WEEK_1\"},{\"idx\":53,\"name\":\"DAY_OF_WEEK_2\"},{\"idx\":54,\"name\":\"DAY_OF_WEEK_3\"},{\"idx\":55,\"name\":\"DAY_OF_WEEK_4\"},{\"idx\":56,\"name\":\"DAY_OF_WEEK_5\"},{\"idx\":57,\"name\":\"DAY_OF_WEEK_6\"},{\"idx\":58,\"name\":\"DAY_OF_WEEK_7\"},{\"idx\":59,\"name\":\"OP_CARRIER_9E\"},{\"idx\":60,\"name\":\"OP_CARRIER_AA\"},{\"idx\":61,\"name\":\"OP_CARRIER_AS\"},{\"idx\":62,\"name\":\"OP_CARRIER_B6\"},{\"idx\":63,\"name\":\"OP_CARRIER_DL\"},{\"idx\":64,\"name\":\"OP_CARRIER_EV\"},{\"idx\":65,\"name\":\"OP_CARRIER_F9\"},{\"idx\":66,\"name\":\"OP_CARRIER_G4\"},{\"idx\":67,\"name\":\"OP_CARRIER_HA\"},{\"idx\":68,\"name\":\"OP_CARRIER_MQ\"},{\"idx\":69,\"name\":\"OP_CARRIER_NK\"},{\"idx\":70,\"name\":\"OP_CARRIER_OH\"},{\"idx\":71,\"name\":\"OP_CARRIER_OO\"},{\"idx\":72,\"name\":\"OP_CARRIER_UA\"},{\"idx\":73,\"name\":\"OP_CARRIER_WN\"},{\"idx\":74,\"name\":\"OP_CARRIER_YV\"},{\"idx\":75,\"name\":\"OP_CARRIER_YX\"},{\"idx\":76,\"name\":\"Rain\"},{\"idx\":77,\"name\":\"Snow\"},{\"idx\":78,\"name\":\"Thunder\"},{\"idx\":79,\"name\":\"Tornado\"},{\"idx\":80,\"name\":\"View Obstruction\"},{\"idx\":81,\"name\":\"REALIZED_DEL15\"},{\"idx\":82,\"name\":\"HOLIDAY\"},{\"idx\":83,\"name\":\"type_large_airport\"},{\"idx\":84,\"name\":\"type_medium_airport\"},{\"idx\":85,\"name\":\"type_seaplane_base\"},{\"idx\":86,\"name\":\"type_small_airport\"}]},\"num_attrs\":87}}",
         "name": "features",
         "type": "{\"type\":\"udt\",\"class\":\"org.apache.spark.ml.linalg.VectorUDT\",\"pyClass\":\"pyspark.ml.linalg.VectorUDT\",\"sqlType\":{\"type\":\"struct\",\"fields\":[{\"name\":\"type\",\"type\":\"byte\",\"nullable\":false,\"metadata\":{}},{\"name\":\"size\",\"type\":\"integer\",\"nullable\":true,\"metadata\":{}},{\"name\":\"indices\",\"type\":{\"type\":\"array\",\"elementType\":\"integer\",\"containsNull\":false},\"nullable\":true,\"metadata\":{}},{\"name\":\"values\",\"type\":{\"type\":\"array\",\"elementType\":\"double\",\"containsNull\":false},\"nullable\":true,\"metadata\":{}}]}}"
        },
        {
         "metadata": "{\"ml_attr\":{\"num_attrs\":2}}",
         "name": "rawPrediction",
         "type": "{\"type\":\"udt\",\"class\":\"org.apache.spark.ml.linalg.VectorUDT\",\"pyClass\":\"pyspark.ml.linalg.VectorUDT\",\"sqlType\":{\"type\":\"struct\",\"fields\":[{\"name\":\"type\",\"type\":\"byte\",\"nullable\":false,\"metadata\":{}},{\"name\":\"size\",\"type\":\"integer\",\"nullable\":true,\"metadata\":{}},{\"name\":\"indices\",\"type\":{\"type\":\"array\",\"elementType\":\"integer\",\"containsNull\":false},\"nullable\":true,\"metadata\":{}},{\"name\":\"values\",\"type\":{\"type\":\"array\",\"elementType\":\"double\",\"containsNull\":false},\"nullable\":true,\"metadata\":{}}]}}"
        },
        {
         "metadata": "{\"ml_attr\":{\"num_attrs\":2}}",
         "name": "probability",
         "type": "{\"type\":\"udt\",\"class\":\"org.apache.spark.ml.linalg.VectorUDT\",\"pyClass\":\"pyspark.ml.linalg.VectorUDT\",\"sqlType\":{\"type\":\"struct\",\"fields\":[{\"name\":\"type\",\"type\":\"byte\",\"nullable\":false,\"metadata\":{}},{\"name\":\"size\",\"type\":\"integer\",\"nullable\":true,\"metadata\":{}},{\"name\":\"indices\",\"type\":{\"type\":\"array\",\"elementType\":\"integer\",\"containsNull\":false},\"nullable\":true,\"metadata\":{}},{\"name\":\"values\",\"type\":{\"type\":\"array\",\"elementType\":\"double\",\"containsNull\":false},\"nullable\":true,\"metadata\":{}}]}}"
        },
        {
         "metadata": "{\"ml_attr\":{\"type\":\"nominal\",\"num_vals\":2}}",
         "name": "prediction",
         "type": "\"double\""
        }
       ],
       "type": "table"
      }
     },
     "output_type": "display_data"
    }
   ],
   "source": [
    "display(predictions_2018.limit(5))"
   ]
  },
  {
   "cell_type": "code",
   "execution_count": 0,
   "metadata": {
    "application/vnd.databricks.v1+cell": {
     "cellMetadata": {
      "byteLimit": 2048000,
      "rowLimit": 10000
     },
     "inputWidgets": {},
     "nuid": "27cda918-22cd-4a10-babf-ec8265420c72",
     "showTitle": false,
     "title": ""
    }
   },
   "outputs": [],
   "source": [
    "predictions_2019 = baseline_pipeline.transform(df_test)"
   ]
  },
  {
   "cell_type": "code",
   "execution_count": 0,
   "metadata": {
    "application/vnd.databricks.v1+cell": {
     "cellMetadata": {},
     "inputWidgets": {},
     "nuid": "98f8b7fc-1ab3-481c-a627-94f4f35d3395",
     "showTitle": false,
     "title": ""
    }
   },
   "outputs": [
    {
     "output_type": "stream",
     "name": "stdout",
     "output_type": "stream",
     "text": [
      "Test Area under ROC curve: 0.7509129838119214\nTest Metrics\nAccuracy: 0.7509051303237437\nPrecision: 0.5231230008341489\nRecall: 0.5701665843409288\nF Beta: 0.5379172473102787\n"
     ]
    }
   ],
   "source": [
    "# different run time because I had to load the model back in to generate the test metrics for the presentation\n",
    "# Evaluate the model\n",
    "evaluator = BinaryClassificationEvaluator(labelCol=target_feature)\n",
    "area_under_curve = evaluator.evaluate(predictions_2019)\n",
    "print(f\"Test Area under ROC curve: {area_under_curve}\")\n",
    "\n",
    "# Convert DataFrame to RDD\n",
    "prediction_and_label = predictions_2019\\\n",
    "                        .select([\"prediction\", target_feature])\\\n",
    "\n",
    "# Create MulticlassMetrics object\n",
    "metrics = MulticlassMetrics(prediction_and_label.rdd.map(tuple))\n",
    "\n",
    "beta = 1/(2**0.5)\n",
    "fbeta = (1 + beta**2) * (metrics.precision(1.0) * metrics.recall(1.0)) / ((beta**2 * metrics.precision(1.0)) + metrics.recall(1.0))\n",
    "\n",
    "\n",
    "# metrics\n",
    "print(\"Test Metrics\")\n",
    "print(\"Accuracy:\", metrics.accuracy)\n",
    "print(\"Precision:\", metrics.precision(1.0))\n",
    "print(\"Recall:\", metrics.recall(1.0))\n",
    "print(\"F Beta:\", fbeta)"
   ]
  },
  {
   "cell_type": "code",
   "execution_count": 0,
   "metadata": {
    "application/vnd.databricks.v1+cell": {
     "cellMetadata": {
      "byteLimit": 2048000,
      "rowLimit": 10000
     },
     "inputWidgets": {},
     "nuid": "26cb7697-cf7f-45aa-8134-10ae203e283a",
     "showTitle": false,
     "title": ""
    }
   },
   "outputs": [
    {
     "output_type": "display_data",
     "data": {
      "text/html": [
       "<style scoped>\n",
       "  .table-result-container {\n",
       "    max-height: 300px;\n",
       "    overflow: auto;\n",
       "  }\n",
       "  table, th, td {\n",
       "    border: 1px solid black;\n",
       "    border-collapse: collapse;\n",
       "  }\n",
       "  th, td {\n",
       "    padding: 5px;\n",
       "  }\n",
       "  th {\n",
       "    text-align: left;\n",
       "  }\n",
       "</style><div class='table-result-container'><table class='table-result'><thead style='background-color: white'><tr><th>index</th><th>MONTH</th><th>DAY_OF_WEEK</th><th>OP_CARRIER</th><th>ORIGIN_AIRPORT_ID</th><th>CRS_DEP_TIME</th><th>DISTANCE</th><th>DEP_DEL15</th><th>QUARTER</th><th>DEP_DELAY</th><th>DEST_AIRPORT_ID</th><th>FL_DATE</th><th>TAIL_NUM</th><th>ARR_TIME</th><th>ARR_DELAY</th><th>ARR_DEL15</th><th>CANCELLED</th><th>type</th><th>ELEVATION</th><th>HourlyAltimeterSetting</th><th>HourlyDryBulbTemperature</th><th>HourlyPrecipitation</th><th>HourlyRelativeHumidity</th><th>HourlySkyConditions</th><th>HourlySeaLevelPressure</th><th>HourlyVisibility</th><th>HourlyWindDirection</th><th>HourlyWindSpeed</th><th>HourlyPresentWeatherType</th><th>HOUR</th><th>MONTH_indexed</th><th>MONTH_vec</th><th>DAY_OF_WEEK_indexed</th><th>DAY_OF_WEEK_vec</th><th>OP_CARRIER_indexed</th><th>OP_CARRIER_vec</th><th>ORIGIN_AIRPORT_ID_indexed</th><th>ORIGIN_AIRPORT_ID_vec</th><th>HOUR_indexed</th><th>HOUR_vec</th><th>type_indexed</th><th>type_vec</th><th>HourlySkyConditions_vec</th><th>HourlyPresentWeatherType_vec</th><th>Rain</th><th>Snow</th><th>Thunder</th><th>Tornado</th><th>View Obstruction</th><th>MONTH_1</th><th>MONTH_2</th><th>MONTH_3</th><th>MONTH_4</th><th>MONTH_5</th><th>MONTH_6</th><th>MONTH_7</th><th>MONTH_8</th><th>MONTH_9</th><th>MONTH_10</th><th>MONTH_11</th><th>MONTH_12</th><th>HOUR_00</th><th>HOUR_01</th><th>HOUR_02</th><th>HOUR_03</th><th>HOUR_04</th><th>HOUR_05</th><th>HOUR_06</th><th>HOUR_07</th><th>HOUR_08</th><th>HOUR_09</th><th>HOUR_10</th><th>HOUR_11</th><th>HOUR_12</th><th>HOUR_13</th><th>HOUR_14</th><th>HOUR_15</th><th>HOUR_16</th><th>HOUR_17</th><th>HOUR_18</th><th>HOUR_19</th><th>HOUR_20</th><th>HOUR_21</th><th>HOUR_22</th><th>HOUR_23</th><th>DAY_OF_WEEK_1</th><th>DAY_OF_WEEK_2</th><th>DAY_OF_WEEK_3</th><th>DAY_OF_WEEK_4</th><th>DAY_OF_WEEK_5</th><th>DAY_OF_WEEK_6</th><th>DAY_OF_WEEK_7</th><th>OP_CARRIER_9E</th><th>OP_CARRIER_AA</th><th>OP_CARRIER_AS</th><th>OP_CARRIER_B6</th><th>OP_CARRIER_DL</th><th>OP_CARRIER_EV</th><th>OP_CARRIER_F9</th><th>OP_CARRIER_G4</th><th>OP_CARRIER_HA</th><th>OP_CARRIER_MQ</th><th>OP_CARRIER_NK</th><th>OP_CARRIER_OH</th><th>OP_CARRIER_OO</th><th>OP_CARRIER_QX</th><th>OP_CARRIER_UA</th><th>OP_CARRIER_US</th><th>OP_CARRIER_VX</th><th>OP_CARRIER_WN</th><th>OP_CARRIER_YV</th><th>OP_CARRIER_YX</th><th>type_large_airport</th><th>type_medium_airport</th><th>type_seaplane_base</th><th>type_small_airport</th><th>DEP_12hr</th><th>DEP_6hr</th><th>DEP_4hr</th><th>DISTANCE_LAG</th><th>REALIZED_DELAY_MIN</th><th>REALIZED_DEL15</th><th>HOLIDAY</th><th>OUTDEG_AIRPORT_6hr</th><th>YEAR</th><th>LOG_REALIZED_DELAY_MIN</th><th>numeric_features</th><th>num_feats_scaled</th><th>features</th><th>rawPrediction</th><th>probability</th><th>prediction</th></tr></thead><tbody><tr><td>12053218</td><td>1</td><td>2</td><td>F9</td><td>11292</td><td>4</td><td>1506.0</td><td>1.0</td><td>1</td><td>21.0</td><td>15304</td><td>2019-01-01</td><td>N216FR</td><td>620</td><td>50.0</td><td>1.0</td><td>0.0</td><td>large_airport</td><td>1650.2</td><td>30.2</td><td>0.0</td><td>0.0</td><td>87.0</td><td>SCT:04 15 BKN:07 180</td><td>0.0</td><td>9.0</td><td>10.0</td><td>0.0</td><td>-SN:03 BR:1 |SN |</td><td>00</td><td>6.0</td><td>Map(vectorType -> sparse, length -> 11, indices -> List(6), values -> List(1.0))</td><td>5.0</td><td>Map(vectorType -> sparse, length -> 6, indices -> List(5), values -> List(1.0))</td><td>13.0</td><td>Map(vectorType -> sparse, length -> 19, indices -> List(13), values -> List(1.0))</td><td>3.0</td><td>Map(vectorType -> sparse, length -> 372, indices -> List(3), values -> List(1.0))</td><td>19.0</td><td>Map(vectorType -> sparse, length -> 23, indices -> List(19), values -> List(1.0))</td><td>0.0</td><td>Map(vectorType -> sparse, length -> 3, indices -> List(0), values -> List(1.0))</td><td>Map(vectorType -> sparse, length -> 269, indices -> List(45, 67, 258, 265), values -> List(1.0, 1.0, 1.0, 1.0))</td><td>Map(vectorType -> sparse, length -> 5, indices -> List(1, 4), values -> List(1.0, 1.0))</td><td>0</td><td>1</td><td>0</td><td>0</td><td>1</td><td>1</td><td>0</td><td>0</td><td>0</td><td>0</td><td>0</td><td>0</td><td>0</td><td>0</td><td>0</td><td>0</td><td>0</td><td>1</td><td>0</td><td>0</td><td>0</td><td>0</td><td>0</td><td>0</td><td>0</td><td>0</td><td>0</td><td>0</td><td>0</td><td>0</td><td>0</td><td>0</td><td>0</td><td>0</td><td>0</td><td>0</td><td>0</td><td>0</td><td>0</td><td>0</td><td>0</td><td>0</td><td>1</td><td>0</td><td>0</td><td>0</td><td>0</td><td>0</td><td>0</td><td>0</td><td>0</td><td>0</td><td>0</td><td>0</td><td>1</td><td>0</td><td>0</td><td>0</td><td>0</td><td>0</td><td>0</td><td>0</td><td>0</td><td>0</td><td>0</td><td>0</td><td>0</td><td>0</td><td>1</td><td>0</td><td>0</td><td>0</td><td>0.6231884057971014</td><td>0.6923076923076923</td><td>0.7</td><td>589.0</td><td>3.0</td><td>0</td><td>1</td><td>0.033795493934142114</td><td>2019</td><td>5.544786743165743</td><td>Map(vectorType -> dense, length -> 16, values -> List(1506.0, 1650.199951171875, 30.200000762939453, 0.0, 0.0, 87.0, 0.0, 9.0, 10.0, 0.0, 589.0, 5.544786743165743, 0.033795493934142114, 0.6231884057971014, 0.6923076923076923, 0.7))</td><td>Map(vectorType -> dense, length -> 16, values -> List(1.1425814707194573, 3.8705440208853483, 0.26643748725778654, -3.1432496237046266, -0.29681411056900553, 0.2141496509739139, -1.9385070950099375, 0.8619799919253247, -1.2885845784957484, -0.652229636289246, -0.3934574388012513, 0.04666130562597214, 0.6812694005535929, 2.148200855812545, 2.278588197923483, 2.001709366464833))</td><td>Map(vectorType -> sparse, length -> 87, indices -> List(0, 1, 2, 3, 4, 5, 6, 7, 8, 9, 10, 11, 12, 13, 14, 15, 16, 28, 53, 65, 77, 80, 82, 83), values -> List(1.1425814707194573, 3.8705440208853483, 0.26643748725778654, -3.1432496237046266, -0.29681411056900553, 0.2141496509739139, -1.9385070950099375, 0.8619799919253247, -1.2885845784957484, -0.652229636289246, -0.3934574388012513, 0.04666130562597214, 0.6812694005535929, 2.148200855812545, 2.278588197923483, 2.001709366464833, 1.0, 1.0, 1.0, 1.0, 1.0, 1.0, 1.0, 1.0))</td><td>Map(vectorType -> dense, length -> 2, values -> List(-1.091649789263326, 1.091649789263326))</td><td>Map(vectorType -> dense, length -> 2, values -> List(0.25130773963964126, 0.7486922603603587))</td><td>1.0</td></tr><tr><td>12053219</td><td>1</td><td>2</td><td>UA</td><td>14747</td><td>5</td><td>1874.0</td><td>0.0</td><td>1</td><td>-7.0</td><td>12266</td><td>2019-01-01</td><td>N889UA</td><td>607</td><td>-7.0</td><td>0.0</td><td>0.0</td><td>large_airport</td><td>112.8</td><td>30.43</td><td>35.0</td><td>0.0</td><td>82.0</td><td>SCT:04 140 BKN:07 220</td><td>30.46</td><td>6.84</td><td>130.0</td><td>0.0</td><td>null</td><td>00</td><td>6.0</td><td>Map(vectorType -> sparse, length -> 11, indices -> List(6), values -> List(1.0))</td><td>5.0</td><td>Map(vectorType -> sparse, length -> 6, indices -> List(5), values -> List(1.0))</td><td>4.0</td><td>Map(vectorType -> sparse, length -> 19, indices -> List(4), values -> List(1.0))</td><td>10.0</td><td>Map(vectorType -> sparse, length -> 372, indices -> List(10), values -> List(1.0))</td><td>19.0</td><td>Map(vectorType -> sparse, length -> 23, indices -> List(19), values -> List(1.0))</td><td>0.0</td><td>Map(vectorType -> sparse, length -> 3, indices -> List(0), values -> List(1.0))</td><td>Map(vectorType -> sparse, length -> 269, indices -> List(39, 92, 258, 265), values -> List(1.0, 1.0, 1.0, 1.0))</td><td>null</td><td>0</td><td>0</td><td>0</td><td>0</td><td>0</td><td>1</td><td>0</td><td>0</td><td>0</td><td>0</td><td>0</td><td>0</td><td>0</td><td>0</td><td>0</td><td>0</td><td>0</td><td>1</td><td>0</td><td>0</td><td>0</td><td>0</td><td>0</td><td>0</td><td>0</td><td>0</td><td>0</td><td>0</td><td>0</td><td>0</td><td>0</td><td>0</td><td>0</td><td>0</td><td>0</td><td>0</td><td>0</td><td>0</td><td>0</td><td>0</td><td>0</td><td>0</td><td>1</td><td>0</td><td>0</td><td>0</td><td>0</td><td>0</td><td>0</td><td>0</td><td>0</td><td>0</td><td>0</td><td>0</td><td>0</td><td>0</td><td>0</td><td>0</td><td>0</td><td>0</td><td>0</td><td>0</td><td>1</td><td>0</td><td>0</td><td>0</td><td>0</td><td>0</td><td>1</td><td>0</td><td>0</td><td>0</td><td>0.2702702702702703</td><td>0.2127659574468085</td><td>0.21052631578947367</td><td>1874.0</td><td>-5.0</td><td>0</td><td>1</td><td>0.020302375809935207</td><td>2019</td><td>5.513025439041145</td><td>Map(vectorType -> dense, length -> 16, values -> List(1874.0, 112.80000305175781, 30.43000030517578, 35.0, 0.0, 82.0, 30.459999084472656, 6.840000152587891, 130.0, 0.0, 1874.0, 5.513025439041145, 0.020302375809935207, 0.2702702702702703, 0.2127659574468085, 0.21052631578947367))</td><td>Map(vectorType -> dense, length -> 16, values -> List(1.7633555808311603, -0.3043431515445256, 0.501736869316886, -1.1827360367059438, -0.29681411056900553, -0.1423059156526813, 0.5559449153176063, 0.23020134379805918, -0.21871302444512372, -0.652229636289246, 1.78145899716012, -0.11144556023735268, 0.01992106081784699, 0.29842586722549336, 0.07229126787646312, -0.012892422399535471))</td><td>Map(vectorType -> sparse, length -> 87, indices -> List(0, 1, 2, 3, 4, 5, 6, 7, 8, 9, 10, 11, 12, 13, 14, 15, 16, 28, 53, 72, 82, 83), values -> List(1.7633555808311603, -0.3043431515445256, 0.501736869316886, -1.1827360367059438, -0.29681411056900553, -0.1423059156526813, 0.5559449153176063, 0.23020134379805918, -0.21871302444512372, -0.652229636289246, 1.78145899716012, -0.11144556023735268, 0.01992106081784699, 0.29842586722549336, 0.07229126787646312, -0.012892422399535471, 1.0, 1.0, 1.0, 1.0, 1.0, 1.0))</td><td>Map(vectorType -> dense, length -> 2, values -> List(0.36910867905429157, -0.36910867905429157))</td><td>Map(vectorType -> dense, length -> 2, values -> List(0.5912435863241869, 0.40875641367581306))</td><td>0.0</td></tr><tr><td>12053220</td><td>1</td><td>2</td><td>F9</td><td>12889</td><td>5</td><td>1747.0</td><td>1.0</td><td>1</td><td>23.0</td><td>10397</td><td>2019-01-01</td><td>N328FR</td><td>704</td><td>7.0</td><td>0.0</td><td>0.0</td><td>large_airport</td><td>664.5</td><td>30.01</td><td>40.0</td><td>0.0</td><td>29.0</td><td>SCT:04 90</td><td>30.02</td><td>9.94</td><td>360.0</td><td>0.0</td><td>null</td><td>00</td><td>6.0</td><td>Map(vectorType -> sparse, length -> 11, indices -> List(6), values -> List(1.0))</td><td>5.0</td><td>Map(vectorType -> sparse, length -> 6, indices -> List(5), values -> List(1.0))</td><td>13.0</td><td>Map(vectorType -> sparse, length -> 19, indices -> List(13), values -> List(1.0))</td><td>8.0</td><td>Map(vectorType -> sparse, length -> 372, indices -> List(8), values -> List(1.0))</td><td>19.0</td><td>Map(vectorType -> sparse, length -> 23, indices -> List(19), values -> List(1.0))</td><td>0.0</td><td>Map(vectorType -> sparse, length -> 3, indices -> List(0), values -> List(1.0))</td><td>Map(vectorType -> sparse, length -> 269, indices -> List(137, 174, 208, 245, 258, 261, 265), values -> List(1.0, 1.0, 1.0, 1.0, 1.0, 1.0, 1.0))</td><td>Map(vectorType -> sparse, length -> 5, indices -> List(0), values -> List(1.0))</td><td>1</td><td>0</td><td>0</td><td>0</td><td>0</td><td>1</td><td>0</td><td>0</td><td>0</td><td>0</td><td>0</td><td>0</td><td>0</td><td>0</td><td>0</td><td>0</td><td>1</td><td>1</td><td>0</td><td>0</td><td>0</td><td>0</td><td>0</td><td>0</td><td>0</td><td>0</td><td>0</td><td>0</td><td>0</td><td>0</td><td>0</td><td>0</td><td>0</td><td>0</td><td>0</td><td>0</td><td>0</td><td>0</td><td>0</td><td>1</td><td>0</td><td>0</td><td>1</td><td>0</td><td>0</td><td>1</td><td>0</td><td>0</td><td>0</td><td>0</td><td>0</td><td>0</td><td>0</td><td>0</td><td>1</td><td>0</td><td>0</td><td>0</td><td>1</td><td>0</td><td>0</td><td>0</td><td>0</td><td>0</td><td>0</td><td>0</td><td>0</td><td>0</td><td>2</td><td>0</td><td>0</td><td>0</td><td>0.32653061224489793</td><td>0.28846153846153844</td><td>0.2777777777777778</td><td>368.0</td><td>8.0</td><td>0</td><td>1</td><td>0.0224622030237581</td><td>2019</td><td>5.564137192142683</td><td>Map(vectorType -> dense, length -> 16, values -> List(1747.0, 664.5, 30.010000228881836, 40.0, 0.0, 29.0, 30.020000457763672, 9.9399995803833, 360.0, 0.0, 368.0, 5.564137192142683, 0.0224622030237581, 0.32653061224489793, 0.28846153846153844, 0.2777777777777778))</td><td>Map(vectorType -> dense, length -> 16, values -> List(1.5491210373958715, 1.1938260419078348, 0.07205880363102068, -0.9026626671347036, -0.29681411056900553, -3.9207349218945904, 0.5199122333765527, 1.1369205965954012, 1.8318741208185734, -0.652229636289246, -0.767509214947137, 0.14298728861426405, 0.12578229532488647, 0.5933072092643994, 0.4205548617832025, 0.2639047170501688))</td><td>Map(vectorType -> sparse, length -> 87, indices -> List(0, 1, 2, 3, 4, 5, 6, 7, 8, 9, 10, 11, 12, 13, 14, 15, 16, 27, 28, 50, 53, 56, 65, 69, 76, 82, 83), values -> List(1.5491210373958715, 1.1938260419078348, 0.07205880363102068, -0.9026626671347036, -0.29681411056900553, -3.9207349218945904, 0.5199122333765527, 1.1369205965954012, 1.8318741208185734, -0.652229636289246, -0.767509214947137, 0.14298728861426405, 0.12578229532488647, 0.5933072092643994, 0.4205548617832025, 0.2639047170501688, 1.0, 1.0, 1.0, 1.0, 1.0, 1.0, 1.0, 1.0, 1.0, 1.0, 2.0))</td><td>Map(vectorType -> dense, length -> 2, values -> List(0.21093072628627252, -0.21093072628627252))</td><td>Map(vectorType -> dense, length -> 2, values -> List(0.5525380333494654, 0.4474619666505346))</td><td>0.0</td></tr><tr><td>12053221</td><td>1</td><td>2</td><td>F9</td><td>12889</td><td>5</td><td>1747.0</td><td>1.0</td><td>1</td><td>23.0</td><td>10397</td><td>2019-01-01</td><td>N328FR</td><td>704</td><td>7.0</td><td>0.0</td><td>0.0</td><td>large_airport</td><td>664.5</td><td>30.01</td><td>40.0</td><td>0.0</td><td>29.0</td><td>SCT:04 90</td><td>30.02</td><td>9.94</td><td>360.0</td><td>0.0</td><td>null</td><td>00</td><td>6.0</td><td>Map(vectorType -> sparse, length -> 11, indices -> List(6), values -> List(1.0))</td><td>5.0</td><td>Map(vectorType -> sparse, length -> 6, indices -> List(5), values -> List(1.0))</td><td>13.0</td><td>Map(vectorType -> sparse, length -> 19, indices -> List(13), values -> List(1.0))</td><td>8.0</td><td>Map(vectorType -> sparse, length -> 372, indices -> List(8), values -> List(1.0))</td><td>19.0</td><td>Map(vectorType -> sparse, length -> 23, indices -> List(19), values -> List(1.0))</td><td>0.0</td><td>Map(vectorType -> sparse, length -> 3, indices -> List(0), values -> List(1.0))</td><td>Map(vectorType -> sparse, length -> 269, indices -> List(245, 265), values -> List(1.0, 1.0))</td><td>null</td><td>0</td><td>0</td><td>0</td><td>0</td><td>0</td><td>1</td><td>0</td><td>0</td><td>0</td><td>0</td><td>0</td><td>0</td><td>0</td><td>0</td><td>0</td><td>0</td><td>0</td><td>1</td><td>0</td><td>0</td><td>0</td><td>0</td><td>0</td><td>0</td><td>0</td><td>0</td><td>0</td><td>0</td><td>0</td><td>0</td><td>0</td><td>0</td><td>0</td><td>0</td><td>0</td><td>0</td><td>0</td><td>0</td><td>0</td><td>0</td><td>0</td><td>0</td><td>1</td><td>0</td><td>0</td><td>0</td><td>0</td><td>0</td><td>0</td><td>0</td><td>0</td><td>0</td><td>0</td><td>0</td><td>1</td><td>0</td><td>0</td><td>0</td><td>0</td><td>0</td><td>0</td><td>0</td><td>0</td><td>0</td><td>0</td><td>0</td><td>0</td><td>0</td><td>1</td><td>0</td><td>0</td><td>0</td><td>0.32653061224489793</td><td>0.28846153846153844</td><td>0.2777777777777778</td><td>1747.0</td><td>-120.0</td><td>0</td><td>1</td><td>0.0224622030237581</td><td>2019</td><td>4.8895969657192</td><td>Map(vectorType -> dense, length -> 16, values -> List(1747.0, 664.5, 30.010000228881836, 40.0, 0.0, 29.0, 30.020000457763672, 9.9399995803833, 360.0, 0.0, 1747.0, 4.8895969657192, 0.0224622030237581, 0.32653061224489793, 0.28846153846153844, 0.2777777777777778))</td><td>Map(vectorType -> dense, length -> 16, values -> List(1.5491210373958715, 1.1938260419078348, 0.07205880363102068, -0.9026626671347036, -0.29681411056900553, -3.9207349218945904, 0.5199122333765527, 1.1369205965954012, 1.8318741208185734, -0.652229636289246, 1.5665061665242492, -3.2148547156111107, 0.12578229532488647, 0.5933072092643994, 0.4205548617832025, 0.2639047170501688))</td><td>Map(vectorType -> sparse, length -> 87, indices -> List(0, 1, 2, 3, 4, 5, 6, 7, 8, 9, 10, 11, 12, 13, 14, 15, 16, 28, 53, 65, 82, 83), values -> List(1.5491210373958715, 1.1938260419078348, 0.07205880363102068, -0.9026626671347036, -0.29681411056900553, -3.9207349218945904, 0.5199122333765527, 1.1369205965954012, 1.8318741208185734, -0.652229636289246, 1.5665061665242492, -3.2148547156111107, 0.12578229532488647, 0.5933072092643994, 0.4205548617832025, 0.2639047170501688, 1.0, 1.0, 1.0, 1.0, 1.0, 1.0))</td><td>Map(vectorType -> dense, length -> 2, values -> List(0.21093072628627252, -0.21093072628627252))</td><td>Map(vectorType -> dense, length -> 2, values -> List(0.5525380333494654, 0.4474619666505346))</td><td>0.0</td></tr><tr><td>12053222</td><td>1</td><td>2</td><td>AA</td><td>12892</td><td>15</td><td>2342.0</td><td>0.0</td><td>1</td><td>3.0</td><td>13303</td><td>2019-01-01</td><td>N990AU</td><td>807</td><td>-3.0</td><td>0.0</td><td>0.0</td><td>large_airport</td><td>29.6</td><td>29.95</td><td>54.0</td><td>0.0</td><td>17.0</td><td>57</td><td>29.95</td><td>9.94</td><td>110.0</td><td>0.0</td><td>null</td><td>00</td><td>6.0</td><td>Map(vectorType -> sparse, length -> 11, indices -> List(6), values -> List(1.0))</td><td>5.0</td><td>Map(vectorType -> sparse, length -> 6, indices -> List(5), values -> List(1.0))</td><td>2.0</td><td>Map(vectorType -> sparse, length -> 19, indices -> List(2), values -> List(1.0))</td><td>4.0</td><td>Map(vectorType -> sparse, length -> 372, indices -> List(4), values -> List(1.0))</td><td>19.0</td><td>Map(vectorType -> sparse, length -> 23, indices -> List(19), values -> List(1.0))</td><td>0.0</td><td>Map(vectorType -> sparse, length -> 3, indices -> List(0), values -> List(1.0))</td><td>Map(vectorType -> sparse, length -> 269, indices -> List(197), values -> List(1.0))</td><td>null</td><td>0</td><td>0</td><td>0</td><td>0</td><td>0</td><td>1</td><td>0</td><td>0</td><td>0</td><td>0</td><td>0</td><td>0</td><td>0</td><td>0</td><td>0</td><td>0</td><td>0</td><td>1</td><td>0</td><td>0</td><td>0</td><td>0</td><td>0</td><td>0</td><td>0</td><td>0</td><td>0</td><td>0</td><td>0</td><td>0</td><td>0</td><td>0</td><td>0</td><td>0</td><td>0</td><td>0</td><td>0</td><td>0</td><td>0</td><td>0</td><td>0</td><td>0</td><td>1</td><td>0</td><td>0</td><td>0</td><td>0</td><td>0</td><td>0</td><td>1</td><td>0</td><td>0</td><td>0</td><td>0</td><td>0</td><td>0</td><td>0</td><td>0</td><td>0</td><td>0</td><td>0</td><td>0</td><td>0</td><td>0</td><td>0</td><td>0</td><td>0</td><td>0</td><td>1</td><td>0</td><td>0</td><td>0</td><td>0.24334600760456274</td><td>0.32558139534883723</td><td>0.2</td><td>1242.0</td><td>-3.0</td><td>0</td><td>1</td><td>0.03882618510158013</td><td>2019</td><td>5.521060837840907</td><td>Map(vectorType -> dense, length -> 16, values -> List(2342.0, 29.600000381469727, 29.950000762939453, 54.0, 0.0, 17.0, 29.950000762939453, 9.9399995803833, 110.0, 0.0, 1242.0, 5.521060837840907, 0.03882618510158013, 0.24334600760456274, 0.32558139534883723, 0.2))</td><td>Map(vectorType -> dense, length -> 16, values -> List(2.5528183078210436, -0.5302769590219136, 0.010676780332850987, -0.1184572323352305, -0.29681411056900553, -4.776228281798419, 0.5141797683494741, 1.1369205965954012, -0.3970249501202278, -0.652229636289246, 0.7117724699012977, -0.07144557424155, 0.9278424476937971, 0.15730580947944547, 0.591337549379707, -0.056217192052532554))</td><td>Map(vectorType -> sparse, length -> 87, indices -> List(0, 1, 2, 3, 4, 5, 6, 7, 8, 9, 10, 11, 12, 13, 14, 15, 16, 28, 53, 60, 82, 83), values -> List(2.5528183078210436, -0.5302769590219136, 0.010676780332850987, -0.1184572323352305, -0.29681411056900553, -4.776228281798419, 0.5141797683494741, 1.1369205965954012, -0.3970249501202278, -0.652229636289246, 0.7117724699012977, -0.07144557424155, 0.9278424476937971, 0.15730580947944547, 0.591337549379707, -0.056217192052532554, 1.0, 1.0, 1.0, 1.0, 1.0, 1.0))</td><td>Map(vectorType -> dense, length -> 2, values -> List(0.2824598360744759, -0.2824598360744759))</td><td>Map(vectorType -> dense, length -> 2, values -> List(0.5701491820711609, 0.42985081792883906))</td><td>0.0</td></tr></tbody></table></div>"
      ]
     },
     "metadata": {
      "application/vnd.databricks.v1+output": {
       "addedWidgets": {},
       "aggData": [],
       "aggError": "",
       "aggOverflow": false,
       "aggSchema": [],
       "aggSeriesLimitReached": false,
       "aggType": "",
       "arguments": {},
       "columnCustomDisplayInfos": {},
       "data": [
        [
         12053218,
         1,
         2,
         "F9",
         11292,
         4,
         1506.0,
         1.0,
         1,
         21.0,
         15304,
         "2019-01-01",
         "N216FR",
         620,
         50.0,
         1.0,
         0.0,
         "large_airport",
         1650.2,
         30.2,
         0.0,
         0.0,
         87.0,
         "SCT:04 15 BKN:07 180",
         0.0,
         9.0,
         10.0,
         0.0,
         "-SN:03 BR:1 |SN |",
         "00",
         6.0,
         {
          "indices": [
           6
          ],
          "length": 11,
          "values": [
           1.0
          ],
          "vectorType": "sparse"
         },
         5.0,
         {
          "indices": [
           5
          ],
          "length": 6,
          "values": [
           1.0
          ],
          "vectorType": "sparse"
         },
         13.0,
         {
          "indices": [
           13
          ],
          "length": 19,
          "values": [
           1.0
          ],
          "vectorType": "sparse"
         },
         3.0,
         {
          "indices": [
           3
          ],
          "length": 372,
          "values": [
           1.0
          ],
          "vectorType": "sparse"
         },
         19.0,
         {
          "indices": [
           19
          ],
          "length": 23,
          "values": [
           1.0
          ],
          "vectorType": "sparse"
         },
         0.0,
         {
          "indices": [
           0
          ],
          "length": 3,
          "values": [
           1.0
          ],
          "vectorType": "sparse"
         },
         {
          "indices": [
           45,
           67,
           258,
           265
          ],
          "length": 269,
          "values": [
           1.0,
           1.0,
           1.0,
           1.0
          ],
          "vectorType": "sparse"
         },
         {
          "indices": [
           1,
           4
          ],
          "length": 5,
          "values": [
           1.0,
           1.0
          ],
          "vectorType": "sparse"
         },
         0,
         1,
         0,
         0,
         1,
         1,
         0,
         0,
         0,
         0,
         0,
         0,
         0,
         0,
         0,
         0,
         0,
         1,
         0,
         0,
         0,
         0,
         0,
         0,
         0,
         0,
         0,
         0,
         0,
         0,
         0,
         0,
         0,
         0,
         0,
         0,
         0,
         0,
         0,
         0,
         0,
         0,
         1,
         0,
         0,
         0,
         0,
         0,
         0,
         0,
         0,
         0,
         0,
         0,
         1,
         0,
         0,
         0,
         0,
         0,
         0,
         0,
         0,
         0,
         0,
         0,
         0,
         0,
         1,
         0,
         0,
         0,
         0.6231884057971014,
         0.6923076923076923,
         0.7,
         589.0,
         3.0,
         0,
         1,
         0.033795493934142114,
         "2019",
         5.544786743165743,
         {
          "length": 16,
          "values": [
           1506.0,
           1650.199951171875,
           30.200000762939453,
           0.0,
           0.0,
           87.0,
           0.0,
           9.0,
           10.0,
           0.0,
           589.0,
           5.544786743165743,
           0.033795493934142114,
           0.6231884057971014,
           0.6923076923076923,
           0.7
          ],
          "vectorType": "dense"
         },
         {
          "length": 16,
          "values": [
           1.1425814707194573,
           3.8705440208853483,
           0.26643748725778654,
           -3.1432496237046266,
           -0.29681411056900553,
           0.2141496509739139,
           -1.9385070950099375,
           0.8619799919253247,
           -1.2885845784957484,
           -0.652229636289246,
           -0.3934574388012513,
           0.04666130562597214,
           0.6812694005535929,
           2.148200855812545,
           2.278588197923483,
           2.001709366464833
          ],
          "vectorType": "dense"
         },
         {
          "indices": [
           0,
           1,
           2,
           3,
           4,
           5,
           6,
           7,
           8,
           9,
           10,
           11,
           12,
           13,
           14,
           15,
           16,
           28,
           53,
           65,
           77,
           80,
           82,
           83
          ],
          "length": 87,
          "values": [
           1.1425814707194573,
           3.8705440208853483,
           0.26643748725778654,
           -3.1432496237046266,
           -0.29681411056900553,
           0.2141496509739139,
           -1.9385070950099375,
           0.8619799919253247,
           -1.2885845784957484,
           -0.652229636289246,
           -0.3934574388012513,
           0.04666130562597214,
           0.6812694005535929,
           2.148200855812545,
           2.278588197923483,
           2.001709366464833,
           1.0,
           1.0,
           1.0,
           1.0,
           1.0,
           1.0,
           1.0,
           1.0
          ],
          "vectorType": "sparse"
         },
         {
          "length": 2,
          "values": [
           -1.091649789263326,
           1.091649789263326
          ],
          "vectorType": "dense"
         },
         {
          "length": 2,
          "values": [
           0.25130773963964126,
           0.7486922603603587
          ],
          "vectorType": "dense"
         },
         1.0
        ],
        [
         12053219,
         1,
         2,
         "UA",
         14747,
         5,
         1874.0,
         0.0,
         1,
         -7.0,
         12266,
         "2019-01-01",
         "N889UA",
         607,
         -7.0,
         0.0,
         0.0,
         "large_airport",
         112.8,
         30.43,
         35.0,
         0.0,
         82.0,
         "SCT:04 140 BKN:07 220",
         30.46,
         6.84,
         130.0,
         0.0,
         null,
         "00",
         6.0,
         {
          "indices": [
           6
          ],
          "length": 11,
          "values": [
           1.0
          ],
          "vectorType": "sparse"
         },
         5.0,
         {
          "indices": [
           5
          ],
          "length": 6,
          "values": [
           1.0
          ],
          "vectorType": "sparse"
         },
         4.0,
         {
          "indices": [
           4
          ],
          "length": 19,
          "values": [
           1.0
          ],
          "vectorType": "sparse"
         },
         10.0,
         {
          "indices": [
           10
          ],
          "length": 372,
          "values": [
           1.0
          ],
          "vectorType": "sparse"
         },
         19.0,
         {
          "indices": [
           19
          ],
          "length": 23,
          "values": [
           1.0
          ],
          "vectorType": "sparse"
         },
         0.0,
         {
          "indices": [
           0
          ],
          "length": 3,
          "values": [
           1.0
          ],
          "vectorType": "sparse"
         },
         {
          "indices": [
           39,
           92,
           258,
           265
          ],
          "length": 269,
          "values": [
           1.0,
           1.0,
           1.0,
           1.0
          ],
          "vectorType": "sparse"
         },
         null,
         0,
         0,
         0,
         0,
         0,
         1,
         0,
         0,
         0,
         0,
         0,
         0,
         0,
         0,
         0,
         0,
         0,
         1,
         0,
         0,
         0,
         0,
         0,
         0,
         0,
         0,
         0,
         0,
         0,
         0,
         0,
         0,
         0,
         0,
         0,
         0,
         0,
         0,
         0,
         0,
         0,
         0,
         1,
         0,
         0,
         0,
         0,
         0,
         0,
         0,
         0,
         0,
         0,
         0,
         0,
         0,
         0,
         0,
         0,
         0,
         0,
         0,
         1,
         0,
         0,
         0,
         0,
         0,
         1,
         0,
         0,
         0,
         0.2702702702702703,
         0.2127659574468085,
         0.21052631578947367,
         1874.0,
         -5.0,
         0,
         1,
         0.020302375809935207,
         "2019",
         5.513025439041145,
         {
          "length": 16,
          "values": [
           1874.0,
           112.80000305175781,
           30.43000030517578,
           35.0,
           0.0,
           82.0,
           30.459999084472656,
           6.840000152587891,
           130.0,
           0.0,
           1874.0,
           5.513025439041145,
           0.020302375809935207,
           0.2702702702702703,
           0.2127659574468085,
           0.21052631578947367
          ],
          "vectorType": "dense"
         },
         {
          "length": 16,
          "values": [
           1.7633555808311603,
           -0.3043431515445256,
           0.501736869316886,
           -1.1827360367059438,
           -0.29681411056900553,
           -0.1423059156526813,
           0.5559449153176063,
           0.23020134379805918,
           -0.21871302444512372,
           -0.652229636289246,
           1.78145899716012,
           -0.11144556023735268,
           0.01992106081784699,
           0.29842586722549336,
           0.07229126787646312,
           -0.012892422399535471
          ],
          "vectorType": "dense"
         },
         {
          "indices": [
           0,
           1,
           2,
           3,
           4,
           5,
           6,
           7,
           8,
           9,
           10,
           11,
           12,
           13,
           14,
           15,
           16,
           28,
           53,
           72,
           82,
           83
          ],
          "length": 87,
          "values": [
           1.7633555808311603,
           -0.3043431515445256,
           0.501736869316886,
           -1.1827360367059438,
           -0.29681411056900553,
           -0.1423059156526813,
           0.5559449153176063,
           0.23020134379805918,
           -0.21871302444512372,
           -0.652229636289246,
           1.78145899716012,
           -0.11144556023735268,
           0.01992106081784699,
           0.29842586722549336,
           0.07229126787646312,
           -0.012892422399535471,
           1.0,
           1.0,
           1.0,
           1.0,
           1.0,
           1.0
          ],
          "vectorType": "sparse"
         },
         {
          "length": 2,
          "values": [
           0.36910867905429157,
           -0.36910867905429157
          ],
          "vectorType": "dense"
         },
         {
          "length": 2,
          "values": [
           0.5912435863241869,
           0.40875641367581306
          ],
          "vectorType": "dense"
         },
         0.0
        ],
        [
         12053220,
         1,
         2,
         "F9",
         12889,
         5,
         1747.0,
         1.0,
         1,
         23.0,
         10397,
         "2019-01-01",
         "N328FR",
         704,
         7.0,
         0.0,
         0.0,
         "large_airport",
         664.5,
         30.01,
         40.0,
         0.0,
         29.0,
         "SCT:04 90",
         30.02,
         9.94,
         360.0,
         0.0,
         null,
         "00",
         6.0,
         {
          "indices": [
           6
          ],
          "length": 11,
          "values": [
           1.0
          ],
          "vectorType": "sparse"
         },
         5.0,
         {
          "indices": [
           5
          ],
          "length": 6,
          "values": [
           1.0
          ],
          "vectorType": "sparse"
         },
         13.0,
         {
          "indices": [
           13
          ],
          "length": 19,
          "values": [
           1.0
          ],
          "vectorType": "sparse"
         },
         8.0,
         {
          "indices": [
           8
          ],
          "length": 372,
          "values": [
           1.0
          ],
          "vectorType": "sparse"
         },
         19.0,
         {
          "indices": [
           19
          ],
          "length": 23,
          "values": [
           1.0
          ],
          "vectorType": "sparse"
         },
         0.0,
         {
          "indices": [
           0
          ],
          "length": 3,
          "values": [
           1.0
          ],
          "vectorType": "sparse"
         },
         {
          "indices": [
           137,
           174,
           208,
           245,
           258,
           261,
           265
          ],
          "length": 269,
          "values": [
           1.0,
           1.0,
           1.0,
           1.0,
           1.0,
           1.0,
           1.0
          ],
          "vectorType": "sparse"
         },
         {
          "indices": [
           0
          ],
          "length": 5,
          "values": [
           1.0
          ],
          "vectorType": "sparse"
         },
         1,
         0,
         0,
         0,
         0,
         1,
         0,
         0,
         0,
         0,
         0,
         0,
         0,
         0,
         0,
         0,
         1,
         1,
         0,
         0,
         0,
         0,
         0,
         0,
         0,
         0,
         0,
         0,
         0,
         0,
         0,
         0,
         0,
         0,
         0,
         0,
         0,
         0,
         0,
         1,
         0,
         0,
         1,
         0,
         0,
         1,
         0,
         0,
         0,
         0,
         0,
         0,
         0,
         0,
         1,
         0,
         0,
         0,
         1,
         0,
         0,
         0,
         0,
         0,
         0,
         0,
         0,
         0,
         2,
         0,
         0,
         0,
         0.32653061224489793,
         0.28846153846153844,
         0.2777777777777778,
         368.0,
         8.0,
         0,
         1,
         0.0224622030237581,
         "2019",
         5.564137192142683,
         {
          "length": 16,
          "values": [
           1747.0,
           664.5,
           30.010000228881836,
           40.0,
           0.0,
           29.0,
           30.020000457763672,
           9.9399995803833,
           360.0,
           0.0,
           368.0,
           5.564137192142683,
           0.0224622030237581,
           0.32653061224489793,
           0.28846153846153844,
           0.2777777777777778
          ],
          "vectorType": "dense"
         },
         {
          "length": 16,
          "values": [
           1.5491210373958715,
           1.1938260419078348,
           0.07205880363102068,
           -0.9026626671347036,
           -0.29681411056900553,
           -3.9207349218945904,
           0.5199122333765527,
           1.1369205965954012,
           1.8318741208185734,
           -0.652229636289246,
           -0.767509214947137,
           0.14298728861426405,
           0.12578229532488647,
           0.5933072092643994,
           0.4205548617832025,
           0.2639047170501688
          ],
          "vectorType": "dense"
         },
         {
          "indices": [
           0,
           1,
           2,
           3,
           4,
           5,
           6,
           7,
           8,
           9,
           10,
           11,
           12,
           13,
           14,
           15,
           16,
           27,
           28,
           50,
           53,
           56,
           65,
           69,
           76,
           82,
           83
          ],
          "length": 87,
          "values": [
           1.5491210373958715,
           1.1938260419078348,
           0.07205880363102068,
           -0.9026626671347036,
           -0.29681411056900553,
           -3.9207349218945904,
           0.5199122333765527,
           1.1369205965954012,
           1.8318741208185734,
           -0.652229636289246,
           -0.767509214947137,
           0.14298728861426405,
           0.12578229532488647,
           0.5933072092643994,
           0.4205548617832025,
           0.2639047170501688,
           1.0,
           1.0,
           1.0,
           1.0,
           1.0,
           1.0,
           1.0,
           1.0,
           1.0,
           1.0,
           2.0
          ],
          "vectorType": "sparse"
         },
         {
          "length": 2,
          "values": [
           0.21093072628627252,
           -0.21093072628627252
          ],
          "vectorType": "dense"
         },
         {
          "length": 2,
          "values": [
           0.5525380333494654,
           0.4474619666505346
          ],
          "vectorType": "dense"
         },
         0.0
        ],
        [
         12053221,
         1,
         2,
         "F9",
         12889,
         5,
         1747.0,
         1.0,
         1,
         23.0,
         10397,
         "2019-01-01",
         "N328FR",
         704,
         7.0,
         0.0,
         0.0,
         "large_airport",
         664.5,
         30.01,
         40.0,
         0.0,
         29.0,
         "SCT:04 90",
         30.02,
         9.94,
         360.0,
         0.0,
         null,
         "00",
         6.0,
         {
          "indices": [
           6
          ],
          "length": 11,
          "values": [
           1.0
          ],
          "vectorType": "sparse"
         },
         5.0,
         {
          "indices": [
           5
          ],
          "length": 6,
          "values": [
           1.0
          ],
          "vectorType": "sparse"
         },
         13.0,
         {
          "indices": [
           13
          ],
          "length": 19,
          "values": [
           1.0
          ],
          "vectorType": "sparse"
         },
         8.0,
         {
          "indices": [
           8
          ],
          "length": 372,
          "values": [
           1.0
          ],
          "vectorType": "sparse"
         },
         19.0,
         {
          "indices": [
           19
          ],
          "length": 23,
          "values": [
           1.0
          ],
          "vectorType": "sparse"
         },
         0.0,
         {
          "indices": [
           0
          ],
          "length": 3,
          "values": [
           1.0
          ],
          "vectorType": "sparse"
         },
         {
          "indices": [
           245,
           265
          ],
          "length": 269,
          "values": [
           1.0,
           1.0
          ],
          "vectorType": "sparse"
         },
         null,
         0,
         0,
         0,
         0,
         0,
         1,
         0,
         0,
         0,
         0,
         0,
         0,
         0,
         0,
         0,
         0,
         0,
         1,
         0,
         0,
         0,
         0,
         0,
         0,
         0,
         0,
         0,
         0,
         0,
         0,
         0,
         0,
         0,
         0,
         0,
         0,
         0,
         0,
         0,
         0,
         0,
         0,
         1,
         0,
         0,
         0,
         0,
         0,
         0,
         0,
         0,
         0,
         0,
         0,
         1,
         0,
         0,
         0,
         0,
         0,
         0,
         0,
         0,
         0,
         0,
         0,
         0,
         0,
         1,
         0,
         0,
         0,
         0.32653061224489793,
         0.28846153846153844,
         0.2777777777777778,
         1747.0,
         -120.0,
         0,
         1,
         0.0224622030237581,
         "2019",
         4.8895969657192,
         {
          "length": 16,
          "values": [
           1747.0,
           664.5,
           30.010000228881836,
           40.0,
           0.0,
           29.0,
           30.020000457763672,
           9.9399995803833,
           360.0,
           0.0,
           1747.0,
           4.8895969657192,
           0.0224622030237581,
           0.32653061224489793,
           0.28846153846153844,
           0.2777777777777778
          ],
          "vectorType": "dense"
         },
         {
          "length": 16,
          "values": [
           1.5491210373958715,
           1.1938260419078348,
           0.07205880363102068,
           -0.9026626671347036,
           -0.29681411056900553,
           -3.9207349218945904,
           0.5199122333765527,
           1.1369205965954012,
           1.8318741208185734,
           -0.652229636289246,
           1.5665061665242492,
           -3.2148547156111107,
           0.12578229532488647,
           0.5933072092643994,
           0.4205548617832025,
           0.2639047170501688
          ],
          "vectorType": "dense"
         },
         {
          "indices": [
           0,
           1,
           2,
           3,
           4,
           5,
           6,
           7,
           8,
           9,
           10,
           11,
           12,
           13,
           14,
           15,
           16,
           28,
           53,
           65,
           82,
           83
          ],
          "length": 87,
          "values": [
           1.5491210373958715,
           1.1938260419078348,
           0.07205880363102068,
           -0.9026626671347036,
           -0.29681411056900553,
           -3.9207349218945904,
           0.5199122333765527,
           1.1369205965954012,
           1.8318741208185734,
           -0.652229636289246,
           1.5665061665242492,
           -3.2148547156111107,
           0.12578229532488647,
           0.5933072092643994,
           0.4205548617832025,
           0.2639047170501688,
           1.0,
           1.0,
           1.0,
           1.0,
           1.0,
           1.0
          ],
          "vectorType": "sparse"
         },
         {
          "length": 2,
          "values": [
           0.21093072628627252,
           -0.21093072628627252
          ],
          "vectorType": "dense"
         },
         {
          "length": 2,
          "values": [
           0.5525380333494654,
           0.4474619666505346
          ],
          "vectorType": "dense"
         },
         0.0
        ],
        [
         12053222,
         1,
         2,
         "AA",
         12892,
         15,
         2342.0,
         0.0,
         1,
         3.0,
         13303,
         "2019-01-01",
         "N990AU",
         807,
         -3.0,
         0.0,
         0.0,
         "large_airport",
         29.6,
         29.95,
         54.0,
         0.0,
         17.0,
         "57",
         29.95,
         9.94,
         110.0,
         0.0,
         null,
         "00",
         6.0,
         {
          "indices": [
           6
          ],
          "length": 11,
          "values": [
           1.0
          ],
          "vectorType": "sparse"
         },
         5.0,
         {
          "indices": [
           5
          ],
          "length": 6,
          "values": [
           1.0
          ],
          "vectorType": "sparse"
         },
         2.0,
         {
          "indices": [
           2
          ],
          "length": 19,
          "values": [
           1.0
          ],
          "vectorType": "sparse"
         },
         4.0,
         {
          "indices": [
           4
          ],
          "length": 372,
          "values": [
           1.0
          ],
          "vectorType": "sparse"
         },
         19.0,
         {
          "indices": [
           19
          ],
          "length": 23,
          "values": [
           1.0
          ],
          "vectorType": "sparse"
         },
         0.0,
         {
          "indices": [
           0
          ],
          "length": 3,
          "values": [
           1.0
          ],
          "vectorType": "sparse"
         },
         {
          "indices": [
           197
          ],
          "length": 269,
          "values": [
           1.0
          ],
          "vectorType": "sparse"
         },
         null,
         0,
         0,
         0,
         0,
         0,
         1,
         0,
         0,
         0,
         0,
         0,
         0,
         0,
         0,
         0,
         0,
         0,
         1,
         0,
         0,
         0,
         0,
         0,
         0,
         0,
         0,
         0,
         0,
         0,
         0,
         0,
         0,
         0,
         0,
         0,
         0,
         0,
         0,
         0,
         0,
         0,
         0,
         1,
         0,
         0,
         0,
         0,
         0,
         0,
         1,
         0,
         0,
         0,
         0,
         0,
         0,
         0,
         0,
         0,
         0,
         0,
         0,
         0,
         0,
         0,
         0,
         0,
         0,
         1,
         0,
         0,
         0,
         0.24334600760456274,
         0.32558139534883723,
         0.2,
         1242.0,
         -3.0,
         0,
         1,
         0.03882618510158013,
         "2019",
         5.521060837840907,
         {
          "length": 16,
          "values": [
           2342.0,
           29.600000381469727,
           29.950000762939453,
           54.0,
           0.0,
           17.0,
           29.950000762939453,
           9.9399995803833,
           110.0,
           0.0,
           1242.0,
           5.521060837840907,
           0.03882618510158013,
           0.24334600760456274,
           0.32558139534883723,
           0.2
          ],
          "vectorType": "dense"
         },
         {
          "length": 16,
          "values": [
           2.5528183078210436,
           -0.5302769590219136,
           0.010676780332850987,
           -0.1184572323352305,
           -0.29681411056900553,
           -4.776228281798419,
           0.5141797683494741,
           1.1369205965954012,
           -0.3970249501202278,
           -0.652229636289246,
           0.7117724699012977,
           -0.07144557424155,
           0.9278424476937971,
           0.15730580947944547,
           0.591337549379707,
           -0.056217192052532554
          ],
          "vectorType": "dense"
         },
         {
          "indices": [
           0,
           1,
           2,
           3,
           4,
           5,
           6,
           7,
           8,
           9,
           10,
           11,
           12,
           13,
           14,
           15,
           16,
           28,
           53,
           60,
           82,
           83
          ],
          "length": 87,
          "values": [
           2.5528183078210436,
           -0.5302769590219136,
           0.010676780332850987,
           -0.1184572323352305,
           -0.29681411056900553,
           -4.776228281798419,
           0.5141797683494741,
           1.1369205965954012,
           -0.3970249501202278,
           -0.652229636289246,
           0.7117724699012977,
           -0.07144557424155,
           0.9278424476937971,
           0.15730580947944547,
           0.591337549379707,
           -0.056217192052532554,
           1.0,
           1.0,
           1.0,
           1.0,
           1.0,
           1.0
          ],
          "vectorType": "sparse"
         },
         {
          "length": 2,
          "values": [
           0.2824598360744759,
           -0.2824598360744759
          ],
          "vectorType": "dense"
         },
         {
          "length": 2,
          "values": [
           0.5701491820711609,
           0.42985081792883906
          ],
          "vectorType": "dense"
         },
         0.0
        ]
       ],
       "datasetInfos": [],
       "dbfsResultPath": null,
       "isJsonSchema": true,
       "metadata": {},
       "overflow": false,
       "plotOptions": {
        "customPlotOptions": {},
        "displayType": "table",
        "pivotAggregation": null,
        "pivotColumns": null,
        "xColumns": null,
        "yColumns": null
       },
       "removedWidgets": [],
       "schema": [
        {
         "metadata": "{}",
         "name": "index",
         "type": "\"integer\""
        },
        {
         "metadata": "{}",
         "name": "MONTH",
         "type": "\"integer\""
        },
        {
         "metadata": "{}",
         "name": "DAY_OF_WEEK",
         "type": "\"integer\""
        },
        {
         "metadata": "{}",
         "name": "OP_CARRIER",
         "type": "\"string\""
        },
        {
         "metadata": "{}",
         "name": "ORIGIN_AIRPORT_ID",
         "type": "\"integer\""
        },
        {
         "metadata": "{}",
         "name": "CRS_DEP_TIME",
         "type": "\"integer\""
        },
        {
         "metadata": "{}",
         "name": "DISTANCE",
         "type": "\"double\""
        },
        {
         "metadata": "{}",
         "name": "DEP_DEL15",
         "type": "\"double\""
        },
        {
         "metadata": "{}",
         "name": "QUARTER",
         "type": "\"integer\""
        },
        {
         "metadata": "{}",
         "name": "DEP_DELAY",
         "type": "\"double\""
        },
        {
         "metadata": "{}",
         "name": "DEST_AIRPORT_ID",
         "type": "\"integer\""
        },
        {
         "metadata": "{}",
         "name": "FL_DATE",
         "type": "\"string\""
        },
        {
         "metadata": "{}",
         "name": "TAIL_NUM",
         "type": "\"string\""
        },
        {
         "metadata": "{}",
         "name": "ARR_TIME",
         "type": "\"integer\""
        },
        {
         "metadata": "{}",
         "name": "ARR_DELAY",
         "type": "\"double\""
        },
        {
         "metadata": "{}",
         "name": "ARR_DEL15",
         "type": "\"double\""
        },
        {
         "metadata": "{}",
         "name": "CANCELLED",
         "type": "\"double\""
        },
        {
         "metadata": "{}",
         "name": "type",
         "type": "\"string\""
        },
        {
         "metadata": "{}",
         "name": "ELEVATION",
         "type": "\"float\""
        },
        {
         "metadata": "{}",
         "name": "HourlyAltimeterSetting",
         "type": "\"float\""
        },
        {
         "metadata": "{}",
         "name": "HourlyDryBulbTemperature",
         "type": "\"float\""
        },
        {
         "metadata": "{}",
         "name": "HourlyPrecipitation",
         "type": "\"float\""
        },
        {
         "metadata": "{}",
         "name": "HourlyRelativeHumidity",
         "type": "\"float\""
        },
        {
         "metadata": "{}",
         "name": "HourlySkyConditions",
         "type": "\"string\""
        },
        {
         "metadata": "{}",
         "name": "HourlySeaLevelPressure",
         "type": "\"float\""
        },
        {
         "metadata": "{}",
         "name": "HourlyVisibility",
         "type": "\"float\""
        },
        {
         "metadata": "{}",
         "name": "HourlyWindDirection",
         "type": "\"float\""
        },
        {
         "metadata": "{}",
         "name": "HourlyWindSpeed",
         "type": "\"float\""
        },
        {
         "metadata": "{}",
         "name": "HourlyPresentWeatherType",
         "type": "\"string\""
        },
        {
         "metadata": "{}",
         "name": "HOUR",
         "type": "\"string\""
        },
        {
         "metadata": "{\"ml_attr\":{\"vals\":[\"3\",\"8\",\"7\",\"10\",\"12\",\"6\",\"1\",\"11\",\"9\",\"5\",\"4\",\"2\"],\"type\":\"nominal\",\"name\":\"MONTH_indexed\"}}",
         "name": "MONTH_indexed",
         "type": "\"double\""
        },
        {
         "metadata": "{\"ml_attr\":{\"attrs\":{\"binary\":[{\"idx\":0,\"name\":\"3\"},{\"idx\":1,\"name\":\"8\"},{\"idx\":2,\"name\":\"7\"},{\"idx\":3,\"name\":\"10\"},{\"idx\":4,\"name\":\"12\"},{\"idx\":5,\"name\":\"6\"},{\"idx\":6,\"name\":\"1\"},{\"idx\":7,\"name\":\"11\"},{\"idx\":8,\"name\":\"9\"},{\"idx\":9,\"name\":\"5\"},{\"idx\":10,\"name\":\"4\"}]},\"num_attrs\":11}}",
         "name": "MONTH_vec",
         "type": "{\"type\":\"udt\",\"class\":\"org.apache.spark.ml.linalg.VectorUDT\",\"pyClass\":\"pyspark.ml.linalg.VectorUDT\",\"sqlType\":{\"type\":\"struct\",\"fields\":[{\"name\":\"type\",\"type\":\"byte\",\"nullable\":false,\"metadata\":{}},{\"name\":\"size\",\"type\":\"integer\",\"nullable\":true,\"metadata\":{}},{\"name\":\"indices\",\"type\":{\"type\":\"array\",\"elementType\":\"integer\",\"containsNull\":false},\"nullable\":true,\"metadata\":{}},{\"name\":\"values\",\"type\":{\"type\":\"array\",\"elementType\":\"double\",\"containsNull\":false},\"nullable\":true,\"metadata\":{}}]}}"
        },
        {
         "metadata": "{\"ml_attr\":{\"vals\":[\"5\",\"1\",\"4\",\"3\",\"7\",\"2\",\"6\"],\"type\":\"nominal\",\"name\":\"DAY_OF_WEEK_indexed\"}}",
         "name": "DAY_OF_WEEK_indexed",
         "type": "\"double\""
        },
        {
         "metadata": "{\"ml_attr\":{\"attrs\":{\"binary\":[{\"idx\":0,\"name\":\"5\"},{\"idx\":1,\"name\":\"1\"},{\"idx\":2,\"name\":\"4\"},{\"idx\":3,\"name\":\"3\"},{\"idx\":4,\"name\":\"7\"},{\"idx\":5,\"name\":\"2\"}]},\"num_attrs\":6}}",
         "name": "DAY_OF_WEEK_vec",
         "type": "{\"type\":\"udt\",\"class\":\"org.apache.spark.ml.linalg.VectorUDT\",\"pyClass\":\"pyspark.ml.linalg.VectorUDT\",\"sqlType\":{\"type\":\"struct\",\"fields\":[{\"name\":\"type\",\"type\":\"byte\",\"nullable\":false,\"metadata\":{}},{\"name\":\"size\",\"type\":\"integer\",\"nullable\":true,\"metadata\":{}},{\"name\":\"indices\",\"type\":{\"type\":\"array\",\"elementType\":\"integer\",\"containsNull\":false},\"nullable\":true,\"metadata\":{}},{\"name\":\"values\",\"type\":{\"type\":\"array\",\"elementType\":\"double\",\"containsNull\":false},\"nullable\":true,\"metadata\":{}}]}}"
        },
        {
         "metadata": "{\"ml_attr\":{\"vals\":[\"WN\",\"DL\",\"AA\",\"OO\",\"UA\",\"EV\",\"B6\",\"MQ\",\"AS\",\"YX\",\"NK\",\"OH\",\"9E\",\"F9\",\"YV\",\"G4\",\"VX\",\"US\",\"QX\",\"HA\"],\"type\":\"nominal\",\"name\":\"OP_CARRIER_indexed\"}}",
         "name": "OP_CARRIER_indexed",
         "type": "\"double\""
        },
        {
         "metadata": "{\"ml_attr\":{\"attrs\":{\"binary\":[{\"idx\":0,\"name\":\"WN\"},{\"idx\":1,\"name\":\"DL\"},{\"idx\":2,\"name\":\"AA\"},{\"idx\":3,\"name\":\"OO\"},{\"idx\":4,\"name\":\"UA\"},{\"idx\":5,\"name\":\"EV\"},{\"idx\":6,\"name\":\"B6\"},{\"idx\":7,\"name\":\"MQ\"},{\"idx\":8,\"name\":\"AS\"},{\"idx\":9,\"name\":\"YX\"},{\"idx\":10,\"name\":\"NK\"},{\"idx\":11,\"name\":\"OH\"},{\"idx\":12,\"name\":\"9E\"},{\"idx\":13,\"name\":\"F9\"},{\"idx\":14,\"name\":\"YV\"},{\"idx\":15,\"name\":\"G4\"},{\"idx\":16,\"name\":\"VX\"},{\"idx\":17,\"name\":\"US\"},{\"idx\":18,\"name\":\"QX\"}]},\"num_attrs\":19}}",
         "name": "OP_CARRIER_vec",
         "type": "{\"type\":\"udt\",\"class\":\"org.apache.spark.ml.linalg.VectorUDT\",\"pyClass\":\"pyspark.ml.linalg.VectorUDT\",\"sqlType\":{\"type\":\"struct\",\"fields\":[{\"name\":\"type\",\"type\":\"byte\",\"nullable\":false,\"metadata\":{}},{\"name\":\"size\",\"type\":\"integer\",\"nullable\":true,\"metadata\":{}},{\"name\":\"indices\",\"type\":{\"type\":\"array\",\"elementType\":\"integer\",\"containsNull\":false},\"nullable\":true,\"metadata\":{}},{\"name\":\"values\",\"type\":{\"type\":\"array\",\"elementType\":\"double\",\"containsNull\":false},\"nullable\":true,\"metadata\":{}}]}}"
        },
        {
         "metadata": "{\"ml_attr\":{\"vals\":[\"10397\",\"13930\",\"11298\",\"11292\",\"12892\",\"11057\",\"14107\",\"14771\",\"12889\",\"12266\",\"14747\",\"13487\",\"11433\",\"13204\",\"10721\",\"12953\",\"11618\",\"14869\",\"12478\",\"11278\",\"10821\",\"14100\",\"11697\",\"13232\",\"14679\",\"13303\",\"15304\",\"11259\",\"10693\",\"15016\",\"14057\",\"10423\",\"12191\",\"12264\",\"14831\",\"13796\",\"13495\",\"13198\",\"14492\",\"14893\",\"14908\",\"11042\",\"12339\",\"14122\",\"14683\",\"14635\",\"11066\",\"11193\",\"13342\",\"10800\",\"12451\",\"14027\",\"10529\",\"13871\",\"13891\",\"10140\",\"10792\",\"13851\",\"10994\",\"13244\",\"14524\",\"10713\",\"10299\",\"14570\",\"15376\",\"14730\",\"13931\",\"15370\",\"10599\",\"11986\",\"14307\",\"11540\",\"12954\",\"11884\",\"14685\",\"11423\",\"15412\",\"14262\",\"12992\",\"13485\",\"11996\",\"10257\",\"14576\",\"11638\",\"13577\",\"15919\",\"14193\",\"11267\",\"11109\",\"15096\",\"12278\",\"11995\",\"14321\",\"12197\",\"13158\",\"11003\",\"14986\",\"15624\",\"12945\",\"13296\",\"10781\",\"12448\",\"12217\",\"10849\",\"14689\",\"14783\",\"10431\",\"11481\",\"11775\",\"10980\",\"14814\",\"11823\",\"14696\",\"10785\",\"14761\",\"10868\",\"12896\",\"10372\",\"10874\",\"11637\",\"11603\",\"12391\",\"13422\",\"11624\",\"11977\",\"13230\",\"12323\",\"12441\",\"15249\",\"13264\",\"14112\",\"11140\",\"12523\",\"10279\",\"14457\",\"14489\",\"14698\",\"12951\",\"14108\",\"10620\",\"13367\",\"11721\",\"10408\",\"13256\",\"14252\",\"11921\",\"11973\",\"15380\",\"11630\",\"10135\",\"10627\",\"10208\",\"10990\",\"13486\",\"11953\",\"13476\",\"11612\",\"12206\",\"14082\",\"10158\",\"10466\",\"11146\",\"11648\",\"13277\",\"10185\",\"11982\",\"14794\",\"13377\",\"11413\",\"11641\",\"11252\",\"12884\",\"14633\",\"12280\",\"10685\",\"10561\",\"11337\",\"15323\",\"15356\",\"12819\",\"10434\",\"10581\",\"13029\",\"13433\",\"10469\",\"14574\",\"13184\",\"13795\",\"13061\",\"10747\",\"12003\",\"13360\",\"11503\",\"11203\",\"11049\",\"13076\",\"11695\",\"16218\",\"13502\",\"11778\",\"10136\",\"15023\",\"12915\",\"12156\",\"14098\",\"11067\",\"14674\",\"10157\",\"11898\",\"14952\",\"14842\",\"15041\",\"10155\",\"11122\",\"10666\",\"11617\",\"11111\",\"13290\",\"11308\",\"14828\",\"12094\",\"15411\",\"12124\",\"11150\",\"14711\",\"12891\",\"15389\",\"11537\",\"15070\",\"12898\",\"14487\",\"13459\",\"15295\",\"12007\",\"14960\",\"15607\",\"14150\",\"14113\",\"12519\",\"14588\",\"10731\",\"11577\",\"10146\",\"13241\",\"15401\",\"11865\",\"14520\",\"10154\",\"10551\",\"12255\",\"13127\",\"14006\",\"14709\",\"14025\",\"11980\",\"13933\",\"12511\",\"10141\",\"11097\",\"12129\",\"10728\",\"10631\",\"14256\",\"15841\",\"11076\",\"15991\",\"10926\",\"10754\",\"11471\",\"15048\",\"13344\",\"11013\",\"12397\",\"12335\",\"10779\",\"10577\",\"12544\",\"14543\",\"14109\",\"13970\",\"13873\",\"10676\",\"11905\",\"11525\",\"10739\",\"12343\",\"11587\",\"14004\",\"10333\",\"12888\",\"12917\",\"10170\",\"10918\",\"11447\",\"11867\",\"11274\",\"12177\",\"12265\",\"10268\",\"14288\",\"11027\",\"14716\",\"13541\",\"14877\",\"14512\",\"14314\",\"10967\",\"13139\",\"15074\",\"14802\",\"12244\",\"12223\",\"11092\",\"12012\",\"11468\",\"12899\",\"14237\",\"10558\",\"13121\",\"12902\",\"15582\",\"13964\",\"14905\",\"13832\",\"11415\",\"15897\",\"14120\",\"10409\",\"15454\",\"11315\",\"14259\",\"13388\",\"14812\",\"11283\",\"11288\",\"14534\",\"11336\",\"10245\",\"14092\",\"14303\",\"11233\",\"11470\",\"10275\",\"16101\",\"10165\",\"10272\",\"12559\",\"15569\",\"12119\",\"15008\",\"11041\",\"12250\",\"11997\",\"13211\",\"11725\",\"10643\",\"13829\",\"15497\",\"13983\",\"10590\",\"10361\",\"10917\",\"12320\",\"10562\",\"10930\",\"11699\",\"15138\",\"12365\",\"10617\",\"16133\",\"11495\",\"11563\",\"15235\"],\"type\":\"nominal\",\"name\":\"ORIGIN_AIRPORT_ID_indexed\"}}",
         "name": "ORIGIN_AIRPORT_ID_indexed",
         "type": "\"double\""
        },
        {
         "metadata": "{\"ml_attr\":{\"attrs\":{\"binary\":[{\"idx\":0,\"name\":\"10397\"},{\"idx\":1,\"name\":\"13930\"},{\"idx\":2,\"name\":\"11298\"},{\"idx\":3,\"name\":\"11292\"},{\"idx\":4,\"name\":\"12892\"},{\"idx\":5,\"name\":\"11057\"},{\"idx\":6,\"name\":\"14107\"},{\"idx\":7,\"name\":\"14771\"},{\"idx\":8,\"name\":\"12889\"},{\"idx\":9,\"name\":\"12266\"},{\"idx\":10,\"name\":\"14747\"},{\"idx\":11,\"name\":\"13487\"},{\"idx\":12,\"name\":\"11433\"},{\"idx\":13,\"name\":\"13204\"},{\"idx\":14,\"name\":\"10721\"},{\"idx\":15,\"name\":\"12953\"},{\"idx\":16,\"name\":\"11618\"},{\"idx\":17,\"name\":\"14869\"},{\"idx\":18,\"name\":\"12478\"},{\"idx\":19,\"name\":\"11278\"},{\"idx\":20,\"name\":\"10821\"},{\"idx\":21,\"name\":\"14100\"},{\"idx\":22,\"name\":\"11697\"},{\"idx\":23,\"name\":\"13232\"},{\"idx\":24,\"name\":\"14679\"},{\"idx\":25,\"name\":\"13303\"},{\"idx\":26,\"name\":\"15304\"},{\"idx\":27,\"name\":\"11259\"},{\"idx\":28,\"name\":\"10693\"},{\"idx\":29,\"name\":\"15016\"},{\"idx\":30,\"name\":\"14057\"},{\"idx\":31,\"name\":\"10423\"},{\"idx\":32,\"name\":\"12191\"},{\"idx\":33,\"name\":\"12264\"},{\"idx\":34,\"name\":\"14831\"},{\"idx\":35,\"name\":\"13796\"},{\"idx\":36,\"name\":\"13495\"},{\"idx\":37,\"name\":\"13198\"},{\"idx\":38,\"name\":\"14492\"},{\"idx\":39,\"name\":\"14893\"},{\"idx\":40,\"name\":\"14908\"},{\"idx\":41,\"name\":\"11042\"},{\"idx\":42,\"name\":\"12339\"},{\"idx\":43,\"name\":\"14122\"},{\"idx\":44,\"name\":\"14683\"},{\"idx\":45,\"name\":\"14635\"},{\"idx\":46,\"name\":\"11066\"},{\"idx\":47,\"name\":\"11193\"},{\"idx\":48,\"name\":\"13342\"},{\"idx\":49,\"name\":\"10800\"},{\"idx\":50,\"name\":\"12451\"},{\"idx\":51,\"name\":\"14027\"},{\"idx\":52,\"name\":\"10529\"},{\"idx\":53,\"name\":\"13871\"},{\"idx\":54,\"name\":\"13891\"},{\"idx\":55,\"name\":\"10140\"},{\"idx\":56,\"name\":\"10792\"},{\"idx\":57,\"name\":\"13851\"},{\"idx\":58,\"name\":\"10994\"},{\"idx\":59,\"name\":\"13244\"},{\"idx\":60,\"name\":\"14524\"},{\"idx\":61,\"name\":\"10713\"},{\"idx\":62,\"name\":\"10299\"},{\"idx\":63,\"name\":\"14570\"},{\"idx\":64,\"name\":\"15376\"},{\"idx\":65,\"name\":\"14730\"},{\"idx\":66,\"name\":\"13931\"},{\"idx\":67,\"name\":\"15370\"},{\"idx\":68,\"name\":\"10599\"},{\"idx\":69,\"name\":\"11986\"},{\"idx\":70,\"name\":\"14307\"},{\"idx\":71,\"name\":\"11540\"},{\"idx\":72,\"name\":\"12954\"},{\"idx\":73,\"name\":\"11884\"},{\"idx\":74,\"name\":\"14685\"},{\"idx\":75,\"name\":\"11423\"},{\"idx\":76,\"name\":\"15412\"},{\"idx\":77,\"name\":\"14262\"},{\"idx\":78,\"name\":\"12992\"},{\"idx\":79,\"name\":\"13485\"},{\"idx\":80,\"name\":\"11996\"},{\"idx\":81,\"name\":\"10257\"},{\"idx\":82,\"name\":\"14576\"},{\"idx\":83,\"name\":\"11638\"},{\"idx\":84,\"name\":\"13577\"},{\"idx\":85,\"name\":\"15919\"},{\"idx\":86,\"name\":\"14193\"},{\"idx\":87,\"name\":\"11267\"},{\"idx\":88,\"name\":\"11109\"},{\"idx\":89,\"name\":\"15096\"},{\"idx\":90,\"name\":\"12278\"},{\"idx\":91,\"name\":\"11995\"},{\"idx\":92,\"name\":\"14321\"},{\"idx\":93,\"name\":\"12197\"},{\"idx\":94,\"name\":\"13158\"},{\"idx\":95,\"name\":\"11003\"},{\"idx\":96,\"name\":\"14986\"},{\"idx\":97,\"name\":\"15624\"},{\"idx\":98,\"name\":\"12945\"},{\"idx\":99,\"name\":\"13296\"},{\"idx\":100,\"name\":\"10781\"},{\"idx\":101,\"name\":\"12448\"},{\"idx\":102,\"name\":\"12217\"},{\"idx\":103,\"name\":\"10849\"},{\"idx\":104,\"name\":\"14689\"},{\"idx\":105,\"name\":\"14783\"},{\"idx\":106,\"name\":\"10431\"},{\"idx\":107,\"name\":\"11481\"},{\"idx\":108,\"name\":\"11775\"},{\"idx\":109,\"name\":\"10980\"},{\"idx\":110,\"name\":\"14814\"},{\"idx\":111,\"name\":\"11823\"},{\"idx\":112,\"name\":\"14696\"},{\"idx\":113,\"name\":\"10785\"},{\"idx\":114,\"name\":\"14761\"},{\"idx\":115,\"name\":\"10868\"},{\"idx\":116,\"name\":\"12896\"},{\"idx\":117,\"name\":\"10372\"},{\"idx\":118,\"name\":\"10874\"},{\"idx\":119,\"name\":\"11637\"},{\"idx\":120,\"name\":\"11603\"},{\"idx\":121,\"name\":\"12391\"},{\"idx\":122,\"name\":\"13422\"},{\"idx\":123,\"name\":\"11624\"},{\"idx\":124,\"name\":\"11977\"},{\"idx\":125,\"name\":\"13230\"},{\"idx\":126,\"name\":\"12323\"},{\"idx\":127,\"name\":\"12441\"},{\"idx\":128,\"name\":\"15249\"},{\"idx\":129,\"name\":\"13264\"},{\"idx\":130,\"name\":\"14112\"},{\"idx\":131,\"name\":\"11140\"},{\"idx\":132,\"name\":\"12523\"},{\"idx\":133,\"name\":\"10279\"},{\"idx\":134,\"name\":\"14457\"},{\"idx\":135,\"name\":\"14489\"},{\"idx\":136,\"name\":\"14698\"},{\"idx\":137,\"name\":\"12951\"},{\"idx\":138,\"name\":\"14108\"},{\"idx\":139,\"name\":\"10620\"},{\"idx\":140,\"name\":\"13367\"},{\"idx\":141,\"name\":\"11721\"},{\"idx\":142,\"name\":\"10408\"},{\"idx\":143,\"name\":\"13256\"},{\"idx\":144,\"name\":\"14252\"},{\"idx\":145,\"name\":\"11921\"},{\"idx\":146,\"name\":\"11973\"},{\"idx\":147,\"name\":\"15380\"},{\"idx\":148,\"name\":\"11630\"},{\"idx\":149,\"name\":\"10135\"},{\"idx\":150,\"name\":\"10627\"},{\"idx\":151,\"name\":\"10208\"},{\"idx\":152,\"name\":\"10990\"},{\"idx\":153,\"name\":\"13486\"},{\"idx\":154,\"name\":\"11953\"},{\"idx\":155,\"name\":\"13476\"},{\"idx\":156,\"name\":\"11612\"},{\"idx\":157,\"name\":\"12206\"},{\"idx\":158,\"name\":\"14082\"},{\"idx\":159,\"name\":\"10158\"},{\"idx\":160,\"name\":\"10466\"},{\"idx\":161,\"name\":\"11146\"},{\"idx\":162,\"name\":\"11648\"},{\"idx\":163,\"name\":\"13277\"},{\"idx\":164,\"name\":\"10185\"},{\"idx\":165,\"name\":\"11982\"},{\"idx\":166,\"name\":\"14794\"},{\"idx\":167,\"name\":\"13377\"},{\"idx\":168,\"name\":\"11413\"},{\"idx\":169,\"name\":\"11641\"},{\"idx\":170,\"name\":\"11252\"},{\"idx\":171,\"name\":\"12884\"},{\"idx\":172,\"name\":\"14633\"},{\"idx\":173,\"name\":\"12280\"},{\"idx\":174,\"name\":\"10685\"},{\"idx\":175,\"name\":\"10561\"},{\"idx\":176,\"name\":\"11337\"},{\"idx\":177,\"name\":\"15323\"},{\"idx\":178,\"name\":\"15356\"},{\"idx\":179,\"name\":\"12819\"},{\"idx\":180,\"name\":\"10434\"},{\"idx\":181,\"name\":\"10581\"},{\"idx\":182,\"name\":\"13029\"},{\"idx\":183,\"name\":\"13433\"},{\"idx\":184,\"name\":\"10469\"},{\"idx\":185,\"name\":\"14574\"},{\"idx\":186,\"name\":\"13184\"},{\"idx\":187,\"name\":\"13795\"},{\"idx\":188,\"name\":\"13061\"},{\"idx\":189,\"name\":\"10747\"},{\"idx\":190,\"name\":\"12003\"},{\"idx\":191,\"name\":\"13360\"},{\"idx\":192,\"name\":\"11503\"},{\"idx\":193,\"name\":\"11203\"},{\"idx\":194,\"name\":\"11049\"},{\"idx\":195,\"name\":\"13076\"},{\"idx\":196,\"name\":\"11695\"},{\"idx\":197,\"name\":\"16218\"},{\"idx\":198,\"name\":\"13502\"},{\"idx\":199,\"name\":\"11778\"},{\"idx\":200,\"name\":\"10136\"},{\"idx\":201,\"name\":\"15023\"},{\"idx\":202,\"name\":\"12915\"},{\"idx\":203,\"name\":\"12156\"},{\"idx\":204,\"name\":\"14098\"},{\"idx\":205,\"name\":\"11067\"},{\"idx\":206,\"name\":\"14674\"},{\"idx\":207,\"name\":\"10157\"},{\"idx\":208,\"name\":\"11898\"},{\"idx\":209,\"name\":\"14952\"},{\"idx\":210,\"name\":\"14842\"},{\"idx\":211,\"name\":\"15041\"},{\"idx\":212,\"name\":\"10155\"},{\"idx\":213,\"name\":\"11122\"},{\"idx\":214,\"name\":\"10666\"},{\"idx\":215,\"name\":\"11617\"},{\"idx\":216,\"name\":\"11111\"},{\"idx\":217,\"name\":\"13290\"},{\"idx\":218,\"name\":\"11308\"},{\"idx\":219,\"name\":\"14828\"},{\"idx\":220,\"name\":\"12094\"},{\"idx\":221,\"name\":\"15411\"},{\"idx\":222,\"name\":\"12124\"},{\"idx\":223,\"name\":\"11150\"},{\"idx\":224,\"name\":\"14711\"},{\"idx\":225,\"name\":\"12891\"},{\"idx\":226,\"name\":\"15389\"},{\"idx\":227,\"name\":\"11537\"},{\"idx\":228,\"name\":\"15070\"},{\"idx\":229,\"name\":\"12898\"},{\"idx\":230,\"name\":\"14487\"},{\"idx\":231,\"name\":\"13459\"},{\"idx\":232,\"name\":\"15295\"},{\"idx\":233,\"name\":\"12007\"},{\"idx\":234,\"name\":\"14960\"},{\"idx\":235,\"name\":\"15607\"},{\"idx\":236,\"name\":\"14150\"},{\"idx\":237,\"name\":\"14113\"},{\"idx\":238,\"name\":\"12519\"},{\"idx\":239,\"name\":\"14588\"},{\"idx\":240,\"name\":\"10731\"},{\"idx\":241,\"name\":\"11577\"},{\"idx\":242,\"name\":\"10146\"},{\"idx\":243,\"name\":\"13241\"},{\"idx\":244,\"name\":\"15401\"},{\"idx\":245,\"name\":\"11865\"},{\"idx\":246,\"name\":\"14520\"},{\"idx\":247,\"name\":\"10154\"},{\"idx\":248,\"name\":\"10551\"},{\"idx\":249,\"name\":\"12255\"},{\"idx\":250,\"name\":\"13127\"},{\"idx\":251,\"name\":\"14006\"},{\"idx\":252,\"name\":\"14709\"},{\"idx\":253,\"name\":\"14025\"},{\"idx\":254,\"name\":\"11980\"},{\"idx\":255,\"name\":\"13933\"},{\"idx\":256,\"name\":\"12511\"},{\"idx\":257,\"name\":\"10141\"},{\"idx\":258,\"name\":\"11097\"},{\"idx\":259,\"name\":\"12129\"},{\"idx\":260,\"name\":\"10728\"},{\"idx\":261,\"name\":\"10631\"},{\"idx\":262,\"name\":\"14256\"},{\"idx\":263,\"name\":\"15841\"},{\"idx\":264,\"name\":\"11076\"},{\"idx\":265,\"name\":\"15991\"},{\"idx\":266,\"name\":\"10926\"},{\"idx\":267,\"name\":\"10754\"},{\"idx\":268,\"name\":\"11471\"},{\"idx\":269,\"name\":\"15048\"},{\"idx\":270,\"name\":\"13344\"},{\"idx\":271,\"name\":\"11013\"},{\"idx\":272,\"name\":\"12397\"},{\"idx\":273,\"name\":\"12335\"},{\"idx\":274,\"name\":\"10779\"},{\"idx\":275,\"name\":\"10577\"},{\"idx\":276,\"name\":\"12544\"},{\"idx\":277,\"name\":\"14543\"},{\"idx\":278,\"name\":\"14109\"},{\"idx\":279,\"name\":\"13970\"},{\"idx\":280,\"name\":\"13873\"},{\"idx\":281,\"name\":\"10676\"},{\"idx\":282,\"name\":\"11905\"},{\"idx\":283,\"name\":\"11525\"},{\"idx\":284,\"name\":\"10739\"},{\"idx\":285,\"name\":\"12343\"},{\"idx\":286,\"name\":\"11587\"},{\"idx\":287,\"name\":\"14004\"},{\"idx\":288,\"name\":\"10333\"},{\"idx\":289,\"name\":\"12888\"},{\"idx\":290,\"name\":\"12917\"},{\"idx\":291,\"name\":\"10170\"},{\"idx\":292,\"name\":\"10918\"},{\"idx\":293,\"name\":\"11447\"},{\"idx\":294,\"name\":\"11867\"},{\"idx\":295,\"name\":\"11274\"},{\"idx\":296,\"name\":\"12177\"},{\"idx\":297,\"name\":\"12265\"},{\"idx\":298,\"name\":\"10268\"},{\"idx\":299,\"name\":\"14288\"},{\"idx\":300,\"name\":\"11027\"},{\"idx\":301,\"name\":\"14716\"},{\"idx\":302,\"name\":\"13541\"},{\"idx\":303,\"name\":\"14877\"},{\"idx\":304,\"name\":\"14512\"},{\"idx\":305,\"name\":\"14314\"},{\"idx\":306,\"name\":\"10967\"},{\"idx\":307,\"name\":\"13139\"},{\"idx\":308,\"name\":\"15074\"},{\"idx\":309,\"name\":\"14802\"},{\"idx\":310,\"name\":\"12244\"},{\"idx\":311,\"name\":\"12223\"},{\"idx\":312,\"name\":\"11092\"},{\"idx\":313,\"name\":\"12012\"},{\"idx\":314,\"name\":\"11468\"},{\"idx\":315,\"name\":\"12899\"},{\"idx\":316,\"name\":\"14237\"},{\"idx\":317,\"name\":\"10558\"},{\"idx\":318,\"name\":\"13121\"},{\"idx\":319,\"name\":\"12902\"},{\"idx\":320,\"name\":\"15582\"},{\"idx\":321,\"name\":\"13964\"},{\"idx\":322,\"name\":\"14905\"},{\"idx\":323,\"name\":\"13832\"},{\"idx\":324,\"name\":\"11415\"},{\"idx\":325,\"name\":\"15897\"},{\"idx\":326,\"name\":\"14120\"},{\"idx\":327,\"name\":\"10409\"},{\"idx\":328,\"name\":\"15454\"},{\"idx\":329,\"name\":\"11315\"},{\"idx\":330,\"name\":\"14259\"},{\"idx\":331,\"name\":\"13388\"},{\"idx\":332,\"name\":\"14812\"},{\"idx\":333,\"name\":\"11283\"},{\"idx\":334,\"name\":\"11288\"},{\"idx\":335,\"name\":\"14534\"},{\"idx\":336,\"name\":\"11336\"},{\"idx\":337,\"name\":\"10245\"},{\"idx\":338,\"name\":\"14092\"},{\"idx\":339,\"name\":\"14303\"},{\"idx\":340,\"name\":\"11233\"},{\"idx\":341,\"name\":\"11470\"},{\"idx\":342,\"name\":\"10275\"},{\"idx\":343,\"name\":\"16101\"},{\"idx\":344,\"name\":\"10165\"},{\"idx\":345,\"name\":\"10272\"},{\"idx\":346,\"name\":\"12559\"},{\"idx\":347,\"name\":\"15569\"},{\"idx\":348,\"name\":\"12119\"},{\"idx\":349,\"name\":\"15008\"},{\"idx\":350,\"name\":\"11041\"},{\"idx\":351,\"name\":\"12250\"},{\"idx\":352,\"name\":\"11997\"},{\"idx\":353,\"name\":\"13211\"},{\"idx\":354,\"name\":\"11725\"},{\"idx\":355,\"name\":\"10643\"},{\"idx\":356,\"name\":\"13829\"},{\"idx\":357,\"name\":\"15497\"},{\"idx\":358,\"name\":\"13983\"},{\"idx\":359,\"name\":\"10590\"},{\"idx\":360,\"name\":\"10361\"},{\"idx\":361,\"name\":\"10917\"},{\"idx\":362,\"name\":\"12320\"},{\"idx\":363,\"name\":\"10562\"},{\"idx\":364,\"name\":\"10930\"},{\"idx\":365,\"name\":\"11699\"},{\"idx\":366,\"name\":\"15138\"},{\"idx\":367,\"name\":\"12365\"},{\"idx\":368,\"name\":\"10617\"},{\"idx\":369,\"name\":\"16133\"},{\"idx\":370,\"name\":\"11495\"},{\"idx\":371,\"name\":\"11563\"}]},\"num_attrs\":372}}",
         "name": "ORIGIN_AIRPORT_ID_vec",
         "type": "{\"type\":\"udt\",\"class\":\"org.apache.spark.ml.linalg.VectorUDT\",\"pyClass\":\"pyspark.ml.linalg.VectorUDT\",\"sqlType\":{\"type\":\"struct\",\"fields\":[{\"name\":\"type\",\"type\":\"byte\",\"nullable\":false,\"metadata\":{}},{\"name\":\"size\",\"type\":\"integer\",\"nullable\":true,\"metadata\":{}},{\"name\":\"indices\",\"type\":{\"type\":\"array\",\"elementType\":\"integer\",\"containsNull\":false},\"nullable\":true,\"metadata\":{}},{\"name\":\"values\",\"type\":{\"type\":\"array\",\"elementType\":\"double\",\"containsNull\":false},\"nullable\":true,\"metadata\":{}}]}}"
        },
        {
         "metadata": "{\"ml_attr\":{\"vals\":[\"06\",\"07\",\"08\",\"17\",\"11\",\"10\",\"12\",\"15\",\"09\",\"13\",\"18\",\"16\",\"14\",\"19\",\"20\",\"21\",\"22\",\"05\",\"23\",\"00\",\"01\",\"02\",\"04\",\"03\"],\"type\":\"nominal\",\"name\":\"HOUR_indexed\"}}",
         "name": "HOUR_indexed",
         "type": "\"double\""
        },
        {
         "metadata": "{\"ml_attr\":{\"attrs\":{\"binary\":[{\"idx\":0,\"name\":\"06\"},{\"idx\":1,\"name\":\"07\"},{\"idx\":2,\"name\":\"08\"},{\"idx\":3,\"name\":\"17\"},{\"idx\":4,\"name\":\"11\"},{\"idx\":5,\"name\":\"10\"},{\"idx\":6,\"name\":\"12\"},{\"idx\":7,\"name\":\"15\"},{\"idx\":8,\"name\":\"09\"},{\"idx\":9,\"name\":\"13\"},{\"idx\":10,\"name\":\"18\"},{\"idx\":11,\"name\":\"16\"},{\"idx\":12,\"name\":\"14\"},{\"idx\":13,\"name\":\"19\"},{\"idx\":14,\"name\":\"20\"},{\"idx\":15,\"name\":\"21\"},{\"idx\":16,\"name\":\"22\"},{\"idx\":17,\"name\":\"05\"},{\"idx\":18,\"name\":\"23\"},{\"idx\":19,\"name\":\"00\"},{\"idx\":20,\"name\":\"01\"},{\"idx\":21,\"name\":\"02\"},{\"idx\":22,\"name\":\"04\"}]},\"num_attrs\":23}}",
         "name": "HOUR_vec",
         "type": "{\"type\":\"udt\",\"class\":\"org.apache.spark.ml.linalg.VectorUDT\",\"pyClass\":\"pyspark.ml.linalg.VectorUDT\",\"sqlType\":{\"type\":\"struct\",\"fields\":[{\"name\":\"type\",\"type\":\"byte\",\"nullable\":false,\"metadata\":{}},{\"name\":\"size\",\"type\":\"integer\",\"nullable\":true,\"metadata\":{}},{\"name\":\"indices\",\"type\":{\"type\":\"array\",\"elementType\":\"integer\",\"containsNull\":false},\"nullable\":true,\"metadata\":{}},{\"name\":\"values\",\"type\":{\"type\":\"array\",\"elementType\":\"double\",\"containsNull\":false},\"nullable\":true,\"metadata\":{}}]}}"
        },
        {
         "metadata": "{\"ml_attr\":{\"vals\":[\"large_airport\",\"medium_airport\",\"small_airport\",\"seaplane_base\"],\"type\":\"nominal\",\"name\":\"type_indexed\"}}",
         "name": "type_indexed",
         "type": "\"double\""
        },
        {
         "metadata": "{\"ml_attr\":{\"attrs\":{\"binary\":[{\"idx\":0,\"name\":\"large_airport\"},{\"idx\":1,\"name\":\"medium_airport\"},{\"idx\":2,\"name\":\"small_airport\"}]},\"num_attrs\":3}}",
         "name": "type_vec",
         "type": "{\"type\":\"udt\",\"class\":\"org.apache.spark.ml.linalg.VectorUDT\",\"pyClass\":\"pyspark.ml.linalg.VectorUDT\",\"sqlType\":{\"type\":\"struct\",\"fields\":[{\"name\":\"type\",\"type\":\"byte\",\"nullable\":false,\"metadata\":{}},{\"name\":\"size\",\"type\":\"integer\",\"nullable\":true,\"metadata\":{}},{\"name\":\"indices\",\"type\":{\"type\":\"array\",\"elementType\":\"integer\",\"containsNull\":false},\"nullable\":true,\"metadata\":{}},{\"name\":\"values\",\"type\":{\"type\":\"array\",\"elementType\":\"double\",\"containsNull\":false},\"nullable\":true,\"metadata\":{}}]}}"
        },
        {
         "metadata": "{\"ml_attr\":{\"attrs\":{\"numeric\":[{\"idx\":0,\"name\":\"0\"},{\"idx\":1,\"name\":\"1\"},{\"idx\":2,\"name\":\"10\"},{\"idx\":3,\"name\":\"100\"},{\"idx\":4,\"name\":\"100s\"},{\"idx\":5,\"name\":\"104\"},{\"idx\":6,\"name\":\"105\"},{\"idx\":7,\"name\":\"106\"},{\"idx\":8,\"name\":\"107\"},{\"idx\":9,\"name\":\"10s\"},{\"idx\":10,\"name\":\"11\"},{\"idx\":11,\"name\":\"110\"},{\"idx\":12,\"name\":\"110s\"},{\"idx\":13,\"name\":\"111\"},{\"idx\":14,\"name\":\"112\"},{\"idx\":15,\"name\":\"113\"},{\"idx\":16,\"name\":\"114\"},{\"idx\":17,\"name\":\"115\"},{\"idx\":18,\"name\":\"116\"},{\"idx\":19,\"name\":\"117\"},{\"idx\":20,\"name\":\"118\"},{\"idx\":21,\"name\":\"119\"},{\"idx\":22,\"name\":\"11s\"},{\"idx\":23,\"name\":\"12\"},{\"idx\":24,\"name\":\"120\"},{\"idx\":25,\"name\":\"120s\"},{\"idx\":26,\"name\":\"125\"},{\"idx\":27,\"name\":\"128\"},{\"idx\":28,\"name\":\"129\"},{\"idx\":29,\"name\":\"12s\"},{\"idx\":30,\"name\":\"13\"},{\"idx\":31,\"name\":\"130\"},{\"idx\":32,\"name\":\"130s\"},{\"idx\":33,\"name\":\"132\"},{\"idx\":34,\"name\":\"135\"},{\"idx\":35,\"name\":\"138\"},{\"idx\":36,\"name\":\"139\"},{\"idx\":37,\"name\":\"13s\"},{\"idx\":38,\"name\":\"14\"},{\"idx\":39,\"name\":\"140\"},{\"idx\":40,\"name\":\"145\"},{\"idx\":41,\"name\":\"146\"},{\"idx\":42,\"name\":\"147\"},{\"idx\":43,\"name\":\"149\"},{\"idx\":44,\"name\":\"14s\"},{\"idx\":45,\"name\":\"15\"},{\"idx\":46,\"name\":\"150\"},{\"idx\":47,\"name\":\"150s\"},{\"idx\":48,\"name\":\"154\"},{\"idx\":49,\"name\":\"155\"},{\"idx\":50,\"name\":\"156\"},{\"idx\":51,\"name\":\"157\"},{\"idx\":52,\"name\":\"159\"},{\"idx\":53,\"name\":\"15s\"},{\"idx\":54,\"name\":\"16\"},{\"idx\":55,\"name\":\"160\"},{\"idx\":56,\"name\":\"164\"},{\"idx\":57,\"name\":\"165\"},{\"idx\":58,\"name\":\"168\"},{\"idx\":59,\"name\":\"16s\"},{\"idx\":60,\"name\":\"17\"},{\"idx\":61,\"name\":\"170\"},{\"idx\":62,\"name\":\"175\"},{\"idx\":63,\"name\":\"178\"},{\"idx\":64,\"name\":\"179\"},{\"idx\":65,\"name\":\"17s\"},{\"idx\":66,\"name\":\"18\"},{\"idx\":67,\"name\":\"180\"},{\"idx\":68,\"name\":\"180s\"},{\"idx\":69,\"name\":\"185\"},{\"idx\":70,\"name\":\"188\"},{\"idx\":71,\"name\":\"189\"},{\"idx\":72,\"name\":\"18s\"},{\"idx\":73,\"name\":\"19\"},{\"idx\":74,\"name\":\"190\"},{\"idx\":75,\"name\":\"190s\"},{\"idx\":76,\"name\":\"191\"},{\"idx\":77,\"name\":\"195\"},{\"idx\":78,\"name\":\"199\"},{\"idx\":79,\"name\":\"19s\"},{\"idx\":80,\"name\":\"2\"},{\"idx\":81,\"name\":\"20\"},{\"idx\":82,\"name\":\"200\"},{\"idx\":83,\"name\":\"200s\"},{\"idx\":84,\"name\":\"205\"},{\"idx\":85,\"name\":\"20s\"},{\"idx\":86,\"name\":\"21\"},{\"idx\":87,\"name\":\"210\"},{\"idx\":88,\"name\":\"214\"},{\"idx\":89,\"name\":\"219\"},{\"idx\":90,\"name\":\"21s\"},{\"idx\":91,\"name\":\"22\"},{\"idx\":92,\"name\":\"220\"},{\"idx\":93,\"name\":\"221\"},{\"idx\":94,\"name\":\"225\"},{\"idx\":95,\"name\":\"228\"},{\"idx\":96,\"name\":\"229\"},{\"idx\":97,\"name\":\"22s\"},{\"idx\":98,\"name\":\"23\"},{\"idx\":99,\"name\":\"230\"},{\"idx\":100,\"name\":\"238\"},{\"idx\":101,\"name\":\"23s\"},{\"idx\":102,\"name\":\"24\"},{\"idx\":103,\"name\":\"240\"},{\"idx\":104,\"name\":\"24s\"},{\"idx\":105,\"name\":\"25\"},{\"idx\":106,\"name\":\"250\"},{\"idx\":107,\"name\":\"250s\"},{\"idx\":108,\"name\":\"252\"},{\"idx\":109,\"name\":\"254s\"},{\"idx\":110,\"name\":\"255\"},{\"idx\":111,\"name\":\"258\"},{\"idx\":112,\"name\":\"259\"},{\"idx\":113,\"name\":\"25s\"},{\"idx\":114,\"name\":\"26\"},{\"idx\":115,\"name\":\"260\"},{\"idx\":116,\"name\":\"269\"},{\"idx\":117,\"name\":\"26s\"},{\"idx\":118,\"name\":\"27\"},{\"idx\":119,\"name\":\"270\"},{\"idx\":120,\"name\":\"279\"},{\"idx\":121,\"name\":\"27s\"},{\"idx\":122,\"name\":\"28\"},{\"idx\":123,\"name\":\"280\"},{\"idx\":124,\"name\":\"289\"},{\"idx\":125,\"name\":\"28s\"},{\"idx\":126,\"name\":\"29\"},{\"idx\":127,\"name\":\"290\"},{\"idx\":128,\"name\":\"290s\"},{\"idx\":129,\"name\":\"299\"},{\"idx\":130,\"name\":\"29s\"},{\"idx\":131,\"name\":\"2s\"},{\"idx\":132,\"name\":\"3\"},{\"idx\":133,\"name\":\"30\"},{\"idx\":134,\"name\":\"300\"},{\"idx\":135,\"name\":\"300s\"},{\"idx\":136,\"name\":\"30s\"},{\"idx\":137,\"name\":\"31\"},{\"idx\":138,\"name\":\"310\"},{\"idx\":139,\"name\":\"31s\"},{\"idx\":140,\"name\":\"32\"},{\"idx\":141,\"name\":\"320\"},{\"idx\":142,\"name\":\"322\"},{\"idx\":143,\"name\":\"32s\"},{\"idx\":144,\"name\":\"33\"},{\"idx\":145,\"name\":\"330\"},{\"idx\":146,\"name\":\"339\"},{\"idx\":147,\"name\":\"33s\"},{\"idx\":148,\"name\":\"34\"},{\"idx\":149,\"name\":\"340\"},{\"idx\":150,\"name\":\"34s\"},{\"idx\":151,\"name\":\"35\"},{\"idx\":152,\"name\":\"350\"},{\"idx\":153,\"name\":\"35s\"},{\"idx\":154,\"name\":\"36\"},{\"idx\":155,\"name\":\"360\"},{\"idx\":156,\"name\":\"36s\"},{\"idx\":157,\"name\":\"37\"},{\"idx\":158,\"name\":\"370\"},{\"idx\":159,\"name\":\"37s\"},{\"idx\":160,\"name\":\"38\"},{\"idx\":161,\"name\":\"380\"},{\"idx\":162,\"name\":\"38s\"},{\"idx\":163,\"name\":\"39\"},{\"idx\":164,\"name\":\"39s\"},{\"idx\":165,\"name\":\"3s\"},{\"idx\":166,\"name\":\"4\"},{\"idx\":167,\"name\":\"40\"},{\"idx\":168,\"name\":\"40s\"},{\"idx\":169,\"name\":\"41\"},{\"idx\":170,\"name\":\"41s\"},{\"idx\":171,\"name\":\"42\"},{\"idx\":172,\"name\":\"43\"},{\"idx\":173,\"name\":\"43s\"},{\"idx\":174,\"name\":\"44\"},{\"idx\":175,\"name\":\"44s\"},{\"idx\":176,\"name\":\"45\"},{\"idx\":177,\"name\":\"45s\"},{\"idx\":178,\"name\":\"46\"},{\"idx\":179,\"name\":\"46s\"},{\"idx\":180,\"name\":\"47\"},{\"idx\":181,\"name\":\"47s\"},{\"idx\":182,\"name\":\"48\"},{\"idx\":183,\"name\":\"48s\"},{\"idx\":184,\"name\":\"49\"},{\"idx\":185,\"name\":\"49s\"},{\"idx\":186,\"name\":\"4s\"},{\"idx\":187,\"name\":\"5\"},{\"idx\":188,\"name\":\"50\"},{\"idx\":189,\"name\":\"50s\"},{\"idx\":190,\"name\":\"51\"},{\"idx\":191,\"name\":\"52\"},{\"idx\":192,\"name\":\"53\"},{\"idx\":193,\"name\":\"54\"},{\"idx\":194,\"name\":\"55\"},{\"idx\":195,\"name\":\"55s\"},{\"idx\":196,\"name\":\"56\"},{\"idx\":197,\"name\":\"57\"},{\"idx\":198,\"name\":\"58\"},{\"idx\":199,\"name\":\"59\"},{\"idx\":200,\"name\":\"5s\"},{\"idx\":201,\"name\":\"6\"},{\"idx\":202,\"name\":\"60\"},{\"idx\":203,\"name\":\"60s\"},{\"idx\":204,\"name\":\"61\"},{\"idx\":205,\"name\":\"62\"},{\"idx\":206,\"name\":\"63\"},{\"idx\":207,\"name\":\"64\"},{\"idx\":208,\"name\":\"65\"},{\"idx\":209,\"name\":\"65s\"},{\"idx\":210,\"name\":\"66\"},{\"idx\":211,\"name\":\"67\"},{\"idx\":212,\"name\":\"68\"},{\"idx\":213,\"name\":\"69\"},{\"idx\":214,\"name\":\"6s\"},{\"idx\":215,\"name\":\"7\"},{\"idx\":216,\"name\":\"70\"},{\"idx\":217,\"name\":\"70s\"},{\"idx\":218,\"name\":\"71\"},{\"idx\":219,\"name\":\"72\"},{\"idx\":220,\"name\":\"73\"},{\"idx\":221,\"name\":\"74\"},{\"idx\":222,\"name\":\"75\"},{\"idx\":223,\"name\":\"75s\"},{\"idx\":224,\"name\":\"76\"},{\"idx\":225,\"name\":\"77\"},{\"idx\":226,\"name\":\"78\"},{\"idx\":227,\"name\":\"79\"},{\"idx\":228,\"name\":\"7s\"},{\"idx\":229,\"name\":\"8\"},{\"idx\":230,\"name\":\"80\"},{\"idx\":231,\"name\":\"80s\"},{\"idx\":232,\"name\":\"81\"},{\"idx\":233,\"name\":\"82\"},{\"idx\":234,\"name\":\"83\"},{\"idx\":235,\"name\":\"84\"},{\"idx\":236,\"name\":\"85\"},{\"idx\":237,\"name\":\"850\"},{\"idx\":238,\"name\":\"85s\"},{\"idx\":239,\"name\":\"86\"},{\"idx\":240,\"name\":\"87\"},{\"idx\":241,\"name\":\"88\"},{\"idx\":242,\"name\":\"89\"},{\"idx\":243,\"name\":\"8s\"},{\"idx\":244,\"name\":\"9\"},{\"idx\":245,\"name\":\"90\"},{\"idx\":246,\"name\":\"900\"},{\"idx\":247,\"name\":\"905\"},{\"idx\":248,\"name\":\"90s\"},{\"idx\":249,\"name\":\"91\"},{\"idx\":250,\"name\":\"92\"},{\"idx\":251,\"name\":\"93\"},{\"idx\":252,\"name\":\"94\"},{\"idx\":253,\"name\":\"95\"},{\"idx\":254,\"name\":\"95s\"},{\"idx\":255,\"name\":\"96\"},{\"idx\":256,\"name\":\"98\"},{\"idx\":257,\"name\":\"9s\"},{\"idx\":258,\"name\":\"BKN:07\"},{\"idx\":259,\"name\":\"BKN:07s\"},{\"idx\":260,\"name\":\"CLR:00\"},{\"idx\":261,\"name\":\"FEW:02\"},{\"idx\":262,\"name\":\"FEW:02s\"},{\"idx\":263,\"name\":\"OVC:08\"},{\"idx\":264,\"name\":\"OVC:08s\"},{\"idx\":265,\"name\":\"SCT:04\"},{\"idx\":266,\"name\":\"SCT:04s\"},{\"idx\":267,\"name\":\"VV:09\"},{\"idx\":268,\"name\":\"X:10\"}]},\"num_attrs\":269}}",
         "name": "HourlySkyConditions_vec",
         "type": "{\"type\":\"udt\",\"class\":\"org.apache.spark.ml.linalg.VectorUDT\",\"pyClass\":\"pyspark.ml.linalg.VectorUDT\",\"sqlType\":{\"type\":\"struct\",\"fields\":[{\"name\":\"type\",\"type\":\"byte\",\"nullable\":false,\"metadata\":{}},{\"name\":\"size\",\"type\":\"integer\",\"nullable\":true,\"metadata\":{}},{\"name\":\"indices\",\"type\":{\"type\":\"array\",\"elementType\":\"integer\",\"containsNull\":false},\"nullable\":true,\"metadata\":{}},{\"name\":\"values\",\"type\":{\"type\":\"array\",\"elementType\":\"double\",\"containsNull\":false},\"nullable\":true,\"metadata\":{}}]}}"
        },
        {
         "metadata": "{\"ml_attr\":{\"attrs\":{\"numeric\":[{\"idx\":0,\"name\":\"Rain\"},{\"idx\":1,\"name\":\"Snow\"},{\"idx\":2,\"name\":\"Thunder\"},{\"idx\":3,\"name\":\"Tornado\"},{\"idx\":4,\"name\":\"View Obstruction\"}]},\"num_attrs\":5}}",
         "name": "HourlyPresentWeatherType_vec",
         "type": "{\"type\":\"udt\",\"class\":\"org.apache.spark.ml.linalg.VectorUDT\",\"pyClass\":\"pyspark.ml.linalg.VectorUDT\",\"sqlType\":{\"type\":\"struct\",\"fields\":[{\"name\":\"type\",\"type\":\"byte\",\"nullable\":false,\"metadata\":{}},{\"name\":\"size\",\"type\":\"integer\",\"nullable\":true,\"metadata\":{}},{\"name\":\"indices\",\"type\":{\"type\":\"array\",\"elementType\":\"integer\",\"containsNull\":false},\"nullable\":true,\"metadata\":{}},{\"name\":\"values\",\"type\":{\"type\":\"array\",\"elementType\":\"double\",\"containsNull\":false},\"nullable\":true,\"metadata\":{}}]}}"
        },
        {
         "metadata": "{}",
         "name": "Rain",
         "type": "\"long\""
        },
        {
         "metadata": "{}",
         "name": "Snow",
         "type": "\"long\""
        },
        {
         "metadata": "{}",
         "name": "Thunder",
         "type": "\"long\""
        },
        {
         "metadata": "{}",
         "name": "Tornado",
         "type": "\"long\""
        },
        {
         "metadata": "{}",
         "name": "View Obstruction",
         "type": "\"long\""
        },
        {
         "metadata": "{}",
         "name": "MONTH_1",
         "type": "\"long\""
        },
        {
         "metadata": "{}",
         "name": "MONTH_2",
         "type": "\"long\""
        },
        {
         "metadata": "{}",
         "name": "MONTH_3",
         "type": "\"long\""
        },
        {
         "metadata": "{}",
         "name": "MONTH_4",
         "type": "\"long\""
        },
        {
         "metadata": "{}",
         "name": "MONTH_5",
         "type": "\"long\""
        },
        {
         "metadata": "{}",
         "name": "MONTH_6",
         "type": "\"long\""
        },
        {
         "metadata": "{}",
         "name": "MONTH_7",
         "type": "\"long\""
        },
        {
         "metadata": "{}",
         "name": "MONTH_8",
         "type": "\"long\""
        },
        {
         "metadata": "{}",
         "name": "MONTH_9",
         "type": "\"long\""
        },
        {
         "metadata": "{}",
         "name": "MONTH_10",
         "type": "\"long\""
        },
        {
         "metadata": "{}",
         "name": "MONTH_11",
         "type": "\"long\""
        },
        {
         "metadata": "{}",
         "name": "MONTH_12",
         "type": "\"long\""
        },
        {
         "metadata": "{}",
         "name": "HOUR_00",
         "type": "\"long\""
        },
        {
         "metadata": "{}",
         "name": "HOUR_01",
         "type": "\"long\""
        },
        {
         "metadata": "{}",
         "name": "HOUR_02",
         "type": "\"long\""
        },
        {
         "metadata": "{}",
         "name": "HOUR_03",
         "type": "\"long\""
        },
        {
         "metadata": "{}",
         "name": "HOUR_04",
         "type": "\"long\""
        },
        {
         "metadata": "{}",
         "name": "HOUR_05",
         "type": "\"long\""
        },
        {
         "metadata": "{}",
         "name": "HOUR_06",
         "type": "\"long\""
        },
        {
         "metadata": "{}",
         "name": "HOUR_07",
         "type": "\"long\""
        },
        {
         "metadata": "{}",
         "name": "HOUR_08",
         "type": "\"long\""
        },
        {
         "metadata": "{}",
         "name": "HOUR_09",
         "type": "\"long\""
        },
        {
         "metadata": "{}",
         "name": "HOUR_10",
         "type": "\"long\""
        },
        {
         "metadata": "{}",
         "name": "HOUR_11",
         "type": "\"long\""
        },
        {
         "metadata": "{}",
         "name": "HOUR_12",
         "type": "\"long\""
        },
        {
         "metadata": "{}",
         "name": "HOUR_13",
         "type": "\"long\""
        },
        {
         "metadata": "{}",
         "name": "HOUR_14",
         "type": "\"long\""
        },
        {
         "metadata": "{}",
         "name": "HOUR_15",
         "type": "\"long\""
        },
        {
         "metadata": "{}",
         "name": "HOUR_16",
         "type": "\"long\""
        },
        {
         "metadata": "{}",
         "name": "HOUR_17",
         "type": "\"long\""
        },
        {
         "metadata": "{}",
         "name": "HOUR_18",
         "type": "\"long\""
        },
        {
         "metadata": "{}",
         "name": "HOUR_19",
         "type": "\"long\""
        },
        {
         "metadata": "{}",
         "name": "HOUR_20",
         "type": "\"long\""
        },
        {
         "metadata": "{}",
         "name": "HOUR_21",
         "type": "\"long\""
        },
        {
         "metadata": "{}",
         "name": "HOUR_22",
         "type": "\"long\""
        },
        {
         "metadata": "{}",
         "name": "HOUR_23",
         "type": "\"long\""
        },
        {
         "metadata": "{}",
         "name": "DAY_OF_WEEK_1",
         "type": "\"long\""
        },
        {
         "metadata": "{}",
         "name": "DAY_OF_WEEK_2",
         "type": "\"long\""
        },
        {
         "metadata": "{}",
         "name": "DAY_OF_WEEK_3",
         "type": "\"long\""
        },
        {
         "metadata": "{}",
         "name": "DAY_OF_WEEK_4",
         "type": "\"long\""
        },
        {
         "metadata": "{}",
         "name": "DAY_OF_WEEK_5",
         "type": "\"long\""
        },
        {
         "metadata": "{}",
         "name": "DAY_OF_WEEK_6",
         "type": "\"long\""
        },
        {
         "metadata": "{}",
         "name": "DAY_OF_WEEK_7",
         "type": "\"long\""
        },
        {
         "metadata": "{}",
         "name": "OP_CARRIER_9E",
         "type": "\"long\""
        },
        {
         "metadata": "{}",
         "name": "OP_CARRIER_AA",
         "type": "\"long\""
        },
        {
         "metadata": "{}",
         "name": "OP_CARRIER_AS",
         "type": "\"long\""
        },
        {
         "metadata": "{}",
         "name": "OP_CARRIER_B6",
         "type": "\"long\""
        },
        {
         "metadata": "{}",
         "name": "OP_CARRIER_DL",
         "type": "\"long\""
        },
        {
         "metadata": "{}",
         "name": "OP_CARRIER_EV",
         "type": "\"long\""
        },
        {
         "metadata": "{}",
         "name": "OP_CARRIER_F9",
         "type": "\"long\""
        },
        {
         "metadata": "{}",
         "name": "OP_CARRIER_G4",
         "type": "\"long\""
        },
        {
         "metadata": "{}",
         "name": "OP_CARRIER_HA",
         "type": "\"long\""
        },
        {
         "metadata": "{}",
         "name": "OP_CARRIER_MQ",
         "type": "\"long\""
        },
        {
         "metadata": "{}",
         "name": "OP_CARRIER_NK",
         "type": "\"long\""
        },
        {
         "metadata": "{}",
         "name": "OP_CARRIER_OH",
         "type": "\"long\""
        },
        {
         "metadata": "{}",
         "name": "OP_CARRIER_OO",
         "type": "\"long\""
        },
        {
         "metadata": "{}",
         "name": "OP_CARRIER_QX",
         "type": "\"long\""
        },
        {
         "metadata": "{}",
         "name": "OP_CARRIER_UA",
         "type": "\"long\""
        },
        {
         "metadata": "{}",
         "name": "OP_CARRIER_US",
         "type": "\"long\""
        },
        {
         "metadata": "{}",
         "name": "OP_CARRIER_VX",
         "type": "\"long\""
        },
        {
         "metadata": "{}",
         "name": "OP_CARRIER_WN",
         "type": "\"long\""
        },
        {
         "metadata": "{}",
         "name": "OP_CARRIER_YV",
         "type": "\"long\""
        },
        {
         "metadata": "{}",
         "name": "OP_CARRIER_YX",
         "type": "\"long\""
        },
        {
         "metadata": "{}",
         "name": "type_large_airport",
         "type": "\"long\""
        },
        {
         "metadata": "{}",
         "name": "type_medium_airport",
         "type": "\"long\""
        },
        {
         "metadata": "{}",
         "name": "type_seaplane_base",
         "type": "\"long\""
        },
        {
         "metadata": "{}",
         "name": "type_small_airport",
         "type": "\"long\""
        },
        {
         "metadata": "{}",
         "name": "DEP_12hr",
         "type": "\"double\""
        },
        {
         "metadata": "{}",
         "name": "DEP_6hr",
         "type": "\"double\""
        },
        {
         "metadata": "{}",
         "name": "DEP_4hr",
         "type": "\"double\""
        },
        {
         "metadata": "{}",
         "name": "DISTANCE_LAG",
         "type": "\"double\""
        },
        {
         "metadata": "{}",
         "name": "REALIZED_DELAY_MIN",
         "type": "\"double\""
        },
        {
         "metadata": "{}",
         "name": "REALIZED_DEL15",
         "type": "\"integer\""
        },
        {
         "metadata": "{}",
         "name": "HOLIDAY",
         "type": "\"integer\""
        },
        {
         "metadata": "{}",
         "name": "OUTDEG_AIRPORT_6hr",
         "type": "\"double\""
        },
        {
         "metadata": "{}",
         "name": "YEAR",
         "type": "\"string\""
        },
        {
         "metadata": "{}",
         "name": "LOG_REALIZED_DELAY_MIN",
         "type": "\"double\""
        },
        {
         "metadata": "{\"ml_attr\":{\"attrs\":{\"numeric\":[{\"idx\":0,\"name\":\"DISTANCE\"},{\"idx\":1,\"name\":\"ELEVATION\"},{\"idx\":2,\"name\":\"HourlyAltimeterSetting\"},{\"idx\":3,\"name\":\"HourlyDryBulbTemperature\"},{\"idx\":4,\"name\":\"HourlyPrecipitation\"},{\"idx\":5,\"name\":\"HourlyRelativeHumidity\"},{\"idx\":6,\"name\":\"HourlySeaLevelPressure\"},{\"idx\":7,\"name\":\"HourlyVisibility\"},{\"idx\":8,\"name\":\"HourlyWindDirection\"},{\"idx\":9,\"name\":\"HourlyWindSpeed\"},{\"idx\":10,\"name\":\"DISTANCE_LAG\"},{\"idx\":11,\"name\":\"LOG_REALIZED_DELAY_MIN\"},{\"idx\":12,\"name\":\"OUTDEG_AIRPORT_6hr\"},{\"idx\":13,\"name\":\"DEP_12hr\"},{\"idx\":14,\"name\":\"DEP_6hr\"},{\"idx\":15,\"name\":\"DEP_4hr\"}]},\"num_attrs\":16}}",
         "name": "numeric_features",
         "type": "{\"type\":\"udt\",\"class\":\"org.apache.spark.ml.linalg.VectorUDT\",\"pyClass\":\"pyspark.ml.linalg.VectorUDT\",\"sqlType\":{\"type\":\"struct\",\"fields\":[{\"name\":\"type\",\"type\":\"byte\",\"nullable\":false,\"metadata\":{}},{\"name\":\"size\",\"type\":\"integer\",\"nullable\":true,\"metadata\":{}},{\"name\":\"indices\",\"type\":{\"type\":\"array\",\"elementType\":\"integer\",\"containsNull\":false},\"nullable\":true,\"metadata\":{}},{\"name\":\"values\",\"type\":{\"type\":\"array\",\"elementType\":\"double\",\"containsNull\":false},\"nullable\":true,\"metadata\":{}}]}}"
        },
        {
         "metadata": "{\"ml_attr\":{\"num_attrs\":16}}",
         "name": "num_feats_scaled",
         "type": "{\"type\":\"udt\",\"class\":\"org.apache.spark.ml.linalg.VectorUDT\",\"pyClass\":\"pyspark.ml.linalg.VectorUDT\",\"sqlType\":{\"type\":\"struct\",\"fields\":[{\"name\":\"type\",\"type\":\"byte\",\"nullable\":false,\"metadata\":{}},{\"name\":\"size\",\"type\":\"integer\",\"nullable\":true,\"metadata\":{}},{\"name\":\"indices\",\"type\":{\"type\":\"array\",\"elementType\":\"integer\",\"containsNull\":false},\"nullable\":true,\"metadata\":{}},{\"name\":\"values\",\"type\":{\"type\":\"array\",\"elementType\":\"double\",\"containsNull\":false},\"nullable\":true,\"metadata\":{}}]}}"
        },
        {
         "metadata": "{\"ml_attr\":{\"attrs\":{\"numeric\":[{\"idx\":0,\"name\":\"num_feats_scaled_0\"},{\"idx\":1,\"name\":\"num_feats_scaled_1\"},{\"idx\":2,\"name\":\"num_feats_scaled_2\"},{\"idx\":3,\"name\":\"num_feats_scaled_3\"},{\"idx\":4,\"name\":\"num_feats_scaled_4\"},{\"idx\":5,\"name\":\"num_feats_scaled_5\"},{\"idx\":6,\"name\":\"num_feats_scaled_6\"},{\"idx\":7,\"name\":\"num_feats_scaled_7\"},{\"idx\":8,\"name\":\"num_feats_scaled_8\"},{\"idx\":9,\"name\":\"num_feats_scaled_9\"},{\"idx\":10,\"name\":\"num_feats_scaled_10\"},{\"idx\":11,\"name\":\"num_feats_scaled_11\"},{\"idx\":12,\"name\":\"num_feats_scaled_12\"},{\"idx\":13,\"name\":\"num_feats_scaled_13\"},{\"idx\":14,\"name\":\"num_feats_scaled_14\"},{\"idx\":15,\"name\":\"num_feats_scaled_15\"},{\"idx\":16,\"name\":\"MONTH_1\"},{\"idx\":17,\"name\":\"MONTH_2\"},{\"idx\":18,\"name\":\"MONTH_3\"},{\"idx\":19,\"name\":\"MONTH_4\"},{\"idx\":20,\"name\":\"MONTH_5\"},{\"idx\":21,\"name\":\"MONTH_6\"},{\"idx\":22,\"name\":\"MONTH_7\"},{\"idx\":23,\"name\":\"MONTH_8\"},{\"idx\":24,\"name\":\"MONTH_9\"},{\"idx\":25,\"name\":\"MONTH_10\"},{\"idx\":26,\"name\":\"MONTH_11\"},{\"idx\":27,\"name\":\"MONTH_12\"},{\"idx\":28,\"name\":\"HOUR_00\"},{\"idx\":29,\"name\":\"HOUR_01\"},{\"idx\":30,\"name\":\"HOUR_02\"},{\"idx\":31,\"name\":\"HOUR_03\"},{\"idx\":32,\"name\":\"HOUR_04\"},{\"idx\":33,\"name\":\"HOUR_05\"},{\"idx\":34,\"name\":\"HOUR_06\"},{\"idx\":35,\"name\":\"HOUR_07\"},{\"idx\":36,\"name\":\"HOUR_08\"},{\"idx\":37,\"name\":\"HOUR_09\"},{\"idx\":38,\"name\":\"HOUR_10\"},{\"idx\":39,\"name\":\"HOUR_11\"},{\"idx\":40,\"name\":\"HOUR_12\"},{\"idx\":41,\"name\":\"HOUR_13\"},{\"idx\":42,\"name\":\"HOUR_14\"},{\"idx\":43,\"name\":\"HOUR_15\"},{\"idx\":44,\"name\":\"HOUR_16\"},{\"idx\":45,\"name\":\"HOUR_17\"},{\"idx\":46,\"name\":\"HOUR_18\"},{\"idx\":47,\"name\":\"HOUR_19\"},{\"idx\":48,\"name\":\"HOUR_20\"},{\"idx\":49,\"name\":\"HOUR_21\"},{\"idx\":50,\"name\":\"HOUR_22\"},{\"idx\":51,\"name\":\"HOUR_23\"},{\"idx\":52,\"name\":\"DAY_OF_WEEK_1\"},{\"idx\":53,\"name\":\"DAY_OF_WEEK_2\"},{\"idx\":54,\"name\":\"DAY_OF_WEEK_3\"},{\"idx\":55,\"name\":\"DAY_OF_WEEK_4\"},{\"idx\":56,\"name\":\"DAY_OF_WEEK_5\"},{\"idx\":57,\"name\":\"DAY_OF_WEEK_6\"},{\"idx\":58,\"name\":\"DAY_OF_WEEK_7\"},{\"idx\":59,\"name\":\"OP_CARRIER_9E\"},{\"idx\":60,\"name\":\"OP_CARRIER_AA\"},{\"idx\":61,\"name\":\"OP_CARRIER_AS\"},{\"idx\":62,\"name\":\"OP_CARRIER_B6\"},{\"idx\":63,\"name\":\"OP_CARRIER_DL\"},{\"idx\":64,\"name\":\"OP_CARRIER_EV\"},{\"idx\":65,\"name\":\"OP_CARRIER_F9\"},{\"idx\":66,\"name\":\"OP_CARRIER_G4\"},{\"idx\":67,\"name\":\"OP_CARRIER_HA\"},{\"idx\":68,\"name\":\"OP_CARRIER_MQ\"},{\"idx\":69,\"name\":\"OP_CARRIER_NK\"},{\"idx\":70,\"name\":\"OP_CARRIER_OH\"},{\"idx\":71,\"name\":\"OP_CARRIER_OO\"},{\"idx\":72,\"name\":\"OP_CARRIER_UA\"},{\"idx\":73,\"name\":\"OP_CARRIER_WN\"},{\"idx\":74,\"name\":\"OP_CARRIER_YV\"},{\"idx\":75,\"name\":\"OP_CARRIER_YX\"},{\"idx\":76,\"name\":\"Rain\"},{\"idx\":77,\"name\":\"Snow\"},{\"idx\":78,\"name\":\"Thunder\"},{\"idx\":79,\"name\":\"Tornado\"},{\"idx\":80,\"name\":\"View Obstruction\"},{\"idx\":81,\"name\":\"REALIZED_DEL15\"},{\"idx\":82,\"name\":\"HOLIDAY\"},{\"idx\":83,\"name\":\"type_large_airport\"},{\"idx\":84,\"name\":\"type_medium_airport\"},{\"idx\":85,\"name\":\"type_seaplane_base\"},{\"idx\":86,\"name\":\"type_small_airport\"}]},\"num_attrs\":87}}",
         "name": "features",
         "type": "{\"type\":\"udt\",\"class\":\"org.apache.spark.ml.linalg.VectorUDT\",\"pyClass\":\"pyspark.ml.linalg.VectorUDT\",\"sqlType\":{\"type\":\"struct\",\"fields\":[{\"name\":\"type\",\"type\":\"byte\",\"nullable\":false,\"metadata\":{}},{\"name\":\"size\",\"type\":\"integer\",\"nullable\":true,\"metadata\":{}},{\"name\":\"indices\",\"type\":{\"type\":\"array\",\"elementType\":\"integer\",\"containsNull\":false},\"nullable\":true,\"metadata\":{}},{\"name\":\"values\",\"type\":{\"type\":\"array\",\"elementType\":\"double\",\"containsNull\":false},\"nullable\":true,\"metadata\":{}}]}}"
        },
        {
         "metadata": "{\"ml_attr\":{\"num_attrs\":2}}",
         "name": "rawPrediction",
         "type": "{\"type\":\"udt\",\"class\":\"org.apache.spark.ml.linalg.VectorUDT\",\"pyClass\":\"pyspark.ml.linalg.VectorUDT\",\"sqlType\":{\"type\":\"struct\",\"fields\":[{\"name\":\"type\",\"type\":\"byte\",\"nullable\":false,\"metadata\":{}},{\"name\":\"size\",\"type\":\"integer\",\"nullable\":true,\"metadata\":{}},{\"name\":\"indices\",\"type\":{\"type\":\"array\",\"elementType\":\"integer\",\"containsNull\":false},\"nullable\":true,\"metadata\":{}},{\"name\":\"values\",\"type\":{\"type\":\"array\",\"elementType\":\"double\",\"containsNull\":false},\"nullable\":true,\"metadata\":{}}]}}"
        },
        {
         "metadata": "{\"ml_attr\":{\"num_attrs\":2}}",
         "name": "probability",
         "type": "{\"type\":\"udt\",\"class\":\"org.apache.spark.ml.linalg.VectorUDT\",\"pyClass\":\"pyspark.ml.linalg.VectorUDT\",\"sqlType\":{\"type\":\"struct\",\"fields\":[{\"name\":\"type\",\"type\":\"byte\",\"nullable\":false,\"metadata\":{}},{\"name\":\"size\",\"type\":\"integer\",\"nullable\":true,\"metadata\":{}},{\"name\":\"indices\",\"type\":{\"type\":\"array\",\"elementType\":\"integer\",\"containsNull\":false},\"nullable\":true,\"metadata\":{}},{\"name\":\"values\",\"type\":{\"type\":\"array\",\"elementType\":\"double\",\"containsNull\":false},\"nullable\":true,\"metadata\":{}}]}}"
        },
        {
         "metadata": "{\"ml_attr\":{\"type\":\"nominal\",\"num_vals\":2}}",
         "name": "prediction",
         "type": "\"double\""
        }
       ],
       "type": "table"
      }
     },
     "output_type": "display_data"
    }
   ],
   "source": [
    "display(predictions_2019.limit(5))"
   ]
  },
  {
   "cell_type": "code",
   "execution_count": 0,
   "metadata": {
    "application/vnd.databricks.v1+cell": {
     "cellMetadata": {
      "byteLimit": 2048000,
      "rowLimit": 10000
     },
     "inputWidgets": {},
     "nuid": "b7412e6b-1b5e-4709-a875-a01659d28b3e",
     "showTitle": false,
     "title": ""
    }
   },
   "outputs": [],
   "source": [
    "probabilities_df = predictions_2018.select(\"index\", \"YEAR\", \"DEP_DEL15\", \"probability\", \"prediction\") \\\n",
    "                                   .union(predictions_2019.select(\"index\", \"YEAR\", \"DEP_DEL15\", \"probability\", \"prediction\"))\n",
    "    "
   ]
  },
  {
   "cell_type": "code",
   "execution_count": 0,
   "metadata": {
    "application/vnd.databricks.v1+cell": {
     "cellMetadata": {
      "byteLimit": 2048000,
      "rowLimit": 10000
     },
     "inputWidgets": {},
     "nuid": "e85943ec-3e1e-4ca0-861b-511bbbf0153e",
     "showTitle": false,
     "title": ""
    }
   },
   "outputs": [],
   "source": [
    "probabilities_reformat = probabilities_df.rdd.map(lambda x: (x[0], x[1], x[2], float(x[3][0]), float(x[3][1]), x[4])).toDF(['index', 'YEAR', 'DEP_DEL15', 'probability_0', 'probability_1', 'prediction'])"
   ]
  },
  {
   "cell_type": "code",
   "execution_count": 0,
   "metadata": {
    "application/vnd.databricks.v1+cell": {
     "cellMetadata": {
      "byteLimit": 2048000,
      "rowLimit": 10000
     },
     "inputWidgets": {},
     "nuid": "96de4ab6-4533-4ca5-a8b1-f593d1f4c2fe",
     "showTitle": false,
     "title": ""
    }
   },
   "outputs": [
    {
     "output_type": "display_data",
     "data": {
      "text/html": [
       "<style scoped>\n",
       "  .table-result-container {\n",
       "    max-height: 300px;\n",
       "    overflow: auto;\n",
       "  }\n",
       "  table, th, td {\n",
       "    border: 1px solid black;\n",
       "    border-collapse: collapse;\n",
       "  }\n",
       "  th, td {\n",
       "    padding: 5px;\n",
       "  }\n",
       "  th {\n",
       "    text-align: left;\n",
       "  }\n",
       "</style><div class='table-result-container'><table class='table-result'><thead style='background-color: white'><tr><th>index</th><th>YEAR</th><th>DEP_DEL15</th><th>probability_0</th><th>probability_1</th><th>prediction</th></tr></thead><tbody><tr><td>8445849</td><td>2018</td><td>0.0</td><td>0.6768607963274049</td><td>0.3231392036725951</td><td>0.0</td></tr><tr><td>8445850</td><td>2018</td><td>0.0</td><td>0.5383478903929685</td><td>0.4616521096070315</td><td>0.0</td></tr><tr><td>8445851</td><td>2018</td><td>0.0</td><td>0.7556168344439501</td><td>0.24438316555604989</td><td>0.0</td></tr><tr><td>8445852</td><td>2018</td><td>0.0</td><td>0.6603769541588272</td><td>0.33962304584117275</td><td>0.0</td></tr><tr><td>8445853</td><td>2018</td><td>0.0</td><td>0.6044679816139937</td><td>0.39553201838600627</td><td>0.0</td></tr><tr><td>8445854</td><td>2018</td><td>1.0</td><td>0.2715386838756888</td><td>0.7284613161243112</td><td>1.0</td></tr><tr><td>8445855</td><td>2018</td><td>1.0</td><td>0.5934826195556799</td><td>0.40651738044432006</td><td>0.0</td></tr><tr><td>8445856</td><td>2018</td><td>1.0</td><td>0.2921414592048035</td><td>0.7078585407951965</td><td>1.0</td></tr><tr><td>8445857</td><td>2018</td><td>0.0</td><td>0.717412687355561</td><td>0.28258731264443904</td><td>0.0</td></tr><tr><td>8445858</td><td>2018</td><td>1.0</td><td>0.4601307881475564</td><td>0.5398692118524435</td><td>1.0</td></tr></tbody></table></div>"
      ]
     },
     "metadata": {
      "application/vnd.databricks.v1+output": {
       "addedWidgets": {},
       "aggData": [],
       "aggError": "",
       "aggOverflow": false,
       "aggSchema": [],
       "aggSeriesLimitReached": false,
       "aggType": "",
       "arguments": {},
       "columnCustomDisplayInfos": {},
       "data": [
        [
         8445849,
         "2018",
         0.0,
         0.6768607963274049,
         0.3231392036725951,
         0.0
        ],
        [
         8445850,
         "2018",
         0.0,
         0.5383478903929685,
         0.4616521096070315,
         0.0
        ],
        [
         8445851,
         "2018",
         0.0,
         0.7556168344439501,
         0.24438316555604989,
         0.0
        ],
        [
         8445852,
         "2018",
         0.0,
         0.6603769541588272,
         0.33962304584117275,
         0.0
        ],
        [
         8445853,
         "2018",
         0.0,
         0.6044679816139937,
         0.39553201838600627,
         0.0
        ],
        [
         8445854,
         "2018",
         1.0,
         0.2715386838756888,
         0.7284613161243112,
         1.0
        ],
        [
         8445855,
         "2018",
         1.0,
         0.5934826195556799,
         0.40651738044432006,
         0.0
        ],
        [
         8445856,
         "2018",
         1.0,
         0.2921414592048035,
         0.7078585407951965,
         1.0
        ],
        [
         8445857,
         "2018",
         0.0,
         0.717412687355561,
         0.28258731264443904,
         0.0
        ],
        [
         8445858,
         "2018",
         1.0,
         0.4601307881475564,
         0.5398692118524435,
         1.0
        ]
       ],
       "datasetInfos": [],
       "dbfsResultPath": null,
       "isJsonSchema": true,
       "metadata": {},
       "overflow": false,
       "plotOptions": {
        "customPlotOptions": {},
        "displayType": "table",
        "pivotAggregation": null,
        "pivotColumns": null,
        "xColumns": null,
        "yColumns": null
       },
       "removedWidgets": [],
       "schema": [
        {
         "metadata": "{}",
         "name": "index",
         "type": "\"long\""
        },
        {
         "metadata": "{}",
         "name": "YEAR",
         "type": "\"string\""
        },
        {
         "metadata": "{}",
         "name": "DEP_DEL15",
         "type": "\"double\""
        },
        {
         "metadata": "{}",
         "name": "probability_0",
         "type": "\"double\""
        },
        {
         "metadata": "{}",
         "name": "probability_1",
         "type": "\"double\""
        },
        {
         "metadata": "{}",
         "name": "prediction",
         "type": "\"double\""
        }
       ],
       "type": "table"
      }
     },
     "output_type": "display_data"
    }
   ],
   "source": [
    "display(probabilities_reformat.limit(10))"
   ]
  },
  {
   "cell_type": "code",
   "execution_count": 0,
   "metadata": {
    "application/vnd.databricks.v1+cell": {
     "cellMetadata": {
      "byteLimit": 2048000,
      "rowLimit": 10000
     },
     "inputWidgets": {},
     "nuid": "21d4a79a-75eb-43fb-84b8-f4af38769e76",
     "showTitle": false,
     "title": ""
    }
   },
   "outputs": [],
   "source": [
    "# write to the storage blob\n",
    "probabilities_reformat.write.mode(\"overwrite\").parquet(f\"{data_BASE_DIR}/logbaseline_probabilities_2018_2019\")\n"
   ]
  },
  {
   "cell_type": "markdown",
   "metadata": {
    "application/vnd.databricks.v1+cell": {
     "cellMetadata": {},
     "inputWidgets": {},
     "nuid": "847a2ebd-24a8-4f83-9940-cce4b821cd1a",
     "showTitle": false,
     "title": ""
    }
   },
   "source": [
    "## Run baseline using lasso alpha value of 0.03 on full training set 2015-2017"
   ]
  },
  {
   "cell_type": "code",
   "execution_count": 0,
   "metadata": {
    "application/vnd.databricks.v1+cell": {
     "cellMetadata": {
      "byteLimit": 2048000,
      "rowLimit": 10000
     },
     "inputWidgets": {},
     "nuid": "e89e3c54-e409-4dc4-bf7c-a19c25056d1a",
     "showTitle": false,
     "title": ""
    }
   },
   "outputs": [
    {
     "output_type": "display_data",
     "data": {
      "application/vnd.jupyter.widget-view+json": {
       "model_id": "80efbb0be3084310a5d57b5d390a2786",
       "version_major": 2,
       "version_minor": 0
      },
      "text/plain": [
       "Downloading artifacts:   0%|          | 0/35 [00:00<?, ?it/s]"
      ]
     },
     "metadata": {},
     "output_type": "display_data"
    },
    {
     "output_type": "display_data",
     "data": {
      "application/vnd.jupyter.widget-view+json": {
       "model_id": "40c31c4914094b14973cff6bb0d11b89",
       "version_major": 2,
       "version_minor": 0
      },
      "text/plain": [
       "Uploading artifacts:   0%|          | 0/4 [00:00<?, ?it/s]"
      ]
     },
     "metadata": {},
     "output_type": "display_data"
    }
   ],
   "source": [
    "# Assemble one-hot encoded variables with numerical features\n",
    "assembler = VectorAssembler(inputCols=numeric_cols, outputCol=\"numeric_features\")\n",
    "scaler = StandardScaler(inputCol='numeric_features', outputCol=\"num_feats_scaled\", withMean=True)\n",
    "final_assembler = VectorAssembler(\n",
    "    inputCols=[\"num_feats_scaled\"] + categorical_cols,\n",
    "    outputCol=\"features\"\n",
    ")\n",
    "\n",
    "target_feature = 'DEP_DEL15'\n",
    "\n",
    "lr = LogisticRegression(maxIter=10, featuresCol = \"features\", labelCol=target_feature, regParam=0.03, elasticNetParam=1.0)\n",
    "\n",
    "pipeline = Pipeline(stages=[assembler, scaler, final_assembler, lr])\n",
    "\n",
    "baseline_pipeline = pipeline.fit(df_train)\n",
    "# df_train_transform = pipeline \\\n",
    "#     .fit(df_train) \\\n",
    "#     .transform(df_train) \\\n",
    "#     .select(\"QUARTER\", \"FL_DATE\", \"CRS_DEP_TIME\", \"DEP_DEL15\", \"features\", \"index\")\n"
   ]
  },
  {
   "cell_type": "code",
   "execution_count": 0,
   "metadata": {
    "application/vnd.databricks.v1+cell": {
     "cellMetadata": {
      "byteLimit": 2048000,
      "rowLimit": 10000
     },
     "inputWidgets": {},
     "nuid": "59b7fcfe-d083-4806-8509-33146678b94d",
     "showTitle": false,
     "title": ""
    }
   },
   "outputs": [],
   "source": [
    "baseline_model = baseline_pipeline.stages[-1]"
   ]
  },
  {
   "cell_type": "code",
   "execution_count": 0,
   "metadata": {
    "application/vnd.databricks.v1+cell": {
     "cellMetadata": {
      "byteLimit": 2048000,
      "rowLimit": 10000
     },
     "inputWidgets": {},
     "nuid": "c6bf7a91-db41-4d1f-be68-b40529719208",
     "showTitle": false,
     "title": ""
    }
   },
   "outputs": [
    {
     "output_type": "stream",
     "name": "stdout",
     "output_type": "stream",
     "text": [
      "Precision by Label: \n[0.6747955256194371, 0.7364132698820335]\nRecall by Label: \n[0.8391166484691664, 0.5263990386973368]\nF-Beta Score: \n0.6499744783195487\n"
     ]
    }
   ],
   "source": [
    "# Training Summary & Metrics\n",
    "training_summary = baseline_model.summary\n",
    "train_precision = training_summary.precisionByLabel[1]\n",
    "train_recall = training_summary.recallByLabel[1]\n",
    "beta = 1/(2**0.5)\n",
    "fbeta = (1 + beta**2) * (train_precision * train_recall) / ((beta**2 * train_precision) + train_recall)\n",
    "\n",
    "print(f\"Precision by Label: \\n{training_summary.precisionByLabel}\")\n",
    "print(f\"Recall by Label: \\n{training_summary.recallByLabel}\")\n",
    "print(f\"F-Beta Score: \\n{fbeta}\")\n"
   ]
  },
  {
   "cell_type": "code",
   "execution_count": 0,
   "metadata": {
    "application/vnd.databricks.v1+cell": {
     "cellMetadata": {
      "byteLimit": 2048000,
      "rowLimit": 10000
     },
     "inputWidgets": {},
     "nuid": "3bfc07db-f173-454e-a6f0-7f4b301eb635",
     "showTitle": false,
     "title": ""
    }
   },
   "outputs": [
    {
     "output_type": "stream",
     "name": "stdout",
     "output_type": "stream",
     "text": [
      "87\n"
     ]
    }
   ],
   "source": [
    "# Model coefficients\n",
    "\n",
    "coefficients = baseline_model.coefficients.toArray()\n",
    "print(len(coefficients))\n",
    "features = numeric_cols + categorical_cols"
   ]
  },
  {
   "cell_type": "code",
   "execution_count": 0,
   "metadata": {
    "application/vnd.databricks.v1+cell": {
     "cellMetadata": {
      "byteLimit": 2048000,
      "rowLimit": 10000
     },
     "collapsed": true,
     "inputWidgets": {},
     "nuid": "f4e06fb1-d481-49ad-9832-ef15d493a738",
     "showTitle": false,
     "title": ""
    }
   },
   "outputs": [
    {
     "output_type": "execute_result",
     "data": {
      "text/plain": [
       "array([ 0.        ,  0.        ,  0.        ,  0.        ,  0.        ,\n",
       "        0.        ,  0.        ,  0.        ,  0.        ,  0.        ,\n",
       "        0.        ,  0.        ,  0.        ,  0.        ,  0.17719112,\n",
       "        0.42128768,  0.        ,  0.        ,  0.        ,  0.        ,\n",
       "        0.        ,  0.        ,  0.        ,  0.        ,  0.        ,\n",
       "        0.        ,  0.        ,  0.        ,  0.        ,  0.        ,\n",
       "        0.        ,  0.        ,  0.        ,  0.        , -0.16916375,\n",
       "       -0.09613809,  0.        ,  0.        ,  0.        ,  0.        ,\n",
       "        0.        ,  0.        ,  0.        ,  0.        ,  0.        ,\n",
       "        0.        ,  0.        ,  0.        ,  0.        ,  0.        ,\n",
       "        0.        ,  0.        ,  0.        ,  0.        ,  0.        ,\n",
       "        0.        ,  0.        ,  0.        ,  0.        ,  0.        ,\n",
       "        0.        ,  0.        ,  0.        ,  0.        ,  0.        ,\n",
       "        0.        ,  0.        ,  0.        ,  0.        ,  0.        ,\n",
       "        0.        ,  0.        ,  0.        ,  0.        ,  0.        ,\n",
       "        0.        ,  0.        ,  0.        ,  0.46394323,  0.        ,\n",
       "        0.        ,  0.74738584,  0.        ,  0.        ,  0.        ,\n",
       "        0.        ,  0.        ])"
      ]
     },
     "execution_count": 29,
     "metadata": {},
     "output_type": "execute_result"
    }
   ],
   "source": [
    "coefficients"
   ]
  },
  {
   "cell_type": "code",
   "execution_count": 0,
   "metadata": {
    "application/vnd.databricks.v1+cell": {
     "cellMetadata": {
      "byteLimit": 2048000,
      "rowLimit": 10000
     },
     "inputWidgets": {},
     "nuid": "d8b6962b-6c25-43de-96c5-3cd3fabd2054",
     "showTitle": false,
     "title": ""
    }
   },
   "outputs": [],
   "source": [
    "baseline_coeff_df = pd.DataFrame({'Features': features, 'Coefficients': coefficients})\n",
    "baseline_coeff_df = baseline_coeff_df.set_index('Features')\n",
    "baseline_coeff_df['Exp_Coefficients'] = np.exp(baseline_coeff_df['Coefficients'])"
   ]
  },
  {
   "cell_type": "code",
   "execution_count": 0,
   "metadata": {
    "application/vnd.databricks.v1+cell": {
     "cellMetadata": {
      "byteLimit": 2048000,
      "rowLimit": 10000
     },
     "inputWidgets": {},
     "nuid": "3787d063-01ad-4839-8cf0-24d6b7b29880",
     "showTitle": false,
     "title": ""
    }
   },
   "outputs": [
    {
     "output_type": "execute_result",
     "data": {
      "text/html": [
       "<div>\n",
       "<style scoped>\n",
       "    .dataframe tbody tr th:only-of-type {\n",
       "        vertical-align: middle;\n",
       "    }\n",
       "\n",
       "    .dataframe tbody tr th {\n",
       "        vertical-align: top;\n",
       "    }\n",
       "\n",
       "    .dataframe thead th {\n",
       "        text-align: right;\n",
       "    }\n",
       "</style>\n",
       "<table border=\"1\" class=\"dataframe\">\n",
       "  <thead>\n",
       "    <tr style=\"text-align: right;\">\n",
       "      <th></th>\n",
       "      <th>Coefficients</th>\n",
       "      <th>Exp_Coefficients</th>\n",
       "    </tr>\n",
       "    <tr>\n",
       "      <th>Features</th>\n",
       "      <th></th>\n",
       "      <th></th>\n",
       "    </tr>\n",
       "  </thead>\n",
       "  <tbody>\n",
       "    <tr>\n",
       "      <th>REALIZED_DEL15</th>\n",
       "      <td>0.747386</td>\n",
       "      <td>2.111473</td>\n",
       "    </tr>\n",
       "    <tr>\n",
       "      <th>Thunder</th>\n",
       "      <td>0.463943</td>\n",
       "      <td>1.590333</td>\n",
       "    </tr>\n",
       "    <tr>\n",
       "      <th>DEP_4hr</th>\n",
       "      <td>0.421288</td>\n",
       "      <td>1.523923</td>\n",
       "    </tr>\n",
       "    <tr>\n",
       "      <th>DEP_6hr</th>\n",
       "      <td>0.177191</td>\n",
       "      <td>1.193859</td>\n",
       "    </tr>\n",
       "    <tr>\n",
       "      <th>HOUR_07</th>\n",
       "      <td>-0.096138</td>\n",
       "      <td>0.908339</td>\n",
       "    </tr>\n",
       "    <tr>\n",
       "      <th>HOUR_06</th>\n",
       "      <td>-0.169164</td>\n",
       "      <td>0.844371</td>\n",
       "    </tr>\n",
       "  </tbody>\n",
       "</table>\n",
       "</div>"
      ],
      "text/plain": [
       "                Coefficients  Exp_Coefficients\n",
       "Features                                      \n",
       "REALIZED_DEL15      0.747386          2.111473\n",
       "Thunder             0.463943          1.590333\n",
       "DEP_4hr             0.421288          1.523923\n",
       "DEP_6hr             0.177191          1.193859\n",
       "HOUR_07            -0.096138          0.908339\n",
       "HOUR_06            -0.169164          0.844371"
      ]
     },
     "execution_count": 31,
     "metadata": {},
     "output_type": "execute_result"
    }
   ],
   "source": [
    "baseline_coeff_df[baseline_coeff_df['Exp_Coefficients'] != 1].sort_values(by='Exp_Coefficients', ascending=False)"
   ]
  },
  {
   "cell_type": "code",
   "execution_count": 0,
   "metadata": {
    "application/vnd.databricks.v1+cell": {
     "cellMetadata": {
      "byteLimit": 2048000,
      "rowLimit": 10000
     },
     "inputWidgets": {},
     "nuid": "9158128a-0bc6-4701-88b8-b555d7e11616",
     "showTitle": false,
     "title": ""
    }
   },
   "outputs": [
    {
     "output_type": "stream",
     "name": "stdout",
     "output_type": "stream",
     "text": [
      "Test Area under ROC curve: 0.7181880459033703\nTest Metrics\nAccuracy: 0.7049190143841675\nPrecision: 0.7006311298250856\nRecall: 0.42629755918136647\nF Beta: 0.5768844188914335\n"
     ]
    }
   ],
   "source": [
    "# Evaluate the model\n",
    "evaluator = BinaryClassificationEvaluator(labelCol=target_feature)\n",
    "area_under_curve = evaluator.evaluate(predictions_2018)\n",
    "print(f\"Test Area under ROC curve: {area_under_curve}\")\n",
    "\n",
    "# Convert DataFrame to RDD\n",
    "prediction_and_label = predictions_2018\\\n",
    "                        .select([\"prediction\", target_feature])\\\n",
    "\n",
    "# Create MulticlassMetrics object\n",
    "metrics = MulticlassMetrics(prediction_and_label.rdd.map(tuple))\n",
    "\n",
    "beta = 1/(2**0.5)\n",
    "fbeta = (1 + beta**2) * (metrics.precision(1.0) * metrics.recall(1.0)) / ((beta**2 * metrics.precision(1.0)) + metrics.recall(1.0))\n",
    "\n",
    "\n",
    "# metrics\n",
    "print(\"Test Metrics\")\n",
    "print(\"Accuracy:\", metrics.accuracy)\n",
    "print(\"Precision:\", metrics.precision(1.0))\n",
    "print(\"Recall:\", metrics.recall(1.0))\n",
    "print(\"F Beta:\", fbeta)"
   ]
  },
  {
   "cell_type": "code",
   "execution_count": 0,
   "metadata": {
    "application/vnd.databricks.v1+cell": {
     "cellMetadata": {
      "byteLimit": 2048000,
      "rowLimit": 10000
     },
     "inputWidgets": {},
     "nuid": "3d1419dc-a69c-4b25-add6-0fd98d702cb1",
     "showTitle": false,
     "title": ""
    }
   },
   "outputs": [
    {
     "output_type": "stream",
     "name": "stdout",
     "output_type": "stream",
     "text": [
      "Test Area under ROC curve: 0.7399542970867687\nTest Metrics\nAccuracy: 0.7522168181476752\nPrecision: 0.5274165494716483\nRecall: 0.5329195570159425\nF Beta: 0.5292382139522539\n"
     ]
    }
   ],
   "source": [
    "# Evaluate the model\n",
    "evaluator = BinaryClassificationEvaluator(labelCol=target_feature)\n",
    "area_under_curve = evaluator.evaluate(predictions_2019)\n",
    "print(f\"Test Area under ROC curve: {area_under_curve}\")\n",
    "\n",
    "# Convert DataFrame to RDD\n",
    "prediction_and_label = predictions_2019\\\n",
    "                        .select([\"prediction\", target_feature])\\\n",
    "\n",
    "# Create MulticlassMetrics object\n",
    "metrics = MulticlassMetrics(prediction_and_label.rdd.map(tuple))\n",
    "\n",
    "beta = 1/(2**0.5)\n",
    "fbeta = (1 + beta**2) * (metrics.precision(1.0) * metrics.recall(1.0)) / ((beta**2 * metrics.precision(1.0)) + metrics.recall(1.0))\n",
    "\n",
    "\n",
    "# metrics\n",
    "print(\"Test Metrics\")\n",
    "print(\"Accuracy:\", metrics.accuracy)\n",
    "print(\"Precision:\", metrics.precision(1.0))\n",
    "print(\"Recall:\", metrics.recall(1.0))\n",
    "print(\"F Beta:\", fbeta)"
   ]
  },
  {
   "cell_type": "code",
   "execution_count": 0,
   "metadata": {
    "application/vnd.databricks.v1+cell": {
     "cellMetadata": {
      "byteLimit": 2048000,
      "rowLimit": 10000
     },
     "inputWidgets": {},
     "nuid": "be2c61bd-d2d0-4b80-8d81-10bb78f15007",
     "showTitle": false,
     "title": ""
    }
   },
   "outputs": [],
   "source": [
    "import mlflow"
   ]
  },
  {
   "cell_type": "code",
   "execution_count": 0,
   "metadata": {
    "application/vnd.databricks.v1+cell": {
     "cellMetadata": {
      "byteLimit": 2048000,
      "rowLimit": 10000
     },
     "inputWidgets": {},
     "nuid": "abf38396-7441-4fba-9d9f-20b066323313",
     "showTitle": false,
     "title": ""
    }
   },
   "outputs": [],
   "source": [
    "\n",
    "# Replace <run-id1> with the run ID you identified in the previous step.\n",
    "run_id1 = \"a413d02d41ac4b8e9a8743c8e308e45b\"\n",
    "model_uri = \"runs:/\" + run_id1 + \"/model\""
   ]
  },
  {
   "cell_type": "code",
   "execution_count": 0,
   "metadata": {
    "application/vnd.databricks.v1+cell": {
     "cellMetadata": {
      "byteLimit": 2048000,
      "rowLimit": 10000
     },
     "inputWidgets": {},
     "nuid": "7548c939-1c87-498a-8c7b-fb1bef5b1114",
     "showTitle": false,
     "title": ""
    }
   },
   "outputs": [
    {
     "output_type": "stream",
     "name": "stderr",
     "output_type": "stream",
     "text": [
      "2024/08/08 05:53:46 INFO mlflow.spark: 'runs:/a413d02d41ac4b8e9a8743c8e308e45b/model' resolved as 'dbfs:/databricks/mlflow-tracking/3133664007186385/a413d02d41ac4b8e9a8743c8e308e45b/artifacts/model'\n"
     ]
    },
    {
     "output_type": "display_data",
     "data": {
      "application/vnd.jupyter.widget-view+json": {
       "model_id": "31add6318b3245a487139367007e51e3",
       "version_major": 2,
       "version_minor": 0
      },
      "text/plain": [
       "Downloading artifacts:   0%|          | 0/1 [00:00<?, ?it/s]"
      ]
     },
     "metadata": {},
     "output_type": "display_data"
    },
    {
     "output_type": "display_data",
     "data": {
      "application/vnd.jupyter.widget-view+json": {
       "model_id": "1901188056aa4554be178b14f5e8a0ba",
       "version_major": 2,
       "version_minor": 0
      },
      "text/plain": [
       "Downloading artifacts:   0%|          | 0/39 [00:00<?, ?it/s]"
      ]
     },
     "metadata": {},
     "output_type": "display_data"
    },
    {
     "output_type": "stream",
     "name": "stderr",
     "output_type": "stream",
     "text": [
      "2024/08/08 05:53:56 INFO mlflow.store.artifact.artifact_repo: The progress bar can be disabled by setting the environment variable MLFLOW_ENABLE_ARTIFACTS_PROGRESS_BAR to false\n"
     ]
    }
   ],
   "source": [
    "model = mlflow.spark.load_model(model_uri)"
   ]
  },
  {
   "cell_type": "code",
   "execution_count": 0,
   "metadata": {
    "application/vnd.databricks.v1+cell": {
     "cellMetadata": {
      "byteLimit": 2048000,
      "rowLimit": 10000
     },
     "inputWidgets": {},
     "nuid": "aa627a3a-f529-4f77-bce1-abb41565b03c",
     "showTitle": false,
     "title": ""
    }
   },
   "outputs": [],
   "source": [
    "target_feature = 'DEP_DEL15'"
   ]
  },
  {
   "cell_type": "code",
   "execution_count": 0,
   "metadata": {
    "application/vnd.databricks.v1+cell": {
     "cellMetadata": {
      "byteLimit": 2048000,
      "rowLimit": 10000
     },
     "inputWidgets": {},
     "nuid": "ecb443d9-62cb-4d43-b3b0-e0fa0a227e67",
     "showTitle": false,
     "title": ""
    }
   },
   "outputs": [],
   "source": [
    "predictions_2018 = model.transform(df_val)"
   ]
  },
  {
   "cell_type": "code",
   "execution_count": 0,
   "metadata": {
    "application/vnd.databricks.v1+cell": {
     "cellMetadata": {
      "byteLimit": 2048000,
      "rowLimit": 10000
     },
     "inputWidgets": {},
     "nuid": "b317ffd0-7c22-4d45-9565-4cd8a6eed9fb",
     "showTitle": false,
     "title": ""
    }
   },
   "outputs": [],
   "source": [
    "predictions_2019 = model.transform(df_test)"
   ]
  },
  {
   "cell_type": "code",
   "execution_count": 0,
   "metadata": {
    "application/vnd.databricks.v1+cell": {
     "cellMetadata": {
      "byteLimit": 2048000,
      "rowLimit": 10000
     },
     "inputWidgets": {},
     "nuid": "931c56e5-1a04-47e0-91f2-16e67efdf0d0",
     "showTitle": false,
     "title": ""
    }
   },
   "outputs": [],
   "source": [
    "probabilities_df = predictions_2018.select(\"index\", \"YEAR\", \"DEP_DEL15\", \"probability\", \"prediction\") \\\n",
    "                                   .union(predictions_2019.select(\"index\", \"YEAR\", \"DEP_DEL15\", \"probability\", \"prediction\"))\n",
    "    "
   ]
  },
  {
   "cell_type": "code",
   "execution_count": 0,
   "metadata": {
    "application/vnd.databricks.v1+cell": {
     "cellMetadata": {
      "byteLimit": 2048000,
      "rowLimit": 10000
     },
     "inputWidgets": {},
     "nuid": "3eb8c390-f257-482b-b44d-da69aeb3bcc9",
     "showTitle": false,
     "title": ""
    }
   },
   "outputs": [],
   "source": [
    "probabilities_reformat = probabilities_df.rdd.map(lambda x: (x[0], x[1], x[2], float(x[3][0]), float(x[3][1]), x[4])).toDF(['index', 'YEAR', 'DEP_DEL15', 'probability_0', 'probability_1', 'prediction'])"
   ]
  },
  {
   "cell_type": "code",
   "execution_count": 0,
   "metadata": {
    "application/vnd.databricks.v1+cell": {
     "cellMetadata": {
      "byteLimit": 2048000,
      "rowLimit": 10000
     },
     "inputWidgets": {},
     "nuid": "b72e6ce4-48e8-4507-8c6f-ae080058d680",
     "showTitle": false,
     "title": ""
    }
   },
   "outputs": [
    {
     "output_type": "display_data",
     "data": {
      "text/html": [
       "<style scoped>\n",
       "  .table-result-container {\n",
       "    max-height: 300px;\n",
       "    overflow: auto;\n",
       "  }\n",
       "  table, th, td {\n",
       "    border: 1px solid black;\n",
       "    border-collapse: collapse;\n",
       "  }\n",
       "  th, td {\n",
       "    padding: 5px;\n",
       "  }\n",
       "  th {\n",
       "    text-align: left;\n",
       "  }\n",
       "</style><div class='table-result-container'><table class='table-result'><thead style='background-color: white'><tr><th>index</th><th>YEAR</th><th>DEP_DEL15</th><th>probability_0</th><th>probability_1</th><th>prediction</th></tr></thead><tbody><tr><td>8445849</td><td>2018</td><td>0.0</td><td>0.6436532512780021</td><td>0.3563467487219979</td><td>0.0</td></tr><tr><td>8445850</td><td>2018</td><td>0.0</td><td>0.5464634035487549</td><td>0.4535365964512451</td><td>0.0</td></tr><tr><td>8445851</td><td>2018</td><td>0.0</td><td>0.7042498315862907</td><td>0.29575016841370927</td><td>0.0</td></tr><tr><td>8445852</td><td>2018</td><td>0.0</td><td>0.6564194840724241</td><td>0.3435805159275759</td><td>0.0</td></tr><tr><td>8445853</td><td>2018</td><td>0.0</td><td>0.5913603964498242</td><td>0.4086396035501758</td><td>0.0</td></tr><tr><td>8445854</td><td>2018</td><td>1.0</td><td>0.32381189348150635</td><td>0.6761881065184936</td><td>1.0</td></tr><tr><td>8445855</td><td>2018</td><td>1.0</td><td>0.5740163894265249</td><td>0.4259836105734751</td><td>0.0</td></tr><tr><td>8445856</td><td>2018</td><td>1.0</td><td>0.35896004686569555</td><td>0.6410399531343045</td><td>1.0</td></tr><tr><td>8445857</td><td>2018</td><td>0.0</td><td>0.6869922835651096</td><td>0.31300771643489045</td><td>0.0</td></tr><tr><td>8445858</td><td>2018</td><td>1.0</td><td>0.47725079257234165</td><td>0.5227492074276583</td><td>1.0</td></tr></tbody></table></div>"
      ]
     },
     "metadata": {
      "application/vnd.databricks.v1+output": {
       "addedWidgets": {},
       "aggData": [],
       "aggError": "",
       "aggOverflow": false,
       "aggSchema": [],
       "aggSeriesLimitReached": false,
       "aggType": "",
       "arguments": {},
       "columnCustomDisplayInfos": {},
       "data": [
        [
         8445849,
         "2018",
         0.0,
         0.6436532512780021,
         0.3563467487219979,
         0.0
        ],
        [
         8445850,
         "2018",
         0.0,
         0.5464634035487549,
         0.4535365964512451,
         0.0
        ],
        [
         8445851,
         "2018",
         0.0,
         0.7042498315862907,
         0.29575016841370927,
         0.0
        ],
        [
         8445852,
         "2018",
         0.0,
         0.6564194840724241,
         0.3435805159275759,
         0.0
        ],
        [
         8445853,
         "2018",
         0.0,
         0.5913603964498242,
         0.4086396035501758,
         0.0
        ],
        [
         8445854,
         "2018",
         1.0,
         0.32381189348150635,
         0.6761881065184936,
         1.0
        ],
        [
         8445855,
         "2018",
         1.0,
         0.5740163894265249,
         0.4259836105734751,
         0.0
        ],
        [
         8445856,
         "2018",
         1.0,
         0.35896004686569555,
         0.6410399531343045,
         1.0
        ],
        [
         8445857,
         "2018",
         0.0,
         0.6869922835651096,
         0.31300771643489045,
         0.0
        ],
        [
         8445858,
         "2018",
         1.0,
         0.47725079257234165,
         0.5227492074276583,
         1.0
        ]
       ],
       "datasetInfos": [],
       "dbfsResultPath": null,
       "isJsonSchema": true,
       "metadata": {},
       "overflow": false,
       "plotOptions": {
        "customPlotOptions": {},
        "displayType": "table",
        "pivotAggregation": null,
        "pivotColumns": null,
        "xColumns": null,
        "yColumns": null
       },
       "removedWidgets": [],
       "schema": [
        {
         "metadata": "{}",
         "name": "index",
         "type": "\"long\""
        },
        {
         "metadata": "{}",
         "name": "YEAR",
         "type": "\"string\""
        },
        {
         "metadata": "{}",
         "name": "DEP_DEL15",
         "type": "\"double\""
        },
        {
         "metadata": "{}",
         "name": "probability_0",
         "type": "\"double\""
        },
        {
         "metadata": "{}",
         "name": "probability_1",
         "type": "\"double\""
        },
        {
         "metadata": "{}",
         "name": "prediction",
         "type": "\"double\""
        }
       ],
       "type": "table"
      }
     },
     "output_type": "display_data"
    }
   ],
   "source": [
    "display(probabilities_reformat.limit(10))"
   ]
  },
  {
   "cell_type": "code",
   "execution_count": 0,
   "metadata": {
    "application/vnd.databricks.v1+cell": {
     "cellMetadata": {
      "byteLimit": 2048000,
      "rowLimit": 10000
     },
     "inputWidgets": {},
     "nuid": "4f6e7ec6-4343-4c0b-be43-2bde884a7e47",
     "showTitle": false,
     "title": ""
    }
   },
   "outputs": [],
   "source": [
    "# write to the storage blob\n",
    "probabilities_reformat.write.mode(\"overwrite\").parquet(f\"{data_BASE_DIR}/logbaseline_0.03_probabilities_2018_2019v2\")\n"
   ]
  },
  {
   "cell_type": "markdown",
   "metadata": {
    "application/vnd.databricks.v1+cell": {
     "cellMetadata": {},
     "inputWidgets": {},
     "nuid": "09d5626c-5e08-4369-b5c4-a97b24b905ad",
     "showTitle": false,
     "title": ""
    }
   },
   "source": [
    "## Run with alpha value of 0.05 for test metrics"
   ]
  },
  {
   "cell_type": "code",
   "execution_count": 0,
   "metadata": {
    "application/vnd.databricks.v1+cell": {
     "cellMetadata": {
      "byteLimit": 2048000,
      "rowLimit": 10000
     },
     "inputWidgets": {},
     "nuid": "ab723516-bc26-4a90-ac5b-8cdc7c5ead15",
     "showTitle": false,
     "title": ""
    }
   },
   "outputs": [
    {
     "output_type": "display_data",
     "data": {
      "application/vnd.jupyter.widget-view+json": {
       "model_id": "036fcdea7fc2416e99aee04058bf86c2",
       "version_major": 2,
       "version_minor": 0
      },
      "text/plain": [
       "Downloading artifacts:   0%|          | 0/35 [00:00<?, ?it/s]"
      ]
     },
     "metadata": {},
     "output_type": "display_data"
    },
    {
     "output_type": "display_data",
     "data": {
      "application/vnd.jupyter.widget-view+json": {
       "model_id": "a4cdb22e5e794e6994faa06bd892087f",
       "version_major": 2,
       "version_minor": 0
      },
      "text/plain": [
       "Uploading artifacts:   0%|          | 0/4 [00:00<?, ?it/s]"
      ]
     },
     "metadata": {},
     "output_type": "display_data"
    }
   ],
   "source": [
    "# Assemble one-hot encoded variables with numerical features\n",
    "assembler = VectorAssembler(inputCols=numeric_cols, outputCol=\"numeric_features\")\n",
    "scaler = StandardScaler(inputCol='numeric_features', outputCol=\"num_feats_scaled\", withMean=True)\n",
    "final_assembler = VectorAssembler(\n",
    "    inputCols=[\"num_feats_scaled\"] + categorical_cols,\n",
    "    outputCol=\"features\"\n",
    ")\n",
    "\n",
    "target_feature = 'DEP_DEL15'\n",
    "\n",
    "lr = LogisticRegression(maxIter=10, featuresCol = \"features\", labelCol=target_feature, regParam=0.05, elasticNetParam=1.0)\n",
    "\n",
    "pipeline = Pipeline(stages=[assembler, scaler, final_assembler, lr])\n",
    "\n",
    "baseline_pipeline = pipeline.fit(df_train)\n",
    "# df_train_transform = pipeline \\\n",
    "#     .fit(df_train) \\\n",
    "#     .transform(df_train) \\\n",
    "#     .select(\"QUARTER\", \"FL_DATE\", \"CRS_DEP_TIME\", \"DEP_DEL15\", \"features\", \"index\")\n"
   ]
  },
  {
   "cell_type": "code",
   "execution_count": 0,
   "metadata": {
    "application/vnd.databricks.v1+cell": {
     "cellMetadata": {
      "byteLimit": 2048000,
      "rowLimit": 10000
     },
     "inputWidgets": {},
     "nuid": "f6b1885a-5d48-4d0c-bca7-8dc83c5158c4",
     "showTitle": false,
     "title": ""
    }
   },
   "outputs": [],
   "source": [
    "baseline_model = baseline_pipeline.stages[-1]"
   ]
  },
  {
   "cell_type": "code",
   "execution_count": 0,
   "metadata": {
    "application/vnd.databricks.v1+cell": {
     "cellMetadata": {
      "byteLimit": 2048000,
      "rowLimit": 10000
     },
     "inputWidgets": {},
     "nuid": "3bdd454b-29de-4e12-8bf0-ed62373f30eb",
     "showTitle": false,
     "title": ""
    }
   },
   "outputs": [
    {
     "output_type": "stream",
     "name": "stdout",
     "output_type": "stream",
     "text": [
      "Precision by Label: \n[0.6893892224711167, 0.7529458122106284]\nRecall by Label: \n[0.9377655814631798, 0.30982430276747774]\nF-Beta Score: \n0.5098685560873885\n"
     ]
    }
   ],
   "source": [
    "# Training Summary & Metrics\n",
    "training_summary = baseline_model.summary\n",
    "train_precision = training_summary.precisionByLabel[1]\n",
    "train_recall = training_summary.recallByLabel[1]\n",
    "beta = 1/(2**0.5)\n",
    "fbeta = (1 + beta**2) * (train_precision * train_recall) / ((beta**2 * train_precision) + train_recall)\n",
    "\n",
    "print(f\"Precision by Label: \\n{training_summary.precisionByLabel}\")\n",
    "print(f\"Recall by Label: \\n{training_summary.recallByLabel}\")\n",
    "print(f\"F-Beta Score: \\n{fbeta}\")\n"
   ]
  },
  {
   "cell_type": "code",
   "execution_count": 0,
   "metadata": {
    "application/vnd.databricks.v1+cell": {
     "cellMetadata": {
      "byteLimit": 2048000,
      "rowLimit": 10000
     },
     "inputWidgets": {},
     "nuid": "d8f92231-e2e0-4647-829f-3a467345a966",
     "showTitle": false,
     "title": ""
    }
   },
   "outputs": [
    {
     "output_type": "stream",
     "name": "stdout",
     "output_type": "stream",
     "text": [
      "87\n"
     ]
    }
   ],
   "source": [
    "# Model coefficients\n",
    "\n",
    "coefficients = baseline_model.coefficients.toArray()\n",
    "print(len(coefficients))\n",
    "features = numeric_cols + categorical_cols"
   ]
  },
  {
   "cell_type": "code",
   "execution_count": 0,
   "metadata": {
    "application/vnd.databricks.v1+cell": {
     "cellMetadata": {
      "byteLimit": 2048000,
      "rowLimit": 10000
     },
     "collapsed": true,
     "inputWidgets": {},
     "nuid": "bab845c6-39ac-4fb6-95a1-d7121fdcd6c2",
     "showTitle": false,
     "title": ""
    }
   },
   "outputs": [
    {
     "output_type": "execute_result",
     "data": {
      "text/plain": [
       "array([0.        , 0.        , 0.        , 0.        , 0.        ,\n",
       "       0.        , 0.        , 0.        , 0.        , 0.        ,\n",
       "       0.        , 0.        , 0.        , 0.        , 0.14009949,\n",
       "       0.2743975 , 0.        , 0.        , 0.        , 0.        ,\n",
       "       0.        , 0.        , 0.        , 0.        , 0.        ,\n",
       "       0.        , 0.        , 0.        , 0.        , 0.        ,\n",
       "       0.        , 0.        , 0.        , 0.        , 0.        ,\n",
       "       0.        , 0.        , 0.        , 0.        , 0.        ,\n",
       "       0.        , 0.        , 0.        , 0.        , 0.        ,\n",
       "       0.        , 0.        , 0.        , 0.        , 0.        ,\n",
       "       0.        , 0.        , 0.        , 0.        , 0.        ,\n",
       "       0.        , 0.        , 0.        , 0.        , 0.        ,\n",
       "       0.        , 0.        , 0.        , 0.        , 0.        ,\n",
       "       0.        , 0.        , 0.        , 0.        , 0.        ,\n",
       "       0.        , 0.        , 0.        , 0.        , 0.        ,\n",
       "       0.        , 0.        , 0.        , 0.        , 0.        ,\n",
       "       0.        , 0.74693347, 0.        , 0.        , 0.        ,\n",
       "       0.        , 0.        ])"
      ]
     },
     "execution_count": 20,
     "metadata": {},
     "output_type": "execute_result"
    }
   ],
   "source": [
    "coefficients"
   ]
  },
  {
   "cell_type": "code",
   "execution_count": 0,
   "metadata": {
    "application/vnd.databricks.v1+cell": {
     "cellMetadata": {
      "byteLimit": 2048000,
      "rowLimit": 10000
     },
     "inputWidgets": {},
     "nuid": "77e603a8-4dd3-4b56-b5fb-13df431b7d90",
     "showTitle": false,
     "title": ""
    }
   },
   "outputs": [],
   "source": [
    "baseline_coeff_df = pd.DataFrame({'Features': features, 'Coefficients': coefficients})\n",
    "baseline_coeff_df = baseline_coeff_df.set_index('Features')\n",
    "baseline_coeff_df['Exp_Coefficients'] = np.exp(baseline_coeff_df['Coefficients'])"
   ]
  },
  {
   "cell_type": "code",
   "execution_count": 0,
   "metadata": {
    "application/vnd.databricks.v1+cell": {
     "cellMetadata": {
      "byteLimit": 2048000,
      "rowLimit": 10000
     },
     "inputWidgets": {},
     "nuid": "229cf89b-8e1a-4a8d-839d-64b701ae44f4",
     "showTitle": false,
     "title": ""
    }
   },
   "outputs": [
    {
     "output_type": "execute_result",
     "data": {
      "text/html": [
       "<div>\n",
       "<style scoped>\n",
       "    .dataframe tbody tr th:only-of-type {\n",
       "        vertical-align: middle;\n",
       "    }\n",
       "\n",
       "    .dataframe tbody tr th {\n",
       "        vertical-align: top;\n",
       "    }\n",
       "\n",
       "    .dataframe thead th {\n",
       "        text-align: right;\n",
       "    }\n",
       "</style>\n",
       "<table border=\"1\" class=\"dataframe\">\n",
       "  <thead>\n",
       "    <tr style=\"text-align: right;\">\n",
       "      <th></th>\n",
       "      <th>Coefficients</th>\n",
       "      <th>Exp_Coefficients</th>\n",
       "    </tr>\n",
       "    <tr>\n",
       "      <th>Features</th>\n",
       "      <th></th>\n",
       "      <th></th>\n",
       "    </tr>\n",
       "  </thead>\n",
       "  <tbody>\n",
       "    <tr>\n",
       "      <th>REALIZED_DEL15</th>\n",
       "      <td>0.746933</td>\n",
       "      <td>2.110518</td>\n",
       "    </tr>\n",
       "    <tr>\n",
       "      <th>DEP_4hr</th>\n",
       "      <td>0.274397</td>\n",
       "      <td>1.315738</td>\n",
       "    </tr>\n",
       "    <tr>\n",
       "      <th>DEP_6hr</th>\n",
       "      <td>0.140099</td>\n",
       "      <td>1.150388</td>\n",
       "    </tr>\n",
       "  </tbody>\n",
       "</table>\n",
       "</div>"
      ],
      "text/plain": [
       "                Coefficients  Exp_Coefficients\n",
       "Features                                      \n",
       "REALIZED_DEL15      0.746933          2.110518\n",
       "DEP_4hr             0.274397          1.315738\n",
       "DEP_6hr             0.140099          1.150388"
      ]
     },
     "execution_count": 22,
     "metadata": {},
     "output_type": "execute_result"
    }
   ],
   "source": [
    "baseline_coeff_df[baseline_coeff_df['Exp_Coefficients'] != 1].sort_values(by='Exp_Coefficients', ascending=False)"
   ]
  },
  {
   "cell_type": "code",
   "execution_count": 0,
   "metadata": {
    "application/vnd.databricks.v1+cell": {
     "cellMetadata": {
      "byteLimit": 2048000,
      "rowLimit": 10000
     },
     "inputWidgets": {},
     "nuid": "9828ce52-b58d-4d1c-94e1-fa85612e41b9",
     "showTitle": false,
     "title": ""
    }
   },
   "outputs": [],
   "source": [
    "predictions_2019 = baseline_pipeline.transform(df_test)"
   ]
  },
  {
   "cell_type": "code",
   "execution_count": 0,
   "metadata": {
    "application/vnd.databricks.v1+cell": {
     "cellMetadata": {
      "byteLimit": 2048000,
      "rowLimit": 10000
     },
     "inputWidgets": {},
     "nuid": "70f24095-353d-41e5-80a0-751a93e5796e",
     "showTitle": false,
     "title": ""
    }
   },
   "outputs": [
    {
     "output_type": "stream",
     "name": "stdout",
     "output_type": "stream",
     "text": [
      "Test Area under ROC curve: 0.7108467178417175\nTest Metrics\nAccuracy: 0.8075589137646134\nPrecision: 0.5438172184280455\nRecall: 0.3225328435846514\nF Beta: 0.4425976175385364\n"
     ]
    }
   ],
   "source": [
    "# Evaluate the model\n",
    "evaluator = BinaryClassificationEvaluator(labelCol=target_feature)\n",
    "area_under_curve = evaluator.evaluate(predictions_2019)\n",
    "print(f\"Test Area under ROC curve: {area_under_curve}\")\n",
    "\n",
    "# Convert DataFrame to RDD\n",
    "prediction_and_label = predictions_2019\\\n",
    "                        .select([\"prediction\", target_feature])\\\n",
    "\n",
    "# Create MulticlassMetrics object\n",
    "metrics = MulticlassMetrics(prediction_and_label.rdd.map(tuple))\n",
    "\n",
    "beta = 1/(2**0.5)\n",
    "fbeta = (1 + beta**2) * (metrics.precision(1.0) * metrics.recall(1.0)) / ((beta**2 * metrics.precision(1.0)) + metrics.recall(1.0))\n",
    "\n",
    "\n",
    "# metrics\n",
    "print(\"Test Metrics\")\n",
    "print(\"Accuracy:\", metrics.accuracy)\n",
    "print(\"Precision:\", metrics.precision(1.0))\n",
    "print(\"Recall:\", metrics.recall(1.0))\n",
    "print(\"F Beta:\", fbeta)"
   ]
  },
  {
   "cell_type": "code",
   "execution_count": 0,
   "metadata": {
    "application/vnd.databricks.v1+cell": {
     "cellMetadata": {},
     "inputWidgets": {},
     "nuid": "aa566aec-c017-4b19-bac2-41a8dcc2d4b6",
     "showTitle": false,
     "title": ""
    }
   },
   "outputs": [],
   "source": []
  }
 ],
 "metadata": {
  "application/vnd.databricks.v1+notebook": {
   "dashboards": [],
   "environmentMetadata": {
    "base_environment": "",
    "client": "1"
   },
   "language": "python",
   "notebookMetadata": {
    "pythonIndentUnit": 4
   },
   "notebookName": "LogLasso-2015-2017Baseline v2",
   "widgets": {}
  }
 },
 "nbformat": 4,
 "nbformat_minor": 0
}
