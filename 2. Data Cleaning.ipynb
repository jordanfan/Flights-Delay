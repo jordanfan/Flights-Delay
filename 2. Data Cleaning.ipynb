{
 "cells": [
  {
   "cell_type": "code",
   "execution_count": 0,
   "metadata": {
    "application/vnd.databricks.v1+cell": {
     "cellMetadata": {
      "byteLimit": 2048000,
      "rowLimit": 10000
     },
     "inputWidgets": {},
     "nuid": "6a36ec64-825f-42b1-b506-e8f0fada206b",
     "showTitle": false,
     "title": ""
    }
   },
   "outputs": [
    {
     "output_type": "display_data",
     "data": {
      "text/html": [
       "<style scoped>\n",
       "  .table-result-container {\n",
       "    max-height: 300px;\n",
       "    overflow: auto;\n",
       "  }\n",
       "  table, th, td {\n",
       "    border: 1px solid black;\n",
       "    border-collapse: collapse;\n",
       "  }\n",
       "  th, td {\n",
       "    padding: 5px;\n",
       "  }\n",
       "  th {\n",
       "    text-align: left;\n",
       "  }\n",
       "</style><div class='table-result-container'><table class='table-result'><thead style='background-color: white'><tr><th>path</th><th>name</th><th>size</th><th>modificationTime</th></tr></thead><tbody><tr><td>wasbs://final-project-summer24-team3@summer2024team3.blob.core.windows.net/TP/</td><td>TP/</td><td>0</td><td>1722707375000</td></tr><tr><td>wasbs://final-project-summer24-team3@summer2024team3.blob.core.windows.net/df_clean_transformed_ian/</td><td>df_clean_transformed_ian/</td><td>0</td><td>1722606719000</td></tr></tbody></table></div>"
      ]
     },
     "metadata": {
      "application/vnd.databricks.v1+output": {
       "addedWidgets": {},
       "aggData": [],
       "aggError": "",
       "aggOverflow": false,
       "aggSchema": [],
       "aggSeriesLimitReached": false,
       "aggType": "",
       "arguments": {},
       "columnCustomDisplayInfos": {},
       "data": [
        [
         "wasbs://final-project-summer24-team3@summer2024team3.blob.core.windows.net/TP/",
         "TP/",
         0,
         1722707375000
        ],
        [
         "wasbs://final-project-summer24-team3@summer2024team3.blob.core.windows.net/df_clean_transformed_ian/",
         "df_clean_transformed_ian/",
         0,
         1722606719000
        ]
       ],
       "datasetInfos": [],
       "dbfsResultPath": null,
       "isJsonSchema": true,
       "metadata": {},
       "overflow": false,
       "plotOptions": {
        "customPlotOptions": {},
        "displayType": "table",
        "pivotAggregation": null,
        "pivotColumns": null,
        "xColumns": null,
        "yColumns": null
       },
       "removedWidgets": [],
       "schema": [
        {
         "metadata": "{}",
         "name": "path",
         "type": "\"string\""
        },
        {
         "metadata": "{}",
         "name": "name",
         "type": "\"string\""
        },
        {
         "metadata": "{}",
         "name": "size",
         "type": "\"long\""
        },
        {
         "metadata": "{}",
         "name": "modificationTime",
         "type": "\"long\""
        }
       ],
       "type": "table"
      }
     },
     "output_type": "display_data"
    }
   ],
   "source": [
    "# The following blob storage is accessible to team members only (read and write)\n",
    "# access key is valid til TTL\n",
    "# after that you will need to create a new SAS key and authenticate access again via DataBrick command line\n",
    "blob_container  = \"final-project-summer24-team3\"       # The name of your container created in https://portal.azure.com\n",
    "storage_account = \"summer2024team3\"  # The name of your Storage account created in https://portal.azure.com\n",
    "secret_scope    = \"summer24_team_3_2_scope\"           # The name of the scope created in your local computer using the Databricks CLI\n",
    "secret_key      = \"final-project-summer24-team3\"             # The name of the secret key created in your local computer using the Databricks CLI\n",
    "team_blob_url   = f\"wasbs://{blob_container}@{storage_account}.blob.core.windows.net\"  #points to the root of your team storage bucket\n",
    "\n",
    "# the 261 course blob storage is mounted here.\n",
    "mids261_mount_path      = \"/mnt/mids-w261\"\n",
    "\n",
    "# SAS Token: Grant the team limited access to Azure Storage resources\n",
    "spark.conf.set(\n",
    "  f\"fs.azure.sas.{blob_container}.{storage_account}.blob.core.windows.net\",\n",
    "  dbutils.secrets.get(scope = secret_scope, key = secret_key)\n",
    ")\n",
    "\n",
    "# see what's in the blob storage root folder \n",
    "display(dbutils.fs.ls(f\"{team_blob_url}\"))"
   ]
  },
  {
   "cell_type": "code",
   "execution_count": 0,
   "metadata": {
    "application/vnd.databricks.v1+cell": {
     "cellMetadata": {
      "byteLimit": 2048000,
      "rowLimit": 10000
     },
     "inputWidgets": {},
     "nuid": "79c87c7b-0924-4d72-ab3a-483ef0887136",
     "showTitle": false,
     "title": ""
    }
   },
   "outputs": [],
   "source": [
    "from pyspark.sql.functions import col, isnan, count, when, split, concat, lit, min, row_number, lower, lpad, udf, first, countDistinct, coalesce, to_timestamp, monotonically_increasing_id, explode, array\n",
    "from pyspark.sql.types import StringType, StructField, StructType, FloatType\n",
    "from pyspark.ml.feature import StringIndexer, OneHotEncoder, VectorAssembler\n",
    "from pyspark.ml import Pipeline\n",
    "from pyspark.sql.window import Window\n",
    "import pyspark.sql.functions as F\n",
    "import numpy as np\n",
    "import matplotlib.pyplot as plt\n",
    "import pandas as pd\n",
    "import seaborn as sns\n",
    "from datetime import datetime, timedelta\n",
    "import re "
   ]
  },
  {
   "cell_type": "code",
   "execution_count": 0,
   "metadata": {
    "application/vnd.databricks.v1+cell": {
     "cellMetadata": {
      "byteLimit": 2048000,
      "rowLimit": 10000
     },
     "inputWidgets": {},
     "nuid": "b93124bb-b14f-45a4-9fc9-063551fc83c5",
     "showTitle": false,
     "title": ""
    }
   },
   "outputs": [],
   "source": [
    "#Create UDF to subtract 3 hours from a date/time \n",
    "def subtract_hours(hour_str, year_str, month_str, day_str, num_hours = 2):\n",
    "    '''\n",
    "    Subtracts num_hours from a given date/time of the initial flight departure. If the return time is before 00:00, the date returned will be the previous day \n",
    "    \n",
    "    Inputs:\n",
    "        hour_str (str): hour of the flight departure time\n",
    "        year_str (str): year of the date of the flight departure\n",
    "        month_str (str): month of the date of the flight departure\n",
    "        day_str (str): day of the date of the flight departure\n",
    "        num_hours (int): number of hours to subtract\n",
    "    Outputs:\n",
    "        year (str): year of the date of departure num hours prior\n",
    "        month (str): month of the date of departure num hours prior (2 digit format)\n",
    "        day (str): day of the date of departure num hours prior (2 digit format)\n",
    "        hour (str): hour of the departure num hours prior (24 hour format)\n",
    "\n",
    "    ''' \n",
    "    date_str = f\"{year_str}-{month_str}-{day_str}\"\n",
    "    dt = datetime.strptime(date_str, \"%Y-%m-%d\")\n",
    "    # if the hour of departure is before 2am, subtract a day \n",
    "    if int(hour_str) < num_hours:\n",
    "        dt = dt - timedelta(days=1)\n",
    "    new_hour = (int(hour_str) - num_hours) % 24\n",
    "    return (f\"{dt.year}\", f\"{dt.month:02d}\", f\"{dt.day:02d}\", f\"{new_hour:02d}\")\n",
    "\n",
    "# Create schema for the UDF \n",
    "schema = StructType([\n",
    "        StructField(\"year\", StringType()),\n",
    "        StructField(\"month\", StringType()),\n",
    "        StructField(\"day\", StringType()),\n",
    "        StructField(\"hour\", StringType())\n",
    "])\n",
    "subtract_hours_udf = udf(subtract_hours, schema)\n",
    "\n",
    "def translate_weather_type(s): \n",
    "    if s is None:\n",
    "        return None\n",
    "    s = s.strip().split(\"|\")\n",
    "    # weather type separated by pipe, if there are 3 groups, first 2 groups are from a machine and last group is human entered. If human entered, use their input, otherwise combine machine entered \n",
    "    if len(s) < 3 or ((len(s) == 3) and (len(s[-1]) < 2)):\n",
    "        conditions = \" \".join(s)\n",
    "    else:\n",
    "        conditions = s[-1]\n",
    "    # Keep running list of weather conditions and combine together at the end \n",
    "    translated_conditions = []\n",
    "    if \"TS\" in conditions: #Thunderstorm\n",
    "        translated_conditions.append(\"Thunder\")\n",
    "    if \"FC\" in conditions: #Funnel cloud, waterspout, tornado\n",
    "        translated_conditions.append(\"Tornado\")\n",
    "    if \"WIND\" in conditions: #High winds\n",
    "        translated_conditions.append(\"Wind\")\n",
    "    # Weather conditions groupings \n",
    "    if any([\"PL\" in conditions, # ice pellets\n",
    "            \"GR\" in conditions, # hail\n",
    "            \"GL\" in conditions, # Glaze or rime \n",
    "            \"SN\" in conditions, # snow\n",
    "            \"SG\" in conditions, # snow grains \n",
    "            \"IC\" in conditions, # Ice crystals\n",
    "            \"GS\" in conditions # Small hail \n",
    "            ]): \n",
    "        translated_conditions.append(\"Snow\") \n",
    "    if any([\"DU\" in conditions, # Widespread dust\n",
    "            \"HZ\" in conditions, # haze \n",
    "            \"FU\" in conditions, # Smoke\n",
    "            \"VA\" in conditions, #volcanic ash\n",
    "            \"SA\" in conditions, #sandstorm\n",
    "            \"PO\" in conditions, # Well developed dust/sand whirls \n",
    "            \"SS\" in conditions, #sandstorm\n",
    "            \"DS\" in conditions, #duststorm\n",
    "            \"FG\" in conditions, # fog  \n",
    "            \"BR\" in conditions # Mist\n",
    "            ]): \n",
    "        translated_conditions.append(\"View Obstruction\")\n",
    "    if any([\"PY\" in conditions, #spray \n",
    "            \"SH\" in conditions, #showers\n",
    "            \"RA\" in conditions, # rain\n",
    "            \"DZ\" in conditions #drizzle\n",
    "            ]):\n",
    "        translated_conditions.append(\"Rain\")\n",
    "    translated_string = \",\".join(translated_conditions)\n",
    "    if len(translated_string) == 0:\n",
    "        return None\n",
    "    return translated_string    \n",
    "\n",
    "translate_weather_type_udf = udf(translate_weather_type, StringType())\n",
    "\n",
    "def clean_weather(s):\n",
    "    s = str(s)\n",
    "    #extract digits and decimals \n",
    "    val = re.findall(\"\\d+\\.?\\d+\", s)\n",
    "    # if there's no digits, return 0  \n",
    "    if len(val) == 0: \n",
    "        return 0\n",
    "    else:\n",
    "        #take first number / decimal\n",
    "        return float(val[0])\n",
    "    # if s is None: \n",
    "    #     return None\n",
    "    # s = s.strip().lower()\n",
    "    # if 't' in s or s == \"*\":\n",
    "    #     return 0\n",
    "    # if s.endswith('s') or s.endswith(\"v\"):\n",
    "    #     val = s.replace('s', '')\n",
    "    #     val = val.replace('v', '')\n",
    "    #     d = val.find('.')\n",
    "    #     if d != -1:\n",
    "    #         val = val[:d+1] + val[d:].replace('.','')\n",
    "    #     val = float(val)\n",
    "    #     return val/2\n",
    "    # else:\n",
    "    #     d = s.find('.')\n",
    "    #     if d != -1:\n",
    "    #         s = s[:d+1] + s[d:].replace('.','')\n",
    "    #     val = float(s)\n",
    "    #     return val\n",
    "clean_weather_udf = udf(clean_weather, FloatType())"
   ]
  },
  {
   "cell_type": "code",
   "execution_count": 0,
   "metadata": {
    "application/vnd.databricks.v1+cell": {
     "cellMetadata": {
      "byteLimit": 2048000,
      "rowLimit": 10000
     },
     "inputWidgets": {},
     "nuid": "b6588cfc-7538-43a0-a8a7-213dcd448e23",
     "showTitle": false,
     "title": ""
    }
   },
   "outputs": [],
   "source": [
    "merged_3m = spark.read.parquet(\"wasbs://final-project-summer24-team3@summer2024team3.blob.core.windows.net/TP/flight_stations_weather_3m\")\n",
    "merged_1y = spark.read.parquet(\"wasbs://final-project-summer24-team3@summer2024team3.blob.core.windows.net/TP/flight_stations_weather_1y\")\n",
    "merged_all = spark.read.parquet(\"wasbs://final-project-summer24-team3@summer2024team3.blob.core.windows.net/TP/flight_stations_weather_all\")\n",
    "\n",
    "weather_3m = spark.read.parquet(f\"dbfs:/mnt/mids-w261/datasets_final_project_2022/parquet_weather_data_3m/\")\n",
    "weather_1y = spark.read.parquet(\"dbfs:/mnt/mids-w261/datasets_final_project_2022/parquet_weather_data_1y/\")\n",
    "weather_all = spark.read.parquet(\"dbfs:/mnt/mids-w261/datasets_final_project_2022/parquet_weather_data/\")\n",
    "\n",
    "stations = spark.read.parquet(f\"dbfs:/mnt/mids-w261/datasets_final_project_2022/stations_data/stations_with_neighbors.parquet/\")"
   ]
  },
  {
   "cell_type": "code",
   "execution_count": 0,
   "metadata": {
    "application/vnd.databricks.v1+cell": {
     "cellMetadata": {
      "byteLimit": 2048000,
      "rowLimit": 10000
     },
     "inputWidgets": {},
     "nuid": "3032664e-6fe4-43f9-a2c1-458f0535a680",
     "showTitle": false,
     "title": ""
    }
   },
   "outputs": [],
   "source": [
    "n_null_3m = merged_3m.select(\n",
    "    *[(count(when(col(c).isNull() | isnan(c), c))).alias(c)\n",
    "    for c in merged_3m.columns]\n",
    ")\n",
    "n_null_1y = merged_1y.select(\n",
    "    *[(count(when(col(c).isNull() | isnan(c), c))).alias(c)\n",
    "    for c in merged_1y.columns]\n",
    ")\n",
    "n_null_all = merged_all.select(\n",
    "    *[(count(when(col(c).isNull() | isnan(c), c))).alias(c)\n",
    "    for c in merged_all.columns]\n",
    ")\n",
    "\n",
    "\n",
    "perc_null_3m = merged_3m.select(\n",
    "    *[(count(when(col(c).isNull() | isnan(c), c)) / count(\"*\")).alias(c)\n",
    "    for c in merged_3m.columns]\n",
    ")\n",
    "perc_null_1y = merged_1y.select(\n",
    "    *[(count(when(col(c).isNull() | isnan(c), c)) / count(\"*\")).alias(c)\n",
    "    for c in merged_1y.columns]\n",
    ")\n",
    "perc_null_all = merged_all.select(\n",
    "    *[(count(when(col(c).isNull() | isnan(c), c)) / count(\"*\")).alias(c)\n",
    "    for c in merged_all.columns]\n",
    ")\n"
   ]
  },
  {
   "cell_type": "code",
   "execution_count": 0,
   "metadata": {
    "application/vnd.databricks.v1+cell": {
     "cellMetadata": {
      "byteLimit": 2048000,
      "rowLimit": 10000
     },
     "inputWidgets": {},
     "nuid": "b3dd6bdd-0ffc-475b-bc30-150ed3eafa9a",
     "showTitle": false,
     "title": ""
    }
   },
   "outputs": [
    {
     "output_type": "display_data",
     "data": {
      "text/html": [
       "<style scoped>\n",
       "  .table-result-container {\n",
       "    max-height: 300px;\n",
       "    overflow: auto;\n",
       "  }\n",
       "  table, th, td {\n",
       "    border: 1px solid black;\n",
       "    border-collapse: collapse;\n",
       "  }\n",
       "  th, td {\n",
       "    padding: 5px;\n",
       "  }\n",
       "  th {\n",
       "    text-align: left;\n",
       "  }\n",
       "</style><div class='table-result-container'><table class='table-result'><thead style='background-color: white'><tr><th>QUARTER</th><th>MONTH</th><th>DAY_OF_MONTH</th><th>DAY_OF_WEEK</th><th>FL_DATE</th><th>OP_UNIQUE_CARRIER</th><th>OP_CARRIER_AIRLINE_ID</th><th>OP_CARRIER</th><th>TAIL_NUM</th><th>OP_CARRIER_FL_NUM</th><th>ORIGIN_AIRPORT_ID</th><th>ORIGIN_AIRPORT_SEQ_ID</th><th>ORIGIN_CITY_MARKET_ID</th><th>ORIGIN</th><th>ORIGIN_CITY_NAME</th><th>ORIGIN_STATE_ABR</th><th>ORIGIN_STATE_FIPS</th><th>ORIGIN_STATE_NM</th><th>ORIGIN_WAC</th><th>DEST_AIRPORT_ID</th><th>DEST_AIRPORT_SEQ_ID</th><th>DEST_CITY_MARKET_ID</th><th>DEST</th><th>DEST_CITY_NAME</th><th>DEST_STATE_ABR</th><th>DEST_STATE_FIPS</th><th>DEST_STATE_NM</th><th>DEST_WAC</th><th>CRS_DEP_TIME</th><th>DEP_DELAY</th><th>DEP_DELAY_NEW</th><th>DEP_DEL15</th><th>DEP_DELAY_GROUP</th><th>DEP_TIME_BLK</th><th>TAXI_OUT</th><th>WHEELS_OFF</th><th>WHEELS_ON</th><th>TAXI_IN</th><th>CRS_ARR_TIME</th><th>ARR_TIME</th><th>ARR_DELAY</th><th>ARR_DELAY_NEW</th><th>ARR_DEL15</th><th>ARR_DELAY_GROUP</th><th>ARR_TIME_BLK</th><th>CANCELLED</th><th>CANCELLATION_CODE</th><th>DIVERTED</th><th>CRS_ELAPSED_TIME</th><th>ACTUAL_ELAPSED_TIME</th><th>AIR_TIME</th><th>FLIGHTS</th><th>DISTANCE</th><th>DISTANCE_GROUP</th><th>CARRIER_DELAY</th><th>WEATHER_DELAY</th><th>NAS_DELAY</th><th>SECURITY_DELAY</th><th>LATE_AIRCRAFT_DELAY</th><th>FIRST_DEP_TIME</th><th>TOTAL_ADD_GTIME</th><th>LONGEST_ADD_GTIME</th><th>DIV_AIRPORT_LANDINGS</th><th>DIV_REACHED_DEST</th><th>DIV_ACTUAL_ELAPSED_TIME</th><th>DIV_ARR_DELAY</th><th>DIV_DISTANCE</th><th>DIV1_AIRPORT</th><th>DIV1_AIRPORT_ID</th><th>DIV1_AIRPORT_SEQ_ID</th><th>DIV1_WHEELS_ON</th><th>DIV1_TOTAL_GTIME</th><th>DIV1_LONGEST_GTIME</th><th>DIV1_WHEELS_OFF</th><th>DIV1_TAIL_NUM</th><th>DIV2_AIRPORT</th><th>DIV2_AIRPORT_ID</th><th>DIV2_AIRPORT_SEQ_ID</th><th>DIV2_WHEELS_ON</th><th>DIV2_TOTAL_GTIME</th><th>DIV2_LONGEST_GTIME</th><th>DIV2_WHEELS_OFF</th><th>DIV2_TAIL_NUM</th><th>DIV3_AIRPORT</th><th>DIV3_AIRPORT_ID</th><th>DIV3_AIRPORT_SEQ_ID</th><th>DIV3_WHEELS_ON</th><th>DIV3_TOTAL_GTIME</th><th>DIV3_LONGEST_GTIME</th><th>DIV3_WHEELS_OFF</th><th>DIV3_TAIL_NUM</th><th>DIV4_AIRPORT</th><th>DIV4_AIRPORT_ID</th><th>DIV4_AIRPORT_SEQ_ID</th><th>DIV4_WHEELS_ON</th><th>DIV4_TOTAL_GTIME</th><th>DIV4_LONGEST_GTIME</th><th>DIV4_WHEELS_OFF</th><th>DIV4_TAIL_NUM</th><th>DIV5_AIRPORT</th><th>DIV5_AIRPORT_ID</th><th>DIV5_AIRPORT_SEQ_ID</th><th>DIV5_WHEELS_ON</th><th>DIV5_TOTAL_GTIME</th><th>DIV5_LONGEST_GTIME</th><th>DIV5_WHEELS_OFF</th><th>DIV5_TAIL_NUM</th><th>YEAR</th><th>iata_code</th><th>type</th><th>station_id</th><th>STATION</th><th>DATE</th><th>LATITUDE</th><th>LONGITUDE</th><th>ELEVATION</th><th>REPORT_TYPE</th><th>SOURCE</th><th>HourlyAltimeterSetting</th><th>HourlyDewPointTemperature</th><th>HourlyDryBulbTemperature</th><th>HourlyPrecipitation</th><th>HourlyPresentWeatherType</th><th>HourlyPressureChange</th><th>HourlyPressureTendency</th><th>HourlyRelativeHumidity</th><th>HourlySkyConditions</th><th>HourlySeaLevelPressure</th><th>HourlyStationPressure</th><th>HourlyVisibility</th><th>HourlyWetBulbTemperature</th><th>HourlyWindDirection</th><th>HourlyWindGustSpeed</th><th>HourlyWindSpeed</th><th>Sunrise</th><th>Sunset</th><th>DailyAverageDewPointTemperature</th><th>DailyAverageDryBulbTemperature</th><th>DailyAverageRelativeHumidity</th><th>DailyAverageSeaLevelPressure</th><th>DailyAverageStationPressure</th><th>DailyAverageWetBulbTemperature</th><th>DailyAverageWindSpeed</th><th>DailyCoolingDegreeDays</th><th>DailyDepartureFromNormalAverageTemperature</th><th>DailyHeatingDegreeDays</th><th>DailyMaximumDryBulbTemperature</th><th>DailyMinimumDryBulbTemperature</th><th>DailyPeakWindDirection</th><th>DailyPeakWindSpeed</th><th>DailyPrecipitation</th><th>DailySnowDepth</th><th>DailySnowfall</th><th>DailySustainedWindDirection</th><th>DailySustainedWindSpeed</th><th>DailyWeather</th><th>MonthlyAverageRH</th><th>MonthlyDaysWithGT001Precip</th><th>MonthlyDaysWithGT010Precip</th><th>MonthlyDaysWithGT32Temp</th><th>MonthlyDaysWithGT90Temp</th><th>MonthlyDaysWithLT0Temp</th><th>MonthlyDaysWithLT32Temp</th><th>MonthlyDepartureFromNormalAverageTemperature</th><th>MonthlyDepartureFromNormalCoolingDegreeDays</th><th>MonthlyDepartureFromNormalHeatingDegreeDays</th><th>MonthlyDepartureFromNormalMaximumTemperature</th><th>MonthlyDepartureFromNormalMinimumTemperature</th><th>MonthlyDepartureFromNormalPrecipitation</th><th>MonthlyDewpointTemperature</th><th>MonthlyGreatestPrecip</th><th>MonthlyGreatestPrecipDate</th><th>MonthlyGreatestSnowDepth</th><th>MonthlyGreatestSnowDepthDate</th><th>MonthlyGreatestSnowfall</th><th>MonthlyGreatestSnowfallDate</th><th>MonthlyMaxSeaLevelPressureValue</th><th>MonthlyMaxSeaLevelPressureValueDate</th><th>MonthlyMaxSeaLevelPressureValueTime</th><th>MonthlyMaximumTemperature</th><th>MonthlyMeanTemperature</th><th>MonthlyMinSeaLevelPressureValue</th><th>MonthlyMinSeaLevelPressureValueDate</th><th>MonthlyMinSeaLevelPressureValueTime</th><th>MonthlyMinimumTemperature</th><th>MonthlySeaLevelPressure</th><th>MonthlyStationPressure</th><th>MonthlyTotalLiquidPrecipitation</th><th>MonthlyTotalSnowfall</th><th>MonthlyWetBulb</th><th>AWND</th><th>CDSD</th><th>CLDD</th><th>DSNW</th><th>HDSD</th><th>HTDD</th><th>NormalsCoolingDegreeDay</th><th>NormalsHeatingDegreeDay</th><th>ShortDurationEndDate005</th><th>ShortDurationEndDate010</th><th>ShortDurationEndDate015</th><th>ShortDurationEndDate020</th><th>ShortDurationEndDate030</th><th>ShortDurationEndDate045</th><th>ShortDurationEndDate060</th><th>ShortDurationEndDate080</th><th>ShortDurationEndDate100</th><th>ShortDurationEndDate120</th><th>ShortDurationEndDate150</th><th>ShortDurationEndDate180</th><th>ShortDurationPrecipitationValue005</th><th>ShortDurationPrecipitationValue010</th><th>ShortDurationPrecipitationValue015</th><th>ShortDurationPrecipitationValue020</th><th>ShortDurationPrecipitationValue030</th><th>ShortDurationPrecipitationValue045</th><th>ShortDurationPrecipitationValue060</th><th>ShortDurationPrecipitationValue080</th><th>ShortDurationPrecipitationValue100</th><th>ShortDurationPrecipitationValue120</th><th>ShortDurationPrecipitationValue150</th><th>ShortDurationPrecipitationValue180</th><th>REM</th><th>BackupDirection</th><th>BackupDistance</th><th>BackupDistanceUnit</th><th>BackupElements</th><th>BackupElevation</th><th>BackupEquipment</th><th>BackupLatitude</th><th>BackupLongitude</th><th>BackupName</th><th>WindEquipmentChangeDate</th></tr></thead><tbody><tr><td>0</td><td>0</td><td>0</td><td>0</td><td>0</td><td>0</td><td>0</td><td>0</td><td>8066</td><td>0</td><td>0</td><td>0</td><td>0</td><td>0</td><td>0</td><td>0</td><td>0</td><td>0</td><td>0</td><td>0</td><td>0</td><td>0</td><td>0</td><td>0</td><td>0</td><td>0</td><td>0</td><td>0</td><td>0</td><td>42072</td><td>42072</td><td>42072</td><td>42072</td><td>0</td><td>42875</td><td>42875</td><td>44057</td><td>44057</td><td>0</td><td>44057</td><td>46253</td><td>46253</td><td>46253</td><td>46253</td><td>0</td><td>0</td><td>1326493</td><td>0</td><td>2</td><td>46253</td><td>46253</td><td>0</td><td>0</td><td>0</td><td>1088449</td><td>1088449</td><td>1088449</td><td>1088449</td><td>1088449</td><td>1360895</td><td>1360895</td><td>1360895</td><td>0</td><td>1366648</td><td>1367501</td><td>1367501</td><td>1366648</td><td>1366319</td><td>1366319</td><td>1366319</td><td>1366319</td><td>1366319</td><td>1366319</td><td>1367453</td><td>1367453</td><td>1369640</td><td>1369640</td><td>1369640</td><td>1369640</td><td>1369640</td><td>1369640</td><td>1369686</td><td>1369686</td><td>1369695</td><td>1369695</td><td>1369695</td><td>1369695</td><td>1369695</td><td>1369695</td><td>1369697</td><td>1369697</td><td>1369697</td><td>1369697</td><td>1369697</td><td>1369697</td><td>1369697</td><td>1369697</td><td>1369697</td><td>1369697</td><td>1369697</td><td>1369697</td><td>1369697</td><td>1369697</td><td>1369697</td><td>1369697</td><td>1369697</td><td>1369697</td><td>0</td><td>0</td><td>0</td><td>0</td><td>291</td><td>291</td><td>291</td><td>291</td><td>291</td><td>291</td><td>291</td><td>273621</td><td>4795</td><td>4622</td><td>387357</td><td>1160501</td><td>732548</td><td>732548</td><td>4876</td><td>127600</td><td>185954</td><td>18662</td><td>4465</td><td>19184</td><td>12012</td><td>1225004</td><td>4894</td><td>1369696</td><td>1369696</td><td>1369697</td><td>1369697</td><td>1369697</td><td>1369697</td><td>1369696</td><td>1369697</td><td>1369696</td><td>1369697</td><td>1369697</td><td>1369697</td><td>1369697</td><td>1369697</td><td>1369697</td><td>1369696</td><td>1369696</td><td>1369696</td><td>1369697</td><td>1369696</td><td>1369696</td><td>1369696</td><td>1369697</td><td>1369697</td><td>1369697</td><td>1369697</td><td>1369697</td><td>1369697</td><td>1369697</td><td>1369697</td><td>1369697</td><td>1369697</td><td>1369697</td><td>1369697</td><td>1369697</td><td>1369697</td><td>1369697</td><td>1369697</td><td>1369697</td><td>1369697</td><td>1369697</td><td>1369697</td><td>1369697</td><td>1369697</td><td>1369697</td><td>1369697</td><td>1369697</td><td>1369697</td><td>1369697</td><td>1369697</td><td>1369697</td><td>1369697</td><td>1369697</td><td>1369697</td><td>1369697</td><td>1369697</td><td>1369697</td><td>1369697</td><td>1369697</td><td>1369697</td><td>1369697</td><td>1369697</td><td>1369697</td><td>1369697</td><td>1369697</td><td>1369697</td><td>1369697</td><td>1369697</td><td>1369697</td><td>1369697</td><td>1369697</td><td>1369697</td><td>1369697</td><td>1369697</td><td>1369697</td><td>1369697</td><td>1369697</td><td>1369697</td><td>1369697</td><td>1369697</td><td>1369697</td><td>1369697</td><td>1369697</td><td>1369697</td><td>1369697</td><td>1369697</td><td>1369697</td><td>1369697</td><td>4047</td><td>886848</td><td>886848</td><td>886848</td><td>849095</td><td>1023226</td><td>901974</td><td>1005721</td><td>1005721</td><td>827928</td><td>477696</td></tr></tbody></table></div>"
      ]
     },
     "metadata": {
      "application/vnd.databricks.v1+output": {
       "addedWidgets": {},
       "aggData": [],
       "aggError": "",
       "aggOverflow": false,
       "aggSchema": [],
       "aggSeriesLimitReached": false,
       "aggType": "",
       "arguments": {},
       "columnCustomDisplayInfos": {},
       "data": [
        [
         0,
         0,
         0,
         0,
         0,
         0,
         0,
         0,
         8066,
         0,
         0,
         0,
         0,
         0,
         0,
         0,
         0,
         0,
         0,
         0,
         0,
         0,
         0,
         0,
         0,
         0,
         0,
         0,
         0,
         42072,
         42072,
         42072,
         42072,
         0,
         42875,
         42875,
         44057,
         44057,
         0,
         44057,
         46253,
         46253,
         46253,
         46253,
         0,
         0,
         1326493,
         0,
         2,
         46253,
         46253,
         0,
         0,
         0,
         1088449,
         1088449,
         1088449,
         1088449,
         1088449,
         1360895,
         1360895,
         1360895,
         0,
         1366648,
         1367501,
         1367501,
         1366648,
         1366319,
         1366319,
         1366319,
         1366319,
         1366319,
         1366319,
         1367453,
         1367453,
         1369640,
         1369640,
         1369640,
         1369640,
         1369640,
         1369640,
         1369686,
         1369686,
         1369695,
         1369695,
         1369695,
         1369695,
         1369695,
         1369695,
         1369697,
         1369697,
         1369697,
         1369697,
         1369697,
         1369697,
         1369697,
         1369697,
         1369697,
         1369697,
         1369697,
         1369697,
         1369697,
         1369697,
         1369697,
         1369697,
         1369697,
         1369697,
         0,
         0,
         0,
         0,
         291,
         291,
         291,
         291,
         291,
         291,
         291,
         273621,
         4795,
         4622,
         387357,
         1160501,
         732548,
         732548,
         4876,
         127600,
         185954,
         18662,
         4465,
         19184,
         12012,
         1225004,
         4894,
         1369696,
         1369696,
         1369697,
         1369697,
         1369697,
         1369697,
         1369696,
         1369697,
         1369696,
         1369697,
         1369697,
         1369697,
         1369697,
         1369697,
         1369697,
         1369696,
         1369696,
         1369696,
         1369697,
         1369696,
         1369696,
         1369696,
         1369697,
         1369697,
         1369697,
         1369697,
         1369697,
         1369697,
         1369697,
         1369697,
         1369697,
         1369697,
         1369697,
         1369697,
         1369697,
         1369697,
         1369697,
         1369697,
         1369697,
         1369697,
         1369697,
         1369697,
         1369697,
         1369697,
         1369697,
         1369697,
         1369697,
         1369697,
         1369697,
         1369697,
         1369697,
         1369697,
         1369697,
         1369697,
         1369697,
         1369697,
         1369697,
         1369697,
         1369697,
         1369697,
         1369697,
         1369697,
         1369697,
         1369697,
         1369697,
         1369697,
         1369697,
         1369697,
         1369697,
         1369697,
         1369697,
         1369697,
         1369697,
         1369697,
         1369697,
         1369697,
         1369697,
         1369697,
         1369697,
         1369697,
         1369697,
         1369697,
         1369697,
         1369697,
         1369697,
         1369697,
         1369697,
         1369697,
         4047,
         886848,
         886848,
         886848,
         849095,
         1023226,
         901974,
         1005721,
         1005721,
         827928,
         477696
        ]
       ],
       "datasetInfos": [],
       "dbfsResultPath": null,
       "isJsonSchema": true,
       "metadata": {},
       "overflow": false,
       "plotOptions": {
        "customPlotOptions": {},
        "displayType": "table",
        "pivotAggregation": null,
        "pivotColumns": null,
        "xColumns": null,
        "yColumns": null
       },
       "removedWidgets": [],
       "schema": [
        {
         "metadata": "{}",
         "name": "QUARTER",
         "type": "\"long\""
        },
        {
         "metadata": "{}",
         "name": "MONTH",
         "type": "\"long\""
        },
        {
         "metadata": "{}",
         "name": "DAY_OF_MONTH",
         "type": "\"long\""
        },
        {
         "metadata": "{}",
         "name": "DAY_OF_WEEK",
         "type": "\"long\""
        },
        {
         "metadata": "{}",
         "name": "FL_DATE",
         "type": "\"long\""
        },
        {
         "metadata": "{}",
         "name": "OP_UNIQUE_CARRIER",
         "type": "\"long\""
        },
        {
         "metadata": "{}",
         "name": "OP_CARRIER_AIRLINE_ID",
         "type": "\"long\""
        },
        {
         "metadata": "{}",
         "name": "OP_CARRIER",
         "type": "\"long\""
        },
        {
         "metadata": "{}",
         "name": "TAIL_NUM",
         "type": "\"long\""
        },
        {
         "metadata": "{}",
         "name": "OP_CARRIER_FL_NUM",
         "type": "\"long\""
        },
        {
         "metadata": "{}",
         "name": "ORIGIN_AIRPORT_ID",
         "type": "\"long\""
        },
        {
         "metadata": "{}",
         "name": "ORIGIN_AIRPORT_SEQ_ID",
         "type": "\"long\""
        },
        {
         "metadata": "{}",
         "name": "ORIGIN_CITY_MARKET_ID",
         "type": "\"long\""
        },
        {
         "metadata": "{}",
         "name": "ORIGIN",
         "type": "\"long\""
        },
        {
         "metadata": "{}",
         "name": "ORIGIN_CITY_NAME",
         "type": "\"long\""
        },
        {
         "metadata": "{}",
         "name": "ORIGIN_STATE_ABR",
         "type": "\"long\""
        },
        {
         "metadata": "{}",
         "name": "ORIGIN_STATE_FIPS",
         "type": "\"long\""
        },
        {
         "metadata": "{}",
         "name": "ORIGIN_STATE_NM",
         "type": "\"long\""
        },
        {
         "metadata": "{}",
         "name": "ORIGIN_WAC",
         "type": "\"long\""
        },
        {
         "metadata": "{}",
         "name": "DEST_AIRPORT_ID",
         "type": "\"long\""
        },
        {
         "metadata": "{}",
         "name": "DEST_AIRPORT_SEQ_ID",
         "type": "\"long\""
        },
        {
         "metadata": "{}",
         "name": "DEST_CITY_MARKET_ID",
         "type": "\"long\""
        },
        {
         "metadata": "{}",
         "name": "DEST",
         "type": "\"long\""
        },
        {
         "metadata": "{}",
         "name": "DEST_CITY_NAME",
         "type": "\"long\""
        },
        {
         "metadata": "{}",
         "name": "DEST_STATE_ABR",
         "type": "\"long\""
        },
        {
         "metadata": "{}",
         "name": "DEST_STATE_FIPS",
         "type": "\"long\""
        },
        {
         "metadata": "{}",
         "name": "DEST_STATE_NM",
         "type": "\"long\""
        },
        {
         "metadata": "{}",
         "name": "DEST_WAC",
         "type": "\"long\""
        },
        {
         "metadata": "{}",
         "name": "CRS_DEP_TIME",
         "type": "\"long\""
        },
        {
         "metadata": "{}",
         "name": "DEP_DELAY",
         "type": "\"long\""
        },
        {
         "metadata": "{}",
         "name": "DEP_DELAY_NEW",
         "type": "\"long\""
        },
        {
         "metadata": "{}",
         "name": "DEP_DEL15",
         "type": "\"long\""
        },
        {
         "metadata": "{}",
         "name": "DEP_DELAY_GROUP",
         "type": "\"long\""
        },
        {
         "metadata": "{}",
         "name": "DEP_TIME_BLK",
         "type": "\"long\""
        },
        {
         "metadata": "{}",
         "name": "TAXI_OUT",
         "type": "\"long\""
        },
        {
         "metadata": "{}",
         "name": "WHEELS_OFF",
         "type": "\"long\""
        },
        {
         "metadata": "{}",
         "name": "WHEELS_ON",
         "type": "\"long\""
        },
        {
         "metadata": "{}",
         "name": "TAXI_IN",
         "type": "\"long\""
        },
        {
         "metadata": "{}",
         "name": "CRS_ARR_TIME",
         "type": "\"long\""
        },
        {
         "metadata": "{}",
         "name": "ARR_TIME",
         "type": "\"long\""
        },
        {
         "metadata": "{}",
         "name": "ARR_DELAY",
         "type": "\"long\""
        },
        {
         "metadata": "{}",
         "name": "ARR_DELAY_NEW",
         "type": "\"long\""
        },
        {
         "metadata": "{}",
         "name": "ARR_DEL15",
         "type": "\"long\""
        },
        {
         "metadata": "{}",
         "name": "ARR_DELAY_GROUP",
         "type": "\"long\""
        },
        {
         "metadata": "{}",
         "name": "ARR_TIME_BLK",
         "type": "\"long\""
        },
        {
         "metadata": "{}",
         "name": "CANCELLED",
         "type": "\"long\""
        },
        {
         "metadata": "{}",
         "name": "CANCELLATION_CODE",
         "type": "\"long\""
        },
        {
         "metadata": "{}",
         "name": "DIVERTED",
         "type": "\"long\""
        },
        {
         "metadata": "{}",
         "name": "CRS_ELAPSED_TIME",
         "type": "\"long\""
        },
        {
         "metadata": "{}",
         "name": "ACTUAL_ELAPSED_TIME",
         "type": "\"long\""
        },
        {
         "metadata": "{}",
         "name": "AIR_TIME",
         "type": "\"long\""
        },
        {
         "metadata": "{}",
         "name": "FLIGHTS",
         "type": "\"long\""
        },
        {
         "metadata": "{}",
         "name": "DISTANCE",
         "type": "\"long\""
        },
        {
         "metadata": "{}",
         "name": "DISTANCE_GROUP",
         "type": "\"long\""
        },
        {
         "metadata": "{}",
         "name": "CARRIER_DELAY",
         "type": "\"long\""
        },
        {
         "metadata": "{}",
         "name": "WEATHER_DELAY",
         "type": "\"long\""
        },
        {
         "metadata": "{}",
         "name": "NAS_DELAY",
         "type": "\"long\""
        },
        {
         "metadata": "{}",
         "name": "SECURITY_DELAY",
         "type": "\"long\""
        },
        {
         "metadata": "{}",
         "name": "LATE_AIRCRAFT_DELAY",
         "type": "\"long\""
        },
        {
         "metadata": "{}",
         "name": "FIRST_DEP_TIME",
         "type": "\"long\""
        },
        {
         "metadata": "{}",
         "name": "TOTAL_ADD_GTIME",
         "type": "\"long\""
        },
        {
         "metadata": "{}",
         "name": "LONGEST_ADD_GTIME",
         "type": "\"long\""
        },
        {
         "metadata": "{}",
         "name": "DIV_AIRPORT_LANDINGS",
         "type": "\"long\""
        },
        {
         "metadata": "{}",
         "name": "DIV_REACHED_DEST",
         "type": "\"long\""
        },
        {
         "metadata": "{}",
         "name": "DIV_ACTUAL_ELAPSED_TIME",
         "type": "\"long\""
        },
        {
         "metadata": "{}",
         "name": "DIV_ARR_DELAY",
         "type": "\"long\""
        },
        {
         "metadata": "{}",
         "name": "DIV_DISTANCE",
         "type": "\"long\""
        },
        {
         "metadata": "{}",
         "name": "DIV1_AIRPORT",
         "type": "\"long\""
        },
        {
         "metadata": "{}",
         "name": "DIV1_AIRPORT_ID",
         "type": "\"long\""
        },
        {
         "metadata": "{}",
         "name": "DIV1_AIRPORT_SEQ_ID",
         "type": "\"long\""
        },
        {
         "metadata": "{}",
         "name": "DIV1_WHEELS_ON",
         "type": "\"long\""
        },
        {
         "metadata": "{}",
         "name": "DIV1_TOTAL_GTIME",
         "type": "\"long\""
        },
        {
         "metadata": "{}",
         "name": "DIV1_LONGEST_GTIME",
         "type": "\"long\""
        },
        {
         "metadata": "{}",
         "name": "DIV1_WHEELS_OFF",
         "type": "\"long\""
        },
        {
         "metadata": "{}",
         "name": "DIV1_TAIL_NUM",
         "type": "\"long\""
        },
        {
         "metadata": "{}",
         "name": "DIV2_AIRPORT",
         "type": "\"long\""
        },
        {
         "metadata": "{}",
         "name": "DIV2_AIRPORT_ID",
         "type": "\"long\""
        },
        {
         "metadata": "{}",
         "name": "DIV2_AIRPORT_SEQ_ID",
         "type": "\"long\""
        },
        {
         "metadata": "{}",
         "name": "DIV2_WHEELS_ON",
         "type": "\"long\""
        },
        {
         "metadata": "{}",
         "name": "DIV2_TOTAL_GTIME",
         "type": "\"long\""
        },
        {
         "metadata": "{}",
         "name": "DIV2_LONGEST_GTIME",
         "type": "\"long\""
        },
        {
         "metadata": "{}",
         "name": "DIV2_WHEELS_OFF",
         "type": "\"long\""
        },
        {
         "metadata": "{}",
         "name": "DIV2_TAIL_NUM",
         "type": "\"long\""
        },
        {
         "metadata": "{}",
         "name": "DIV3_AIRPORT",
         "type": "\"long\""
        },
        {
         "metadata": "{}",
         "name": "DIV3_AIRPORT_ID",
         "type": "\"long\""
        },
        {
         "metadata": "{}",
         "name": "DIV3_AIRPORT_SEQ_ID",
         "type": "\"long\""
        },
        {
         "metadata": "{}",
         "name": "DIV3_WHEELS_ON",
         "type": "\"long\""
        },
        {
         "metadata": "{}",
         "name": "DIV3_TOTAL_GTIME",
         "type": "\"long\""
        },
        {
         "metadata": "{}",
         "name": "DIV3_LONGEST_GTIME",
         "type": "\"long\""
        },
        {
         "metadata": "{}",
         "name": "DIV3_WHEELS_OFF",
         "type": "\"long\""
        },
        {
         "metadata": "{}",
         "name": "DIV3_TAIL_NUM",
         "type": "\"long\""
        },
        {
         "metadata": "{}",
         "name": "DIV4_AIRPORT",
         "type": "\"long\""
        },
        {
         "metadata": "{}",
         "name": "DIV4_AIRPORT_ID",
         "type": "\"long\""
        },
        {
         "metadata": "{}",
         "name": "DIV4_AIRPORT_SEQ_ID",
         "type": "\"long\""
        },
        {
         "metadata": "{}",
         "name": "DIV4_WHEELS_ON",
         "type": "\"long\""
        },
        {
         "metadata": "{}",
         "name": "DIV4_TOTAL_GTIME",
         "type": "\"long\""
        },
        {
         "metadata": "{}",
         "name": "DIV4_LONGEST_GTIME",
         "type": "\"long\""
        },
        {
         "metadata": "{}",
         "name": "DIV4_WHEELS_OFF",
         "type": "\"long\""
        },
        {
         "metadata": "{}",
         "name": "DIV4_TAIL_NUM",
         "type": "\"long\""
        },
        {
         "metadata": "{}",
         "name": "DIV5_AIRPORT",
         "type": "\"long\""
        },
        {
         "metadata": "{}",
         "name": "DIV5_AIRPORT_ID",
         "type": "\"long\""
        },
        {
         "metadata": "{}",
         "name": "DIV5_AIRPORT_SEQ_ID",
         "type": "\"long\""
        },
        {
         "metadata": "{}",
         "name": "DIV5_WHEELS_ON",
         "type": "\"long\""
        },
        {
         "metadata": "{}",
         "name": "DIV5_TOTAL_GTIME",
         "type": "\"long\""
        },
        {
         "metadata": "{}",
         "name": "DIV5_LONGEST_GTIME",
         "type": "\"long\""
        },
        {
         "metadata": "{}",
         "name": "DIV5_WHEELS_OFF",
         "type": "\"long\""
        },
        {
         "metadata": "{}",
         "name": "DIV5_TAIL_NUM",
         "type": "\"long\""
        },
        {
         "metadata": "{}",
         "name": "YEAR",
         "type": "\"long\""
        },
        {
         "metadata": "{}",
         "name": "iata_code",
         "type": "\"long\""
        },
        {
         "metadata": "{}",
         "name": "type",
         "type": "\"long\""
        },
        {
         "metadata": "{}",
         "name": "station_id",
         "type": "\"long\""
        },
        {
         "metadata": "{}",
         "name": "STATION",
         "type": "\"long\""
        },
        {
         "metadata": "{}",
         "name": "DATE",
         "type": "\"long\""
        },
        {
         "metadata": "{}",
         "name": "LATITUDE",
         "type": "\"long\""
        },
        {
         "metadata": "{}",
         "name": "LONGITUDE",
         "type": "\"long\""
        },
        {
         "metadata": "{}",
         "name": "ELEVATION",
         "type": "\"long\""
        },
        {
         "metadata": "{}",
         "name": "REPORT_TYPE",
         "type": "\"long\""
        },
        {
         "metadata": "{}",
         "name": "SOURCE",
         "type": "\"long\""
        },
        {
         "metadata": "{}",
         "name": "HourlyAltimeterSetting",
         "type": "\"long\""
        },
        {
         "metadata": "{}",
         "name": "HourlyDewPointTemperature",
         "type": "\"long\""
        },
        {
         "metadata": "{}",
         "name": "HourlyDryBulbTemperature",
         "type": "\"long\""
        },
        {
         "metadata": "{}",
         "name": "HourlyPrecipitation",
         "type": "\"long\""
        },
        {
         "metadata": "{}",
         "name": "HourlyPresentWeatherType",
         "type": "\"long\""
        },
        {
         "metadata": "{}",
         "name": "HourlyPressureChange",
         "type": "\"long\""
        },
        {
         "metadata": "{}",
         "name": "HourlyPressureTendency",
         "type": "\"long\""
        },
        {
         "metadata": "{}",
         "name": "HourlyRelativeHumidity",
         "type": "\"long\""
        },
        {
         "metadata": "{}",
         "name": "HourlySkyConditions",
         "type": "\"long\""
        },
        {
         "metadata": "{}",
         "name": "HourlySeaLevelPressure",
         "type": "\"long\""
        },
        {
         "metadata": "{}",
         "name": "HourlyStationPressure",
         "type": "\"long\""
        },
        {
         "metadata": "{}",
         "name": "HourlyVisibility",
         "type": "\"long\""
        },
        {
         "metadata": "{}",
         "name": "HourlyWetBulbTemperature",
         "type": "\"long\""
        },
        {
         "metadata": "{}",
         "name": "HourlyWindDirection",
         "type": "\"long\""
        },
        {
         "metadata": "{}",
         "name": "HourlyWindGustSpeed",
         "type": "\"long\""
        },
        {
         "metadata": "{}",
         "name": "HourlyWindSpeed",
         "type": "\"long\""
        },
        {
         "metadata": "{}",
         "name": "Sunrise",
         "type": "\"long\""
        },
        {
         "metadata": "{}",
         "name": "Sunset",
         "type": "\"long\""
        },
        {
         "metadata": "{}",
         "name": "DailyAverageDewPointTemperature",
         "type": "\"long\""
        },
        {
         "metadata": "{}",
         "name": "DailyAverageDryBulbTemperature",
         "type": "\"long\""
        },
        {
         "metadata": "{}",
         "name": "DailyAverageRelativeHumidity",
         "type": "\"long\""
        },
        {
         "metadata": "{}",
         "name": "DailyAverageSeaLevelPressure",
         "type": "\"long\""
        },
        {
         "metadata": "{}",
         "name": "DailyAverageStationPressure",
         "type": "\"long\""
        },
        {
         "metadata": "{}",
         "name": "DailyAverageWetBulbTemperature",
         "type": "\"long\""
        },
        {
         "metadata": "{}",
         "name": "DailyAverageWindSpeed",
         "type": "\"long\""
        },
        {
         "metadata": "{}",
         "name": "DailyCoolingDegreeDays",
         "type": "\"long\""
        },
        {
         "metadata": "{}",
         "name": "DailyDepartureFromNormalAverageTemperature",
         "type": "\"long\""
        },
        {
         "metadata": "{}",
         "name": "DailyHeatingDegreeDays",
         "type": "\"long\""
        },
        {
         "metadata": "{}",
         "name": "DailyMaximumDryBulbTemperature",
         "type": "\"long\""
        },
        {
         "metadata": "{}",
         "name": "DailyMinimumDryBulbTemperature",
         "type": "\"long\""
        },
        {
         "metadata": "{}",
         "name": "DailyPeakWindDirection",
         "type": "\"long\""
        },
        {
         "metadata": "{}",
         "name": "DailyPeakWindSpeed",
         "type": "\"long\""
        },
        {
         "metadata": "{}",
         "name": "DailyPrecipitation",
         "type": "\"long\""
        },
        {
         "metadata": "{}",
         "name": "DailySnowDepth",
         "type": "\"long\""
        },
        {
         "metadata": "{}",
         "name": "DailySnowfall",
         "type": "\"long\""
        },
        {
         "metadata": "{}",
         "name": "DailySustainedWindDirection",
         "type": "\"long\""
        },
        {
         "metadata": "{}",
         "name": "DailySustainedWindSpeed",
         "type": "\"long\""
        },
        {
         "metadata": "{}",
         "name": "DailyWeather",
         "type": "\"long\""
        },
        {
         "metadata": "{}",
         "name": "MonthlyAverageRH",
         "type": "\"long\""
        },
        {
         "metadata": "{}",
         "name": "MonthlyDaysWithGT001Precip",
         "type": "\"long\""
        },
        {
         "metadata": "{}",
         "name": "MonthlyDaysWithGT010Precip",
         "type": "\"long\""
        },
        {
         "metadata": "{}",
         "name": "MonthlyDaysWithGT32Temp",
         "type": "\"long\""
        },
        {
         "metadata": "{}",
         "name": "MonthlyDaysWithGT90Temp",
         "type": "\"long\""
        },
        {
         "metadata": "{}",
         "name": "MonthlyDaysWithLT0Temp",
         "type": "\"long\""
        },
        {
         "metadata": "{}",
         "name": "MonthlyDaysWithLT32Temp",
         "type": "\"long\""
        },
        {
         "metadata": "{}",
         "name": "MonthlyDepartureFromNormalAverageTemperature",
         "type": "\"long\""
        },
        {
         "metadata": "{}",
         "name": "MonthlyDepartureFromNormalCoolingDegreeDays",
         "type": "\"long\""
        },
        {
         "metadata": "{}",
         "name": "MonthlyDepartureFromNormalHeatingDegreeDays",
         "type": "\"long\""
        },
        {
         "metadata": "{}",
         "name": "MonthlyDepartureFromNormalMaximumTemperature",
         "type": "\"long\""
        },
        {
         "metadata": "{}",
         "name": "MonthlyDepartureFromNormalMinimumTemperature",
         "type": "\"long\""
        },
        {
         "metadata": "{}",
         "name": "MonthlyDepartureFromNormalPrecipitation",
         "type": "\"long\""
        },
        {
         "metadata": "{}",
         "name": "MonthlyDewpointTemperature",
         "type": "\"long\""
        },
        {
         "metadata": "{}",
         "name": "MonthlyGreatestPrecip",
         "type": "\"long\""
        },
        {
         "metadata": "{}",
         "name": "MonthlyGreatestPrecipDate",
         "type": "\"long\""
        },
        {
         "metadata": "{}",
         "name": "MonthlyGreatestSnowDepth",
         "type": "\"long\""
        },
        {
         "metadata": "{}",
         "name": "MonthlyGreatestSnowDepthDate",
         "type": "\"long\""
        },
        {
         "metadata": "{}",
         "name": "MonthlyGreatestSnowfall",
         "type": "\"long\""
        },
        {
         "metadata": "{}",
         "name": "MonthlyGreatestSnowfallDate",
         "type": "\"long\""
        },
        {
         "metadata": "{}",
         "name": "MonthlyMaxSeaLevelPressureValue",
         "type": "\"long\""
        },
        {
         "metadata": "{}",
         "name": "MonthlyMaxSeaLevelPressureValueDate",
         "type": "\"long\""
        },
        {
         "metadata": "{}",
         "name": "MonthlyMaxSeaLevelPressureValueTime",
         "type": "\"long\""
        },
        {
         "metadata": "{}",
         "name": "MonthlyMaximumTemperature",
         "type": "\"long\""
        },
        {
         "metadata": "{}",
         "name": "MonthlyMeanTemperature",
         "type": "\"long\""
        },
        {
         "metadata": "{}",
         "name": "MonthlyMinSeaLevelPressureValue",
         "type": "\"long\""
        },
        {
         "metadata": "{}",
         "name": "MonthlyMinSeaLevelPressureValueDate",
         "type": "\"long\""
        },
        {
         "metadata": "{}",
         "name": "MonthlyMinSeaLevelPressureValueTime",
         "type": "\"long\""
        },
        {
         "metadata": "{}",
         "name": "MonthlyMinimumTemperature",
         "type": "\"long\""
        },
        {
         "metadata": "{}",
         "name": "MonthlySeaLevelPressure",
         "type": "\"long\""
        },
        {
         "metadata": "{}",
         "name": "MonthlyStationPressure",
         "type": "\"long\""
        },
        {
         "metadata": "{}",
         "name": "MonthlyTotalLiquidPrecipitation",
         "type": "\"long\""
        },
        {
         "metadata": "{}",
         "name": "MonthlyTotalSnowfall",
         "type": "\"long\""
        },
        {
         "metadata": "{}",
         "name": "MonthlyWetBulb",
         "type": "\"long\""
        },
        {
         "metadata": "{}",
         "name": "AWND",
         "type": "\"long\""
        },
        {
         "metadata": "{}",
         "name": "CDSD",
         "type": "\"long\""
        },
        {
         "metadata": "{}",
         "name": "CLDD",
         "type": "\"long\""
        },
        {
         "metadata": "{}",
         "name": "DSNW",
         "type": "\"long\""
        },
        {
         "metadata": "{}",
         "name": "HDSD",
         "type": "\"long\""
        },
        {
         "metadata": "{}",
         "name": "HTDD",
         "type": "\"long\""
        },
        {
         "metadata": "{}",
         "name": "NormalsCoolingDegreeDay",
         "type": "\"long\""
        },
        {
         "metadata": "{}",
         "name": "NormalsHeatingDegreeDay",
         "type": "\"long\""
        },
        {
         "metadata": "{}",
         "name": "ShortDurationEndDate005",
         "type": "\"long\""
        },
        {
         "metadata": "{}",
         "name": "ShortDurationEndDate010",
         "type": "\"long\""
        },
        {
         "metadata": "{}",
         "name": "ShortDurationEndDate015",
         "type": "\"long\""
        },
        {
         "metadata": "{}",
         "name": "ShortDurationEndDate020",
         "type": "\"long\""
        },
        {
         "metadata": "{}",
         "name": "ShortDurationEndDate030",
         "type": "\"long\""
        },
        {
         "metadata": "{}",
         "name": "ShortDurationEndDate045",
         "type": "\"long\""
        },
        {
         "metadata": "{}",
         "name": "ShortDurationEndDate060",
         "type": "\"long\""
        },
        {
         "metadata": "{}",
         "name": "ShortDurationEndDate080",
         "type": "\"long\""
        },
        {
         "metadata": "{}",
         "name": "ShortDurationEndDate100",
         "type": "\"long\""
        },
        {
         "metadata": "{}",
         "name": "ShortDurationEndDate120",
         "type": "\"long\""
        },
        {
         "metadata": "{}",
         "name": "ShortDurationEndDate150",
         "type": "\"long\""
        },
        {
         "metadata": "{}",
         "name": "ShortDurationEndDate180",
         "type": "\"long\""
        },
        {
         "metadata": "{}",
         "name": "ShortDurationPrecipitationValue005",
         "type": "\"long\""
        },
        {
         "metadata": "{}",
         "name": "ShortDurationPrecipitationValue010",
         "type": "\"long\""
        },
        {
         "metadata": "{}",
         "name": "ShortDurationPrecipitationValue015",
         "type": "\"long\""
        },
        {
         "metadata": "{}",
         "name": "ShortDurationPrecipitationValue020",
         "type": "\"long\""
        },
        {
         "metadata": "{}",
         "name": "ShortDurationPrecipitationValue030",
         "type": "\"long\""
        },
        {
         "metadata": "{}",
         "name": "ShortDurationPrecipitationValue045",
         "type": "\"long\""
        },
        {
         "metadata": "{}",
         "name": "ShortDurationPrecipitationValue060",
         "type": "\"long\""
        },
        {
         "metadata": "{}",
         "name": "ShortDurationPrecipitationValue080",
         "type": "\"long\""
        },
        {
         "metadata": "{}",
         "name": "ShortDurationPrecipitationValue100",
         "type": "\"long\""
        },
        {
         "metadata": "{}",
         "name": "ShortDurationPrecipitationValue120",
         "type": "\"long\""
        },
        {
         "metadata": "{}",
         "name": "ShortDurationPrecipitationValue150",
         "type": "\"long\""
        },
        {
         "metadata": "{}",
         "name": "ShortDurationPrecipitationValue180",
         "type": "\"long\""
        },
        {
         "metadata": "{}",
         "name": "REM",
         "type": "\"long\""
        },
        {
         "metadata": "{}",
         "name": "BackupDirection",
         "type": "\"long\""
        },
        {
         "metadata": "{}",
         "name": "BackupDistance",
         "type": "\"long\""
        },
        {
         "metadata": "{}",
         "name": "BackupDistanceUnit",
         "type": "\"long\""
        },
        {
         "metadata": "{}",
         "name": "BackupElements",
         "type": "\"long\""
        },
        {
         "metadata": "{}",
         "name": "BackupElevation",
         "type": "\"long\""
        },
        {
         "metadata": "{}",
         "name": "BackupEquipment",
         "type": "\"long\""
        },
        {
         "metadata": "{}",
         "name": "BackupLatitude",
         "type": "\"long\""
        },
        {
         "metadata": "{}",
         "name": "BackupLongitude",
         "type": "\"long\""
        },
        {
         "metadata": "{}",
         "name": "BackupName",
         "type": "\"long\""
        },
        {
         "metadata": "{}",
         "name": "WindEquipmentChangeDate",
         "type": "\"long\""
        }
       ],
       "type": "table"
      }
     },
     "output_type": "display_data"
    }
   ],
   "source": [
    "display(n_null_3m)"
   ]
  },
  {
   "cell_type": "code",
   "execution_count": 0,
   "metadata": {
    "application/vnd.databricks.v1+cell": {
     "cellMetadata": {
      "byteLimit": 2048000,
      "rowLimit": 10000
     },
     "inputWidgets": {},
     "nuid": "71a4c978-a3bd-4de7-96c7-f55811fc8b7e",
     "showTitle": false,
     "title": ""
    }
   },
   "outputs": [
    {
     "output_type": "display_data",
     "data": {
      "text/html": [
       "<style scoped>\n",
       "  .table-result-container {\n",
       "    max-height: 300px;\n",
       "    overflow: auto;\n",
       "  }\n",
       "  table, th, td {\n",
       "    border: 1px solid black;\n",
       "    border-collapse: collapse;\n",
       "  }\n",
       "  th, td {\n",
       "    padding: 5px;\n",
       "  }\n",
       "  th {\n",
       "    text-align: left;\n",
       "  }\n",
       "</style><div class='table-result-container'><table class='table-result'><thead style='background-color: white'><tr><th>QUARTER</th><th>MONTH</th><th>DAY_OF_MONTH</th><th>DAY_OF_WEEK</th><th>FL_DATE</th><th>OP_UNIQUE_CARRIER</th><th>OP_CARRIER_AIRLINE_ID</th><th>OP_CARRIER</th><th>TAIL_NUM</th><th>OP_CARRIER_FL_NUM</th><th>ORIGIN_AIRPORT_ID</th><th>ORIGIN_AIRPORT_SEQ_ID</th><th>ORIGIN_CITY_MARKET_ID</th><th>ORIGIN</th><th>ORIGIN_CITY_NAME</th><th>ORIGIN_STATE_ABR</th><th>ORIGIN_STATE_FIPS</th><th>ORIGIN_STATE_NM</th><th>ORIGIN_WAC</th><th>DEST_AIRPORT_ID</th><th>DEST_AIRPORT_SEQ_ID</th><th>DEST_CITY_MARKET_ID</th><th>DEST</th><th>DEST_CITY_NAME</th><th>DEST_STATE_ABR</th><th>DEST_STATE_FIPS</th><th>DEST_STATE_NM</th><th>DEST_WAC</th><th>CRS_DEP_TIME</th><th>DEP_DELAY</th><th>DEP_DELAY_NEW</th><th>DEP_DEL15</th><th>DEP_DELAY_GROUP</th><th>DEP_TIME_BLK</th><th>TAXI_OUT</th><th>WHEELS_OFF</th><th>WHEELS_ON</th><th>TAXI_IN</th><th>CRS_ARR_TIME</th><th>ARR_TIME</th><th>ARR_DELAY</th><th>ARR_DELAY_NEW</th><th>ARR_DEL15</th><th>ARR_DELAY_GROUP</th><th>ARR_TIME_BLK</th><th>CANCELLED</th><th>CANCELLATION_CODE</th><th>DIVERTED</th><th>CRS_ELAPSED_TIME</th><th>ACTUAL_ELAPSED_TIME</th><th>AIR_TIME</th><th>FLIGHTS</th><th>DISTANCE</th><th>DISTANCE_GROUP</th><th>CARRIER_DELAY</th><th>WEATHER_DELAY</th><th>NAS_DELAY</th><th>SECURITY_DELAY</th><th>LATE_AIRCRAFT_DELAY</th><th>FIRST_DEP_TIME</th><th>TOTAL_ADD_GTIME</th><th>LONGEST_ADD_GTIME</th><th>DIV_AIRPORT_LANDINGS</th><th>DIV_REACHED_DEST</th><th>DIV_ACTUAL_ELAPSED_TIME</th><th>DIV_ARR_DELAY</th><th>DIV_DISTANCE</th><th>DIV1_AIRPORT</th><th>DIV1_AIRPORT_ID</th><th>DIV1_AIRPORT_SEQ_ID</th><th>DIV1_WHEELS_ON</th><th>DIV1_TOTAL_GTIME</th><th>DIV1_LONGEST_GTIME</th><th>DIV1_WHEELS_OFF</th><th>DIV1_TAIL_NUM</th><th>DIV2_AIRPORT</th><th>DIV2_AIRPORT_ID</th><th>DIV2_AIRPORT_SEQ_ID</th><th>DIV2_WHEELS_ON</th><th>DIV2_TOTAL_GTIME</th><th>DIV2_LONGEST_GTIME</th><th>DIV2_WHEELS_OFF</th><th>DIV2_TAIL_NUM</th><th>DIV3_AIRPORT</th><th>DIV3_AIRPORT_ID</th><th>DIV3_AIRPORT_SEQ_ID</th><th>DIV3_WHEELS_ON</th><th>DIV3_TOTAL_GTIME</th><th>DIV3_LONGEST_GTIME</th><th>DIV3_WHEELS_OFF</th><th>DIV3_TAIL_NUM</th><th>DIV4_AIRPORT</th><th>DIV4_AIRPORT_ID</th><th>DIV4_AIRPORT_SEQ_ID</th><th>DIV4_WHEELS_ON</th><th>DIV4_TOTAL_GTIME</th><th>DIV4_LONGEST_GTIME</th><th>DIV4_WHEELS_OFF</th><th>DIV4_TAIL_NUM</th><th>DIV5_AIRPORT</th><th>DIV5_AIRPORT_ID</th><th>DIV5_AIRPORT_SEQ_ID</th><th>DIV5_WHEELS_ON</th><th>DIV5_TOTAL_GTIME</th><th>DIV5_LONGEST_GTIME</th><th>DIV5_WHEELS_OFF</th><th>DIV5_TAIL_NUM</th><th>YEAR</th><th>iata_code</th><th>type</th><th>station_id</th><th>STATION</th><th>DATE</th><th>LATITUDE</th><th>LONGITUDE</th><th>ELEVATION</th><th>REPORT_TYPE</th><th>SOURCE</th><th>HourlyAltimeterSetting</th><th>HourlyDewPointTemperature</th><th>HourlyDryBulbTemperature</th><th>HourlyPrecipitation</th><th>HourlyPresentWeatherType</th><th>HourlyPressureChange</th><th>HourlyPressureTendency</th><th>HourlyRelativeHumidity</th><th>HourlySkyConditions</th><th>HourlySeaLevelPressure</th><th>HourlyStationPressure</th><th>HourlyVisibility</th><th>HourlyWetBulbTemperature</th><th>HourlyWindDirection</th><th>HourlyWindGustSpeed</th><th>HourlyWindSpeed</th><th>Sunrise</th><th>Sunset</th><th>DailyAverageDewPointTemperature</th><th>DailyAverageDryBulbTemperature</th><th>DailyAverageRelativeHumidity</th><th>DailyAverageSeaLevelPressure</th><th>DailyAverageStationPressure</th><th>DailyAverageWetBulbTemperature</th><th>DailyAverageWindSpeed</th><th>DailyCoolingDegreeDays</th><th>DailyDepartureFromNormalAverageTemperature</th><th>DailyHeatingDegreeDays</th><th>DailyMaximumDryBulbTemperature</th><th>DailyMinimumDryBulbTemperature</th><th>DailyPeakWindDirection</th><th>DailyPeakWindSpeed</th><th>DailyPrecipitation</th><th>DailySnowDepth</th><th>DailySnowfall</th><th>DailySustainedWindDirection</th><th>DailySustainedWindSpeed</th><th>DailyWeather</th><th>MonthlyAverageRH</th><th>MonthlyDaysWithGT001Precip</th><th>MonthlyDaysWithGT010Precip</th><th>MonthlyDaysWithGT32Temp</th><th>MonthlyDaysWithGT90Temp</th><th>MonthlyDaysWithLT0Temp</th><th>MonthlyDaysWithLT32Temp</th><th>MonthlyDepartureFromNormalAverageTemperature</th><th>MonthlyDepartureFromNormalCoolingDegreeDays</th><th>MonthlyDepartureFromNormalHeatingDegreeDays</th><th>MonthlyDepartureFromNormalMaximumTemperature</th><th>MonthlyDepartureFromNormalMinimumTemperature</th><th>MonthlyDepartureFromNormalPrecipitation</th><th>MonthlyDewpointTemperature</th><th>MonthlyGreatestPrecip</th><th>MonthlyGreatestPrecipDate</th><th>MonthlyGreatestSnowDepth</th><th>MonthlyGreatestSnowDepthDate</th><th>MonthlyGreatestSnowfall</th><th>MonthlyGreatestSnowfallDate</th><th>MonthlyMaxSeaLevelPressureValue</th><th>MonthlyMaxSeaLevelPressureValueDate</th><th>MonthlyMaxSeaLevelPressureValueTime</th><th>MonthlyMaximumTemperature</th><th>MonthlyMeanTemperature</th><th>MonthlyMinSeaLevelPressureValue</th><th>MonthlyMinSeaLevelPressureValueDate</th><th>MonthlyMinSeaLevelPressureValueTime</th><th>MonthlyMinimumTemperature</th><th>MonthlySeaLevelPressure</th><th>MonthlyStationPressure</th><th>MonthlyTotalLiquidPrecipitation</th><th>MonthlyTotalSnowfall</th><th>MonthlyWetBulb</th><th>AWND</th><th>CDSD</th><th>CLDD</th><th>DSNW</th><th>HDSD</th><th>HTDD</th><th>NormalsCoolingDegreeDay</th><th>NormalsHeatingDegreeDay</th><th>ShortDurationEndDate005</th><th>ShortDurationEndDate010</th><th>ShortDurationEndDate015</th><th>ShortDurationEndDate020</th><th>ShortDurationEndDate030</th><th>ShortDurationEndDate045</th><th>ShortDurationEndDate060</th><th>ShortDurationEndDate080</th><th>ShortDurationEndDate100</th><th>ShortDurationEndDate120</th><th>ShortDurationEndDate150</th><th>ShortDurationEndDate180</th><th>ShortDurationPrecipitationValue005</th><th>ShortDurationPrecipitationValue010</th><th>ShortDurationPrecipitationValue015</th><th>ShortDurationPrecipitationValue020</th><th>ShortDurationPrecipitationValue030</th><th>ShortDurationPrecipitationValue045</th><th>ShortDurationPrecipitationValue060</th><th>ShortDurationPrecipitationValue080</th><th>ShortDurationPrecipitationValue100</th><th>ShortDurationPrecipitationValue120</th><th>ShortDurationPrecipitationValue150</th><th>ShortDurationPrecipitationValue180</th><th>REM</th><th>BackupDirection</th><th>BackupDistance</th><th>BackupDistanceUnit</th><th>BackupElements</th><th>BackupElevation</th><th>BackupEquipment</th><th>BackupLatitude</th><th>BackupLongitude</th><th>BackupName</th><th>WindEquipmentChangeDate</th></tr></thead><tbody><tr><td>0.0</td><td>0.0</td><td>0.0</td><td>0.0</td><td>0.0</td><td>0.0</td><td>0.0</td><td>0.0</td><td>0.0058888936750244765</td><td>0.0</td><td>0.0</td><td>0.0</td><td>0.0</td><td>0.0</td><td>0.0</td><td>0.0</td><td>0.0</td><td>0.0</td><td>0.0</td><td>0.0</td><td>0.0</td><td>0.0</td><td>0.0</td><td>0.0</td><td>0.0</td><td>0.0</td><td>0.0</td><td>0.0</td><td>0.0</td><td>0.030716282506276935</td><td>0.030716282506276935</td><td>0.030716282506276935</td><td>0.030716282506276935</td><td>0.0</td><td>0.03130254355525346</td><td>0.03130254355525346</td><td>0.03216550813793124</td><td>0.03216550813793124</td><td>0.0</td><td>0.03216550813793124</td><td>0.033768782438743754</td><td>0.033768782438743754</td><td>0.033768782438743754</td><td>0.033768782438743754</td><td>0.0</td><td>0.0</td><td>0.9684572573350164</td><td>0.0</td><td>1.4601769588456424E-6</td><td>0.033768782438743754</td><td>0.033768782438743754</td><td>0.0</td><td>0.0</td><td>0.0</td><td>0.7946640753392904</td><td>0.7946640753392904</td><td>0.7946640753392904</td><td>0.7946640753392904</td><td>0.7946640753392904</td><td>0.9935737612041203</td><td>0.9935737612041203</td><td>0.9935737612041203</td><td>0.0</td><td>0.9977739602262398</td><td>0.9983967256991875</td><td>0.9983967256991875</td><td>0.9977739602262398</td><td>0.9975337611165097</td><td>0.9975337611165097</td><td>0.9975337611165097</td><td>0.9975337611165097</td><td>0.9975337611165097</td><td>0.9975337611165097</td><td>0.9983616814521752</td><td>0.9983616814521752</td><td>0.9999583849566729</td><td>0.9999583849566729</td><td>0.9999583849566729</td><td>0.9999583849566729</td><td>0.9999583849566729</td><td>0.9999583849566729</td><td>0.9999919690267264</td><td>0.9999919690267264</td><td>0.9999985398230411</td><td>0.9999985398230411</td><td>0.9999985398230411</td><td>0.9999985398230411</td><td>0.9999985398230411</td><td>0.9999985398230411</td><td>1.0</td><td>1.0</td><td>1.0</td><td>1.0</td><td>1.0</td><td>1.0</td><td>1.0</td><td>1.0</td><td>1.0</td><td>1.0</td><td>1.0</td><td>1.0</td><td>1.0</td><td>1.0</td><td>1.0</td><td>1.0</td><td>1.0</td><td>1.0</td><td>0.0</td><td>0.0</td><td>0.0</td><td>0.0</td><td>2.12455747512041E-4</td><td>2.12455747512041E-4</td><td>2.12455747512041E-4</td><td>2.12455747512041E-4</td><td>2.12455747512041E-4</td><td>2.12455747512041E-4</td><td>2.12455747512041E-4</td><td>0.19976753982815176</td><td>0.003500774258832428</td><td>0.0033744689518922797</td><td>0.28280488312378577</td><td>0.8472684104586635</td><td>0.5348248554242289</td><td>0.5348248554242289</td><td>0.0035599114256656766</td><td>0.093159289974352</td><td>0.1357628731025913</td><td>0.01362491120298869</td><td>0.003259845060622897</td><td>0.014006017389247402</td><td>0.008769822814826928</td><td>0.8943613076468737</td><td>0.0035730530182952872</td><td>0.9999992699115205</td><td>0.9999992699115205</td><td>1.0</td><td>1.0</td><td>1.0</td><td>1.0</td><td>0.9999992699115205</td><td>1.0</td><td>0.9999992699115205</td><td>1.0</td><td>1.0</td><td>1.0</td><td>1.0</td><td>1.0</td><td>1.0</td><td>0.9999992699115205</td><td>0.9999992699115205</td><td>0.9999992699115205</td><td>1.0</td><td>0.9999992699115205</td><td>0.9999992699115205</td><td>0.9999992699115205</td><td>1.0</td><td>1.0</td><td>1.0</td><td>1.0</td><td>1.0</td><td>1.0</td><td>1.0</td><td>1.0</td><td>1.0</td><td>1.0</td><td>1.0</td><td>1.0</td><td>1.0</td><td>1.0</td><td>1.0</td><td>1.0</td><td>1.0</td><td>1.0</td><td>1.0</td><td>1.0</td><td>1.0</td><td>1.0</td><td>1.0</td><td>1.0</td><td>1.0</td><td>1.0</td><td>1.0</td><td>1.0</td><td>1.0</td><td>1.0</td><td>1.0</td><td>1.0</td><td>1.0</td><td>1.0</td><td>1.0</td><td>1.0</td><td>1.0</td><td>1.0</td><td>1.0</td><td>1.0</td><td>1.0</td><td>1.0</td><td>1.0</td><td>1.0</td><td>1.0</td><td>1.0</td><td>1.0</td><td>1.0</td><td>1.0</td><td>1.0</td><td>1.0</td><td>1.0</td><td>1.0</td><td>1.0</td><td>1.0</td><td>1.0</td><td>1.0</td><td>1.0</td><td>1.0</td><td>1.0</td><td>1.0</td><td>1.0</td><td>1.0</td><td>1.0</td><td>1.0</td><td>1.0</td><td>0.0029546680762241578</td><td>0.6474775077991701</td><td>0.6474775077991701</td><td>0.6474775077991701</td><td>0.6199144774355204</td><td>0.7470455144458957</td><td>0.6585208261389198</td><td>0.7342653156135992</td><td>0.7342653156135992</td><td>0.6044606945915776</td><td>0.34876034626636404</td></tr></tbody></table></div>"
      ]
     },
     "metadata": {
      "application/vnd.databricks.v1+output": {
       "addedWidgets": {},
       "aggData": [],
       "aggError": "",
       "aggOverflow": false,
       "aggSchema": [],
       "aggSeriesLimitReached": false,
       "aggType": "",
       "arguments": {},
       "columnCustomDisplayInfos": {},
       "data": [
        [
         0.0,
         0.0,
         0.0,
         0.0,
         0.0,
         0.0,
         0.0,
         0.0,
         0.0058888936750244765,
         0.0,
         0.0,
         0.0,
         0.0,
         0.0,
         0.0,
         0.0,
         0.0,
         0.0,
         0.0,
         0.0,
         0.0,
         0.0,
         0.0,
         0.0,
         0.0,
         0.0,
         0.0,
         0.0,
         0.0,
         0.030716282506276935,
         0.030716282506276935,
         0.030716282506276935,
         0.030716282506276935,
         0.0,
         0.03130254355525346,
         0.03130254355525346,
         0.03216550813793124,
         0.03216550813793124,
         0.0,
         0.03216550813793124,
         0.033768782438743754,
         0.033768782438743754,
         0.033768782438743754,
         0.033768782438743754,
         0.0,
         0.0,
         0.9684572573350164,
         0.0,
         1.4601769588456424E-6,
         0.033768782438743754,
         0.033768782438743754,
         0.0,
         0.0,
         0.0,
         0.7946640753392904,
         0.7946640753392904,
         0.7946640753392904,
         0.7946640753392904,
         0.7946640753392904,
         0.9935737612041203,
         0.9935737612041203,
         0.9935737612041203,
         0.0,
         0.9977739602262398,
         0.9983967256991875,
         0.9983967256991875,
         0.9977739602262398,
         0.9975337611165097,
         0.9975337611165097,
         0.9975337611165097,
         0.9975337611165097,
         0.9975337611165097,
         0.9975337611165097,
         0.9983616814521752,
         0.9983616814521752,
         0.9999583849566729,
         0.9999583849566729,
         0.9999583849566729,
         0.9999583849566729,
         0.9999583849566729,
         0.9999583849566729,
         0.9999919690267264,
         0.9999919690267264,
         0.9999985398230411,
         0.9999985398230411,
         0.9999985398230411,
         0.9999985398230411,
         0.9999985398230411,
         0.9999985398230411,
         1.0,
         1.0,
         1.0,
         1.0,
         1.0,
         1.0,
         1.0,
         1.0,
         1.0,
         1.0,
         1.0,
         1.0,
         1.0,
         1.0,
         1.0,
         1.0,
         1.0,
         1.0,
         0.0,
         0.0,
         0.0,
         0.0,
         2.12455747512041E-4,
         2.12455747512041E-4,
         2.12455747512041E-4,
         2.12455747512041E-4,
         2.12455747512041E-4,
         2.12455747512041E-4,
         2.12455747512041E-4,
         0.19976753982815176,
         0.003500774258832428,
         0.0033744689518922797,
         0.28280488312378577,
         0.8472684104586635,
         0.5348248554242289,
         0.5348248554242289,
         0.0035599114256656766,
         0.093159289974352,
         0.1357628731025913,
         0.01362491120298869,
         0.003259845060622897,
         0.014006017389247402,
         0.008769822814826928,
         0.8943613076468737,
         0.0035730530182952872,
         0.9999992699115205,
         0.9999992699115205,
         1.0,
         1.0,
         1.0,
         1.0,
         0.9999992699115205,
         1.0,
         0.9999992699115205,
         1.0,
         1.0,
         1.0,
         1.0,
         1.0,
         1.0,
         0.9999992699115205,
         0.9999992699115205,
         0.9999992699115205,
         1.0,
         0.9999992699115205,
         0.9999992699115205,
         0.9999992699115205,
         1.0,
         1.0,
         1.0,
         1.0,
         1.0,
         1.0,
         1.0,
         1.0,
         1.0,
         1.0,
         1.0,
         1.0,
         1.0,
         1.0,
         1.0,
         1.0,
         1.0,
         1.0,
         1.0,
         1.0,
         1.0,
         1.0,
         1.0,
         1.0,
         1.0,
         1.0,
         1.0,
         1.0,
         1.0,
         1.0,
         1.0,
         1.0,
         1.0,
         1.0,
         1.0,
         1.0,
         1.0,
         1.0,
         1.0,
         1.0,
         1.0,
         1.0,
         1.0,
         1.0,
         1.0,
         1.0,
         1.0,
         1.0,
         1.0,
         1.0,
         1.0,
         1.0,
         1.0,
         1.0,
         1.0,
         1.0,
         1.0,
         1.0,
         1.0,
         1.0,
         1.0,
         1.0,
         1.0,
         1.0,
         1.0,
         1.0,
         0.0029546680762241578,
         0.6474775077991701,
         0.6474775077991701,
         0.6474775077991701,
         0.6199144774355204,
         0.7470455144458957,
         0.6585208261389198,
         0.7342653156135992,
         0.7342653156135992,
         0.6044606945915776,
         0.34876034626636404
        ]
       ],
       "datasetInfos": [],
       "dbfsResultPath": null,
       "isJsonSchema": true,
       "metadata": {},
       "overflow": false,
       "plotOptions": {
        "customPlotOptions": {},
        "displayType": "table",
        "pivotAggregation": null,
        "pivotColumns": null,
        "xColumns": null,
        "yColumns": null
       },
       "removedWidgets": [],
       "schema": [
        {
         "metadata": "{}",
         "name": "QUARTER",
         "type": "\"double\""
        },
        {
         "metadata": "{}",
         "name": "MONTH",
         "type": "\"double\""
        },
        {
         "metadata": "{}",
         "name": "DAY_OF_MONTH",
         "type": "\"double\""
        },
        {
         "metadata": "{}",
         "name": "DAY_OF_WEEK",
         "type": "\"double\""
        },
        {
         "metadata": "{}",
         "name": "FL_DATE",
         "type": "\"double\""
        },
        {
         "metadata": "{}",
         "name": "OP_UNIQUE_CARRIER",
         "type": "\"double\""
        },
        {
         "metadata": "{}",
         "name": "OP_CARRIER_AIRLINE_ID",
         "type": "\"double\""
        },
        {
         "metadata": "{}",
         "name": "OP_CARRIER",
         "type": "\"double\""
        },
        {
         "metadata": "{}",
         "name": "TAIL_NUM",
         "type": "\"double\""
        },
        {
         "metadata": "{}",
         "name": "OP_CARRIER_FL_NUM",
         "type": "\"double\""
        },
        {
         "metadata": "{}",
         "name": "ORIGIN_AIRPORT_ID",
         "type": "\"double\""
        },
        {
         "metadata": "{}",
         "name": "ORIGIN_AIRPORT_SEQ_ID",
         "type": "\"double\""
        },
        {
         "metadata": "{}",
         "name": "ORIGIN_CITY_MARKET_ID",
         "type": "\"double\""
        },
        {
         "metadata": "{}",
         "name": "ORIGIN",
         "type": "\"double\""
        },
        {
         "metadata": "{}",
         "name": "ORIGIN_CITY_NAME",
         "type": "\"double\""
        },
        {
         "metadata": "{}",
         "name": "ORIGIN_STATE_ABR",
         "type": "\"double\""
        },
        {
         "metadata": "{}",
         "name": "ORIGIN_STATE_FIPS",
         "type": "\"double\""
        },
        {
         "metadata": "{}",
         "name": "ORIGIN_STATE_NM",
         "type": "\"double\""
        },
        {
         "metadata": "{}",
         "name": "ORIGIN_WAC",
         "type": "\"double\""
        },
        {
         "metadata": "{}",
         "name": "DEST_AIRPORT_ID",
         "type": "\"double\""
        },
        {
         "metadata": "{}",
         "name": "DEST_AIRPORT_SEQ_ID",
         "type": "\"double\""
        },
        {
         "metadata": "{}",
         "name": "DEST_CITY_MARKET_ID",
         "type": "\"double\""
        },
        {
         "metadata": "{}",
         "name": "DEST",
         "type": "\"double\""
        },
        {
         "metadata": "{}",
         "name": "DEST_CITY_NAME",
         "type": "\"double\""
        },
        {
         "metadata": "{}",
         "name": "DEST_STATE_ABR",
         "type": "\"double\""
        },
        {
         "metadata": "{}",
         "name": "DEST_STATE_FIPS",
         "type": "\"double\""
        },
        {
         "metadata": "{}",
         "name": "DEST_STATE_NM",
         "type": "\"double\""
        },
        {
         "metadata": "{}",
         "name": "DEST_WAC",
         "type": "\"double\""
        },
        {
         "metadata": "{}",
         "name": "CRS_DEP_TIME",
         "type": "\"double\""
        },
        {
         "metadata": "{}",
         "name": "DEP_DELAY",
         "type": "\"double\""
        },
        {
         "metadata": "{}",
         "name": "DEP_DELAY_NEW",
         "type": "\"double\""
        },
        {
         "metadata": "{}",
         "name": "DEP_DEL15",
         "type": "\"double\""
        },
        {
         "metadata": "{}",
         "name": "DEP_DELAY_GROUP",
         "type": "\"double\""
        },
        {
         "metadata": "{}",
         "name": "DEP_TIME_BLK",
         "type": "\"double\""
        },
        {
         "metadata": "{}",
         "name": "TAXI_OUT",
         "type": "\"double\""
        },
        {
         "metadata": "{}",
         "name": "WHEELS_OFF",
         "type": "\"double\""
        },
        {
         "metadata": "{}",
         "name": "WHEELS_ON",
         "type": "\"double\""
        },
        {
         "metadata": "{}",
         "name": "TAXI_IN",
         "type": "\"double\""
        },
        {
         "metadata": "{}",
         "name": "CRS_ARR_TIME",
         "type": "\"double\""
        },
        {
         "metadata": "{}",
         "name": "ARR_TIME",
         "type": "\"double\""
        },
        {
         "metadata": "{}",
         "name": "ARR_DELAY",
         "type": "\"double\""
        },
        {
         "metadata": "{}",
         "name": "ARR_DELAY_NEW",
         "type": "\"double\""
        },
        {
         "metadata": "{}",
         "name": "ARR_DEL15",
         "type": "\"double\""
        },
        {
         "metadata": "{}",
         "name": "ARR_DELAY_GROUP",
         "type": "\"double\""
        },
        {
         "metadata": "{}",
         "name": "ARR_TIME_BLK",
         "type": "\"double\""
        },
        {
         "metadata": "{}",
         "name": "CANCELLED",
         "type": "\"double\""
        },
        {
         "metadata": "{}",
         "name": "CANCELLATION_CODE",
         "type": "\"double\""
        },
        {
         "metadata": "{}",
         "name": "DIVERTED",
         "type": "\"double\""
        },
        {
         "metadata": "{}",
         "name": "CRS_ELAPSED_TIME",
         "type": "\"double\""
        },
        {
         "metadata": "{}",
         "name": "ACTUAL_ELAPSED_TIME",
         "type": "\"double\""
        },
        {
         "metadata": "{}",
         "name": "AIR_TIME",
         "type": "\"double\""
        },
        {
         "metadata": "{}",
         "name": "FLIGHTS",
         "type": "\"double\""
        },
        {
         "metadata": "{}",
         "name": "DISTANCE",
         "type": "\"double\""
        },
        {
         "metadata": "{}",
         "name": "DISTANCE_GROUP",
         "type": "\"double\""
        },
        {
         "metadata": "{}",
         "name": "CARRIER_DELAY",
         "type": "\"double\""
        },
        {
         "metadata": "{}",
         "name": "WEATHER_DELAY",
         "type": "\"double\""
        },
        {
         "metadata": "{}",
         "name": "NAS_DELAY",
         "type": "\"double\""
        },
        {
         "metadata": "{}",
         "name": "SECURITY_DELAY",
         "type": "\"double\""
        },
        {
         "metadata": "{}",
         "name": "LATE_AIRCRAFT_DELAY",
         "type": "\"double\""
        },
        {
         "metadata": "{}",
         "name": "FIRST_DEP_TIME",
         "type": "\"double\""
        },
        {
         "metadata": "{}",
         "name": "TOTAL_ADD_GTIME",
         "type": "\"double\""
        },
        {
         "metadata": "{}",
         "name": "LONGEST_ADD_GTIME",
         "type": "\"double\""
        },
        {
         "metadata": "{}",
         "name": "DIV_AIRPORT_LANDINGS",
         "type": "\"double\""
        },
        {
         "metadata": "{}",
         "name": "DIV_REACHED_DEST",
         "type": "\"double\""
        },
        {
         "metadata": "{}",
         "name": "DIV_ACTUAL_ELAPSED_TIME",
         "type": "\"double\""
        },
        {
         "metadata": "{}",
         "name": "DIV_ARR_DELAY",
         "type": "\"double\""
        },
        {
         "metadata": "{}",
         "name": "DIV_DISTANCE",
         "type": "\"double\""
        },
        {
         "metadata": "{}",
         "name": "DIV1_AIRPORT",
         "type": "\"double\""
        },
        {
         "metadata": "{}",
         "name": "DIV1_AIRPORT_ID",
         "type": "\"double\""
        },
        {
         "metadata": "{}",
         "name": "DIV1_AIRPORT_SEQ_ID",
         "type": "\"double\""
        },
        {
         "metadata": "{}",
         "name": "DIV1_WHEELS_ON",
         "type": "\"double\""
        },
        {
         "metadata": "{}",
         "name": "DIV1_TOTAL_GTIME",
         "type": "\"double\""
        },
        {
         "metadata": "{}",
         "name": "DIV1_LONGEST_GTIME",
         "type": "\"double\""
        },
        {
         "metadata": "{}",
         "name": "DIV1_WHEELS_OFF",
         "type": "\"double\""
        },
        {
         "metadata": "{}",
         "name": "DIV1_TAIL_NUM",
         "type": "\"double\""
        },
        {
         "metadata": "{}",
         "name": "DIV2_AIRPORT",
         "type": "\"double\""
        },
        {
         "metadata": "{}",
         "name": "DIV2_AIRPORT_ID",
         "type": "\"double\""
        },
        {
         "metadata": "{}",
         "name": "DIV2_AIRPORT_SEQ_ID",
         "type": "\"double\""
        },
        {
         "metadata": "{}",
         "name": "DIV2_WHEELS_ON",
         "type": "\"double\""
        },
        {
         "metadata": "{}",
         "name": "DIV2_TOTAL_GTIME",
         "type": "\"double\""
        },
        {
         "metadata": "{}",
         "name": "DIV2_LONGEST_GTIME",
         "type": "\"double\""
        },
        {
         "metadata": "{}",
         "name": "DIV2_WHEELS_OFF",
         "type": "\"double\""
        },
        {
         "metadata": "{}",
         "name": "DIV2_TAIL_NUM",
         "type": "\"double\""
        },
        {
         "metadata": "{}",
         "name": "DIV3_AIRPORT",
         "type": "\"double\""
        },
        {
         "metadata": "{}",
         "name": "DIV3_AIRPORT_ID",
         "type": "\"double\""
        },
        {
         "metadata": "{}",
         "name": "DIV3_AIRPORT_SEQ_ID",
         "type": "\"double\""
        },
        {
         "metadata": "{}",
         "name": "DIV3_WHEELS_ON",
         "type": "\"double\""
        },
        {
         "metadata": "{}",
         "name": "DIV3_TOTAL_GTIME",
         "type": "\"double\""
        },
        {
         "metadata": "{}",
         "name": "DIV3_LONGEST_GTIME",
         "type": "\"double\""
        },
        {
         "metadata": "{}",
         "name": "DIV3_WHEELS_OFF",
         "type": "\"double\""
        },
        {
         "metadata": "{}",
         "name": "DIV3_TAIL_NUM",
         "type": "\"double\""
        },
        {
         "metadata": "{}",
         "name": "DIV4_AIRPORT",
         "type": "\"double\""
        },
        {
         "metadata": "{}",
         "name": "DIV4_AIRPORT_ID",
         "type": "\"double\""
        },
        {
         "metadata": "{}",
         "name": "DIV4_AIRPORT_SEQ_ID",
         "type": "\"double\""
        },
        {
         "metadata": "{}",
         "name": "DIV4_WHEELS_ON",
         "type": "\"double\""
        },
        {
         "metadata": "{}",
         "name": "DIV4_TOTAL_GTIME",
         "type": "\"double\""
        },
        {
         "metadata": "{}",
         "name": "DIV4_LONGEST_GTIME",
         "type": "\"double\""
        },
        {
         "metadata": "{}",
         "name": "DIV4_WHEELS_OFF",
         "type": "\"double\""
        },
        {
         "metadata": "{}",
         "name": "DIV4_TAIL_NUM",
         "type": "\"double\""
        },
        {
         "metadata": "{}",
         "name": "DIV5_AIRPORT",
         "type": "\"double\""
        },
        {
         "metadata": "{}",
         "name": "DIV5_AIRPORT_ID",
         "type": "\"double\""
        },
        {
         "metadata": "{}",
         "name": "DIV5_AIRPORT_SEQ_ID",
         "type": "\"double\""
        },
        {
         "metadata": "{}",
         "name": "DIV5_WHEELS_ON",
         "type": "\"double\""
        },
        {
         "metadata": "{}",
         "name": "DIV5_TOTAL_GTIME",
         "type": "\"double\""
        },
        {
         "metadata": "{}",
         "name": "DIV5_LONGEST_GTIME",
         "type": "\"double\""
        },
        {
         "metadata": "{}",
         "name": "DIV5_WHEELS_OFF",
         "type": "\"double\""
        },
        {
         "metadata": "{}",
         "name": "DIV5_TAIL_NUM",
         "type": "\"double\""
        },
        {
         "metadata": "{}",
         "name": "YEAR",
         "type": "\"double\""
        },
        {
         "metadata": "{}",
         "name": "iata_code",
         "type": "\"double\""
        },
        {
         "metadata": "{}",
         "name": "type",
         "type": "\"double\""
        },
        {
         "metadata": "{}",
         "name": "station_id",
         "type": "\"double\""
        },
        {
         "metadata": "{}",
         "name": "STATION",
         "type": "\"double\""
        },
        {
         "metadata": "{}",
         "name": "DATE",
         "type": "\"double\""
        },
        {
         "metadata": "{}",
         "name": "LATITUDE",
         "type": "\"double\""
        },
        {
         "metadata": "{}",
         "name": "LONGITUDE",
         "type": "\"double\""
        },
        {
         "metadata": "{}",
         "name": "ELEVATION",
         "type": "\"double\""
        },
        {
         "metadata": "{}",
         "name": "REPORT_TYPE",
         "type": "\"double\""
        },
        {
         "metadata": "{}",
         "name": "SOURCE",
         "type": "\"double\""
        },
        {
         "metadata": "{}",
         "name": "HourlyAltimeterSetting",
         "type": "\"double\""
        },
        {
         "metadata": "{}",
         "name": "HourlyDewPointTemperature",
         "type": "\"double\""
        },
        {
         "metadata": "{}",
         "name": "HourlyDryBulbTemperature",
         "type": "\"double\""
        },
        {
         "metadata": "{}",
         "name": "HourlyPrecipitation",
         "type": "\"double\""
        },
        {
         "metadata": "{}",
         "name": "HourlyPresentWeatherType",
         "type": "\"double\""
        },
        {
         "metadata": "{}",
         "name": "HourlyPressureChange",
         "type": "\"double\""
        },
        {
         "metadata": "{}",
         "name": "HourlyPressureTendency",
         "type": "\"double\""
        },
        {
         "metadata": "{}",
         "name": "HourlyRelativeHumidity",
         "type": "\"double\""
        },
        {
         "metadata": "{}",
         "name": "HourlySkyConditions",
         "type": "\"double\""
        },
        {
         "metadata": "{}",
         "name": "HourlySeaLevelPressure",
         "type": "\"double\""
        },
        {
         "metadata": "{}",
         "name": "HourlyStationPressure",
         "type": "\"double\""
        },
        {
         "metadata": "{}",
         "name": "HourlyVisibility",
         "type": "\"double\""
        },
        {
         "metadata": "{}",
         "name": "HourlyWetBulbTemperature",
         "type": "\"double\""
        },
        {
         "metadata": "{}",
         "name": "HourlyWindDirection",
         "type": "\"double\""
        },
        {
         "metadata": "{}",
         "name": "HourlyWindGustSpeed",
         "type": "\"double\""
        },
        {
         "metadata": "{}",
         "name": "HourlyWindSpeed",
         "type": "\"double\""
        },
        {
         "metadata": "{}",
         "name": "Sunrise",
         "type": "\"double\""
        },
        {
         "metadata": "{}",
         "name": "Sunset",
         "type": "\"double\""
        },
        {
         "metadata": "{}",
         "name": "DailyAverageDewPointTemperature",
         "type": "\"double\""
        },
        {
         "metadata": "{}",
         "name": "DailyAverageDryBulbTemperature",
         "type": "\"double\""
        },
        {
         "metadata": "{}",
         "name": "DailyAverageRelativeHumidity",
         "type": "\"double\""
        },
        {
         "metadata": "{}",
         "name": "DailyAverageSeaLevelPressure",
         "type": "\"double\""
        },
        {
         "metadata": "{}",
         "name": "DailyAverageStationPressure",
         "type": "\"double\""
        },
        {
         "metadata": "{}",
         "name": "DailyAverageWetBulbTemperature",
         "type": "\"double\""
        },
        {
         "metadata": "{}",
         "name": "DailyAverageWindSpeed",
         "type": "\"double\""
        },
        {
         "metadata": "{}",
         "name": "DailyCoolingDegreeDays",
         "type": "\"double\""
        },
        {
         "metadata": "{}",
         "name": "DailyDepartureFromNormalAverageTemperature",
         "type": "\"double\""
        },
        {
         "metadata": "{}",
         "name": "DailyHeatingDegreeDays",
         "type": "\"double\""
        },
        {
         "metadata": "{}",
         "name": "DailyMaximumDryBulbTemperature",
         "type": "\"double\""
        },
        {
         "metadata": "{}",
         "name": "DailyMinimumDryBulbTemperature",
         "type": "\"double\""
        },
        {
         "metadata": "{}",
         "name": "DailyPeakWindDirection",
         "type": "\"double\""
        },
        {
         "metadata": "{}",
         "name": "DailyPeakWindSpeed",
         "type": "\"double\""
        },
        {
         "metadata": "{}",
         "name": "DailyPrecipitation",
         "type": "\"double\""
        },
        {
         "metadata": "{}",
         "name": "DailySnowDepth",
         "type": "\"double\""
        },
        {
         "metadata": "{}",
         "name": "DailySnowfall",
         "type": "\"double\""
        },
        {
         "metadata": "{}",
         "name": "DailySustainedWindDirection",
         "type": "\"double\""
        },
        {
         "metadata": "{}",
         "name": "DailySustainedWindSpeed",
         "type": "\"double\""
        },
        {
         "metadata": "{}",
         "name": "DailyWeather",
         "type": "\"double\""
        },
        {
         "metadata": "{}",
         "name": "MonthlyAverageRH",
         "type": "\"double\""
        },
        {
         "metadata": "{}",
         "name": "MonthlyDaysWithGT001Precip",
         "type": "\"double\""
        },
        {
         "metadata": "{}",
         "name": "MonthlyDaysWithGT010Precip",
         "type": "\"double\""
        },
        {
         "metadata": "{}",
         "name": "MonthlyDaysWithGT32Temp",
         "type": "\"double\""
        },
        {
         "metadata": "{}",
         "name": "MonthlyDaysWithGT90Temp",
         "type": "\"double\""
        },
        {
         "metadata": "{}",
         "name": "MonthlyDaysWithLT0Temp",
         "type": "\"double\""
        },
        {
         "metadata": "{}",
         "name": "MonthlyDaysWithLT32Temp",
         "type": "\"double\""
        },
        {
         "metadata": "{}",
         "name": "MonthlyDepartureFromNormalAverageTemperature",
         "type": "\"double\""
        },
        {
         "metadata": "{}",
         "name": "MonthlyDepartureFromNormalCoolingDegreeDays",
         "type": "\"double\""
        },
        {
         "metadata": "{}",
         "name": "MonthlyDepartureFromNormalHeatingDegreeDays",
         "type": "\"double\""
        },
        {
         "metadata": "{}",
         "name": "MonthlyDepartureFromNormalMaximumTemperature",
         "type": "\"double\""
        },
        {
         "metadata": "{}",
         "name": "MonthlyDepartureFromNormalMinimumTemperature",
         "type": "\"double\""
        },
        {
         "metadata": "{}",
         "name": "MonthlyDepartureFromNormalPrecipitation",
         "type": "\"double\""
        },
        {
         "metadata": "{}",
         "name": "MonthlyDewpointTemperature",
         "type": "\"double\""
        },
        {
         "metadata": "{}",
         "name": "MonthlyGreatestPrecip",
         "type": "\"double\""
        },
        {
         "metadata": "{}",
         "name": "MonthlyGreatestPrecipDate",
         "type": "\"double\""
        },
        {
         "metadata": "{}",
         "name": "MonthlyGreatestSnowDepth",
         "type": "\"double\""
        },
        {
         "metadata": "{}",
         "name": "MonthlyGreatestSnowDepthDate",
         "type": "\"double\""
        },
        {
         "metadata": "{}",
         "name": "MonthlyGreatestSnowfall",
         "type": "\"double\""
        },
        {
         "metadata": "{}",
         "name": "MonthlyGreatestSnowfallDate",
         "type": "\"double\""
        },
        {
         "metadata": "{}",
         "name": "MonthlyMaxSeaLevelPressureValue",
         "type": "\"double\""
        },
        {
         "metadata": "{}",
         "name": "MonthlyMaxSeaLevelPressureValueDate",
         "type": "\"double\""
        },
        {
         "metadata": "{}",
         "name": "MonthlyMaxSeaLevelPressureValueTime",
         "type": "\"double\""
        },
        {
         "metadata": "{}",
         "name": "MonthlyMaximumTemperature",
         "type": "\"double\""
        },
        {
         "metadata": "{}",
         "name": "MonthlyMeanTemperature",
         "type": "\"double\""
        },
        {
         "metadata": "{}",
         "name": "MonthlyMinSeaLevelPressureValue",
         "type": "\"double\""
        },
        {
         "metadata": "{}",
         "name": "MonthlyMinSeaLevelPressureValueDate",
         "type": "\"double\""
        },
        {
         "metadata": "{}",
         "name": "MonthlyMinSeaLevelPressureValueTime",
         "type": "\"double\""
        },
        {
         "metadata": "{}",
         "name": "MonthlyMinimumTemperature",
         "type": "\"double\""
        },
        {
         "metadata": "{}",
         "name": "MonthlySeaLevelPressure",
         "type": "\"double\""
        },
        {
         "metadata": "{}",
         "name": "MonthlyStationPressure",
         "type": "\"double\""
        },
        {
         "metadata": "{}",
         "name": "MonthlyTotalLiquidPrecipitation",
         "type": "\"double\""
        },
        {
         "metadata": "{}",
         "name": "MonthlyTotalSnowfall",
         "type": "\"double\""
        },
        {
         "metadata": "{}",
         "name": "MonthlyWetBulb",
         "type": "\"double\""
        },
        {
         "metadata": "{}",
         "name": "AWND",
         "type": "\"double\""
        },
        {
         "metadata": "{}",
         "name": "CDSD",
         "type": "\"double\""
        },
        {
         "metadata": "{}",
         "name": "CLDD",
         "type": "\"double\""
        },
        {
         "metadata": "{}",
         "name": "DSNW",
         "type": "\"double\""
        },
        {
         "metadata": "{}",
         "name": "HDSD",
         "type": "\"double\""
        },
        {
         "metadata": "{}",
         "name": "HTDD",
         "type": "\"double\""
        },
        {
         "metadata": "{}",
         "name": "NormalsCoolingDegreeDay",
         "type": "\"double\""
        },
        {
         "metadata": "{}",
         "name": "NormalsHeatingDegreeDay",
         "type": "\"double\""
        },
        {
         "metadata": "{}",
         "name": "ShortDurationEndDate005",
         "type": "\"double\""
        },
        {
         "metadata": "{}",
         "name": "ShortDurationEndDate010",
         "type": "\"double\""
        },
        {
         "metadata": "{}",
         "name": "ShortDurationEndDate015",
         "type": "\"double\""
        },
        {
         "metadata": "{}",
         "name": "ShortDurationEndDate020",
         "type": "\"double\""
        },
        {
         "metadata": "{}",
         "name": "ShortDurationEndDate030",
         "type": "\"double\""
        },
        {
         "metadata": "{}",
         "name": "ShortDurationEndDate045",
         "type": "\"double\""
        },
        {
         "metadata": "{}",
         "name": "ShortDurationEndDate060",
         "type": "\"double\""
        },
        {
         "metadata": "{}",
         "name": "ShortDurationEndDate080",
         "type": "\"double\""
        },
        {
         "metadata": "{}",
         "name": "ShortDurationEndDate100",
         "type": "\"double\""
        },
        {
         "metadata": "{}",
         "name": "ShortDurationEndDate120",
         "type": "\"double\""
        },
        {
         "metadata": "{}",
         "name": "ShortDurationEndDate150",
         "type": "\"double\""
        },
        {
         "metadata": "{}",
         "name": "ShortDurationEndDate180",
         "type": "\"double\""
        },
        {
         "metadata": "{}",
         "name": "ShortDurationPrecipitationValue005",
         "type": "\"double\""
        },
        {
         "metadata": "{}",
         "name": "ShortDurationPrecipitationValue010",
         "type": "\"double\""
        },
        {
         "metadata": "{}",
         "name": "ShortDurationPrecipitationValue015",
         "type": "\"double\""
        },
        {
         "metadata": "{}",
         "name": "ShortDurationPrecipitationValue020",
         "type": "\"double\""
        },
        {
         "metadata": "{}",
         "name": "ShortDurationPrecipitationValue030",
         "type": "\"double\""
        },
        {
         "metadata": "{}",
         "name": "ShortDurationPrecipitationValue045",
         "type": "\"double\""
        },
        {
         "metadata": "{}",
         "name": "ShortDurationPrecipitationValue060",
         "type": "\"double\""
        },
        {
         "metadata": "{}",
         "name": "ShortDurationPrecipitationValue080",
         "type": "\"double\""
        },
        {
         "metadata": "{}",
         "name": "ShortDurationPrecipitationValue100",
         "type": "\"double\""
        },
        {
         "metadata": "{}",
         "name": "ShortDurationPrecipitationValue120",
         "type": "\"double\""
        },
        {
         "metadata": "{}",
         "name": "ShortDurationPrecipitationValue150",
         "type": "\"double\""
        },
        {
         "metadata": "{}",
         "name": "ShortDurationPrecipitationValue180",
         "type": "\"double\""
        },
        {
         "metadata": "{}",
         "name": "REM",
         "type": "\"double\""
        },
        {
         "metadata": "{}",
         "name": "BackupDirection",
         "type": "\"double\""
        },
        {
         "metadata": "{}",
         "name": "BackupDistance",
         "type": "\"double\""
        },
        {
         "metadata": "{}",
         "name": "BackupDistanceUnit",
         "type": "\"double\""
        },
        {
         "metadata": "{}",
         "name": "BackupElements",
         "type": "\"double\""
        },
        {
         "metadata": "{}",
         "name": "BackupElevation",
         "type": "\"double\""
        },
        {
         "metadata": "{}",
         "name": "BackupEquipment",
         "type": "\"double\""
        },
        {
         "metadata": "{}",
         "name": "BackupLatitude",
         "type": "\"double\""
        },
        {
         "metadata": "{}",
         "name": "BackupLongitude",
         "type": "\"double\""
        },
        {
         "metadata": "{}",
         "name": "BackupName",
         "type": "\"double\""
        },
        {
         "metadata": "{}",
         "name": "WindEquipmentChangeDate",
         "type": "\"double\""
        }
       ],
       "type": "table"
      }
     },
     "output_type": "display_data"
    }
   ],
   "source": [
    "display(perc_null_3m)"
   ]
  },
  {
   "cell_type": "code",
   "execution_count": 0,
   "metadata": {
    "application/vnd.databricks.v1+cell": {
     "cellMetadata": {
      "byteLimit": 2048000,
      "rowLimit": 10000
     },
     "inputWidgets": {},
     "nuid": "ced5463a-d389-405f-9cfe-599df0267567",
     "showTitle": false,
     "title": ""
    }
   },
   "outputs": [
    {
     "output_type": "display_data",
     "data": {
      "text/html": [
       "<style scoped>\n",
       "  .table-result-container {\n",
       "    max-height: 300px;\n",
       "    overflow: auto;\n",
       "  }\n",
       "  table, th, td {\n",
       "    border: 1px solid black;\n",
       "    border-collapse: collapse;\n",
       "  }\n",
       "  th, td {\n",
       "    padding: 5px;\n",
       "  }\n",
       "  th {\n",
       "    text-align: left;\n",
       "  }\n",
       "</style><div class='table-result-container'><table class='table-result'><thead style='background-color: white'><tr><th>QUARTER</th><th>MONTH</th><th>DAY_OF_MONTH</th><th>DAY_OF_WEEK</th><th>FL_DATE</th><th>OP_UNIQUE_CARRIER</th><th>OP_CARRIER_AIRLINE_ID</th><th>OP_CARRIER</th><th>TAIL_NUM</th><th>OP_CARRIER_FL_NUM</th><th>ORIGIN_AIRPORT_ID</th><th>ORIGIN_AIRPORT_SEQ_ID</th><th>ORIGIN_CITY_MARKET_ID</th><th>ORIGIN</th><th>ORIGIN_CITY_NAME</th><th>ORIGIN_STATE_ABR</th><th>ORIGIN_STATE_FIPS</th><th>ORIGIN_STATE_NM</th><th>ORIGIN_WAC</th><th>DEST_AIRPORT_ID</th><th>DEST_AIRPORT_SEQ_ID</th><th>DEST_CITY_MARKET_ID</th><th>DEST</th><th>DEST_CITY_NAME</th><th>DEST_STATE_ABR</th><th>DEST_STATE_FIPS</th><th>DEST_STATE_NM</th><th>DEST_WAC</th><th>CRS_DEP_TIME</th><th>DEP_DELAY</th><th>DEP_DELAY_NEW</th><th>DEP_DEL15</th><th>DEP_DELAY_GROUP</th><th>DEP_TIME_BLK</th><th>TAXI_OUT</th><th>WHEELS_OFF</th><th>WHEELS_ON</th><th>TAXI_IN</th><th>CRS_ARR_TIME</th><th>ARR_TIME</th><th>ARR_DELAY</th><th>ARR_DELAY_NEW</th><th>ARR_DEL15</th><th>ARR_DELAY_GROUP</th><th>ARR_TIME_BLK</th><th>CANCELLED</th><th>CANCELLATION_CODE</th><th>DIVERTED</th><th>CRS_ELAPSED_TIME</th><th>ACTUAL_ELAPSED_TIME</th><th>AIR_TIME</th><th>FLIGHTS</th><th>DISTANCE</th><th>DISTANCE_GROUP</th><th>CARRIER_DELAY</th><th>WEATHER_DELAY</th><th>NAS_DELAY</th><th>SECURITY_DELAY</th><th>LATE_AIRCRAFT_DELAY</th><th>FIRST_DEP_TIME</th><th>TOTAL_ADD_GTIME</th><th>LONGEST_ADD_GTIME</th><th>DIV_AIRPORT_LANDINGS</th><th>DIV_REACHED_DEST</th><th>DIV_ACTUAL_ELAPSED_TIME</th><th>DIV_ARR_DELAY</th><th>DIV_DISTANCE</th><th>DIV1_AIRPORT</th><th>DIV1_AIRPORT_ID</th><th>DIV1_AIRPORT_SEQ_ID</th><th>DIV1_WHEELS_ON</th><th>DIV1_TOTAL_GTIME</th><th>DIV1_LONGEST_GTIME</th><th>DIV1_WHEELS_OFF</th><th>DIV1_TAIL_NUM</th><th>DIV2_AIRPORT</th><th>DIV2_AIRPORT_ID</th><th>DIV2_AIRPORT_SEQ_ID</th><th>DIV2_WHEELS_ON</th><th>DIV2_TOTAL_GTIME</th><th>DIV2_LONGEST_GTIME</th><th>DIV2_WHEELS_OFF</th><th>DIV2_TAIL_NUM</th><th>DIV3_AIRPORT</th><th>DIV3_AIRPORT_ID</th><th>DIV3_AIRPORT_SEQ_ID</th><th>DIV3_WHEELS_ON</th><th>DIV3_TOTAL_GTIME</th><th>DIV3_LONGEST_GTIME</th><th>DIV3_WHEELS_OFF</th><th>DIV3_TAIL_NUM</th><th>DIV4_AIRPORT</th><th>DIV4_AIRPORT_ID</th><th>DIV4_AIRPORT_SEQ_ID</th><th>DIV4_WHEELS_ON</th><th>DIV4_TOTAL_GTIME</th><th>DIV4_LONGEST_GTIME</th><th>DIV4_WHEELS_OFF</th><th>DIV4_TAIL_NUM</th><th>DIV5_AIRPORT</th><th>DIV5_AIRPORT_ID</th><th>DIV5_AIRPORT_SEQ_ID</th><th>DIV5_WHEELS_ON</th><th>DIV5_TOTAL_GTIME</th><th>DIV5_LONGEST_GTIME</th><th>DIV5_WHEELS_OFF</th><th>DIV5_TAIL_NUM</th><th>YEAR</th><th>iata_code</th><th>type</th><th>municipality</th><th>station_state</th><th>station_id</th><th>STATION</th><th>DATE</th><th>LATITUDE</th><th>LONGITUDE</th><th>ELEVATION</th><th>REPORT_TYPE</th><th>SOURCE</th><th>HourlyAltimeterSetting</th><th>HourlyDewPointTemperature</th><th>HourlyDryBulbTemperature</th><th>HourlyPrecipitation</th><th>HourlyPresentWeatherType</th><th>HourlyPressureChange</th><th>HourlyPressureTendency</th><th>HourlyRelativeHumidity</th><th>HourlySkyConditions</th><th>HourlySeaLevelPressure</th><th>HourlyStationPressure</th><th>HourlyVisibility</th><th>HourlyWetBulbTemperature</th><th>HourlyWindDirection</th><th>HourlyWindGustSpeed</th><th>HourlyWindSpeed</th><th>Sunrise</th><th>Sunset</th><th>DailyAverageDewPointTemperature</th><th>DailyAverageDryBulbTemperature</th><th>DailyAverageRelativeHumidity</th><th>DailyAverageSeaLevelPressure</th><th>DailyAverageStationPressure</th><th>DailyAverageWetBulbTemperature</th><th>DailyAverageWindSpeed</th><th>DailyCoolingDegreeDays</th><th>DailyDepartureFromNormalAverageTemperature</th><th>DailyHeatingDegreeDays</th><th>DailyMaximumDryBulbTemperature</th><th>DailyMinimumDryBulbTemperature</th><th>DailyPeakWindDirection</th><th>DailyPeakWindSpeed</th><th>DailyPrecipitation</th><th>DailySnowDepth</th><th>DailySnowfall</th><th>DailySustainedWindDirection</th><th>DailySustainedWindSpeed</th><th>DailyWeather</th><th>MonthlyAverageRH</th><th>MonthlyDaysWithGT001Precip</th><th>MonthlyDaysWithGT010Precip</th><th>MonthlyDaysWithGT32Temp</th><th>MonthlyDaysWithGT90Temp</th><th>MonthlyDaysWithLT0Temp</th><th>MonthlyDaysWithLT32Temp</th><th>MonthlyDepartureFromNormalAverageTemperature</th><th>MonthlyDepartureFromNormalCoolingDegreeDays</th><th>MonthlyDepartureFromNormalHeatingDegreeDays</th><th>MonthlyDepartureFromNormalMaximumTemperature</th><th>MonthlyDepartureFromNormalMinimumTemperature</th><th>MonthlyDepartureFromNormalPrecipitation</th><th>MonthlyDewpointTemperature</th><th>MonthlyGreatestPrecip</th><th>MonthlyGreatestPrecipDate</th><th>MonthlyGreatestSnowDepth</th><th>MonthlyGreatestSnowDepthDate</th><th>MonthlyGreatestSnowfall</th><th>MonthlyGreatestSnowfallDate</th><th>MonthlyMaxSeaLevelPressureValue</th><th>MonthlyMaxSeaLevelPressureValueDate</th><th>MonthlyMaxSeaLevelPressureValueTime</th><th>MonthlyMaximumTemperature</th><th>MonthlyMeanTemperature</th><th>MonthlyMinSeaLevelPressureValue</th><th>MonthlyMinSeaLevelPressureValueDate</th><th>MonthlyMinSeaLevelPressureValueTime</th><th>MonthlyMinimumTemperature</th><th>MonthlySeaLevelPressure</th><th>MonthlyStationPressure</th><th>MonthlyTotalLiquidPrecipitation</th><th>MonthlyTotalSnowfall</th><th>MonthlyWetBulb</th><th>AWND</th><th>CDSD</th><th>CLDD</th><th>DSNW</th><th>HDSD</th><th>HTDD</th><th>NormalsCoolingDegreeDay</th><th>NormalsHeatingDegreeDay</th><th>ShortDurationEndDate005</th><th>ShortDurationEndDate010</th><th>ShortDurationEndDate015</th><th>ShortDurationEndDate020</th><th>ShortDurationEndDate030</th><th>ShortDurationEndDate045</th><th>ShortDurationEndDate060</th><th>ShortDurationEndDate080</th><th>ShortDurationEndDate100</th><th>ShortDurationEndDate120</th><th>ShortDurationEndDate150</th><th>ShortDurationEndDate180</th><th>ShortDurationPrecipitationValue005</th><th>ShortDurationPrecipitationValue010</th><th>ShortDurationPrecipitationValue015</th><th>ShortDurationPrecipitationValue020</th><th>ShortDurationPrecipitationValue030</th><th>ShortDurationPrecipitationValue045</th><th>ShortDurationPrecipitationValue060</th><th>ShortDurationPrecipitationValue080</th><th>ShortDurationPrecipitationValue100</th><th>ShortDurationPrecipitationValue120</th><th>ShortDurationPrecipitationValue150</th><th>ShortDurationPrecipitationValue180</th><th>REM</th><th>BackupDirection</th><th>BackupDistance</th><th>BackupDistanceUnit</th><th>BackupElements</th><th>BackupElevation</th><th>BackupEquipment</th><th>BackupLatitude</th><th>BackupLongitude</th><th>BackupName</th><th>WindEquipmentChangeDate</th></tr></thead><tbody><tr><td>0</td><td>0</td><td>0</td><td>0</td><td>0</td><td>0</td><td>0</td><td>0</td><td>17614</td><td>0</td><td>0</td><td>0</td><td>0</td><td>0</td><td>0</td><td>0</td><td>0</td><td>0</td><td>0</td><td>0</td><td>0</td><td>0</td><td>0</td><td>0</td><td>0</td><td>0</td><td>0</td><td>0</td><td>0</td><td>129512</td><td>129512</td><td>129512</td><td>129512</td><td>0</td><td>133346</td><td>133346</td><td>136974</td><td>136974</td><td>0</td><td>136973</td><td>152909</td><td>152909</td><td>152909</td><td>152909</td><td>0</td><td>0</td><td>7135752</td><td>0</td><td>135</td><td>152909</td><td>152909</td><td>0</td><td>0</td><td>0</td><td>5901073</td><td>5901073</td><td>5901073</td><td>5901073</td><td>5901073</td><td>7219665</td><td>7219666</td><td>7219666</td><td>0</td><td>7251407</td><td>7254099</td><td>7254098</td><td>7251413</td><td>7250471</td><td>7250471</td><td>7250471</td><td>7250471</td><td>7250471</td><td>7250471</td><td>7254009</td><td>7254009</td><td>7269884</td><td>7269883</td><td>7269883</td><td>7269884</td><td>7269884</td><td>7269884</td><td>7269971</td><td>7269971</td><td>7270031</td><td>7270031</td><td>7270031</td><td>7270031</td><td>7270031</td><td>7270031</td><td>7270033</td><td>7270033</td><td>7270034</td><td>7270034</td><td>7270034</td><td>7270034</td><td>7270034</td><td>7270034</td><td>7270034</td><td>7270034</td><td>7270034</td><td>7270034</td><td>7270034</td><td>7270034</td><td>7270034</td><td>7270034</td><td>7270034</td><td>7270034</td><td>0</td><td>0</td><td>0</td><td>0</td><td>0</td><td>0</td><td>1872</td><td>1872</td><td>1872</td><td>1872</td><td>1872</td><td>1872</td><td>1872</td><td>1464477</td><td>19070</td><td>17505</td><td>2158337</td><td>6440300</td><td>3810710</td><td>3810710</td><td>19231</td><td>629216</td><td>863411</td><td>126700</td><td>16719</td><td>129398</td><td>81556</td><td>6495690</td><td>22067</td><td>7270034</td><td>7270034</td><td>7270034</td><td>7270034</td><td>7270034</td><td>7270034</td><td>7270034</td><td>7270034</td><td>7270034</td><td>7270034</td><td>7270034</td><td>7270034</td><td>7270034</td><td>7270034</td><td>7270034</td><td>7270034</td><td>7270034</td><td>7270034</td><td>7270034</td><td>7270034</td><td>7270034</td><td>7270034</td><td>7270034</td><td>7270034</td><td>7270034</td><td>7270034</td><td>7270034</td><td>7270034</td><td>7270034</td><td>7270034</td><td>7270034</td><td>7270034</td><td>7270034</td><td>7270034</td><td>7270034</td><td>7270034</td><td>7270034</td><td>7270034</td><td>7270034</td><td>7270034</td><td>7270034</td><td>7270034</td><td>7270034</td><td>7270034</td><td>7270034</td><td>7270034</td><td>7270034</td><td>7270034</td><td>7270034</td><td>7270034</td><td>7270034</td><td>7270034</td><td>7270034</td><td>7270034</td><td>7270034</td><td>7270034</td><td>7270034</td><td>7270034</td><td>7270034</td><td>7270034</td><td>7270034</td><td>7270034</td><td>7270034</td><td>7270034</td><td>7270034</td><td>7270034</td><td>7270034</td><td>7270034</td><td>7270034</td><td>7270034</td><td>7270034</td><td>7270034</td><td>7270034</td><td>7270034</td><td>7270034</td><td>7270034</td><td>7270034</td><td>7270034</td><td>7270034</td><td>7270034</td><td>7270034</td><td>7270034</td><td>7270034</td><td>7270034</td><td>7270034</td><td>7270034</td><td>7270034</td><td>7270034</td><td>15644</td><td>4463996</td><td>4463996</td><td>4463996</td><td>4134171</td><td>5368891</td><td>4510012</td><td>5251873</td><td>5251873</td><td>4051273</td><td>1978753</td></tr></tbody></table></div>"
      ]
     },
     "metadata": {
      "application/vnd.databricks.v1+output": {
       "addedWidgets": {},
       "aggData": [],
       "aggError": "",
       "aggOverflow": false,
       "aggSchema": [],
       "aggSeriesLimitReached": false,
       "aggType": "",
       "arguments": {},
       "columnCustomDisplayInfos": {},
       "data": [
        [
         0,
         0,
         0,
         0,
         0,
         0,
         0,
         0,
         17614,
         0,
         0,
         0,
         0,
         0,
         0,
         0,
         0,
         0,
         0,
         0,
         0,
         0,
         0,
         0,
         0,
         0,
         0,
         0,
         0,
         129512,
         129512,
         129512,
         129512,
         0,
         133346,
         133346,
         136974,
         136974,
         0,
         136973,
         152909,
         152909,
         152909,
         152909,
         0,
         0,
         7135752,
         0,
         135,
         152909,
         152909,
         0,
         0,
         0,
         5901073,
         5901073,
         5901073,
         5901073,
         5901073,
         7219665,
         7219666,
         7219666,
         0,
         7251407,
         7254099,
         7254098,
         7251413,
         7250471,
         7250471,
         7250471,
         7250471,
         7250471,
         7250471,
         7254009,
         7254009,
         7269884,
         7269883,
         7269883,
         7269884,
         7269884,
         7269884,
         7269971,
         7269971,
         7270031,
         7270031,
         7270031,
         7270031,
         7270031,
         7270031,
         7270033,
         7270033,
         7270034,
         7270034,
         7270034,
         7270034,
         7270034,
         7270034,
         7270034,
         7270034,
         7270034,
         7270034,
         7270034,
         7270034,
         7270034,
         7270034,
         7270034,
         7270034,
         0,
         0,
         0,
         0,
         0,
         0,
         1872,
         1872,
         1872,
         1872,
         1872,
         1872,
         1872,
         1464477,
         19070,
         17505,
         2158337,
         6440300,
         3810710,
         3810710,
         19231,
         629216,
         863411,
         126700,
         16719,
         129398,
         81556,
         6495690,
         22067,
         7270034,
         7270034,
         7270034,
         7270034,
         7270034,
         7270034,
         7270034,
         7270034,
         7270034,
         7270034,
         7270034,
         7270034,
         7270034,
         7270034,
         7270034,
         7270034,
         7270034,
         7270034,
         7270034,
         7270034,
         7270034,
         7270034,
         7270034,
         7270034,
         7270034,
         7270034,
         7270034,
         7270034,
         7270034,
         7270034,
         7270034,
         7270034,
         7270034,
         7270034,
         7270034,
         7270034,
         7270034,
         7270034,
         7270034,
         7270034,
         7270034,
         7270034,
         7270034,
         7270034,
         7270034,
         7270034,
         7270034,
         7270034,
         7270034,
         7270034,
         7270034,
         7270034,
         7270034,
         7270034,
         7270034,
         7270034,
         7270034,
         7270034,
         7270034,
         7270034,
         7270034,
         7270034,
         7270034,
         7270034,
         7270034,
         7270034,
         7270034,
         7270034,
         7270034,
         7270034,
         7270034,
         7270034,
         7270034,
         7270034,
         7270034,
         7270034,
         7270034,
         7270034,
         7270034,
         7270034,
         7270034,
         7270034,
         7270034,
         7270034,
         7270034,
         7270034,
         7270034,
         7270034,
         15644,
         4463996,
         4463996,
         4463996,
         4134171,
         5368891,
         4510012,
         5251873,
         5251873,
         4051273,
         1978753
        ]
       ],
       "datasetInfos": [],
       "dbfsResultPath": null,
       "isJsonSchema": true,
       "metadata": {},
       "overflow": false,
       "plotOptions": {
        "customPlotOptions": {},
        "displayType": "table",
        "pivotAggregation": null,
        "pivotColumns": null,
        "xColumns": null,
        "yColumns": null
       },
       "removedWidgets": [],
       "schema": [
        {
         "metadata": "{}",
         "name": "QUARTER",
         "type": "\"long\""
        },
        {
         "metadata": "{}",
         "name": "MONTH",
         "type": "\"long\""
        },
        {
         "metadata": "{}",
         "name": "DAY_OF_MONTH",
         "type": "\"long\""
        },
        {
         "metadata": "{}",
         "name": "DAY_OF_WEEK",
         "type": "\"long\""
        },
        {
         "metadata": "{}",
         "name": "FL_DATE",
         "type": "\"long\""
        },
        {
         "metadata": "{}",
         "name": "OP_UNIQUE_CARRIER",
         "type": "\"long\""
        },
        {
         "metadata": "{}",
         "name": "OP_CARRIER_AIRLINE_ID",
         "type": "\"long\""
        },
        {
         "metadata": "{}",
         "name": "OP_CARRIER",
         "type": "\"long\""
        },
        {
         "metadata": "{}",
         "name": "TAIL_NUM",
         "type": "\"long\""
        },
        {
         "metadata": "{}",
         "name": "OP_CARRIER_FL_NUM",
         "type": "\"long\""
        },
        {
         "metadata": "{}",
         "name": "ORIGIN_AIRPORT_ID",
         "type": "\"long\""
        },
        {
         "metadata": "{}",
         "name": "ORIGIN_AIRPORT_SEQ_ID",
         "type": "\"long\""
        },
        {
         "metadata": "{}",
         "name": "ORIGIN_CITY_MARKET_ID",
         "type": "\"long\""
        },
        {
         "metadata": "{}",
         "name": "ORIGIN",
         "type": "\"long\""
        },
        {
         "metadata": "{}",
         "name": "ORIGIN_CITY_NAME",
         "type": "\"long\""
        },
        {
         "metadata": "{}",
         "name": "ORIGIN_STATE_ABR",
         "type": "\"long\""
        },
        {
         "metadata": "{}",
         "name": "ORIGIN_STATE_FIPS",
         "type": "\"long\""
        },
        {
         "metadata": "{}",
         "name": "ORIGIN_STATE_NM",
         "type": "\"long\""
        },
        {
         "metadata": "{}",
         "name": "ORIGIN_WAC",
         "type": "\"long\""
        },
        {
         "metadata": "{}",
         "name": "DEST_AIRPORT_ID",
         "type": "\"long\""
        },
        {
         "metadata": "{}",
         "name": "DEST_AIRPORT_SEQ_ID",
         "type": "\"long\""
        },
        {
         "metadata": "{}",
         "name": "DEST_CITY_MARKET_ID",
         "type": "\"long\""
        },
        {
         "metadata": "{}",
         "name": "DEST",
         "type": "\"long\""
        },
        {
         "metadata": "{}",
         "name": "DEST_CITY_NAME",
         "type": "\"long\""
        },
        {
         "metadata": "{}",
         "name": "DEST_STATE_ABR",
         "type": "\"long\""
        },
        {
         "metadata": "{}",
         "name": "DEST_STATE_FIPS",
         "type": "\"long\""
        },
        {
         "metadata": "{}",
         "name": "DEST_STATE_NM",
         "type": "\"long\""
        },
        {
         "metadata": "{}",
         "name": "DEST_WAC",
         "type": "\"long\""
        },
        {
         "metadata": "{}",
         "name": "CRS_DEP_TIME",
         "type": "\"long\""
        },
        {
         "metadata": "{}",
         "name": "DEP_DELAY",
         "type": "\"long\""
        },
        {
         "metadata": "{}",
         "name": "DEP_DELAY_NEW",
         "type": "\"long\""
        },
        {
         "metadata": "{}",
         "name": "DEP_DEL15",
         "type": "\"long\""
        },
        {
         "metadata": "{}",
         "name": "DEP_DELAY_GROUP",
         "type": "\"long\""
        },
        {
         "metadata": "{}",
         "name": "DEP_TIME_BLK",
         "type": "\"long\""
        },
        {
         "metadata": "{}",
         "name": "TAXI_OUT",
         "type": "\"long\""
        },
        {
         "metadata": "{}",
         "name": "WHEELS_OFF",
         "type": "\"long\""
        },
        {
         "metadata": "{}",
         "name": "WHEELS_ON",
         "type": "\"long\""
        },
        {
         "metadata": "{}",
         "name": "TAXI_IN",
         "type": "\"long\""
        },
        {
         "metadata": "{}",
         "name": "CRS_ARR_TIME",
         "type": "\"long\""
        },
        {
         "metadata": "{}",
         "name": "ARR_TIME",
         "type": "\"long\""
        },
        {
         "metadata": "{}",
         "name": "ARR_DELAY",
         "type": "\"long\""
        },
        {
         "metadata": "{}",
         "name": "ARR_DELAY_NEW",
         "type": "\"long\""
        },
        {
         "metadata": "{}",
         "name": "ARR_DEL15",
         "type": "\"long\""
        },
        {
         "metadata": "{}",
         "name": "ARR_DELAY_GROUP",
         "type": "\"long\""
        },
        {
         "metadata": "{}",
         "name": "ARR_TIME_BLK",
         "type": "\"long\""
        },
        {
         "metadata": "{}",
         "name": "CANCELLED",
         "type": "\"long\""
        },
        {
         "metadata": "{}",
         "name": "CANCELLATION_CODE",
         "type": "\"long\""
        },
        {
         "metadata": "{}",
         "name": "DIVERTED",
         "type": "\"long\""
        },
        {
         "metadata": "{}",
         "name": "CRS_ELAPSED_TIME",
         "type": "\"long\""
        },
        {
         "metadata": "{}",
         "name": "ACTUAL_ELAPSED_TIME",
         "type": "\"long\""
        },
        {
         "metadata": "{}",
         "name": "AIR_TIME",
         "type": "\"long\""
        },
        {
         "metadata": "{}",
         "name": "FLIGHTS",
         "type": "\"long\""
        },
        {
         "metadata": "{}",
         "name": "DISTANCE",
         "type": "\"long\""
        },
        {
         "metadata": "{}",
         "name": "DISTANCE_GROUP",
         "type": "\"long\""
        },
        {
         "metadata": "{}",
         "name": "CARRIER_DELAY",
         "type": "\"long\""
        },
        {
         "metadata": "{}",
         "name": "WEATHER_DELAY",
         "type": "\"long\""
        },
        {
         "metadata": "{}",
         "name": "NAS_DELAY",
         "type": "\"long\""
        },
        {
         "metadata": "{}",
         "name": "SECURITY_DELAY",
         "type": "\"long\""
        },
        {
         "metadata": "{}",
         "name": "LATE_AIRCRAFT_DELAY",
         "type": "\"long\""
        },
        {
         "metadata": "{}",
         "name": "FIRST_DEP_TIME",
         "type": "\"long\""
        },
        {
         "metadata": "{}",
         "name": "TOTAL_ADD_GTIME",
         "type": "\"long\""
        },
        {
         "metadata": "{}",
         "name": "LONGEST_ADD_GTIME",
         "type": "\"long\""
        },
        {
         "metadata": "{}",
         "name": "DIV_AIRPORT_LANDINGS",
         "type": "\"long\""
        },
        {
         "metadata": "{}",
         "name": "DIV_REACHED_DEST",
         "type": "\"long\""
        },
        {
         "metadata": "{}",
         "name": "DIV_ACTUAL_ELAPSED_TIME",
         "type": "\"long\""
        },
        {
         "metadata": "{}",
         "name": "DIV_ARR_DELAY",
         "type": "\"long\""
        },
        {
         "metadata": "{}",
         "name": "DIV_DISTANCE",
         "type": "\"long\""
        },
        {
         "metadata": "{}",
         "name": "DIV1_AIRPORT",
         "type": "\"long\""
        },
        {
         "metadata": "{}",
         "name": "DIV1_AIRPORT_ID",
         "type": "\"long\""
        },
        {
         "metadata": "{}",
         "name": "DIV1_AIRPORT_SEQ_ID",
         "type": "\"long\""
        },
        {
         "metadata": "{}",
         "name": "DIV1_WHEELS_ON",
         "type": "\"long\""
        },
        {
         "metadata": "{}",
         "name": "DIV1_TOTAL_GTIME",
         "type": "\"long\""
        },
        {
         "metadata": "{}",
         "name": "DIV1_LONGEST_GTIME",
         "type": "\"long\""
        },
        {
         "metadata": "{}",
         "name": "DIV1_WHEELS_OFF",
         "type": "\"long\""
        },
        {
         "metadata": "{}",
         "name": "DIV1_TAIL_NUM",
         "type": "\"long\""
        },
        {
         "metadata": "{}",
         "name": "DIV2_AIRPORT",
         "type": "\"long\""
        },
        {
         "metadata": "{}",
         "name": "DIV2_AIRPORT_ID",
         "type": "\"long\""
        },
        {
         "metadata": "{}",
         "name": "DIV2_AIRPORT_SEQ_ID",
         "type": "\"long\""
        },
        {
         "metadata": "{}",
         "name": "DIV2_WHEELS_ON",
         "type": "\"long\""
        },
        {
         "metadata": "{}",
         "name": "DIV2_TOTAL_GTIME",
         "type": "\"long\""
        },
        {
         "metadata": "{}",
         "name": "DIV2_LONGEST_GTIME",
         "type": "\"long\""
        },
        {
         "metadata": "{}",
         "name": "DIV2_WHEELS_OFF",
         "type": "\"long\""
        },
        {
         "metadata": "{}",
         "name": "DIV2_TAIL_NUM",
         "type": "\"long\""
        },
        {
         "metadata": "{}",
         "name": "DIV3_AIRPORT",
         "type": "\"long\""
        },
        {
         "metadata": "{}",
         "name": "DIV3_AIRPORT_ID",
         "type": "\"long\""
        },
        {
         "metadata": "{}",
         "name": "DIV3_AIRPORT_SEQ_ID",
         "type": "\"long\""
        },
        {
         "metadata": "{}",
         "name": "DIV3_WHEELS_ON",
         "type": "\"long\""
        },
        {
         "metadata": "{}",
         "name": "DIV3_TOTAL_GTIME",
         "type": "\"long\""
        },
        {
         "metadata": "{}",
         "name": "DIV3_LONGEST_GTIME",
         "type": "\"long\""
        },
        {
         "metadata": "{}",
         "name": "DIV3_WHEELS_OFF",
         "type": "\"long\""
        },
        {
         "metadata": "{}",
         "name": "DIV3_TAIL_NUM",
         "type": "\"long\""
        },
        {
         "metadata": "{}",
         "name": "DIV4_AIRPORT",
         "type": "\"long\""
        },
        {
         "metadata": "{}",
         "name": "DIV4_AIRPORT_ID",
         "type": "\"long\""
        },
        {
         "metadata": "{}",
         "name": "DIV4_AIRPORT_SEQ_ID",
         "type": "\"long\""
        },
        {
         "metadata": "{}",
         "name": "DIV4_WHEELS_ON",
         "type": "\"long\""
        },
        {
         "metadata": "{}",
         "name": "DIV4_TOTAL_GTIME",
         "type": "\"long\""
        },
        {
         "metadata": "{}",
         "name": "DIV4_LONGEST_GTIME",
         "type": "\"long\""
        },
        {
         "metadata": "{}",
         "name": "DIV4_WHEELS_OFF",
         "type": "\"long\""
        },
        {
         "metadata": "{}",
         "name": "DIV4_TAIL_NUM",
         "type": "\"long\""
        },
        {
         "metadata": "{}",
         "name": "DIV5_AIRPORT",
         "type": "\"long\""
        },
        {
         "metadata": "{}",
         "name": "DIV5_AIRPORT_ID",
         "type": "\"long\""
        },
        {
         "metadata": "{}",
         "name": "DIV5_AIRPORT_SEQ_ID",
         "type": "\"long\""
        },
        {
         "metadata": "{}",
         "name": "DIV5_WHEELS_ON",
         "type": "\"long\""
        },
        {
         "metadata": "{}",
         "name": "DIV5_TOTAL_GTIME",
         "type": "\"long\""
        },
        {
         "metadata": "{}",
         "name": "DIV5_LONGEST_GTIME",
         "type": "\"long\""
        },
        {
         "metadata": "{}",
         "name": "DIV5_WHEELS_OFF",
         "type": "\"long\""
        },
        {
         "metadata": "{}",
         "name": "DIV5_TAIL_NUM",
         "type": "\"long\""
        },
        {
         "metadata": "{}",
         "name": "YEAR",
         "type": "\"long\""
        },
        {
         "metadata": "{}",
         "name": "iata_code",
         "type": "\"long\""
        },
        {
         "metadata": "{}",
         "name": "type",
         "type": "\"long\""
        },
        {
         "metadata": "{}",
         "name": "municipality",
         "type": "\"long\""
        },
        {
         "metadata": "{}",
         "name": "station_state",
         "type": "\"long\""
        },
        {
         "metadata": "{}",
         "name": "station_id",
         "type": "\"long\""
        },
        {
         "metadata": "{}",
         "name": "STATION",
         "type": "\"long\""
        },
        {
         "metadata": "{}",
         "name": "DATE",
         "type": "\"long\""
        },
        {
         "metadata": "{}",
         "name": "LATITUDE",
         "type": "\"long\""
        },
        {
         "metadata": "{}",
         "name": "LONGITUDE",
         "type": "\"long\""
        },
        {
         "metadata": "{}",
         "name": "ELEVATION",
         "type": "\"long\""
        },
        {
         "metadata": "{}",
         "name": "REPORT_TYPE",
         "type": "\"long\""
        },
        {
         "metadata": "{}",
         "name": "SOURCE",
         "type": "\"long\""
        },
        {
         "metadata": "{}",
         "name": "HourlyAltimeterSetting",
         "type": "\"long\""
        },
        {
         "metadata": "{}",
         "name": "HourlyDewPointTemperature",
         "type": "\"long\""
        },
        {
         "metadata": "{}",
         "name": "HourlyDryBulbTemperature",
         "type": "\"long\""
        },
        {
         "metadata": "{}",
         "name": "HourlyPrecipitation",
         "type": "\"long\""
        },
        {
         "metadata": "{}",
         "name": "HourlyPresentWeatherType",
         "type": "\"long\""
        },
        {
         "metadata": "{}",
         "name": "HourlyPressureChange",
         "type": "\"long\""
        },
        {
         "metadata": "{}",
         "name": "HourlyPressureTendency",
         "type": "\"long\""
        },
        {
         "metadata": "{}",
         "name": "HourlyRelativeHumidity",
         "type": "\"long\""
        },
        {
         "metadata": "{}",
         "name": "HourlySkyConditions",
         "type": "\"long\""
        },
        {
         "metadata": "{}",
         "name": "HourlySeaLevelPressure",
         "type": "\"long\""
        },
        {
         "metadata": "{}",
         "name": "HourlyStationPressure",
         "type": "\"long\""
        },
        {
         "metadata": "{}",
         "name": "HourlyVisibility",
         "type": "\"long\""
        },
        {
         "metadata": "{}",
         "name": "HourlyWetBulbTemperature",
         "type": "\"long\""
        },
        {
         "metadata": "{}",
         "name": "HourlyWindDirection",
         "type": "\"long\""
        },
        {
         "metadata": "{}",
         "name": "HourlyWindGustSpeed",
         "type": "\"long\""
        },
        {
         "metadata": "{}",
         "name": "HourlyWindSpeed",
         "type": "\"long\""
        },
        {
         "metadata": "{}",
         "name": "Sunrise",
         "type": "\"long\""
        },
        {
         "metadata": "{}",
         "name": "Sunset",
         "type": "\"long\""
        },
        {
         "metadata": "{}",
         "name": "DailyAverageDewPointTemperature",
         "type": "\"long\""
        },
        {
         "metadata": "{}",
         "name": "DailyAverageDryBulbTemperature",
         "type": "\"long\""
        },
        {
         "metadata": "{}",
         "name": "DailyAverageRelativeHumidity",
         "type": "\"long\""
        },
        {
         "metadata": "{}",
         "name": "DailyAverageSeaLevelPressure",
         "type": "\"long\""
        },
        {
         "metadata": "{}",
         "name": "DailyAverageStationPressure",
         "type": "\"long\""
        },
        {
         "metadata": "{}",
         "name": "DailyAverageWetBulbTemperature",
         "type": "\"long\""
        },
        {
         "metadata": "{}",
         "name": "DailyAverageWindSpeed",
         "type": "\"long\""
        },
        {
         "metadata": "{}",
         "name": "DailyCoolingDegreeDays",
         "type": "\"long\""
        },
        {
         "metadata": "{}",
         "name": "DailyDepartureFromNormalAverageTemperature",
         "type": "\"long\""
        },
        {
         "metadata": "{}",
         "name": "DailyHeatingDegreeDays",
         "type": "\"long\""
        },
        {
         "metadata": "{}",
         "name": "DailyMaximumDryBulbTemperature",
         "type": "\"long\""
        },
        {
         "metadata": "{}",
         "name": "DailyMinimumDryBulbTemperature",
         "type": "\"long\""
        },
        {
         "metadata": "{}",
         "name": "DailyPeakWindDirection",
         "type": "\"long\""
        },
        {
         "metadata": "{}",
         "name": "DailyPeakWindSpeed",
         "type": "\"long\""
        },
        {
         "metadata": "{}",
         "name": "DailyPrecipitation",
         "type": "\"long\""
        },
        {
         "metadata": "{}",
         "name": "DailySnowDepth",
         "type": "\"long\""
        },
        {
         "metadata": "{}",
         "name": "DailySnowfall",
         "type": "\"long\""
        },
        {
         "metadata": "{}",
         "name": "DailySustainedWindDirection",
         "type": "\"long\""
        },
        {
         "metadata": "{}",
         "name": "DailySustainedWindSpeed",
         "type": "\"long\""
        },
        {
         "metadata": "{}",
         "name": "DailyWeather",
         "type": "\"long\""
        },
        {
         "metadata": "{}",
         "name": "MonthlyAverageRH",
         "type": "\"long\""
        },
        {
         "metadata": "{}",
         "name": "MonthlyDaysWithGT001Precip",
         "type": "\"long\""
        },
        {
         "metadata": "{}",
         "name": "MonthlyDaysWithGT010Precip",
         "type": "\"long\""
        },
        {
         "metadata": "{}",
         "name": "MonthlyDaysWithGT32Temp",
         "type": "\"long\""
        },
        {
         "metadata": "{}",
         "name": "MonthlyDaysWithGT90Temp",
         "type": "\"long\""
        },
        {
         "metadata": "{}",
         "name": "MonthlyDaysWithLT0Temp",
         "type": "\"long\""
        },
        {
         "metadata": "{}",
         "name": "MonthlyDaysWithLT32Temp",
         "type": "\"long\""
        },
        {
         "metadata": "{}",
         "name": "MonthlyDepartureFromNormalAverageTemperature",
         "type": "\"long\""
        },
        {
         "metadata": "{}",
         "name": "MonthlyDepartureFromNormalCoolingDegreeDays",
         "type": "\"long\""
        },
        {
         "metadata": "{}",
         "name": "MonthlyDepartureFromNormalHeatingDegreeDays",
         "type": "\"long\""
        },
        {
         "metadata": "{}",
         "name": "MonthlyDepartureFromNormalMaximumTemperature",
         "type": "\"long\""
        },
        {
         "metadata": "{}",
         "name": "MonthlyDepartureFromNormalMinimumTemperature",
         "type": "\"long\""
        },
        {
         "metadata": "{}",
         "name": "MonthlyDepartureFromNormalPrecipitation",
         "type": "\"long\""
        },
        {
         "metadata": "{}",
         "name": "MonthlyDewpointTemperature",
         "type": "\"long\""
        },
        {
         "metadata": "{}",
         "name": "MonthlyGreatestPrecip",
         "type": "\"long\""
        },
        {
         "metadata": "{}",
         "name": "MonthlyGreatestPrecipDate",
         "type": "\"long\""
        },
        {
         "metadata": "{}",
         "name": "MonthlyGreatestSnowDepth",
         "type": "\"long\""
        },
        {
         "metadata": "{}",
         "name": "MonthlyGreatestSnowDepthDate",
         "type": "\"long\""
        },
        {
         "metadata": "{}",
         "name": "MonthlyGreatestSnowfall",
         "type": "\"long\""
        },
        {
         "metadata": "{}",
         "name": "MonthlyGreatestSnowfallDate",
         "type": "\"long\""
        },
        {
         "metadata": "{}",
         "name": "MonthlyMaxSeaLevelPressureValue",
         "type": "\"long\""
        },
        {
         "metadata": "{}",
         "name": "MonthlyMaxSeaLevelPressureValueDate",
         "type": "\"long\""
        },
        {
         "metadata": "{}",
         "name": "MonthlyMaxSeaLevelPressureValueTime",
         "type": "\"long\""
        },
        {
         "metadata": "{}",
         "name": "MonthlyMaximumTemperature",
         "type": "\"long\""
        },
        {
         "metadata": "{}",
         "name": "MonthlyMeanTemperature",
         "type": "\"long\""
        },
        {
         "metadata": "{}",
         "name": "MonthlyMinSeaLevelPressureValue",
         "type": "\"long\""
        },
        {
         "metadata": "{}",
         "name": "MonthlyMinSeaLevelPressureValueDate",
         "type": "\"long\""
        },
        {
         "metadata": "{}",
         "name": "MonthlyMinSeaLevelPressureValueTime",
         "type": "\"long\""
        },
        {
         "metadata": "{}",
         "name": "MonthlyMinimumTemperature",
         "type": "\"long\""
        },
        {
         "metadata": "{}",
         "name": "MonthlySeaLevelPressure",
         "type": "\"long\""
        },
        {
         "metadata": "{}",
         "name": "MonthlyStationPressure",
         "type": "\"long\""
        },
        {
         "metadata": "{}",
         "name": "MonthlyTotalLiquidPrecipitation",
         "type": "\"long\""
        },
        {
         "metadata": "{}",
         "name": "MonthlyTotalSnowfall",
         "type": "\"long\""
        },
        {
         "metadata": "{}",
         "name": "MonthlyWetBulb",
         "type": "\"long\""
        },
        {
         "metadata": "{}",
         "name": "AWND",
         "type": "\"long\""
        },
        {
         "metadata": "{}",
         "name": "CDSD",
         "type": "\"long\""
        },
        {
         "metadata": "{}",
         "name": "CLDD",
         "type": "\"long\""
        },
        {
         "metadata": "{}",
         "name": "DSNW",
         "type": "\"long\""
        },
        {
         "metadata": "{}",
         "name": "HDSD",
         "type": "\"long\""
        },
        {
         "metadata": "{}",
         "name": "HTDD",
         "type": "\"long\""
        },
        {
         "metadata": "{}",
         "name": "NormalsCoolingDegreeDay",
         "type": "\"long\""
        },
        {
         "metadata": "{}",
         "name": "NormalsHeatingDegreeDay",
         "type": "\"long\""
        },
        {
         "metadata": "{}",
         "name": "ShortDurationEndDate005",
         "type": "\"long\""
        },
        {
         "metadata": "{}",
         "name": "ShortDurationEndDate010",
         "type": "\"long\""
        },
        {
         "metadata": "{}",
         "name": "ShortDurationEndDate015",
         "type": "\"long\""
        },
        {
         "metadata": "{}",
         "name": "ShortDurationEndDate020",
         "type": "\"long\""
        },
        {
         "metadata": "{}",
         "name": "ShortDurationEndDate030",
         "type": "\"long\""
        },
        {
         "metadata": "{}",
         "name": "ShortDurationEndDate045",
         "type": "\"long\""
        },
        {
         "metadata": "{}",
         "name": "ShortDurationEndDate060",
         "type": "\"long\""
        },
        {
         "metadata": "{}",
         "name": "ShortDurationEndDate080",
         "type": "\"long\""
        },
        {
         "metadata": "{}",
         "name": "ShortDurationEndDate100",
         "type": "\"long\""
        },
        {
         "metadata": "{}",
         "name": "ShortDurationEndDate120",
         "type": "\"long\""
        },
        {
         "metadata": "{}",
         "name": "ShortDurationEndDate150",
         "type": "\"long\""
        },
        {
         "metadata": "{}",
         "name": "ShortDurationEndDate180",
         "type": "\"long\""
        },
        {
         "metadata": "{}",
         "name": "ShortDurationPrecipitationValue005",
         "type": "\"long\""
        },
        {
         "metadata": "{}",
         "name": "ShortDurationPrecipitationValue010",
         "type": "\"long\""
        },
        {
         "metadata": "{}",
         "name": "ShortDurationPrecipitationValue015",
         "type": "\"long\""
        },
        {
         "metadata": "{}",
         "name": "ShortDurationPrecipitationValue020",
         "type": "\"long\""
        },
        {
         "metadata": "{}",
         "name": "ShortDurationPrecipitationValue030",
         "type": "\"long\""
        },
        {
         "metadata": "{}",
         "name": "ShortDurationPrecipitationValue045",
         "type": "\"long\""
        },
        {
         "metadata": "{}",
         "name": "ShortDurationPrecipitationValue060",
         "type": "\"long\""
        },
        {
         "metadata": "{}",
         "name": "ShortDurationPrecipitationValue080",
         "type": "\"long\""
        },
        {
         "metadata": "{}",
         "name": "ShortDurationPrecipitationValue100",
         "type": "\"long\""
        },
        {
         "metadata": "{}",
         "name": "ShortDurationPrecipitationValue120",
         "type": "\"long\""
        },
        {
         "metadata": "{}",
         "name": "ShortDurationPrecipitationValue150",
         "type": "\"long\""
        },
        {
         "metadata": "{}",
         "name": "ShortDurationPrecipitationValue180",
         "type": "\"long\""
        },
        {
         "metadata": "{}",
         "name": "REM",
         "type": "\"long\""
        },
        {
         "metadata": "{}",
         "name": "BackupDirection",
         "type": "\"long\""
        },
        {
         "metadata": "{}",
         "name": "BackupDistance",
         "type": "\"long\""
        },
        {
         "metadata": "{}",
         "name": "BackupDistanceUnit",
         "type": "\"long\""
        },
        {
         "metadata": "{}",
         "name": "BackupElements",
         "type": "\"long\""
        },
        {
         "metadata": "{}",
         "name": "BackupElevation",
         "type": "\"long\""
        },
        {
         "metadata": "{}",
         "name": "BackupEquipment",
         "type": "\"long\""
        },
        {
         "metadata": "{}",
         "name": "BackupLatitude",
         "type": "\"long\""
        },
        {
         "metadata": "{}",
         "name": "BackupLongitude",
         "type": "\"long\""
        },
        {
         "metadata": "{}",
         "name": "BackupName",
         "type": "\"long\""
        },
        {
         "metadata": "{}",
         "name": "WindEquipmentChangeDate",
         "type": "\"long\""
        }
       ],
       "type": "table"
      }
     },
     "output_type": "display_data"
    }
   ],
   "source": [
    "display(n_null_1y)"
   ]
  },
  {
   "cell_type": "code",
   "execution_count": 0,
   "metadata": {
    "application/vnd.databricks.v1+cell": {
     "cellMetadata": {
      "byteLimit": 2048000,
      "rowLimit": 10000
     },
     "inputWidgets": {},
     "nuid": "44e0b4ec-97c2-419e-827b-51083b054fd7",
     "showTitle": false,
     "title": ""
    }
   },
   "outputs": [
    {
     "output_type": "display_data",
     "data": {
      "text/html": [
       "<style scoped>\n",
       "  .table-result-container {\n",
       "    max-height: 300px;\n",
       "    overflow: auto;\n",
       "  }\n",
       "  table, th, td {\n",
       "    border: 1px solid black;\n",
       "    border-collapse: collapse;\n",
       "  }\n",
       "  th, td {\n",
       "    padding: 5px;\n",
       "  }\n",
       "  th {\n",
       "    text-align: left;\n",
       "  }\n",
       "</style><div class='table-result-container'><table class='table-result'><thead style='background-color: white'><tr><th>QUARTER</th><th>MONTH</th><th>DAY_OF_MONTH</th><th>DAY_OF_WEEK</th><th>FL_DATE</th><th>OP_UNIQUE_CARRIER</th><th>OP_CARRIER_AIRLINE_ID</th><th>OP_CARRIER</th><th>TAIL_NUM</th><th>OP_CARRIER_FL_NUM</th><th>ORIGIN_AIRPORT_ID</th><th>ORIGIN_AIRPORT_SEQ_ID</th><th>ORIGIN_CITY_MARKET_ID</th><th>ORIGIN</th><th>ORIGIN_CITY_NAME</th><th>ORIGIN_STATE_ABR</th><th>ORIGIN_STATE_FIPS</th><th>ORIGIN_STATE_NM</th><th>ORIGIN_WAC</th><th>DEST_AIRPORT_ID</th><th>DEST_AIRPORT_SEQ_ID</th><th>DEST_CITY_MARKET_ID</th><th>DEST</th><th>DEST_CITY_NAME</th><th>DEST_STATE_ABR</th><th>DEST_STATE_FIPS</th><th>DEST_STATE_NM</th><th>DEST_WAC</th><th>CRS_DEP_TIME</th><th>DEP_DELAY</th><th>DEP_DELAY_NEW</th><th>DEP_DEL15</th><th>DEP_DELAY_GROUP</th><th>DEP_TIME_BLK</th><th>TAXI_OUT</th><th>WHEELS_OFF</th><th>WHEELS_ON</th><th>TAXI_IN</th><th>CRS_ARR_TIME</th><th>ARR_TIME</th><th>ARR_DELAY</th><th>ARR_DELAY_NEW</th><th>ARR_DEL15</th><th>ARR_DELAY_GROUP</th><th>ARR_TIME_BLK</th><th>CANCELLED</th><th>CANCELLATION_CODE</th><th>DIVERTED</th><th>CRS_ELAPSED_TIME</th><th>ACTUAL_ELAPSED_TIME</th><th>AIR_TIME</th><th>FLIGHTS</th><th>DISTANCE</th><th>DISTANCE_GROUP</th><th>CARRIER_DELAY</th><th>WEATHER_DELAY</th><th>NAS_DELAY</th><th>SECURITY_DELAY</th><th>LATE_AIRCRAFT_DELAY</th><th>FIRST_DEP_TIME</th><th>TOTAL_ADD_GTIME</th><th>LONGEST_ADD_GTIME</th><th>DIV_AIRPORT_LANDINGS</th><th>DIV_REACHED_DEST</th><th>DIV_ACTUAL_ELAPSED_TIME</th><th>DIV_ARR_DELAY</th><th>DIV_DISTANCE</th><th>DIV1_AIRPORT</th><th>DIV1_AIRPORT_ID</th><th>DIV1_AIRPORT_SEQ_ID</th><th>DIV1_WHEELS_ON</th><th>DIV1_TOTAL_GTIME</th><th>DIV1_LONGEST_GTIME</th><th>DIV1_WHEELS_OFF</th><th>DIV1_TAIL_NUM</th><th>DIV2_AIRPORT</th><th>DIV2_AIRPORT_ID</th><th>DIV2_AIRPORT_SEQ_ID</th><th>DIV2_WHEELS_ON</th><th>DIV2_TOTAL_GTIME</th><th>DIV2_LONGEST_GTIME</th><th>DIV2_WHEELS_OFF</th><th>DIV2_TAIL_NUM</th><th>DIV3_AIRPORT</th><th>DIV3_AIRPORT_ID</th><th>DIV3_AIRPORT_SEQ_ID</th><th>DIV3_WHEELS_ON</th><th>DIV3_TOTAL_GTIME</th><th>DIV3_LONGEST_GTIME</th><th>DIV3_WHEELS_OFF</th><th>DIV3_TAIL_NUM</th><th>DIV4_AIRPORT</th><th>DIV4_AIRPORT_ID</th><th>DIV4_AIRPORT_SEQ_ID</th><th>DIV4_WHEELS_ON</th><th>DIV4_TOTAL_GTIME</th><th>DIV4_LONGEST_GTIME</th><th>DIV4_WHEELS_OFF</th><th>DIV4_TAIL_NUM</th><th>DIV5_AIRPORT</th><th>DIV5_AIRPORT_ID</th><th>DIV5_AIRPORT_SEQ_ID</th><th>DIV5_WHEELS_ON</th><th>DIV5_TOTAL_GTIME</th><th>DIV5_LONGEST_GTIME</th><th>DIV5_WHEELS_OFF</th><th>DIV5_TAIL_NUM</th><th>YEAR</th><th>iata_code</th><th>type</th><th>municipality</th><th>station_state</th><th>station_id</th><th>STATION</th><th>DATE</th><th>LATITUDE</th><th>LONGITUDE</th><th>ELEVATION</th><th>REPORT_TYPE</th><th>SOURCE</th><th>HourlyAltimeterSetting</th><th>HourlyDewPointTemperature</th><th>HourlyDryBulbTemperature</th><th>HourlyPrecipitation</th><th>HourlyPresentWeatherType</th><th>HourlyPressureChange</th><th>HourlyPressureTendency</th><th>HourlyRelativeHumidity</th><th>HourlySkyConditions</th><th>HourlySeaLevelPressure</th><th>HourlyStationPressure</th><th>HourlyVisibility</th><th>HourlyWetBulbTemperature</th><th>HourlyWindDirection</th><th>HourlyWindGustSpeed</th><th>HourlyWindSpeed</th><th>Sunrise</th><th>Sunset</th><th>DailyAverageDewPointTemperature</th><th>DailyAverageDryBulbTemperature</th><th>DailyAverageRelativeHumidity</th><th>DailyAverageSeaLevelPressure</th><th>DailyAverageStationPressure</th><th>DailyAverageWetBulbTemperature</th><th>DailyAverageWindSpeed</th><th>DailyCoolingDegreeDays</th><th>DailyDepartureFromNormalAverageTemperature</th><th>DailyHeatingDegreeDays</th><th>DailyMaximumDryBulbTemperature</th><th>DailyMinimumDryBulbTemperature</th><th>DailyPeakWindDirection</th><th>DailyPeakWindSpeed</th><th>DailyPrecipitation</th><th>DailySnowDepth</th><th>DailySnowfall</th><th>DailySustainedWindDirection</th><th>DailySustainedWindSpeed</th><th>DailyWeather</th><th>MonthlyAverageRH</th><th>MonthlyDaysWithGT001Precip</th><th>MonthlyDaysWithGT010Precip</th><th>MonthlyDaysWithGT32Temp</th><th>MonthlyDaysWithGT90Temp</th><th>MonthlyDaysWithLT0Temp</th><th>MonthlyDaysWithLT32Temp</th><th>MonthlyDepartureFromNormalAverageTemperature</th><th>MonthlyDepartureFromNormalCoolingDegreeDays</th><th>MonthlyDepartureFromNormalHeatingDegreeDays</th><th>MonthlyDepartureFromNormalMaximumTemperature</th><th>MonthlyDepartureFromNormalMinimumTemperature</th><th>MonthlyDepartureFromNormalPrecipitation</th><th>MonthlyDewpointTemperature</th><th>MonthlyGreatestPrecip</th><th>MonthlyGreatestPrecipDate</th><th>MonthlyGreatestSnowDepth</th><th>MonthlyGreatestSnowDepthDate</th><th>MonthlyGreatestSnowfall</th><th>MonthlyGreatestSnowfallDate</th><th>MonthlyMaxSeaLevelPressureValue</th><th>MonthlyMaxSeaLevelPressureValueDate</th><th>MonthlyMaxSeaLevelPressureValueTime</th><th>MonthlyMaximumTemperature</th><th>MonthlyMeanTemperature</th><th>MonthlyMinSeaLevelPressureValue</th><th>MonthlyMinSeaLevelPressureValueDate</th><th>MonthlyMinSeaLevelPressureValueTime</th><th>MonthlyMinimumTemperature</th><th>MonthlySeaLevelPressure</th><th>MonthlyStationPressure</th><th>MonthlyTotalLiquidPrecipitation</th><th>MonthlyTotalSnowfall</th><th>MonthlyWetBulb</th><th>AWND</th><th>CDSD</th><th>CLDD</th><th>DSNW</th><th>HDSD</th><th>HTDD</th><th>NormalsCoolingDegreeDay</th><th>NormalsHeatingDegreeDay</th><th>ShortDurationEndDate005</th><th>ShortDurationEndDate010</th><th>ShortDurationEndDate015</th><th>ShortDurationEndDate020</th><th>ShortDurationEndDate030</th><th>ShortDurationEndDate045</th><th>ShortDurationEndDate060</th><th>ShortDurationEndDate080</th><th>ShortDurationEndDate100</th><th>ShortDurationEndDate120</th><th>ShortDurationEndDate150</th><th>ShortDurationEndDate180</th><th>ShortDurationPrecipitationValue005</th><th>ShortDurationPrecipitationValue010</th><th>ShortDurationPrecipitationValue015</th><th>ShortDurationPrecipitationValue020</th><th>ShortDurationPrecipitationValue030</th><th>ShortDurationPrecipitationValue045</th><th>ShortDurationPrecipitationValue060</th><th>ShortDurationPrecipitationValue080</th><th>ShortDurationPrecipitationValue100</th><th>ShortDurationPrecipitationValue120</th><th>ShortDurationPrecipitationValue150</th><th>ShortDurationPrecipitationValue180</th><th>REM</th><th>BackupDirection</th><th>BackupDistance</th><th>BackupDistanceUnit</th><th>BackupElements</th><th>BackupElevation</th><th>BackupEquipment</th><th>BackupLatitude</th><th>BackupLongitude</th><th>BackupName</th><th>WindEquipmentChangeDate</th></tr></thead><tbody><tr><td>0.0</td><td>0.0</td><td>0.0</td><td>0.0</td><td>0.0</td><td>0.0</td><td>0.0</td><td>0.0</td><td>0.002422822231642933</td><td>0.0</td><td>0.0</td><td>0.0</td><td>0.0</td><td>0.0</td><td>0.0</td><td>0.0</td><td>0.0</td><td>0.0</td><td>0.0</td><td>0.0</td><td>0.0</td><td>0.0</td><td>0.0</td><td>0.0</td><td>0.0</td><td>0.0</td><td>0.0</td><td>0.0</td><td>0.0</td><td>0.01781449715365843</td><td>0.01781449715365843</td><td>0.01781449715365843</td><td>0.01781449715365843</td><td>0.0</td><td>0.018341867452064186</td><td>0.018341867452064186</td><td>0.01884090225712837</td><td>0.01884090225712837</td><td>0.0</td><td>0.01884076470618982</td><td>0.02103277646294364</td><td>0.02103277646294364</td><td>0.02103277646294364</td><td>0.02103277646294364</td><td>0.0</td><td>0.0</td><td>0.9815293848694517</td><td>0.0</td><td>1.8569376704428066E-5</td><td>0.02103277646294364</td><td>0.02103277646294364</td><td>0.0</td><td>0.0</td><td>0.0</td><td>0.8116981296098478</td><td>0.8116981296098478</td><td>0.8116981296098478</td><td>0.8116981296098478</td><td>0.8116981296098478</td><td>0.9930716967761086</td><td>0.9930718343270472</td><td>0.9930718343270472</td><td>0.0</td><td>0.9974378386676046</td><td>0.9978081257941848</td><td>0.9978079882432462</td><td>0.9974386639732359</td><td>0.9973090909891206</td><td>0.9973090909891206</td><td>0.9973090909891206</td><td>0.9973090909891206</td><td>0.9973090909891206</td><td>0.9973090909891206</td><td>0.9977957462097151</td><td>0.9977957462097151</td><td>0.9999793673592173</td><td>0.9999792298082788</td><td>0.9999792298082788</td><td>0.9999793673592173</td><td>0.9999793673592173</td><td>0.9999793673592173</td><td>0.9999913342908713</td><td>0.9999913342908713</td><td>0.9999995873471843</td><td>0.9999995873471843</td><td>0.9999995873471843</td><td>0.9999995873471843</td><td>0.9999995873471843</td><td>0.9999995873471843</td><td>0.9999998624490615</td><td>0.9999998624490615</td><td>1.0</td><td>1.0</td><td>1.0</td><td>1.0</td><td>1.0</td><td>1.0</td><td>1.0</td><td>1.0</td><td>1.0</td><td>1.0</td><td>1.0</td><td>1.0</td><td>1.0</td><td>1.0</td><td>1.0</td><td>1.0</td><td>0.0</td><td>0.0</td><td>0.0</td><td>0.0</td><td>0.0</td><td>0.0</td><td>2.574953569680692E-4</td><td>2.574953569680692E-4</td><td>2.574953569680692E-4</td><td>2.574953569680692E-4</td><td>2.574953569680692E-4</td><td>2.574953569680692E-4</td><td>2.574953569680692E-4</td><td>0.20144018583682002</td><td>0.0026230963981736534</td><td>0.0024078291793408393</td><td>0.2968812800600382</td><td>0.8858693095520599</td><td>0.5241667370468969</td><td>0.5241667370468969</td><td>0.002645242099280416</td><td>0.08654925135150675</td><td>0.11876299340553291</td><td>0.01742770391445212</td><td>0.0022997141416395027</td><td>0.01779881634666358</td><td>0.011218104344491374</td><td>0.8934882560384174</td><td>0.003035336561011957</td><td>1.0</td><td>1.0</td><td>1.0</td><td>1.0</td><td>1.0</td><td>1.0</td><td>1.0</td><td>1.0</td><td>1.0</td><td>1.0</td><td>1.0</td><td>1.0</td><td>1.0</td><td>1.0</td><td>1.0</td><td>1.0</td><td>1.0</td><td>1.0</td><td>1.0</td><td>1.0</td><td>1.0</td><td>1.0</td><td>1.0</td><td>1.0</td><td>1.0</td><td>1.0</td><td>1.0</td><td>1.0</td><td>1.0</td><td>1.0</td><td>1.0</td><td>1.0</td><td>1.0</td><td>1.0</td><td>1.0</td><td>1.0</td><td>1.0</td><td>1.0</td><td>1.0</td><td>1.0</td><td>1.0</td><td>1.0</td><td>1.0</td><td>1.0</td><td>1.0</td><td>1.0</td><td>1.0</td><td>1.0</td><td>1.0</td><td>1.0</td><td>1.0</td><td>1.0</td><td>1.0</td><td>1.0</td><td>1.0</td><td>1.0</td><td>1.0</td><td>1.0</td><td>1.0</td><td>1.0</td><td>1.0</td><td>1.0</td><td>1.0</td><td>1.0</td><td>1.0</td><td>1.0</td><td>1.0</td><td>1.0</td><td>1.0</td><td>1.0</td><td>1.0</td><td>1.0</td><td>1.0</td><td>1.0</td><td>1.0</td><td>1.0</td><td>1.0</td><td>1.0</td><td>1.0</td><td>1.0</td><td>1.0</td><td>1.0</td><td>1.0</td><td>1.0</td><td>1.0</td><td>1.0</td><td>1.0</td><td>1.0</td><td>0.0021518468826968347</td><td>0.6140268394893339</td><td>0.6140268394893339</td><td>0.6140268394893339</td><td>0.5686591011816451</td><td>0.7384959960297297</td><td>0.6203563834777114</td><td>0.7224000603023315</td><td>0.7224000603023315</td><td>0.5572564034776178</td><td>0.27217933231123814</td></tr></tbody></table></div>"
      ]
     },
     "metadata": {
      "application/vnd.databricks.v1+output": {
       "addedWidgets": {},
       "aggData": [],
       "aggError": "",
       "aggOverflow": false,
       "aggSchema": [],
       "aggSeriesLimitReached": false,
       "aggType": "",
       "arguments": {},
       "columnCustomDisplayInfos": {},
       "data": [
        [
         0.0,
         0.0,
         0.0,
         0.0,
         0.0,
         0.0,
         0.0,
         0.0,
         0.002422822231642933,
         0.0,
         0.0,
         0.0,
         0.0,
         0.0,
         0.0,
         0.0,
         0.0,
         0.0,
         0.0,
         0.0,
         0.0,
         0.0,
         0.0,
         0.0,
         0.0,
         0.0,
         0.0,
         0.0,
         0.0,
         0.01781449715365843,
         0.01781449715365843,
         0.01781449715365843,
         0.01781449715365843,
         0.0,
         0.018341867452064186,
         0.018341867452064186,
         0.01884090225712837,
         0.01884090225712837,
         0.0,
         0.01884076470618982,
         0.02103277646294364,
         0.02103277646294364,
         0.02103277646294364,
         0.02103277646294364,
         0.0,
         0.0,
         0.9815293848694517,
         0.0,
         1.8569376704428066E-5,
         0.02103277646294364,
         0.02103277646294364,
         0.0,
         0.0,
         0.0,
         0.8116981296098478,
         0.8116981296098478,
         0.8116981296098478,
         0.8116981296098478,
         0.8116981296098478,
         0.9930716967761086,
         0.9930718343270472,
         0.9930718343270472,
         0.0,
         0.9974378386676046,
         0.9978081257941848,
         0.9978079882432462,
         0.9974386639732359,
         0.9973090909891206,
         0.9973090909891206,
         0.9973090909891206,
         0.9973090909891206,
         0.9973090909891206,
         0.9973090909891206,
         0.9977957462097151,
         0.9977957462097151,
         0.9999793673592173,
         0.9999792298082788,
         0.9999792298082788,
         0.9999793673592173,
         0.9999793673592173,
         0.9999793673592173,
         0.9999913342908713,
         0.9999913342908713,
         0.9999995873471843,
         0.9999995873471843,
         0.9999995873471843,
         0.9999995873471843,
         0.9999995873471843,
         0.9999995873471843,
         0.9999998624490615,
         0.9999998624490615,
         1.0,
         1.0,
         1.0,
         1.0,
         1.0,
         1.0,
         1.0,
         1.0,
         1.0,
         1.0,
         1.0,
         1.0,
         1.0,
         1.0,
         1.0,
         1.0,
         0.0,
         0.0,
         0.0,
         0.0,
         0.0,
         0.0,
         2.574953569680692E-4,
         2.574953569680692E-4,
         2.574953569680692E-4,
         2.574953569680692E-4,
         2.574953569680692E-4,
         2.574953569680692E-4,
         2.574953569680692E-4,
         0.20144018583682002,
         0.0026230963981736534,
         0.0024078291793408393,
         0.2968812800600382,
         0.8858693095520599,
         0.5241667370468969,
         0.5241667370468969,
         0.002645242099280416,
         0.08654925135150675,
         0.11876299340553291,
         0.01742770391445212,
         0.0022997141416395027,
         0.01779881634666358,
         0.011218104344491374,
         0.8934882560384174,
         0.003035336561011957,
         1.0,
         1.0,
         1.0,
         1.0,
         1.0,
         1.0,
         1.0,
         1.0,
         1.0,
         1.0,
         1.0,
         1.0,
         1.0,
         1.0,
         1.0,
         1.0,
         1.0,
         1.0,
         1.0,
         1.0,
         1.0,
         1.0,
         1.0,
         1.0,
         1.0,
         1.0,
         1.0,
         1.0,
         1.0,
         1.0,
         1.0,
         1.0,
         1.0,
         1.0,
         1.0,
         1.0,
         1.0,
         1.0,
         1.0,
         1.0,
         1.0,
         1.0,
         1.0,
         1.0,
         1.0,
         1.0,
         1.0,
         1.0,
         1.0,
         1.0,
         1.0,
         1.0,
         1.0,
         1.0,
         1.0,
         1.0,
         1.0,
         1.0,
         1.0,
         1.0,
         1.0,
         1.0,
         1.0,
         1.0,
         1.0,
         1.0,
         1.0,
         1.0,
         1.0,
         1.0,
         1.0,
         1.0,
         1.0,
         1.0,
         1.0,
         1.0,
         1.0,
         1.0,
         1.0,
         1.0,
         1.0,
         1.0,
         1.0,
         1.0,
         1.0,
         1.0,
         1.0,
         1.0,
         0.0021518468826968347,
         0.6140268394893339,
         0.6140268394893339,
         0.6140268394893339,
         0.5686591011816451,
         0.7384959960297297,
         0.6203563834777114,
         0.7224000603023315,
         0.7224000603023315,
         0.5572564034776178,
         0.27217933231123814
        ]
       ],
       "datasetInfos": [],
       "dbfsResultPath": null,
       "isJsonSchema": true,
       "metadata": {},
       "overflow": false,
       "plotOptions": {
        "customPlotOptions": {},
        "displayType": "table",
        "pivotAggregation": null,
        "pivotColumns": null,
        "xColumns": null,
        "yColumns": null
       },
       "removedWidgets": [],
       "schema": [
        {
         "metadata": "{}",
         "name": "QUARTER",
         "type": "\"double\""
        },
        {
         "metadata": "{}",
         "name": "MONTH",
         "type": "\"double\""
        },
        {
         "metadata": "{}",
         "name": "DAY_OF_MONTH",
         "type": "\"double\""
        },
        {
         "metadata": "{}",
         "name": "DAY_OF_WEEK",
         "type": "\"double\""
        },
        {
         "metadata": "{}",
         "name": "FL_DATE",
         "type": "\"double\""
        },
        {
         "metadata": "{}",
         "name": "OP_UNIQUE_CARRIER",
         "type": "\"double\""
        },
        {
         "metadata": "{}",
         "name": "OP_CARRIER_AIRLINE_ID",
         "type": "\"double\""
        },
        {
         "metadata": "{}",
         "name": "OP_CARRIER",
         "type": "\"double\""
        },
        {
         "metadata": "{}",
         "name": "TAIL_NUM",
         "type": "\"double\""
        },
        {
         "metadata": "{}",
         "name": "OP_CARRIER_FL_NUM",
         "type": "\"double\""
        },
        {
         "metadata": "{}",
         "name": "ORIGIN_AIRPORT_ID",
         "type": "\"double\""
        },
        {
         "metadata": "{}",
         "name": "ORIGIN_AIRPORT_SEQ_ID",
         "type": "\"double\""
        },
        {
         "metadata": "{}",
         "name": "ORIGIN_CITY_MARKET_ID",
         "type": "\"double\""
        },
        {
         "metadata": "{}",
         "name": "ORIGIN",
         "type": "\"double\""
        },
        {
         "metadata": "{}",
         "name": "ORIGIN_CITY_NAME",
         "type": "\"double\""
        },
        {
         "metadata": "{}",
         "name": "ORIGIN_STATE_ABR",
         "type": "\"double\""
        },
        {
         "metadata": "{}",
         "name": "ORIGIN_STATE_FIPS",
         "type": "\"double\""
        },
        {
         "metadata": "{}",
         "name": "ORIGIN_STATE_NM",
         "type": "\"double\""
        },
        {
         "metadata": "{}",
         "name": "ORIGIN_WAC",
         "type": "\"double\""
        },
        {
         "metadata": "{}",
         "name": "DEST_AIRPORT_ID",
         "type": "\"double\""
        },
        {
         "metadata": "{}",
         "name": "DEST_AIRPORT_SEQ_ID",
         "type": "\"double\""
        },
        {
         "metadata": "{}",
         "name": "DEST_CITY_MARKET_ID",
         "type": "\"double\""
        },
        {
         "metadata": "{}",
         "name": "DEST",
         "type": "\"double\""
        },
        {
         "metadata": "{}",
         "name": "DEST_CITY_NAME",
         "type": "\"double\""
        },
        {
         "metadata": "{}",
         "name": "DEST_STATE_ABR",
         "type": "\"double\""
        },
        {
         "metadata": "{}",
         "name": "DEST_STATE_FIPS",
         "type": "\"double\""
        },
        {
         "metadata": "{}",
         "name": "DEST_STATE_NM",
         "type": "\"double\""
        },
        {
         "metadata": "{}",
         "name": "DEST_WAC",
         "type": "\"double\""
        },
        {
         "metadata": "{}",
         "name": "CRS_DEP_TIME",
         "type": "\"double\""
        },
        {
         "metadata": "{}",
         "name": "DEP_DELAY",
         "type": "\"double\""
        },
        {
         "metadata": "{}",
         "name": "DEP_DELAY_NEW",
         "type": "\"double\""
        },
        {
         "metadata": "{}",
         "name": "DEP_DEL15",
         "type": "\"double\""
        },
        {
         "metadata": "{}",
         "name": "DEP_DELAY_GROUP",
         "type": "\"double\""
        },
        {
         "metadata": "{}",
         "name": "DEP_TIME_BLK",
         "type": "\"double\""
        },
        {
         "metadata": "{}",
         "name": "TAXI_OUT",
         "type": "\"double\""
        },
        {
         "metadata": "{}",
         "name": "WHEELS_OFF",
         "type": "\"double\""
        },
        {
         "metadata": "{}",
         "name": "WHEELS_ON",
         "type": "\"double\""
        },
        {
         "metadata": "{}",
         "name": "TAXI_IN",
         "type": "\"double\""
        },
        {
         "metadata": "{}",
         "name": "CRS_ARR_TIME",
         "type": "\"double\""
        },
        {
         "metadata": "{}",
         "name": "ARR_TIME",
         "type": "\"double\""
        },
        {
         "metadata": "{}",
         "name": "ARR_DELAY",
         "type": "\"double\""
        },
        {
         "metadata": "{}",
         "name": "ARR_DELAY_NEW",
         "type": "\"double\""
        },
        {
         "metadata": "{}",
         "name": "ARR_DEL15",
         "type": "\"double\""
        },
        {
         "metadata": "{}",
         "name": "ARR_DELAY_GROUP",
         "type": "\"double\""
        },
        {
         "metadata": "{}",
         "name": "ARR_TIME_BLK",
         "type": "\"double\""
        },
        {
         "metadata": "{}",
         "name": "CANCELLED",
         "type": "\"double\""
        },
        {
         "metadata": "{}",
         "name": "CANCELLATION_CODE",
         "type": "\"double\""
        },
        {
         "metadata": "{}",
         "name": "DIVERTED",
         "type": "\"double\""
        },
        {
         "metadata": "{}",
         "name": "CRS_ELAPSED_TIME",
         "type": "\"double\""
        },
        {
         "metadata": "{}",
         "name": "ACTUAL_ELAPSED_TIME",
         "type": "\"double\""
        },
        {
         "metadata": "{}",
         "name": "AIR_TIME",
         "type": "\"double\""
        },
        {
         "metadata": "{}",
         "name": "FLIGHTS",
         "type": "\"double\""
        },
        {
         "metadata": "{}",
         "name": "DISTANCE",
         "type": "\"double\""
        },
        {
         "metadata": "{}",
         "name": "DISTANCE_GROUP",
         "type": "\"double\""
        },
        {
         "metadata": "{}",
         "name": "CARRIER_DELAY",
         "type": "\"double\""
        },
        {
         "metadata": "{}",
         "name": "WEATHER_DELAY",
         "type": "\"double\""
        },
        {
         "metadata": "{}",
         "name": "NAS_DELAY",
         "type": "\"double\""
        },
        {
         "metadata": "{}",
         "name": "SECURITY_DELAY",
         "type": "\"double\""
        },
        {
         "metadata": "{}",
         "name": "LATE_AIRCRAFT_DELAY",
         "type": "\"double\""
        },
        {
         "metadata": "{}",
         "name": "FIRST_DEP_TIME",
         "type": "\"double\""
        },
        {
         "metadata": "{}",
         "name": "TOTAL_ADD_GTIME",
         "type": "\"double\""
        },
        {
         "metadata": "{}",
         "name": "LONGEST_ADD_GTIME",
         "type": "\"double\""
        },
        {
         "metadata": "{}",
         "name": "DIV_AIRPORT_LANDINGS",
         "type": "\"double\""
        },
        {
         "metadata": "{}",
         "name": "DIV_REACHED_DEST",
         "type": "\"double\""
        },
        {
         "metadata": "{}",
         "name": "DIV_ACTUAL_ELAPSED_TIME",
         "type": "\"double\""
        },
        {
         "metadata": "{}",
         "name": "DIV_ARR_DELAY",
         "type": "\"double\""
        },
        {
         "metadata": "{}",
         "name": "DIV_DISTANCE",
         "type": "\"double\""
        },
        {
         "metadata": "{}",
         "name": "DIV1_AIRPORT",
         "type": "\"double\""
        },
        {
         "metadata": "{}",
         "name": "DIV1_AIRPORT_ID",
         "type": "\"double\""
        },
        {
         "metadata": "{}",
         "name": "DIV1_AIRPORT_SEQ_ID",
         "type": "\"double\""
        },
        {
         "metadata": "{}",
         "name": "DIV1_WHEELS_ON",
         "type": "\"double\""
        },
        {
         "metadata": "{}",
         "name": "DIV1_TOTAL_GTIME",
         "type": "\"double\""
        },
        {
         "metadata": "{}",
         "name": "DIV1_LONGEST_GTIME",
         "type": "\"double\""
        },
        {
         "metadata": "{}",
         "name": "DIV1_WHEELS_OFF",
         "type": "\"double\""
        },
        {
         "metadata": "{}",
         "name": "DIV1_TAIL_NUM",
         "type": "\"double\""
        },
        {
         "metadata": "{}",
         "name": "DIV2_AIRPORT",
         "type": "\"double\""
        },
        {
         "metadata": "{}",
         "name": "DIV2_AIRPORT_ID",
         "type": "\"double\""
        },
        {
         "metadata": "{}",
         "name": "DIV2_AIRPORT_SEQ_ID",
         "type": "\"double\""
        },
        {
         "metadata": "{}",
         "name": "DIV2_WHEELS_ON",
         "type": "\"double\""
        },
        {
         "metadata": "{}",
         "name": "DIV2_TOTAL_GTIME",
         "type": "\"double\""
        },
        {
         "metadata": "{}",
         "name": "DIV2_LONGEST_GTIME",
         "type": "\"double\""
        },
        {
         "metadata": "{}",
         "name": "DIV2_WHEELS_OFF",
         "type": "\"double\""
        },
        {
         "metadata": "{}",
         "name": "DIV2_TAIL_NUM",
         "type": "\"double\""
        },
        {
         "metadata": "{}",
         "name": "DIV3_AIRPORT",
         "type": "\"double\""
        },
        {
         "metadata": "{}",
         "name": "DIV3_AIRPORT_ID",
         "type": "\"double\""
        },
        {
         "metadata": "{}",
         "name": "DIV3_AIRPORT_SEQ_ID",
         "type": "\"double\""
        },
        {
         "metadata": "{}",
         "name": "DIV3_WHEELS_ON",
         "type": "\"double\""
        },
        {
         "metadata": "{}",
         "name": "DIV3_TOTAL_GTIME",
         "type": "\"double\""
        },
        {
         "metadata": "{}",
         "name": "DIV3_LONGEST_GTIME",
         "type": "\"double\""
        },
        {
         "metadata": "{}",
         "name": "DIV3_WHEELS_OFF",
         "type": "\"double\""
        },
        {
         "metadata": "{}",
         "name": "DIV3_TAIL_NUM",
         "type": "\"double\""
        },
        {
         "metadata": "{}",
         "name": "DIV4_AIRPORT",
         "type": "\"double\""
        },
        {
         "metadata": "{}",
         "name": "DIV4_AIRPORT_ID",
         "type": "\"double\""
        },
        {
         "metadata": "{}",
         "name": "DIV4_AIRPORT_SEQ_ID",
         "type": "\"double\""
        },
        {
         "metadata": "{}",
         "name": "DIV4_WHEELS_ON",
         "type": "\"double\""
        },
        {
         "metadata": "{}",
         "name": "DIV4_TOTAL_GTIME",
         "type": "\"double\""
        },
        {
         "metadata": "{}",
         "name": "DIV4_LONGEST_GTIME",
         "type": "\"double\""
        },
        {
         "metadata": "{}",
         "name": "DIV4_WHEELS_OFF",
         "type": "\"double\""
        },
        {
         "metadata": "{}",
         "name": "DIV4_TAIL_NUM",
         "type": "\"double\""
        },
        {
         "metadata": "{}",
         "name": "DIV5_AIRPORT",
         "type": "\"double\""
        },
        {
         "metadata": "{}",
         "name": "DIV5_AIRPORT_ID",
         "type": "\"double\""
        },
        {
         "metadata": "{}",
         "name": "DIV5_AIRPORT_SEQ_ID",
         "type": "\"double\""
        },
        {
         "metadata": "{}",
         "name": "DIV5_WHEELS_ON",
         "type": "\"double\""
        },
        {
         "metadata": "{}",
         "name": "DIV5_TOTAL_GTIME",
         "type": "\"double\""
        },
        {
         "metadata": "{}",
         "name": "DIV5_LONGEST_GTIME",
         "type": "\"double\""
        },
        {
         "metadata": "{}",
         "name": "DIV5_WHEELS_OFF",
         "type": "\"double\""
        },
        {
         "metadata": "{}",
         "name": "DIV5_TAIL_NUM",
         "type": "\"double\""
        },
        {
         "metadata": "{}",
         "name": "YEAR",
         "type": "\"double\""
        },
        {
         "metadata": "{}",
         "name": "iata_code",
         "type": "\"double\""
        },
        {
         "metadata": "{}",
         "name": "type",
         "type": "\"double\""
        },
        {
         "metadata": "{}",
         "name": "municipality",
         "type": "\"double\""
        },
        {
         "metadata": "{}",
         "name": "station_state",
         "type": "\"double\""
        },
        {
         "metadata": "{}",
         "name": "station_id",
         "type": "\"double\""
        },
        {
         "metadata": "{}",
         "name": "STATION",
         "type": "\"double\""
        },
        {
         "metadata": "{}",
         "name": "DATE",
         "type": "\"double\""
        },
        {
         "metadata": "{}",
         "name": "LATITUDE",
         "type": "\"double\""
        },
        {
         "metadata": "{}",
         "name": "LONGITUDE",
         "type": "\"double\""
        },
        {
         "metadata": "{}",
         "name": "ELEVATION",
         "type": "\"double\""
        },
        {
         "metadata": "{}",
         "name": "REPORT_TYPE",
         "type": "\"double\""
        },
        {
         "metadata": "{}",
         "name": "SOURCE",
         "type": "\"double\""
        },
        {
         "metadata": "{}",
         "name": "HourlyAltimeterSetting",
         "type": "\"double\""
        },
        {
         "metadata": "{}",
         "name": "HourlyDewPointTemperature",
         "type": "\"double\""
        },
        {
         "metadata": "{}",
         "name": "HourlyDryBulbTemperature",
         "type": "\"double\""
        },
        {
         "metadata": "{}",
         "name": "HourlyPrecipitation",
         "type": "\"double\""
        },
        {
         "metadata": "{}",
         "name": "HourlyPresentWeatherType",
         "type": "\"double\""
        },
        {
         "metadata": "{}",
         "name": "HourlyPressureChange",
         "type": "\"double\""
        },
        {
         "metadata": "{}",
         "name": "HourlyPressureTendency",
         "type": "\"double\""
        },
        {
         "metadata": "{}",
         "name": "HourlyRelativeHumidity",
         "type": "\"double\""
        },
        {
         "metadata": "{}",
         "name": "HourlySkyConditions",
         "type": "\"double\""
        },
        {
         "metadata": "{}",
         "name": "HourlySeaLevelPressure",
         "type": "\"double\""
        },
        {
         "metadata": "{}",
         "name": "HourlyStationPressure",
         "type": "\"double\""
        },
        {
         "metadata": "{}",
         "name": "HourlyVisibility",
         "type": "\"double\""
        },
        {
         "metadata": "{}",
         "name": "HourlyWetBulbTemperature",
         "type": "\"double\""
        },
        {
         "metadata": "{}",
         "name": "HourlyWindDirection",
         "type": "\"double\""
        },
        {
         "metadata": "{}",
         "name": "HourlyWindGustSpeed",
         "type": "\"double\""
        },
        {
         "metadata": "{}",
         "name": "HourlyWindSpeed",
         "type": "\"double\""
        },
        {
         "metadata": "{}",
         "name": "Sunrise",
         "type": "\"double\""
        },
        {
         "metadata": "{}",
         "name": "Sunset",
         "type": "\"double\""
        },
        {
         "metadata": "{}",
         "name": "DailyAverageDewPointTemperature",
         "type": "\"double\""
        },
        {
         "metadata": "{}",
         "name": "DailyAverageDryBulbTemperature",
         "type": "\"double\""
        },
        {
         "metadata": "{}",
         "name": "DailyAverageRelativeHumidity",
         "type": "\"double\""
        },
        {
         "metadata": "{}",
         "name": "DailyAverageSeaLevelPressure",
         "type": "\"double\""
        },
        {
         "metadata": "{}",
         "name": "DailyAverageStationPressure",
         "type": "\"double\""
        },
        {
         "metadata": "{}",
         "name": "DailyAverageWetBulbTemperature",
         "type": "\"double\""
        },
        {
         "metadata": "{}",
         "name": "DailyAverageWindSpeed",
         "type": "\"double\""
        },
        {
         "metadata": "{}",
         "name": "DailyCoolingDegreeDays",
         "type": "\"double\""
        },
        {
         "metadata": "{}",
         "name": "DailyDepartureFromNormalAverageTemperature",
         "type": "\"double\""
        },
        {
         "metadata": "{}",
         "name": "DailyHeatingDegreeDays",
         "type": "\"double\""
        },
        {
         "metadata": "{}",
         "name": "DailyMaximumDryBulbTemperature",
         "type": "\"double\""
        },
        {
         "metadata": "{}",
         "name": "DailyMinimumDryBulbTemperature",
         "type": "\"double\""
        },
        {
         "metadata": "{}",
         "name": "DailyPeakWindDirection",
         "type": "\"double\""
        },
        {
         "metadata": "{}",
         "name": "DailyPeakWindSpeed",
         "type": "\"double\""
        },
        {
         "metadata": "{}",
         "name": "DailyPrecipitation",
         "type": "\"double\""
        },
        {
         "metadata": "{}",
         "name": "DailySnowDepth",
         "type": "\"double\""
        },
        {
         "metadata": "{}",
         "name": "DailySnowfall",
         "type": "\"double\""
        },
        {
         "metadata": "{}",
         "name": "DailySustainedWindDirection",
         "type": "\"double\""
        },
        {
         "metadata": "{}",
         "name": "DailySustainedWindSpeed",
         "type": "\"double\""
        },
        {
         "metadata": "{}",
         "name": "DailyWeather",
         "type": "\"double\""
        },
        {
         "metadata": "{}",
         "name": "MonthlyAverageRH",
         "type": "\"double\""
        },
        {
         "metadata": "{}",
         "name": "MonthlyDaysWithGT001Precip",
         "type": "\"double\""
        },
        {
         "metadata": "{}",
         "name": "MonthlyDaysWithGT010Precip",
         "type": "\"double\""
        },
        {
         "metadata": "{}",
         "name": "MonthlyDaysWithGT32Temp",
         "type": "\"double\""
        },
        {
         "metadata": "{}",
         "name": "MonthlyDaysWithGT90Temp",
         "type": "\"double\""
        },
        {
         "metadata": "{}",
         "name": "MonthlyDaysWithLT0Temp",
         "type": "\"double\""
        },
        {
         "metadata": "{}",
         "name": "MonthlyDaysWithLT32Temp",
         "type": "\"double\""
        },
        {
         "metadata": "{}",
         "name": "MonthlyDepartureFromNormalAverageTemperature",
         "type": "\"double\""
        },
        {
         "metadata": "{}",
         "name": "MonthlyDepartureFromNormalCoolingDegreeDays",
         "type": "\"double\""
        },
        {
         "metadata": "{}",
         "name": "MonthlyDepartureFromNormalHeatingDegreeDays",
         "type": "\"double\""
        },
        {
         "metadata": "{}",
         "name": "MonthlyDepartureFromNormalMaximumTemperature",
         "type": "\"double\""
        },
        {
         "metadata": "{}",
         "name": "MonthlyDepartureFromNormalMinimumTemperature",
         "type": "\"double\""
        },
        {
         "metadata": "{}",
         "name": "MonthlyDepartureFromNormalPrecipitation",
         "type": "\"double\""
        },
        {
         "metadata": "{}",
         "name": "MonthlyDewpointTemperature",
         "type": "\"double\""
        },
        {
         "metadata": "{}",
         "name": "MonthlyGreatestPrecip",
         "type": "\"double\""
        },
        {
         "metadata": "{}",
         "name": "MonthlyGreatestPrecipDate",
         "type": "\"double\""
        },
        {
         "metadata": "{}",
         "name": "MonthlyGreatestSnowDepth",
         "type": "\"double\""
        },
        {
         "metadata": "{}",
         "name": "MonthlyGreatestSnowDepthDate",
         "type": "\"double\""
        },
        {
         "metadata": "{}",
         "name": "MonthlyGreatestSnowfall",
         "type": "\"double\""
        },
        {
         "metadata": "{}",
         "name": "MonthlyGreatestSnowfallDate",
         "type": "\"double\""
        },
        {
         "metadata": "{}",
         "name": "MonthlyMaxSeaLevelPressureValue",
         "type": "\"double\""
        },
        {
         "metadata": "{}",
         "name": "MonthlyMaxSeaLevelPressureValueDate",
         "type": "\"double\""
        },
        {
         "metadata": "{}",
         "name": "MonthlyMaxSeaLevelPressureValueTime",
         "type": "\"double\""
        },
        {
         "metadata": "{}",
         "name": "MonthlyMaximumTemperature",
         "type": "\"double\""
        },
        {
         "metadata": "{}",
         "name": "MonthlyMeanTemperature",
         "type": "\"double\""
        },
        {
         "metadata": "{}",
         "name": "MonthlyMinSeaLevelPressureValue",
         "type": "\"double\""
        },
        {
         "metadata": "{}",
         "name": "MonthlyMinSeaLevelPressureValueDate",
         "type": "\"double\""
        },
        {
         "metadata": "{}",
         "name": "MonthlyMinSeaLevelPressureValueTime",
         "type": "\"double\""
        },
        {
         "metadata": "{}",
         "name": "MonthlyMinimumTemperature",
         "type": "\"double\""
        },
        {
         "metadata": "{}",
         "name": "MonthlySeaLevelPressure",
         "type": "\"double\""
        },
        {
         "metadata": "{}",
         "name": "MonthlyStationPressure",
         "type": "\"double\""
        },
        {
         "metadata": "{}",
         "name": "MonthlyTotalLiquidPrecipitation",
         "type": "\"double\""
        },
        {
         "metadata": "{}",
         "name": "MonthlyTotalSnowfall",
         "type": "\"double\""
        },
        {
         "metadata": "{}",
         "name": "MonthlyWetBulb",
         "type": "\"double\""
        },
        {
         "metadata": "{}",
         "name": "AWND",
         "type": "\"double\""
        },
        {
         "metadata": "{}",
         "name": "CDSD",
         "type": "\"double\""
        },
        {
         "metadata": "{}",
         "name": "CLDD",
         "type": "\"double\""
        },
        {
         "metadata": "{}",
         "name": "DSNW",
         "type": "\"double\""
        },
        {
         "metadata": "{}",
         "name": "HDSD",
         "type": "\"double\""
        },
        {
         "metadata": "{}",
         "name": "HTDD",
         "type": "\"double\""
        },
        {
         "metadata": "{}",
         "name": "NormalsCoolingDegreeDay",
         "type": "\"double\""
        },
        {
         "metadata": "{}",
         "name": "NormalsHeatingDegreeDay",
         "type": "\"double\""
        },
        {
         "metadata": "{}",
         "name": "ShortDurationEndDate005",
         "type": "\"double\""
        },
        {
         "metadata": "{}",
         "name": "ShortDurationEndDate010",
         "type": "\"double\""
        },
        {
         "metadata": "{}",
         "name": "ShortDurationEndDate015",
         "type": "\"double\""
        },
        {
         "metadata": "{}",
         "name": "ShortDurationEndDate020",
         "type": "\"double\""
        },
        {
         "metadata": "{}",
         "name": "ShortDurationEndDate030",
         "type": "\"double\""
        },
        {
         "metadata": "{}",
         "name": "ShortDurationEndDate045",
         "type": "\"double\""
        },
        {
         "metadata": "{}",
         "name": "ShortDurationEndDate060",
         "type": "\"double\""
        },
        {
         "metadata": "{}",
         "name": "ShortDurationEndDate080",
         "type": "\"double\""
        },
        {
         "metadata": "{}",
         "name": "ShortDurationEndDate100",
         "type": "\"double\""
        },
        {
         "metadata": "{}",
         "name": "ShortDurationEndDate120",
         "type": "\"double\""
        },
        {
         "metadata": "{}",
         "name": "ShortDurationEndDate150",
         "type": "\"double\""
        },
        {
         "metadata": "{}",
         "name": "ShortDurationEndDate180",
         "type": "\"double\""
        },
        {
         "metadata": "{}",
         "name": "ShortDurationPrecipitationValue005",
         "type": "\"double\""
        },
        {
         "metadata": "{}",
         "name": "ShortDurationPrecipitationValue010",
         "type": "\"double\""
        },
        {
         "metadata": "{}",
         "name": "ShortDurationPrecipitationValue015",
         "type": "\"double\""
        },
        {
         "metadata": "{}",
         "name": "ShortDurationPrecipitationValue020",
         "type": "\"double\""
        },
        {
         "metadata": "{}",
         "name": "ShortDurationPrecipitationValue030",
         "type": "\"double\""
        },
        {
         "metadata": "{}",
         "name": "ShortDurationPrecipitationValue045",
         "type": "\"double\""
        },
        {
         "metadata": "{}",
         "name": "ShortDurationPrecipitationValue060",
         "type": "\"double\""
        },
        {
         "metadata": "{}",
         "name": "ShortDurationPrecipitationValue080",
         "type": "\"double\""
        },
        {
         "metadata": "{}",
         "name": "ShortDurationPrecipitationValue100",
         "type": "\"double\""
        },
        {
         "metadata": "{}",
         "name": "ShortDurationPrecipitationValue120",
         "type": "\"double\""
        },
        {
         "metadata": "{}",
         "name": "ShortDurationPrecipitationValue150",
         "type": "\"double\""
        },
        {
         "metadata": "{}",
         "name": "ShortDurationPrecipitationValue180",
         "type": "\"double\""
        },
        {
         "metadata": "{}",
         "name": "REM",
         "type": "\"double\""
        },
        {
         "metadata": "{}",
         "name": "BackupDirection",
         "type": "\"double\""
        },
        {
         "metadata": "{}",
         "name": "BackupDistance",
         "type": "\"double\""
        },
        {
         "metadata": "{}",
         "name": "BackupDistanceUnit",
         "type": "\"double\""
        },
        {
         "metadata": "{}",
         "name": "BackupElements",
         "type": "\"double\""
        },
        {
         "metadata": "{}",
         "name": "BackupElevation",
         "type": "\"double\""
        },
        {
         "metadata": "{}",
         "name": "BackupEquipment",
         "type": "\"double\""
        },
        {
         "metadata": "{}",
         "name": "BackupLatitude",
         "type": "\"double\""
        },
        {
         "metadata": "{}",
         "name": "BackupLongitude",
         "type": "\"double\""
        },
        {
         "metadata": "{}",
         "name": "BackupName",
         "type": "\"double\""
        },
        {
         "metadata": "{}",
         "name": "WindEquipmentChangeDate",
         "type": "\"double\""
        }
       ],
       "type": "table"
      }
     },
     "output_type": "display_data"
    }
   ],
   "source": [
    "display(perc_null_1y)"
   ]
  },
  {
   "cell_type": "code",
   "execution_count": 0,
   "metadata": {
    "application/vnd.databricks.v1+cell": {
     "cellMetadata": {
      "byteLimit": 2048000,
      "rowLimit": 10000
     },
     "inputWidgets": {},
     "nuid": "5b4dce82-3564-4f0b-91bf-ae1f2b3ae536",
     "showTitle": false,
     "title": ""
    }
   },
   "outputs": [
    {
     "output_type": "display_data",
     "data": {
      "text/html": [
       "<style scoped>\n",
       "  .table-result-container {\n",
       "    max-height: 300px;\n",
       "    overflow: auto;\n",
       "  }\n",
       "  table, th, td {\n",
       "    border: 1px solid black;\n",
       "    border-collapse: collapse;\n",
       "  }\n",
       "  th, td {\n",
       "    padding: 5px;\n",
       "  }\n",
       "  th {\n",
       "    text-align: left;\n",
       "  }\n",
       "</style><div class='table-result-container'><table class='table-result'><thead style='background-color: white'><tr><th>QUARTER</th><th>MONTH</th><th>DAY_OF_MONTH</th><th>DAY_OF_WEEK</th><th>FL_DATE</th><th>OP_UNIQUE_CARRIER</th><th>OP_CARRIER_AIRLINE_ID</th><th>OP_CARRIER</th><th>TAIL_NUM</th><th>OP_CARRIER_FL_NUM</th><th>ORIGIN_AIRPORT_ID</th><th>ORIGIN_AIRPORT_SEQ_ID</th><th>ORIGIN_CITY_MARKET_ID</th><th>ORIGIN</th><th>ORIGIN_CITY_NAME</th><th>ORIGIN_STATE_ABR</th><th>ORIGIN_STATE_FIPS</th><th>ORIGIN_STATE_NM</th><th>ORIGIN_WAC</th><th>DEST_AIRPORT_ID</th><th>DEST_AIRPORT_SEQ_ID</th><th>DEST_CITY_MARKET_ID</th><th>DEST</th><th>DEST_CITY_NAME</th><th>DEST_STATE_ABR</th><th>DEST_STATE_FIPS</th><th>DEST_STATE_NM</th><th>DEST_WAC</th><th>CRS_DEP_TIME</th><th>DEP_DELAY</th><th>DEP_DELAY_NEW</th><th>DEP_DEL15</th><th>DEP_DELAY_GROUP</th><th>DEP_TIME_BLK</th><th>TAXI_OUT</th><th>WHEELS_OFF</th><th>WHEELS_ON</th><th>TAXI_IN</th><th>CRS_ARR_TIME</th><th>ARR_TIME</th><th>ARR_DELAY</th><th>ARR_DELAY_NEW</th><th>ARR_DEL15</th><th>ARR_DELAY_GROUP</th><th>ARR_TIME_BLK</th><th>CANCELLED</th><th>CANCELLATION_CODE</th><th>DIVERTED</th><th>CRS_ELAPSED_TIME</th><th>ACTUAL_ELAPSED_TIME</th><th>AIR_TIME</th><th>FLIGHTS</th><th>DISTANCE</th><th>DISTANCE_GROUP</th><th>CARRIER_DELAY</th><th>WEATHER_DELAY</th><th>NAS_DELAY</th><th>SECURITY_DELAY</th><th>LATE_AIRCRAFT_DELAY</th><th>FIRST_DEP_TIME</th><th>TOTAL_ADD_GTIME</th><th>LONGEST_ADD_GTIME</th><th>DIV_AIRPORT_LANDINGS</th><th>DIV_REACHED_DEST</th><th>DIV_ACTUAL_ELAPSED_TIME</th><th>DIV_ARR_DELAY</th><th>DIV_DISTANCE</th><th>DIV1_AIRPORT</th><th>DIV1_AIRPORT_ID</th><th>DIV1_AIRPORT_SEQ_ID</th><th>DIV1_WHEELS_ON</th><th>DIV1_TOTAL_GTIME</th><th>DIV1_LONGEST_GTIME</th><th>DIV1_WHEELS_OFF</th><th>DIV1_TAIL_NUM</th><th>DIV2_AIRPORT</th><th>DIV2_AIRPORT_ID</th><th>DIV2_AIRPORT_SEQ_ID</th><th>DIV2_WHEELS_ON</th><th>DIV2_TOTAL_GTIME</th><th>DIV2_LONGEST_GTIME</th><th>DIV2_WHEELS_OFF</th><th>DIV2_TAIL_NUM</th><th>DIV3_AIRPORT</th><th>DIV3_AIRPORT_ID</th><th>DIV3_AIRPORT_SEQ_ID</th><th>DIV3_WHEELS_ON</th><th>DIV3_TOTAL_GTIME</th><th>DIV3_LONGEST_GTIME</th><th>DIV3_WHEELS_OFF</th><th>DIV3_TAIL_NUM</th><th>DIV4_AIRPORT</th><th>DIV4_AIRPORT_ID</th><th>DIV4_AIRPORT_SEQ_ID</th><th>DIV4_WHEELS_ON</th><th>DIV4_TOTAL_GTIME</th><th>DIV4_LONGEST_GTIME</th><th>DIV4_WHEELS_OFF</th><th>DIV4_TAIL_NUM</th><th>DIV5_AIRPORT</th><th>DIV5_AIRPORT_ID</th><th>DIV5_AIRPORT_SEQ_ID</th><th>DIV5_WHEELS_ON</th><th>DIV5_TOTAL_GTIME</th><th>DIV5_LONGEST_GTIME</th><th>DIV5_WHEELS_OFF</th><th>DIV5_TAIL_NUM</th><th>YEAR</th><th>iata_code</th><th>type</th><th>municipality</th><th>station_state</th><th>station_id</th><th>STATION</th><th>DATE</th><th>LATITUDE</th><th>LONGITUDE</th><th>ELEVATION</th><th>REPORT_TYPE</th><th>SOURCE</th><th>HourlyAltimeterSetting</th><th>HourlyDewPointTemperature</th><th>HourlyDryBulbTemperature</th><th>HourlyPrecipitation</th><th>HourlyPresentWeatherType</th><th>HourlyPressureChange</th><th>HourlyPressureTendency</th><th>HourlyRelativeHumidity</th><th>HourlySkyConditions</th><th>HourlySeaLevelPressure</th><th>HourlyStationPressure</th><th>HourlyVisibility</th><th>HourlyWetBulbTemperature</th><th>HourlyWindDirection</th><th>HourlyWindGustSpeed</th><th>HourlyWindSpeed</th><th>Sunrise</th><th>Sunset</th><th>DailyAverageDewPointTemperature</th><th>DailyAverageDryBulbTemperature</th><th>DailyAverageRelativeHumidity</th><th>DailyAverageSeaLevelPressure</th><th>DailyAverageStationPressure</th><th>DailyAverageWetBulbTemperature</th><th>DailyAverageWindSpeed</th><th>DailyCoolingDegreeDays</th><th>DailyDepartureFromNormalAverageTemperature</th><th>DailyHeatingDegreeDays</th><th>DailyMaximumDryBulbTemperature</th><th>DailyMinimumDryBulbTemperature</th><th>DailyPeakWindDirection</th><th>DailyPeakWindSpeed</th><th>DailyPrecipitation</th><th>DailySnowDepth</th><th>DailySnowfall</th><th>DailySustainedWindDirection</th><th>DailySustainedWindSpeed</th><th>DailyWeather</th><th>MonthlyAverageRH</th><th>MonthlyDaysWithGT001Precip</th><th>MonthlyDaysWithGT010Precip</th><th>MonthlyDaysWithGT32Temp</th><th>MonthlyDaysWithGT90Temp</th><th>MonthlyDaysWithLT0Temp</th><th>MonthlyDaysWithLT32Temp</th><th>MonthlyDepartureFromNormalAverageTemperature</th><th>MonthlyDepartureFromNormalCoolingDegreeDays</th><th>MonthlyDepartureFromNormalHeatingDegreeDays</th><th>MonthlyDepartureFromNormalMaximumTemperature</th><th>MonthlyDepartureFromNormalMinimumTemperature</th><th>MonthlyDepartureFromNormalPrecipitation</th><th>MonthlyDewpointTemperature</th><th>MonthlyGreatestPrecip</th><th>MonthlyGreatestPrecipDate</th><th>MonthlyGreatestSnowDepth</th><th>MonthlyGreatestSnowDepthDate</th><th>MonthlyGreatestSnowfall</th><th>MonthlyGreatestSnowfallDate</th><th>MonthlyMaxSeaLevelPressureValue</th><th>MonthlyMaxSeaLevelPressureValueDate</th><th>MonthlyMaxSeaLevelPressureValueTime</th><th>MonthlyMaximumTemperature</th><th>MonthlyMeanTemperature</th><th>MonthlyMinSeaLevelPressureValue</th><th>MonthlyMinSeaLevelPressureValueDate</th><th>MonthlyMinSeaLevelPressureValueTime</th><th>MonthlyMinimumTemperature</th><th>MonthlySeaLevelPressure</th><th>MonthlyStationPressure</th><th>MonthlyTotalLiquidPrecipitation</th><th>MonthlyTotalSnowfall</th><th>MonthlyWetBulb</th><th>AWND</th><th>CDSD</th><th>CLDD</th><th>DSNW</th><th>HDSD</th><th>HTDD</th><th>NormalsCoolingDegreeDay</th><th>NormalsHeatingDegreeDay</th><th>ShortDurationEndDate005</th><th>ShortDurationEndDate010</th><th>ShortDurationEndDate015</th><th>ShortDurationEndDate020</th><th>ShortDurationEndDate030</th><th>ShortDurationEndDate045</th><th>ShortDurationEndDate060</th><th>ShortDurationEndDate080</th><th>ShortDurationEndDate100</th><th>ShortDurationEndDate120</th><th>ShortDurationEndDate150</th><th>ShortDurationEndDate180</th><th>ShortDurationPrecipitationValue005</th><th>ShortDurationPrecipitationValue010</th><th>ShortDurationPrecipitationValue015</th><th>ShortDurationPrecipitationValue020</th><th>ShortDurationPrecipitationValue030</th><th>ShortDurationPrecipitationValue045</th><th>ShortDurationPrecipitationValue060</th><th>ShortDurationPrecipitationValue080</th><th>ShortDurationPrecipitationValue100</th><th>ShortDurationPrecipitationValue120</th><th>ShortDurationPrecipitationValue150</th><th>ShortDurationPrecipitationValue180</th><th>REM</th><th>BackupDirection</th><th>BackupDistance</th><th>BackupDistanceUnit</th><th>BackupElements</th><th>BackupElevation</th><th>BackupEquipment</th><th>BackupLatitude</th><th>BackupLongitude</th><th>BackupName</th><th>WindEquipmentChangeDate</th></tr></thead><tbody><tr><td>0</td><td>0</td><td>0</td><td>0</td><td>0</td><td>0</td><td>0</td><td>0</td><td>237133</td><td>0</td><td>0</td><td>0</td><td>0</td><td>0</td><td>0</td><td>0</td><td>0</td><td>0</td><td>0</td><td>0</td><td>0</td><td>0</td><td>0</td><td>0</td><td>0</td><td>0</td><td>0</td><td>0</td><td>0</td><td>847610</td><td>847610</td><td>847610</td><td>847610</td><td>0</td><td>858846</td><td>858841</td><td>877342</td><td>877342</td><td>0</td><td>877322</td><td>963933</td><td>963933</td><td>963933</td><td>963933</td><td>0</td><td>0</td><td>40620330</td><td>0</td><td>170</td><td>961335</td><td>961335</td><td>0</td><td>0</td><td>0</td><td>34358878</td><td>34358878</td><td>34358878</td><td>34358878</td><td>34358878</td><td>41225916</td><td>41225930</td><td>41225930</td><td>91</td><td>41385780</td><td>41399767</td><td>41399716</td><td>41385790</td><td>41381137</td><td>41381137</td><td>41381137</td><td>41381138</td><td>41381137</td><td>41381137</td><td>41399205</td><td>41399206</td><td>41482864</td><td>41482857</td><td>41482857</td><td>41482864</td><td>41482864</td><td>41482864</td><td>41483380</td><td>41483380</td><td>41483721</td><td>41483721</td><td>41483721</td><td>41483721</td><td>41483721</td><td>41483721</td><td>41483727</td><td>41483727</td><td>41483728</td><td>41483728</td><td>41483728</td><td>41483728</td><td>41483728</td><td>41483728</td><td>41483728</td><td>41483728</td><td>41483728</td><td>41483728</td><td>41483728</td><td>41483728</td><td>41483728</td><td>41483728</td><td>41483728</td><td>41483728</td><td>0</td><td>0</td><td>0</td><td>0</td><td>0</td><td>0</td><td>10431</td><td>10431</td><td>10431</td><td>10431</td><td>10431</td><td>10431</td><td>10431</td><td>8318268</td><td>237762</td><td>229241</td><td>12035476</td><td>36860703</td><td>21856927</td><td>21856927</td><td>239234</td><td>3548962</td><td>5046017</td><td>681104</td><td>227048</td><td>697645</td><td>572012</td><td>37119243</td><td>251504</td><td>41483714</td><td>41483714</td><td>41483717</td><td>41483715</td><td>41483717</td><td>41483717</td><td>41483716</td><td>41483717</td><td>41483716</td><td>41483715</td><td>41483715</td><td>41483715</td><td>41483715</td><td>41483715</td><td>41483717</td><td>41483716</td><td>41483714</td><td>41483721</td><td>41483722</td><td>41483714</td><td>41483714</td><td>41483718</td><td>41483728</td><td>41483728</td><td>41483728</td><td>41483728</td><td>41483728</td><td>41483728</td><td>41483728</td><td>41483728</td><td>41483728</td><td>41483728</td><td>41483728</td><td>41483728</td><td>41483728</td><td>41483728</td><td>41483728</td><td>41483728</td><td>41483728</td><td>41483728</td><td>41483728</td><td>41483728</td><td>41483728</td><td>41483728</td><td>41483728</td><td>41483728</td><td>41483728</td><td>41483728</td><td>41483728</td><td>41483728</td><td>41483728</td><td>41483728</td><td>41483728</td><td>41483728</td><td>41483728</td><td>41483728</td><td>41483728</td><td>41483728</td><td>41483728</td><td>41483728</td><td>41483728</td><td>41483728</td><td>41483728</td><td>41483728</td><td>41483728</td><td>41483728</td><td>41483728</td><td>41483728</td><td>41483728</td><td>41483728</td><td>41483728</td><td>41483728</td><td>41483728</td><td>41483728</td><td>41483728</td><td>41483728</td><td>41483728</td><td>41483728</td><td>41483728</td><td>41483728</td><td>41483728</td><td>41483728</td><td>41483728</td><td>41483728</td><td>41483728</td><td>41483728</td><td>41483728</td><td>41483728</td><td>5965124</td><td>28156042</td><td>22407930</td><td>25918027</td><td>24518316</td><td>29890066</td><td>25906037</td><td>29859682</td><td>29361194</td><td>24521002</td><td>14134224</td></tr></tbody></table></div>"
      ]
     },
     "metadata": {
      "application/vnd.databricks.v1+output": {
       "addedWidgets": {},
       "aggData": [],
       "aggError": "",
       "aggOverflow": false,
       "aggSchema": [],
       "aggSeriesLimitReached": false,
       "aggType": "",
       "arguments": {},
       "columnCustomDisplayInfos": {},
       "data": [
        [
         0,
         0,
         0,
         0,
         0,
         0,
         0,
         0,
         237133,
         0,
         0,
         0,
         0,
         0,
         0,
         0,
         0,
         0,
         0,
         0,
         0,
         0,
         0,
         0,
         0,
         0,
         0,
         0,
         0,
         847610,
         847610,
         847610,
         847610,
         0,
         858846,
         858841,
         877342,
         877342,
         0,
         877322,
         963933,
         963933,
         963933,
         963933,
         0,
         0,
         40620330,
         0,
         170,
         961335,
         961335,
         0,
         0,
         0,
         34358878,
         34358878,
         34358878,
         34358878,
         34358878,
         41225916,
         41225930,
         41225930,
         91,
         41385780,
         41399767,
         41399716,
         41385790,
         41381137,
         41381137,
         41381137,
         41381138,
         41381137,
         41381137,
         41399205,
         41399206,
         41482864,
         41482857,
         41482857,
         41482864,
         41482864,
         41482864,
         41483380,
         41483380,
         41483721,
         41483721,
         41483721,
         41483721,
         41483721,
         41483721,
         41483727,
         41483727,
         41483728,
         41483728,
         41483728,
         41483728,
         41483728,
         41483728,
         41483728,
         41483728,
         41483728,
         41483728,
         41483728,
         41483728,
         41483728,
         41483728,
         41483728,
         41483728,
         0,
         0,
         0,
         0,
         0,
         0,
         10431,
         10431,
         10431,
         10431,
         10431,
         10431,
         10431,
         8318268,
         237762,
         229241,
         12035476,
         36860703,
         21856927,
         21856927,
         239234,
         3548962,
         5046017,
         681104,
         227048,
         697645,
         572012,
         37119243,
         251504,
         41483714,
         41483714,
         41483717,
         41483715,
         41483717,
         41483717,
         41483716,
         41483717,
         41483716,
         41483715,
         41483715,
         41483715,
         41483715,
         41483715,
         41483717,
         41483716,
         41483714,
         41483721,
         41483722,
         41483714,
         41483714,
         41483718,
         41483728,
         41483728,
         41483728,
         41483728,
         41483728,
         41483728,
         41483728,
         41483728,
         41483728,
         41483728,
         41483728,
         41483728,
         41483728,
         41483728,
         41483728,
         41483728,
         41483728,
         41483728,
         41483728,
         41483728,
         41483728,
         41483728,
         41483728,
         41483728,
         41483728,
         41483728,
         41483728,
         41483728,
         41483728,
         41483728,
         41483728,
         41483728,
         41483728,
         41483728,
         41483728,
         41483728,
         41483728,
         41483728,
         41483728,
         41483728,
         41483728,
         41483728,
         41483728,
         41483728,
         41483728,
         41483728,
         41483728,
         41483728,
         41483728,
         41483728,
         41483728,
         41483728,
         41483728,
         41483728,
         41483728,
         41483728,
         41483728,
         41483728,
         41483728,
         41483728,
         41483728,
         41483728,
         41483728,
         41483728,
         41483728,
         41483728,
         5965124,
         28156042,
         22407930,
         25918027,
         24518316,
         29890066,
         25906037,
         29859682,
         29361194,
         24521002,
         14134224
        ]
       ],
       "datasetInfos": [],
       "dbfsResultPath": null,
       "isJsonSchema": true,
       "metadata": {},
       "overflow": false,
       "plotOptions": {
        "customPlotOptions": {},
        "displayType": "table",
        "pivotAggregation": null,
        "pivotColumns": null,
        "xColumns": null,
        "yColumns": null
       },
       "removedWidgets": [],
       "schema": [
        {
         "metadata": "{}",
         "name": "QUARTER",
         "type": "\"long\""
        },
        {
         "metadata": "{}",
         "name": "MONTH",
         "type": "\"long\""
        },
        {
         "metadata": "{}",
         "name": "DAY_OF_MONTH",
         "type": "\"long\""
        },
        {
         "metadata": "{}",
         "name": "DAY_OF_WEEK",
         "type": "\"long\""
        },
        {
         "metadata": "{}",
         "name": "FL_DATE",
         "type": "\"long\""
        },
        {
         "metadata": "{}",
         "name": "OP_UNIQUE_CARRIER",
         "type": "\"long\""
        },
        {
         "metadata": "{}",
         "name": "OP_CARRIER_AIRLINE_ID",
         "type": "\"long\""
        },
        {
         "metadata": "{}",
         "name": "OP_CARRIER",
         "type": "\"long\""
        },
        {
         "metadata": "{}",
         "name": "TAIL_NUM",
         "type": "\"long\""
        },
        {
         "metadata": "{}",
         "name": "OP_CARRIER_FL_NUM",
         "type": "\"long\""
        },
        {
         "metadata": "{}",
         "name": "ORIGIN_AIRPORT_ID",
         "type": "\"long\""
        },
        {
         "metadata": "{}",
         "name": "ORIGIN_AIRPORT_SEQ_ID",
         "type": "\"long\""
        },
        {
         "metadata": "{}",
         "name": "ORIGIN_CITY_MARKET_ID",
         "type": "\"long\""
        },
        {
         "metadata": "{}",
         "name": "ORIGIN",
         "type": "\"long\""
        },
        {
         "metadata": "{}",
         "name": "ORIGIN_CITY_NAME",
         "type": "\"long\""
        },
        {
         "metadata": "{}",
         "name": "ORIGIN_STATE_ABR",
         "type": "\"long\""
        },
        {
         "metadata": "{}",
         "name": "ORIGIN_STATE_FIPS",
         "type": "\"long\""
        },
        {
         "metadata": "{}",
         "name": "ORIGIN_STATE_NM",
         "type": "\"long\""
        },
        {
         "metadata": "{}",
         "name": "ORIGIN_WAC",
         "type": "\"long\""
        },
        {
         "metadata": "{}",
         "name": "DEST_AIRPORT_ID",
         "type": "\"long\""
        },
        {
         "metadata": "{}",
         "name": "DEST_AIRPORT_SEQ_ID",
         "type": "\"long\""
        },
        {
         "metadata": "{}",
         "name": "DEST_CITY_MARKET_ID",
         "type": "\"long\""
        },
        {
         "metadata": "{}",
         "name": "DEST",
         "type": "\"long\""
        },
        {
         "metadata": "{}",
         "name": "DEST_CITY_NAME",
         "type": "\"long\""
        },
        {
         "metadata": "{}",
         "name": "DEST_STATE_ABR",
         "type": "\"long\""
        },
        {
         "metadata": "{}",
         "name": "DEST_STATE_FIPS",
         "type": "\"long\""
        },
        {
         "metadata": "{}",
         "name": "DEST_STATE_NM",
         "type": "\"long\""
        },
        {
         "metadata": "{}",
         "name": "DEST_WAC",
         "type": "\"long\""
        },
        {
         "metadata": "{}",
         "name": "CRS_DEP_TIME",
         "type": "\"long\""
        },
        {
         "metadata": "{}",
         "name": "DEP_DELAY",
         "type": "\"long\""
        },
        {
         "metadata": "{}",
         "name": "DEP_DELAY_NEW",
         "type": "\"long\""
        },
        {
         "metadata": "{}",
         "name": "DEP_DEL15",
         "type": "\"long\""
        },
        {
         "metadata": "{}",
         "name": "DEP_DELAY_GROUP",
         "type": "\"long\""
        },
        {
         "metadata": "{}",
         "name": "DEP_TIME_BLK",
         "type": "\"long\""
        },
        {
         "metadata": "{}",
         "name": "TAXI_OUT",
         "type": "\"long\""
        },
        {
         "metadata": "{}",
         "name": "WHEELS_OFF",
         "type": "\"long\""
        },
        {
         "metadata": "{}",
         "name": "WHEELS_ON",
         "type": "\"long\""
        },
        {
         "metadata": "{}",
         "name": "TAXI_IN",
         "type": "\"long\""
        },
        {
         "metadata": "{}",
         "name": "CRS_ARR_TIME",
         "type": "\"long\""
        },
        {
         "metadata": "{}",
         "name": "ARR_TIME",
         "type": "\"long\""
        },
        {
         "metadata": "{}",
         "name": "ARR_DELAY",
         "type": "\"long\""
        },
        {
         "metadata": "{}",
         "name": "ARR_DELAY_NEW",
         "type": "\"long\""
        },
        {
         "metadata": "{}",
         "name": "ARR_DEL15",
         "type": "\"long\""
        },
        {
         "metadata": "{}",
         "name": "ARR_DELAY_GROUP",
         "type": "\"long\""
        },
        {
         "metadata": "{}",
         "name": "ARR_TIME_BLK",
         "type": "\"long\""
        },
        {
         "metadata": "{}",
         "name": "CANCELLED",
         "type": "\"long\""
        },
        {
         "metadata": "{}",
         "name": "CANCELLATION_CODE",
         "type": "\"long\""
        },
        {
         "metadata": "{}",
         "name": "DIVERTED",
         "type": "\"long\""
        },
        {
         "metadata": "{}",
         "name": "CRS_ELAPSED_TIME",
         "type": "\"long\""
        },
        {
         "metadata": "{}",
         "name": "ACTUAL_ELAPSED_TIME",
         "type": "\"long\""
        },
        {
         "metadata": "{}",
         "name": "AIR_TIME",
         "type": "\"long\""
        },
        {
         "metadata": "{}",
         "name": "FLIGHTS",
         "type": "\"long\""
        },
        {
         "metadata": "{}",
         "name": "DISTANCE",
         "type": "\"long\""
        },
        {
         "metadata": "{}",
         "name": "DISTANCE_GROUP",
         "type": "\"long\""
        },
        {
         "metadata": "{}",
         "name": "CARRIER_DELAY",
         "type": "\"long\""
        },
        {
         "metadata": "{}",
         "name": "WEATHER_DELAY",
         "type": "\"long\""
        },
        {
         "metadata": "{}",
         "name": "NAS_DELAY",
         "type": "\"long\""
        },
        {
         "metadata": "{}",
         "name": "SECURITY_DELAY",
         "type": "\"long\""
        },
        {
         "metadata": "{}",
         "name": "LATE_AIRCRAFT_DELAY",
         "type": "\"long\""
        },
        {
         "metadata": "{}",
         "name": "FIRST_DEP_TIME",
         "type": "\"long\""
        },
        {
         "metadata": "{}",
         "name": "TOTAL_ADD_GTIME",
         "type": "\"long\""
        },
        {
         "metadata": "{}",
         "name": "LONGEST_ADD_GTIME",
         "type": "\"long\""
        },
        {
         "metadata": "{}",
         "name": "DIV_AIRPORT_LANDINGS",
         "type": "\"long\""
        },
        {
         "metadata": "{}",
         "name": "DIV_REACHED_DEST",
         "type": "\"long\""
        },
        {
         "metadata": "{}",
         "name": "DIV_ACTUAL_ELAPSED_TIME",
         "type": "\"long\""
        },
        {
         "metadata": "{}",
         "name": "DIV_ARR_DELAY",
         "type": "\"long\""
        },
        {
         "metadata": "{}",
         "name": "DIV_DISTANCE",
         "type": "\"long\""
        },
        {
         "metadata": "{}",
         "name": "DIV1_AIRPORT",
         "type": "\"long\""
        },
        {
         "metadata": "{}",
         "name": "DIV1_AIRPORT_ID",
         "type": "\"long\""
        },
        {
         "metadata": "{}",
         "name": "DIV1_AIRPORT_SEQ_ID",
         "type": "\"long\""
        },
        {
         "metadata": "{}",
         "name": "DIV1_WHEELS_ON",
         "type": "\"long\""
        },
        {
         "metadata": "{}",
         "name": "DIV1_TOTAL_GTIME",
         "type": "\"long\""
        },
        {
         "metadata": "{}",
         "name": "DIV1_LONGEST_GTIME",
         "type": "\"long\""
        },
        {
         "metadata": "{}",
         "name": "DIV1_WHEELS_OFF",
         "type": "\"long\""
        },
        {
         "metadata": "{}",
         "name": "DIV1_TAIL_NUM",
         "type": "\"long\""
        },
        {
         "metadata": "{}",
         "name": "DIV2_AIRPORT",
         "type": "\"long\""
        },
        {
         "metadata": "{}",
         "name": "DIV2_AIRPORT_ID",
         "type": "\"long\""
        },
        {
         "metadata": "{}",
         "name": "DIV2_AIRPORT_SEQ_ID",
         "type": "\"long\""
        },
        {
         "metadata": "{}",
         "name": "DIV2_WHEELS_ON",
         "type": "\"long\""
        },
        {
         "metadata": "{}",
         "name": "DIV2_TOTAL_GTIME",
         "type": "\"long\""
        },
        {
         "metadata": "{}",
         "name": "DIV2_LONGEST_GTIME",
         "type": "\"long\""
        },
        {
         "metadata": "{}",
         "name": "DIV2_WHEELS_OFF",
         "type": "\"long\""
        },
        {
         "metadata": "{}",
         "name": "DIV2_TAIL_NUM",
         "type": "\"long\""
        },
        {
         "metadata": "{}",
         "name": "DIV3_AIRPORT",
         "type": "\"long\""
        },
        {
         "metadata": "{}",
         "name": "DIV3_AIRPORT_ID",
         "type": "\"long\""
        },
        {
         "metadata": "{}",
         "name": "DIV3_AIRPORT_SEQ_ID",
         "type": "\"long\""
        },
        {
         "metadata": "{}",
         "name": "DIV3_WHEELS_ON",
         "type": "\"long\""
        },
        {
         "metadata": "{}",
         "name": "DIV3_TOTAL_GTIME",
         "type": "\"long\""
        },
        {
         "metadata": "{}",
         "name": "DIV3_LONGEST_GTIME",
         "type": "\"long\""
        },
        {
         "metadata": "{}",
         "name": "DIV3_WHEELS_OFF",
         "type": "\"long\""
        },
        {
         "metadata": "{}",
         "name": "DIV3_TAIL_NUM",
         "type": "\"long\""
        },
        {
         "metadata": "{}",
         "name": "DIV4_AIRPORT",
         "type": "\"long\""
        },
        {
         "metadata": "{}",
         "name": "DIV4_AIRPORT_ID",
         "type": "\"long\""
        },
        {
         "metadata": "{}",
         "name": "DIV4_AIRPORT_SEQ_ID",
         "type": "\"long\""
        },
        {
         "metadata": "{}",
         "name": "DIV4_WHEELS_ON",
         "type": "\"long\""
        },
        {
         "metadata": "{}",
         "name": "DIV4_TOTAL_GTIME",
         "type": "\"long\""
        },
        {
         "metadata": "{}",
         "name": "DIV4_LONGEST_GTIME",
         "type": "\"long\""
        },
        {
         "metadata": "{}",
         "name": "DIV4_WHEELS_OFF",
         "type": "\"long\""
        },
        {
         "metadata": "{}",
         "name": "DIV4_TAIL_NUM",
         "type": "\"long\""
        },
        {
         "metadata": "{}",
         "name": "DIV5_AIRPORT",
         "type": "\"long\""
        },
        {
         "metadata": "{}",
         "name": "DIV5_AIRPORT_ID",
         "type": "\"long\""
        },
        {
         "metadata": "{}",
         "name": "DIV5_AIRPORT_SEQ_ID",
         "type": "\"long\""
        },
        {
         "metadata": "{}",
         "name": "DIV5_WHEELS_ON",
         "type": "\"long\""
        },
        {
         "metadata": "{}",
         "name": "DIV5_TOTAL_GTIME",
         "type": "\"long\""
        },
        {
         "metadata": "{}",
         "name": "DIV5_LONGEST_GTIME",
         "type": "\"long\""
        },
        {
         "metadata": "{}",
         "name": "DIV5_WHEELS_OFF",
         "type": "\"long\""
        },
        {
         "metadata": "{}",
         "name": "DIV5_TAIL_NUM",
         "type": "\"long\""
        },
        {
         "metadata": "{}",
         "name": "YEAR",
         "type": "\"long\""
        },
        {
         "metadata": "{}",
         "name": "iata_code",
         "type": "\"long\""
        },
        {
         "metadata": "{}",
         "name": "type",
         "type": "\"long\""
        },
        {
         "metadata": "{}",
         "name": "municipality",
         "type": "\"long\""
        },
        {
         "metadata": "{}",
         "name": "station_state",
         "type": "\"long\""
        },
        {
         "metadata": "{}",
         "name": "station_id",
         "type": "\"long\""
        },
        {
         "metadata": "{}",
         "name": "STATION",
         "type": "\"long\""
        },
        {
         "metadata": "{}",
         "name": "DATE",
         "type": "\"long\""
        },
        {
         "metadata": "{}",
         "name": "LATITUDE",
         "type": "\"long\""
        },
        {
         "metadata": "{}",
         "name": "LONGITUDE",
         "type": "\"long\""
        },
        {
         "metadata": "{}",
         "name": "ELEVATION",
         "type": "\"long\""
        },
        {
         "metadata": "{}",
         "name": "REPORT_TYPE",
         "type": "\"long\""
        },
        {
         "metadata": "{}",
         "name": "SOURCE",
         "type": "\"long\""
        },
        {
         "metadata": "{}",
         "name": "HourlyAltimeterSetting",
         "type": "\"long\""
        },
        {
         "metadata": "{}",
         "name": "HourlyDewPointTemperature",
         "type": "\"long\""
        },
        {
         "metadata": "{}",
         "name": "HourlyDryBulbTemperature",
         "type": "\"long\""
        },
        {
         "metadata": "{}",
         "name": "HourlyPrecipitation",
         "type": "\"long\""
        },
        {
         "metadata": "{}",
         "name": "HourlyPresentWeatherType",
         "type": "\"long\""
        },
        {
         "metadata": "{}",
         "name": "HourlyPressureChange",
         "type": "\"long\""
        },
        {
         "metadata": "{}",
         "name": "HourlyPressureTendency",
         "type": "\"long\""
        },
        {
         "metadata": "{}",
         "name": "HourlyRelativeHumidity",
         "type": "\"long\""
        },
        {
         "metadata": "{}",
         "name": "HourlySkyConditions",
         "type": "\"long\""
        },
        {
         "metadata": "{}",
         "name": "HourlySeaLevelPressure",
         "type": "\"long\""
        },
        {
         "metadata": "{}",
         "name": "HourlyStationPressure",
         "type": "\"long\""
        },
        {
         "metadata": "{}",
         "name": "HourlyVisibility",
         "type": "\"long\""
        },
        {
         "metadata": "{}",
         "name": "HourlyWetBulbTemperature",
         "type": "\"long\""
        },
        {
         "metadata": "{}",
         "name": "HourlyWindDirection",
         "type": "\"long\""
        },
        {
         "metadata": "{}",
         "name": "HourlyWindGustSpeed",
         "type": "\"long\""
        },
        {
         "metadata": "{}",
         "name": "HourlyWindSpeed",
         "type": "\"long\""
        },
        {
         "metadata": "{}",
         "name": "Sunrise",
         "type": "\"long\""
        },
        {
         "metadata": "{}",
         "name": "Sunset",
         "type": "\"long\""
        },
        {
         "metadata": "{}",
         "name": "DailyAverageDewPointTemperature",
         "type": "\"long\""
        },
        {
         "metadata": "{}",
         "name": "DailyAverageDryBulbTemperature",
         "type": "\"long\""
        },
        {
         "metadata": "{}",
         "name": "DailyAverageRelativeHumidity",
         "type": "\"long\""
        },
        {
         "metadata": "{}",
         "name": "DailyAverageSeaLevelPressure",
         "type": "\"long\""
        },
        {
         "metadata": "{}",
         "name": "DailyAverageStationPressure",
         "type": "\"long\""
        },
        {
         "metadata": "{}",
         "name": "DailyAverageWetBulbTemperature",
         "type": "\"long\""
        },
        {
         "metadata": "{}",
         "name": "DailyAverageWindSpeed",
         "type": "\"long\""
        },
        {
         "metadata": "{}",
         "name": "DailyCoolingDegreeDays",
         "type": "\"long\""
        },
        {
         "metadata": "{}",
         "name": "DailyDepartureFromNormalAverageTemperature",
         "type": "\"long\""
        },
        {
         "metadata": "{}",
         "name": "DailyHeatingDegreeDays",
         "type": "\"long\""
        },
        {
         "metadata": "{}",
         "name": "DailyMaximumDryBulbTemperature",
         "type": "\"long\""
        },
        {
         "metadata": "{}",
         "name": "DailyMinimumDryBulbTemperature",
         "type": "\"long\""
        },
        {
         "metadata": "{}",
         "name": "DailyPeakWindDirection",
         "type": "\"long\""
        },
        {
         "metadata": "{}",
         "name": "DailyPeakWindSpeed",
         "type": "\"long\""
        },
        {
         "metadata": "{}",
         "name": "DailyPrecipitation",
         "type": "\"long\""
        },
        {
         "metadata": "{}",
         "name": "DailySnowDepth",
         "type": "\"long\""
        },
        {
         "metadata": "{}",
         "name": "DailySnowfall",
         "type": "\"long\""
        },
        {
         "metadata": "{}",
         "name": "DailySustainedWindDirection",
         "type": "\"long\""
        },
        {
         "metadata": "{}",
         "name": "DailySustainedWindSpeed",
         "type": "\"long\""
        },
        {
         "metadata": "{}",
         "name": "DailyWeather",
         "type": "\"long\""
        },
        {
         "metadata": "{}",
         "name": "MonthlyAverageRH",
         "type": "\"long\""
        },
        {
         "metadata": "{}",
         "name": "MonthlyDaysWithGT001Precip",
         "type": "\"long\""
        },
        {
         "metadata": "{}",
         "name": "MonthlyDaysWithGT010Precip",
         "type": "\"long\""
        },
        {
         "metadata": "{}",
         "name": "MonthlyDaysWithGT32Temp",
         "type": "\"long\""
        },
        {
         "metadata": "{}",
         "name": "MonthlyDaysWithGT90Temp",
         "type": "\"long\""
        },
        {
         "metadata": "{}",
         "name": "MonthlyDaysWithLT0Temp",
         "type": "\"long\""
        },
        {
         "metadata": "{}",
         "name": "MonthlyDaysWithLT32Temp",
         "type": "\"long\""
        },
        {
         "metadata": "{}",
         "name": "MonthlyDepartureFromNormalAverageTemperature",
         "type": "\"long\""
        },
        {
         "metadata": "{}",
         "name": "MonthlyDepartureFromNormalCoolingDegreeDays",
         "type": "\"long\""
        },
        {
         "metadata": "{}",
         "name": "MonthlyDepartureFromNormalHeatingDegreeDays",
         "type": "\"long\""
        },
        {
         "metadata": "{}",
         "name": "MonthlyDepartureFromNormalMaximumTemperature",
         "type": "\"long\""
        },
        {
         "metadata": "{}",
         "name": "MonthlyDepartureFromNormalMinimumTemperature",
         "type": "\"long\""
        },
        {
         "metadata": "{}",
         "name": "MonthlyDepartureFromNormalPrecipitation",
         "type": "\"long\""
        },
        {
         "metadata": "{}",
         "name": "MonthlyDewpointTemperature",
         "type": "\"long\""
        },
        {
         "metadata": "{}",
         "name": "MonthlyGreatestPrecip",
         "type": "\"long\""
        },
        {
         "metadata": "{}",
         "name": "MonthlyGreatestPrecipDate",
         "type": "\"long\""
        },
        {
         "metadata": "{}",
         "name": "MonthlyGreatestSnowDepth",
         "type": "\"long\""
        },
        {
         "metadata": "{}",
         "name": "MonthlyGreatestSnowDepthDate",
         "type": "\"long\""
        },
        {
         "metadata": "{}",
         "name": "MonthlyGreatestSnowfall",
         "type": "\"long\""
        },
        {
         "metadata": "{}",
         "name": "MonthlyGreatestSnowfallDate",
         "type": "\"long\""
        },
        {
         "metadata": "{}",
         "name": "MonthlyMaxSeaLevelPressureValue",
         "type": "\"long\""
        },
        {
         "metadata": "{}",
         "name": "MonthlyMaxSeaLevelPressureValueDate",
         "type": "\"long\""
        },
        {
         "metadata": "{}",
         "name": "MonthlyMaxSeaLevelPressureValueTime",
         "type": "\"long\""
        },
        {
         "metadata": "{}",
         "name": "MonthlyMaximumTemperature",
         "type": "\"long\""
        },
        {
         "metadata": "{}",
         "name": "MonthlyMeanTemperature",
         "type": "\"long\""
        },
        {
         "metadata": "{}",
         "name": "MonthlyMinSeaLevelPressureValue",
         "type": "\"long\""
        },
        {
         "metadata": "{}",
         "name": "MonthlyMinSeaLevelPressureValueDate",
         "type": "\"long\""
        },
        {
         "metadata": "{}",
         "name": "MonthlyMinSeaLevelPressureValueTime",
         "type": "\"long\""
        },
        {
         "metadata": "{}",
         "name": "MonthlyMinimumTemperature",
         "type": "\"long\""
        },
        {
         "metadata": "{}",
         "name": "MonthlySeaLevelPressure",
         "type": "\"long\""
        },
        {
         "metadata": "{}",
         "name": "MonthlyStationPressure",
         "type": "\"long\""
        },
        {
         "metadata": "{}",
         "name": "MonthlyTotalLiquidPrecipitation",
         "type": "\"long\""
        },
        {
         "metadata": "{}",
         "name": "MonthlyTotalSnowfall",
         "type": "\"long\""
        },
        {
         "metadata": "{}",
         "name": "MonthlyWetBulb",
         "type": "\"long\""
        },
        {
         "metadata": "{}",
         "name": "AWND",
         "type": "\"long\""
        },
        {
         "metadata": "{}",
         "name": "CDSD",
         "type": "\"long\""
        },
        {
         "metadata": "{}",
         "name": "CLDD",
         "type": "\"long\""
        },
        {
         "metadata": "{}",
         "name": "DSNW",
         "type": "\"long\""
        },
        {
         "metadata": "{}",
         "name": "HDSD",
         "type": "\"long\""
        },
        {
         "metadata": "{}",
         "name": "HTDD",
         "type": "\"long\""
        },
        {
         "metadata": "{}",
         "name": "NormalsCoolingDegreeDay",
         "type": "\"long\""
        },
        {
         "metadata": "{}",
         "name": "NormalsHeatingDegreeDay",
         "type": "\"long\""
        },
        {
         "metadata": "{}",
         "name": "ShortDurationEndDate005",
         "type": "\"long\""
        },
        {
         "metadata": "{}",
         "name": "ShortDurationEndDate010",
         "type": "\"long\""
        },
        {
         "metadata": "{}",
         "name": "ShortDurationEndDate015",
         "type": "\"long\""
        },
        {
         "metadata": "{}",
         "name": "ShortDurationEndDate020",
         "type": "\"long\""
        },
        {
         "metadata": "{}",
         "name": "ShortDurationEndDate030",
         "type": "\"long\""
        },
        {
         "metadata": "{}",
         "name": "ShortDurationEndDate045",
         "type": "\"long\""
        },
        {
         "metadata": "{}",
         "name": "ShortDurationEndDate060",
         "type": "\"long\""
        },
        {
         "metadata": "{}",
         "name": "ShortDurationEndDate080",
         "type": "\"long\""
        },
        {
         "metadata": "{}",
         "name": "ShortDurationEndDate100",
         "type": "\"long\""
        },
        {
         "metadata": "{}",
         "name": "ShortDurationEndDate120",
         "type": "\"long\""
        },
        {
         "metadata": "{}",
         "name": "ShortDurationEndDate150",
         "type": "\"long\""
        },
        {
         "metadata": "{}",
         "name": "ShortDurationEndDate180",
         "type": "\"long\""
        },
        {
         "metadata": "{}",
         "name": "ShortDurationPrecipitationValue005",
         "type": "\"long\""
        },
        {
         "metadata": "{}",
         "name": "ShortDurationPrecipitationValue010",
         "type": "\"long\""
        },
        {
         "metadata": "{}",
         "name": "ShortDurationPrecipitationValue015",
         "type": "\"long\""
        },
        {
         "metadata": "{}",
         "name": "ShortDurationPrecipitationValue020",
         "type": "\"long\""
        },
        {
         "metadata": "{}",
         "name": "ShortDurationPrecipitationValue030",
         "type": "\"long\""
        },
        {
         "metadata": "{}",
         "name": "ShortDurationPrecipitationValue045",
         "type": "\"long\""
        },
        {
         "metadata": "{}",
         "name": "ShortDurationPrecipitationValue060",
         "type": "\"long\""
        },
        {
         "metadata": "{}",
         "name": "ShortDurationPrecipitationValue080",
         "type": "\"long\""
        },
        {
         "metadata": "{}",
         "name": "ShortDurationPrecipitationValue100",
         "type": "\"long\""
        },
        {
         "metadata": "{}",
         "name": "ShortDurationPrecipitationValue120",
         "type": "\"long\""
        },
        {
         "metadata": "{}",
         "name": "ShortDurationPrecipitationValue150",
         "type": "\"long\""
        },
        {
         "metadata": "{}",
         "name": "ShortDurationPrecipitationValue180",
         "type": "\"long\""
        },
        {
         "metadata": "{}",
         "name": "REM",
         "type": "\"long\""
        },
        {
         "metadata": "{}",
         "name": "BackupDirection",
         "type": "\"long\""
        },
        {
         "metadata": "{}",
         "name": "BackupDistance",
         "type": "\"long\""
        },
        {
         "metadata": "{}",
         "name": "BackupDistanceUnit",
         "type": "\"long\""
        },
        {
         "metadata": "{}",
         "name": "BackupElements",
         "type": "\"long\""
        },
        {
         "metadata": "{}",
         "name": "BackupElevation",
         "type": "\"long\""
        },
        {
         "metadata": "{}",
         "name": "BackupEquipment",
         "type": "\"long\""
        },
        {
         "metadata": "{}",
         "name": "BackupLatitude",
         "type": "\"long\""
        },
        {
         "metadata": "{}",
         "name": "BackupLongitude",
         "type": "\"long\""
        },
        {
         "metadata": "{}",
         "name": "BackupName",
         "type": "\"long\""
        },
        {
         "metadata": "{}",
         "name": "WindEquipmentChangeDate",
         "type": "\"long\""
        }
       ],
       "type": "table"
      }
     },
     "output_type": "display_data"
    }
   ],
   "source": [
    "display(n_null_all)"
   ]
  },
  {
   "cell_type": "code",
   "execution_count": 0,
   "metadata": {
    "application/vnd.databricks.v1+cell": {
     "cellMetadata": {
      "byteLimit": 2048000,
      "rowLimit": 10000
     },
     "inputWidgets": {},
     "nuid": "c61866d7-29f8-419e-aec0-9368f5fb1477",
     "showTitle": false,
     "title": ""
    }
   },
   "outputs": [
    {
     "output_type": "display_data",
     "data": {
      "text/html": [
       "<style scoped>\n",
       "  .table-result-container {\n",
       "    max-height: 300px;\n",
       "    overflow: auto;\n",
       "  }\n",
       "  table, th, td {\n",
       "    border: 1px solid black;\n",
       "    border-collapse: collapse;\n",
       "  }\n",
       "  th, td {\n",
       "    padding: 5px;\n",
       "  }\n",
       "  th {\n",
       "    text-align: left;\n",
       "  }\n",
       "</style><div class='table-result-container'><table class='table-result'><thead style='background-color: white'><tr><th>QUARTER</th><th>MONTH</th><th>DAY_OF_MONTH</th><th>DAY_OF_WEEK</th><th>FL_DATE</th><th>OP_UNIQUE_CARRIER</th><th>OP_CARRIER_AIRLINE_ID</th><th>OP_CARRIER</th><th>TAIL_NUM</th><th>OP_CARRIER_FL_NUM</th><th>ORIGIN_AIRPORT_ID</th><th>ORIGIN_AIRPORT_SEQ_ID</th><th>ORIGIN_CITY_MARKET_ID</th><th>ORIGIN</th><th>ORIGIN_CITY_NAME</th><th>ORIGIN_STATE_ABR</th><th>ORIGIN_STATE_FIPS</th><th>ORIGIN_STATE_NM</th><th>ORIGIN_WAC</th><th>DEST_AIRPORT_ID</th><th>DEST_AIRPORT_SEQ_ID</th><th>DEST_CITY_MARKET_ID</th><th>DEST</th><th>DEST_CITY_NAME</th><th>DEST_STATE_ABR</th><th>DEST_STATE_FIPS</th><th>DEST_STATE_NM</th><th>DEST_WAC</th><th>CRS_DEP_TIME</th><th>DEP_DELAY</th><th>DEP_DELAY_NEW</th><th>DEP_DEL15</th><th>DEP_DELAY_GROUP</th><th>DEP_TIME_BLK</th><th>TAXI_OUT</th><th>WHEELS_OFF</th><th>WHEELS_ON</th><th>TAXI_IN</th><th>CRS_ARR_TIME</th><th>ARR_TIME</th><th>ARR_DELAY</th><th>ARR_DELAY_NEW</th><th>ARR_DEL15</th><th>ARR_DELAY_GROUP</th><th>ARR_TIME_BLK</th><th>CANCELLED</th><th>CANCELLATION_CODE</th><th>DIVERTED</th><th>CRS_ELAPSED_TIME</th><th>ACTUAL_ELAPSED_TIME</th><th>AIR_TIME</th><th>FLIGHTS</th><th>DISTANCE</th><th>DISTANCE_GROUP</th><th>CARRIER_DELAY</th><th>WEATHER_DELAY</th><th>NAS_DELAY</th><th>SECURITY_DELAY</th><th>LATE_AIRCRAFT_DELAY</th><th>FIRST_DEP_TIME</th><th>TOTAL_ADD_GTIME</th><th>LONGEST_ADD_GTIME</th><th>DIV_AIRPORT_LANDINGS</th><th>DIV_REACHED_DEST</th><th>DIV_ACTUAL_ELAPSED_TIME</th><th>DIV_ARR_DELAY</th><th>DIV_DISTANCE</th><th>DIV1_AIRPORT</th><th>DIV1_AIRPORT_ID</th><th>DIV1_AIRPORT_SEQ_ID</th><th>DIV1_WHEELS_ON</th><th>DIV1_TOTAL_GTIME</th><th>DIV1_LONGEST_GTIME</th><th>DIV1_WHEELS_OFF</th><th>DIV1_TAIL_NUM</th><th>DIV2_AIRPORT</th><th>DIV2_AIRPORT_ID</th><th>DIV2_AIRPORT_SEQ_ID</th><th>DIV2_WHEELS_ON</th><th>DIV2_TOTAL_GTIME</th><th>DIV2_LONGEST_GTIME</th><th>DIV2_WHEELS_OFF</th><th>DIV2_TAIL_NUM</th><th>DIV3_AIRPORT</th><th>DIV3_AIRPORT_ID</th><th>DIV3_AIRPORT_SEQ_ID</th><th>DIV3_WHEELS_ON</th><th>DIV3_TOTAL_GTIME</th><th>DIV3_LONGEST_GTIME</th><th>DIV3_WHEELS_OFF</th><th>DIV3_TAIL_NUM</th><th>DIV4_AIRPORT</th><th>DIV4_AIRPORT_ID</th><th>DIV4_AIRPORT_SEQ_ID</th><th>DIV4_WHEELS_ON</th><th>DIV4_TOTAL_GTIME</th><th>DIV4_LONGEST_GTIME</th><th>DIV4_WHEELS_OFF</th><th>DIV4_TAIL_NUM</th><th>DIV5_AIRPORT</th><th>DIV5_AIRPORT_ID</th><th>DIV5_AIRPORT_SEQ_ID</th><th>DIV5_WHEELS_ON</th><th>DIV5_TOTAL_GTIME</th><th>DIV5_LONGEST_GTIME</th><th>DIV5_WHEELS_OFF</th><th>DIV5_TAIL_NUM</th><th>YEAR</th><th>iata_code</th><th>type</th><th>municipality</th><th>station_state</th><th>station_id</th><th>STATION</th><th>DATE</th><th>LATITUDE</th><th>LONGITUDE</th><th>ELEVATION</th><th>REPORT_TYPE</th><th>SOURCE</th><th>HourlyAltimeterSetting</th><th>HourlyDewPointTemperature</th><th>HourlyDryBulbTemperature</th><th>HourlyPrecipitation</th><th>HourlyPresentWeatherType</th><th>HourlyPressureChange</th><th>HourlyPressureTendency</th><th>HourlyRelativeHumidity</th><th>HourlySkyConditions</th><th>HourlySeaLevelPressure</th><th>HourlyStationPressure</th><th>HourlyVisibility</th><th>HourlyWetBulbTemperature</th><th>HourlyWindDirection</th><th>HourlyWindGustSpeed</th><th>HourlyWindSpeed</th><th>Sunrise</th><th>Sunset</th><th>DailyAverageDewPointTemperature</th><th>DailyAverageDryBulbTemperature</th><th>DailyAverageRelativeHumidity</th><th>DailyAverageSeaLevelPressure</th><th>DailyAverageStationPressure</th><th>DailyAverageWetBulbTemperature</th><th>DailyAverageWindSpeed</th><th>DailyCoolingDegreeDays</th><th>DailyDepartureFromNormalAverageTemperature</th><th>DailyHeatingDegreeDays</th><th>DailyMaximumDryBulbTemperature</th><th>DailyMinimumDryBulbTemperature</th><th>DailyPeakWindDirection</th><th>DailyPeakWindSpeed</th><th>DailyPrecipitation</th><th>DailySnowDepth</th><th>DailySnowfall</th><th>DailySustainedWindDirection</th><th>DailySustainedWindSpeed</th><th>DailyWeather</th><th>MonthlyAverageRH</th><th>MonthlyDaysWithGT001Precip</th><th>MonthlyDaysWithGT010Precip</th><th>MonthlyDaysWithGT32Temp</th><th>MonthlyDaysWithGT90Temp</th><th>MonthlyDaysWithLT0Temp</th><th>MonthlyDaysWithLT32Temp</th><th>MonthlyDepartureFromNormalAverageTemperature</th><th>MonthlyDepartureFromNormalCoolingDegreeDays</th><th>MonthlyDepartureFromNormalHeatingDegreeDays</th><th>MonthlyDepartureFromNormalMaximumTemperature</th><th>MonthlyDepartureFromNormalMinimumTemperature</th><th>MonthlyDepartureFromNormalPrecipitation</th><th>MonthlyDewpointTemperature</th><th>MonthlyGreatestPrecip</th><th>MonthlyGreatestPrecipDate</th><th>MonthlyGreatestSnowDepth</th><th>MonthlyGreatestSnowDepthDate</th><th>MonthlyGreatestSnowfall</th><th>MonthlyGreatestSnowfallDate</th><th>MonthlyMaxSeaLevelPressureValue</th><th>MonthlyMaxSeaLevelPressureValueDate</th><th>MonthlyMaxSeaLevelPressureValueTime</th><th>MonthlyMaximumTemperature</th><th>MonthlyMeanTemperature</th><th>MonthlyMinSeaLevelPressureValue</th><th>MonthlyMinSeaLevelPressureValueDate</th><th>MonthlyMinSeaLevelPressureValueTime</th><th>MonthlyMinimumTemperature</th><th>MonthlySeaLevelPressure</th><th>MonthlyStationPressure</th><th>MonthlyTotalLiquidPrecipitation</th><th>MonthlyTotalSnowfall</th><th>MonthlyWetBulb</th><th>AWND</th><th>CDSD</th><th>CLDD</th><th>DSNW</th><th>HDSD</th><th>HTDD</th><th>NormalsCoolingDegreeDay</th><th>NormalsHeatingDegreeDay</th><th>ShortDurationEndDate005</th><th>ShortDurationEndDate010</th><th>ShortDurationEndDate015</th><th>ShortDurationEndDate020</th><th>ShortDurationEndDate030</th><th>ShortDurationEndDate045</th><th>ShortDurationEndDate060</th><th>ShortDurationEndDate080</th><th>ShortDurationEndDate100</th><th>ShortDurationEndDate120</th><th>ShortDurationEndDate150</th><th>ShortDurationEndDate180</th><th>ShortDurationPrecipitationValue005</th><th>ShortDurationPrecipitationValue010</th><th>ShortDurationPrecipitationValue015</th><th>ShortDurationPrecipitationValue020</th><th>ShortDurationPrecipitationValue030</th><th>ShortDurationPrecipitationValue045</th><th>ShortDurationPrecipitationValue060</th><th>ShortDurationPrecipitationValue080</th><th>ShortDurationPrecipitationValue100</th><th>ShortDurationPrecipitationValue120</th><th>ShortDurationPrecipitationValue150</th><th>ShortDurationPrecipitationValue180</th><th>REM</th><th>BackupDirection</th><th>BackupDistance</th><th>BackupDistanceUnit</th><th>BackupElements</th><th>BackupElevation</th><th>BackupEquipment</th><th>BackupLatitude</th><th>BackupLongitude</th><th>BackupName</th><th>WindEquipmentChangeDate</th></tr></thead><tbody><tr><td>0.0</td><td>0.0</td><td>0.0</td><td>0.0</td><td>0.0</td><td>0.0</td><td>0.0</td><td>0.0</td><td>0.00571628952923421</td><td>0.0</td><td>0.0</td><td>0.0</td><td>0.0</td><td>0.0</td><td>0.0</td><td>0.0</td><td>0.0</td><td>0.0</td><td>0.0</td><td>0.0</td><td>0.0</td><td>0.0</td><td>0.0</td><td>0.0</td><td>0.0</td><td>0.0</td><td>0.0</td><td>0.0</td><td>0.0</td><td>0.020432348799510017</td><td>0.020432348799510017</td><td>0.020432348799510017</td><td>0.020432348799510017</td><td>0.0</td><td>0.02070320198801805</td><td>0.02070308145883128</td><td>0.021149063555715147</td><td>0.021149063555715147</td><td>0.0</td><td>0.02114858143896807</td><td>0.023236412118023724</td><td>0.023236412118023724</td><td>0.023236412118023724</td><td>0.023236412118023724</td><td>0.0</td><td>0.0</td><td>0.9791870682403472</td><td>0.0</td><td>4.097992350157151E-6</td><td>0.02317378515257838</td><td>0.02317378515257838</td><td>0.0</td><td>0.0</td><td>0.0</td><td>0.8282495247293107</td><td>0.8282495247293107</td><td>0.8282495247293107</td><td>0.8282495247293107</td><td>0.8282495247293107</td><td>0.9937852258601252</td><td>0.9937855633418482</td><td>0.9937855633418482</td><td>2.193631199201769E-6</td><td>0.9976388814428636</td><td>0.997976049789932</td><td>0.9979748203922271</td><td>0.9976391225012371</td><td>0.9975269580400296</td><td>0.9975269580400296</td><td>0.9975269580400296</td><td>0.9975269821458669</td><td>0.9975269580400296</td><td>0.9975269580400296</td><td>0.9979625023093392</td><td>0.9979625264151766</td><td>0.9999791725565262</td><td>0.9999790038156647</td><td>0.9999790038156647</td><td>0.9999791725565262</td><td>0.9999791725565262</td><td>0.9999791725565262</td><td>0.9999916111686008</td><td>0.9999916111686008</td><td>0.9999998312591385</td><td>0.9999998312591385</td><td>0.9999998312591385</td><td>0.9999998312591385</td><td>0.9999998312591385</td><td>0.9999998312591385</td><td>0.9999999758941627</td><td>0.9999999758941627</td><td>1.0</td><td>1.0</td><td>1.0</td><td>1.0</td><td>1.0</td><td>1.0</td><td>1.0</td><td>1.0</td><td>1.0</td><td>1.0</td><td>1.0</td><td>1.0</td><td>1.0</td><td>1.0</td><td>1.0</td><td>1.0</td><td>0.0</td><td>0.0</td><td>0.0</td><td>0.0</td><td>0.0</td><td>0.0</td><td>2.51447989438172E-4</td><td>2.51447989438172E-4</td><td>2.51447989438172E-4</td><td>2.51447989438172E-4</td><td>2.51447989438172E-4</td><td>2.51447989438172E-4</td><td>2.51447989438172E-4</td><td>0.20051881547386483</td><td>0.005731452100929791</td><td>0.005526046260837502</td><td>0.2901252269323529</td><td>0.8885581112671456</td><td>0.5268795273173135</td><td>0.5268795273173135</td><td>0.0057669358935146815</td><td>0.08555070074704954</td><td>0.1216384650868408</td><td>0.01641858224506727</td><td>0.005473182159520475</td><td>0.016817316900737563</td><td>0.013788828236459365</td><td>0.8947904344566139</td><td>0.006062714517846612</td><td>0.9999996625182771</td><td>0.9999996625182771</td><td>0.9999997348357891</td><td>0.9999996866241144</td><td>0.9999997348357891</td><td>0.9999997348357891</td><td>0.9999997107299518</td><td>0.9999997348357891</td><td>0.9999997107299518</td><td>0.9999996866241144</td><td>0.9999996866241144</td><td>0.9999996866241144</td><td>0.9999996866241144</td><td>0.9999996866241144</td><td>0.9999997348357891</td><td>0.9999997107299518</td><td>0.9999996625182771</td><td>0.9999998312591385</td><td>0.9999998553649759</td><td>0.9999996625182771</td><td>0.9999996625182771</td><td>0.9999997589416265</td><td>1.0</td><td>1.0</td><td>1.0</td><td>1.0</td><td>1.0</td><td>1.0</td><td>1.0</td><td>1.0</td><td>1.0</td><td>1.0</td><td>1.0</td><td>1.0</td><td>1.0</td><td>1.0</td><td>1.0</td><td>1.0</td><td>1.0</td><td>1.0</td><td>1.0</td><td>1.0</td><td>1.0</td><td>1.0</td><td>1.0</td><td>1.0</td><td>1.0</td><td>1.0</td><td>1.0</td><td>1.0</td><td>1.0</td><td>1.0</td><td>1.0</td><td>1.0</td><td>1.0</td><td>1.0</td><td>1.0</td><td>1.0</td><td>1.0</td><td>1.0</td><td>1.0</td><td>1.0</td><td>1.0</td><td>1.0</td><td>1.0</td><td>1.0</td><td>1.0</td><td>1.0</td><td>1.0</td><td>1.0</td><td>1.0</td><td>1.0</td><td>1.0</td><td>1.0</td><td>1.0</td><td>1.0</td><td>1.0</td><td>1.0</td><td>1.0</td><td>1.0</td><td>1.0</td><td>1.0</td><td>1.0</td><td>1.0</td><td>1.0</td><td>1.0</td><td>1.0</td><td>1.0</td><td>0.14379430893964015</td><td>0.6787249689806085</td><td>0.5401619160168054</td><td>0.624775743395097</td><td>0.5910345376866805</td><td>0.7205250694923079</td><td>0.6244867144052242</td><td>0.7197926377301481</td><td>0.7077761670792944</td><td>0.591099285965813</td><td>0.34071730486710355</td></tr></tbody></table></div>"
      ]
     },
     "metadata": {
      "application/vnd.databricks.v1+output": {
       "addedWidgets": {},
       "aggData": [],
       "aggError": "",
       "aggOverflow": false,
       "aggSchema": [],
       "aggSeriesLimitReached": false,
       "aggType": "",
       "arguments": {},
       "columnCustomDisplayInfos": {},
       "data": [
        [
         0.0,
         0.0,
         0.0,
         0.0,
         0.0,
         0.0,
         0.0,
         0.0,
         0.00571628952923421,
         0.0,
         0.0,
         0.0,
         0.0,
         0.0,
         0.0,
         0.0,
         0.0,
         0.0,
         0.0,
         0.0,
         0.0,
         0.0,
         0.0,
         0.0,
         0.0,
         0.0,
         0.0,
         0.0,
         0.0,
         0.020432348799510017,
         0.020432348799510017,
         0.020432348799510017,
         0.020432348799510017,
         0.0,
         0.02070320198801805,
         0.02070308145883128,
         0.021149063555715147,
         0.021149063555715147,
         0.0,
         0.02114858143896807,
         0.023236412118023724,
         0.023236412118023724,
         0.023236412118023724,
         0.023236412118023724,
         0.0,
         0.0,
         0.9791870682403472,
         0.0,
         4.097992350157151E-6,
         0.02317378515257838,
         0.02317378515257838,
         0.0,
         0.0,
         0.0,
         0.8282495247293107,
         0.8282495247293107,
         0.8282495247293107,
         0.8282495247293107,
         0.8282495247293107,
         0.9937852258601252,
         0.9937855633418482,
         0.9937855633418482,
         2.193631199201769E-6,
         0.9976388814428636,
         0.997976049789932,
         0.9979748203922271,
         0.9976391225012371,
         0.9975269580400296,
         0.9975269580400296,
         0.9975269580400296,
         0.9975269821458669,
         0.9975269580400296,
         0.9975269580400296,
         0.9979625023093392,
         0.9979625264151766,
         0.9999791725565262,
         0.9999790038156647,
         0.9999790038156647,
         0.9999791725565262,
         0.9999791725565262,
         0.9999791725565262,
         0.9999916111686008,
         0.9999916111686008,
         0.9999998312591385,
         0.9999998312591385,
         0.9999998312591385,
         0.9999998312591385,
         0.9999998312591385,
         0.9999998312591385,
         0.9999999758941627,
         0.9999999758941627,
         1.0,
         1.0,
         1.0,
         1.0,
         1.0,
         1.0,
         1.0,
         1.0,
         1.0,
         1.0,
         1.0,
         1.0,
         1.0,
         1.0,
         1.0,
         1.0,
         0.0,
         0.0,
         0.0,
         0.0,
         0.0,
         0.0,
         2.51447989438172E-4,
         2.51447989438172E-4,
         2.51447989438172E-4,
         2.51447989438172E-4,
         2.51447989438172E-4,
         2.51447989438172E-4,
         2.51447989438172E-4,
         0.20051881547386483,
         0.005731452100929791,
         0.005526046260837502,
         0.2901252269323529,
         0.8885581112671456,
         0.5268795273173135,
         0.5268795273173135,
         0.0057669358935146815,
         0.08555070074704954,
         0.1216384650868408,
         0.01641858224506727,
         0.005473182159520475,
         0.016817316900737563,
         0.013788828236459365,
         0.8947904344566139,
         0.006062714517846612,
         0.9999996625182771,
         0.9999996625182771,
         0.9999997348357891,
         0.9999996866241144,
         0.9999997348357891,
         0.9999997348357891,
         0.9999997107299518,
         0.9999997348357891,
         0.9999997107299518,
         0.9999996866241144,
         0.9999996866241144,
         0.9999996866241144,
         0.9999996866241144,
         0.9999996866241144,
         0.9999997348357891,
         0.9999997107299518,
         0.9999996625182771,
         0.9999998312591385,
         0.9999998553649759,
         0.9999996625182771,
         0.9999996625182771,
         0.9999997589416265,
         1.0,
         1.0,
         1.0,
         1.0,
         1.0,
         1.0,
         1.0,
         1.0,
         1.0,
         1.0,
         1.0,
         1.0,
         1.0,
         1.0,
         1.0,
         1.0,
         1.0,
         1.0,
         1.0,
         1.0,
         1.0,
         1.0,
         1.0,
         1.0,
         1.0,
         1.0,
         1.0,
         1.0,
         1.0,
         1.0,
         1.0,
         1.0,
         1.0,
         1.0,
         1.0,
         1.0,
         1.0,
         1.0,
         1.0,
         1.0,
         1.0,
         1.0,
         1.0,
         1.0,
         1.0,
         1.0,
         1.0,
         1.0,
         1.0,
         1.0,
         1.0,
         1.0,
         1.0,
         1.0,
         1.0,
         1.0,
         1.0,
         1.0,
         1.0,
         1.0,
         1.0,
         1.0,
         1.0,
         1.0,
         1.0,
         1.0,
         0.14379430893964015,
         0.6787249689806085,
         0.5401619160168054,
         0.624775743395097,
         0.5910345376866805,
         0.7205250694923079,
         0.6244867144052242,
         0.7197926377301481,
         0.7077761670792944,
         0.591099285965813,
         0.34071730486710355
        ]
       ],
       "datasetInfos": [],
       "dbfsResultPath": null,
       "isJsonSchema": true,
       "metadata": {},
       "overflow": false,
       "plotOptions": {
        "customPlotOptions": {},
        "displayType": "table",
        "pivotAggregation": null,
        "pivotColumns": null,
        "xColumns": null,
        "yColumns": null
       },
       "removedWidgets": [],
       "schema": [
        {
         "metadata": "{}",
         "name": "QUARTER",
         "type": "\"double\""
        },
        {
         "metadata": "{}",
         "name": "MONTH",
         "type": "\"double\""
        },
        {
         "metadata": "{}",
         "name": "DAY_OF_MONTH",
         "type": "\"double\""
        },
        {
         "metadata": "{}",
         "name": "DAY_OF_WEEK",
         "type": "\"double\""
        },
        {
         "metadata": "{}",
         "name": "FL_DATE",
         "type": "\"double\""
        },
        {
         "metadata": "{}",
         "name": "OP_UNIQUE_CARRIER",
         "type": "\"double\""
        },
        {
         "metadata": "{}",
         "name": "OP_CARRIER_AIRLINE_ID",
         "type": "\"double\""
        },
        {
         "metadata": "{}",
         "name": "OP_CARRIER",
         "type": "\"double\""
        },
        {
         "metadata": "{}",
         "name": "TAIL_NUM",
         "type": "\"double\""
        },
        {
         "metadata": "{}",
         "name": "OP_CARRIER_FL_NUM",
         "type": "\"double\""
        },
        {
         "metadata": "{}",
         "name": "ORIGIN_AIRPORT_ID",
         "type": "\"double\""
        },
        {
         "metadata": "{}",
         "name": "ORIGIN_AIRPORT_SEQ_ID",
         "type": "\"double\""
        },
        {
         "metadata": "{}",
         "name": "ORIGIN_CITY_MARKET_ID",
         "type": "\"double\""
        },
        {
         "metadata": "{}",
         "name": "ORIGIN",
         "type": "\"double\""
        },
        {
         "metadata": "{}",
         "name": "ORIGIN_CITY_NAME",
         "type": "\"double\""
        },
        {
         "metadata": "{}",
         "name": "ORIGIN_STATE_ABR",
         "type": "\"double\""
        },
        {
         "metadata": "{}",
         "name": "ORIGIN_STATE_FIPS",
         "type": "\"double\""
        },
        {
         "metadata": "{}",
         "name": "ORIGIN_STATE_NM",
         "type": "\"double\""
        },
        {
         "metadata": "{}",
         "name": "ORIGIN_WAC",
         "type": "\"double\""
        },
        {
         "metadata": "{}",
         "name": "DEST_AIRPORT_ID",
         "type": "\"double\""
        },
        {
         "metadata": "{}",
         "name": "DEST_AIRPORT_SEQ_ID",
         "type": "\"double\""
        },
        {
         "metadata": "{}",
         "name": "DEST_CITY_MARKET_ID",
         "type": "\"double\""
        },
        {
         "metadata": "{}",
         "name": "DEST",
         "type": "\"double\""
        },
        {
         "metadata": "{}",
         "name": "DEST_CITY_NAME",
         "type": "\"double\""
        },
        {
         "metadata": "{}",
         "name": "DEST_STATE_ABR",
         "type": "\"double\""
        },
        {
         "metadata": "{}",
         "name": "DEST_STATE_FIPS",
         "type": "\"double\""
        },
        {
         "metadata": "{}",
         "name": "DEST_STATE_NM",
         "type": "\"double\""
        },
        {
         "metadata": "{}",
         "name": "DEST_WAC",
         "type": "\"double\""
        },
        {
         "metadata": "{}",
         "name": "CRS_DEP_TIME",
         "type": "\"double\""
        },
        {
         "metadata": "{}",
         "name": "DEP_DELAY",
         "type": "\"double\""
        },
        {
         "metadata": "{}",
         "name": "DEP_DELAY_NEW",
         "type": "\"double\""
        },
        {
         "metadata": "{}",
         "name": "DEP_DEL15",
         "type": "\"double\""
        },
        {
         "metadata": "{}",
         "name": "DEP_DELAY_GROUP",
         "type": "\"double\""
        },
        {
         "metadata": "{}",
         "name": "DEP_TIME_BLK",
         "type": "\"double\""
        },
        {
         "metadata": "{}",
         "name": "TAXI_OUT",
         "type": "\"double\""
        },
        {
         "metadata": "{}",
         "name": "WHEELS_OFF",
         "type": "\"double\""
        },
        {
         "metadata": "{}",
         "name": "WHEELS_ON",
         "type": "\"double\""
        },
        {
         "metadata": "{}",
         "name": "TAXI_IN",
         "type": "\"double\""
        },
        {
         "metadata": "{}",
         "name": "CRS_ARR_TIME",
         "type": "\"double\""
        },
        {
         "metadata": "{}",
         "name": "ARR_TIME",
         "type": "\"double\""
        },
        {
         "metadata": "{}",
         "name": "ARR_DELAY",
         "type": "\"double\""
        },
        {
         "metadata": "{}",
         "name": "ARR_DELAY_NEW",
         "type": "\"double\""
        },
        {
         "metadata": "{}",
         "name": "ARR_DEL15",
         "type": "\"double\""
        },
        {
         "metadata": "{}",
         "name": "ARR_DELAY_GROUP",
         "type": "\"double\""
        },
        {
         "metadata": "{}",
         "name": "ARR_TIME_BLK",
         "type": "\"double\""
        },
        {
         "metadata": "{}",
         "name": "CANCELLED",
         "type": "\"double\""
        },
        {
         "metadata": "{}",
         "name": "CANCELLATION_CODE",
         "type": "\"double\""
        },
        {
         "metadata": "{}",
         "name": "DIVERTED",
         "type": "\"double\""
        },
        {
         "metadata": "{}",
         "name": "CRS_ELAPSED_TIME",
         "type": "\"double\""
        },
        {
         "metadata": "{}",
         "name": "ACTUAL_ELAPSED_TIME",
         "type": "\"double\""
        },
        {
         "metadata": "{}",
         "name": "AIR_TIME",
         "type": "\"double\""
        },
        {
         "metadata": "{}",
         "name": "FLIGHTS",
         "type": "\"double\""
        },
        {
         "metadata": "{}",
         "name": "DISTANCE",
         "type": "\"double\""
        },
        {
         "metadata": "{}",
         "name": "DISTANCE_GROUP",
         "type": "\"double\""
        },
        {
         "metadata": "{}",
         "name": "CARRIER_DELAY",
         "type": "\"double\""
        },
        {
         "metadata": "{}",
         "name": "WEATHER_DELAY",
         "type": "\"double\""
        },
        {
         "metadata": "{}",
         "name": "NAS_DELAY",
         "type": "\"double\""
        },
        {
         "metadata": "{}",
         "name": "SECURITY_DELAY",
         "type": "\"double\""
        },
        {
         "metadata": "{}",
         "name": "LATE_AIRCRAFT_DELAY",
         "type": "\"double\""
        },
        {
         "metadata": "{}",
         "name": "FIRST_DEP_TIME",
         "type": "\"double\""
        },
        {
         "metadata": "{}",
         "name": "TOTAL_ADD_GTIME",
         "type": "\"double\""
        },
        {
         "metadata": "{}",
         "name": "LONGEST_ADD_GTIME",
         "type": "\"double\""
        },
        {
         "metadata": "{}",
         "name": "DIV_AIRPORT_LANDINGS",
         "type": "\"double\""
        },
        {
         "metadata": "{}",
         "name": "DIV_REACHED_DEST",
         "type": "\"double\""
        },
        {
         "metadata": "{}",
         "name": "DIV_ACTUAL_ELAPSED_TIME",
         "type": "\"double\""
        },
        {
         "metadata": "{}",
         "name": "DIV_ARR_DELAY",
         "type": "\"double\""
        },
        {
         "metadata": "{}",
         "name": "DIV_DISTANCE",
         "type": "\"double\""
        },
        {
         "metadata": "{}",
         "name": "DIV1_AIRPORT",
         "type": "\"double\""
        },
        {
         "metadata": "{}",
         "name": "DIV1_AIRPORT_ID",
         "type": "\"double\""
        },
        {
         "metadata": "{}",
         "name": "DIV1_AIRPORT_SEQ_ID",
         "type": "\"double\""
        },
        {
         "metadata": "{}",
         "name": "DIV1_WHEELS_ON",
         "type": "\"double\""
        },
        {
         "metadata": "{}",
         "name": "DIV1_TOTAL_GTIME",
         "type": "\"double\""
        },
        {
         "metadata": "{}",
         "name": "DIV1_LONGEST_GTIME",
         "type": "\"double\""
        },
        {
         "metadata": "{}",
         "name": "DIV1_WHEELS_OFF",
         "type": "\"double\""
        },
        {
         "metadata": "{}",
         "name": "DIV1_TAIL_NUM",
         "type": "\"double\""
        },
        {
         "metadata": "{}",
         "name": "DIV2_AIRPORT",
         "type": "\"double\""
        },
        {
         "metadata": "{}",
         "name": "DIV2_AIRPORT_ID",
         "type": "\"double\""
        },
        {
         "metadata": "{}",
         "name": "DIV2_AIRPORT_SEQ_ID",
         "type": "\"double\""
        },
        {
         "metadata": "{}",
         "name": "DIV2_WHEELS_ON",
         "type": "\"double\""
        },
        {
         "metadata": "{}",
         "name": "DIV2_TOTAL_GTIME",
         "type": "\"double\""
        },
        {
         "metadata": "{}",
         "name": "DIV2_LONGEST_GTIME",
         "type": "\"double\""
        },
        {
         "metadata": "{}",
         "name": "DIV2_WHEELS_OFF",
         "type": "\"double\""
        },
        {
         "metadata": "{}",
         "name": "DIV2_TAIL_NUM",
         "type": "\"double\""
        },
        {
         "metadata": "{}",
         "name": "DIV3_AIRPORT",
         "type": "\"double\""
        },
        {
         "metadata": "{}",
         "name": "DIV3_AIRPORT_ID",
         "type": "\"double\""
        },
        {
         "metadata": "{}",
         "name": "DIV3_AIRPORT_SEQ_ID",
         "type": "\"double\""
        },
        {
         "metadata": "{}",
         "name": "DIV3_WHEELS_ON",
         "type": "\"double\""
        },
        {
         "metadata": "{}",
         "name": "DIV3_TOTAL_GTIME",
         "type": "\"double\""
        },
        {
         "metadata": "{}",
         "name": "DIV3_LONGEST_GTIME",
         "type": "\"double\""
        },
        {
         "metadata": "{}",
         "name": "DIV3_WHEELS_OFF",
         "type": "\"double\""
        },
        {
         "metadata": "{}",
         "name": "DIV3_TAIL_NUM",
         "type": "\"double\""
        },
        {
         "metadata": "{}",
         "name": "DIV4_AIRPORT",
         "type": "\"double\""
        },
        {
         "metadata": "{}",
         "name": "DIV4_AIRPORT_ID",
         "type": "\"double\""
        },
        {
         "metadata": "{}",
         "name": "DIV4_AIRPORT_SEQ_ID",
         "type": "\"double\""
        },
        {
         "metadata": "{}",
         "name": "DIV4_WHEELS_ON",
         "type": "\"double\""
        },
        {
         "metadata": "{}",
         "name": "DIV4_TOTAL_GTIME",
         "type": "\"double\""
        },
        {
         "metadata": "{}",
         "name": "DIV4_LONGEST_GTIME",
         "type": "\"double\""
        },
        {
         "metadata": "{}",
         "name": "DIV4_WHEELS_OFF",
         "type": "\"double\""
        },
        {
         "metadata": "{}",
         "name": "DIV4_TAIL_NUM",
         "type": "\"double\""
        },
        {
         "metadata": "{}",
         "name": "DIV5_AIRPORT",
         "type": "\"double\""
        },
        {
         "metadata": "{}",
         "name": "DIV5_AIRPORT_ID",
         "type": "\"double\""
        },
        {
         "metadata": "{}",
         "name": "DIV5_AIRPORT_SEQ_ID",
         "type": "\"double\""
        },
        {
         "metadata": "{}",
         "name": "DIV5_WHEELS_ON",
         "type": "\"double\""
        },
        {
         "metadata": "{}",
         "name": "DIV5_TOTAL_GTIME",
         "type": "\"double\""
        },
        {
         "metadata": "{}",
         "name": "DIV5_LONGEST_GTIME",
         "type": "\"double\""
        },
        {
         "metadata": "{}",
         "name": "DIV5_WHEELS_OFF",
         "type": "\"double\""
        },
        {
         "metadata": "{}",
         "name": "DIV5_TAIL_NUM",
         "type": "\"double\""
        },
        {
         "metadata": "{}",
         "name": "YEAR",
         "type": "\"double\""
        },
        {
         "metadata": "{}",
         "name": "iata_code",
         "type": "\"double\""
        },
        {
         "metadata": "{}",
         "name": "type",
         "type": "\"double\""
        },
        {
         "metadata": "{}",
         "name": "municipality",
         "type": "\"double\""
        },
        {
         "metadata": "{}",
         "name": "station_state",
         "type": "\"double\""
        },
        {
         "metadata": "{}",
         "name": "station_id",
         "type": "\"double\""
        },
        {
         "metadata": "{}",
         "name": "STATION",
         "type": "\"double\""
        },
        {
         "metadata": "{}",
         "name": "DATE",
         "type": "\"double\""
        },
        {
         "metadata": "{}",
         "name": "LATITUDE",
         "type": "\"double\""
        },
        {
         "metadata": "{}",
         "name": "LONGITUDE",
         "type": "\"double\""
        },
        {
         "metadata": "{}",
         "name": "ELEVATION",
         "type": "\"double\""
        },
        {
         "metadata": "{}",
         "name": "REPORT_TYPE",
         "type": "\"double\""
        },
        {
         "metadata": "{}",
         "name": "SOURCE",
         "type": "\"double\""
        },
        {
         "metadata": "{}",
         "name": "HourlyAltimeterSetting",
         "type": "\"double\""
        },
        {
         "metadata": "{}",
         "name": "HourlyDewPointTemperature",
         "type": "\"double\""
        },
        {
         "metadata": "{}",
         "name": "HourlyDryBulbTemperature",
         "type": "\"double\""
        },
        {
         "metadata": "{}",
         "name": "HourlyPrecipitation",
         "type": "\"double\""
        },
        {
         "metadata": "{}",
         "name": "HourlyPresentWeatherType",
         "type": "\"double\""
        },
        {
         "metadata": "{}",
         "name": "HourlyPressureChange",
         "type": "\"double\""
        },
        {
         "metadata": "{}",
         "name": "HourlyPressureTendency",
         "type": "\"double\""
        },
        {
         "metadata": "{}",
         "name": "HourlyRelativeHumidity",
         "type": "\"double\""
        },
        {
         "metadata": "{}",
         "name": "HourlySkyConditions",
         "type": "\"double\""
        },
        {
         "metadata": "{}",
         "name": "HourlySeaLevelPressure",
         "type": "\"double\""
        },
        {
         "metadata": "{}",
         "name": "HourlyStationPressure",
         "type": "\"double\""
        },
        {
         "metadata": "{}",
         "name": "HourlyVisibility",
         "type": "\"double\""
        },
        {
         "metadata": "{}",
         "name": "HourlyWetBulbTemperature",
         "type": "\"double\""
        },
        {
         "metadata": "{}",
         "name": "HourlyWindDirection",
         "type": "\"double\""
        },
        {
         "metadata": "{}",
         "name": "HourlyWindGustSpeed",
         "type": "\"double\""
        },
        {
         "metadata": "{}",
         "name": "HourlyWindSpeed",
         "type": "\"double\""
        },
        {
         "metadata": "{}",
         "name": "Sunrise",
         "type": "\"double\""
        },
        {
         "metadata": "{}",
         "name": "Sunset",
         "type": "\"double\""
        },
        {
         "metadata": "{}",
         "name": "DailyAverageDewPointTemperature",
         "type": "\"double\""
        },
        {
         "metadata": "{}",
         "name": "DailyAverageDryBulbTemperature",
         "type": "\"double\""
        },
        {
         "metadata": "{}",
         "name": "DailyAverageRelativeHumidity",
         "type": "\"double\""
        },
        {
         "metadata": "{}",
         "name": "DailyAverageSeaLevelPressure",
         "type": "\"double\""
        },
        {
         "metadata": "{}",
         "name": "DailyAverageStationPressure",
         "type": "\"double\""
        },
        {
         "metadata": "{}",
         "name": "DailyAverageWetBulbTemperature",
         "type": "\"double\""
        },
        {
         "metadata": "{}",
         "name": "DailyAverageWindSpeed",
         "type": "\"double\""
        },
        {
         "metadata": "{}",
         "name": "DailyCoolingDegreeDays",
         "type": "\"double\""
        },
        {
         "metadata": "{}",
         "name": "DailyDepartureFromNormalAverageTemperature",
         "type": "\"double\""
        },
        {
         "metadata": "{}",
         "name": "DailyHeatingDegreeDays",
         "type": "\"double\""
        },
        {
         "metadata": "{}",
         "name": "DailyMaximumDryBulbTemperature",
         "type": "\"double\""
        },
        {
         "metadata": "{}",
         "name": "DailyMinimumDryBulbTemperature",
         "type": "\"double\""
        },
        {
         "metadata": "{}",
         "name": "DailyPeakWindDirection",
         "type": "\"double\""
        },
        {
         "metadata": "{}",
         "name": "DailyPeakWindSpeed",
         "type": "\"double\""
        },
        {
         "metadata": "{}",
         "name": "DailyPrecipitation",
         "type": "\"double\""
        },
        {
         "metadata": "{}",
         "name": "DailySnowDepth",
         "type": "\"double\""
        },
        {
         "metadata": "{}",
         "name": "DailySnowfall",
         "type": "\"double\""
        },
        {
         "metadata": "{}",
         "name": "DailySustainedWindDirection",
         "type": "\"double\""
        },
        {
         "metadata": "{}",
         "name": "DailySustainedWindSpeed",
         "type": "\"double\""
        },
        {
         "metadata": "{}",
         "name": "DailyWeather",
         "type": "\"double\""
        },
        {
         "metadata": "{}",
         "name": "MonthlyAverageRH",
         "type": "\"double\""
        },
        {
         "metadata": "{}",
         "name": "MonthlyDaysWithGT001Precip",
         "type": "\"double\""
        },
        {
         "metadata": "{}",
         "name": "MonthlyDaysWithGT010Precip",
         "type": "\"double\""
        },
        {
         "metadata": "{}",
         "name": "MonthlyDaysWithGT32Temp",
         "type": "\"double\""
        },
        {
         "metadata": "{}",
         "name": "MonthlyDaysWithGT90Temp",
         "type": "\"double\""
        },
        {
         "metadata": "{}",
         "name": "MonthlyDaysWithLT0Temp",
         "type": "\"double\""
        },
        {
         "metadata": "{}",
         "name": "MonthlyDaysWithLT32Temp",
         "type": "\"double\""
        },
        {
         "metadata": "{}",
         "name": "MonthlyDepartureFromNormalAverageTemperature",
         "type": "\"double\""
        },
        {
         "metadata": "{}",
         "name": "MonthlyDepartureFromNormalCoolingDegreeDays",
         "type": "\"double\""
        },
        {
         "metadata": "{}",
         "name": "MonthlyDepartureFromNormalHeatingDegreeDays",
         "type": "\"double\""
        },
        {
         "metadata": "{}",
         "name": "MonthlyDepartureFromNormalMaximumTemperature",
         "type": "\"double\""
        },
        {
         "metadata": "{}",
         "name": "MonthlyDepartureFromNormalMinimumTemperature",
         "type": "\"double\""
        },
        {
         "metadata": "{}",
         "name": "MonthlyDepartureFromNormalPrecipitation",
         "type": "\"double\""
        },
        {
         "metadata": "{}",
         "name": "MonthlyDewpointTemperature",
         "type": "\"double\""
        },
        {
         "metadata": "{}",
         "name": "MonthlyGreatestPrecip",
         "type": "\"double\""
        },
        {
         "metadata": "{}",
         "name": "MonthlyGreatestPrecipDate",
         "type": "\"double\""
        },
        {
         "metadata": "{}",
         "name": "MonthlyGreatestSnowDepth",
         "type": "\"double\""
        },
        {
         "metadata": "{}",
         "name": "MonthlyGreatestSnowDepthDate",
         "type": "\"double\""
        },
        {
         "metadata": "{}",
         "name": "MonthlyGreatestSnowfall",
         "type": "\"double\""
        },
        {
         "metadata": "{}",
         "name": "MonthlyGreatestSnowfallDate",
         "type": "\"double\""
        },
        {
         "metadata": "{}",
         "name": "MonthlyMaxSeaLevelPressureValue",
         "type": "\"double\""
        },
        {
         "metadata": "{}",
         "name": "MonthlyMaxSeaLevelPressureValueDate",
         "type": "\"double\""
        },
        {
         "metadata": "{}",
         "name": "MonthlyMaxSeaLevelPressureValueTime",
         "type": "\"double\""
        },
        {
         "metadata": "{}",
         "name": "MonthlyMaximumTemperature",
         "type": "\"double\""
        },
        {
         "metadata": "{}",
         "name": "MonthlyMeanTemperature",
         "type": "\"double\""
        },
        {
         "metadata": "{}",
         "name": "MonthlyMinSeaLevelPressureValue",
         "type": "\"double\""
        },
        {
         "metadata": "{}",
         "name": "MonthlyMinSeaLevelPressureValueDate",
         "type": "\"double\""
        },
        {
         "metadata": "{}",
         "name": "MonthlyMinSeaLevelPressureValueTime",
         "type": "\"double\""
        },
        {
         "metadata": "{}",
         "name": "MonthlyMinimumTemperature",
         "type": "\"double\""
        },
        {
         "metadata": "{}",
         "name": "MonthlySeaLevelPressure",
         "type": "\"double\""
        },
        {
         "metadata": "{}",
         "name": "MonthlyStationPressure",
         "type": "\"double\""
        },
        {
         "metadata": "{}",
         "name": "MonthlyTotalLiquidPrecipitation",
         "type": "\"double\""
        },
        {
         "metadata": "{}",
         "name": "MonthlyTotalSnowfall",
         "type": "\"double\""
        },
        {
         "metadata": "{}",
         "name": "MonthlyWetBulb",
         "type": "\"double\""
        },
        {
         "metadata": "{}",
         "name": "AWND",
         "type": "\"double\""
        },
        {
         "metadata": "{}",
         "name": "CDSD",
         "type": "\"double\""
        },
        {
         "metadata": "{}",
         "name": "CLDD",
         "type": "\"double\""
        },
        {
         "metadata": "{}",
         "name": "DSNW",
         "type": "\"double\""
        },
        {
         "metadata": "{}",
         "name": "HDSD",
         "type": "\"double\""
        },
        {
         "metadata": "{}",
         "name": "HTDD",
         "type": "\"double\""
        },
        {
         "metadata": "{}",
         "name": "NormalsCoolingDegreeDay",
         "type": "\"double\""
        },
        {
         "metadata": "{}",
         "name": "NormalsHeatingDegreeDay",
         "type": "\"double\""
        },
        {
         "metadata": "{}",
         "name": "ShortDurationEndDate005",
         "type": "\"double\""
        },
        {
         "metadata": "{}",
         "name": "ShortDurationEndDate010",
         "type": "\"double\""
        },
        {
         "metadata": "{}",
         "name": "ShortDurationEndDate015",
         "type": "\"double\""
        },
        {
         "metadata": "{}",
         "name": "ShortDurationEndDate020",
         "type": "\"double\""
        },
        {
         "metadata": "{}",
         "name": "ShortDurationEndDate030",
         "type": "\"double\""
        },
        {
         "metadata": "{}",
         "name": "ShortDurationEndDate045",
         "type": "\"double\""
        },
        {
         "metadata": "{}",
         "name": "ShortDurationEndDate060",
         "type": "\"double\""
        },
        {
         "metadata": "{}",
         "name": "ShortDurationEndDate080",
         "type": "\"double\""
        },
        {
         "metadata": "{}",
         "name": "ShortDurationEndDate100",
         "type": "\"double\""
        },
        {
         "metadata": "{}",
         "name": "ShortDurationEndDate120",
         "type": "\"double\""
        },
        {
         "metadata": "{}",
         "name": "ShortDurationEndDate150",
         "type": "\"double\""
        },
        {
         "metadata": "{}",
         "name": "ShortDurationEndDate180",
         "type": "\"double\""
        },
        {
         "metadata": "{}",
         "name": "ShortDurationPrecipitationValue005",
         "type": "\"double\""
        },
        {
         "metadata": "{}",
         "name": "ShortDurationPrecipitationValue010",
         "type": "\"double\""
        },
        {
         "metadata": "{}",
         "name": "ShortDurationPrecipitationValue015",
         "type": "\"double\""
        },
        {
         "metadata": "{}",
         "name": "ShortDurationPrecipitationValue020",
         "type": "\"double\""
        },
        {
         "metadata": "{}",
         "name": "ShortDurationPrecipitationValue030",
         "type": "\"double\""
        },
        {
         "metadata": "{}",
         "name": "ShortDurationPrecipitationValue045",
         "type": "\"double\""
        },
        {
         "metadata": "{}",
         "name": "ShortDurationPrecipitationValue060",
         "type": "\"double\""
        },
        {
         "metadata": "{}",
         "name": "ShortDurationPrecipitationValue080",
         "type": "\"double\""
        },
        {
         "metadata": "{}",
         "name": "ShortDurationPrecipitationValue100",
         "type": "\"double\""
        },
        {
         "metadata": "{}",
         "name": "ShortDurationPrecipitationValue120",
         "type": "\"double\""
        },
        {
         "metadata": "{}",
         "name": "ShortDurationPrecipitationValue150",
         "type": "\"double\""
        },
        {
         "metadata": "{}",
         "name": "ShortDurationPrecipitationValue180",
         "type": "\"double\""
        },
        {
         "metadata": "{}",
         "name": "REM",
         "type": "\"double\""
        },
        {
         "metadata": "{}",
         "name": "BackupDirection",
         "type": "\"double\""
        },
        {
         "metadata": "{}",
         "name": "BackupDistance",
         "type": "\"double\""
        },
        {
         "metadata": "{}",
         "name": "BackupDistanceUnit",
         "type": "\"double\""
        },
        {
         "metadata": "{}",
         "name": "BackupElements",
         "type": "\"double\""
        },
        {
         "metadata": "{}",
         "name": "BackupElevation",
         "type": "\"double\""
        },
        {
         "metadata": "{}",
         "name": "BackupEquipment",
         "type": "\"double\""
        },
        {
         "metadata": "{}",
         "name": "BackupLatitude",
         "type": "\"double\""
        },
        {
         "metadata": "{}",
         "name": "BackupLongitude",
         "type": "\"double\""
        },
        {
         "metadata": "{}",
         "name": "BackupName",
         "type": "\"double\""
        },
        {
         "metadata": "{}",
         "name": "WindEquipmentChangeDate",
         "type": "\"double\""
        }
       ],
       "type": "table"
      }
     },
     "output_type": "display_data"
    }
   ],
   "source": [
    "display(perc_null_all)"
   ]
  },
  {
   "cell_type": "code",
   "execution_count": 0,
   "metadata": {
    "application/vnd.databricks.v1+cell": {
     "cellMetadata": {
      "byteLimit": 2048000,
      "rowLimit": 10000
     },
     "inputWidgets": {},
     "nuid": "900f2d16-2426-4530-bc13-ff8e5bda2df6",
     "showTitle": false,
     "title": ""
    }
   },
   "outputs": [],
   "source": [
    "# First stage, filter to just relevant columns \n",
    "# Time Period \n",
    "    # Not necessary to know all time period cols, cols of interest are month and day of week \n",
    "# Airline \n",
    "    # Only need to keep track of 1 ID column for carrier, remove extraneous id columns \n",
    "    # Only need 1 column of the origin airport, could be useful to know destination airport, remove extraneous id columns\n",
    "# Departure Performance\n",
    "    # Keep departure time and outcome variable of whether there is a delay \n",
    "# Arrival Performance \n",
    "    # Don't need to know additional departure performances nor any arrival performances \n",
    "# Cancellations and Diversions \n",
    "    # Don't need to distinguish cancellations or diversions \n",
    "# Flight Summaries \n",
    "    # Distance between airport could be useful \n",
    "# Remove columns that have high NA percentage \n",
    "# Remove HourlyDewPointTemperature and HourlyWetBulbTemperature because highly correlated with HourlyDryBulbTemperature\n",
    "# Choose HourlyDryBulbTemperature because it is the standard air temperature (most interpretable)\n",
    "# Remove HourlyStationPressure because highly correlated with ELEVATION, choose ELEVATION because no NA values \n",
    "\n",
    "#Weather features (13 features)\n",
    "weather_cols = [\"ELEVATION\", \"HourlyAltimeterSetting\", \"HourlyDryBulbTemperature\", \"HourlyPrecipitation\", \"HourlyRelativeHumidity\", \"HourlySkyConditions\", \"HourlySeaLevelPressure\", \"HourlyVisibility\", \"HourlyWindDirection\", \"HourlyWindSpeed\", \"HourlyPresentWeatherType\"]\n",
    "weather_cols_to_clean = [\"ELEVATION\", \"HourlyAltimeterSetting\", \"HourlyDryBulbTemperature\", \"HourlyPrecipitation\", \"HourlyRelativeHumidity\", \"HourlySeaLevelPressure\", \"HourlyVisibility\", \"HourlyWindDirection\", \"HourlyWindSpeed\"]\n",
    "                \n",
    "cols_to_keep = [#Flight features (11 + 6 + 13 + 301 + 23 features once dummy coded)\n",
    "                \"MONTH\", \"DAY_OF_WEEK\", \"OP_CARRIER\",  \"ORIGIN_AIRPORT_ID\", \"CRS_DEP_TIME\", \"DISTANCE\", \"DEP_DEL15\",\n",
    "                # Additional features for EDA + data engineering\n",
    "                \"QUARTER\", \"DEP_DELAY\", \"DEST_AIRPORT_ID\", \"FL_DATE\", \"TAIL_NUM\", \"ARR_TIME\", \"ARR_DELAY\", \"ARR_DEL15\", \"CANCELLED\",\n",
    "                #Stations features (2 features once dummy coded)\n",
    "                \"type\"\n",
    "                ] + weather_cols \n",
    "cols_to_encode = [\"MONTH\", \"DAY_OF_WEEK\", \"OP_CARRIER\",  \"ORIGIN_AIRPORT_ID\", \"HOUR\", \"type\"]\n"
   ]
  },
  {
   "cell_type": "code",
   "execution_count": 0,
   "metadata": {
    "application/vnd.databricks.v1+cell": {
     "cellMetadata": {
      "byteLimit": 2048000,
      "rowLimit": 10000
     },
     "inputWidgets": {},
     "nuid": "23b9fd0e-9a43-46c7-9853-d5483e25ecb1",
     "showTitle": false,
     "title": ""
    }
   },
   "outputs": [],
   "source": [
    "merged_df = merged_all.distinct()\n",
    "# Cancelled flights = delayed \n",
    "merged_df = merged_df.fillna({\"DEP_DEL15\": 1, \"ARR_DEL15\": 1})\n",
    "merged_df = merged_df.withColumn(\"index\", monotonically_increasing_id()).cache()\n",
    "weather_df = weather_all"
   ]
  },
  {
   "cell_type": "code",
   "execution_count": 0,
   "metadata": {
    "application/vnd.databricks.v1+cell": {
     "cellMetadata": {
      "byteLimit": 2048000,
      "rowLimit": 10000
     },
     "inputWidgets": {},
     "nuid": "05132815-4a3f-4411-8783-8f8572cc40e2",
     "showTitle": false,
     "title": ""
    }
   },
   "outputs": [],
   "source": [
    "stations_w_missing_data = merged_df.withColumn(\"NA_COUNT\", sum(\n",
    "    F.when(F.col(c).isNull() | F.isnan(F.col(c)), 1).otherwise(0) for c in weather_cols\n",
    ")).filter(col(\"NA_COUNT\") >= 1).select(\"STATION\").distinct().rdd.flatMap(lambda x: x).collect()\n",
    "\n",
    "# Get the neighbor station with the smallest distance to station with missing data \n",
    "reduced_stations = stations.filter((col(\"station_id\").isin(stations_w_missing_data)) & \n",
    "                                   (col(\"neighbor_id\") != col(\"station_id\"))) \n",
    "windowSpec = Window.partitionBy(\"station_id\")\n",
    "reduced_stations_join_w_row_num = reduced_stations.withColumn(\"row_number\", row_number().over(windowSpec.orderBy(col(\"distance_to_neighbor\"))))\n",
    "min_distance_neighbor_station = reduced_stations_join_w_row_num.filter(col(\"row_number\") == 1).drop(\"row_number\")\n",
    "min_distance_neighbor_station = min_distance_neighbor_station.filter(col(\"distance_to_neighbor\") < 75)\n",
    "merge_neighbor_station = min_distance_neighbor_station.select([\"station_id\", \"neighbor_id\"])\n",
    "\n",
    "# merge in neighbor station id with main dataset \n",
    "merged_df_w_neighbor = merged_df.join(merge_neighbor_station, \"station_id\", \"left\").drop(\"STATION\")\n",
    "# Rename weather columns to use for coalescing later \n",
    "rename_orig = {weather_col: weather_col + \"_orig\" for weather_col in weather_cols}\n",
    "merged_df_w_neighbor = merged_df_w_neighbor.withColumnsRenamed(rename_orig)\n",
    "\n",
    "# Create weather date and time columns to merge into main dataset \n",
    "weather_merge = weather_df.filter(col(\"STATION\").isin(stations_w_missing_data))\\\n",
    "                .withColumn(\"date_split\", split(col(\"DATE\"), \"[- T:]+\"))\\\n",
    "                .withColumn(\"weather_year\", col(\"date_split\")[0])\\\n",
    "                .withColumn(\"weather_month\", col(\"date_split\")[1])\\\n",
    "                .withColumn(\"weather_day\", col(\"date_split\")[2])\\\n",
    "                .withColumn(\"weather_hour\", col(\"date_split\")[3])\n",
    "#There are multiple rows with the same station and date and time, take first element of each\n",
    "group_by_cols = [\"STATION\", \"weather_year\", \"weather_month\", \"weather_day\", \"weather_hour\"]\n",
    "first_expr = [first(col_name).alias(col_name) for col_name in weather_df.columns if col_name not in group_by_cols]\n",
    "weather_merge = weather_merge.groupBy(group_by_cols).agg(*first_expr).select([\"STATION\", \"weather_year\", \"weather_month\", \"weather_day\", \"weather_hour\"] + weather_cols)\n",
    "# Rename weather columns to use for coalescing later \n",
    "rename_3hr = {weather_col: weather_col + \"_3hr\" for weather_col in weather_cols}\n",
    "rename_neighbor = {weather_col: weather_col + \"_neighbor\" for weather_col in weather_cols}\n",
    "weather_merge_3hr = weather_merge.withColumnsRenamed(rename_3hr)\n",
    "weather_merge_neighbor = weather_merge.withColumnsRenamed(rename_neighbor)\n",
    "\n",
    "# Create date and time columns to merge in with weather data for the station 3 hour before flight and \n",
    "# weather data for the nearest neighbor station 2 hour before flight \n",
    "merged_df_3hr_neighbor = merged_df_w_neighbor.withColumn(\"dep_time\", lpad(col(\"CRS_DEP_TIME\").cast(\"string\"), 4, \"0\"))\\\n",
    "        .withColumn(\"HOUR\", col(\"dep_time\").substr(0, 2))\\\n",
    "        .withColumn(\"adjusted_date_2h\", subtract_hours_udf(hour_str = col(\"HOUR\").cast(\"string\"), \n",
    "                                                            year_str = col(\"YEAR\").cast(\"string\"), \n",
    "                                                            month_str = col(\"MONTH\").cast(\"string\"), \n",
    "                                                            day_str = col(\"DAY_OF_MONTH\").cast(\"string\"), \n",
    "                                                            num_hours = lit(2)))\\\n",
    "        .withColumn(\"adjusted_date_3h\", subtract_hours_udf(hour_str = col(\"HOUR\").cast(\"string\"), \n",
    "                                                            year_str = col(\"YEAR\").cast(\"string\"), \n",
    "                                                            month_str = col(\"MONTH\").cast(\"string\"), \n",
    "                                                            day_str = col(\"DAY_OF_MONTH\").cast(\"string\"), \n",
    "                                                            num_hours = lit(3)))\\\n",
    "        .withColumn(\"merge_year_3h\", col(\"adjusted_date_3h.year\"))\\\n",
    "        .withColumn(\"merge_month_3h\", col(\"adjusted_date_3h.month\"))\\\n",
    "        .withColumn(\"merge_day_3h\", col(\"adjusted_date_3h.day\"))\\\n",
    "        .withColumn(\"merge_hour_3h\", col(\"adjusted_date_3h.hour\"))\\\n",
    "        .withColumn(\"merge_year_neighbor\", col(\"adjusted_date_2h.year\"))\\\n",
    "        .withColumn(\"merge_month_neighbor\", col(\"adjusted_date_2h.month\"))\\\n",
    "        .withColumn(\"merge_day_neighbor\", col(\"adjusted_date_2h.day\"))\\\n",
    "        .withColumn(\"merge_hour_neighbor\", col(\"adjusted_date_2h.hour\"))#.drop(\"dep_time\")\n",
    "\n",
    "# Merge in 3 hour weather data for the same station  \n",
    "final_merged = merged_df_3hr_neighbor\\\n",
    "            .join(weather_merge_3hr, \n",
    "            (merged_df_3hr_neighbor.station_id == weather_merge_3hr.STATION) & \n",
    "            (merged_df_3hr_neighbor.merge_year_3h == weather_merge_3hr.weather_year) &\n",
    "            (merged_df_3hr_neighbor.merge_month_3h == weather_merge_3hr.weather_month) &\n",
    "            (merged_df_3hr_neighbor.merge_day_3h == weather_merge_3hr.weather_day) &\n",
    "            (merged_df_3hr_neighbor.merge_hour_3h == weather_merge_3hr.weather_hour), \n",
    "            \"left\")\\\n",
    "        .drop(\"adjusted_date_3h\", \"merge_year_3h\", \"merge_month_3h\", \"merge_day_3h\", \"merge_hour_3h\", \n",
    "            \"STATION\", \"weather_year\", \"weather_month\", \"weather_day\", \"weather_hour\")\n",
    "# Merge in 2 hour weather data for the nearest neighbor station \n",
    "final_merged = final_merged\\\n",
    "            .join(weather_merge_neighbor,\n",
    "            (final_merged.neighbor_id == weather_merge_neighbor.STATION) & \n",
    "            (final_merged.merge_year_neighbor == weather_merge_neighbor.weather_year) &\n",
    "            (final_merged.merge_month_neighbor == weather_merge_neighbor.weather_month) &\n",
    "            (final_merged.merge_day_neighbor == weather_merge_neighbor.weather_day) &\n",
    "            (final_merged.merge_hour_neighbor == weather_merge_neighbor.weather_hour), \n",
    "            \"left\")\\\n",
    "        .drop(\"neighbor_id\", \"adjusted_date_2h\", \"merge_year_neighbor\", \"merge_month_neighbor\", \"merge_day_neighbor\", \"merge_hour_neighbor\", \n",
    "            \"STATION\", \"weather_year\", \"weather_month\", \"weather_day\", \"weather_hour\")\n",
    "\n",
    "# Coalesce original weather values from 2 hour before departure, then weather data from 3 hour before departure at the station, then weather data from 2 hour before departure at the closest neighbor station if available   \n",
    "for weather_col in weather_cols: \n",
    "    final_merged = final_merged.withColumn(weather_col, coalesce(final_merged[f\"{weather_col}_orig\"], \n",
    "                                                                 final_merged[f\"{weather_col}_3hr\"],\n",
    "                                                                 final_merged[f\"{weather_col}_neighbor\"]))"
   ]
  },
  {
   "cell_type": "code",
   "execution_count": 0,
   "metadata": {
    "application/vnd.databricks.v1+cell": {
     "cellMetadata": {
      "byteLimit": 2048000,
      "rowLimit": 10000
     },
     "inputWidgets": {},
     "nuid": "2263b618-7435-4ae6-89c5-bcee53ea1af1",
     "showTitle": false,
     "title": ""
    }
   },
   "outputs": [
    {
     "output_type": "display_data",
     "data": {
      "text/html": [
       "<style scoped>\n",
       "  .table-result-container {\n",
       "    max-height: 300px;\n",
       "    overflow: auto;\n",
       "  }\n",
       "  table, th, td {\n",
       "    border: 1px solid black;\n",
       "    border-collapse: collapse;\n",
       "  }\n",
       "  th, td {\n",
       "    padding: 5px;\n",
       "  }\n",
       "  th {\n",
       "    text-align: left;\n",
       "  }\n",
       "</style><div class='table-result-container'><table class='table-result'><thead style='background-color: white'><tr><th>ELEVATION</th><th>HourlyAltimeterSetting</th><th>HourlyDryBulbTemperature</th><th>HourlyPrecipitation</th><th>HourlyRelativeHumidity</th><th>HourlySkyConditions</th><th>HourlySeaLevelPressure</th><th>HourlyVisibility</th><th>HourlyWindDirection</th><th>HourlyWindSpeed</th><th>HourlyPresentWeatherType</th></tr></thead><tbody><tr><td>7.549948259230703E-5</td><td>0.005606969556834429</td><td>0.002471957197289501</td><td>0.07343631218486439</td><td>0.0025684046525423173</td><td>0.005730560184947698</td><td>0.05151292092166837</td><td>0.0024557098629129958</td><td>0.002545335366194668</td><td>0.0024600007019619837</td><td>0.8496532423508321</td></tr></tbody></table></div>"
      ]
     },
     "metadata": {
      "application/vnd.databricks.v1+output": {
       "addedWidgets": {},
       "aggData": [],
       "aggError": "",
       "aggOverflow": false,
       "aggSchema": [],
       "aggSeriesLimitReached": false,
       "aggType": "",
       "arguments": {},
       "columnCustomDisplayInfos": {},
       "data": [
        [
         7.549948259230703E-5,
         0.005606969556834429,
         0.002471957197289501,
         0.07343631218486439,
         0.0025684046525423173,
         0.005730560184947698,
         0.05151292092166837,
         0.0024557098629129958,
         0.002545335366194668,
         0.0024600007019619837,
         0.8496532423508321
        ]
       ],
       "datasetInfos": [],
       "dbfsResultPath": null,
       "isJsonSchema": true,
       "metadata": {},
       "overflow": false,
       "plotOptions": {
        "customPlotOptions": {},
        "displayType": "table",
        "pivotAggregation": null,
        "pivotColumns": null,
        "xColumns": null,
        "yColumns": null
       },
       "removedWidgets": [],
       "schema": [
        {
         "metadata": "{}",
         "name": "ELEVATION",
         "type": "\"double\""
        },
        {
         "metadata": "{}",
         "name": "HourlyAltimeterSetting",
         "type": "\"double\""
        },
        {
         "metadata": "{}",
         "name": "HourlyDryBulbTemperature",
         "type": "\"double\""
        },
        {
         "metadata": "{}",
         "name": "HourlyPrecipitation",
         "type": "\"double\""
        },
        {
         "metadata": "{}",
         "name": "HourlyRelativeHumidity",
         "type": "\"double\""
        },
        {
         "metadata": "{}",
         "name": "HourlySkyConditions",
         "type": "\"double\""
        },
        {
         "metadata": "{}",
         "name": "HourlySeaLevelPressure",
         "type": "\"double\""
        },
        {
         "metadata": "{}",
         "name": "HourlyVisibility",
         "type": "\"double\""
        },
        {
         "metadata": "{}",
         "name": "HourlyWindDirection",
         "type": "\"double\""
        },
        {
         "metadata": "{}",
         "name": "HourlyWindSpeed",
         "type": "\"double\""
        },
        {
         "metadata": "{}",
         "name": "HourlyPresentWeatherType",
         "type": "\"double\""
        }
       ],
       "type": "table"
      }
     },
     "output_type": "display_data"
    }
   ],
   "source": [
    "display(final_merged.select(\n",
    "    *[(count(when(col(c).isNull() | isnan(c), c)) / count(\"*\")).alias(c)\n",
    "    for c in weather_cols]\n",
    "))\n"
   ]
  },
  {
   "cell_type": "code",
   "execution_count": 0,
   "metadata": {
    "application/vnd.databricks.v1+cell": {
     "cellMetadata": {
      "byteLimit": 2048000,
      "rowLimit": 10000
     },
     "inputWidgets": {},
     "nuid": "a2f32e43-24bf-472f-be37-abc841d46221",
     "showTitle": false,
     "title": ""
    }
   },
   "outputs": [
    {
     "output_type": "display_data",
     "data": {
      "application/vnd.jupyter.widget-view+json": {
       "model_id": "a7eaf3f170b44e39920e46ce6d50536f",
       "version_major": 2,
       "version_minor": 0
      },
      "text/plain": [
       "Downloading artifacts:   0%|          | 0/86 [00:00<?, ?it/s]"
      ]
     },
     "metadata": {},
     "output_type": "display_data"
    },
    {
     "output_type": "display_data",
     "data": {
      "application/vnd.jupyter.widget-view+json": {
       "model_id": "3bec2a36c54a4d0c82d7679a94d3d0b2",
       "version_major": 2,
       "version_minor": 0
      },
      "text/plain": [
       "Uploading artifacts:   0%|          | 0/4 [00:00<?, ?it/s]"
      ]
     },
     "metadata": {},
     "output_type": "display_data"
    }
   ],
   "source": [
    "# Clean up weather columns after coalescing\n",
    "for weather_col in weather_cols_to_clean: \n",
    "    final_merged = final_merged.withColumn(weather_col, clean_weather_udf(col(weather_col)))\n",
    "\n",
    "# Filter down on interested columns and one-hot encode categorical variables\n",
    "final_merged = final_merged.select(cols_to_keep + [\"index\", \"dep_time\", \"HOUR\"])\n",
    "\n",
    "# Create one hot encoded sparse vector for more complex models later \n",
    "stages = [] \n",
    "for col_name in cols_to_encode:\n",
    "    string_indexer = StringIndexer(inputCol=col_name, outputCol=col_name + \"_indexed\")\n",
    "    # OneHotEncoder for the column\n",
    "    encoder = OneHotEncoder(inputCols=[string_indexer.getOutputCol()], outputCols=[col_name + \"_vec\"])\n",
    "    \n",
    "    stages += [string_indexer, encoder]\n",
    "\n",
    "pipeline = Pipeline(stages=stages)\n",
    "\n",
    "model = pipeline.fit(final_merged)\n",
    "\n",
    "# Transforming the DataFrame\n",
    "transformed_df = model.transform(final_merged).cache()\n",
    "\n",
    "# One-hot encode the hourly sky conditions, contains multiple values separated by space\n",
    "sky_cond_exploded = transformed_df.select(\"index\", \"HourlySkyConditions\")\\\n",
    "                .withColumn(\"value\", explode(split(col(\"HourlySkyConditions\"), \" \")))\n",
    "sky_cond_unique = sky_cond_exploded.dropDuplicates([\"index\", \"value\"])\n",
    "sky_cond_grouped = sky_cond_unique.groupBy(\"index\").pivot(\"value\").count()\n",
    "sky_cond_grouped = sky_cond_grouped.fillna(0)\n",
    "dummy_cols_sky_cond = sky_cond_grouped.drop(\"index\", \"*\").columns\n",
    "assembler_sky = VectorAssembler(inputCols=dummy_cols_sky_cond, outputCol=\"HourlySkyConditions_vec\")\n",
    "sky_cond_merge = assembler_sky.transform(sky_cond_grouped).select([\"index\", \"HourlySkyConditions_vec\"])\n",
    "\n",
    "# Create individual one hot encoded columns to more easily pull out coefficients for logistic regression \n",
    "# One-hot encode weather conditions, contains multiple values separated by pipe and space\n",
    "weather_cond_exploded = transformed_df.select(\"index\", \"HourlyPresentWeatherType\")\\\n",
    "                .withColumn(\"HourlyPresentWeatherType\", translate_weather_type_udf(col(\"HourlyPresentWeatherType\")))\\\n",
    "                .withColumn(\"value\", explode(split(col(\"HourlyPresentWeatherType\"), \",\")))\n",
    "weather_cond_unique = weather_cond_exploded.dropDuplicates([\"index\", \"value\"])\n",
    "weather_cond_grouped = weather_cond_unique.groupBy(\"index\").pivot(\"value\").count()\n",
    "weather_cond_grouped = weather_cond_grouped.fillna(0)\n",
    "dummy_cols_weather_cond = weather_cond_grouped.drop(\"index\", \"*\").columns\n",
    "assembler_weather = VectorAssembler(inputCols=dummy_cols_weather_cond, outputCol=\"HourlyPresentWeatherType_vec\")\n",
    "weather_cond_merge = assembler_weather.transform(weather_cond_grouped).select([\"index\", \"HourlyPresentWeatherType_vec\"] + dummy_cols_weather_cond)\n",
    "\n",
    "# Add additional one-hot features for logistic regression \n",
    "month_exploded = transformed_df.select(\"index\", \"MONTH\")\\\n",
    "            .withColumn(\"value\", explode(array(col(\"MONTH\"))))\n",
    "month_grouped = month_exploded.groupBy(\"index\").pivot(\"value\").count()\n",
    "month_grouped = month_grouped.fillna(0)\n",
    "dummy_month = month_grouped.drop(\"index\", \"*\").columns\n",
    "month_grouped = month_grouped.withColumnsRenamed({i: f\"MONTH_{i}\" for i in dummy_month})\n",
    "dummy_month = [f\"MONTH_{i}\" for i in dummy_month]\n",
    "month_merge = month_grouped.select([\"index\"] + dummy_month)\n",
    "\n",
    "hour_exploded = transformed_df.select(\"index\", \"HOUR\")\\\n",
    "            .withColumn(\"value\", explode(array(col(\"HOUR\"))))\n",
    "hour_grouped = hour_exploded.groupBy(\"index\").pivot(\"value\").count()\n",
    "hour_grouped = hour_grouped.fillna(0)\n",
    "dummy_hour = hour_grouped.drop(\"index\", \"*\").columns\n",
    "hour_grouped = hour_grouped.withColumnsRenamed({i: f\"HOUR_{i}\" for i in dummy_hour})\n",
    "dummy_hour = [f\"HOUR_{i}\" for i in dummy_hour]\n",
    "hour_merge = hour_grouped.select([\"index\"] + dummy_hour)\n",
    "\n",
    "dow_exploded = transformed_df.select(\"index\", \"DAY_OF_WEEK\")\\\n",
    "            .withColumn(\"value\", explode(array(col(\"DAY_OF_WEEK\"))))\n",
    "dow_grouped = dow_exploded.groupBy(\"index\").pivot(\"value\").count()\n",
    "dow_grouped = dow_grouped.fillna(0)\n",
    "dummy_dow = dow_grouped.drop(\"index\", \"*\").columns\n",
    "dow_grouped = dow_grouped.withColumnsRenamed({i: f\"DAY_OF_WEEK_{i}\" for i in dummy_dow})\n",
    "dummy_dow = [f\"DAY_OF_WEEK_{i}\" for i in dummy_dow]\n",
    "dow_merge = dow_grouped.select([\"index\"] + dummy_dow)\n",
    "\n",
    "carrier_exploded = transformed_df.select(\"index\", \"OP_CARRIER\")\\\n",
    "            .withColumn(\"value\", explode(array(col(\"OP_CARRIER\"))))\n",
    "carrier_grouped = carrier_exploded.groupBy(\"index\").pivot(\"value\").count()\n",
    "carrier_grouped = carrier_grouped.fillna(0)\n",
    "dummy_carrier = carrier_grouped.drop(\"index\", \"*\").columns\n",
    "carrier_grouped = carrier_grouped.withColumnsRenamed({i: f\"OP_CARRIER_{i}\" for i in dummy_carrier})\n",
    "dummy_carrier = [f\"OP_CARRIER_{i}\" for i in dummy_carrier]\n",
    "carrier_merge = carrier_grouped.select([\"index\"] + dummy_carrier)\n",
    "\n",
    "type_exploded = transformed_df.select(\"index\", \"type\")\\\n",
    "            .withColumn(\"value\", explode(array(col(\"type\"))))\n",
    "type_grouped = type_exploded.groupBy(\"index\").pivot(\"value\").count()\n",
    "type_grouped = type_grouped.fillna(0)\n",
    "dummy_type = type_grouped.drop(\"index\", \"*\").columns\n",
    "type_grouped = type_grouped.withColumnsRenamed({i: f\"type_{i}\" for i in dummy_type})\n",
    "dummy_type = [f\"type_{i}\" for i in dummy_type]\n",
    "type_merge = type_grouped.select([\"index\"] + dummy_type)\n",
    "\n",
    "# Join all dummy variables to transformed dataframe \n",
    "transformed_df = transformed_df.join(sky_cond_merge, \"index\", \"left\")\\\n",
    "                                .join(weather_cond_merge, \"index\", \"left\")\\\n",
    "                                .join(month_merge, \"index\", \"left\")\\\n",
    "                                .join(hour_merge, \"index\", \"left\")\\\n",
    "                                .join(dow_merge, \"index\", \"left\")\\\n",
    "                                .join(carrier_merge, \"index\", \"left\")\\\n",
    "                                .join(type_merge, \"index\", \"left\").cache()\n",
    "\n",
    "# Fill in NA's with 0 for the weather conditions since dummy variable \n",
    "transformed_df = transformed_df.na.fill({i: 0 for i in dummy_cols_weather_cond + weather_cols_to_clean}) "
   ]
  },
  {
   "cell_type": "code",
   "execution_count": 0,
   "metadata": {
    "application/vnd.databricks.v1+cell": {
     "cellMetadata": {
      "byteLimit": 2048000,
      "rowLimit": 10000
     },
     "inputWidgets": {},
     "nuid": "f365a89c-cb24-4830-b430-66d37672143a",
     "showTitle": false,
     "title": ""
    }
   },
   "outputs": [
    {
     "output_type": "display_data",
     "data": {
      "text/html": [
       "<style scoped>\n",
       "  .table-result-container {\n",
       "    max-height: 300px;\n",
       "    overflow: auto;\n",
       "  }\n",
       "  table, th, td {\n",
       "    border: 1px solid black;\n",
       "    border-collapse: collapse;\n",
       "  }\n",
       "  th, td {\n",
       "    padding: 5px;\n",
       "  }\n",
       "  th {\n",
       "    text-align: left;\n",
       "  }\n",
       "</style><div class='table-result-container'><table class='table-result'><thead style='background-color: white'><tr><th>path</th><th>name</th><th>size</th><th>modificationTime</th></tr></thead><tbody><tr><td>wasbs://final-project-summer24-team3@summer2024team3.blob.core.windows.net/TP/_SUCCESS</td><td>_SUCCESS</td><td>0</td><td>1720561571000</td></tr><tr><td>wasbs://final-project-summer24-team3@summer2024team3.blob.core.windows.net/TP/_committed_1002670972388615845</td><td>_committed_1002670972388615845</td><td>625</td><td>1720560531000</td></tr><tr><td>wasbs://final-project-summer24-team3@summer2024team3.blob.core.windows.net/TP/_committed_5669257934384103852</td><td>_committed_5669257934384103852</td><td>221</td><td>1720561571000</td></tr><tr><td>wasbs://final-project-summer24-team3@summer2024team3.blob.core.windows.net/TP/_committed_6618439955609603938</td><td>_committed_6618439955609603938</td><td>419</td><td>1720561337000</td></tr><tr><td>wasbs://final-project-summer24-team3@summer2024team3.blob.core.windows.net/TP/_committed_9167039456723159873</td><td>_committed_9167039456723159873</td><td>318</td><td>1720559468000</td></tr><tr><td>wasbs://final-project-summer24-team3@summer2024team3.blob.core.windows.net/TP/_committed_vacuum825530481471543349</td><td>_committed_vacuum825530481471543349</td><td>95</td><td>1720561338000</td></tr><tr><td>wasbs://final-project-summer24-team3@summer2024team3.blob.core.windows.net/TP/_started_1002670972388615845</td><td>_started_1002670972388615845</td><td>0</td><td>1720560531000</td></tr><tr><td>wasbs://final-project-summer24-team3@summer2024team3.blob.core.windows.net/TP/_started_5669257934384103852</td><td>_started_5669257934384103852</td><td>0</td><td>1720561570000</td></tr><tr><td>wasbs://final-project-summer24-team3@summer2024team3.blob.core.windows.net/TP/_started_6618439955609603938</td><td>_started_6618439955609603938</td><td>0</td><td>1720561337000</td></tr><tr><td>wasbs://final-project-summer24-team3@summer2024team3.blob.core.windows.net/TP/df_1y_cleaned_transformed/</td><td>df_1y_cleaned_transformed/</td><td>0</td><td>1722046865000</td></tr><tr><td>wasbs://final-project-summer24-team3@summer2024team3.blob.core.windows.net/TP/flat-ui__data.csv</td><td>flat-ui__data.csv</td><td>5491822</td><td>1720877593000</td></tr><tr><td>wasbs://final-project-summer24-team3@summer2024team3.blob.core.windows.net/TP/flight_stations_weather_1y/</td><td>flight_stations_weather_1y/</td><td>0</td><td>1721986685000</td></tr><tr><td>wasbs://final-project-summer24-team3@summer2024team3.blob.core.windows.net/TP/flight_stations_weather_1y_cleaned/</td><td>flight_stations_weather_1y_cleaned/</td><td>0</td><td>1722318047000</td></tr><tr><td>wasbs://final-project-summer24-team3@summer2024team3.blob.core.windows.net/TP/flight_stations_weather_3m/</td><td>flight_stations_weather_3m/</td><td>0</td><td>1721983865000</td></tr><tr><td>wasbs://final-project-summer24-team3@summer2024team3.blob.core.windows.net/TP/flight_stations_weather_3m_cleaned/</td><td>flight_stations_weather_3m_cleaned/</td><td>0</td><td>1722317090000</td></tr><tr><td>wasbs://final-project-summer24-team3@summer2024team3.blob.core.windows.net/TP/flight_stations_weather_all/</td><td>flight_stations_weather_all/</td><td>0</td><td>1721990625000</td></tr><tr><td>wasbs://final-project-summer24-team3@summer2024team3.blob.core.windows.net/TP/flight_stations_weather_all_cleaned/</td><td>flight_stations_weather_all_cleaned/</td><td>0</td><td>1722328073000</td></tr><tr><td>wasbs://final-project-summer24-team3@summer2024team3.blob.core.windows.net/TP/lr_data/</td><td>lr_data/</td><td>0</td><td>1721720411000</td></tr><tr><td>wasbs://final-project-summer24-team3@summer2024team3.blob.core.windows.net/TP/mlpipe.png</td><td>mlpipe.png</td><td>44394</td><td>1720753556000</td></tr><tr><td>wasbs://final-project-summer24-team3@summer2024team3.blob.core.windows.net/TP/part-00000-tid-5669257934384103852-091b7fb5-c969-4ffb-8606-1028f66fa60c-49-1-c000.snappy.parquet</td><td>part-00000-tid-5669257934384103852-091b7fb5-c969-4ffb-8606-1028f66fa60c-49-1-c000.snappy.parquet</td><td>14493</td><td>1720561571000</td></tr></tbody></table></div>"
      ]
     },
     "metadata": {
      "application/vnd.databricks.v1+output": {
       "addedWidgets": {},
       "aggData": [],
       "aggError": "",
       "aggOverflow": false,
       "aggSchema": [],
       "aggSeriesLimitReached": false,
       "aggType": "",
       "arguments": {},
       "columnCustomDisplayInfos": {},
       "data": [
        [
         "wasbs://final-project-summer24-team3@summer2024team3.blob.core.windows.net/TP/_SUCCESS",
         "_SUCCESS",
         0,
         1720561571000
        ],
        [
         "wasbs://final-project-summer24-team3@summer2024team3.blob.core.windows.net/TP/_committed_1002670972388615845",
         "_committed_1002670972388615845",
         625,
         1720560531000
        ],
        [
         "wasbs://final-project-summer24-team3@summer2024team3.blob.core.windows.net/TP/_committed_5669257934384103852",
         "_committed_5669257934384103852",
         221,
         1720561571000
        ],
        [
         "wasbs://final-project-summer24-team3@summer2024team3.blob.core.windows.net/TP/_committed_6618439955609603938",
         "_committed_6618439955609603938",
         419,
         1720561337000
        ],
        [
         "wasbs://final-project-summer24-team3@summer2024team3.blob.core.windows.net/TP/_committed_9167039456723159873",
         "_committed_9167039456723159873",
         318,
         1720559468000
        ],
        [
         "wasbs://final-project-summer24-team3@summer2024team3.blob.core.windows.net/TP/_committed_vacuum825530481471543349",
         "_committed_vacuum825530481471543349",
         95,
         1720561338000
        ],
        [
         "wasbs://final-project-summer24-team3@summer2024team3.blob.core.windows.net/TP/_started_1002670972388615845",
         "_started_1002670972388615845",
         0,
         1720560531000
        ],
        [
         "wasbs://final-project-summer24-team3@summer2024team3.blob.core.windows.net/TP/_started_5669257934384103852",
         "_started_5669257934384103852",
         0,
         1720561570000
        ],
        [
         "wasbs://final-project-summer24-team3@summer2024team3.blob.core.windows.net/TP/_started_6618439955609603938",
         "_started_6618439955609603938",
         0,
         1720561337000
        ],
        [
         "wasbs://final-project-summer24-team3@summer2024team3.blob.core.windows.net/TP/df_1y_cleaned_transformed/",
         "df_1y_cleaned_transformed/",
         0,
         1722046865000
        ],
        [
         "wasbs://final-project-summer24-team3@summer2024team3.blob.core.windows.net/TP/flat-ui__data.csv",
         "flat-ui__data.csv",
         5491822,
         1720877593000
        ],
        [
         "wasbs://final-project-summer24-team3@summer2024team3.blob.core.windows.net/TP/flight_stations_weather_1y/",
         "flight_stations_weather_1y/",
         0,
         1721986685000
        ],
        [
         "wasbs://final-project-summer24-team3@summer2024team3.blob.core.windows.net/TP/flight_stations_weather_1y_cleaned/",
         "flight_stations_weather_1y_cleaned/",
         0,
         1722318047000
        ],
        [
         "wasbs://final-project-summer24-team3@summer2024team3.blob.core.windows.net/TP/flight_stations_weather_3m/",
         "flight_stations_weather_3m/",
         0,
         1721983865000
        ],
        [
         "wasbs://final-project-summer24-team3@summer2024team3.blob.core.windows.net/TP/flight_stations_weather_3m_cleaned/",
         "flight_stations_weather_3m_cleaned/",
         0,
         1722317090000
        ],
        [
         "wasbs://final-project-summer24-team3@summer2024team3.blob.core.windows.net/TP/flight_stations_weather_all/",
         "flight_stations_weather_all/",
         0,
         1721990625000
        ],
        [
         "wasbs://final-project-summer24-team3@summer2024team3.blob.core.windows.net/TP/flight_stations_weather_all_cleaned/",
         "flight_stations_weather_all_cleaned/",
         0,
         1722328073000
        ],
        [
         "wasbs://final-project-summer24-team3@summer2024team3.blob.core.windows.net/TP/lr_data/",
         "lr_data/",
         0,
         1721720411000
        ],
        [
         "wasbs://final-project-summer24-team3@summer2024team3.blob.core.windows.net/TP/mlpipe.png",
         "mlpipe.png",
         44394,
         1720753556000
        ],
        [
         "wasbs://final-project-summer24-team3@summer2024team3.blob.core.windows.net/TP/part-00000-tid-5669257934384103852-091b7fb5-c969-4ffb-8606-1028f66fa60c-49-1-c000.snappy.parquet",
         "part-00000-tid-5669257934384103852-091b7fb5-c969-4ffb-8606-1028f66fa60c-49-1-c000.snappy.parquet",
         14493,
         1720561571000
        ]
       ],
       "datasetInfos": [],
       "dbfsResultPath": null,
       "isJsonSchema": true,
       "metadata": {},
       "overflow": false,
       "plotOptions": {
        "customPlotOptions": {},
        "displayType": "table",
        "pivotAggregation": null,
        "pivotColumns": null,
        "xColumns": null,
        "yColumns": null
       },
       "removedWidgets": [],
       "schema": [
        {
         "metadata": "{}",
         "name": "path",
         "type": "\"string\""
        },
        {
         "metadata": "{}",
         "name": "name",
         "type": "\"string\""
        },
        {
         "metadata": "{}",
         "name": "size",
         "type": "\"long\""
        },
        {
         "metadata": "{}",
         "name": "modificationTime",
         "type": "\"long\""
        }
       ],
       "type": "table"
      }
     },
     "output_type": "display_data"
    }
   ],
   "source": [
    "#Sort by expected departure date and time \n",
    "#Drop existing index column that uses monotonically increasing function and create index column for use in cross validation later\n",
    "\n",
    "#formatted_crs_dep_time = F.format_string(\"%04d\", col(\"CRS_DEP_TIME\"))\n",
    "#datetime_str = concat(col(\"FL_DATE\"), lit(\" \"), formatted_crs_dep_time.substr(1, 2), lit(\":\"), formatted_crs_dep_time.substr(3, 2))\n",
    "#datetime_col = to_timestamp(datetime_str, 'yyyy-MM-dd HH:mm')\n",
    "\n",
    "windowSpec = Window.orderBy(\"DATE_TIME\")\n",
    "\n",
    "\n",
    "transformed_df.withColumn(\"DATE_TIME\", to_timestamp(concat(col(\"FL_DATE\").cast(\"string\").substr(0, 10), lit(\" \"), col(\"dep_time\")), \"yyyy-MM-dd HH:mm\"))\\\n",
    "    .withColumn(\"index\", row_number().over(windowSpec) - 1)\\\n",
    "    .orderBy(\"index\").drop(\"dep_time\", \"DATE_TIME\")\\\n",
    "    .write.mode(\"overwrite\").parquet(f\"{team_blob_url}/TP/flight_stations_weather_all_cleaned\")\n",
    "display(dbutils.fs.ls(f\"{team_blob_url}/TP\"))"
   ]
  },
  {
   "cell_type": "code",
   "execution_count": 0,
   "metadata": {
    "application/vnd.databricks.v1+cell": {
     "cellMetadata": {
      "byteLimit": 2048000,
      "rowLimit": 10000
     },
     "inputWidgets": {},
     "nuid": "60f2a131-daf1-47da-922b-25fff9f9ef37",
     "showTitle": false,
     "title": ""
    }
   },
   "outputs": [
    {
     "output_type": "display_data",
     "data": {
      "text/html": [
       "<style scoped>\n",
       "  .table-result-container {\n",
       "    max-height: 300px;\n",
       "    overflow: auto;\n",
       "  }\n",
       "  table, th, td {\n",
       "    border: 1px solid black;\n",
       "    border-collapse: collapse;\n",
       "  }\n",
       "  th, td {\n",
       "    padding: 5px;\n",
       "  }\n",
       "  th {\n",
       "    text-align: left;\n",
       "  }\n",
       "</style><div class='table-result-container'><table class='table-result'><thead style='background-color: white'><tr><th>ELEVATION</th><th>HourlyAltimeterSetting</th><th>HourlyDryBulbTemperature</th><th>HourlyPrecipitation</th><th>HourlyRelativeHumidity</th><th>HourlySkyConditions</th><th>HourlySeaLevelPressure</th><th>HourlyVisibility</th><th>HourlyWindDirection</th><th>HourlyWindSpeed</th></tr></thead><tbody><tr><td>0</td><td>229001</td><td>99319</td><td>3037869</td><td>103309</td><td>233897</td><td>2129948</td><td>98661</td><td>102350</td><td>98815</td></tr></tbody></table></div>"
      ]
     },
     "metadata": {
      "application/vnd.databricks.v1+output": {
       "addedWidgets": {},
       "aggData": [],
       "aggError": "",
       "aggOverflow": false,
       "aggSchema": [],
       "aggSeriesLimitReached": false,
       "aggType": "",
       "arguments": {},
       "columnCustomDisplayInfos": {},
       "data": [
        [
         0,
         229001,
         99319,
         3037869,
         103309,
         233897,
         2129948,
         98661,
         102350,
         98815
        ]
       ],
       "datasetInfos": [],
       "dbfsResultPath": null,
       "isJsonSchema": true,
       "metadata": {},
       "overflow": false,
       "plotOptions": {
        "customPlotOptions": {},
        "displayType": "table",
        "pivotAggregation": null,
        "pivotColumns": null,
        "xColumns": null,
        "yColumns": null
       },
       "removedWidgets": [],
       "schema": [
        {
         "metadata": "{}",
         "name": "ELEVATION",
         "type": "\"long\""
        },
        {
         "metadata": "{}",
         "name": "HourlyAltimeterSetting",
         "type": "\"long\""
        },
        {
         "metadata": "{}",
         "name": "HourlyDryBulbTemperature",
         "type": "\"long\""
        },
        {
         "metadata": "{}",
         "name": "HourlyPrecipitation",
         "type": "\"long\""
        },
        {
         "metadata": "{}",
         "name": "HourlyRelativeHumidity",
         "type": "\"long\""
        },
        {
         "metadata": "{}",
         "name": "HourlySkyConditions",
         "type": "\"long\""
        },
        {
         "metadata": "{}",
         "name": "HourlySeaLevelPressure",
         "type": "\"long\""
        },
        {
         "metadata": "{}",
         "name": "HourlyVisibility",
         "type": "\"long\""
        },
        {
         "metadata": "{}",
         "name": "HourlyWindDirection",
         "type": "\"long\""
        },
        {
         "metadata": "{}",
         "name": "HourlyWindSpeed",
         "type": "\"long\""
        }
       ],
       "type": "table"
      }
     },
     "output_type": "display_data"
    }
   ],
   "source": [
    "# Count number of null values for each weather column after cleaning  \n",
    "df_cleaned = spark.read.parquet(f\"{team_blob_url}/TP/flight_stations_weather_1y_cleaned\")\n",
    "null_counts_final_df = df_cleaned.select([count(when(col(c).isNull(), c)).alias(c) for c in weather_cols])\n",
    "display(null_counts_final_df)"
   ]
  },
  {
   "cell_type": "code",
   "execution_count": 0,
   "metadata": {
    "application/vnd.databricks.v1+cell": {
     "cellMetadata": {
      "byteLimit": 2048000,
      "rowLimit": 10000
     },
     "inputWidgets": {},
     "nuid": "de6d11da-c9a1-4c72-a96c-8a79b7143579",
     "showTitle": false,
     "title": ""
    }
   },
   "outputs": [
    {
     "output_type": "display_data",
     "data": {
      "text/html": [
       "<style scoped>\n",
       "  .table-result-container {\n",
       "    max-height: 300px;\n",
       "    overflow: auto;\n",
       "  }\n",
       "  table, th, td {\n",
       "    border: 1px solid black;\n",
       "    border-collapse: collapse;\n",
       "  }\n",
       "  th, td {\n",
       "    padding: 5px;\n",
       "  }\n",
       "  th {\n",
       "    text-align: left;\n",
       "  }\n",
       "</style><div class='table-result-container'><table class='table-result'><thead style='background-color: white'><tr><th>ELEVATION</th><th>HourlyAltimeterSetting</th><th>HourlyDryBulbTemperature</th><th>HourlyPrecipitation</th><th>HourlyRelativeHumidity</th><th>HourlySkyConditions</th><th>HourlySeaLevelPressure</th><th>HourlyVisibility</th><th>HourlyWindDirection</th><th>HourlyWindSpeed</th><th>HourlyPresentWeatherType</th></tr></thead><tbody><tr><td>0.0</td><td>0.0</td><td>0.0</td><td>0.0</td><td>0.0</td><td>0.005729665741052366</td><td>0.0</td><td>0.0</td><td>0.0</td><td>0.0</td><td>0.8496681006299576</td></tr></tbody></table></div>"
      ]
     },
     "metadata": {
      "application/vnd.databricks.v1+output": {
       "addedWidgets": {},
       "aggData": [],
       "aggError": "",
       "aggOverflow": false,
       "aggSchema": [],
       "aggSeriesLimitReached": false,
       "aggType": "",
       "arguments": {},
       "columnCustomDisplayInfos": {},
       "data": [
        [
         0.0,
         0.0,
         0.0,
         0.0,
         0.0,
         0.005729665741052366,
         0.0,
         0.0,
         0.0,
         0.0,
         0.8496681006299576
        ]
       ],
       "datasetInfos": [],
       "dbfsResultPath": null,
       "isJsonSchema": true,
       "metadata": {},
       "overflow": false,
       "plotOptions": {
        "customPlotOptions": {},
        "displayType": "table",
        "pivotAggregation": null,
        "pivotColumns": null,
        "xColumns": null,
        "yColumns": null
       },
       "removedWidgets": [],
       "schema": [
        {
         "metadata": "{}",
         "name": "ELEVATION",
         "type": "\"double\""
        },
        {
         "metadata": "{}",
         "name": "HourlyAltimeterSetting",
         "type": "\"double\""
        },
        {
         "metadata": "{}",
         "name": "HourlyDryBulbTemperature",
         "type": "\"double\""
        },
        {
         "metadata": "{}",
         "name": "HourlyPrecipitation",
         "type": "\"double\""
        },
        {
         "metadata": "{}",
         "name": "HourlyRelativeHumidity",
         "type": "\"double\""
        },
        {
         "metadata": "{}",
         "name": "HourlySkyConditions",
         "type": "\"double\""
        },
        {
         "metadata": "{}",
         "name": "HourlySeaLevelPressure",
         "type": "\"double\""
        },
        {
         "metadata": "{}",
         "name": "HourlyVisibility",
         "type": "\"double\""
        },
        {
         "metadata": "{}",
         "name": "HourlyWindDirection",
         "type": "\"double\""
        },
        {
         "metadata": "{}",
         "name": "HourlyWindSpeed",
         "type": "\"double\""
        },
        {
         "metadata": "{}",
         "name": "HourlyPresentWeatherType",
         "type": "\"double\""
        }
       ],
       "type": "table"
      }
     },
     "output_type": "display_data"
    }
   ],
   "source": [
    "# Count number of null values for each weather column after cleaning  \n",
    "#df_cleaned_3m = spark.read.parquet(f\"{team_blob_url}/TP/flight_stations_weather_3m_cleaned\")\n",
    "#df_cleaned_1y = spark.read.parquet(f\"{team_blob_url}/TP/flight_stations_weather_1y_cleaned\")\n",
    "df_cleaned_all = spark.read.parquet(f\"{team_blob_url}/TP/flight_stations_weather_all_cleaned\")\n",
    "\n",
    "# perc_null_cleaned_3m = df_cleaned_3m.select(\n",
    "#     *[(count(when(col(c).isNull() | isnan(c), c)) / count(\"*\")).alias(c)\n",
    "#     for c in weather_cols]\n",
    "# )\n",
    "# perc_null_cleaned_1y = df_cleaned_1y.select(\n",
    "#     *[(count(when(col(c).isNull() | isnan(c), c)) / count(\"*\")).alias(c)\n",
    "#     for c in weather_cols]\n",
    "# )\n",
    "\n",
    "perc_null_cleaned_all = df_cleaned_all.select(\n",
    "    *[(count(when(col(c).isNull() | isnan(c), c)) / count(\"*\")).alias(c)\n",
    "    for c in weather_cols]\n",
    ")\n",
    "display(perc_null_cleaned_all)"
   ]
  }
 ],
 "metadata": {
  "application/vnd.databricks.v1+notebook": {
   "dashboards": [],
   "environmentMetadata": {
    "base_environment": "",
    "client": "1"
   },
   "language": "python",
   "notebookMetadata": {
    "pythonIndentUnit": 4
   },
   "notebookName": "Data Cleaning",
   "widgets": {}
  }
 },
 "nbformat": 4,
 "nbformat_minor": 0
}
