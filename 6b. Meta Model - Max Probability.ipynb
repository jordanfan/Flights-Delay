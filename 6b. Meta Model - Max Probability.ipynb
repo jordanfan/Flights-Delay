{
 "cells": [
  {
   "cell_type": "code",
   "execution_count": 0,
   "metadata": {
    "application/vnd.databricks.v1+cell": {
     "cellMetadata": {
      "byteLimit": 2048000,
      "rowLimit": 10000
     },
     "inputWidgets": {},
     "nuid": "71a4053e-25a1-497b-9748-0722fa0cb3c7",
     "showTitle": false,
     "title": ""
    }
   },
   "outputs": [],
   "source": [
    "## Place this cell in any team notebook that needs access to the team cloud storage.\n",
    "\n",
    "\n",
    "# The following blob storage is accessible to team members only (read and write)\n",
    "# access key is valid til TTL\n",
    "# after that you will need to create a new SAS key and authenticate access again via DataBrick command line\n",
    "blob_container  = \"final-project-summer24-team3\"       # The name of your container created in https://portal.azure.com\n",
    "storage_account = \"summer2024team3\"  # The name of your Storage account created in https://portal.azure.com\n",
    "secret_scope    = \"summer24_team_3_2_scope\"           # The name of the scope created in your local computer using the Databricks CLI\n",
    "secret_key      = \"final-project-summer24-team3\"             # The name of the secret key created in your local computer using the Databricks CLI\n",
    "team_blob_url   = f\"wasbs://{blob_container}@{storage_account}.blob.core.windows.net\"  #points to the root of your team storage bucket\n",
    "\n",
    "\n",
    "# the 261 course blob storage is mounted here.\n",
    "mids261_mount_path      = \"/mnt/mids-w261\"\n",
    "\n",
    "# SAS Token: Grant the team limited access to Azure Storage resources\n",
    "spark.conf.set(\n",
    "  f\"fs.azure.sas.{blob_container}.{storage_account}.blob.core.windows.net\",\n",
    "  dbutils.secrets.get(scope = secret_scope, key = secret_key)\n",
    ")"
   ]
  },
  {
   "cell_type": "code",
   "execution_count": 0,
   "metadata": {
    "application/vnd.databricks.v1+cell": {
     "cellMetadata": {
      "byteLimit": 2048000,
      "rowLimit": 10000
     },
     "inputWidgets": {},
     "nuid": "0c6502e4-708b-4f39-bd1f-c2b05a2b8dbd",
     "showTitle": false,
     "title": ""
    }
   },
   "outputs": [],
   "source": [
    "from pyspark.sql.functions import col, concat_ws, lpad, expr, unix_timestamp, from_unixtime, when, count, lag, greatest, row_number,lit\n",
    "import pyspark.sql.functions as F\n",
    "from pyspark.sql.types import IntegerType, StringType, DoubleType, FloatType, StructField, StructType\n",
    "import numpy as np\n",
    "import pandas as pd\n",
    "from pyspark.sql import Row"
   ]
  },
  {
   "cell_type": "markdown",
   "metadata": {
    "application/vnd.databricks.v1+cell": {
     "cellMetadata": {
      "byteLimit": 2048000,
      "rowLimit": 10000
     },
     "inputWidgets": {},
     "nuid": "6941b6eb-9bca-4afa-839e-ef34ee66d5ff",
     "showTitle": false,
     "title": ""
    }
   },
   "source": [
    "## Load All DataFrames"
   ]
  },
  {
   "cell_type": "code",
   "execution_count": 0,
   "metadata": {
    "application/vnd.databricks.v1+cell": {
     "cellMetadata": {
      "byteLimit": 2048000,
      "rowLimit": 10000
     },
     "inputWidgets": {},
     "nuid": "8c915847-f3da-479a-8f31-0e208ad85ba4",
     "showTitle": false,
     "title": ""
    }
   },
   "outputs": [
    {
     "output_type": "display_data",
     "data": {
      "text/html": [
       "<style scoped>\n",
       "  .table-result-container {\n",
       "    max-height: 300px;\n",
       "    overflow: auto;\n",
       "  }\n",
       "  table, th, td {\n",
       "    border: 1px solid black;\n",
       "    border-collapse: collapse;\n",
       "  }\n",
       "  th, td {\n",
       "    padding: 5px;\n",
       "  }\n",
       "  th {\n",
       "    text-align: left;\n",
       "  }\n",
       "</style><div class='table-result-container'><table class='table-result'><thead style='background-color: white'><tr><th>path</th><th>name</th><th>size</th><th>modificationTime</th></tr></thead><tbody><tr><td>wasbs://final-project-summer24-team3@summer2024team3.blob.core.windows.net/TP/_SUCCESS</td><td>_SUCCESS</td><td>0</td><td>1720561571000</td></tr><tr><td>wasbs://final-project-summer24-team3@summer2024team3.blob.core.windows.net/TP/_committed_1002670972388615845</td><td>_committed_1002670972388615845</td><td>625</td><td>1720560531000</td></tr><tr><td>wasbs://final-project-summer24-team3@summer2024team3.blob.core.windows.net/TP/_committed_5669257934384103852</td><td>_committed_5669257934384103852</td><td>221</td><td>1720561571000</td></tr><tr><td>wasbs://final-project-summer24-team3@summer2024team3.blob.core.windows.net/TP/_committed_6618439955609603938</td><td>_committed_6618439955609603938</td><td>419</td><td>1720561337000</td></tr><tr><td>wasbs://final-project-summer24-team3@summer2024team3.blob.core.windows.net/TP/_committed_9167039456723159873</td><td>_committed_9167039456723159873</td><td>318</td><td>1720559468000</td></tr><tr><td>wasbs://final-project-summer24-team3@summer2024team3.blob.core.windows.net/TP/_committed_vacuum825530481471543349</td><td>_committed_vacuum825530481471543349</td><td>95</td><td>1720561338000</td></tr><tr><td>wasbs://final-project-summer24-team3@summer2024team3.blob.core.windows.net/TP/_started_1002670972388615845</td><td>_started_1002670972388615845</td><td>0</td><td>1720560531000</td></tr><tr><td>wasbs://final-project-summer24-team3@summer2024team3.blob.core.windows.net/TP/_started_5669257934384103852</td><td>_started_5669257934384103852</td><td>0</td><td>1720561570000</td></tr><tr><td>wasbs://final-project-summer24-team3@summer2024team3.blob.core.windows.net/TP/_started_6618439955609603938</td><td>_started_6618439955609603938</td><td>0</td><td>1720561337000</td></tr><tr><td>wasbs://final-project-summer24-team3@summer2024team3.blob.core.windows.net/TP/df_1y_cleaned_transformed/</td><td>df_1y_cleaned_transformed/</td><td>0</td><td>1722046865000</td></tr><tr><td>wasbs://final-project-summer24-team3@summer2024team3.blob.core.windows.net/TP/df_clean_transformed_ian/</td><td>df_clean_transformed_ian/</td><td>0</td><td>1722887351000</td></tr><tr><td>wasbs://final-project-summer24-team3@summer2024team3.blob.core.windows.net/TP/flat-ui__data.csv</td><td>flat-ui__data.csv</td><td>5491822</td><td>1720877593000</td></tr><tr><td>wasbs://final-project-summer24-team3@summer2024team3.blob.core.windows.net/TP/flight_stations_weather_1y/</td><td>flight_stations_weather_1y/</td><td>0</td><td>1721986685000</td></tr><tr><td>wasbs://final-project-summer24-team3@summer2024team3.blob.core.windows.net/TP/flight_stations_weather_1y_cleaned/</td><td>flight_stations_weather_1y_cleaned/</td><td>0</td><td>1722318047000</td></tr><tr><td>wasbs://final-project-summer24-team3@summer2024team3.blob.core.windows.net/TP/flight_stations_weather_1y_cleaned2/</td><td>flight_stations_weather_1y_cleaned2/</td><td>0</td><td>1722328427000</td></tr><tr><td>wasbs://final-project-summer24-team3@summer2024team3.blob.core.windows.net/TP/flight_stations_weather_1y_cleaned2DownSample1-1/</td><td>flight_stations_weather_1y_cleaned2DownSample1-1/</td><td>0</td><td>1722533565000</td></tr><tr><td>wasbs://final-project-summer24-team3@summer2024team3.blob.core.windows.net/TP/flight_stations_weather_1y_cleaned2DownSample2-1/</td><td>flight_stations_weather_1y_cleaned2DownSample2-1/</td><td>0</td><td>1722445568000</td></tr><tr><td>wasbs://final-project-summer24-team3@summer2024team3.blob.core.windows.net/TP/flight_stations_weather_1y_cleaned2DownSample3-1/</td><td>flight_stations_weather_1y_cleaned2DownSample3-1/</td><td>0</td><td>1722445041000</td></tr><tr><td>wasbs://final-project-summer24-team3@summer2024team3.blob.core.windows.net/TP/flight_stations_weather_3m/</td><td>flight_stations_weather_3m/</td><td>0</td><td>1721983865000</td></tr><tr><td>wasbs://final-project-summer24-team3@summer2024team3.blob.core.windows.net/TP/flight_stations_weather_3m_cleaned/</td><td>flight_stations_weather_3m_cleaned/</td><td>0</td><td>1722317090000</td></tr><tr><td>wasbs://final-project-summer24-team3@summer2024team3.blob.core.windows.net/TP/flight_stations_weather_3m_cleaned2/</td><td>flight_stations_weather_3m_cleaned2/</td><td>0</td><td>1722329466000</td></tr><tr><td>wasbs://final-project-summer24-team3@summer2024team3.blob.core.windows.net/TP/flight_stations_weather_3m_cleaned2DownSample2-1/</td><td>flight_stations_weather_3m_cleaned2DownSample2-1/</td><td>0</td><td>1722445594000</td></tr><tr><td>wasbs://final-project-summer24-team3@summer2024team3.blob.core.windows.net/TP/flight_stations_weather_3m_cleaned2DownSample3-1/</td><td>flight_stations_weather_3m_cleaned2DownSample3-1/</td><td>0</td><td>1722444939000</td></tr><tr><td>wasbs://final-project-summer24-team3@summer2024team3.blob.core.windows.net/TP/flight_stations_weather_3m_graphs/</td><td>flight_stations_weather_3m_graphs/</td><td>0</td><td>1722492863000</td></tr><tr><td>wasbs://final-project-summer24-team3@summer2024team3.blob.core.windows.net/TP/flight_stations_weather_all/</td><td>flight_stations_weather_all/</td><td>0</td><td>1721990625000</td></tr><tr><td>wasbs://final-project-summer24-team3@summer2024team3.blob.core.windows.net/TP/flight_stations_weather_all_cleaned/</td><td>flight_stations_weather_all_cleaned/</td><td>0</td><td>1722328073000</td></tr><tr><td>wasbs://final-project-summer24-team3@summer2024team3.blob.core.windows.net/TP/flight_stations_weather_all_cleaned2/</td><td>flight_stations_weather_all_cleaned2/</td><td>0</td><td>1722329220000</td></tr><tr><td>wasbs://final-project-summer24-team3@summer2024team3.blob.core.windows.net/TP/flight_stations_weather_all_cleaned2DownSample2-1/</td><td>flight_stations_weather_all_cleaned2DownSample2-1/</td><td>0</td><td>1722445509000</td></tr><tr><td>wasbs://final-project-summer24-team3@summer2024team3.blob.core.windows.net/TP/flight_stations_weather_all_cleaned2DownSample3-1/</td><td>flight_stations_weather_all_cleaned2DownSample3-1/</td><td>0</td><td>1722445240000</td></tr><tr><td>wasbs://final-project-summer24-team3@summer2024team3.blob.core.windows.net/TP/flight_stations_weather_all_cleaned3/</td><td>flight_stations_weather_all_cleaned3/</td><td>0</td><td>1722596532000</td></tr><tr><td>wasbs://final-project-summer24-team3@summer2024team3.blob.core.windows.net/TP/logbaseline_0.03_probabilities_2018_2019/</td><td>logbaseline_0.03_probabilities_2018_2019/</td><td>0</td><td>1722882689000</td></tr><tr><td>wasbs://final-project-summer24-team3@summer2024team3.blob.core.windows.net/TP/logbaseline_0.03_probabilities_2018_2019v2/</td><td>logbaseline_0.03_probabilities_2018_2019v2/</td><td>0</td><td>1723097613000</td></tr><tr><td>wasbs://final-project-summer24-team3@summer2024team3.blob.core.windows.net/TP/logbaseline_probabilities_2018_2019/</td><td>logbaseline_probabilities_2018_2019/</td><td>0</td><td>1722842525000</td></tr><tr><td>wasbs://final-project-summer24-team3@summer2024team3.blob.core.windows.net/TP/lr_data/</td><td>lr_data/</td><td>0</td><td>1721720411000</td></tr><tr><td>wasbs://final-project-summer24-team3@summer2024team3.blob.core.windows.net/TP/mlpipe.png</td><td>mlpipe.png</td><td>44394</td><td>1720753556000</td></tr><tr><td>wasbs://final-project-summer24-team3@summer2024team3.blob.core.windows.net/TP/nn_model1/</td><td>nn_model1/</td><td>0</td><td>1722819918000</td></tr><tr><td>wasbs://final-project-summer24-team3@summer2024team3.blob.core.windows.net/TP/nn_model2/</td><td>nn_model2/</td><td>0</td><td>1722819888000</td></tr><tr><td>wasbs://final-project-summer24-team3@summer2024team3.blob.core.windows.net/TP/nn_model3/</td><td>nn_model3/</td><td>0</td><td>1722819879000</td></tr><tr><td>wasbs://final-project-summer24-team3@summer2024team3.blob.core.windows.net/TP/nn_model4/</td><td>nn_model4/</td><td>0</td><td>1722819872000</td></tr><tr><td>wasbs://final-project-summer24-team3@summer2024team3.blob.core.windows.net/TP/nn_model5/</td><td>nn_model5/</td><td>0</td><td>1722819813000</td></tr><tr><td>wasbs://final-project-summer24-team3@summer2024team3.blob.core.windows.net/TP/nn_preds_test1/</td><td>nn_preds_test1/</td><td>0</td><td>1722721986000</td></tr><tr><td>wasbs://final-project-summer24-team3@summer2024team3.blob.core.windows.net/TP/nn_preds_test2/</td><td>nn_preds_test2/</td><td>0</td><td>1722771326000</td></tr><tr><td>wasbs://final-project-summer24-team3@summer2024team3.blob.core.windows.net/TP/nn_preds_test3/</td><td>nn_preds_test3/</td><td>0</td><td>1722778571000</td></tr><tr><td>wasbs://final-project-summer24-team3@summer2024team3.blob.core.windows.net/TP/nn_preds_test4/</td><td>nn_preds_test4/</td><td>0</td><td>1722791190000</td></tr><tr><td>wasbs://final-project-summer24-team3@summer2024team3.blob.core.windows.net/TP/nn_preds_test5/</td><td>nn_preds_test5/</td><td>0</td><td>1722818460000</td></tr><tr><td>wasbs://final-project-summer24-team3@summer2024team3.blob.core.windows.net/TP/nn_preds_val1/</td><td>nn_preds_val1/</td><td>0</td><td>1722721834000</td></tr><tr><td>wasbs://final-project-summer24-team3@summer2024team3.blob.core.windows.net/TP/nn_preds_val2/</td><td>nn_preds_val2/</td><td>0</td><td>1722771147000</td></tr><tr><td>wasbs://final-project-summer24-team3@summer2024team3.blob.core.windows.net/TP/nn_preds_val3/</td><td>nn_preds_val3/</td><td>0</td><td>1722778422000</td></tr><tr><td>wasbs://final-project-summer24-team3@summer2024team3.blob.core.windows.net/TP/nn_preds_val4/</td><td>nn_preds_val4/</td><td>0</td><td>1722790886000</td></tr><tr><td>wasbs://final-project-summer24-team3@summer2024team3.blob.core.windows.net/TP/nn_preds_val5/</td><td>nn_preds_val5/</td><td>0</td><td>1722818080000</td></tr><tr><td>wasbs://final-project-summer24-team3@summer2024team3.blob.core.windows.net/TP/part-00000-tid-5669257934384103852-091b7fb5-c969-4ffb-8606-1028f66fa60c-49-1-c000.snappy.parquet</td><td>part-00000-tid-5669257934384103852-091b7fb5-c969-4ffb-8606-1028f66fa60c-49-1-c000.snappy.parquet</td><td>14493</td><td>1720561571000</td></tr><tr><td>wasbs://final-project-summer24-team3@summer2024team3.blob.core.windows.net/TP/sham_cp/</td><td>sham_cp/</td><td>0</td><td>1722965113000</td></tr><tr><td>wasbs://final-project-summer24-team3@summer2024team3.blob.core.windows.net/TP/xgboost_10_1_1/</td><td>xgboost_10_1_1/</td><td>0</td><td>1722923230000</td></tr><tr><td>wasbs://final-project-summer24-team3@summer2024team3.blob.core.windows.net/TP/xgboost_fbeta_recall/</td><td>xgboost_fbeta_recall/</td><td>0</td><td>1722923744000</td></tr><tr><td>wasbs://final-project-summer24-team3@summer2024team3.blob.core.windows.net/TP/xgboost_param_tuning/</td><td>xgboost_param_tuning/</td><td>0</td><td>1722896255000</td></tr><tr><td>wasbs://final-project-summer24-team3@summer2024team3.blob.core.windows.net/TP/xgboost_precision/</td><td>xgboost_precision/</td><td>0</td><td>1722924069000</td></tr></tbody></table></div>"
      ]
     },
     "metadata": {
      "application/vnd.databricks.v1+output": {
       "addedWidgets": {},
       "aggData": [],
       "aggError": "",
       "aggOverflow": false,
       "aggSchema": [],
       "aggSeriesLimitReached": false,
       "aggType": "",
       "arguments": {},
       "columnCustomDisplayInfos": {},
       "data": [
        [
         "wasbs://final-project-summer24-team3@summer2024team3.blob.core.windows.net/TP/_SUCCESS",
         "_SUCCESS",
         0,
         1720561571000
        ],
        [
         "wasbs://final-project-summer24-team3@summer2024team3.blob.core.windows.net/TP/_committed_1002670972388615845",
         "_committed_1002670972388615845",
         625,
         1720560531000
        ],
        [
         "wasbs://final-project-summer24-team3@summer2024team3.blob.core.windows.net/TP/_committed_5669257934384103852",
         "_committed_5669257934384103852",
         221,
         1720561571000
        ],
        [
         "wasbs://final-project-summer24-team3@summer2024team3.blob.core.windows.net/TP/_committed_6618439955609603938",
         "_committed_6618439955609603938",
         419,
         1720561337000
        ],
        [
         "wasbs://final-project-summer24-team3@summer2024team3.blob.core.windows.net/TP/_committed_9167039456723159873",
         "_committed_9167039456723159873",
         318,
         1720559468000
        ],
        [
         "wasbs://final-project-summer24-team3@summer2024team3.blob.core.windows.net/TP/_committed_vacuum825530481471543349",
         "_committed_vacuum825530481471543349",
         95,
         1720561338000
        ],
        [
         "wasbs://final-project-summer24-team3@summer2024team3.blob.core.windows.net/TP/_started_1002670972388615845",
         "_started_1002670972388615845",
         0,
         1720560531000
        ],
        [
         "wasbs://final-project-summer24-team3@summer2024team3.blob.core.windows.net/TP/_started_5669257934384103852",
         "_started_5669257934384103852",
         0,
         1720561570000
        ],
        [
         "wasbs://final-project-summer24-team3@summer2024team3.blob.core.windows.net/TP/_started_6618439955609603938",
         "_started_6618439955609603938",
         0,
         1720561337000
        ],
        [
         "wasbs://final-project-summer24-team3@summer2024team3.blob.core.windows.net/TP/df_1y_cleaned_transformed/",
         "df_1y_cleaned_transformed/",
         0,
         1722046865000
        ],
        [
         "wasbs://final-project-summer24-team3@summer2024team3.blob.core.windows.net/TP/df_clean_transformed_ian/",
         "df_clean_transformed_ian/",
         0,
         1722887351000
        ],
        [
         "wasbs://final-project-summer24-team3@summer2024team3.blob.core.windows.net/TP/flat-ui__data.csv",
         "flat-ui__data.csv",
         5491822,
         1720877593000
        ],
        [
         "wasbs://final-project-summer24-team3@summer2024team3.blob.core.windows.net/TP/flight_stations_weather_1y/",
         "flight_stations_weather_1y/",
         0,
         1721986685000
        ],
        [
         "wasbs://final-project-summer24-team3@summer2024team3.blob.core.windows.net/TP/flight_stations_weather_1y_cleaned/",
         "flight_stations_weather_1y_cleaned/",
         0,
         1722318047000
        ],
        [
         "wasbs://final-project-summer24-team3@summer2024team3.blob.core.windows.net/TP/flight_stations_weather_1y_cleaned2/",
         "flight_stations_weather_1y_cleaned2/",
         0,
         1722328427000
        ],
        [
         "wasbs://final-project-summer24-team3@summer2024team3.blob.core.windows.net/TP/flight_stations_weather_1y_cleaned2DownSample1-1/",
         "flight_stations_weather_1y_cleaned2DownSample1-1/",
         0,
         1722533565000
        ],
        [
         "wasbs://final-project-summer24-team3@summer2024team3.blob.core.windows.net/TP/flight_stations_weather_1y_cleaned2DownSample2-1/",
         "flight_stations_weather_1y_cleaned2DownSample2-1/",
         0,
         1722445568000
        ],
        [
         "wasbs://final-project-summer24-team3@summer2024team3.blob.core.windows.net/TP/flight_stations_weather_1y_cleaned2DownSample3-1/",
         "flight_stations_weather_1y_cleaned2DownSample3-1/",
         0,
         1722445041000
        ],
        [
         "wasbs://final-project-summer24-team3@summer2024team3.blob.core.windows.net/TP/flight_stations_weather_3m/",
         "flight_stations_weather_3m/",
         0,
         1721983865000
        ],
        [
         "wasbs://final-project-summer24-team3@summer2024team3.blob.core.windows.net/TP/flight_stations_weather_3m_cleaned/",
         "flight_stations_weather_3m_cleaned/",
         0,
         1722317090000
        ],
        [
         "wasbs://final-project-summer24-team3@summer2024team3.blob.core.windows.net/TP/flight_stations_weather_3m_cleaned2/",
         "flight_stations_weather_3m_cleaned2/",
         0,
         1722329466000
        ],
        [
         "wasbs://final-project-summer24-team3@summer2024team3.blob.core.windows.net/TP/flight_stations_weather_3m_cleaned2DownSample2-1/",
         "flight_stations_weather_3m_cleaned2DownSample2-1/",
         0,
         1722445594000
        ],
        [
         "wasbs://final-project-summer24-team3@summer2024team3.blob.core.windows.net/TP/flight_stations_weather_3m_cleaned2DownSample3-1/",
         "flight_stations_weather_3m_cleaned2DownSample3-1/",
         0,
         1722444939000
        ],
        [
         "wasbs://final-project-summer24-team3@summer2024team3.blob.core.windows.net/TP/flight_stations_weather_3m_graphs/",
         "flight_stations_weather_3m_graphs/",
         0,
         1722492863000
        ],
        [
         "wasbs://final-project-summer24-team3@summer2024team3.blob.core.windows.net/TP/flight_stations_weather_all/",
         "flight_stations_weather_all/",
         0,
         1721990625000
        ],
        [
         "wasbs://final-project-summer24-team3@summer2024team3.blob.core.windows.net/TP/flight_stations_weather_all_cleaned/",
         "flight_stations_weather_all_cleaned/",
         0,
         1722328073000
        ],
        [
         "wasbs://final-project-summer24-team3@summer2024team3.blob.core.windows.net/TP/flight_stations_weather_all_cleaned2/",
         "flight_stations_weather_all_cleaned2/",
         0,
         1722329220000
        ],
        [
         "wasbs://final-project-summer24-team3@summer2024team3.blob.core.windows.net/TP/flight_stations_weather_all_cleaned2DownSample2-1/",
         "flight_stations_weather_all_cleaned2DownSample2-1/",
         0,
         1722445509000
        ],
        [
         "wasbs://final-project-summer24-team3@summer2024team3.blob.core.windows.net/TP/flight_stations_weather_all_cleaned2DownSample3-1/",
         "flight_stations_weather_all_cleaned2DownSample3-1/",
         0,
         1722445240000
        ],
        [
         "wasbs://final-project-summer24-team3@summer2024team3.blob.core.windows.net/TP/flight_stations_weather_all_cleaned3/",
         "flight_stations_weather_all_cleaned3/",
         0,
         1722596532000
        ],
        [
         "wasbs://final-project-summer24-team3@summer2024team3.blob.core.windows.net/TP/logbaseline_0.03_probabilities_2018_2019/",
         "logbaseline_0.03_probabilities_2018_2019/",
         0,
         1722882689000
        ],
        [
         "wasbs://final-project-summer24-team3@summer2024team3.blob.core.windows.net/TP/logbaseline_0.03_probabilities_2018_2019v2/",
         "logbaseline_0.03_probabilities_2018_2019v2/",
         0,
         1723097613000
        ],
        [
         "wasbs://final-project-summer24-team3@summer2024team3.blob.core.windows.net/TP/logbaseline_probabilities_2018_2019/",
         "logbaseline_probabilities_2018_2019/",
         0,
         1722842525000
        ],
        [
         "wasbs://final-project-summer24-team3@summer2024team3.blob.core.windows.net/TP/lr_data/",
         "lr_data/",
         0,
         1721720411000
        ],
        [
         "wasbs://final-project-summer24-team3@summer2024team3.blob.core.windows.net/TP/mlpipe.png",
         "mlpipe.png",
         44394,
         1720753556000
        ],
        [
         "wasbs://final-project-summer24-team3@summer2024team3.blob.core.windows.net/TP/nn_model1/",
         "nn_model1/",
         0,
         1722819918000
        ],
        [
         "wasbs://final-project-summer24-team3@summer2024team3.blob.core.windows.net/TP/nn_model2/",
         "nn_model2/",
         0,
         1722819888000
        ],
        [
         "wasbs://final-project-summer24-team3@summer2024team3.blob.core.windows.net/TP/nn_model3/",
         "nn_model3/",
         0,
         1722819879000
        ],
        [
         "wasbs://final-project-summer24-team3@summer2024team3.blob.core.windows.net/TP/nn_model4/",
         "nn_model4/",
         0,
         1722819872000
        ],
        [
         "wasbs://final-project-summer24-team3@summer2024team3.blob.core.windows.net/TP/nn_model5/",
         "nn_model5/",
         0,
         1722819813000
        ],
        [
         "wasbs://final-project-summer24-team3@summer2024team3.blob.core.windows.net/TP/nn_preds_test1/",
         "nn_preds_test1/",
         0,
         1722721986000
        ],
        [
         "wasbs://final-project-summer24-team3@summer2024team3.blob.core.windows.net/TP/nn_preds_test2/",
         "nn_preds_test2/",
         0,
         1722771326000
        ],
        [
         "wasbs://final-project-summer24-team3@summer2024team3.blob.core.windows.net/TP/nn_preds_test3/",
         "nn_preds_test3/",
         0,
         1722778571000
        ],
        [
         "wasbs://final-project-summer24-team3@summer2024team3.blob.core.windows.net/TP/nn_preds_test4/",
         "nn_preds_test4/",
         0,
         1722791190000
        ],
        [
         "wasbs://final-project-summer24-team3@summer2024team3.blob.core.windows.net/TP/nn_preds_test5/",
         "nn_preds_test5/",
         0,
         1722818460000
        ],
        [
         "wasbs://final-project-summer24-team3@summer2024team3.blob.core.windows.net/TP/nn_preds_val1/",
         "nn_preds_val1/",
         0,
         1722721834000
        ],
        [
         "wasbs://final-project-summer24-team3@summer2024team3.blob.core.windows.net/TP/nn_preds_val2/",
         "nn_preds_val2/",
         0,
         1722771147000
        ],
        [
         "wasbs://final-project-summer24-team3@summer2024team3.blob.core.windows.net/TP/nn_preds_val3/",
         "nn_preds_val3/",
         0,
         1722778422000
        ],
        [
         "wasbs://final-project-summer24-team3@summer2024team3.blob.core.windows.net/TP/nn_preds_val4/",
         "nn_preds_val4/",
         0,
         1722790886000
        ],
        [
         "wasbs://final-project-summer24-team3@summer2024team3.blob.core.windows.net/TP/nn_preds_val5/",
         "nn_preds_val5/",
         0,
         1722818080000
        ],
        [
         "wasbs://final-project-summer24-team3@summer2024team3.blob.core.windows.net/TP/part-00000-tid-5669257934384103852-091b7fb5-c969-4ffb-8606-1028f66fa60c-49-1-c000.snappy.parquet",
         "part-00000-tid-5669257934384103852-091b7fb5-c969-4ffb-8606-1028f66fa60c-49-1-c000.snappy.parquet",
         14493,
         1720561571000
        ],
        [
         "wasbs://final-project-summer24-team3@summer2024team3.blob.core.windows.net/TP/sham_cp/",
         "sham_cp/",
         0,
         1722965113000
        ],
        [
         "wasbs://final-project-summer24-team3@summer2024team3.blob.core.windows.net/TP/xgboost_10_1_1/",
         "xgboost_10_1_1/",
         0,
         1722923230000
        ],
        [
         "wasbs://final-project-summer24-team3@summer2024team3.blob.core.windows.net/TP/xgboost_fbeta_recall/",
         "xgboost_fbeta_recall/",
         0,
         1722923744000
        ],
        [
         "wasbs://final-project-summer24-team3@summer2024team3.blob.core.windows.net/TP/xgboost_param_tuning/",
         "xgboost_param_tuning/",
         0,
         1722896255000
        ],
        [
         "wasbs://final-project-summer24-team3@summer2024team3.blob.core.windows.net/TP/xgboost_precision/",
         "xgboost_precision/",
         0,
         1722924069000
        ]
       ],
       "datasetInfos": [],
       "dbfsResultPath": null,
       "isJsonSchema": true,
       "metadata": {},
       "overflow": false,
       "plotOptions": {
        "customPlotOptions": {},
        "displayType": "table",
        "pivotAggregation": null,
        "pivotColumns": null,
        "xColumns": null,
        "yColumns": null
       },
       "removedWidgets": [],
       "schema": [
        {
         "metadata": "{}",
         "name": "path",
         "type": "\"string\""
        },
        {
         "metadata": "{}",
         "name": "name",
         "type": "\"string\""
        },
        {
         "metadata": "{}",
         "name": "size",
         "type": "\"long\""
        },
        {
         "metadata": "{}",
         "name": "modificationTime",
         "type": "\"long\""
        }
       ],
       "type": "table"
      }
     },
     "output_type": "display_data"
    }
   ],
   "source": [
    "display(dbutils.fs.ls(f\"{team_blob_url}/TP/\"))"
   ]
  },
  {
   "cell_type": "code",
   "execution_count": 0,
   "metadata": {
    "application/vnd.databricks.v1+cell": {
     "cellMetadata": {
      "byteLimit": 2048000,
      "rowLimit": 10000
     },
     "inputWidgets": {},
     "nuid": "da5483a9-33ab-4169-8022-bf3b687dc91e",
     "showTitle": false,
     "title": ""
    }
   },
   "outputs": [],
   "source": [
    "xgboost1011 = spark.read.parquet(f'{team_blob_url}/TP/xgboost_fbeta_recall')\n",
    "xgboost1066 = spark.read.parquet(f'{team_blob_url}/TP/xgboost_precision')\n",
    "log_base = spark.read.parquet(f'{team_blob_url}/TP/logbaseline_probabilities_2018_2019/')\n",
    "# log_variant = spark.read.parquet(f'{team_blob_url}/TP/logbaseline_0.03_probabilities_2018_2019/')\n",
    "log_variant = spark.read.parquet(f'{team_blob_url}/TP/logbaseline_0.03_probabilities_2018_2019v2/')\n",
    "\n",
    "nnval2 = spark.read.parquet(f'{team_blob_url}/TP/nn_preds_val2')\n",
    "nnval5 = spark.read.parquet(f'{team_blob_url}/TP/nn_preds_val5')\n",
    "nntest2 = spark.read.parquet(f'{team_blob_url}/TP/nn_preds_test2')\n",
    "nntest5 = spark.read.parquet(f'{team_blob_url}/TP/nn_preds_test5')"
   ]
  },
  {
   "cell_type": "code",
   "execution_count": 0,
   "metadata": {
    "application/vnd.databricks.v1+cell": {
     "cellMetadata": {
      "byteLimit": 2048000,
      "rowLimit": 10000
     },
     "inputWidgets": {},
     "nuid": "a88fe6c4-7a3c-4855-9f9e-ddf7a0b3a4ce",
     "showTitle": false,
     "title": ""
    }
   },
   "outputs": [
    {
     "output_type": "display_data",
     "data": {
      "text/html": [
       "<style scoped>\n",
       "  .table-result-container {\n",
       "    max-height: 300px;\n",
       "    overflow: auto;\n",
       "  }\n",
       "  table, th, td {\n",
       "    border: 1px solid black;\n",
       "    border-collapse: collapse;\n",
       "  }\n",
       "  th, td {\n",
       "    padding: 5px;\n",
       "  }\n",
       "  th {\n",
       "    text-align: left;\n",
       "  }\n",
       "</style><div class='table-result-container'><table class='table-result'><thead style='background-color: white'><tr><th>index</th><th>probability</th></tr></thead><tbody><tr><td>16296400</td><td>0.6048686075183758</td></tr><tr><td>16296401</td><td>0.33557299676558316</td></tr><tr><td>16296402</td><td>0.34635313020897257</td></tr><tr><td>16296403</td><td>0.5621076769602723</td></tr><tr><td>16296404</td><td>0.4098567286621875</td></tr><tr><td>16296405</td><td>0.4458836408337053</td></tr><tr><td>16296406</td><td>0.3406940287018571</td></tr><tr><td>16296407</td><td>0.6211324349535869</td></tr><tr><td>16296408</td><td>0.38519167482096656</td></tr><tr><td>16296409</td><td>0.2942468212008801</td></tr></tbody></table></div>"
      ]
     },
     "metadata": {
      "application/vnd.databricks.v1+output": {
       "addedWidgets": {},
       "aggData": [],
       "aggError": "",
       "aggOverflow": false,
       "aggSchema": [],
       "aggSeriesLimitReached": false,
       "aggType": "",
       "arguments": {},
       "columnCustomDisplayInfos": {},
       "data": [
        [
         16296400,
         0.6048686075183758
        ],
        [
         16296401,
         0.33557299676558316
        ],
        [
         16296402,
         0.34635313020897257
        ],
        [
         16296403,
         0.5621076769602723
        ],
        [
         16296404,
         0.4098567286621875
        ],
        [
         16296405,
         0.4458836408337053
        ],
        [
         16296406,
         0.3406940287018571
        ],
        [
         16296407,
         0.6211324349535869
        ],
        [
         16296408,
         0.38519167482096656
        ],
        [
         16296409,
         0.2942468212008801
        ]
       ],
       "datasetInfos": [],
       "dbfsResultPath": null,
       "isJsonSchema": true,
       "metadata": {},
       "overflow": false,
       "plotOptions": {
        "customPlotOptions": {},
        "displayType": "table",
        "pivotAggregation": null,
        "pivotColumns": null,
        "xColumns": null,
        "yColumns": null
       },
       "removedWidgets": [],
       "schema": [
        {
         "metadata": "{}",
         "name": "index",
         "type": "\"integer\""
        },
        {
         "metadata": "{}",
         "name": "probability",
         "type": "\"double\""
        }
       ],
       "type": "table"
      }
     },
     "output_type": "display_data"
    }
   ],
   "source": [
    "display(nntest2.limit(10))"
   ]
  },
  {
   "cell_type": "markdown",
   "metadata": {
    "application/vnd.databricks.v1+cell": {
     "cellMetadata": {
      "byteLimit": 2048000,
      "rowLimit": 10000
     },
     "inputWidgets": {},
     "nuid": "55ab041e-58fc-4796-8a91-ddf4db8ce854",
     "showTitle": false,
     "title": ""
    }
   },
   "source": [
    "## Create Train Data"
   ]
  },
  {
   "cell_type": "code",
   "execution_count": 0,
   "metadata": {
    "application/vnd.databricks.v1+cell": {
     "cellMetadata": {
      "byteLimit": 2048000,
      "rowLimit": 10000
     },
     "inputWidgets": {},
     "nuid": "424c88ad-fcb6-4f68-9fab-76b9269f42e0",
     "showTitle": false,
     "title": ""
    }
   },
   "outputs": [],
   "source": [
    "nnval2 = nnval2.withColumnRenamed(\"probability\", \"nnval2_prob\")\n",
    "merged_nn = nnval2.join(nnval5, \"index\", \"left\") \\\n",
    "    .select(\"index\", \"nnval2_prob\", F.col(\"probability\").alias(\"nnval5_prob\"))\n",
    "merged_log_base = merged_nn.join(log_base, \"index\", \"left\") \\\n",
    "    .select(\"index\", \"nnval2_prob\", \"nnval5_prob\", \n",
    "            F.col(\"DEP_DEL15\").alias(\"target\"), F.col(\"probability_1\").alias(\"log_base_prob\"), \"YEAR\")\n",
    "merged_log_all = merged_log_base.join(log_variant, \"index\", \"left\") \\\n",
    "    .select(\"index\", \"nnval2_prob\", \"nnval5_prob\", \"log_base_prob\",\n",
    "            F.col(\"probability_1\").alias(\"log_variant_prob\"), \"target\")\n",
    "merged_boost11 = merged_log_all.join(xgboost1011, \"index\", \"left\")\\\n",
    "    .select(\"index\", \"nnval2_prob\", \"nnval5_prob\", \"log_base_prob\", \"log_variant_prob\",\n",
    "            F.col(\"probability_1\").alias(\"xgboost1011_prob\"), \"target\")\n",
    "val_df = merged_boost11.join(xgboost1066, \"index\", \"left\")\\\n",
    "    .select(\"index\", \"nnval2_prob\", \"nnval5_prob\", \"log_base_prob\", \"log_variant_prob\", \"xgboost1011_prob\",\n",
    "            F.col(\"probability_1\").alias(\"xgboost1066_prob\"), \"target\")"
   ]
  },
  {
   "cell_type": "code",
   "execution_count": 0,
   "metadata": {
    "application/vnd.databricks.v1+cell": {
     "cellMetadata": {
      "byteLimit": 2048000,
      "rowLimit": 10000
     },
     "inputWidgets": {},
     "nuid": "cf96f4e5-1fb4-488f-8a40-ca866578f795",
     "showTitle": false,
     "title": ""
    }
   },
   "outputs": [
    {
     "output_type": "stream",
     "name": "stdout",
     "output_type": "stream",
     "text": [
      "Total number of rows: 3606364\n+-----+-----------+-----------+-------------+----------------+----------------+----------------+------+\n|index|nnval2_prob|nnval5_prob|log_base_prob|log_variant_prob|xgboost1011_prob|xgboost1066_prob|target|\n+-----+-----------+-----------+-------------+----------------+----------------+----------------+------+\n|    0|          0|          0|            0|               0|               0|               0|     0|\n+-----+-----------+-----------+-------------+----------------+----------------+----------------+------+\n\nNumber of rows with null values: 0\n"
     ]
    }
   ],
   "source": [
    "# CheckSum for the train dataset\n",
    "\n",
    "# Count total number of rows\n",
    "total_rows = val_df.count()\n",
    "print(f\"Total number of rows: {total_rows}\")\n",
    "\n",
    "# Check for null data in any column\n",
    "null_counts = val_df.select([F.sum(F.col(c).isNull().cast(\"int\")).alias(c) for c in val_df.columns])\n",
    "null_counts.show()\n",
    "\n",
    "# Count rows with any null value\n",
    "rows_with_nulls = val_df.filter(F.concat_ws(\"\", *val_df.columns).isNull()).count()\n",
    "print(f\"Number of rows with null values: {rows_with_nulls}\")"
   ]
  },
  {
   "cell_type": "code",
   "execution_count": 0,
   "metadata": {
    "application/vnd.databricks.v1+cell": {
     "cellMetadata": {
      "byteLimit": 2048000,
      "rowLimit": 10000
     },
     "inputWidgets": {},
     "nuid": "a035cc21-1252-4e3a-acf1-d2f46f9efc14",
     "showTitle": false,
     "title": ""
    }
   },
   "outputs": [
    {
     "output_type": "display_data",
     "data": {
      "text/html": [
       "<style scoped>\n",
       "  .table-result-container {\n",
       "    max-height: 300px;\n",
       "    overflow: auto;\n",
       "  }\n",
       "  table, th, td {\n",
       "    border: 1px solid black;\n",
       "    border-collapse: collapse;\n",
       "  }\n",
       "  th, td {\n",
       "    padding: 5px;\n",
       "  }\n",
       "  th {\n",
       "    text-align: left;\n",
       "  }\n",
       "</style><div class='table-result-container'><table class='table-result'><thead style='background-color: white'><tr><th>index</th><th>nnval2_prob</th><th>nnval5_prob</th><th>log_base_prob</th><th>log_variant_prob</th><th>xgboost1011_prob</th><th>xgboost1066_prob</th><th>target</th></tr></thead><tbody><tr><td>8445850</td><td>0.3740877207774964</td><td>0.3657552296179887</td><td>0.4616521096070315</td><td>0.4535365964512451</td><td>0.16441363096237183</td><td>0.29664698243141174</td><td>0.0</td></tr><tr><td>11556484</td><td>0.34760639074577765</td><td>0.3417001248693432</td><td>0.2207280720620729</td><td>0.29575016841370927</td><td>0.1592976301908493</td><td>0.149367555975914</td><td>0.0</td></tr><tr><td>11556485</td><td>0.4408351089344866</td><td>0.34107230472389743</td><td>0.21373836489025444</td><td>0.29575016841370927</td><td>0.18808721005916595</td><td>0.20340166985988617</td><td>0.0</td></tr><tr><td>11556488</td><td>0.6692957622704241</td><td>0.6250291671440961</td><td>0.5070722794013323</td><td>0.5124258272187046</td><td>0.25215944647789</td><td>0.3480943739414215</td><td>0.0</td></tr><tr><td>8445853</td><td>0.3371937677691113</td><td>0.3092135328938249</td><td>0.39553201838600627</td><td>0.4086396035501758</td><td>0.14601677656173706</td><td>0.14651823043823242</td><td>0.0</td></tr><tr><td>8445854</td><td>0.3961651842954616</td><td>0.37717090725690305</td><td>0.7284613161243112</td><td>0.6761881065184936</td><td>0.8245221972465515</td><td>0.7815264463424683</td><td>1.0</td></tr><tr><td>11556483</td><td>0.5842771002478089</td><td>0.6751280846460634</td><td>0.44459333884333685</td><td>0.4699780933333716</td><td>0.12313054502010345</td><td>0.20881670713424683</td><td>0.0</td></tr><tr><td>8445849</td><td>0.408488887291019</td><td>0.26407924848813835</td><td>0.3231392036725951</td><td>0.3563467487219979</td><td>0.1259733885526657</td><td>0.14548499882221222</td><td>0.0</td></tr><tr><td>11556487</td><td>0.5788756606085461</td><td>0.6788285132979043</td><td>0.45781969317838744</td><td>0.4699780933333716</td><td>0.43456804752349854</td><td>0.594561755657196</td><td>0.0</td></tr><tr><td>8445858</td><td>0.3980004066501542</td><td>0.31899860373731637</td><td>0.5398692118524435</td><td>0.5227492074276583</td><td>0.3748185932636261</td><td>0.3288916051387787</td><td>1.0</td></tr></tbody></table></div>"
      ]
     },
     "metadata": {
      "application/vnd.databricks.v1+output": {
       "addedWidgets": {},
       "aggData": [],
       "aggError": "",
       "aggOverflow": false,
       "aggSchema": [],
       "aggSeriesLimitReached": false,
       "aggType": "",
       "arguments": {},
       "columnCustomDisplayInfos": {},
       "data": [
        [
         8445850,
         0.3740877207774964,
         0.3657552296179887,
         0.4616521096070315,
         0.4535365964512451,
         0.16441363096237183,
         0.29664698243141174,
         0.0
        ],
        [
         11556484,
         0.34760639074577765,
         0.3417001248693432,
         0.2207280720620729,
         0.29575016841370927,
         0.1592976301908493,
         0.149367555975914,
         0.0
        ],
        [
         11556485,
         0.4408351089344866,
         0.34107230472389743,
         0.21373836489025444,
         0.29575016841370927,
         0.18808721005916595,
         0.20340166985988617,
         0.0
        ],
        [
         11556488,
         0.6692957622704241,
         0.6250291671440961,
         0.5070722794013323,
         0.5124258272187046,
         0.25215944647789,
         0.3480943739414215,
         0.0
        ],
        [
         8445853,
         0.3371937677691113,
         0.3092135328938249,
         0.39553201838600627,
         0.4086396035501758,
         0.14601677656173706,
         0.14651823043823242,
         0.0
        ],
        [
         8445854,
         0.3961651842954616,
         0.37717090725690305,
         0.7284613161243112,
         0.6761881065184936,
         0.8245221972465515,
         0.7815264463424683,
         1.0
        ],
        [
         11556483,
         0.5842771002478089,
         0.6751280846460634,
         0.44459333884333685,
         0.4699780933333716,
         0.12313054502010345,
         0.20881670713424683,
         0.0
        ],
        [
         8445849,
         0.408488887291019,
         0.26407924848813835,
         0.3231392036725951,
         0.3563467487219979,
         0.1259733885526657,
         0.14548499882221222,
         0.0
        ],
        [
         11556487,
         0.5788756606085461,
         0.6788285132979043,
         0.45781969317838744,
         0.4699780933333716,
         0.43456804752349854,
         0.594561755657196,
         0.0
        ],
        [
         8445858,
         0.3980004066501542,
         0.31899860373731637,
         0.5398692118524435,
         0.5227492074276583,
         0.3748185932636261,
         0.3288916051387787,
         1.0
        ]
       ],
       "datasetInfos": [],
       "dbfsResultPath": null,
       "isJsonSchema": true,
       "metadata": {},
       "overflow": false,
       "plotOptions": {
        "customPlotOptions": {},
        "displayType": "table",
        "pivotAggregation": null,
        "pivotColumns": null,
        "xColumns": null,
        "yColumns": null
       },
       "removedWidgets": [],
       "schema": [
        {
         "metadata": "{}",
         "name": "index",
         "type": "\"integer\""
        },
        {
         "metadata": "{}",
         "name": "nnval2_prob",
         "type": "\"double\""
        },
        {
         "metadata": "{}",
         "name": "nnval5_prob",
         "type": "\"double\""
        },
        {
         "metadata": "{}",
         "name": "log_base_prob",
         "type": "\"double\""
        },
        {
         "metadata": "{}",
         "name": "log_variant_prob",
         "type": "\"double\""
        },
        {
         "metadata": "{}",
         "name": "xgboost1011_prob",
         "type": "\"double\""
        },
        {
         "metadata": "{}",
         "name": "xgboost1066_prob",
         "type": "\"double\""
        },
        {
         "metadata": "{}",
         "name": "target",
         "type": "\"double\""
        }
       ],
       "type": "table"
      }
     },
     "output_type": "display_data"
    }
   ],
   "source": [
    "display(val_df.limit(10))"
   ]
  },
  {
   "cell_type": "code",
   "execution_count": 0,
   "metadata": {
    "application/vnd.databricks.v1+cell": {
     "cellMetadata": {
      "byteLimit": 2048000,
      "rowLimit": 10000
     },
     "inputWidgets": {},
     "nuid": "65f782fe-5971-4f22-8e77-b477589d5602",
     "showTitle": false,
     "title": ""
    }
   },
   "outputs": [],
   "source": [
    "def simple_meta_model(df):\n",
    "    \"\"\"Input: dataframe with probabilities. Output: dataframe with predictions\"\"\"\n",
    "\n",
    "    # ensemble model such that if any model predicts delayed, then output delayed\n",
    "\n",
    "    # Define function for prediction\n",
    "    def predict(row):\n",
    "        prediction = 1 if any(x > 0.5 for x in row[1:]) else 0\n",
    "        return Row(*row, prediction)\n",
    "\n",
    "    column_names = df.columns\n",
    "    column_names.append('predictions')\n",
    "\n",
    "    # Apply the function to each row\n",
    "    predictions_df = df.rdd.map(lambda row: predict(row)).toDF(column_names)\n",
    "\n",
    "    return predictions_df\n"
   ]
  },
  {
   "cell_type": "code",
   "execution_count": 0,
   "metadata": {
    "application/vnd.databricks.v1+cell": {
     "cellMetadata": {
      "byteLimit": 2048000,
      "rowLimit": 10000
     },
     "inputWidgets": {},
     "nuid": "c3166052-8942-40ce-b9b7-5d076f73765c",
     "showTitle": false,
     "title": ""
    }
   },
   "outputs": [
    {
     "output_type": "display_data",
     "data": {
      "text/html": [
       "<style scoped>\n",
       "  .table-result-container {\n",
       "    max-height: 300px;\n",
       "    overflow: auto;\n",
       "  }\n",
       "  table, th, td {\n",
       "    border: 1px solid black;\n",
       "    border-collapse: collapse;\n",
       "  }\n",
       "  th, td {\n",
       "    padding: 5px;\n",
       "  }\n",
       "  th {\n",
       "    text-align: left;\n",
       "  }\n",
       "</style><div class='table-result-container'><table class='table-result'><thead style='background-color: white'><tr><th>index</th><th>nnval2_prob</th><th>nnval5_prob</th><th>log_base_prob</th><th>log_variant_prob</th><th>xgboost1011_prob</th><th>xgboost1066_prob</th><th>target</th><th>predictions</th></tr></thead><tbody><tr><td>8445850</td><td>0.3740877207774964</td><td>0.3657552296179887</td><td>0.4616521096070315</td><td>0.4535365964512451</td><td>0.16441363096237183</td><td>0.29664698243141174</td><td>0.0</td><td>0</td></tr><tr><td>8445871</td><td>0.31880087127257606</td><td>0.32565487447849784</td><td>0.15486555483139564</td><td>0.29575016841370927</td><td>0.2103431224822998</td><td>0.2847370207309723</td><td>1.0</td><td>1</td></tr><tr><td>8445894</td><td>0.3448788214608317</td><td>0.31659331279826397</td><td>0.19109452443536556</td><td>0.3064717705475707</td><td>0.11755838245153427</td><td>0.10191681981086731</td><td>1.0</td><td>1</td></tr><tr><td>8445899</td><td>0.295906043856487</td><td>0.2915445998019462</td><td>0.17192092941979387</td><td>0.29575016841370927</td><td>0.14627620577812195</td><td>0.09829419106245041</td><td>0.0</td><td>0</td></tr><tr><td>8445902</td><td>0.33777125003361064</td><td>0.4980410985027349</td><td>0.3099838529356438</td><td>0.49685925421273736</td><td>0.0969814881682396</td><td>0.2085460126399994</td><td>0.0</td><td>0</td></tr><tr><td>8445909</td><td>0.3368145497618807</td><td>0.32031541543843406</td><td>0.36815964664781575</td><td>0.44634858006155376</td><td>0.30916041135787964</td><td>0.3015647530555725</td><td>0.0</td><td>0</td></tr><tr><td>8445914</td><td>0.4458744314071377</td><td>0.3696895501790981</td><td>0.5304779359872036</td><td>0.6316441428155444</td><td>0.17573222517967224</td><td>0.15746848285198212</td><td>0.0</td><td>1</td></tr><tr><td>8445938</td><td>0.4250428396054828</td><td>0.3897048317729652</td><td>0.173287933227793</td><td>0.29575016841370927</td><td>0.18053999543190002</td><td>0.12032793462276459</td><td>0.0</td><td>0</td></tr><tr><td>8445952</td><td>0.4327347679128427</td><td>0.4047513092983122</td><td>0.35608595508198604</td><td>0.4699780933333716</td><td>0.13314098119735718</td><td>0.12185940146446228</td><td>0.0</td><td>0</td></tr><tr><td>8445953</td><td>0.2381159657956752</td><td>0.29853812795264567</td><td>0.16511367241532937</td><td>0.29575016841370927</td><td>0.09102384746074677</td><td>0.08673040568828583</td><td>0.0</td><td>0</td></tr></tbody></table></div>"
      ]
     },
     "metadata": {
      "application/vnd.databricks.v1+output": {
       "addedWidgets": {},
       "aggData": [],
       "aggError": "",
       "aggOverflow": false,
       "aggSchema": [],
       "aggSeriesLimitReached": false,
       "aggType": "",
       "arguments": {},
       "columnCustomDisplayInfos": {},
       "data": [
        [
         8445850,
         0.3740877207774964,
         0.3657552296179887,
         0.4616521096070315,
         0.4535365964512451,
         0.16441363096237183,
         0.29664698243141174,
         0.0,
         0
        ],
        [
         8445871,
         0.31880087127257606,
         0.32565487447849784,
         0.15486555483139564,
         0.29575016841370927,
         0.2103431224822998,
         0.2847370207309723,
         1.0,
         1
        ],
        [
         8445894,
         0.3448788214608317,
         0.31659331279826397,
         0.19109452443536556,
         0.3064717705475707,
         0.11755838245153427,
         0.10191681981086731,
         1.0,
         1
        ],
        [
         8445899,
         0.295906043856487,
         0.2915445998019462,
         0.17192092941979387,
         0.29575016841370927,
         0.14627620577812195,
         0.09829419106245041,
         0.0,
         0
        ],
        [
         8445902,
         0.33777125003361064,
         0.4980410985027349,
         0.3099838529356438,
         0.49685925421273736,
         0.0969814881682396,
         0.2085460126399994,
         0.0,
         0
        ],
        [
         8445909,
         0.3368145497618807,
         0.32031541543843406,
         0.36815964664781575,
         0.44634858006155376,
         0.30916041135787964,
         0.3015647530555725,
         0.0,
         0
        ],
        [
         8445914,
         0.4458744314071377,
         0.3696895501790981,
         0.5304779359872036,
         0.6316441428155444,
         0.17573222517967224,
         0.15746848285198212,
         0.0,
         1
        ],
        [
         8445938,
         0.4250428396054828,
         0.3897048317729652,
         0.173287933227793,
         0.29575016841370927,
         0.18053999543190002,
         0.12032793462276459,
         0.0,
         0
        ],
        [
         8445952,
         0.4327347679128427,
         0.4047513092983122,
         0.35608595508198604,
         0.4699780933333716,
         0.13314098119735718,
         0.12185940146446228,
         0.0,
         0
        ],
        [
         8445953,
         0.2381159657956752,
         0.29853812795264567,
         0.16511367241532937,
         0.29575016841370927,
         0.09102384746074677,
         0.08673040568828583,
         0.0,
         0
        ]
       ],
       "datasetInfos": [],
       "dbfsResultPath": null,
       "isJsonSchema": true,
       "metadata": {},
       "overflow": false,
       "plotOptions": {
        "customPlotOptions": {},
        "displayType": "table",
        "pivotAggregation": null,
        "pivotColumns": null,
        "xColumns": null,
        "yColumns": null
       },
       "removedWidgets": [],
       "schema": [
        {
         "metadata": "{}",
         "name": "index",
         "type": "\"long\""
        },
        {
         "metadata": "{}",
         "name": "nnval2_prob",
         "type": "\"double\""
        },
        {
         "metadata": "{}",
         "name": "nnval5_prob",
         "type": "\"double\""
        },
        {
         "metadata": "{}",
         "name": "log_base_prob",
         "type": "\"double\""
        },
        {
         "metadata": "{}",
         "name": "log_variant_prob",
         "type": "\"double\""
        },
        {
         "metadata": "{}",
         "name": "xgboost1011_prob",
         "type": "\"double\""
        },
        {
         "metadata": "{}",
         "name": "xgboost1066_prob",
         "type": "\"double\""
        },
        {
         "metadata": "{}",
         "name": "target",
         "type": "\"double\""
        },
        {
         "metadata": "{}",
         "name": "predictions",
         "type": "\"long\""
        }
       ],
       "type": "table"
      }
     },
     "output_type": "display_data"
    }
   ],
   "source": [
    "val_predictions = simple_meta_model(val_df)\n",
    "\n",
    "display(val_predictions.limit(10))"
   ]
  },
  {
   "cell_type": "code",
   "execution_count": 0,
   "metadata": {
    "application/vnd.databricks.v1+cell": {
     "cellMetadata": {
      "byteLimit": 2048000,
      "rowLimit": 10000
     },
     "inputWidgets": {},
     "nuid": "dcc59008-f65e-4083-961c-2eb92f322659",
     "showTitle": false,
     "title": ""
    }
   },
   "outputs": [],
   "source": [
    "# compute evaluation metrics\n",
    "def evaluate_metrics(df):\n",
    "    \"\"\"Compute evaluation metrics\"\"\"\n",
    "    metrics = df.select(F.count(F.when((F.col(\"predictions\") == 1 )& (F.col(\"target\") == 1), 1)).alias('true_positives'),\n",
    "                        F.count(F.when((F.col(\"predictions\") == 0) & (F.col(\"target\") == 0), 1)).alias('true_negatives'),\n",
    "                        F.count(F.when((F.col(\"predictions\") == 1) & (F.col(\"target\") == 0), 1)).alias('false_positives'),\n",
    "                        F.count(F.when((F.col(\"predictions\") == 0) & (F.col(\"target\") == 1), 1)).alias('false_negatives')).collect()[0]\n",
    "    \n",
    "    precision = metrics['true_positives'] / (metrics['true_positives'] + metrics['false_positives'])\n",
    "    print('Precision:', precision)\n",
    "\n",
    "    recall = metrics['true_positives'] / (metrics['true_positives'] + metrics['false_negatives'])\n",
    "    print('Recall:', recall)\n",
    "\n",
    "    beta = 1/(2**0.5)\n",
    "    fbeta = (1 + beta**2) * (precision * recall) / ((beta**2 * precision) + recall)\n",
    "    print('F-0.5:', fbeta)\n",
    "\n",
    "    display(metrics)\n",
    "    "
   ]
  },
  {
   "cell_type": "code",
   "execution_count": 0,
   "metadata": {
    "application/vnd.databricks.v1+cell": {
     "cellMetadata": {
      "byteLimit": 2048000,
      "rowLimit": 10000
     },
     "inputWidgets": {},
     "nuid": "812c1abf-3631-44b6-ba31-d0b639d188dc",
     "showTitle": false,
     "title": ""
    }
   },
   "outputs": [
    {
     "output_type": "stream",
     "name": "stdout",
     "output_type": "stream",
     "text": [
      "Precision: 0.7356412837065999\nRecall: 1.0\nF-0.5: 0.8067299847623204\n"
     ]
    },
    {
     "output_type": "display_data",
     "data": {
      "text/plain": [
       "Row(true_positives=1407757, true_negatives=1692718, false_positives=505889, false_negatives=0)"
      ]
     },
     "metadata": {},
     "output_type": "display_data"
    }
   ],
   "source": [
    "evaluate_metrics(val_predictions)"
   ]
  },
  {
   "cell_type": "markdown",
   "metadata": {
    "application/vnd.databricks.v1+cell": {
     "cellMetadata": {
      "byteLimit": 2048000,
      "rowLimit": 10000
     },
     "inputWidgets": {},
     "nuid": "a805331e-5bcb-44c9-aedd-52d52e44b4d1",
     "showTitle": false,
     "title": ""
    }
   },
   "source": [
    "### TEST"
   ]
  },
  {
   "cell_type": "code",
   "execution_count": 0,
   "metadata": {
    "application/vnd.databricks.v1+cell": {
     "cellMetadata": {
      "byteLimit": 2048000,
      "rowLimit": 10000
     },
     "inputWidgets": {},
     "nuid": "9bc4bbea-0ce6-45bc-919a-a5df5f74ca80",
     "showTitle": false,
     "title": ""
    }
   },
   "outputs": [
    {
     "output_type": "stream",
     "name": "stdout",
     "output_type": "stream",
     "text": [
      "Total number of rows: 7270189\n+-----+-----------+-----------+-------------+----------------+----------------+----------------+------+\n|index|nnval2_prob|nnval5_prob|log_base_prob|log_variant_prob|xgboost1011_prob|xgboost1066_prob|target|\n+-----+-----------+-----------+-------------+----------------+----------------+----------------+------+\n|    0|          0|          0|            0|               0|               0|               0|     0|\n+-----+-----------+-----------+-------------+----------------+----------------+----------------+------+\n\nNumber of rows with null values: 0\n"
     ]
    }
   ],
   "source": [
    "# Similar to the train merge, we start with the NN files as those are already scoped to the year we are interested in - 2019\n",
    "nntest2 = nntest2.withColumnRenamed(\"probability\", \"nnval2_prob\") # keeping the col name val so I can recycle my pipeline\n",
    "merged_nn = nntest2.join(nntest5, \"index\", \"left\") \\\n",
    "    .select(\"index\", \"nnval2_prob\", F.col(\"probability\").alias(\"nnval5_prob\")) # keeping the col name val so I can recycle my pipeline \n",
    "\t\n",
    "merged_log_base = merged_nn.join(log_base, \"index\", \"left\") \\\n",
    "    .select(\"index\", \"nnval2_prob\", \"nnval5_prob\", \n",
    "            F.col(\"DEP_DEL15\").alias(\"target\"), F.col(\"probability_1\").alias(\"log_base_prob\"), \"YEAR\")\n",
    "\t\t\t\n",
    "merged_log_all = merged_log_base.join(log_variant, \"index\", \"left\") \\\n",
    "    .select(\"index\", \"nnval2_prob\", \"nnval5_prob\", \"log_base_prob\",\n",
    "            F.col(\"probability_1\").alias(\"log_variant_prob\"), \"target\")\n",
    "\t\t\t\n",
    "merged_boost11 = merged_log_all.join(xgboost1011, \"index\", \"left\")\\\n",
    "    .select(\"index\", \"nnval2_prob\", \"nnval5_prob\", \"log_base_prob\", \"log_variant_prob\",\n",
    "            F.col(\"probability_1\").alias(\"xgboost1011_prob\"), \"target\")\n",
    "\t\t\t\n",
    "test_df = merged_boost11.join(xgboost1066, \"index\", \"left\")\\\n",
    "    .select(\"index\", \"nnval2_prob\", \"nnval5_prob\", \"log_base_prob\", \"log_variant_prob\", \"xgboost1011_prob\",\n",
    "            F.col(\"probability_1\").alias(\"xgboost1066_prob\"), \"target\")\n",
    "\n",
    "# Count total number of rows\n",
    "total_rows = test_df.count()\n",
    "print(f\"Total number of rows: {total_rows}\")\n",
    "\n",
    "# Check for null data in any column\n",
    "null_counts = test_df.select([F.sum(F.col(c).isNull().cast(\"int\")).alias(c) for c in test_df.columns])\n",
    "null_counts.show()\n",
    "\n",
    "# Count rows with any null value\n",
    "rows_with_nulls = test_df.filter(F.concat_ws(\"\", *test_df.columns).isNull()).count()\n",
    "print(f\"Number of rows with null values: {rows_with_nulls}\")"
   ]
  },
  {
   "cell_type": "code",
   "execution_count": 0,
   "metadata": {
    "application/vnd.databricks.v1+cell": {
     "cellMetadata": {
      "byteLimit": 2048000,
      "rowLimit": 10000
     },
     "inputWidgets": {},
     "nuid": "7eb09c58-e5ad-4570-a6df-cb2221588a32",
     "showTitle": false,
     "title": ""
    }
   },
   "outputs": [],
   "source": [
    "test_predictions = simple_meta_model(test_df)"
   ]
  },
  {
   "cell_type": "code",
   "execution_count": 0,
   "metadata": {
    "application/vnd.databricks.v1+cell": {
     "cellMetadata": {
      "byteLimit": 2048000,
      "rowLimit": 10000
     },
     "inputWidgets": {},
     "nuid": "216e5b45-f68c-47cc-b799-6c7c71da830d",
     "showTitle": false,
     "title": ""
    }
   },
   "outputs": [
    {
     "output_type": "stream",
     "name": "stdout",
     "output_type": "stream",
     "text": [
      "Precision: 0.5214633593038044\nRecall: 1.0\nF-0.5: 0.620429431242401\n"
     ]
    },
    {
     "output_type": "display_data",
     "data": {
      "text/plain": [
       "Row(true_positives=1475746, true_negatives=4440180, false_positives=1354263, false_negatives=0)"
      ]
     },
     "metadata": {},
     "output_type": "display_data"
    }
   ],
   "source": [
    "evaluate_metrics(test_predictions)"
   ]
  },
  {
   "cell_type": "code",
   "execution_count": 0,
   "metadata": {
    "application/vnd.databricks.v1+cell": {
     "cellMetadata": {
      "byteLimit": 2048000,
      "rowLimit": 10000
     },
     "inputWidgets": {},
     "nuid": "956ff96d-6c52-4f44-a44b-2f6777a3877a",
     "showTitle": false,
     "title": ""
    }
   },
   "outputs": [],
   "source": []
  }
 ],
 "metadata": {
  "application/vnd.databricks.v1+notebook": {
   "dashboards": [],
   "environmentMetadata": null,
   "language": "python",
   "notebookMetadata": {
    "pythonIndentUnit": 4
   },
   "notebookName": "Simple Meta Model",
   "widgets": {}
  }
 },
 "nbformat": 4,
 "nbformat_minor": 0
}
