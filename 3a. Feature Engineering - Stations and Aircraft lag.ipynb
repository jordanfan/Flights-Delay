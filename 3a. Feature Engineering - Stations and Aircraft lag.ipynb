{
 "cells": [
  {
   "cell_type": "code",
   "execution_count": 0,
   "metadata": {
    "application/vnd.databricks.v1+cell": {
     "cellMetadata": {
      "byteLimit": 2048000,
      "rowLimit": 10000
     },
     "inputWidgets": {},
     "nuid": "6a36ec64-825f-42b1-b506-e8f0fada206b",
     "showTitle": false,
     "title": ""
    }
   },
   "outputs": [
    {
     "output_type": "display_data",
     "data": {
      "text/html": [
       "<style scoped>\n",
       "  .table-result-container {\n",
       "    max-height: 300px;\n",
       "    overflow: auto;\n",
       "  }\n",
       "  table, th, td {\n",
       "    border: 1px solid black;\n",
       "    border-collapse: collapse;\n",
       "  }\n",
       "  th, td {\n",
       "    padding: 5px;\n",
       "  }\n",
       "  th {\n",
       "    text-align: left;\n",
       "  }\n",
       "</style><div class='table-result-container'><table class='table-result'><thead style='background-color: white'><tr><th>path</th><th>name</th><th>size</th><th>modificationTime</th></tr></thead><tbody><tr><td>wasbs://final-project-summer24-team3@summer2024team3.blob.core.windows.net/TP/</td><td>TP/</td><td>0</td><td>1722323705000</td></tr></tbody></table></div>"
      ]
     },
     "metadata": {
      "application/vnd.databricks.v1+output": {
       "addedWidgets": {},
       "aggData": [],
       "aggError": "",
       "aggOverflow": false,
       "aggSchema": [],
       "aggSeriesLimitReached": false,
       "aggType": "",
       "arguments": {},
       "columnCustomDisplayInfos": {},
       "data": [
        [
         "wasbs://final-project-summer24-team3@summer2024team3.blob.core.windows.net/TP/",
         "TP/",
         0,
         1722323705000
        ]
       ],
       "datasetInfos": [],
       "dbfsResultPath": null,
       "isJsonSchema": true,
       "metadata": {},
       "overflow": false,
       "plotOptions": {
        "customPlotOptions": {},
        "displayType": "table",
        "pivotAggregation": null,
        "pivotColumns": null,
        "xColumns": null,
        "yColumns": null
       },
       "removedWidgets": [],
       "schema": [
        {
         "metadata": "{}",
         "name": "path",
         "type": "\"string\""
        },
        {
         "metadata": "{}",
         "name": "name",
         "type": "\"string\""
        },
        {
         "metadata": "{}",
         "name": "size",
         "type": "\"long\""
        },
        {
         "metadata": "{}",
         "name": "modificationTime",
         "type": "\"long\""
        }
       ],
       "type": "table"
      }
     },
     "output_type": "display_data"
    }
   ],
   "source": [
    "# The following blob storage is accessible to team members only (read and write)\n",
    "# access key is valid til TTL\n",
    "# after that you will need to create a new SAS key and authenticate access again via DataBrick command line\n",
    "blob_container  = \"final-project-summer24-team3\"       # The name of your container created in https://portal.azure.com\n",
    "storage_account = \"summer2024team3\"  # The name of your Storage account created in https://portal.azure.com\n",
    "secret_scope    = \"summer24_team_3_2_scope\"           # The name of the scope created in your local computer using the Databricks CLI\n",
    "secret_key      = \"final-project-summer24-team3\"             # The name of the secret key created in your local computer using the Databricks CLI\n",
    "team_blob_url   = f\"wasbs://{blob_container}@{storage_account}.blob.core.windows.net\"  #points to the root of your team storage bucket\n",
    "\n",
    "# the 261 course blob storage is mounted here.\n",
    "mids261_mount_path      = \"/mnt/mids-w261\"\n",
    "\n",
    "# SAS Token: Grant the team limited access to Azure Storage resources\n",
    "spark.conf.set(\n",
    "  f\"fs.azure.sas.{blob_container}.{storage_account}.blob.core.windows.net\",\n",
    "  dbutils.secrets.get(scope = secret_scope, key = secret_key)\n",
    ")\n",
    "\n",
    "# see what's in the blob storage root folder \n",
    "display(dbutils.fs.ls(f\"{team_blob_url}\"))"
   ]
  },
  {
   "cell_type": "code",
   "execution_count": 0,
   "metadata": {
    "application/vnd.databricks.v1+cell": {
     "cellMetadata": {
      "byteLimit": 2048000,
      "rowLimit": 10000
     },
     "inputWidgets": {},
     "nuid": "79c87c7b-0924-4d72-ab3a-483ef0887136",
     "showTitle": false,
     "title": ""
    }
   },
   "outputs": [],
   "source": [
    "from pyspark.sql.functions import col, isnan, count, when, split, concat, lit, min, row_number, lower, lpad, udf, first, countDistinct, coalesce, to_timestamp, monotonically_increasing_id, explode, array\n",
    "from pyspark.sql.types import StringType, StructField, StructType, FloatType\n",
    "from pyspark.ml.feature import StringIndexer, OneHotEncoder, VectorAssembler\n",
    "from pyspark.ml import Pipeline\n",
    "from pyspark.sql.window import Window\n",
    "import pyspark.sql.functions as F\n",
    "import numpy as np\n",
    "import matplotlib.pyplot as plt\n",
    "import pandas as pd\n",
    "import seaborn as sns\n",
    "from datetime import datetime, timedelta"
   ]
  },
  {
   "cell_type": "code",
   "execution_count": 0,
   "metadata": {
    "application/vnd.databricks.v1+cell": {
     "cellMetadata": {
      "byteLimit": 2048000,
      "rowLimit": 10000
     },
     "inputWidgets": {},
     "nuid": "b6588cfc-7538-43a0-a8a7-213dcd448e23",
     "showTitle": false,
     "title": ""
    }
   },
   "outputs": [],
   "source": [
    "merged_3m = spark.read.parquet(\"wasbs://final-project-summer24-team3@summer2024team3.blob.core.windows.net/TP/flight_stations_weather_3m_cleaned\")\n",
    "merged_1y = spark.read.parquet(\"wasbs://final-project-summer24-team3@summer2024team3.blob.core.windows.net/TP/flight_stations_weather_1y_cleaned\")\n",
    "merged_all = spark.read.parquet(\"wasbs://final-project-summer24-team3@summer2024team3.blob.core.windows.net/TP/flight_stations_weather_all_cleaned\")"
   ]
  },
  {
   "cell_type": "code",
   "execution_count": 0,
   "metadata": {
    "application/vnd.databricks.v1+cell": {
     "cellMetadata": {
      "byteLimit": 2048000,
      "rowLimit": 10000
     },
     "inputWidgets": {},
     "nuid": "3b043d1e-199c-4490-bd60-563543e00543",
     "showTitle": false,
     "title": ""
    }
   },
   "outputs": [],
   "source": [
    "df = merged_3m"
   ]
  },
  {
   "cell_type": "code",
   "execution_count": 0,
   "metadata": {
    "application/vnd.databricks.v1+cell": {
     "cellMetadata": {
      "byteLimit": 2048000,
      "rowLimit": 10000
     },
     "inputWidgets": {},
     "nuid": "d709b2a4-7541-462b-9bfe-f610acce4178",
     "showTitle": false,
     "title": ""
    }
   },
   "outputs": [],
   "source": [
    "# Julia cell to input delay departure and arrivals \n",
    "\n",
    "def create_delay_percentage_features(df):\n",
    "    \"\"\"\n",
    "    Input: dataframe to which features to be added. Requires columns: \"CRS_DEP_TIME\", \"FL_DATE\", \"DEP_DEL15\", \"ARR_DEL15\", \"ORIGIN_AIRPORT_ID\", \"DEST_AIRPORT_ID\"\n",
    "    Output: returns dataframe with 6 new columns for departure delay % and arrival delay % for 3 time windows\n",
    "    \"\"\"\n",
    "\n",
    "    # compute unix timestring\n",
    "    def update_df_unixtime(df, timestring, datestring):\n",
    "        \"\"\"\n",
    "        Inputs: dataframe, CRS_DEP_TIME, FL_DATE\n",
    "        Outputs: dataframe with unix timestring\n",
    "        \"\"\"\n",
    "\n",
    "        # Convert the military time to a time string\n",
    "        df = df.withColumn(\"MOD_DEP_TIME\", F.lpad(F.col(str(timestring)).cast(\"string\"), 4, \"0\"))\n",
    "        df = df.withColumn(\"MOD_DEP_TIME\", F.concat_ws(\":\", df.MOD_DEP_TIME.substr(1, 2), df.MOD_DEP_TIME.substr(3, 2)))\n",
    "\n",
    "        # Combine the date column with the time string to create a datetime string\n",
    "        df = df.withColumn(\"MOD_DEP_DATE_TIME\", F.concat_ws(\" \", F.col(str(datestring)).cast(\"string\").substr(0, 10), F.col(\"MOD_DEP_TIME\")))\n",
    "\n",
    "        # maybe can experiment without casting and keeping it as a UNIX timestamp?\n",
    "        # Convert the datetime string to a UNIX timestamp\n",
    "        df = df.withColumn(\"DEP_TIMESTAMP_UNIX\", F.unix_timestamp(F.col(\"MOD_DEP_DATE_TIME\"), \"yyyy-MM-dd HH:mm\"))\n",
    "\n",
    "        df = df.drop(\"MOD_DEP_TIME\") \\\n",
    "            .drop(\"MOD_DEP_DATE_TIME\")\n",
    "\n",
    "        return df\n",
    "\n",
    "    # add unix timestring column to dataframe\n",
    "    df = update_df_unixtime(df, \"CRS_DEP_TIME\", \"FL_DATE\")\n",
    "\n",
    "    # create new departure delay % features\n",
    "    window_spec_12hr = Window.partitionBy(\"ORIGIN_AIRPORT_ID\").orderBy(\"DEP_TIMESTAMP_UNIX\").rangeBetween(Window.currentRow-(12 * 3600), Window.currentRow-(2 * 3600))\n",
    "\n",
    "    window_spec_6hr = Window.partitionBy(\"ORIGIN_AIRPORT_ID\").orderBy(\"DEP_TIMESTAMP_UNIX\").rangeBetween(Window.currentRow-(6 * 3600), Window.currentRow-(2 * 3600))\n",
    "\n",
    "    window_spec_4hr = Window.partitionBy(\"ORIGIN_AIRPORT_ID\").orderBy(\"DEP_TIMESTAMP_UNIX\").rangeBetween(Window.currentRow-(4 * 3600), Window.currentRow-(2 * 3600))\n",
    "\n",
    "    # Compute % of delayed flights within the window\n",
    "    df = df.withColumn(\"DEP_12hr\", F.count(F.when(F.col(\"DEP_DEL15\") == 1, 1)).over(window_spec_12hr)/F.count(\"*\").over(window_spec_12hr))\n",
    "    df = df.withColumn(\"DEP_6hr\", F.count(F.when(F.col(\"DEP_DEL15\") == 1, 1)).over(window_spec_6hr)/F.count(\"*\").over(window_spec_6hr))\n",
    "    df = df.withColumn(\"DEP_4hr\", F.count(F.when(F.col(\"DEP_DEL15\") == 1, 1)).over(window_spec_4hr)/F.count(\"*\").over(window_spec_4hr))\n",
    "\n",
    "    # create new arrival delay % features\n",
    "    window_spec_12hrARR = Window.partitionBy(\"DEST_AIRPORT_ID\").orderBy(\"DEP_TIMESTAMP_UNIX\").rangeBetween(Window.currentRow-(12 * 3600), Window.currentRow-(2 * 3600))\n",
    "\n",
    "    window_spec_6hrARR = Window.partitionBy(\"DEST_AIRPORT_ID\").orderBy(\"DEP_TIMESTAMP_UNIX\").rangeBetween(Window.currentRow-(6 * 3600), Window.currentRow-(2 * 3600))\n",
    "\n",
    "    window_spec_4hrARR = Window.partitionBy(\"DEST_AIRPORT_ID\").orderBy(\"DEP_TIMESTAMP_UNIX\").rangeBetween(Window.currentRow-(4 * 3600), Window.currentRow-(2 * 3600))\n",
    "\n",
    "\n",
    "    # Compute the percentage of the number of delayed arriving flights within the window\n",
    "    df = df.withColumn(\"ARR_12hr\", F.count(F.when(F.col(\"ARR_DEL15\") == 1, 1)).over(window_spec_12hrARR)/F.count(\"*\").over(window_spec_12hrARR))\n",
    "    df = df.withColumn(\"ARR_6hr\", F.count(F.when(F.col(\"ARR_DEL15\") == 1, 1)).over(window_spec_6hrARR)/F.count(\"*\").over(window_spec_6hrARR))\n",
    "    df = df.withColumn(\"ARR_4hr\", F.count(F.when(F.col(\"ARR_DEL15\") == 1, 1)).over(window_spec_4hrARR)/F.count(\"*\").over(window_spec_4hrARR)).drop(\"DEP_TIMESTAMP_UNIX\")\n",
    "\n",
    "    # Fill in null values as 0 -- results from division by 0 for flights where there are no flights counted in the window\n",
    "    df = df.na.fill({'DEP_12hr': 0, 'DEP_6hr': 0, 'DEP_4hr': 0, 'ARR_12hr': 0, 'ARR_6hr': 0, 'ARR_4hr': 0})\n",
    "\n",
    "    return df\n",
    "\n",
    "\n"
   ]
  },
  {
   "cell_type": "code",
   "execution_count": 0,
   "metadata": {
    "application/vnd.databricks.v1+cell": {
     "cellMetadata": {
      "byteLimit": 2048000,
      "rowLimit": 10000
     },
     "inputWidgets": {},
     "nuid": "95cda42f-8685-4eb1-a069-f3d05bdb206a",
     "showTitle": false,
     "title": ""
    }
   },
   "outputs": [],
   "source": [
    "# to add in Julia's features (Jordan, please check which df this is supposed to get applied to!)\n",
    "df_delay = create_delay_percentage_features(df)"
   ]
  },
  {
   "cell_type": "code",
   "execution_count": 0,
   "metadata": {
    "application/vnd.databricks.v1+cell": {
     "cellMetadata": {
      "byteLimit": 2048000,
      "rowLimit": 10000
     },
     "inputWidgets": {},
     "nuid": "d9729e85-0317-4dcd-ab3f-d273b1ee1671",
     "showTitle": false,
     "title": ""
    }
   },
   "outputs": [],
   "source": [
    "# Ian's cell to create columns for airplane delays \n",
    "\n",
    "from pyspark.sql.types import IntegerType\n",
    "from pyspark.sql.functions import col, concat_ws, lpad, expr, unix_timestamp, from_unixtime, when, count, lag, greatest\n",
    "import pyspark.sql.functions as F\n",
    "from datetime import datetime, timedelta\n",
    "\n",
    "def flight_lag_transformation(df):\n",
    "\n",
    "    \"\"\"\n",
    "    Input: dataframe to which features to be added. Requires columns: \"CRS_DEP_TIME\", \"FL_DATE\", \"DEP_DEL15\", \"CANCELLED\", \"DISTANCE\", \"TAIL_NUM\", \"DEP_DELAY\"\n",
    "    Output: returns dataframe with 4 main columns \n",
    "    \"DISTANCE_LAG\": Distance of previous journey per plane \n",
    "    \"REALIZED_DELAY_MIN\": Known delay in minutes of previous journey of plane at leakage time barrier\n",
    "    \"REALIZED_DEL15\": 1 if \"REALIZED_DELAY_MIN\" > 15 minutes and 0 if less\n",
    "    \"CRS_DEPART_DIFF\": Difference in minutes between current and previous departure time in minutes\n",
    "    \"\"\"\n",
    "\n",
    "    df = df.withColumn(\"DEP_DEL15\", F.greatest(col(\"DEP_DEL15\"), col(\"CANCELLED\")))\n",
    "\n",
    "    # Convert the military time to a time string\n",
    "    df = df.withColumn(\"MOD_DEP_TIME\", lpad(col(\"CRS_DEP_TIME\").cast(\"string\"), 4, \"0\"))\n",
    "    df = df.withColumn(\"MOD_DEP_TIME\", concat_ws(\":\", df.MOD_DEP_TIME.substr(1, 2), df.MOD_DEP_TIME.substr(3, 2)))\n",
    "\n",
    "    # Combine the date column with the time string to create a datetime string\n",
    "    df = df.withColumn(\"MOD_DATE_TIME\", concat_ws(\" \", col(\"FL_DATE\").cast(\"string\").substr(0, 10),  col(\"MOD_DEP_TIME\")))\n",
    "\n",
    "    # Convert the datetime string to a timestamp\n",
    "    df = df.withColumn(\"MOD_TIMESTAMP\", unix_timestamp(col(\"MOD_DATE_TIME\"), \"yyyy-MM-dd HH:mm\").cast(\"timestamp\"))\n",
    "\n",
    "    df = df.withColumn(\"DEL_TRUE_TS\", (unix_timestamp(col(\"MOD_TIMESTAMP\"),\"yyyy-MM-dd HH:mm\") + (col(\"DEP_DELAY\") * 60)).cast(\"timestamp\"))\n",
    "    df = df.withColumn(\"LEAKAGE_TS\", col(\"MOD_TIMESTAMP\") - F.expr(\"INTERVAL 2 HOURS\"))\n",
    "\n",
    "    ## all lagged values\n",
    "    window_spec = Window.partitionBy(\"TAIL_NUM\").orderBy(\"MOD_TIMESTAMP\")\n",
    "    df = df.withColumn(\"DEP_DEL15_LAG\", lag(\"DEP_DEL15\", 1).over(window_spec))\n",
    "    df = df.withColumn(\"DISTANCE_LAG\", lag(\"DISTANCE\", 1).over(window_spec))\n",
    "    df = df.withColumn(\"MOD_TIMESTAMP_LAG\", lag(\"MOD_TIMESTAMP\", 1).over(window_spec))\n",
    "    df = df.withColumn(\"DEL_TRUE_TS_LAG\", lag(\"DEL_TRUE_TS\", 1).over(window_spec))\n",
    "\n",
    "    \n",
    "    df = df.withColumn(\"CRS_DEPART_DIFF\",F.round((unix_timestamp(col(\"MOD_TIMESTAMP\")) - unix_timestamp(col(\"MOD_TIMESTAMP_LAG\"))) / 60.0))\n",
    "    df = df.withColumn(\"REALIZED_DEL_TS\", F.least(col(\"DEL_TRUE_TS_LAG\"),col(\"LEAKAGE_TS\")))\n",
    "    df = df.withColumn(\"REALIZED_DELAY_MIN\", (unix_timestamp(col(\"REALIZED_DEL_TS\")) - unix_timestamp(col(\"MOD_TIMESTAMP_LAG\")))/60.0)\n",
    "\n",
    "    def realized_del15(leak_time, past_dep_time, past_DEP_DEL15):\n",
    "\n",
    "        if past_dep_time is None or past_DEP_DEL15 is None:\n",
    "            return 0\n",
    "        elif leak_time < past_dep_time + timedelta(minutes=15):\n",
    "            return 0\n",
    "        elif past_DEP_DEL15 == 1:        \n",
    "            return 1\n",
    "        else:\n",
    "            return 0\n",
    "        \n",
    "    realized_del15_udf = F.udf(realized_del15, IntegerType())\n",
    "\n",
    "    df = df.withColumn(\"REALIZED_DEL15\", realized_del15_udf(col(\"LEAKAGE_TS\"),col(\"MOD_TIMESTAMP_LAG\"), col(\"DEP_DEL15_LAG\")))\n",
    "\n",
    "    df = df.drop(\"MOD_DEP_TIME\", \"MOD_DATE_TIME\", \"MOD_TIMESTAMP\", \"DEL_TRUE_TS\", \"LEAKAGE_TS\", \"DEP_DEL15_LAG\", \"MOD_TIMESTAMP_LAG\", \"DEL_TRUE_TS_LAG\", \n",
    "                 \"CRS_DEPART_DIFF\", \"REALIZED_DEL_TS\")\n",
    "    return df #df.select(\"DISTANCE_LAG\",\"REALIZED_DELAY_MIN\",\"REALIZED_DEL15\")\n",
    "\n",
    "## Since this revolves around lagged data the first flight on each plane does not have any values\n",
    "## Suggestions DISTANCE_LAG: average of that plane (Tail Numbers) future distances (1 month in the future?) because that is know ahead of time\n",
    "## REALIZED_DELAY_MIN: average from that airport over the past day?"
   ]
  },
  {
   "cell_type": "code",
   "execution_count": 0,
   "metadata": {
    "application/vnd.databricks.v1+cell": {
     "cellMetadata": {
      "byteLimit": 2048000,
      "rowLimit": 10000
     },
     "inputWidgets": {},
     "nuid": "8ef4b894-6cc5-4f49-a0a2-a61d4de96c28",
     "showTitle": false,
     "title": ""
    }
   },
   "outputs": [],
   "source": [
    "df_delay_lag = flight_lag_transformation(df_delay)"
   ]
  },
  {
   "cell_type": "code",
   "execution_count": 0,
   "metadata": {
    "application/vnd.databricks.v1+cell": {
     "cellMetadata": {
      "byteLimit": 2048000,
      "rowLimit": 10000
     },
     "inputWidgets": {},
     "nuid": "f365a89c-cb24-4830-b430-66d37672143a",
     "showTitle": false,
     "title": ""
    }
   },
   "outputs": [
    {
     "output_type": "display_data",
     "data": {
      "text/html": [
       "<style scoped>\n",
       "  .table-result-container {\n",
       "    max-height: 300px;\n",
       "    overflow: auto;\n",
       "  }\n",
       "  table, th, td {\n",
       "    border: 1px solid black;\n",
       "    border-collapse: collapse;\n",
       "  }\n",
       "  th, td {\n",
       "    padding: 5px;\n",
       "  }\n",
       "  th {\n",
       "    text-align: left;\n",
       "  }\n",
       "</style><div class='table-result-container'><table class='table-result'><thead style='background-color: white'><tr><th>path</th><th>name</th><th>size</th><th>modificationTime</th></tr></thead><tbody><tr><td>wasbs://final-project-summer24-team3@summer2024team3.blob.core.windows.net/TP/_SUCCESS</td><td>_SUCCESS</td><td>0</td><td>1720561571000</td></tr><tr><td>wasbs://final-project-summer24-team3@summer2024team3.blob.core.windows.net/TP/_committed_1002670972388615845</td><td>_committed_1002670972388615845</td><td>625</td><td>1720560531000</td></tr><tr><td>wasbs://final-project-summer24-team3@summer2024team3.blob.core.windows.net/TP/_committed_5669257934384103852</td><td>_committed_5669257934384103852</td><td>221</td><td>1720561571000</td></tr><tr><td>wasbs://final-project-summer24-team3@summer2024team3.blob.core.windows.net/TP/_committed_6618439955609603938</td><td>_committed_6618439955609603938</td><td>419</td><td>1720561337000</td></tr><tr><td>wasbs://final-project-summer24-team3@summer2024team3.blob.core.windows.net/TP/_committed_9167039456723159873</td><td>_committed_9167039456723159873</td><td>318</td><td>1720559468000</td></tr><tr><td>wasbs://final-project-summer24-team3@summer2024team3.blob.core.windows.net/TP/_committed_vacuum825530481471543349</td><td>_committed_vacuum825530481471543349</td><td>95</td><td>1720561338000</td></tr><tr><td>wasbs://final-project-summer24-team3@summer2024team3.blob.core.windows.net/TP/_started_1002670972388615845</td><td>_started_1002670972388615845</td><td>0</td><td>1720560531000</td></tr><tr><td>wasbs://final-project-summer24-team3@summer2024team3.blob.core.windows.net/TP/_started_5669257934384103852</td><td>_started_5669257934384103852</td><td>0</td><td>1720561570000</td></tr><tr><td>wasbs://final-project-summer24-team3@summer2024team3.blob.core.windows.net/TP/_started_6618439955609603938</td><td>_started_6618439955609603938</td><td>0</td><td>1720561337000</td></tr><tr><td>wasbs://final-project-summer24-team3@summer2024team3.blob.core.windows.net/TP/df_1y_cleaned_transformed/</td><td>df_1y_cleaned_transformed/</td><td>0</td><td>1722046865000</td></tr><tr><td>wasbs://final-project-summer24-team3@summer2024team3.blob.core.windows.net/TP/flat-ui__data.csv</td><td>flat-ui__data.csv</td><td>5491822</td><td>1720877593000</td></tr><tr><td>wasbs://final-project-summer24-team3@summer2024team3.blob.core.windows.net/TP/flight_stations_weather_1y/</td><td>flight_stations_weather_1y/</td><td>0</td><td>1721986685000</td></tr><tr><td>wasbs://final-project-summer24-team3@summer2024team3.blob.core.windows.net/TP/flight_stations_weather_1y_cleaned/</td><td>flight_stations_weather_1y_cleaned/</td><td>0</td><td>1722318047000</td></tr><tr><td>wasbs://final-project-summer24-team3@summer2024team3.blob.core.windows.net/TP/flight_stations_weather_1y_cleaned2/</td><td>flight_stations_weather_1y_cleaned2/</td><td>0</td><td>1722328427000</td></tr><tr><td>wasbs://final-project-summer24-team3@summer2024team3.blob.core.windows.net/TP/flight_stations_weather_3m/</td><td>flight_stations_weather_3m/</td><td>0</td><td>1721983865000</td></tr><tr><td>wasbs://final-project-summer24-team3@summer2024team3.blob.core.windows.net/TP/flight_stations_weather_3m_cleaned/</td><td>flight_stations_weather_3m_cleaned/</td><td>0</td><td>1722317090000</td></tr><tr><td>wasbs://final-project-summer24-team3@summer2024team3.blob.core.windows.net/TP/flight_stations_weather_3m_cleaned2/</td><td>flight_stations_weather_3m_cleaned2/</td><td>0</td><td>1722329466000</td></tr><tr><td>wasbs://final-project-summer24-team3@summer2024team3.blob.core.windows.net/TP/flight_stations_weather_all/</td><td>flight_stations_weather_all/</td><td>0</td><td>1721990625000</td></tr><tr><td>wasbs://final-project-summer24-team3@summer2024team3.blob.core.windows.net/TP/flight_stations_weather_all_cleaned/</td><td>flight_stations_weather_all_cleaned/</td><td>0</td><td>1722328073000</td></tr><tr><td>wasbs://final-project-summer24-team3@summer2024team3.blob.core.windows.net/TP/flight_stations_weather_all_cleaned2/</td><td>flight_stations_weather_all_cleaned2/</td><td>0</td><td>1722329220000</td></tr><tr><td>wasbs://final-project-summer24-team3@summer2024team3.blob.core.windows.net/TP/lr_data/</td><td>lr_data/</td><td>0</td><td>1721720411000</td></tr><tr><td>wasbs://final-project-summer24-team3@summer2024team3.blob.core.windows.net/TP/mlpipe.png</td><td>mlpipe.png</td><td>44394</td><td>1720753556000</td></tr><tr><td>wasbs://final-project-summer24-team3@summer2024team3.blob.core.windows.net/TP/part-00000-tid-5669257934384103852-091b7fb5-c969-4ffb-8606-1028f66fa60c-49-1-c000.snappy.parquet</td><td>part-00000-tid-5669257934384103852-091b7fb5-c969-4ffb-8606-1028f66fa60c-49-1-c000.snappy.parquet</td><td>14493</td><td>1720561571000</td></tr></tbody></table></div>"
      ]
     },
     "metadata": {
      "application/vnd.databricks.v1+output": {
       "addedWidgets": {},
       "aggData": [],
       "aggError": "",
       "aggOverflow": false,
       "aggSchema": [],
       "aggSeriesLimitReached": false,
       "aggType": "",
       "arguments": {},
       "columnCustomDisplayInfos": {},
       "data": [
        [
         "wasbs://final-project-summer24-team3@summer2024team3.blob.core.windows.net/TP/_SUCCESS",
         "_SUCCESS",
         0,
         1720561571000
        ],
        [
         "wasbs://final-project-summer24-team3@summer2024team3.blob.core.windows.net/TP/_committed_1002670972388615845",
         "_committed_1002670972388615845",
         625,
         1720560531000
        ],
        [
         "wasbs://final-project-summer24-team3@summer2024team3.blob.core.windows.net/TP/_committed_5669257934384103852",
         "_committed_5669257934384103852",
         221,
         1720561571000
        ],
        [
         "wasbs://final-project-summer24-team3@summer2024team3.blob.core.windows.net/TP/_committed_6618439955609603938",
         "_committed_6618439955609603938",
         419,
         1720561337000
        ],
        [
         "wasbs://final-project-summer24-team3@summer2024team3.blob.core.windows.net/TP/_committed_9167039456723159873",
         "_committed_9167039456723159873",
         318,
         1720559468000
        ],
        [
         "wasbs://final-project-summer24-team3@summer2024team3.blob.core.windows.net/TP/_committed_vacuum825530481471543349",
         "_committed_vacuum825530481471543349",
         95,
         1720561338000
        ],
        [
         "wasbs://final-project-summer24-team3@summer2024team3.blob.core.windows.net/TP/_started_1002670972388615845",
         "_started_1002670972388615845",
         0,
         1720560531000
        ],
        [
         "wasbs://final-project-summer24-team3@summer2024team3.blob.core.windows.net/TP/_started_5669257934384103852",
         "_started_5669257934384103852",
         0,
         1720561570000
        ],
        [
         "wasbs://final-project-summer24-team3@summer2024team3.blob.core.windows.net/TP/_started_6618439955609603938",
         "_started_6618439955609603938",
         0,
         1720561337000
        ],
        [
         "wasbs://final-project-summer24-team3@summer2024team3.blob.core.windows.net/TP/df_1y_cleaned_transformed/",
         "df_1y_cleaned_transformed/",
         0,
         1722046865000
        ],
        [
         "wasbs://final-project-summer24-team3@summer2024team3.blob.core.windows.net/TP/flat-ui__data.csv",
         "flat-ui__data.csv",
         5491822,
         1720877593000
        ],
        [
         "wasbs://final-project-summer24-team3@summer2024team3.blob.core.windows.net/TP/flight_stations_weather_1y/",
         "flight_stations_weather_1y/",
         0,
         1721986685000
        ],
        [
         "wasbs://final-project-summer24-team3@summer2024team3.blob.core.windows.net/TP/flight_stations_weather_1y_cleaned/",
         "flight_stations_weather_1y_cleaned/",
         0,
         1722318047000
        ],
        [
         "wasbs://final-project-summer24-team3@summer2024team3.blob.core.windows.net/TP/flight_stations_weather_1y_cleaned2/",
         "flight_stations_weather_1y_cleaned2/",
         0,
         1722328427000
        ],
        [
         "wasbs://final-project-summer24-team3@summer2024team3.blob.core.windows.net/TP/flight_stations_weather_3m/",
         "flight_stations_weather_3m/",
         0,
         1721983865000
        ],
        [
         "wasbs://final-project-summer24-team3@summer2024team3.blob.core.windows.net/TP/flight_stations_weather_3m_cleaned/",
         "flight_stations_weather_3m_cleaned/",
         0,
         1722317090000
        ],
        [
         "wasbs://final-project-summer24-team3@summer2024team3.blob.core.windows.net/TP/flight_stations_weather_3m_cleaned2/",
         "flight_stations_weather_3m_cleaned2/",
         0,
         1722329466000
        ],
        [
         "wasbs://final-project-summer24-team3@summer2024team3.blob.core.windows.net/TP/flight_stations_weather_all/",
         "flight_stations_weather_all/",
         0,
         1721990625000
        ],
        [
         "wasbs://final-project-summer24-team3@summer2024team3.blob.core.windows.net/TP/flight_stations_weather_all_cleaned/",
         "flight_stations_weather_all_cleaned/",
         0,
         1722328073000
        ],
        [
         "wasbs://final-project-summer24-team3@summer2024team3.blob.core.windows.net/TP/flight_stations_weather_all_cleaned2/",
         "flight_stations_weather_all_cleaned2/",
         0,
         1722329220000
        ],
        [
         "wasbs://final-project-summer24-team3@summer2024team3.blob.core.windows.net/TP/lr_data/",
         "lr_data/",
         0,
         1721720411000
        ],
        [
         "wasbs://final-project-summer24-team3@summer2024team3.blob.core.windows.net/TP/mlpipe.png",
         "mlpipe.png",
         44394,
         1720753556000
        ],
        [
         "wasbs://final-project-summer24-team3@summer2024team3.blob.core.windows.net/TP/part-00000-tid-5669257934384103852-091b7fb5-c969-4ffb-8606-1028f66fa60c-49-1-c000.snappy.parquet",
         "part-00000-tid-5669257934384103852-091b7fb5-c969-4ffb-8606-1028f66fa60c-49-1-c000.snappy.parquet",
         14493,
         1720561571000
        ]
       ],
       "datasetInfos": [],
       "dbfsResultPath": null,
       "isJsonSchema": true,
       "metadata": {},
       "overflow": false,
       "plotOptions": {
        "customPlotOptions": {},
        "displayType": "table",
        "pivotAggregation": null,
        "pivotColumns": null,
        "xColumns": null,
        "yColumns": null
       },
       "removedWidgets": [],
       "schema": [
        {
         "metadata": "{}",
         "name": "path",
         "type": "\"string\""
        },
        {
         "metadata": "{}",
         "name": "name",
         "type": "\"string\""
        },
        {
         "metadata": "{}",
         "name": "size",
         "type": "\"long\""
        },
        {
         "metadata": "{}",
         "name": "modificationTime",
         "type": "\"long\""
        }
       ],
       "type": "table"
      }
     },
     "output_type": "display_data"
    }
   ],
   "source": [
    "#Sort by expected departure date and time \n",
    "df_delay_lag.write.parquet(f\"{team_blob_url}/TP/flight_stations_weather_3m_cleaned2\")\n",
    "display(dbutils.fs.ls(f\"{team_blob_url}/TP\"))"
   ]
  }
 ],
 "metadata": {
  "application/vnd.databricks.v1+notebook": {
   "dashboards": [],
   "environmentMetadata": null,
   "language": "python",
   "notebookMetadata": {
    "pythonIndentUnit": 4
   },
   "notebookName": "Feature Engineering Phase 2",
   "widgets": {}
  }
 },
 "nbformat": 4,
 "nbformat_minor": 0
}
