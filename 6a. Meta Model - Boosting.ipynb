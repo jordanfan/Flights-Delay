{
 "cells": [
  {
   "cell_type": "code",
   "execution_count": 0,
   "metadata": {
    "application/vnd.databricks.v1+cell": {
     "cellMetadata": {
      "byteLimit": 2048000,
      "rowLimit": 10000
     },
     "inputWidgets": {},
     "nuid": "66c2287e-d007-4457-81b5-09b0c3b5605f",
     "showTitle": false,
     "title": ""
    }
   },
   "outputs": [],
   "source": [
    "## Place this cell in any team notebook that needs access to the team cloud storage.\n",
    "\n",
    "\n",
    "# The following blob storage is accessible to team members only (read and write)\n",
    "# access key is valid til TTL\n",
    "# after that you will need to create a new SAS key and authenticate access again via DataBrick command line\n",
    "blob_container  = \"final-project-summer24-team3\"       # The name of your container created in https://portal.azure.com\n",
    "storage_account = \"summer2024team3\"  # The name of your Storage account created in https://portal.azure.com\n",
    "secret_scope    = \"summer24_team_3_2_scope\"           # The name of the scope created in your local computer using the Databricks CLI\n",
    "secret_key      = \"final-project-summer24-team3\"             # The name of the secret key created in your local computer using the Databricks CLI\n",
    "team_blob_url   = f\"wasbs://{blob_container}@{storage_account}.blob.core.windows.net\"  #points to the root of your team storage bucket\n",
    "\n",
    "\n",
    "# the 261 course blob storage is mounted here.\n",
    "mids261_mount_path      = \"/mnt/mids-w261\"\n",
    "\n",
    "# SAS Token: Grant the team limited access to Azure Storage resources\n",
    "spark.conf.set(\n",
    "  f\"fs.azure.sas.{blob_container}.{storage_account}.blob.core.windows.net\",\n",
    "  dbutils.secrets.get(scope = secret_scope, key = secret_key)\n",
    ")"
   ]
  },
  {
   "cell_type": "code",
   "execution_count": 0,
   "metadata": {
    "application/vnd.databricks.v1+cell": {
     "cellMetadata": {
      "byteLimit": 2048000,
      "rowLimit": 10000
     },
     "inputWidgets": {},
     "nuid": "c383bc90-7f86-4ded-a5bb-7bad70b565a6",
     "showTitle": false,
     "title": ""
    }
   },
   "outputs": [],
   "source": [
    "from pyspark.sql.functions import col, concat_ws, lpad, expr, unix_timestamp, from_unixtime, when, count, lag, greatest, row_number,lit\n",
    "import pyspark.sql.functions as F\n",
    "from pyspark.sql.window import Window\n",
    "from pyspark.sql.types import IntegerType, StringType, DoubleType, FloatType, StructField, StructType\n",
    "from datetime import datetime, timedelta\n",
    "import numpy as np\n",
    "import pandas as pd\n",
    "import matplotlib.pyplot as plt\n",
    "import seaborn as sns\n",
    "import time as t\n",
    "from pyspark.ml.feature import Bucketizer, SQLTransformer, OneHotEncoder, StringIndexer, VectorAssembler\n",
    "from pyspark.ml.evaluation import BinaryClassificationEvaluator\n",
    "from pyspark.ml import Pipeline\n",
    "from itertools import chain\n",
    "from pyspark.mllib.evaluation import MulticlassMetrics\n",
    "from xgboost.spark import SparkXGBClassifier, SparkXGBRegressor"
   ]
  },
  {
   "cell_type": "markdown",
   "metadata": {
    "application/vnd.databricks.v1+cell": {
     "cellMetadata": {
      "byteLimit": 2048000,
      "rowLimit": 10000
     },
     "inputWidgets": {},
     "nuid": "63b01a5c-83c7-4669-9028-f76669b91387",
     "showTitle": false,
     "title": ""
    }
   },
   "source": [
    "## Load All DataFrames"
   ]
  },
  {
   "cell_type": "code",
   "execution_count": 0,
   "metadata": {
    "application/vnd.databricks.v1+cell": {
     "cellMetadata": {
      "byteLimit": 2048000,
      "rowLimit": 10000
     },
     "inputWidgets": {},
     "nuid": "3af4016d-5bd9-4302-8a5a-47f388bfaf35",
     "showTitle": false,
     "title": ""
    }
   },
   "outputs": [
    {
     "output_type": "display_data",
     "data": {
      "text/html": [
       "<style scoped>\n",
       "  .table-result-container {\n",
       "    max-height: 300px;\n",
       "    overflow: auto;\n",
       "  }\n",
       "  table, th, td {\n",
       "    border: 1px solid black;\n",
       "    border-collapse: collapse;\n",
       "  }\n",
       "  th, td {\n",
       "    padding: 5px;\n",
       "  }\n",
       "  th {\n",
       "    text-align: left;\n",
       "  }\n",
       "</style><div class='table-result-container'><table class='table-result'><thead style='background-color: white'><tr><th>path</th><th>name</th><th>size</th><th>modificationTime</th></tr></thead><tbody><tr><td>wasbs://final-project-summer24-team3@summer2024team3.blob.core.windows.net/TP/_SUCCESS</td><td>_SUCCESS</td><td>0</td><td>1720561571000</td></tr><tr><td>wasbs://final-project-summer24-team3@summer2024team3.blob.core.windows.net/TP/_committed_1002670972388615845</td><td>_committed_1002670972388615845</td><td>625</td><td>1720560531000</td></tr><tr><td>wasbs://final-project-summer24-team3@summer2024team3.blob.core.windows.net/TP/_committed_5669257934384103852</td><td>_committed_5669257934384103852</td><td>221</td><td>1720561571000</td></tr><tr><td>wasbs://final-project-summer24-team3@summer2024team3.blob.core.windows.net/TP/_committed_6618439955609603938</td><td>_committed_6618439955609603938</td><td>419</td><td>1720561337000</td></tr><tr><td>wasbs://final-project-summer24-team3@summer2024team3.blob.core.windows.net/TP/_committed_9167039456723159873</td><td>_committed_9167039456723159873</td><td>318</td><td>1720559468000</td></tr><tr><td>wasbs://final-project-summer24-team3@summer2024team3.blob.core.windows.net/TP/_committed_vacuum825530481471543349</td><td>_committed_vacuum825530481471543349</td><td>95</td><td>1720561338000</td></tr><tr><td>wasbs://final-project-summer24-team3@summer2024team3.blob.core.windows.net/TP/_started_1002670972388615845</td><td>_started_1002670972388615845</td><td>0</td><td>1720560531000</td></tr><tr><td>wasbs://final-project-summer24-team3@summer2024team3.blob.core.windows.net/TP/_started_5669257934384103852</td><td>_started_5669257934384103852</td><td>0</td><td>1720561570000</td></tr><tr><td>wasbs://final-project-summer24-team3@summer2024team3.blob.core.windows.net/TP/_started_6618439955609603938</td><td>_started_6618439955609603938</td><td>0</td><td>1720561337000</td></tr><tr><td>wasbs://final-project-summer24-team3@summer2024team3.blob.core.windows.net/TP/df_1y_cleaned_transformed/</td><td>df_1y_cleaned_transformed/</td><td>0</td><td>1722046865000</td></tr><tr><td>wasbs://final-project-summer24-team3@summer2024team3.blob.core.windows.net/TP/df_clean_transformed_ian/</td><td>df_clean_transformed_ian/</td><td>0</td><td>1722887351000</td></tr><tr><td>wasbs://final-project-summer24-team3@summer2024team3.blob.core.windows.net/TP/flat-ui__data.csv</td><td>flat-ui__data.csv</td><td>5491822</td><td>1720877593000</td></tr><tr><td>wasbs://final-project-summer24-team3@summer2024team3.blob.core.windows.net/TP/flight_stations_weather_1y/</td><td>flight_stations_weather_1y/</td><td>0</td><td>1721986685000</td></tr><tr><td>wasbs://final-project-summer24-team3@summer2024team3.blob.core.windows.net/TP/flight_stations_weather_1y_cleaned/</td><td>flight_stations_weather_1y_cleaned/</td><td>0</td><td>1722318047000</td></tr><tr><td>wasbs://final-project-summer24-team3@summer2024team3.blob.core.windows.net/TP/flight_stations_weather_1y_cleaned2/</td><td>flight_stations_weather_1y_cleaned2/</td><td>0</td><td>1722328427000</td></tr><tr><td>wasbs://final-project-summer24-team3@summer2024team3.blob.core.windows.net/TP/flight_stations_weather_1y_cleaned2DownSample1-1/</td><td>flight_stations_weather_1y_cleaned2DownSample1-1/</td><td>0</td><td>1722533565000</td></tr><tr><td>wasbs://final-project-summer24-team3@summer2024team3.blob.core.windows.net/TP/flight_stations_weather_1y_cleaned2DownSample2-1/</td><td>flight_stations_weather_1y_cleaned2DownSample2-1/</td><td>0</td><td>1722445568000</td></tr><tr><td>wasbs://final-project-summer24-team3@summer2024team3.blob.core.windows.net/TP/flight_stations_weather_1y_cleaned2DownSample3-1/</td><td>flight_stations_weather_1y_cleaned2DownSample3-1/</td><td>0</td><td>1722445041000</td></tr><tr><td>wasbs://final-project-summer24-team3@summer2024team3.blob.core.windows.net/TP/flight_stations_weather_3m/</td><td>flight_stations_weather_3m/</td><td>0</td><td>1721983865000</td></tr><tr><td>wasbs://final-project-summer24-team3@summer2024team3.blob.core.windows.net/TP/flight_stations_weather_3m_cleaned/</td><td>flight_stations_weather_3m_cleaned/</td><td>0</td><td>1722317090000</td></tr><tr><td>wasbs://final-project-summer24-team3@summer2024team3.blob.core.windows.net/TP/flight_stations_weather_3m_cleaned2/</td><td>flight_stations_weather_3m_cleaned2/</td><td>0</td><td>1722329466000</td></tr><tr><td>wasbs://final-project-summer24-team3@summer2024team3.blob.core.windows.net/TP/flight_stations_weather_3m_cleaned2DownSample2-1/</td><td>flight_stations_weather_3m_cleaned2DownSample2-1/</td><td>0</td><td>1722445594000</td></tr><tr><td>wasbs://final-project-summer24-team3@summer2024team3.blob.core.windows.net/TP/flight_stations_weather_3m_cleaned2DownSample3-1/</td><td>flight_stations_weather_3m_cleaned2DownSample3-1/</td><td>0</td><td>1722444939000</td></tr><tr><td>wasbs://final-project-summer24-team3@summer2024team3.blob.core.windows.net/TP/flight_stations_weather_3m_graphs/</td><td>flight_stations_weather_3m_graphs/</td><td>0</td><td>1722492863000</td></tr><tr><td>wasbs://final-project-summer24-team3@summer2024team3.blob.core.windows.net/TP/flight_stations_weather_all/</td><td>flight_stations_weather_all/</td><td>0</td><td>1721990625000</td></tr><tr><td>wasbs://final-project-summer24-team3@summer2024team3.blob.core.windows.net/TP/flight_stations_weather_all_cleaned/</td><td>flight_stations_weather_all_cleaned/</td><td>0</td><td>1722328073000</td></tr><tr><td>wasbs://final-project-summer24-team3@summer2024team3.blob.core.windows.net/TP/flight_stations_weather_all_cleaned2/</td><td>flight_stations_weather_all_cleaned2/</td><td>0</td><td>1722329220000</td></tr><tr><td>wasbs://final-project-summer24-team3@summer2024team3.blob.core.windows.net/TP/flight_stations_weather_all_cleaned2DownSample2-1/</td><td>flight_stations_weather_all_cleaned2DownSample2-1/</td><td>0</td><td>1722445509000</td></tr><tr><td>wasbs://final-project-summer24-team3@summer2024team3.blob.core.windows.net/TP/flight_stations_weather_all_cleaned2DownSample3-1/</td><td>flight_stations_weather_all_cleaned2DownSample3-1/</td><td>0</td><td>1722445240000</td></tr><tr><td>wasbs://final-project-summer24-team3@summer2024team3.blob.core.windows.net/TP/flight_stations_weather_all_cleaned3/</td><td>flight_stations_weather_all_cleaned3/</td><td>0</td><td>1722596532000</td></tr><tr><td>wasbs://final-project-summer24-team3@summer2024team3.blob.core.windows.net/TP/logbaseline_0.03_probabilities_2018_2019/</td><td>logbaseline_0.03_probabilities_2018_2019/</td><td>0</td><td>1722882689000</td></tr><tr><td>wasbs://final-project-summer24-team3@summer2024team3.blob.core.windows.net/TP/logbaseline_probabilities_2018_2019/</td><td>logbaseline_probabilities_2018_2019/</td><td>0</td><td>1722842525000</td></tr><tr><td>wasbs://final-project-summer24-team3@summer2024team3.blob.core.windows.net/TP/lr_data/</td><td>lr_data/</td><td>0</td><td>1721720411000</td></tr><tr><td>wasbs://final-project-summer24-team3@summer2024team3.blob.core.windows.net/TP/mlpipe.png</td><td>mlpipe.png</td><td>44394</td><td>1720753556000</td></tr><tr><td>wasbs://final-project-summer24-team3@summer2024team3.blob.core.windows.net/TP/nn_model1/</td><td>nn_model1/</td><td>0</td><td>1722819918000</td></tr><tr><td>wasbs://final-project-summer24-team3@summer2024team3.blob.core.windows.net/TP/nn_model2/</td><td>nn_model2/</td><td>0</td><td>1722819888000</td></tr><tr><td>wasbs://final-project-summer24-team3@summer2024team3.blob.core.windows.net/TP/nn_model3/</td><td>nn_model3/</td><td>0</td><td>1722819879000</td></tr><tr><td>wasbs://final-project-summer24-team3@summer2024team3.blob.core.windows.net/TP/nn_model4/</td><td>nn_model4/</td><td>0</td><td>1722819872000</td></tr><tr><td>wasbs://final-project-summer24-team3@summer2024team3.blob.core.windows.net/TP/nn_model5/</td><td>nn_model5/</td><td>0</td><td>1722819813000</td></tr><tr><td>wasbs://final-project-summer24-team3@summer2024team3.blob.core.windows.net/TP/nn_preds_test1/</td><td>nn_preds_test1/</td><td>0</td><td>1722721986000</td></tr><tr><td>wasbs://final-project-summer24-team3@summer2024team3.blob.core.windows.net/TP/nn_preds_test2/</td><td>nn_preds_test2/</td><td>0</td><td>1722771326000</td></tr><tr><td>wasbs://final-project-summer24-team3@summer2024team3.blob.core.windows.net/TP/nn_preds_test3/</td><td>nn_preds_test3/</td><td>0</td><td>1722778571000</td></tr><tr><td>wasbs://final-project-summer24-team3@summer2024team3.blob.core.windows.net/TP/nn_preds_test4/</td><td>nn_preds_test4/</td><td>0</td><td>1722791190000</td></tr><tr><td>wasbs://final-project-summer24-team3@summer2024team3.blob.core.windows.net/TP/nn_preds_test5/</td><td>nn_preds_test5/</td><td>0</td><td>1722818460000</td></tr><tr><td>wasbs://final-project-summer24-team3@summer2024team3.blob.core.windows.net/TP/nn_preds_val1/</td><td>nn_preds_val1/</td><td>0</td><td>1722721834000</td></tr><tr><td>wasbs://final-project-summer24-team3@summer2024team3.blob.core.windows.net/TP/nn_preds_val2/</td><td>nn_preds_val2/</td><td>0</td><td>1722771147000</td></tr><tr><td>wasbs://final-project-summer24-team3@summer2024team3.blob.core.windows.net/TP/nn_preds_val3/</td><td>nn_preds_val3/</td><td>0</td><td>1722778422000</td></tr><tr><td>wasbs://final-project-summer24-team3@summer2024team3.blob.core.windows.net/TP/nn_preds_val4/</td><td>nn_preds_val4/</td><td>0</td><td>1722790886000</td></tr><tr><td>wasbs://final-project-summer24-team3@summer2024team3.blob.core.windows.net/TP/nn_preds_val5/</td><td>nn_preds_val5/</td><td>0</td><td>1722818080000</td></tr><tr><td>wasbs://final-project-summer24-team3@summer2024team3.blob.core.windows.net/TP/part-00000-tid-5669257934384103852-091b7fb5-c969-4ffb-8606-1028f66fa60c-49-1-c000.snappy.parquet</td><td>part-00000-tid-5669257934384103852-091b7fb5-c969-4ffb-8606-1028f66fa60c-49-1-c000.snappy.parquet</td><td>14493</td><td>1720561571000</td></tr><tr><td>wasbs://final-project-summer24-team3@summer2024team3.blob.core.windows.net/TP/sham_cp/</td><td>sham_cp/</td><td>0</td><td>1722965113000</td></tr><tr><td>wasbs://final-project-summer24-team3@summer2024team3.blob.core.windows.net/TP/xgboost_10_1_1/</td><td>xgboost_10_1_1/</td><td>0</td><td>1722923230000</td></tr><tr><td>wasbs://final-project-summer24-team3@summer2024team3.blob.core.windows.net/TP/xgboost_fbeta_recall/</td><td>xgboost_fbeta_recall/</td><td>0</td><td>1722923744000</td></tr><tr><td>wasbs://final-project-summer24-team3@summer2024team3.blob.core.windows.net/TP/xgboost_param_tuning/</td><td>xgboost_param_tuning/</td><td>0</td><td>1722896255000</td></tr><tr><td>wasbs://final-project-summer24-team3@summer2024team3.blob.core.windows.net/TP/xgboost_precision/</td><td>xgboost_precision/</td><td>0</td><td>1722924069000</td></tr></tbody></table></div>"
      ]
     },
     "metadata": {
      "application/vnd.databricks.v1+output": {
       "addedWidgets": {},
       "aggData": [],
       "aggError": "",
       "aggOverflow": false,
       "aggSchema": [],
       "aggSeriesLimitReached": false,
       "aggType": "",
       "arguments": {},
       "columnCustomDisplayInfos": {},
       "data": [
        [
         "wasbs://final-project-summer24-team3@summer2024team3.blob.core.windows.net/TP/_SUCCESS",
         "_SUCCESS",
         0,
         1720561571000
        ],
        [
         "wasbs://final-project-summer24-team3@summer2024team3.blob.core.windows.net/TP/_committed_1002670972388615845",
         "_committed_1002670972388615845",
         625,
         1720560531000
        ],
        [
         "wasbs://final-project-summer24-team3@summer2024team3.blob.core.windows.net/TP/_committed_5669257934384103852",
         "_committed_5669257934384103852",
         221,
         1720561571000
        ],
        [
         "wasbs://final-project-summer24-team3@summer2024team3.blob.core.windows.net/TP/_committed_6618439955609603938",
         "_committed_6618439955609603938",
         419,
         1720561337000
        ],
        [
         "wasbs://final-project-summer24-team3@summer2024team3.blob.core.windows.net/TP/_committed_9167039456723159873",
         "_committed_9167039456723159873",
         318,
         1720559468000
        ],
        [
         "wasbs://final-project-summer24-team3@summer2024team3.blob.core.windows.net/TP/_committed_vacuum825530481471543349",
         "_committed_vacuum825530481471543349",
         95,
         1720561338000
        ],
        [
         "wasbs://final-project-summer24-team3@summer2024team3.blob.core.windows.net/TP/_started_1002670972388615845",
         "_started_1002670972388615845",
         0,
         1720560531000
        ],
        [
         "wasbs://final-project-summer24-team3@summer2024team3.blob.core.windows.net/TP/_started_5669257934384103852",
         "_started_5669257934384103852",
         0,
         1720561570000
        ],
        [
         "wasbs://final-project-summer24-team3@summer2024team3.blob.core.windows.net/TP/_started_6618439955609603938",
         "_started_6618439955609603938",
         0,
         1720561337000
        ],
        [
         "wasbs://final-project-summer24-team3@summer2024team3.blob.core.windows.net/TP/df_1y_cleaned_transformed/",
         "df_1y_cleaned_transformed/",
         0,
         1722046865000
        ],
        [
         "wasbs://final-project-summer24-team3@summer2024team3.blob.core.windows.net/TP/df_clean_transformed_ian/",
         "df_clean_transformed_ian/",
         0,
         1722887351000
        ],
        [
         "wasbs://final-project-summer24-team3@summer2024team3.blob.core.windows.net/TP/flat-ui__data.csv",
         "flat-ui__data.csv",
         5491822,
         1720877593000
        ],
        [
         "wasbs://final-project-summer24-team3@summer2024team3.blob.core.windows.net/TP/flight_stations_weather_1y/",
         "flight_stations_weather_1y/",
         0,
         1721986685000
        ],
        [
         "wasbs://final-project-summer24-team3@summer2024team3.blob.core.windows.net/TP/flight_stations_weather_1y_cleaned/",
         "flight_stations_weather_1y_cleaned/",
         0,
         1722318047000
        ],
        [
         "wasbs://final-project-summer24-team3@summer2024team3.blob.core.windows.net/TP/flight_stations_weather_1y_cleaned2/",
         "flight_stations_weather_1y_cleaned2/",
         0,
         1722328427000
        ],
        [
         "wasbs://final-project-summer24-team3@summer2024team3.blob.core.windows.net/TP/flight_stations_weather_1y_cleaned2DownSample1-1/",
         "flight_stations_weather_1y_cleaned2DownSample1-1/",
         0,
         1722533565000
        ],
        [
         "wasbs://final-project-summer24-team3@summer2024team3.blob.core.windows.net/TP/flight_stations_weather_1y_cleaned2DownSample2-1/",
         "flight_stations_weather_1y_cleaned2DownSample2-1/",
         0,
         1722445568000
        ],
        [
         "wasbs://final-project-summer24-team3@summer2024team3.blob.core.windows.net/TP/flight_stations_weather_1y_cleaned2DownSample3-1/",
         "flight_stations_weather_1y_cleaned2DownSample3-1/",
         0,
         1722445041000
        ],
        [
         "wasbs://final-project-summer24-team3@summer2024team3.blob.core.windows.net/TP/flight_stations_weather_3m/",
         "flight_stations_weather_3m/",
         0,
         1721983865000
        ],
        [
         "wasbs://final-project-summer24-team3@summer2024team3.blob.core.windows.net/TP/flight_stations_weather_3m_cleaned/",
         "flight_stations_weather_3m_cleaned/",
         0,
         1722317090000
        ],
        [
         "wasbs://final-project-summer24-team3@summer2024team3.blob.core.windows.net/TP/flight_stations_weather_3m_cleaned2/",
         "flight_stations_weather_3m_cleaned2/",
         0,
         1722329466000
        ],
        [
         "wasbs://final-project-summer24-team3@summer2024team3.blob.core.windows.net/TP/flight_stations_weather_3m_cleaned2DownSample2-1/",
         "flight_stations_weather_3m_cleaned2DownSample2-1/",
         0,
         1722445594000
        ],
        [
         "wasbs://final-project-summer24-team3@summer2024team3.blob.core.windows.net/TP/flight_stations_weather_3m_cleaned2DownSample3-1/",
         "flight_stations_weather_3m_cleaned2DownSample3-1/",
         0,
         1722444939000
        ],
        [
         "wasbs://final-project-summer24-team3@summer2024team3.blob.core.windows.net/TP/flight_stations_weather_3m_graphs/",
         "flight_stations_weather_3m_graphs/",
         0,
         1722492863000
        ],
        [
         "wasbs://final-project-summer24-team3@summer2024team3.blob.core.windows.net/TP/flight_stations_weather_all/",
         "flight_stations_weather_all/",
         0,
         1721990625000
        ],
        [
         "wasbs://final-project-summer24-team3@summer2024team3.blob.core.windows.net/TP/flight_stations_weather_all_cleaned/",
         "flight_stations_weather_all_cleaned/",
         0,
         1722328073000
        ],
        [
         "wasbs://final-project-summer24-team3@summer2024team3.blob.core.windows.net/TP/flight_stations_weather_all_cleaned2/",
         "flight_stations_weather_all_cleaned2/",
         0,
         1722329220000
        ],
        [
         "wasbs://final-project-summer24-team3@summer2024team3.blob.core.windows.net/TP/flight_stations_weather_all_cleaned2DownSample2-1/",
         "flight_stations_weather_all_cleaned2DownSample2-1/",
         0,
         1722445509000
        ],
        [
         "wasbs://final-project-summer24-team3@summer2024team3.blob.core.windows.net/TP/flight_stations_weather_all_cleaned2DownSample3-1/",
         "flight_stations_weather_all_cleaned2DownSample3-1/",
         0,
         1722445240000
        ],
        [
         "wasbs://final-project-summer24-team3@summer2024team3.blob.core.windows.net/TP/flight_stations_weather_all_cleaned3/",
         "flight_stations_weather_all_cleaned3/",
         0,
         1722596532000
        ],
        [
         "wasbs://final-project-summer24-team3@summer2024team3.blob.core.windows.net/TP/logbaseline_0.03_probabilities_2018_2019/",
         "logbaseline_0.03_probabilities_2018_2019/",
         0,
         1722882689000
        ],
        [
         "wasbs://final-project-summer24-team3@summer2024team3.blob.core.windows.net/TP/logbaseline_probabilities_2018_2019/",
         "logbaseline_probabilities_2018_2019/",
         0,
         1722842525000
        ],
        [
         "wasbs://final-project-summer24-team3@summer2024team3.blob.core.windows.net/TP/lr_data/",
         "lr_data/",
         0,
         1721720411000
        ],
        [
         "wasbs://final-project-summer24-team3@summer2024team3.blob.core.windows.net/TP/mlpipe.png",
         "mlpipe.png",
         44394,
         1720753556000
        ],
        [
         "wasbs://final-project-summer24-team3@summer2024team3.blob.core.windows.net/TP/nn_model1/",
         "nn_model1/",
         0,
         1722819918000
        ],
        [
         "wasbs://final-project-summer24-team3@summer2024team3.blob.core.windows.net/TP/nn_model2/",
         "nn_model2/",
         0,
         1722819888000
        ],
        [
         "wasbs://final-project-summer24-team3@summer2024team3.blob.core.windows.net/TP/nn_model3/",
         "nn_model3/",
         0,
         1722819879000
        ],
        [
         "wasbs://final-project-summer24-team3@summer2024team3.blob.core.windows.net/TP/nn_model4/",
         "nn_model4/",
         0,
         1722819872000
        ],
        [
         "wasbs://final-project-summer24-team3@summer2024team3.blob.core.windows.net/TP/nn_model5/",
         "nn_model5/",
         0,
         1722819813000
        ],
        [
         "wasbs://final-project-summer24-team3@summer2024team3.blob.core.windows.net/TP/nn_preds_test1/",
         "nn_preds_test1/",
         0,
         1722721986000
        ],
        [
         "wasbs://final-project-summer24-team3@summer2024team3.blob.core.windows.net/TP/nn_preds_test2/",
         "nn_preds_test2/",
         0,
         1722771326000
        ],
        [
         "wasbs://final-project-summer24-team3@summer2024team3.blob.core.windows.net/TP/nn_preds_test3/",
         "nn_preds_test3/",
         0,
         1722778571000
        ],
        [
         "wasbs://final-project-summer24-team3@summer2024team3.blob.core.windows.net/TP/nn_preds_test4/",
         "nn_preds_test4/",
         0,
         1722791190000
        ],
        [
         "wasbs://final-project-summer24-team3@summer2024team3.blob.core.windows.net/TP/nn_preds_test5/",
         "nn_preds_test5/",
         0,
         1722818460000
        ],
        [
         "wasbs://final-project-summer24-team3@summer2024team3.blob.core.windows.net/TP/nn_preds_val1/",
         "nn_preds_val1/",
         0,
         1722721834000
        ],
        [
         "wasbs://final-project-summer24-team3@summer2024team3.blob.core.windows.net/TP/nn_preds_val2/",
         "nn_preds_val2/",
         0,
         1722771147000
        ],
        [
         "wasbs://final-project-summer24-team3@summer2024team3.blob.core.windows.net/TP/nn_preds_val3/",
         "nn_preds_val3/",
         0,
         1722778422000
        ],
        [
         "wasbs://final-project-summer24-team3@summer2024team3.blob.core.windows.net/TP/nn_preds_val4/",
         "nn_preds_val4/",
         0,
         1722790886000
        ],
        [
         "wasbs://final-project-summer24-team3@summer2024team3.blob.core.windows.net/TP/nn_preds_val5/",
         "nn_preds_val5/",
         0,
         1722818080000
        ],
        [
         "wasbs://final-project-summer24-team3@summer2024team3.blob.core.windows.net/TP/part-00000-tid-5669257934384103852-091b7fb5-c969-4ffb-8606-1028f66fa60c-49-1-c000.snappy.parquet",
         "part-00000-tid-5669257934384103852-091b7fb5-c969-4ffb-8606-1028f66fa60c-49-1-c000.snappy.parquet",
         14493,
         1720561571000
        ],
        [
         "wasbs://final-project-summer24-team3@summer2024team3.blob.core.windows.net/TP/sham_cp/",
         "sham_cp/",
         0,
         1722965113000
        ],
        [
         "wasbs://final-project-summer24-team3@summer2024team3.blob.core.windows.net/TP/xgboost_10_1_1/",
         "xgboost_10_1_1/",
         0,
         1722923230000
        ],
        [
         "wasbs://final-project-summer24-team3@summer2024team3.blob.core.windows.net/TP/xgboost_fbeta_recall/",
         "xgboost_fbeta_recall/",
         0,
         1722923744000
        ],
        [
         "wasbs://final-project-summer24-team3@summer2024team3.blob.core.windows.net/TP/xgboost_param_tuning/",
         "xgboost_param_tuning/",
         0,
         1722896255000
        ],
        [
         "wasbs://final-project-summer24-team3@summer2024team3.blob.core.windows.net/TP/xgboost_precision/",
         "xgboost_precision/",
         0,
         1722924069000
        ]
       ],
       "datasetInfos": [],
       "dbfsResultPath": null,
       "isJsonSchema": true,
       "metadata": {},
       "overflow": false,
       "plotOptions": {
        "customPlotOptions": {},
        "displayType": "table",
        "pivotAggregation": null,
        "pivotColumns": null,
        "xColumns": null,
        "yColumns": null
       },
       "removedWidgets": [],
       "schema": [
        {
         "metadata": "{}",
         "name": "path",
         "type": "\"string\""
        },
        {
         "metadata": "{}",
         "name": "name",
         "type": "\"string\""
        },
        {
         "metadata": "{}",
         "name": "size",
         "type": "\"long\""
        },
        {
         "metadata": "{}",
         "name": "modificationTime",
         "type": "\"long\""
        }
       ],
       "type": "table"
      }
     },
     "output_type": "display_data"
    }
   ],
   "source": [
    "display(dbutils.fs.ls(f\"{team_blob_url}/TP/\"))"
   ]
  },
  {
   "cell_type": "code",
   "execution_count": 0,
   "metadata": {
    "application/vnd.databricks.v1+cell": {
     "cellMetadata": {
      "byteLimit": 2048000,
      "rowLimit": 10000
     },
     "inputWidgets": {},
     "nuid": "26b99e7c-5bb4-424b-9cd1-5a61ebaf21f4",
     "showTitle": false,
     "title": ""
    }
   },
   "outputs": [],
   "source": [
    "xgboost1011 = spark.read.parquet(f'{team_blob_url}/TP/xgboost_fbeta_recall')\n",
    "xgboost1066 = spark.read.parquet(f'{team_blob_url}/TP/xgboost_precision')\n",
    "log_base = spark.read.parquet(f'{team_blob_url}/TP/logbaseline_probabilities_2018_2019/')\n",
    "log_variant = spark.read.parquet(f'{team_blob_url}/TP/logbaseline_0.03_probabilities_2018_2019/')\n",
    "nnval2 = spark.read.parquet(f'{team_blob_url}/TP/nn_preds_val2')\n",
    "nnval5 = spark.read.parquet(f'{team_blob_url}/TP/nn_preds_val5')\n",
    "nntest2 = spark.read.parquet(f'{team_blob_url}/TP/nn_preds_test2')\n",
    "nntest5 = spark.read.parquet(f'{team_blob_url}/TP/nn_preds_test5')"
   ]
  },
  {
   "cell_type": "markdown",
   "metadata": {
    "application/vnd.databricks.v1+cell": {
     "cellMetadata": {
      "byteLimit": 2048000,
      "rowLimit": 10000
     },
     "inputWidgets": {},
     "nuid": "3adde5d6-fd1c-4dd8-b903-4d3ae80ccb82",
     "showTitle": false,
     "title": ""
    }
   },
   "source": [
    "## Create Train Data"
   ]
  },
  {
   "cell_type": "code",
   "execution_count": 0,
   "metadata": {
    "application/vnd.databricks.v1+cell": {
     "cellMetadata": {
      "byteLimit": 2048000,
      "rowLimit": 10000
     },
     "inputWidgets": {},
     "nuid": "50de8b51-bf7c-47ef-b7e8-5e6842e79580",
     "showTitle": false,
     "title": ""
    }
   },
   "outputs": [],
   "source": [
    "nnval2 = nnval2.withColumnRenamed(\"probability\", \"nnval2_prob\")\n",
    "merged_nn = nnval2.join(nnval5, \"index\", \"left\") \\\n",
    "    .select(\"index\", \"nnval2_prob\", F.col(\"probability\").alias(\"nnval5_prob\"))\n",
    "merged_log_base = merged_nn.join(log_base, \"index\", \"left\") \\\n",
    "    .select(\"index\", \"nnval2_prob\", \"nnval5_prob\", \n",
    "            F.col(\"DEP_DEL15\").alias(\"target\"), F.col(\"probability_1\").alias(\"log_base_prob\"), \"YEAR\")\n",
    "merged_log_all = merged_log_base.join(log_variant, \"index\", \"left\") \\\n",
    "    .select(\"index\", \"nnval2_prob\", \"nnval5_prob\", \"log_base_prob\",\n",
    "            F.col(\"probability_1\").alias(\"log_variant_prob\"), \"target\")\n",
    "merged_boost11 = merged_log_all.join(xgboost1011, \"index\", \"left\")\\\n",
    "    .select(\"index\", \"nnval2_prob\", \"nnval5_prob\", \"log_base_prob\", \"log_variant_prob\",\n",
    "            F.col(\"probability_1\").alias(\"xgboost1011_prob\"), \"target\")\n",
    "val_df = merged_boost11.join(xgboost1066, \"index\", \"left\")\\\n",
    "    .select(\"index\", \"nnval2_prob\", \"nnval5_prob\", \"log_base_prob\", \"log_variant_prob\", \"xgboost1011_prob\",\n",
    "            F.col(\"probability_1\").alias(\"xgboost1066_prob\"), \"target\")"
   ]
  },
  {
   "cell_type": "code",
   "execution_count": 0,
   "metadata": {
    "application/vnd.databricks.v1+cell": {
     "cellMetadata": {
      "byteLimit": 2048000,
      "rowLimit": 10000
     },
     "inputWidgets": {},
     "nuid": "b18e3866-8ff2-49a5-b00e-f961e5fde6dd",
     "showTitle": false,
     "title": ""
    }
   },
   "outputs": [
    {
     "output_type": "stream",
     "name": "stdout",
     "output_type": "stream",
     "text": [
      "Total number of rows: 3606364\n+-----+-----------+-----------+-------------+----------------+----------------+----------------+------+\n|index|nnval2_prob|nnval5_prob|log_base_prob|log_variant_prob|xgboost1011_prob|xgboost1066_prob|target|\n+-----+-----------+-----------+-------------+----------------+----------------+----------------+------+\n|    0|          0|          0|            0|               0|               0|               0|     0|\n+-----+-----------+-----------+-------------+----------------+----------------+----------------+------+\n\nNumber of rows with null values: 0\n"
     ]
    }
   ],
   "source": [
    "# CheckSum for the train dataset\n",
    "\n",
    "# Count total number of rows\n",
    "total_rows = val_df.count()\n",
    "print(f\"Total number of rows: {total_rows}\")\n",
    "\n",
    "# Check for null data in any column\n",
    "null_counts = val_df.select([F.sum(F.col(c).isNull().cast(\"int\")).alias(c) for c in val_df.columns])\n",
    "null_counts.show()\n",
    "\n",
    "# Count rows with any null value\n",
    "rows_with_nulls = val_df.filter(F.concat_ws(\"\", *val_df.columns).isNull()).count()\n",
    "print(f\"Number of rows with null values: {rows_with_nulls}\")"
   ]
  },
  {
   "cell_type": "markdown",
   "metadata": {
    "application/vnd.databricks.v1+cell": {
     "cellMetadata": {
      "byteLimit": 2048000,
      "rowLimit": 10000
     },
     "inputWidgets": {},
     "nuid": "27707d0d-be6e-477d-8c57-2a5e6d184ec5",
     "showTitle": false,
     "title": ""
    }
   },
   "source": [
    "### Transform Train Data"
   ]
  },
  {
   "cell_type": "code",
   "execution_count": 0,
   "metadata": {
    "application/vnd.databricks.v1+cell": {
     "cellMetadata": {
      "byteLimit": 2048000,
      "rowLimit": 10000
     },
     "inputWidgets": {},
     "nuid": "f8ab99a4-2441-425c-b464-70ef59066123",
     "showTitle": false,
     "title": ""
    }
   },
   "outputs": [
    {
     "output_type": "display_data",
     "data": {
      "application/vnd.jupyter.widget-view+json": {
       "model_id": "7ff7e1e1003c4e4c9e8852ecfbecc3c1",
       "version_major": 2,
       "version_minor": 0
      },
      "text/plain": [
       "Downloading artifacts:   0%|          | 0/10 [00:00<?, ?it/s]"
      ]
     },
     "metadata": {},
     "output_type": "display_data"
    },
    {
     "output_type": "display_data",
     "data": {
      "application/vnd.jupyter.widget-view+json": {
       "model_id": "6b96ad4a94f540e4acfd7684a66c8fae",
       "version_major": 2,
       "version_minor": 0
      },
      "text/plain": [
       "Uploading artifacts:   0%|          | 0/4 [00:00<?, ?it/s]"
      ]
     },
     "metadata": {},
     "output_type": "display_data"
    }
   ],
   "source": [
    "feature_columns = [\"nnval2_prob\", \"nnval5_prob\", \"log_base_prob\", \"log_variant_prob\", \"xgboost1011_prob\", \"xgboost1066_prob\"]\n",
    "assembler = VectorAssembler(\n",
    "    inputCols=[x for x in feature_columns],\n",
    "    outputCol=\"features\",\n",
    "    handleInvalid = \"skip\"\n",
    ")\n",
    "\n",
    "pipeline = Pipeline(stages=[assembler])\n",
    "val_trf = pipeline \\\n",
    "    .fit(val_df) \\\n",
    "    .transform(val_df) \\\n",
    "    .select(\"index\", \"features\", \"target\")"
   ]
  },
  {
   "cell_type": "markdown",
   "metadata": {
    "application/vnd.databricks.v1+cell": {
     "cellMetadata": {
      "byteLimit": 2048000,
      "rowLimit": 10000
     },
     "inputWidgets": {},
     "nuid": "95549632-b84d-41e8-b06f-0bc22cbaf5f7",
     "showTitle": false,
     "title": ""
    }
   },
   "source": [
    "## Helper Functions"
   ]
  },
  {
   "cell_type": "code",
   "execution_count": 0,
   "metadata": {
    "application/vnd.databricks.v1+cell": {
     "cellMetadata": {
      "byteLimit": 2048000,
      "rowLimit": 10000
     },
     "inputWidgets": {},
     "nuid": "3f5b399f-1c78-4af4-b688-1bdf93ff9733",
     "showTitle": false,
     "title": ""
    }
   },
   "outputs": [],
   "source": [
    "def block_splits(n_splits, df):\n",
    "    \"\"\"\n",
    "    Split DataFrame into blocks for cross-validation.\n",
    "\n",
    "    Args:\n",
    "    n_splits (int): Number of splits.\n",
    "    df (pyspark.sql.DataFrame): Input DataFrame.\n",
    "\n",
    "    Returns:\n",
    "    tuple: (blocks, df_with_row_num)\n",
    "        - blocks: List of [start, mid, stop] indices for each split.\n",
    "        - df_with_row_num: DataFrame with added row_num column.\n",
    "    \"\"\"\n",
    "    \n",
    "    \n",
    "    w = Window.orderBy(\"index\")\n",
    "    df_with_row_num = df.withColumn(\"row_num\", F.row_number().over(w))\n",
    "\n",
    "    n_samples = df.count()\n",
    "    k_fold_size = n_samples // n_splits\n",
    "\n",
    "    blocks = []\n",
    "    for i in range(n_splits):\n",
    "        start = i * k_fold_size + 1  # +1 because row_number starts at 1\n",
    "        stop = min(start + k_fold_size - 1, n_samples)  # Ensure we don't exceed n_samples\n",
    "        mid = int(0.8 * (stop - start)) + start\n",
    "\n",
    "        block = [start, mid, stop]\n",
    "        blocks.append(block)\n",
    "    # Add a row number column to the df and return the list of indexes and the new df\n",
    "    return blocks, df_with_row_num\n",
    "\n",
    "\n",
    "def evaluate_roc_curve(predictions, target_feature):\n",
    "    evaluator = BinaryClassificationEvaluator(labelCol=target_feature)\n",
    "    area_under_curve = evaluator.evaluate(predictions)\n",
    "    return area_under_curve\n",
    "\n",
    "\n",
    "def evaluate_multiclass_metrics(predictions, target_feature):\n",
    "    # Convert DataFrame to RDD\n",
    "    prediction_and_label = predictions\\\n",
    "                            .select([\"prediction\", target_feature])\\\n",
    "                            .withColumn(target_feature, col(target_feature).cast(FloatType()))\\\n",
    "                            .orderBy(target_feature)\n",
    "\n",
    "    # Create MulticlassMetrics object\n",
    "    metrics = MulticlassMetrics(prediction_and_label.rdd.map(tuple))\n",
    "\n",
    "    # Collect metrics\n",
    "    accuracy = metrics.accuracy\n",
    "    precision = metrics.precision(1.0)\n",
    "    recall = metrics.recall(1.0)\n",
    "    f1_measure = metrics.fMeasure(1.0)\n",
    "    \n",
    "    return accuracy, precision, recall, f1_measure"
   ]
  },
  {
   "cell_type": "code",
   "execution_count": 0,
   "metadata": {
    "application/vnd.databricks.v1+cell": {
     "cellMetadata": {
      "byteLimit": 2048000,
      "rowLimit": 10000
     },
     "inputWidgets": {},
     "nuid": "7de9a425-c16f-406b-821c-43d15d46ff5e",
     "showTitle": false,
     "title": ""
    }
   },
   "outputs": [],
   "source": [
    "# Cross Validation XG Boost for training\n",
    "def xgboost_cv(blocks, df, max_depth=3, subsample=0.5, colsample_bytree=0.5):\n",
    "\n",
    "    target_feature = \"target\"\n",
    "    acc, prec, rec, f1, fb, res_frame = [], [], [], [], [], []\n",
    "\n",
    "    error_flag = []\n",
    "\n",
    "\n",
    "    xgb_regressor = SparkXGBClassifier(\n",
    "        features_col=\"features\",\n",
    "        label_col=target_feature,\n",
    "        num_workers=2,\n",
    "        max_depth=max_depth,\n",
    "        subsample=subsample,\n",
    "        colsample_bytree=colsample_bytree\n",
    "        )\n",
    "\n",
    "\n",
    "    for block in blocks:\n",
    "        start_index, end_index, end_val = block\n",
    "\n",
    "        train_block = df.filter((col(\"row_num\") >= start_index) & (col(\"row_num\") < end_index))\n",
    "        val_block = df.filter((col(\"row_num\") >= end_index) & (col(\"row_num\") < end_val))\n",
    "\n",
    "        xgb_model = xgb_regressor.fit(train_block)\n",
    "\n",
    "        val_preds = xgb_model.transform(val_block)\n",
    "\n",
    "        \n",
    "\n",
    "        try:\n",
    "            res_frame.append(val_preds)#.select(['QUARTER','FL_DATE','CRS_DEP_TIME','DEP_DEL15', 'prediction']))\n",
    "\n",
    "            accuracy, precision, recall, f1_measure = evaluate_multiclass_metrics(val_preds, target_feature)\n",
    "            beta = 1/(2**0.5)\n",
    "            fbeta = (1 + beta**2) * (precision * recall) / ((beta**2 * precision) + recall)\n",
    "        \n",
    "            acc.append(accuracy)\n",
    "            prec.append(precision)\n",
    "            rec.append(recall)\n",
    "            f1.append(f1_measure)\n",
    "            fb.append(fbeta)\n",
    "            error_flag.append(0)\n",
    "        except:\n",
    "            res_frame.append(val_preds)\n",
    "            error_flag.append(1)\n",
    "            res_frame.append(-1)\n",
    "\n",
    "    def safe_mean(l):\n",
    "        if len(l) == 0:\n",
    "            return -1 \n",
    "        else:\n",
    "            return np.mean(l)\n",
    "            \n",
    "    avg_acc = safe_mean(acc)\n",
    "    avg_prec = safe_mean(prec)\n",
    "    avg_rec = safe_mean(rec)\n",
    "    avg_f1 = safe_mean(f1)\n",
    "    avg_fb = safe_mean(fb)\n",
    "\n",
    "    print(\"\\nParams for the Trial:\")\n",
    "    print(f\"Max_depth: {max_depth}, Subsample: {subsample}, Colsample_bytree: {colsample_bytree}\")\n",
    "\n",
    "    print(\"\\nAverage Metrics Across All Blocks:\")\n",
    "    print(f\"Accuracy: {avg_acc:.4f}\")\n",
    "    print(f\"Precision: {avg_prec:.4f}\")\n",
    "    print(f\"Recall: {avg_rec:.4f}\")\n",
    "    print(f\"F-Beta: {avg_fb:.4f}\")\n",
    "    print(f\"F1 Score: {avg_f1:.4f}\")\n",
    "    #print(f\"AUC: {avg_auc:.4f}\")\n",
    "\n",
    "    return {\n",
    "        'max_depth': max_depth,\n",
    "        'subsample': subsample,\n",
    "        'colsample_bytree': colsample_bytree,\n",
    "        'avg_accuracy': float(avg_acc),\n",
    "        'avg_precision': float(avg_prec),\n",
    "        'avg_recall': float(avg_rec),\n",
    "        'avg_f1': float(avg_f1),\n",
    "        'avg_f_beta': float(avg_fb)\n",
    "    }"
   ]
  },
  {
   "cell_type": "code",
   "execution_count": 0,
   "metadata": {
    "application/vnd.databricks.v1+cell": {
     "cellMetadata": {
      "byteLimit": 2048000,
      "rowLimit": 10000
     },
     "inputWidgets": {},
     "nuid": "2d2ec493-95d6-4753-a2d3-b283bbeed5ac",
     "showTitle": false,
     "title": ""
    }
   },
   "outputs": [],
   "source": [
    "# Single Data Pass Through XG Boost for training the best model\n",
    "# And evaluating the test dataset\n",
    "def xgboost_model(train_block, test_block, max_depth=3, subsample=0.5, colsample_bytree=0.5):\n",
    "\n",
    "    target_feature = \"target\"\n",
    "\n",
    "    xgb_regressor = SparkXGBClassifier(\n",
    "        features_col=\"features\",\n",
    "        label_col=target_feature,\n",
    "        num_workers=2,\n",
    "        max_depth=max_depth,\n",
    "        subsample=subsample,\n",
    "        colsample_bytree=colsample_bytree\n",
    "        )\n",
    "\n",
    "    xgb_model = xgb_regressor.fit(train_block)\n",
    "\n",
    "    test_preds = xgb_model.transform(test_block)   \n",
    "\n",
    "    try:\n",
    "        res_frame = test_preds\n",
    "\n",
    "        accuracy, precision, recall, f1_measure = evaluate_multiclass_metrics(test_preds, target_feature)\n",
    "        beta = 1/(2**0.5)\n",
    "        fbeta = (1 + beta**2) * (precision * recall) / ((beta**2 * precision) + recall)\n",
    "        error_flag = 0\n",
    "    except:\n",
    "        res_frame = test_preds\n",
    "        error_flag = 1\n",
    "        res_frame = -1\n",
    "\n",
    "    def safe_value(val):\n",
    "        if val is None:\n",
    "            return -1 \n",
    "        else:\n",
    "            return val\n",
    "        \n",
    "    accuracy = safe_value(accuracy)\n",
    "    recall = safe_value(recall)\n",
    "    precision = safe_value(precision)\n",
    "    f1_measure = safe_value(f1_measure)\n",
    "    fbeta = safe_value(fbeta)     \n",
    "\n",
    "    print(\"\\nParams for the Trial:\")\n",
    "    print(f\"Max_depth: {max_depth}, Subsample: {subsample}, Colsample_bytree: {colsample_bytree}\")\n",
    "\n",
    "    print(\"\\nAverage Metrics:\")\n",
    "    print(f\"Accuracy: {accuracy:.4f}\")\n",
    "    print(f\"Precision: {precision:.4f}\")\n",
    "    print(f\"Recall: {recall:.4f}\")\n",
    "    print(f\"F-Beta: {fbeta:.4f}\")\n",
    "    print(f\"F1 Score: {f1_measure:.4f}\")\n",
    "    #print(f\"AUC: {avg_auc:.4f}\")\n",
    "\n",
    "    return {\n",
    "        'max_depth': max_depth,\n",
    "        'subsample': subsample,\n",
    "        'colsample_bytree': colsample_bytree,\n",
    "        'avg_accuracy': float(accuracy),\n",
    "        'avg_precision': float(precision),\n",
    "        'avg_recall': float(recall),\n",
    "        'avg_f1': float(f1_measure),\n",
    "        'avg_f_beta': float(fbeta)\n",
    "    }"
   ]
  },
  {
   "cell_type": "markdown",
   "metadata": {
    "application/vnd.databricks.v1+cell": {
     "cellMetadata": {
      "byteLimit": 2048000,
      "rowLimit": 10000
     },
     "inputWidgets": {},
     "nuid": "4f03b585-0c51-4186-9f21-7723918a09f8",
     "showTitle": false,
     "title": ""
    }
   },
   "source": [
    "## Cross Validation Training"
   ]
  },
  {
   "cell_type": "code",
   "execution_count": 0,
   "metadata": {
    "application/vnd.databricks.v1+cell": {
     "cellMetadata": {
      "byteLimit": 2048000,
      "rowLimit": 10000
     },
     "inputWidgets": {},
     "nuid": "dc3d5dc1-4f60-4241-9c54-5964f6cd2782",
     "showTitle": false,
     "title": ""
    }
   },
   "outputs": [],
   "source": [
    "# Set up the Grid Search\n",
    "from itertools import product\n",
    "\n",
    "blocks, val_df_with_row_num = block_splits(3, val_trf)\n",
    "cv_results = []\n",
    "param_grid = {\n",
    "    'max_depth':[3,6,10],\n",
    "    'subsample':[0.5,0.75,1.0],\n",
    "    'colsample_bytree':[0.5,0.75,1.0]\n",
    "}\n",
    "keys, values = zip(*param_grid.items())\n",
    "all_combinations = [dict(zip(keys, combination)) for combination in product(*values)]"
   ]
  },
  {
   "cell_type": "code",
   "execution_count": 0,
   "metadata": {
    "application/vnd.databricks.v1+cell": {
     "cellMetadata": {
      "byteLimit": 2048000,
      "rowLimit": 10000
     },
     "inputWidgets": {},
     "nuid": "4b9b45a0-3e40-44a4-8e0e-de06da609cac",
     "showTitle": false,
     "title": ""
    }
   },
   "outputs": [
    {
     "output_type": "stream",
     "name": "stdout",
     "output_type": "stream",
     "text": [
      "current params: {'max_depth': 3, 'subsample': 0.5, 'colsample_bytree': 0.5}\n"
     ]
    },
    {
     "output_type": "stream",
     "name": "stderr",
     "output_type": "stream",
     "text": [
      "2024-08-07 15:28:18,518 INFO XGBoost-PySpark: _fit Running xgboost-2.0.3 on 2 workers with\n\tbooster params: {'objective': 'binary:logistic', 'colsample_bytree': 0.5, 'device': 'cpu', 'max_depth': 3, 'subsample': 0.5, 'nthread': 1}\n\ttrain_call_kwargs_params: {'verbose_eval': True, 'num_boost_round': 100}\n\tdmatrix_kwargs: {'nthread': 1, 'missing': nan}\n2024-08-07 15:28:40,627 INFO XGBoost-PySpark: _fit Finished xgboost training!\n/databricks/spark/python/pyspark/sql/context.py:164: FutureWarning: Deprecated in 3.0.0. Use SparkSession.builder.getOrCreate() instead.\n  warnings.warn(\n2024-08-07 15:29:48,631 INFO XGBoost-PySpark: _fit Running xgboost-2.0.3 on 2 workers with\n\tbooster params: {'objective': 'binary:logistic', 'colsample_bytree': 0.5, 'device': 'cpu', 'max_depth': 3, 'subsample': 0.5, 'nthread': 1}\n\ttrain_call_kwargs_params: {'verbose_eval': True, 'num_boost_round': 100}\n\tdmatrix_kwargs: {'nthread': 1, 'missing': nan}\n2024-08-07 15:30:04,193 INFO XGBoost-PySpark: _fit Finished xgboost training!\n/databricks/spark/python/pyspark/sql/context.py:164: FutureWarning: Deprecated in 3.0.0. Use SparkSession.builder.getOrCreate() instead.\n  warnings.warn(\n2024-08-07 15:30:41,848 INFO XGBoost-PySpark: _fit Running xgboost-2.0.3 on 2 workers with\n\tbooster params: {'objective': 'binary:logistic', 'colsample_bytree': 0.5, 'device': 'cpu', 'max_depth': 3, 'subsample': 0.5, 'nthread': 1}\n\ttrain_call_kwargs_params: {'verbose_eval': True, 'num_boost_round': 100}\n\tdmatrix_kwargs: {'nthread': 1, 'missing': nan}\n2024-08-07 15:30:56,558 INFO XGBoost-PySpark: _fit Finished xgboost training!\n"
     ]
    },
    {
     "output_type": "stream",
     "name": "stdout",
     "output_type": "stream",
     "text": [
      "\nParams for the Trial:\nMax_depth: 3, Subsample: 0.5, Colsample_bytree: 0.5\n\nAverage Metrics Across All Blocks:\nAccuracy: 0.7482\nPrecision: 0.7441\nRecall: 0.5461\nF-Beta: 0.6630\nF1 Score: 0.6291\ncurrent params: {'max_depth': 3, 'subsample': 0.5, 'colsample_bytree': 0.75}\n"
     ]
    },
    {
     "output_type": "stream",
     "name": "stderr",
     "output_type": "stream",
     "text": [
      "2024-08-07 15:31:39,084 INFO XGBoost-PySpark: _fit Running xgboost-2.0.3 on 2 workers with\n\tbooster params: {'objective': 'binary:logistic', 'colsample_bytree': 0.75, 'device': 'cpu', 'max_depth': 3, 'subsample': 0.5, 'nthread': 1}\n\ttrain_call_kwargs_params: {'verbose_eval': True, 'num_boost_round': 100}\n\tdmatrix_kwargs: {'nthread': 1, 'missing': nan}\n2024-08-07 15:31:49,233 INFO XGBoost-PySpark: _fit Finished xgboost training!\n2024-08-07 15:32:24,144 INFO XGBoost-PySpark: _fit Running xgboost-2.0.3 on 2 workers with\n\tbooster params: {'objective': 'binary:logistic', 'colsample_bytree': 0.75, 'device': 'cpu', 'max_depth': 3, 'subsample': 0.5, 'nthread': 1}\n\ttrain_call_kwargs_params: {'verbose_eval': True, 'num_boost_round': 100}\n\tdmatrix_kwargs: {'nthread': 1, 'missing': nan}\n2024-08-07 15:32:33,446 INFO XGBoost-PySpark: _fit Finished xgboost training!\n2024-08-07 15:33:40,219 INFO XGBoost-PySpark: _fit Running xgboost-2.0.3 on 2 workers with\n\tbooster params: {'objective': 'binary:logistic', 'colsample_bytree': 0.75, 'device': 'cpu', 'max_depth': 3, 'subsample': 0.5, 'nthread': 1}\n\ttrain_call_kwargs_params: {'verbose_eval': True, 'num_boost_round': 100}\n\tdmatrix_kwargs: {'nthread': 1, 'missing': nan}\n2024-08-07 15:33:50,183 INFO XGBoost-PySpark: _fit Finished xgboost training!\n"
     ]
    },
    {
     "output_type": "stream",
     "name": "stdout",
     "output_type": "stream",
     "text": [
      "\nParams for the Trial:\nMax_depth: 3, Subsample: 0.5, Colsample_bytree: 0.75\n\nAverage Metrics Across All Blocks:\nAccuracy: 0.7484\nPrecision: 0.7441\nRecall: 0.5469\nF-Beta: 0.6633\nF1 Score: 0.6296\ncurrent params: {'max_depth': 3, 'subsample': 0.5, 'colsample_bytree': 1.0}\n"
     ]
    },
    {
     "output_type": "stream",
     "name": "stderr",
     "output_type": "stream",
     "text": [
      "2024-08-07 15:34:43,712 INFO XGBoost-PySpark: _fit Running xgboost-2.0.3 on 2 workers with\n\tbooster params: {'objective': 'binary:logistic', 'colsample_bytree': 1.0, 'device': 'cpu', 'max_depth': 3, 'subsample': 0.5, 'nthread': 1}\n\ttrain_call_kwargs_params: {'verbose_eval': True, 'num_boost_round': 100}\n\tdmatrix_kwargs: {'nthread': 1, 'missing': nan}\n2024-08-07 15:35:03,743 INFO XGBoost-PySpark: _fit Finished xgboost training!\n2024-08-07 15:35:47,190 INFO XGBoost-PySpark: _fit Running xgboost-2.0.3 on 2 workers with\n\tbooster params: {'objective': 'binary:logistic', 'colsample_bytree': 1.0, 'device': 'cpu', 'max_depth': 3, 'subsample': 0.5, 'nthread': 1}\n\ttrain_call_kwargs_params: {'verbose_eval': True, 'num_boost_round': 100}\n\tdmatrix_kwargs: {'nthread': 1, 'missing': nan}\n2024-08-07 15:35:56,099 INFO XGBoost-PySpark: _fit Finished xgboost training!\n2024-08-07 15:36:37,509 INFO XGBoost-PySpark: _fit Running xgboost-2.0.3 on 2 workers with\n\tbooster params: {'objective': 'binary:logistic', 'colsample_bytree': 1.0, 'device': 'cpu', 'max_depth': 3, 'subsample': 0.5, 'nthread': 1}\n\ttrain_call_kwargs_params: {'verbose_eval': True, 'num_boost_round': 100}\n\tdmatrix_kwargs: {'nthread': 1, 'missing': nan}\n2024-08-07 15:36:48,155 INFO XGBoost-PySpark: _fit Finished xgboost training!\n"
     ]
    },
    {
     "output_type": "stream",
     "name": "stdout",
     "output_type": "stream",
     "text": [
      "\nParams for the Trial:\nMax_depth: 3, Subsample: 0.5, Colsample_bytree: 1.0\n\nAverage Metrics Across All Blocks:\nAccuracy: 0.7484\nPrecision: 0.7433\nRecall: 0.5479\nF-Beta: 0.6635\nF1 Score: 0.6300\ncurrent params: {'max_depth': 3, 'subsample': 0.75, 'colsample_bytree': 0.5}\n"
     ]
    },
    {
     "output_type": "stream",
     "name": "stderr",
     "output_type": "stream",
     "text": [
      "2024-08-07 15:37:25,710 INFO XGBoost-PySpark: _fit Running xgboost-2.0.3 on 2 workers with\n\tbooster params: {'objective': 'binary:logistic', 'colsample_bytree': 0.5, 'device': 'cpu', 'max_depth': 3, 'subsample': 0.75, 'nthread': 1}\n\ttrain_call_kwargs_params: {'verbose_eval': True, 'num_boost_round': 100}\n\tdmatrix_kwargs: {'nthread': 1, 'missing': nan}\n2024-08-07 15:37:34,514 INFO XGBoost-PySpark: _fit Finished xgboost training!\n2024-08-07 15:38:11,331 INFO XGBoost-PySpark: _fit Running xgboost-2.0.3 on 2 workers with\n\tbooster params: {'objective': 'binary:logistic', 'colsample_bytree': 0.5, 'device': 'cpu', 'max_depth': 3, 'subsample': 0.75, 'nthread': 1}\n\ttrain_call_kwargs_params: {'verbose_eval': True, 'num_boost_round': 100}\n\tdmatrix_kwargs: {'nthread': 1, 'missing': nan}\n2024-08-07 15:38:21,446 INFO XGBoost-PySpark: _fit Finished xgboost training!\n2024-08-07 15:38:57,180 INFO XGBoost-PySpark: _fit Running xgboost-2.0.3 on 2 workers with\n\tbooster params: {'objective': 'binary:logistic', 'colsample_bytree': 0.5, 'device': 'cpu', 'max_depth': 3, 'subsample': 0.75, 'nthread': 1}\n\ttrain_call_kwargs_params: {'verbose_eval': True, 'num_boost_round': 100}\n\tdmatrix_kwargs: {'nthread': 1, 'missing': nan}\n2024-08-07 15:39:05,757 INFO XGBoost-PySpark: _fit Finished xgboost training!\n"
     ]
    },
    {
     "output_type": "stream",
     "name": "stdout",
     "output_type": "stream",
     "text": [
      "\nParams for the Trial:\nMax_depth: 3, Subsample: 0.75, Colsample_bytree: 0.5\n\nAverage Metrics Across All Blocks:\nAccuracy: 0.7483\nPrecision: 0.7437\nRecall: 0.5471\nF-Beta: 0.6633\nF1 Score: 0.6296\ncurrent params: {'max_depth': 3, 'subsample': 0.75, 'colsample_bytree': 0.75}\n"
     ]
    },
    {
     "output_type": "stream",
     "name": "stderr",
     "output_type": "stream",
     "text": [
      "2024-08-07 15:39:43,869 INFO XGBoost-PySpark: _fit Running xgboost-2.0.3 on 2 workers with\n\tbooster params: {'objective': 'binary:logistic', 'colsample_bytree': 0.75, 'device': 'cpu', 'max_depth': 3, 'subsample': 0.75, 'nthread': 1}\n\ttrain_call_kwargs_params: {'verbose_eval': True, 'num_boost_round': 100}\n\tdmatrix_kwargs: {'nthread': 1, 'missing': nan}\n2024-08-07 15:39:53,540 INFO XGBoost-PySpark: _fit Finished xgboost training!\n2024-08-07 15:40:30,723 INFO XGBoost-PySpark: _fit Running xgboost-2.0.3 on 2 workers with\n\tbooster params: {'objective': 'binary:logistic', 'colsample_bytree': 0.75, 'device': 'cpu', 'max_depth': 3, 'subsample': 0.75, 'nthread': 1}\n\ttrain_call_kwargs_params: {'verbose_eval': True, 'num_boost_round': 100}\n\tdmatrix_kwargs: {'nthread': 1, 'missing': nan}\n2024-08-07 15:40:40,304 INFO XGBoost-PySpark: _fit Finished xgboost training!\n2024-08-07 15:41:16,958 INFO XGBoost-PySpark: _fit Running xgboost-2.0.3 on 2 workers with\n\tbooster params: {'objective': 'binary:logistic', 'colsample_bytree': 0.75, 'device': 'cpu', 'max_depth': 3, 'subsample': 0.75, 'nthread': 1}\n\ttrain_call_kwargs_params: {'verbose_eval': True, 'num_boost_round': 100}\n\tdmatrix_kwargs: {'nthread': 1, 'missing': nan}\n2024-08-07 15:41:26,868 INFO XGBoost-PySpark: _fit Finished xgboost training!\n"
     ]
    },
    {
     "output_type": "stream",
     "name": "stdout",
     "output_type": "stream",
     "text": [
      "\nParams for the Trial:\nMax_depth: 3, Subsample: 0.75, Colsample_bytree: 0.75\n\nAverage Metrics Across All Blocks:\nAccuracy: 0.7483\nPrecision: 0.7436\nRecall: 0.5473\nF-Beta: 0.6633\nF1 Score: 0.6297\ncurrent params: {'max_depth': 3, 'subsample': 0.75, 'colsample_bytree': 1.0}\n"
     ]
    },
    {
     "output_type": "stream",
     "name": "stderr",
     "output_type": "stream",
     "text": [
      "2024-08-07 15:42:02,206 INFO XGBoost-PySpark: _fit Running xgboost-2.0.3 on 2 workers with\n\tbooster params: {'objective': 'binary:logistic', 'colsample_bytree': 1.0, 'device': 'cpu', 'max_depth': 3, 'subsample': 0.75, 'nthread': 1}\n\ttrain_call_kwargs_params: {'verbose_eval': True, 'num_boost_round': 100}\n\tdmatrix_kwargs: {'nthread': 1, 'missing': nan}\n2024-08-07 15:42:11,277 INFO XGBoost-PySpark: _fit Finished xgboost training!\n2024-08-07 15:42:49,652 INFO XGBoost-PySpark: _fit Running xgboost-2.0.3 on 2 workers with\n\tbooster params: {'objective': 'binary:logistic', 'colsample_bytree': 1.0, 'device': 'cpu', 'max_depth': 3, 'subsample': 0.75, 'nthread': 1}\n\ttrain_call_kwargs_params: {'verbose_eval': True, 'num_boost_round': 100}\n\tdmatrix_kwargs: {'nthread': 1, 'missing': nan}\n2024-08-07 15:42:58,375 INFO XGBoost-PySpark: _fit Finished xgboost training!\n2024-08-07 15:43:35,120 INFO XGBoost-PySpark: _fit Running xgboost-2.0.3 on 2 workers with\n\tbooster params: {'objective': 'binary:logistic', 'colsample_bytree': 1.0, 'device': 'cpu', 'max_depth': 3, 'subsample': 0.75, 'nthread': 1}\n\ttrain_call_kwargs_params: {'verbose_eval': True, 'num_boost_round': 100}\n\tdmatrix_kwargs: {'nthread': 1, 'missing': nan}\n2024-08-07 15:43:43,896 INFO XGBoost-PySpark: _fit Finished xgboost training!\n"
     ]
    },
    {
     "output_type": "stream",
     "name": "stdout",
     "output_type": "stream",
     "text": [
      "\nParams for the Trial:\nMax_depth: 3, Subsample: 0.75, Colsample_bytree: 1.0\n\nAverage Metrics Across All Blocks:\nAccuracy: 0.7483\nPrecision: 0.7434\nRecall: 0.5476\nF-Beta: 0.6634\nF1 Score: 0.6298\ncurrent params: {'max_depth': 3, 'subsample': 1.0, 'colsample_bytree': 0.5}\n"
     ]
    },
    {
     "output_type": "stream",
     "name": "stderr",
     "output_type": "stream",
     "text": [
      "2024-08-07 15:44:22,286 INFO XGBoost-PySpark: _fit Running xgboost-2.0.3 on 2 workers with\n\tbooster params: {'objective': 'binary:logistic', 'colsample_bytree': 0.5, 'device': 'cpu', 'max_depth': 3, 'subsample': 1.0, 'nthread': 1}\n\ttrain_call_kwargs_params: {'verbose_eval': True, 'num_boost_round': 100}\n\tdmatrix_kwargs: {'nthread': 1, 'missing': nan}\n2024-08-07 15:44:31,703 INFO XGBoost-PySpark: _fit Finished xgboost training!\n2024-08-07 15:45:09,237 INFO XGBoost-PySpark: _fit Running xgboost-2.0.3 on 2 workers with\n\tbooster params: {'objective': 'binary:logistic', 'colsample_bytree': 0.5, 'device': 'cpu', 'max_depth': 3, 'subsample': 1.0, 'nthread': 1}\n\ttrain_call_kwargs_params: {'verbose_eval': True, 'num_boost_round': 100}\n\tdmatrix_kwargs: {'nthread': 1, 'missing': nan}\n2024-08-07 15:45:18,086 INFO XGBoost-PySpark: _fit Finished xgboost training!\n2024-08-07 15:45:55,810 INFO XGBoost-PySpark: _fit Running xgboost-2.0.3 on 2 workers with\n\tbooster params: {'objective': 'binary:logistic', 'colsample_bytree': 0.5, 'device': 'cpu', 'max_depth': 3, 'subsample': 1.0, 'nthread': 1}\n\ttrain_call_kwargs_params: {'verbose_eval': True, 'num_boost_round': 100}\n\tdmatrix_kwargs: {'nthread': 1, 'missing': nan}\n2024-08-07 15:46:04,338 INFO XGBoost-PySpark: _fit Finished xgboost training!\n"
     ]
    },
    {
     "output_type": "stream",
     "name": "stdout",
     "output_type": "stream",
     "text": [
      "\nParams for the Trial:\nMax_depth: 3, Subsample: 1.0, Colsample_bytree: 0.5\n\nAverage Metrics Across All Blocks:\nAccuracy: 0.7483\nPrecision: 0.7442\nRecall: 0.5464\nF-Beta: 0.6631\nF1 Score: 0.6293\ncurrent params: {'max_depth': 3, 'subsample': 1.0, 'colsample_bytree': 0.75}\n"
     ]
    },
    {
     "output_type": "stream",
     "name": "stderr",
     "output_type": "stream",
     "text": [
      "2024-08-07 15:46:41,161 INFO XGBoost-PySpark: _fit Running xgboost-2.0.3 on 2 workers with\n\tbooster params: {'objective': 'binary:logistic', 'colsample_bytree': 0.75, 'device': 'cpu', 'max_depth': 3, 'subsample': 1.0, 'nthread': 1}\n\ttrain_call_kwargs_params: {'verbose_eval': True, 'num_boost_round': 100}\n\tdmatrix_kwargs: {'nthread': 1, 'missing': nan}\n2024-08-07 15:46:49,418 INFO XGBoost-PySpark: _fit Finished xgboost training!\n2024-08-07 15:47:49,664 INFO XGBoost-PySpark: _fit Running xgboost-2.0.3 on 2 workers with\n\tbooster params: {'objective': 'binary:logistic', 'colsample_bytree': 0.75, 'device': 'cpu', 'max_depth': 3, 'subsample': 1.0, 'nthread': 1}\n\ttrain_call_kwargs_params: {'verbose_eval': True, 'num_boost_round': 100}\n\tdmatrix_kwargs: {'nthread': 1, 'missing': nan}\n2024-08-07 15:48:09,221 INFO XGBoost-PySpark: _fit Finished xgboost training!\n2024-08-07 15:49:04,569 INFO XGBoost-PySpark: _fit Running xgboost-2.0.3 on 2 workers with\n\tbooster params: {'objective': 'binary:logistic', 'colsample_bytree': 0.75, 'device': 'cpu', 'max_depth': 3, 'subsample': 1.0, 'nthread': 1}\n\ttrain_call_kwargs_params: {'verbose_eval': True, 'num_boost_round': 100}\n\tdmatrix_kwargs: {'nthread': 1, 'missing': nan}\n2024-08-07 15:49:14,245 INFO XGBoost-PySpark: _fit Finished xgboost training!\n"
     ]
    },
    {
     "output_type": "stream",
     "name": "stdout",
     "output_type": "stream",
     "text": [
      "\nParams for the Trial:\nMax_depth: 3, Subsample: 1.0, Colsample_bytree: 0.75\n\nAverage Metrics Across All Blocks:\nAccuracy: 0.7483\nPrecision: 0.7435\nRecall: 0.5474\nF-Beta: 0.6633\nF1 Score: 0.6297\ncurrent params: {'max_depth': 3, 'subsample': 1.0, 'colsample_bytree': 1.0}\n"
     ]
    },
    {
     "output_type": "stream",
     "name": "stderr",
     "output_type": "stream",
     "text": [
      "2024-08-07 15:49:53,074 INFO XGBoost-PySpark: _fit Running xgboost-2.0.3 on 2 workers with\n\tbooster params: {'objective': 'binary:logistic', 'colsample_bytree': 1.0, 'device': 'cpu', 'max_depth': 3, 'subsample': 1.0, 'nthread': 1}\n\ttrain_call_kwargs_params: {'verbose_eval': True, 'num_boost_round': 100}\n\tdmatrix_kwargs: {'nthread': 1, 'missing': nan}\n2024-08-07 15:50:02,624 INFO XGBoost-PySpark: _fit Finished xgboost training!\n2024-08-07 15:50:38,867 INFO XGBoost-PySpark: _fit Running xgboost-2.0.3 on 2 workers with\n\tbooster params: {'objective': 'binary:logistic', 'colsample_bytree': 1.0, 'device': 'cpu', 'max_depth': 3, 'subsample': 1.0, 'nthread': 1}\n\ttrain_call_kwargs_params: {'verbose_eval': True, 'num_boost_round': 100}\n\tdmatrix_kwargs: {'nthread': 1, 'missing': nan}\n2024-08-07 15:50:48,413 INFO XGBoost-PySpark: _fit Finished xgboost training!\n2024-08-07 15:51:22,984 INFO XGBoost-PySpark: _fit Running xgboost-2.0.3 on 2 workers with\n\tbooster params: {'objective': 'binary:logistic', 'colsample_bytree': 1.0, 'device': 'cpu', 'max_depth': 3, 'subsample': 1.0, 'nthread': 1}\n\ttrain_call_kwargs_params: {'verbose_eval': True, 'num_boost_round': 100}\n\tdmatrix_kwargs: {'nthread': 1, 'missing': nan}\n2024-08-07 15:51:31,365 INFO XGBoost-PySpark: _fit Finished xgboost training!\n"
     ]
    },
    {
     "output_type": "stream",
     "name": "stdout",
     "output_type": "stream",
     "text": [
      "\nParams for the Trial:\nMax_depth: 3, Subsample: 1.0, Colsample_bytree: 1.0\n\nAverage Metrics Across All Blocks:\nAccuracy: 0.7485\nPrecision: 0.7439\nRecall: 0.5474\nF-Beta: 0.6636\nF1 Score: 0.6300\ncurrent params: {'max_depth': 6, 'subsample': 0.5, 'colsample_bytree': 0.5}\n"
     ]
    },
    {
     "output_type": "stream",
     "name": "stderr",
     "output_type": "stream",
     "text": [
      "2024-08-07 15:52:08,654 INFO XGBoost-PySpark: _fit Running xgboost-2.0.3 on 2 workers with\n\tbooster params: {'objective': 'binary:logistic', 'colsample_bytree': 0.5, 'device': 'cpu', 'max_depth': 6, 'subsample': 0.5, 'nthread': 1}\n\ttrain_call_kwargs_params: {'verbose_eval': True, 'num_boost_round': 100}\n\tdmatrix_kwargs: {'nthread': 1, 'missing': nan}\n2024-08-07 15:52:19,113 INFO XGBoost-PySpark: _fit Finished xgboost training!\n2024-08-07 15:52:57,482 INFO XGBoost-PySpark: _fit Running xgboost-2.0.3 on 2 workers with\n\tbooster params: {'objective': 'binary:logistic', 'colsample_bytree': 0.5, 'device': 'cpu', 'max_depth': 6, 'subsample': 0.5, 'nthread': 1}\n\ttrain_call_kwargs_params: {'verbose_eval': True, 'num_boost_round': 100}\n\tdmatrix_kwargs: {'nthread': 1, 'missing': nan}\n2024-08-07 15:53:08,062 INFO XGBoost-PySpark: _fit Finished xgboost training!\n2024-08-07 15:53:46,335 INFO XGBoost-PySpark: _fit Running xgboost-2.0.3 on 2 workers with\n\tbooster params: {'objective': 'binary:logistic', 'colsample_bytree': 0.5, 'device': 'cpu', 'max_depth': 6, 'subsample': 0.5, 'nthread': 1}\n\ttrain_call_kwargs_params: {'verbose_eval': True, 'num_boost_round': 100}\n\tdmatrix_kwargs: {'nthread': 1, 'missing': nan}\n2024-08-07 15:53:56,812 INFO XGBoost-PySpark: _fit Finished xgboost training!\n"
     ]
    },
    {
     "output_type": "stream",
     "name": "stdout",
     "output_type": "stream",
     "text": [
      "\nParams for the Trial:\nMax_depth: 6, Subsample: 0.5, Colsample_bytree: 0.5\n\nAverage Metrics Across All Blocks:\nAccuracy: 0.7476\nPrecision: 0.7426\nRecall: 0.5461\nF-Beta: 0.6622\nF1 Score: 0.6285\ncurrent params: {'max_depth': 6, 'subsample': 0.5, 'colsample_bytree': 0.75}\n"
     ]
    },
    {
     "output_type": "stream",
     "name": "stderr",
     "output_type": "stream",
     "text": [
      "2024-08-07 15:54:34,905 INFO XGBoost-PySpark: _fit Running xgboost-2.0.3 on 2 workers with\n\tbooster params: {'objective': 'binary:logistic', 'colsample_bytree': 0.75, 'device': 'cpu', 'max_depth': 6, 'subsample': 0.5, 'nthread': 1}\n\ttrain_call_kwargs_params: {'verbose_eval': True, 'num_boost_round': 100}\n\tdmatrix_kwargs: {'nthread': 1, 'missing': nan}\n2024-08-07 15:54:45,301 INFO XGBoost-PySpark: _fit Finished xgboost training!\n2024-08-07 15:55:28,167 INFO XGBoost-PySpark: _fit Running xgboost-2.0.3 on 2 workers with\n\tbooster params: {'objective': 'binary:logistic', 'colsample_bytree': 0.75, 'device': 'cpu', 'max_depth': 6, 'subsample': 0.5, 'nthread': 1}\n\ttrain_call_kwargs_params: {'verbose_eval': True, 'num_boost_round': 100}\n\tdmatrix_kwargs: {'nthread': 1, 'missing': nan}\n2024-08-07 15:55:38,793 INFO XGBoost-PySpark: _fit Finished xgboost training!\n2024-08-07 15:56:23,876 INFO XGBoost-PySpark: _fit Running xgboost-2.0.3 on 2 workers with\n\tbooster params: {'objective': 'binary:logistic', 'colsample_bytree': 0.75, 'device': 'cpu', 'max_depth': 6, 'subsample': 0.5, 'nthread': 1}\n\ttrain_call_kwargs_params: {'verbose_eval': True, 'num_boost_round': 100}\n\tdmatrix_kwargs: {'nthread': 1, 'missing': nan}\n2024-08-07 15:56:34,261 INFO XGBoost-PySpark: _fit Finished xgboost training!\n/databricks/spark/python/pyspark/sql/context.py:164: FutureWarning: Deprecated in 3.0.0. Use SparkSession.builder.getOrCreate() instead.\n  warnings.warn(\n"
     ]
    },
    {
     "output_type": "stream",
     "name": "stdout",
     "output_type": "stream",
     "text": [
      "\nParams for the Trial:\nMax_depth: 6, Subsample: 0.5, Colsample_bytree: 0.75\n\nAverage Metrics Across All Blocks:\nAccuracy: 0.7476\nPrecision: 0.7426\nRecall: 0.5459\nF-Beta: 0.6620\nF1 Score: 0.6283\ncurrent params: {'max_depth': 6, 'subsample': 0.5, 'colsample_bytree': 1.0}\n"
     ]
    },
    {
     "output_type": "stream",
     "name": "stderr",
     "output_type": "stream",
     "text": [
      "2024-08-07 15:57:19,127 INFO XGBoost-PySpark: _fit Running xgboost-2.0.3 on 2 workers with\n\tbooster params: {'objective': 'binary:logistic', 'colsample_bytree': 1.0, 'device': 'cpu', 'max_depth': 6, 'subsample': 0.5, 'nthread': 1}\n\ttrain_call_kwargs_params: {'verbose_eval': True, 'num_boost_round': 100}\n\tdmatrix_kwargs: {'nthread': 1, 'missing': nan}\n2024-08-07 15:57:29,251 INFO XGBoost-PySpark: _fit Finished xgboost training!\n2024-08-07 15:58:13,694 INFO XGBoost-PySpark: _fit Running xgboost-2.0.3 on 2 workers with\n\tbooster params: {'objective': 'binary:logistic', 'colsample_bytree': 1.0, 'device': 'cpu', 'max_depth': 6, 'subsample': 0.5, 'nthread': 1}\n\ttrain_call_kwargs_params: {'verbose_eval': True, 'num_boost_round': 100}\n\tdmatrix_kwargs: {'nthread': 1, 'missing': nan}\n2024-08-07 15:58:24,164 INFO XGBoost-PySpark: _fit Finished xgboost training!\n2024-08-07 15:59:09,489 INFO XGBoost-PySpark: _fit Running xgboost-2.0.3 on 2 workers with\n\tbooster params: {'objective': 'binary:logistic', 'colsample_bytree': 1.0, 'device': 'cpu', 'max_depth': 6, 'subsample': 0.5, 'nthread': 1}\n\ttrain_call_kwargs_params: {'verbose_eval': True, 'num_boost_round': 100}\n\tdmatrix_kwargs: {'nthread': 1, 'missing': nan}\n2024-08-07 15:59:19,734 INFO XGBoost-PySpark: _fit Finished xgboost training!\n"
     ]
    },
    {
     "output_type": "stream",
     "name": "stdout",
     "output_type": "stream",
     "text": [
      "\nParams for the Trial:\nMax_depth: 6, Subsample: 0.5, Colsample_bytree: 1.0\n\nAverage Metrics Across All Blocks:\nAccuracy: 0.7477\nPrecision: 0.7432\nRecall: 0.5455\nF-Beta: 0.6622\nF1 Score: 0.6284\ncurrent params: {'max_depth': 6, 'subsample': 0.75, 'colsample_bytree': 0.5}\n"
     ]
    },
    {
     "output_type": "stream",
     "name": "stderr",
     "output_type": "stream",
     "text": [
      "2024-08-07 16:00:04,329 INFO XGBoost-PySpark: _fit Running xgboost-2.0.3 on 2 workers with\n\tbooster params: {'objective': 'binary:logistic', 'colsample_bytree': 0.5, 'device': 'cpu', 'max_depth': 6, 'subsample': 0.75, 'nthread': 1}\n\ttrain_call_kwargs_params: {'verbose_eval': True, 'num_boost_round': 100}\n\tdmatrix_kwargs: {'nthread': 1, 'missing': nan}\n2024-08-07 16:00:14,341 INFO XGBoost-PySpark: _fit Finished xgboost training!\n2024-08-07 16:00:59,171 INFO XGBoost-PySpark: _fit Running xgboost-2.0.3 on 2 workers with\n\tbooster params: {'objective': 'binary:logistic', 'colsample_bytree': 0.5, 'device': 'cpu', 'max_depth': 6, 'subsample': 0.75, 'nthread': 1}\n\ttrain_call_kwargs_params: {'verbose_eval': True, 'num_boost_round': 100}\n\tdmatrix_kwargs: {'nthread': 1, 'missing': nan}\n2024-08-07 16:01:09,310 INFO XGBoost-PySpark: _fit Finished xgboost training!\n2024-08-07 16:01:53,815 INFO XGBoost-PySpark: _fit Running xgboost-2.0.3 on 2 workers with\n\tbooster params: {'objective': 'binary:logistic', 'colsample_bytree': 0.5, 'device': 'cpu', 'max_depth': 6, 'subsample': 0.75, 'nthread': 1}\n\ttrain_call_kwargs_params: {'verbose_eval': True, 'num_boost_round': 100}\n\tdmatrix_kwargs: {'nthread': 1, 'missing': nan}\n2024-08-07 16:02:03,921 INFO XGBoost-PySpark: _fit Finished xgboost training!\n"
     ]
    },
    {
     "output_type": "stream",
     "name": "stdout",
     "output_type": "stream",
     "text": [
      "\nParams for the Trial:\nMax_depth: 6, Subsample: 0.75, Colsample_bytree: 0.5\n\nAverage Metrics Across All Blocks:\nAccuracy: 0.7478\nPrecision: 0.7433\nRecall: 0.5457\nF-Beta: 0.6623\nF1 Score: 0.6285\ncurrent params: {'max_depth': 6, 'subsample': 0.75, 'colsample_bytree': 0.75}\n"
     ]
    },
    {
     "output_type": "stream",
     "name": "stderr",
     "output_type": "stream",
     "text": [
      "2024-08-07 16:02:48,608 INFO XGBoost-PySpark: _fit Running xgboost-2.0.3 on 2 workers with\n\tbooster params: {'objective': 'binary:logistic', 'colsample_bytree': 0.75, 'device': 'cpu', 'max_depth': 6, 'subsample': 0.75, 'nthread': 1}\n\ttrain_call_kwargs_params: {'verbose_eval': True, 'num_boost_round': 100}\n\tdmatrix_kwargs: {'nthread': 1, 'missing': nan}\n2024-08-07 16:02:58,471 INFO XGBoost-PySpark: _fit Finished xgboost training!\n2024-08-07 16:03:42,344 INFO XGBoost-PySpark: _fit Running xgboost-2.0.3 on 2 workers with\n\tbooster params: {'objective': 'binary:logistic', 'colsample_bytree': 0.75, 'device': 'cpu', 'max_depth': 6, 'subsample': 0.75, 'nthread': 1}\n\ttrain_call_kwargs_params: {'verbose_eval': True, 'num_boost_round': 100}\n\tdmatrix_kwargs: {'nthread': 1, 'missing': nan}\n2024-08-07 16:03:52,402 INFO XGBoost-PySpark: _fit Finished xgboost training!\n2024-08-07 16:04:37,657 INFO XGBoost-PySpark: _fit Running xgboost-2.0.3 on 2 workers with\n\tbooster params: {'objective': 'binary:logistic', 'colsample_bytree': 0.75, 'device': 'cpu', 'max_depth': 6, 'subsample': 0.75, 'nthread': 1}\n\ttrain_call_kwargs_params: {'verbose_eval': True, 'num_boost_round': 100}\n\tdmatrix_kwargs: {'nthread': 1, 'missing': nan}\n2024-08-07 16:04:47,584 INFO XGBoost-PySpark: _fit Finished xgboost training!\n"
     ]
    },
    {
     "output_type": "stream",
     "name": "stdout",
     "output_type": "stream",
     "text": [
      "\nParams for the Trial:\nMax_depth: 6, Subsample: 0.75, Colsample_bytree: 0.75\n\nAverage Metrics Across All Blocks:\nAccuracy: 0.7478\nPrecision: 0.7430\nRecall: 0.5462\nF-Beta: 0.6624\nF1 Score: 0.6287\ncurrent params: {'max_depth': 6, 'subsample': 0.75, 'colsample_bytree': 1.0}\n"
     ]
    },
    {
     "output_type": "stream",
     "name": "stderr",
     "output_type": "stream",
     "text": [
      "2024-08-07 16:05:33,262 INFO XGBoost-PySpark: _fit Running xgboost-2.0.3 on 2 workers with\n\tbooster params: {'objective': 'binary:logistic', 'colsample_bytree': 1.0, 'device': 'cpu', 'max_depth': 6, 'subsample': 0.75, 'nthread': 1}\n\ttrain_call_kwargs_params: {'verbose_eval': True, 'num_boost_round': 100}\n\tdmatrix_kwargs: {'nthread': 1, 'missing': nan}\n2024-08-07 16:05:43,361 INFO XGBoost-PySpark: _fit Finished xgboost training!\n/databricks/spark/python/pyspark/sql/context.py:164: FutureWarning: Deprecated in 3.0.0. Use SparkSession.builder.getOrCreate() instead.\n  warnings.warn(\n2024-08-07 16:06:30,111 INFO XGBoost-PySpark: _fit Running xgboost-2.0.3 on 2 workers with\n\tbooster params: {'objective': 'binary:logistic', 'colsample_bytree': 1.0, 'device': 'cpu', 'max_depth': 6, 'subsample': 0.75, 'nthread': 1}\n\ttrain_call_kwargs_params: {'verbose_eval': True, 'num_boost_round': 100}\n\tdmatrix_kwargs: {'nthread': 1, 'missing': nan}\n2024-08-07 16:06:40,249 INFO XGBoost-PySpark: _fit Finished xgboost training!\n2024-08-07 16:07:26,877 INFO XGBoost-PySpark: _fit Running xgboost-2.0.3 on 2 workers with\n\tbooster params: {'objective': 'binary:logistic', 'colsample_bytree': 1.0, 'device': 'cpu', 'max_depth': 6, 'subsample': 0.75, 'nthread': 1}\n\ttrain_call_kwargs_params: {'verbose_eval': True, 'num_boost_round': 100}\n\tdmatrix_kwargs: {'nthread': 1, 'missing': nan}\n2024-08-07 16:07:36,762 INFO XGBoost-PySpark: _fit Finished xgboost training!\n"
     ]
    },
    {
     "output_type": "stream",
     "name": "stdout",
     "output_type": "stream",
     "text": [
      "\nParams for the Trial:\nMax_depth: 6, Subsample: 0.75, Colsample_bytree: 1.0\n\nAverage Metrics Across All Blocks:\nAccuracy: 0.7480\nPrecision: 0.7432\nRecall: 0.5465\nF-Beta: 0.6627\nF1 Score: 0.6290\ncurrent params: {'max_depth': 6, 'subsample': 1.0, 'colsample_bytree': 0.5}\n"
     ]
    },
    {
     "output_type": "stream",
     "name": "stderr",
     "output_type": "stream",
     "text": [
      "2024-08-07 16:08:24,764 INFO XGBoost-PySpark: _fit Running xgboost-2.0.3 on 2 workers with\n\tbooster params: {'objective': 'binary:logistic', 'colsample_bytree': 0.5, 'device': 'cpu', 'max_depth': 6, 'subsample': 1.0, 'nthread': 1}\n\ttrain_call_kwargs_params: {'verbose_eval': True, 'num_boost_round': 100}\n\tdmatrix_kwargs: {'nthread': 1, 'missing': nan}\n2024-08-07 16:08:34,265 INFO XGBoost-PySpark: _fit Finished xgboost training!\n2024-08-07 16:09:24,091 INFO XGBoost-PySpark: _fit Running xgboost-2.0.3 on 2 workers with\n\tbooster params: {'objective': 'binary:logistic', 'colsample_bytree': 0.5, 'device': 'cpu', 'max_depth': 6, 'subsample': 1.0, 'nthread': 1}\n\ttrain_call_kwargs_params: {'verbose_eval': True, 'num_boost_round': 100}\n\tdmatrix_kwargs: {'nthread': 1, 'missing': nan}\n2024-08-07 16:09:33,815 INFO XGBoost-PySpark: _fit Finished xgboost training!\n2024-08-07 16:10:21,186 INFO XGBoost-PySpark: _fit Running xgboost-2.0.3 on 2 workers with\n\tbooster params: {'objective': 'binary:logistic', 'colsample_bytree': 0.5, 'device': 'cpu', 'max_depth': 6, 'subsample': 1.0, 'nthread': 1}\n\ttrain_call_kwargs_params: {'verbose_eval': True, 'num_boost_round': 100}\n\tdmatrix_kwargs: {'nthread': 1, 'missing': nan}\n2024-08-07 16:10:30,697 INFO XGBoost-PySpark: _fit Finished xgboost training!\n"
     ]
    },
    {
     "output_type": "stream",
     "name": "stdout",
     "output_type": "stream",
     "text": [
      "\nParams for the Trial:\nMax_depth: 6, Subsample: 1.0, Colsample_bytree: 0.5\n\nAverage Metrics Across All Blocks:\nAccuracy: 0.7481\nPrecision: 0.7436\nRecall: 0.5465\nF-Beta: 0.6629\nF1 Score: 0.6291\ncurrent params: {'max_depth': 6, 'subsample': 1.0, 'colsample_bytree': 0.75}\n"
     ]
    },
    {
     "output_type": "stream",
     "name": "stderr",
     "output_type": "stream",
     "text": [
      "2024-08-07 16:11:17,659 INFO XGBoost-PySpark: _fit Running xgboost-2.0.3 on 2 workers with\n\tbooster params: {'objective': 'binary:logistic', 'colsample_bytree': 0.75, 'device': 'cpu', 'max_depth': 6, 'subsample': 1.0, 'nthread': 1}\n\ttrain_call_kwargs_params: {'verbose_eval': True, 'num_boost_round': 100}\n\tdmatrix_kwargs: {'nthread': 1, 'missing': nan}\n2024-08-07 16:11:27,390 INFO XGBoost-PySpark: _fit Finished xgboost training!\n2024-08-07 16:12:13,528 INFO XGBoost-PySpark: _fit Running xgboost-2.0.3 on 2 workers with\n\tbooster params: {'objective': 'binary:logistic', 'colsample_bytree': 0.75, 'device': 'cpu', 'max_depth': 6, 'subsample': 1.0, 'nthread': 1}\n\ttrain_call_kwargs_params: {'verbose_eval': True, 'num_boost_round': 100}\n\tdmatrix_kwargs: {'nthread': 1, 'missing': nan}\n2024-08-07 16:12:23,131 INFO XGBoost-PySpark: _fit Finished xgboost training!\n2024-08-07 16:13:08,320 INFO XGBoost-PySpark: _fit Running xgboost-2.0.3 on 2 workers with\n\tbooster params: {'objective': 'binary:logistic', 'colsample_bytree': 0.75, 'device': 'cpu', 'max_depth': 6, 'subsample': 1.0, 'nthread': 1}\n\ttrain_call_kwargs_params: {'verbose_eval': True, 'num_boost_round': 100}\n\tdmatrix_kwargs: {'nthread': 1, 'missing': nan}\n2024-08-07 16:13:17,567 INFO XGBoost-PySpark: _fit Finished xgboost training!\n"
     ]
    },
    {
     "output_type": "stream",
     "name": "stdout",
     "output_type": "stream",
     "text": [
      "\nParams for the Trial:\nMax_depth: 6, Subsample: 1.0, Colsample_bytree: 0.75\n\nAverage Metrics Across All Blocks:\nAccuracy: 0.7483\nPrecision: 0.7439\nRecall: 0.5465\nF-Beta: 0.6631\nF1 Score: 0.6293\ncurrent params: {'max_depth': 6, 'subsample': 1.0, 'colsample_bytree': 1.0}\n"
     ]
    },
    {
     "output_type": "stream",
     "name": "stderr",
     "output_type": "stream",
     "text": [
      "2024-08-07 16:14:02,307 INFO XGBoost-PySpark: _fit Running xgboost-2.0.3 on 2 workers with\n\tbooster params: {'objective': 'binary:logistic', 'colsample_bytree': 1.0, 'device': 'cpu', 'max_depth': 6, 'subsample': 1.0, 'nthread': 1}\n\ttrain_call_kwargs_params: {'verbose_eval': True, 'num_boost_round': 100}\n\tdmatrix_kwargs: {'nthread': 1, 'missing': nan}\n2024-08-07 16:14:11,634 INFO XGBoost-PySpark: _fit Finished xgboost training!\n2024-08-07 16:14:58,811 INFO XGBoost-PySpark: _fit Running xgboost-2.0.3 on 2 workers with\n\tbooster params: {'objective': 'binary:logistic', 'colsample_bytree': 1.0, 'device': 'cpu', 'max_depth': 6, 'subsample': 1.0, 'nthread': 1}\n\ttrain_call_kwargs_params: {'verbose_eval': True, 'num_boost_round': 100}\n\tdmatrix_kwargs: {'nthread': 1, 'missing': nan}\n2024-08-07 16:15:08,206 INFO XGBoost-PySpark: _fit Finished xgboost training!\n2024-08-07 16:15:52,093 INFO XGBoost-PySpark: _fit Running xgboost-2.0.3 on 2 workers with\n\tbooster params: {'objective': 'binary:logistic', 'colsample_bytree': 1.0, 'device': 'cpu', 'max_depth': 6, 'subsample': 1.0, 'nthread': 1}\n\ttrain_call_kwargs_params: {'verbose_eval': True, 'num_boost_round': 100}\n\tdmatrix_kwargs: {'nthread': 1, 'missing': nan}\n2024-08-07 16:16:01,878 INFO XGBoost-PySpark: _fit Finished xgboost training!\n"
     ]
    },
    {
     "output_type": "stream",
     "name": "stdout",
     "output_type": "stream",
     "text": [
      "\nParams for the Trial:\nMax_depth: 6, Subsample: 1.0, Colsample_bytree: 1.0\n\nAverage Metrics Across All Blocks:\nAccuracy: 0.7479\nPrecision: 0.7434\nRecall: 0.5461\nF-Beta: 0.6626\nF1 Score: 0.6288\ncurrent params: {'max_depth': 10, 'subsample': 0.5, 'colsample_bytree': 0.5}\n"
     ]
    },
    {
     "output_type": "stream",
     "name": "stderr",
     "output_type": "stream",
     "text": [
      "2024-08-07 16:16:46,833 INFO XGBoost-PySpark: _fit Running xgboost-2.0.3 on 2 workers with\n\tbooster params: {'objective': 'binary:logistic', 'colsample_bytree': 0.5, 'device': 'cpu', 'max_depth': 10, 'subsample': 0.5, 'nthread': 1}\n\ttrain_call_kwargs_params: {'verbose_eval': True, 'num_boost_round': 100}\n\tdmatrix_kwargs: {'nthread': 1, 'missing': nan}\n2024-08-07 16:17:00,763 INFO XGBoost-PySpark: _fit Finished xgboost training!\n2024-08-07 16:17:48,088 INFO XGBoost-PySpark: _fit Running xgboost-2.0.3 on 2 workers with\n\tbooster params: {'objective': 'binary:logistic', 'colsample_bytree': 0.5, 'device': 'cpu', 'max_depth': 10, 'subsample': 0.5, 'nthread': 1}\n\ttrain_call_kwargs_params: {'verbose_eval': True, 'num_boost_round': 100}\n\tdmatrix_kwargs: {'nthread': 1, 'missing': nan}\n2024-08-07 16:18:02,071 INFO XGBoost-PySpark: _fit Finished xgboost training!\n2024-08-07 16:18:48,311 INFO XGBoost-PySpark: _fit Running xgboost-2.0.3 on 2 workers with\n\tbooster params: {'objective': 'binary:logistic', 'colsample_bytree': 0.5, 'device': 'cpu', 'max_depth': 10, 'subsample': 0.5, 'nthread': 1}\n\ttrain_call_kwargs_params: {'verbose_eval': True, 'num_boost_round': 100}\n\tdmatrix_kwargs: {'nthread': 1, 'missing': nan}\n2024-08-07 16:19:02,989 INFO XGBoost-PySpark: _fit Finished xgboost training!\n"
     ]
    },
    {
     "output_type": "stream",
     "name": "stdout",
     "output_type": "stream",
     "text": [
      "\nParams for the Trial:\nMax_depth: 10, Subsample: 0.5, Colsample_bytree: 0.5\n\nAverage Metrics Across All Blocks:\nAccuracy: 0.7429\nPrecision: 0.7306\nRecall: 0.5461\nF-Beta: 0.6558\nF1 Score: 0.6242\ncurrent params: {'max_depth': 10, 'subsample': 0.5, 'colsample_bytree': 0.75}\n"
     ]
    },
    {
     "output_type": "stream",
     "name": "stderr",
     "output_type": "stream",
     "text": [
      "2024-08-07 16:19:51,449 INFO XGBoost-PySpark: _fit Running xgboost-2.0.3 on 2 workers with\n\tbooster params: {'objective': 'binary:logistic', 'colsample_bytree': 0.75, 'device': 'cpu', 'max_depth': 10, 'subsample': 0.5, 'nthread': 1}\n\ttrain_call_kwargs_params: {'verbose_eval': True, 'num_boost_round': 100}\n\tdmatrix_kwargs: {'nthread': 1, 'missing': nan}\n2024-08-07 16:20:05,371 INFO XGBoost-PySpark: _fit Finished xgboost training!\n2024-08-07 16:20:51,785 INFO XGBoost-PySpark: _fit Running xgboost-2.0.3 on 2 workers with\n\tbooster params: {'objective': 'binary:logistic', 'colsample_bytree': 0.75, 'device': 'cpu', 'max_depth': 10, 'subsample': 0.5, 'nthread': 1}\n\ttrain_call_kwargs_params: {'verbose_eval': True, 'num_boost_round': 100}\n\tdmatrix_kwargs: {'nthread': 1, 'missing': nan}\n2024-08-07 16:21:06,391 INFO XGBoost-PySpark: _fit Finished xgboost training!\n2024-08-07 16:21:55,542 INFO XGBoost-PySpark: _fit Running xgboost-2.0.3 on 2 workers with\n\tbooster params: {'objective': 'binary:logistic', 'colsample_bytree': 0.75, 'device': 'cpu', 'max_depth': 10, 'subsample': 0.5, 'nthread': 1}\n\ttrain_call_kwargs_params: {'verbose_eval': True, 'num_boost_round': 100}\n\tdmatrix_kwargs: {'nthread': 1, 'missing': nan}\n2024-08-07 16:22:09,600 INFO XGBoost-PySpark: _fit Finished xgboost training!\n"
     ]
    },
    {
     "output_type": "stream",
     "name": "stdout",
     "output_type": "stream",
     "text": [
      "\nParams for the Trial:\nMax_depth: 10, Subsample: 0.5, Colsample_bytree: 0.75\n\nAverage Metrics Across All Blocks:\nAccuracy: 0.7423\nPrecision: 0.7294\nRecall: 0.5455\nF-Beta: 0.6549\nF1 Score: 0.6234\ncurrent params: {'max_depth': 10, 'subsample': 0.5, 'colsample_bytree': 1.0}\n"
     ]
    },
    {
     "output_type": "stream",
     "name": "stderr",
     "output_type": "stream",
     "text": [
      "2024-08-07 16:22:57,881 INFO XGBoost-PySpark: _fit Running xgboost-2.0.3 on 2 workers with\n\tbooster params: {'objective': 'binary:logistic', 'colsample_bytree': 1.0, 'device': 'cpu', 'max_depth': 10, 'subsample': 0.5, 'nthread': 1}\n\ttrain_call_kwargs_params: {'verbose_eval': True, 'num_boost_round': 100}\n\tdmatrix_kwargs: {'nthread': 1, 'missing': nan}\n2024-08-07 16:23:12,431 INFO XGBoost-PySpark: _fit Finished xgboost training!\n2024-08-07 16:23:58,952 INFO XGBoost-PySpark: _fit Running xgboost-2.0.3 on 2 workers with\n\tbooster params: {'objective': 'binary:logistic', 'colsample_bytree': 1.0, 'device': 'cpu', 'max_depth': 10, 'subsample': 0.5, 'nthread': 1}\n\ttrain_call_kwargs_params: {'verbose_eval': True, 'num_boost_round': 100}\n\tdmatrix_kwargs: {'nthread': 1, 'missing': nan}\n2024-08-07 16:24:13,413 INFO XGBoost-PySpark: _fit Finished xgboost training!\n2024-08-07 16:25:00,604 INFO XGBoost-PySpark: _fit Running xgboost-2.0.3 on 2 workers with\n\tbooster params: {'objective': 'binary:logistic', 'colsample_bytree': 1.0, 'device': 'cpu', 'max_depth': 10, 'subsample': 0.5, 'nthread': 1}\n\ttrain_call_kwargs_params: {'verbose_eval': True, 'num_boost_round': 100}\n\tdmatrix_kwargs: {'nthread': 1, 'missing': nan}\n2024-08-07 16:25:15,141 INFO XGBoost-PySpark: _fit Finished xgboost training!\n"
     ]
    },
    {
     "output_type": "stream",
     "name": "stdout",
     "output_type": "stream",
     "text": [
      "\nParams for the Trial:\nMax_depth: 10, Subsample: 0.5, Colsample_bytree: 1.0\n\nAverage Metrics Across All Blocks:\nAccuracy: 0.7423\nPrecision: 0.7290\nRecall: 0.5457\nF-Beta: 0.6548\nF1 Score: 0.6234\ncurrent params: {'max_depth': 10, 'subsample': 0.75, 'colsample_bytree': 0.5}\n"
     ]
    },
    {
     "output_type": "stream",
     "name": "stderr",
     "output_type": "stream",
     "text": [
      "2024-08-07 16:26:02,232 INFO XGBoost-PySpark: _fit Running xgboost-2.0.3 on 2 workers with\n\tbooster params: {'objective': 'binary:logistic', 'colsample_bytree': 0.5, 'device': 'cpu', 'max_depth': 10, 'subsample': 0.75, 'nthread': 1}\n\ttrain_call_kwargs_params: {'verbose_eval': True, 'num_boost_round': 100}\n\tdmatrix_kwargs: {'nthread': 1, 'missing': nan}\n2024-08-07 16:26:16,023 INFO XGBoost-PySpark: _fit Finished xgboost training!\n2024-08-07 16:27:04,042 INFO XGBoost-PySpark: _fit Running xgboost-2.0.3 on 2 workers with\n\tbooster params: {'objective': 'binary:logistic', 'colsample_bytree': 0.5, 'device': 'cpu', 'max_depth': 10, 'subsample': 0.75, 'nthread': 1}\n\ttrain_call_kwargs_params: {'verbose_eval': True, 'num_boost_round': 100}\n\tdmatrix_kwargs: {'nthread': 1, 'missing': nan}\n2024-08-07 16:27:18,110 INFO XGBoost-PySpark: _fit Finished xgboost training!\n2024-08-07 16:28:04,115 INFO XGBoost-PySpark: _fit Running xgboost-2.0.3 on 2 workers with\n\tbooster params: {'objective': 'binary:logistic', 'colsample_bytree': 0.5, 'device': 'cpu', 'max_depth': 10, 'subsample': 0.75, 'nthread': 1}\n\ttrain_call_kwargs_params: {'verbose_eval': True, 'num_boost_round': 100}\n\tdmatrix_kwargs: {'nthread': 1, 'missing': nan}\n2024-08-07 16:28:17,586 INFO XGBoost-PySpark: _fit Finished xgboost training!\n"
     ]
    },
    {
     "output_type": "stream",
     "name": "stdout",
     "output_type": "stream",
     "text": [
      "\nParams for the Trial:\nMax_depth: 10, Subsample: 0.75, Colsample_bytree: 0.5\n\nAverage Metrics Across All Blocks:\nAccuracy: 0.7441\nPrecision: 0.7336\nRecall: 0.5460\nF-Beta: 0.6574\nF1 Score: 0.6253\ncurrent params: {'max_depth': 10, 'subsample': 0.75, 'colsample_bytree': 0.75}\n"
     ]
    },
    {
     "output_type": "stream",
     "name": "stderr",
     "output_type": "stream",
     "text": [
      "2024-08-07 16:29:05,428 INFO XGBoost-PySpark: _fit Running xgboost-2.0.3 on 2 workers with\n\tbooster params: {'objective': 'binary:logistic', 'colsample_bytree': 0.75, 'device': 'cpu', 'max_depth': 10, 'subsample': 0.75, 'nthread': 1}\n\ttrain_call_kwargs_params: {'verbose_eval': True, 'num_boost_round': 100}\n\tdmatrix_kwargs: {'nthread': 1, 'missing': nan}\n2024-08-07 16:29:18,909 INFO XGBoost-PySpark: _fit Finished xgboost training!\n2024-08-07 16:30:05,078 INFO XGBoost-PySpark: _fit Running xgboost-2.0.3 on 2 workers with\n\tbooster params: {'objective': 'binary:logistic', 'colsample_bytree': 0.75, 'device': 'cpu', 'max_depth': 10, 'subsample': 0.75, 'nthread': 1}\n\ttrain_call_kwargs_params: {'verbose_eval': True, 'num_boost_round': 100}\n\tdmatrix_kwargs: {'nthread': 1, 'missing': nan}\n2024-08-07 16:30:18,733 INFO XGBoost-PySpark: _fit Finished xgboost training!\n2024-08-07 16:31:06,586 INFO XGBoost-PySpark: _fit Running xgboost-2.0.3 on 2 workers with\n\tbooster params: {'objective': 'binary:logistic', 'colsample_bytree': 0.75, 'device': 'cpu', 'max_depth': 10, 'subsample': 0.75, 'nthread': 1}\n\ttrain_call_kwargs_params: {'verbose_eval': True, 'num_boost_round': 100}\n\tdmatrix_kwargs: {'nthread': 1, 'missing': nan}\n2024-08-07 16:31:20,588 INFO XGBoost-PySpark: _fit Finished xgboost training!\n"
     ]
    },
    {
     "output_type": "stream",
     "name": "stdout",
     "output_type": "stream",
     "text": [
      "\nParams for the Trial:\nMax_depth: 10, Subsample: 0.75, Colsample_bytree: 0.75\n\nAverage Metrics Across All Blocks:\nAccuracy: 0.7441\nPrecision: 0.7337\nRecall: 0.5459\nF-Beta: 0.6573\nF1 Score: 0.6252\ncurrent params: {'max_depth': 10, 'subsample': 0.75, 'colsample_bytree': 1.0}\n"
     ]
    },
    {
     "output_type": "stream",
     "name": "stderr",
     "output_type": "stream",
     "text": [
      "2024-08-07 16:32:09,277 INFO XGBoost-PySpark: _fit Running xgboost-2.0.3 on 2 workers with\n\tbooster params: {'objective': 'binary:logistic', 'colsample_bytree': 1.0, 'device': 'cpu', 'max_depth': 10, 'subsample': 0.75, 'nthread': 1}\n\ttrain_call_kwargs_params: {'verbose_eval': True, 'num_boost_round': 100}\n\tdmatrix_kwargs: {'nthread': 1, 'missing': nan}\n2024-08-07 16:32:23,208 INFO XGBoost-PySpark: _fit Finished xgboost training!\n2024-08-07 16:33:10,171 INFO XGBoost-PySpark: _fit Running xgboost-2.0.3 on 2 workers with\n\tbooster params: {'objective': 'binary:logistic', 'colsample_bytree': 1.0, 'device': 'cpu', 'max_depth': 10, 'subsample': 0.75, 'nthread': 1}\n\ttrain_call_kwargs_params: {'verbose_eval': True, 'num_boost_round': 100}\n\tdmatrix_kwargs: {'nthread': 1, 'missing': nan}\n2024-08-07 16:33:24,227 INFO XGBoost-PySpark: _fit Finished xgboost training!\n2024-08-07 16:34:10,141 INFO XGBoost-PySpark: _fit Running xgboost-2.0.3 on 2 workers with\n\tbooster params: {'objective': 'binary:logistic', 'colsample_bytree': 1.0, 'device': 'cpu', 'max_depth': 10, 'subsample': 0.75, 'nthread': 1}\n\ttrain_call_kwargs_params: {'verbose_eval': True, 'num_boost_round': 100}\n\tdmatrix_kwargs: {'nthread': 1, 'missing': nan}\n2024-08-07 16:34:23,987 INFO XGBoost-PySpark: _fit Finished xgboost training!\n"
     ]
    },
    {
     "output_type": "stream",
     "name": "stdout",
     "output_type": "stream",
     "text": [
      "\nParams for the Trial:\nMax_depth: 10, Subsample: 0.75, Colsample_bytree: 1.0\n\nAverage Metrics Across All Blocks:\nAccuracy: 0.7437\nPrecision: 0.7329\nRecall: 0.5456\nF-Beta: 0.6567\nF1 Score: 0.6247\ncurrent params: {'max_depth': 10, 'subsample': 1.0, 'colsample_bytree': 0.5}\n"
     ]
    },
    {
     "output_type": "stream",
     "name": "stderr",
     "output_type": "stream",
     "text": [
      "2024-08-07 16:35:10,603 INFO XGBoost-PySpark: _fit Running xgboost-2.0.3 on 2 workers with\n\tbooster params: {'objective': 'binary:logistic', 'colsample_bytree': 0.5, 'device': 'cpu', 'max_depth': 10, 'subsample': 1.0, 'nthread': 1}\n\ttrain_call_kwargs_params: {'verbose_eval': True, 'num_boost_round': 100}\n\tdmatrix_kwargs: {'nthread': 1, 'missing': nan}\n2024-08-07 16:35:23,392 INFO XGBoost-PySpark: _fit Finished xgboost training!\n2024-08-07 16:36:35,950 INFO XGBoost-PySpark: _fit Running xgboost-2.0.3 on 2 workers with\n\tbooster params: {'objective': 'binary:logistic', 'colsample_bytree': 0.5, 'device': 'cpu', 'max_depth': 10, 'subsample': 1.0, 'nthread': 1}\n\ttrain_call_kwargs_params: {'verbose_eval': True, 'num_boost_round': 100}\n\tdmatrix_kwargs: {'nthread': 1, 'missing': nan}\n2024-08-07 16:36:58,264 INFO XGBoost-PySpark: _fit Finished xgboost training!\n2024-08-07 16:37:37,377 INFO XGBoost-PySpark: _fit Running xgboost-2.0.3 on 2 workers with\n\tbooster params: {'objective': 'binary:logistic', 'colsample_bytree': 0.5, 'device': 'cpu', 'max_depth': 10, 'subsample': 1.0, 'nthread': 1}\n\ttrain_call_kwargs_params: {'verbose_eval': True, 'num_boost_round': 100}\n\tdmatrix_kwargs: {'nthread': 1, 'missing': nan}\n2024-08-07 16:37:56,452 INFO XGBoost-PySpark: _fit Finished xgboost training!\n"
     ]
    },
    {
     "output_type": "stream",
     "name": "stdout",
     "output_type": "stream",
     "text": [
      "\nParams for the Trial:\nMax_depth: 10, Subsample: 1.0, Colsample_bytree: 0.5\n\nAverage Metrics Across All Blocks:\nAccuracy: 0.7452\nPrecision: 0.7363\nRecall: 0.5466\nF-Beta: 0.6590\nF1 Score: 0.6265\ncurrent params: {'max_depth': 10, 'subsample': 1.0, 'colsample_bytree': 0.75}\n"
     ]
    },
    {
     "output_type": "stream",
     "name": "stderr",
     "output_type": "stream",
     "text": [
      "2024-08-07 16:39:06,504 INFO XGBoost-PySpark: _fit Running xgboost-2.0.3 on 2 workers with\n\tbooster params: {'objective': 'binary:logistic', 'colsample_bytree': 0.75, 'device': 'cpu', 'max_depth': 10, 'subsample': 1.0, 'nthread': 1}\n\ttrain_call_kwargs_params: {'verbose_eval': True, 'num_boost_round': 100}\n\tdmatrix_kwargs: {'nthread': 1, 'missing': nan}\n2024-08-07 16:39:20,400 INFO XGBoost-PySpark: _fit Finished xgboost training!\n2024-08-07 16:40:03,006 INFO XGBoost-PySpark: _fit Running xgboost-2.0.3 on 2 workers with\n\tbooster params: {'objective': 'binary:logistic', 'colsample_bytree': 0.75, 'device': 'cpu', 'max_depth': 10, 'subsample': 1.0, 'nthread': 1}\n\ttrain_call_kwargs_params: {'verbose_eval': True, 'num_boost_round': 100}\n\tdmatrix_kwargs: {'nthread': 1, 'missing': nan}\n2024-08-07 16:40:15,527 INFO XGBoost-PySpark: _fit Finished xgboost training!\n2024-08-07 16:40:56,406 INFO XGBoost-PySpark: _fit Running xgboost-2.0.3 on 2 workers with\n\tbooster params: {'objective': 'binary:logistic', 'colsample_bytree': 0.75, 'device': 'cpu', 'max_depth': 10, 'subsample': 1.0, 'nthread': 1}\n\ttrain_call_kwargs_params: {'verbose_eval': True, 'num_boost_round': 100}\n\tdmatrix_kwargs: {'nthread': 1, 'missing': nan}\n2024-08-07 16:41:09,864 INFO XGBoost-PySpark: _fit Finished xgboost training!\n"
     ]
    },
    {
     "output_type": "stream",
     "name": "stdout",
     "output_type": "stream",
     "text": [
      "\nParams for the Trial:\nMax_depth: 10, Subsample: 1.0, Colsample_bytree: 0.75\n\nAverage Metrics Across All Blocks:\nAccuracy: 0.7456\nPrecision: 0.7374\nRecall: 0.5461\nF-Beta: 0.6594\nF1 Score: 0.6267\ncurrent params: {'max_depth': 10, 'subsample': 1.0, 'colsample_bytree': 1.0}\n"
     ]
    },
    {
     "output_type": "stream",
     "name": "stderr",
     "output_type": "stream",
     "text": [
      "2024-08-07 16:41:51,696 INFO XGBoost-PySpark: _fit Running xgboost-2.0.3 on 2 workers with\n\tbooster params: {'objective': 'binary:logistic', 'colsample_bytree': 1.0, 'device': 'cpu', 'max_depth': 10, 'subsample': 1.0, 'nthread': 1}\n\ttrain_call_kwargs_params: {'verbose_eval': True, 'num_boost_round': 100}\n\tdmatrix_kwargs: {'nthread': 1, 'missing': nan}\n2024-08-07 16:42:03,771 INFO XGBoost-PySpark: _fit Finished xgboost training!\n2024-08-07 16:42:45,058 INFO XGBoost-PySpark: _fit Running xgboost-2.0.3 on 2 workers with\n\tbooster params: {'objective': 'binary:logistic', 'colsample_bytree': 1.0, 'device': 'cpu', 'max_depth': 10, 'subsample': 1.0, 'nthread': 1}\n\ttrain_call_kwargs_params: {'verbose_eval': True, 'num_boost_round': 100}\n\tdmatrix_kwargs: {'nthread': 1, 'missing': nan}\n2024-08-07 16:42:57,725 INFO XGBoost-PySpark: _fit Finished xgboost training!\n2024-08-07 16:43:44,675 INFO XGBoost-PySpark: _fit Running xgboost-2.0.3 on 2 workers with\n\tbooster params: {'objective': 'binary:logistic', 'colsample_bytree': 1.0, 'device': 'cpu', 'max_depth': 10, 'subsample': 1.0, 'nthread': 1}\n\ttrain_call_kwargs_params: {'verbose_eval': True, 'num_boost_round': 100}\n\tdmatrix_kwargs: {'nthread': 1, 'missing': nan}\n2024-08-07 16:44:10,116 INFO XGBoost-PySpark: _fit Finished xgboost training!\n"
     ]
    },
    {
     "output_type": "stream",
     "name": "stdout",
     "output_type": "stream",
     "text": [
      "\nParams for the Trial:\nMax_depth: 10, Subsample: 1.0, Colsample_bytree: 1.0\n\nAverage Metrics Across All Blocks:\nAccuracy: 0.7454\nPrecision: 0.7370\nRecall: 0.5459\nF-Beta: 0.6590\nF1 Score: 0.6263\nBest result: {'max_depth': 3, 'subsample': 1.0, 'colsample_bytree': 1.0, 'avg_accuracy': 0.7484984860080525, 'avg_precision': 0.7439035905250303, 'avg_recall': 0.5474377881338233, 'avg_f1': 0.6299505464410227, 'avg_f_beta': 0.6636078207142596}\nHighest avg_f_beta: 0.6636078207142596\n"
     ]
    }
   ],
   "source": [
    "# Main training loop  - Performs Grid Search \n",
    "#   - - Trains multiple models = len(all_combinations) \n",
    "# WARNING!!! ------> THIS TAKES OVER AN HOUR\n",
    "for params in all_combinations:\n",
    "    print(f\"current params: {params}\")\n",
    "    cv_results.append(xgboost_cv(blocks, val_df_with_row_num, **params))\n",
    "schema = StructType([\n",
    "    StructField('max_depth', IntegerType(), True),\n",
    "    StructField('subsample', FloatType(), True),\n",
    "    StructField('colsample_bytree', FloatType(), True),\n",
    "    StructField('avg_accuracy', FloatType(), True),\n",
    "    StructField('avg_precision', FloatType(), True),\n",
    "    StructField('avg_recall', FloatType(), True),\n",
    "    StructField('avg_f1', FloatType(), True),\n",
    "    StructField('avg_f_beta', FloatType(), True),\n",
    "])\n",
    "\n",
    "cv_results_df = spark.createDataFrame(cv_results, schema=schema)\n",
    "\n",
    "# Print the best result after saving the df of all results\n",
    "# Now you know your best hyperparameters\n",
    "best_result = max(cv_results, key=lambda x: x['avg_f_beta'])\n",
    "print(f\"Best result: {best_result}\")\n",
    "print(f\"Highest avg_f_beta: {best_result['avg_f_beta']}\")"
   ]
  },
  {
   "cell_type": "markdown",
   "metadata": {
    "application/vnd.databricks.v1+cell": {
     "cellMetadata": {
      "byteLimit": 2048000,
      "rowLimit": 10000
     },
     "inputWidgets": {},
     "nuid": "aef85314-4920-4876-bb65-e2cf4e22ef32",
     "showTitle": false,
     "title": ""
    }
   },
   "source": [
    "# Final Train and Test"
   ]
  },
  {
   "cell_type": "markdown",
   "metadata": {
    "application/vnd.databricks.v1+cell": {
     "cellMetadata": {
      "byteLimit": 2048000,
      "rowLimit": 10000
     },
     "inputWidgets": {},
     "nuid": "224d4c65-fe5a-48e4-9e47-65ab3b311595",
     "showTitle": false,
     "title": ""
    }
   },
   "source": [
    "### Test Data Merge"
   ]
  },
  {
   "cell_type": "code",
   "execution_count": 0,
   "metadata": {
    "application/vnd.databricks.v1+cell": {
     "cellMetadata": {
      "byteLimit": 2048000,
      "rowLimit": 10000
     },
     "inputWidgets": {},
     "nuid": "88a82f96-366f-49ec-9878-06b3b9a2cb64",
     "showTitle": false,
     "title": ""
    }
   },
   "outputs": [
    {
     "output_type": "stream",
     "name": "stdout",
     "output_type": "stream",
     "text": [
      "Total number of rows: 7270189\n+-----+-----------+-----------+-------------+----------------+----------------+----------------+------+\n|index|nnval2_prob|nnval5_prob|log_base_prob|log_variant_prob|xgboost1011_prob|xgboost1066_prob|target|\n+-----+-----------+-----------+-------------+----------------+----------------+----------------+------+\n|    0|          0|          0|            0|         6205149|               0|               0|     0|\n+-----+-----------+-----------+-------------+----------------+----------------+----------------+------+\n\nNumber of rows with null values: 0\n"
     ]
    }
   ],
   "source": [
    "# Similar to the train merge, we start with the NN files as those are already scoped to the year we are interested in - 2019\n",
    "nntest2 = nntest2.withColumnRenamed(\"probability\", \"nnval2_prob\") # keeping the col name val so I can recycle my pipeline\n",
    "merged_nn = nntest2.join(nntest5, \"index\", \"left\") \\\n",
    "    .select(\"index\", \"nnval2_prob\", F.col(\"probability\").alias(\"nnval5_prob\")) # keeping the col name val so I can recycle my pipeline \n",
    "\t\n",
    "merged_log_base = merged_nn.join(log_base, \"index\", \"left\") \\\n",
    "    .select(\"index\", \"nnval2_prob\", \"nnval5_prob\", \n",
    "            F.col(\"DEP_DEL15\").alias(\"target\"), F.col(\"probability_1\").alias(\"log_base_prob\"), \"YEAR\")\n",
    "\t\t\t\n",
    "merged_log_all = merged_log_base.join(log_variant, \"index\", \"left\") \\\n",
    "    .select(\"index\", \"nnval2_prob\", \"nnval5_prob\", \"log_base_prob\",\n",
    "            F.col(\"probability_1\").alias(\"log_variant_prob\"), \"target\")\n",
    "\t\t\t\n",
    "merged_boost11 = merged_log_all.join(xgboost1011, \"index\", \"left\")\\\n",
    "    .select(\"index\", \"nnval2_prob\", \"nnval5_prob\", \"log_base_prob\", \"log_variant_prob\",\n",
    "            F.col(\"probability_1\").alias(\"xgboost1011_prob\"), \"target\")\n",
    "\t\t\t\n",
    "test_df = merged_boost11.join(xgboost1066, \"index\", \"left\")\\\n",
    "    .select(\"index\", \"nnval2_prob\", \"nnval5_prob\", \"log_base_prob\", \"log_variant_prob\", \"xgboost1011_prob\",\n",
    "            F.col(\"probability_1\").alias(\"xgboost1066_prob\"), \"target\")\n",
    "\n",
    "# Count total number of rows\n",
    "total_rows = test_df.count()\n",
    "print(f\"Total number of rows: {total_rows}\")\n",
    "\n",
    "# Check for null data in any column\n",
    "null_counts = test_df.select([F.sum(F.col(c).isNull().cast(\"int\")).alias(c) for c in test_df.columns])\n",
    "null_counts.show()\n",
    "\n",
    "# Count rows with any null value\n",
    "rows_with_nulls = test_df.filter(F.concat_ws(\"\", *test_df.columns).isNull()).count()\n",
    "print(f\"Number of rows with null values: {rows_with_nulls}\")"
   ]
  },
  {
   "cell_type": "markdown",
   "metadata": {
    "application/vnd.databricks.v1+cell": {
     "cellMetadata": {
      "byteLimit": 2048000,
      "rowLimit": 10000
     },
     "inputWidgets": {},
     "nuid": "ee4eebb1-1af5-4e08-a6d3-ac1b0b78370e",
     "showTitle": false,
     "title": ""
    }
   },
   "source": [
    "#### Transform"
   ]
  },
  {
   "cell_type": "code",
   "execution_count": 0,
   "metadata": {
    "application/vnd.databricks.v1+cell": {
     "cellMetadata": {
      "byteLimit": 2048000,
      "rowLimit": 10000
     },
     "inputWidgets": {},
     "nuid": "c697ab94-8937-4e07-9988-9c0979a6f48d",
     "showTitle": false,
     "title": ""
    }
   },
   "outputs": [
    {
     "output_type": "display_data",
     "data": {
      "application/vnd.jupyter.widget-view+json": {
       "model_id": "44bf5f0c3fd84fbcb4746b31b09bb342",
       "version_major": 2,
       "version_minor": 0
      },
      "text/plain": [
       "Downloading artifacts:   0%|          | 0/10 [00:00<?, ?it/s]"
      ]
     },
     "metadata": {},
     "output_type": "display_data"
    },
    {
     "output_type": "display_data",
     "data": {
      "application/vnd.jupyter.widget-view+json": {
       "model_id": "11234d3aa4154512844d3b5e8741079a",
       "version_major": 2,
       "version_minor": 0
      },
      "text/plain": [
       "Uploading artifacts:   0%|          | 0/4 [00:00<?, ?it/s]"
      ]
     },
     "metadata": {},
     "output_type": "display_data"
    }
   ],
   "source": [
    "# Use the same pipeline from training on the train data\n",
    "test_trf = pipeline \\\n",
    "    .fit(val_df) \\\n",
    "    .transform(test_df) \\\n",
    "    .select(\"index\", \"features\", \"target\")"
   ]
  },
  {
   "cell_type": "markdown",
   "metadata": {
    "application/vnd.databricks.v1+cell": {
     "cellMetadata": {
      "byteLimit": 2048000,
      "rowLimit": 10000
     },
     "inputWidgets": {},
     "nuid": "75c02931-8cad-4533-87cf-1250d0368ec1",
     "showTitle": false,
     "title": ""
    }
   },
   "source": [
    "#### Train and Predict"
   ]
  },
  {
   "cell_type": "code",
   "execution_count": 0,
   "metadata": {
    "application/vnd.databricks.v1+cell": {
     "cellMetadata": {
      "byteLimit": 2048000,
      "rowLimit": 10000
     },
     "inputWidgets": {},
     "nuid": "0bfa7972-ff58-425b-a36f-58dcb14593b9",
     "showTitle": false,
     "title": ""
    }
   },
   "outputs": [
    {
     "output_type": "stream",
     "name": "stderr",
     "output_type": "stream",
     "text": [
      "2024-08-07 16:46:20,335 INFO XGBoost-PySpark: _fit Running xgboost-2.0.3 on 2 workers with\n\tbooster params: {'objective': 'binary:logistic', 'colsample_bytree': 1, 'device': 'cpu', 'max_depth': 3, 'subsample': 1, 'nthread': 1}\n\ttrain_call_kwargs_params: {'verbose_eval': True, 'num_boost_round': 100}\n\tdmatrix_kwargs: {'nthread': 1, 'missing': nan}\n2024-08-07 16:46:40,010 INFO XGBoost-PySpark: _fit Finished xgboost training!\n/databricks/spark/python/pyspark/sql/context.py:164: FutureWarning: Deprecated in 3.0.0. Use SparkSession.builder.getOrCreate() instead.\n  warnings.warn(\n"
     ]
    },
    {
     "output_type": "stream",
     "name": "stdout",
     "output_type": "stream",
     "text": [
      "\nParams for the Trial:\nMax_depth: 3, Subsample: 1, Colsample_bytree: 1\n\nAverage Metrics:\nAccuracy: 0.7549\nPrecision: 0.5260\nRecall: 0.6632\nF-Beta: 0.5650\nF1 Score: 0.5867\n"
     ]
    }
   ],
   "source": [
    "test_results = xgboost_model(val_trf, test_trf, max_depth=3, subsample=1, colsample_bytree=1)"
   ]
  }
 ],
 "metadata": {
  "application/vnd.databricks.v1+notebook": {
   "dashboards": [],
   "environmentMetadata": {
    "base_environment": "",
    "client": "1"
   },
   "language": "python",
   "notebookMetadata": {
    "pythonIndentUnit": 4
   },
   "notebookName": "MetaModelClean",
   "widgets": {}
  }
 },
 "nbformat": 4,
 "nbformat_minor": 0
}
