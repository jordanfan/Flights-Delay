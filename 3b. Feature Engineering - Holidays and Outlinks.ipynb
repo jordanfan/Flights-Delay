{
 "cells": [
  {
   "cell_type": "code",
   "execution_count": 0,
   "metadata": {
    "application/vnd.databricks.v1+cell": {
     "cellMetadata": {
      "byteLimit": 2048000,
      "rowLimit": 10000
     },
     "inputWidgets": {},
     "nuid": "f3c21689-d2e6-48fa-bf8d-47b13028ce81",
     "showTitle": false,
     "title": ""
    }
   },
   "outputs": [
    {
     "output_type": "display_data",
     "data": {
      "text/html": [
       "<style scoped>\n",
       "  .table-result-container {\n",
       "    max-height: 300px;\n",
       "    overflow: auto;\n",
       "  }\n",
       "  table, th, td {\n",
       "    border: 1px solid black;\n",
       "    border-collapse: collapse;\n",
       "  }\n",
       "  th, td {\n",
       "    padding: 5px;\n",
       "  }\n",
       "  th {\n",
       "    text-align: left;\n",
       "  }\n",
       "</style><div class='table-result-container'><table class='table-result'><thead style='background-color: white'><tr><th>path</th><th>name</th><th>size</th><th>modificationTime</th></tr></thead><tbody><tr><td>wasbs://final-project-summer24-team3@summer2024team3.blob.core.windows.net/TP/</td><td>TP/</td><td>0</td><td>1722323705000</td></tr></tbody></table></div>"
      ]
     },
     "metadata": {
      "application/vnd.databricks.v1+output": {
       "addedWidgets": {},
       "aggData": [],
       "aggError": "",
       "aggOverflow": false,
       "aggSchema": [],
       "aggSeriesLimitReached": false,
       "aggType": "",
       "arguments": {},
       "columnCustomDisplayInfos": {},
       "data": [
        [
         "wasbs://final-project-summer24-team3@summer2024team3.blob.core.windows.net/TP/",
         "TP/",
         0,
         1722323705000
        ]
       ],
       "datasetInfos": [],
       "dbfsResultPath": null,
       "isJsonSchema": true,
       "metadata": {},
       "overflow": false,
       "plotOptions": {
        "customPlotOptions": {},
        "displayType": "table",
        "pivotAggregation": null,
        "pivotColumns": null,
        "xColumns": null,
        "yColumns": null
       },
       "removedWidgets": [],
       "schema": [
        {
         "metadata": "{}",
         "name": "path",
         "type": "\"string\""
        },
        {
         "metadata": "{}",
         "name": "name",
         "type": "\"string\""
        },
        {
         "metadata": "{}",
         "name": "size",
         "type": "\"long\""
        },
        {
         "metadata": "{}",
         "name": "modificationTime",
         "type": "\"long\""
        }
       ],
       "type": "table"
      }
     },
     "output_type": "display_data"
    }
   ],
   "source": [
    "# The following blob storage is accessible to team members only (read and write)\n",
    "# access key is valid til TTL\n",
    "# after that you will need to create a new SAS key and authenticate access again via DataBrick command line\n",
    "blob_container  = \"final-project-summer24-team3\"       # The name of your container created in https://portal.azure.com\n",
    "storage_account = \"summer2024team3\"  # The name of your Storage account created in https://portal.azure.com\n",
    "secret_scope    = \"summer24_team_3_2_scope\"           # The name of the scope created in your local computer using the Databricks CLI\n",
    "secret_key      = \"final-project-summer24-team3\"             # The name of the secret key created in your local computer using the Databricks CLI\n",
    "team_blob_url   = f\"wasbs://{blob_container}@{storage_account}.blob.core.windows.net\"  #points to the root of your team storage bucket\n",
    "\n",
    "# the 261 course blob storage is mounted here.\n",
    "mids261_mount_path      = \"/mnt/mids-w261\"\n",
    "\n",
    "# SAS Token: Grant the team limited access to Azure Storage resources\n",
    "spark.conf.set(\n",
    "  f\"fs.azure.sas.{blob_container}.{storage_account}.blob.core.windows.net\",\n",
    "  dbutils.secrets.get(scope = secret_scope, key = secret_key)\n",
    ")\n",
    "\n",
    "# see what's in the blob storage root folder \n",
    "display(dbutils.fs.ls(f\"{team_blob_url}\"))"
   ]
  },
  {
   "cell_type": "code",
   "execution_count": 0,
   "metadata": {
    "application/vnd.databricks.v1+cell": {
     "cellMetadata": {
      "byteLimit": 2048000,
      "rowLimit": 10000
     },
     "inputWidgets": {},
     "nuid": "11762877-e6ce-488e-930f-0810eb2c42ad",
     "showTitle": false,
     "title": ""
    }
   },
   "outputs": [],
   "source": [
    "from pyspark.sql.functions import col, isnan, count, when, split, concat, lit, min, row_number, lower, lpad, udf, first, countDistinct, coalesce, to_timestamp, monotonically_increasing_id, explode, array, concat_ws, unix_timestamp\n",
    "from pyspark.sql.types import StringType, StructField, StructType, FloatType\n",
    "from pyspark.ml.feature import StringIndexer, OneHotEncoder, VectorAssembler\n",
    "from pyspark.ml import Pipeline\n",
    "from pyspark.sql.window import Window\n",
    "import pyspark.sql.functions as F\n",
    "import numpy as np\n",
    "import matplotlib.pyplot as plt\n",
    "import pandas as pd\n",
    "import seaborn as sns\n",
    "from datetime import datetime, timedelta"
   ]
  },
  {
   "cell_type": "code",
   "execution_count": 0,
   "metadata": {
    "application/vnd.databricks.v1+cell": {
     "cellMetadata": {
      "byteLimit": 2048000,
      "rowLimit": 10000
     },
     "inputWidgets": {},
     "nuid": "304381cc-37d3-4b75-a095-4f93edd81ff5",
     "showTitle": false,
     "title": ""
    }
   },
   "outputs": [],
   "source": [
    "merged_3m = spark.read.parquet(\"wasbs://final-project-summer24-team3@summer2024team3.blob.core.windows.net/TP/flight_stations_weather_3m_cleaned2\")\n",
    "merged_1y = spark.read.parquet(\"wasbs://final-project-summer24-team3@summer2024team3.blob.core.windows.net/TP/flight_stations_weather_1y_cleaned2\")\n",
    "merged_all = spark.read.parquet(\"wasbs://final-project-summer24-team3@summer2024team3.blob.core.windows.net/TP/flight_stations_weather_all_cleaned2\")"
   ]
  },
  {
   "cell_type": "code",
   "execution_count": 0,
   "metadata": {
    "application/vnd.databricks.v1+cell": {
     "cellMetadata": {
      "byteLimit": 2048000,
      "rowLimit": 10000
     },
     "inputWidgets": {},
     "nuid": "0f324799-d1e0-48da-8be7-e7ef2d008c6e",
     "showTitle": false,
     "title": ""
    }
   },
   "outputs": [
    {
     "output_type": "execute_result",
     "data": {
      "text/plain": [
       "31037110"
      ]
     },
     "execution_count": 71,
     "metadata": {},
     "output_type": "execute_result"
    }
   ],
   "source": [
    "merged_all.withColumn(\"YEAR\", col(\"FL_DATE\").cast(\"string\").substr(0, 4)).filter(col(\"YEAR\").isin(\"2015\", \"2016\", \"2017\",\"2018\", \"2019\")).count()"
   ]
  },
  {
   "cell_type": "code",
   "execution_count": 0,
   "metadata": {
    "application/vnd.databricks.v1+cell": {
     "cellMetadata": {
      "byteLimit": 2048000,
      "rowLimit": 10000
     },
     "inputWidgets": {},
     "nuid": "39ba4200-ef51-429c-b784-48bde6df2590",
     "showTitle": false,
     "title": ""
    }
   },
   "outputs": [],
   "source": [
    "df = merged_all"
   ]
  },
  {
   "cell_type": "code",
   "execution_count": 0,
   "metadata": {
    "application/vnd.databricks.v1+cell": {
     "cellMetadata": {
      "byteLimit": 2048000,
      "rowLimit": 10000
     },
     "inputWidgets": {},
     "nuid": "439f1e0a-909c-46a4-952b-d6ac7175d654",
     "showTitle": false,
     "title": ""
    }
   },
   "outputs": [],
   "source": [
    "holidays = [# New Years\n",
    "            \"2015-01-01\", \"2016-01-01\", \"2017-01-01\", \"2018-01-01\", \"2019-01-01\", \"2020-01-01\", \"2021-01-01\",\n",
    "            # MLK Day \n",
    "            \"2015-01-19\", \"2016-01-18\", \"2017-01-16\", \"2018-01-15\", \"2019-01-21\", \"2020-01-20\", \"2021-01-18\",\n",
    "            # President's Day\n",
    "            \"2015-02-16\", \"2016-02-15\", \"2017-02-20\", \"2018-02-19\", \"2019-02-18\", \"2020-02-17\", \"2021-02-15\",\n",
    "            # Memorial Day \n",
    "            # Juneteeth became holiday in 2021 (skip)\n",
    "            # Independence Day \n",
    "            \"2015-07-04\", \"2016-07-04\", \"2017-07-04\", \"2018-07-04\", \"2019-07-04\", \"2020-07-04\", \"2021-07-04\",\n",
    "            # Labor Day\n",
    "            \"2015-09-07\", \"2016-09-05\", \"2017-09-04\", \"2018-09-03\", \"2019-09-02\", \"2020-09-07\", \"2021-09-06\",\n",
    "            # Columbus Day \n",
    "            \"2015-10-12\", \"2016-10-10\", \"2017-10-09\", \"2018-10-08\", \"2019-10-14\", \"2020-10-12\", \"2021-10-11\", \n",
    "            # Veterans Day\n",
    "            \"2015-11-11\", \"2016-11-11\", \"2017-11-11\", \"2018-11-11\", \"2019-11-11\", \"2020-11-11\", \"2021-11-11\",\n",
    "            # Thanksgiving Day \n",
    "            \"2015-11-26\", \"2016-11-24\", \"2017-11-23\", \"2018-11-22\", \"2019-11-28\", \"2020-11-26\", \"2021-11-25\",\n",
    "            # Christmas Day\n",
    "            \"2015-12-25\", \"2016-12-25\", \"2017-12-25\", \"2018-12-25\", \"2019-12-25\", \"2020-12-25\", \"2021-12-25\"\n",
    "            ]\n",
    "# Convert to date \n",
    "holiday_dates = [datetime.strptime(date, \"%Y-%m-%d\") for date in holidays]\n",
    "# Get all days within 3 days of a holiday date \n",
    "all_dates = []\n",
    "for date in holiday_dates:\n",
    "    start_date = date - timedelta(days=3)\n",
    "    end_date = date + timedelta(days=3)\n",
    "    current_date = start_date\n",
    "    while current_date <= end_date:\n",
    "        all_dates.append(current_date.strftime(\"%Y-%m-%d\"))\n",
    "        current_date += timedelta(days=1)\n"
   ]
  },
  {
   "cell_type": "code",
   "execution_count": 0,
   "metadata": {
    "application/vnd.databricks.v1+cell": {
     "cellMetadata": {
      "byteLimit": 2048000,
      "rowLimit": 10000
     },
     "inputWidgets": {},
     "nuid": "65576f31-773e-4458-a55f-cdf749dcf088",
     "showTitle": false,
     "title": ""
    }
   },
   "outputs": [],
   "source": [
    "# Create binary indicator if flight date is scheduled within 3 days of a holiday \n",
    "df = df.withColumn(\"DATE\", col(\"FL_DATE\").cast(\"string\").substr(0, 10)).withColumn(\"HOLIDAY\", when(col(\"DATE\").isin(all_dates), 1).otherwise(0)).drop(\"DATE\")"
   ]
  },
  {
   "cell_type": "code",
   "execution_count": 0,
   "metadata": {
    "application/vnd.databricks.v1+cell": {
     "cellMetadata": {
      "byteLimit": 2048000,
      "rowLimit": 10000
     },
     "inputWidgets": {},
     "nuid": "7847bd6b-c963-495b-9d58-e1f20ac46a0e",
     "showTitle": false,
     "title": ""
    }
   },
   "outputs": [],
   "source": [
    "# Removing \"arrival features\" -- see Leakage discussion\n",
    "df = df.drop(\"ARR_12hr\", \"ARR_6hr\", \"ARR_4hr\")"
   ]
  },
  {
   "cell_type": "code",
   "execution_count": 0,
   "metadata": {
    "application/vnd.databricks.v1+cell": {
     "cellMetadata": {
      "byteLimit": 2048000,
      "rowLimit": 10000
     },
     "inputWidgets": {},
     "nuid": "05543b07-1898-4dc9-bba6-d16292c63b1a",
     "showTitle": false,
     "title": ""
    }
   },
   "outputs": [],
   "source": [
    "# generate timestamp for running window functions\n",
    "def update_df_unixtime(df, timestring, datestring):\n",
    "    \"\"\"\n",
    "    Inputs: dataframe, CRS_DEP_TIME, FL_DATE\n",
    "    Outputs: dataframe with unix timestring\n",
    "    \"\"\"\n",
    "\n",
    "    # Convert the military time to a time string\n",
    "    df = df.withColumn(\"MOD_DEP_TIME\", F.lpad(F.col(str(timestring)).cast(\"string\"), 4, \"0\"))\n",
    "    df = df.withColumn(\"MOD_DEP_TIME\", F.concat_ws(\":\", df.MOD_DEP_TIME.substr(1, 2), df.MOD_DEP_TIME.substr(3, 2)))\n",
    "\n",
    "    # Combine the date column with the time string to create a datetime string\n",
    "    df = df.withColumn(\"MOD_DEP_DATE_TIME\", F.concat_ws(\" \", F.col(str(datestring)).cast(\"string\").substr(0, 10), F.col(\"MOD_DEP_TIME\")))\n",
    "\n",
    "    # Convert the datetime string to a UNIX timestamp\n",
    "    df = df.withColumn(\"DEP_TIMESTAMP_UNIX\", F.unix_timestamp(F.col(\"MOD_DEP_DATE_TIME\"), \"yyyy-MM-dd HH:mm\"))\n",
    "\n",
    "    df = df.drop(\"MOD_DEP_TIME\") \\\n",
    "           .drop(\"MOD_DEP_DATE_TIME\")\n",
    "\n",
    "    return df\n",
    "\n",
    "df = update_df_unixtime(df, \"CRS_DEP_TIME\", \"FL_DATE\")"
   ]
  },
  {
   "cell_type": "code",
   "execution_count": 0,
   "metadata": {
    "application/vnd.databricks.v1+cell": {
     "cellMetadata": {
      "byteLimit": 2048000,
      "rowLimit": 10000
     },
     "inputWidgets": {},
     "nuid": "8b747d6d-1b15-4030-be94-72cf02ac78b3",
     "showTitle": false,
     "title": ""
    }
   },
   "outputs": [],
   "source": [
    "# Define a window specification based on timestamp\n",
    "\n",
    "# Partition by origin airport & carrier\n",
    "#window_spec_carr_12hr = Window.partitionBy(\"ORIGIN_AIRPORT_ID\", \"OP_CARRIER\").orderBy(\"DEP_TIMESTAMP_UNIX\").rangeBetween(Window.currentRow-(12 * 3600), Window.currentRow-(2 * 3600))\n",
    "# window_spec_carr_6hr = Window.partitionBy(\"ORIGIN_AIRPORT_ID\", \"OP_CARRIER\").orderBy(\"DEP_TIMESTAMP_UNIX\").rangeBetween(Window.currentRow-(6 * 3600), Window.currentRow-(2 * 3600))\n",
    "\n",
    "# Partition by origin airport\n",
    "# window_spec_dep_12hr = Window.partitionBy(\"ORIGIN_AIRPORT_ID\").orderBy(\"DEP_TIMESTAMP_UNIX\").rangeBetween(Window.currentRow-(12 * 3600), Window.currentRow-(2 * 3600))\n",
    "window_spec_dep_6hr = Window.partitionBy(\"ORIGIN_AIRPORT_ID\").orderBy(\"DEP_TIMESTAMP_UNIX\").rangeBetween(Window.currentRow-(6 * 3600), Window.currentRow-(2 * 3600))\n",
    "\n",
    "# Timeframe only\n",
    "# window_spec_12hr = Window.orderBy(\"DEP_TIMESTAMP_UNIX\").rangeBetween(Window.currentRow-(12 * 3600), Window.currentRow-(2 * 3600))\n",
    "window_spec_6hr = Window.orderBy(\"DEP_TIMESTAMP_UNIX\").rangeBetween(Window.currentRow-(6 * 3600), Window.currentRow-(2 * 3600))\n",
    "\n",
    "# Compute # of outgoing flights by carrier by airport within the window -- OUT-DEGREES CARRIER\n",
    "# Compute # of outgoing flights by airport within the window -- OUT-DEGREES AIRPORT\n",
    "# Compute total flights within window\n",
    "# Compute # of delayed flights by carrier by airport within the window\n",
    "\n",
    "df = df.withColumn(\"OUTDEG_AIRPORT_6hr\", F.count(\"*\").over(window_spec_dep_6hr)/F.count(\"*\").over(window_spec_6hr))\n",
    "\n",
    "df = df.na.fill({\n",
    "        'OUTDEG_AIRPORT_6hr': 0,\n",
    "})\n",
    "\n",
    "# Drop unix timestamp column\n",
    "df = df.drop('DEP_TIMESTAMP_UNIX')"
   ]
  },
  {
   "cell_type": "code",
   "execution_count": 0,
   "metadata": {
    "application/vnd.databricks.v1+cell": {
     "cellMetadata": {
      "byteLimit": 2048000,
      "rowLimit": 10000
     },
     "inputWidgets": {},
     "nuid": "19af525d-6efa-453d-8e99-5df70dece1f0",
     "showTitle": false,
     "title": ""
    }
   },
   "outputs": [
    {
     "output_type": "display_data",
     "data": {
      "text/html": [
       "<style scoped>\n",
       "  .table-result-container {\n",
       "    max-height: 300px;\n",
       "    overflow: auto;\n",
       "  }\n",
       "  table, th, td {\n",
       "    border: 1px solid black;\n",
       "    border-collapse: collapse;\n",
       "  }\n",
       "  th, td {\n",
       "    padding: 5px;\n",
       "  }\n",
       "  th {\n",
       "    text-align: left;\n",
       "  }\n",
       "</style><div class='table-result-container'><table class='table-result'><thead style='background-color: white'><tr><th>path</th><th>name</th><th>size</th><th>modificationTime</th></tr></thead><tbody><tr><td>wasbs://final-project-summer24-team3@summer2024team3.blob.core.windows.net/TP/_SUCCESS</td><td>_SUCCESS</td><td>0</td><td>1720561571000</td></tr><tr><td>wasbs://final-project-summer24-team3@summer2024team3.blob.core.windows.net/TP/_committed_1002670972388615845</td><td>_committed_1002670972388615845</td><td>625</td><td>1720560531000</td></tr><tr><td>wasbs://final-project-summer24-team3@summer2024team3.blob.core.windows.net/TP/_committed_5669257934384103852</td><td>_committed_5669257934384103852</td><td>221</td><td>1720561571000</td></tr><tr><td>wasbs://final-project-summer24-team3@summer2024team3.blob.core.windows.net/TP/_committed_6618439955609603938</td><td>_committed_6618439955609603938</td><td>419</td><td>1720561337000</td></tr><tr><td>wasbs://final-project-summer24-team3@summer2024team3.blob.core.windows.net/TP/_committed_9167039456723159873</td><td>_committed_9167039456723159873</td><td>318</td><td>1720559468000</td></tr><tr><td>wasbs://final-project-summer24-team3@summer2024team3.blob.core.windows.net/TP/_committed_vacuum825530481471543349</td><td>_committed_vacuum825530481471543349</td><td>95</td><td>1720561338000</td></tr><tr><td>wasbs://final-project-summer24-team3@summer2024team3.blob.core.windows.net/TP/_started_1002670972388615845</td><td>_started_1002670972388615845</td><td>0</td><td>1720560531000</td></tr><tr><td>wasbs://final-project-summer24-team3@summer2024team3.blob.core.windows.net/TP/_started_5669257934384103852</td><td>_started_5669257934384103852</td><td>0</td><td>1720561570000</td></tr><tr><td>wasbs://final-project-summer24-team3@summer2024team3.blob.core.windows.net/TP/_started_6618439955609603938</td><td>_started_6618439955609603938</td><td>0</td><td>1720561337000</td></tr><tr><td>wasbs://final-project-summer24-team3@summer2024team3.blob.core.windows.net/TP/df_1y_cleaned_transformed/</td><td>df_1y_cleaned_transformed/</td><td>0</td><td>1722046865000</td></tr><tr><td>wasbs://final-project-summer24-team3@summer2024team3.blob.core.windows.net/TP/flat-ui__data.csv</td><td>flat-ui__data.csv</td><td>5491822</td><td>1720877593000</td></tr><tr><td>wasbs://final-project-summer24-team3@summer2024team3.blob.core.windows.net/TP/flight_stations_weather_1y/</td><td>flight_stations_weather_1y/</td><td>0</td><td>1721986685000</td></tr><tr><td>wasbs://final-project-summer24-team3@summer2024team3.blob.core.windows.net/TP/flight_stations_weather_1y_cleaned/</td><td>flight_stations_weather_1y_cleaned/</td><td>0</td><td>1722318047000</td></tr><tr><td>wasbs://final-project-summer24-team3@summer2024team3.blob.core.windows.net/TP/flight_stations_weather_1y_cleaned2/</td><td>flight_stations_weather_1y_cleaned2/</td><td>0</td><td>1722328427000</td></tr><tr><td>wasbs://final-project-summer24-team3@summer2024team3.blob.core.windows.net/TP/flight_stations_weather_1y_cleaned2DownSample1-1/</td><td>flight_stations_weather_1y_cleaned2DownSample1-1/</td><td>0</td><td>1722533565000</td></tr><tr><td>wasbs://final-project-summer24-team3@summer2024team3.blob.core.windows.net/TP/flight_stations_weather_1y_cleaned2DownSample2-1/</td><td>flight_stations_weather_1y_cleaned2DownSample2-1/</td><td>0</td><td>1722445568000</td></tr><tr><td>wasbs://final-project-summer24-team3@summer2024team3.blob.core.windows.net/TP/flight_stations_weather_1y_cleaned2DownSample3-1/</td><td>flight_stations_weather_1y_cleaned2DownSample3-1/</td><td>0</td><td>1722445041000</td></tr><tr><td>wasbs://final-project-summer24-team3@summer2024team3.blob.core.windows.net/TP/flight_stations_weather_3m/</td><td>flight_stations_weather_3m/</td><td>0</td><td>1721983865000</td></tr><tr><td>wasbs://final-project-summer24-team3@summer2024team3.blob.core.windows.net/TP/flight_stations_weather_3m_cleaned/</td><td>flight_stations_weather_3m_cleaned/</td><td>0</td><td>1722317090000</td></tr><tr><td>wasbs://final-project-summer24-team3@summer2024team3.blob.core.windows.net/TP/flight_stations_weather_3m_cleaned2/</td><td>flight_stations_weather_3m_cleaned2/</td><td>0</td><td>1722329466000</td></tr><tr><td>wasbs://final-project-summer24-team3@summer2024team3.blob.core.windows.net/TP/flight_stations_weather_3m_cleaned2DownSample2-1/</td><td>flight_stations_weather_3m_cleaned2DownSample2-1/</td><td>0</td><td>1722445594000</td></tr><tr><td>wasbs://final-project-summer24-team3@summer2024team3.blob.core.windows.net/TP/flight_stations_weather_3m_cleaned2DownSample3-1/</td><td>flight_stations_weather_3m_cleaned2DownSample3-1/</td><td>0</td><td>1722444939000</td></tr><tr><td>wasbs://final-project-summer24-team3@summer2024team3.blob.core.windows.net/TP/flight_stations_weather_3m_graphs/</td><td>flight_stations_weather_3m_graphs/</td><td>0</td><td>1722492863000</td></tr><tr><td>wasbs://final-project-summer24-team3@summer2024team3.blob.core.windows.net/TP/flight_stations_weather_all/</td><td>flight_stations_weather_all/</td><td>0</td><td>1721990625000</td></tr><tr><td>wasbs://final-project-summer24-team3@summer2024team3.blob.core.windows.net/TP/flight_stations_weather_all_cleaned/</td><td>flight_stations_weather_all_cleaned/</td><td>0</td><td>1722328073000</td></tr><tr><td>wasbs://final-project-summer24-team3@summer2024team3.blob.core.windows.net/TP/flight_stations_weather_all_cleaned2/</td><td>flight_stations_weather_all_cleaned2/</td><td>0</td><td>1722329220000</td></tr><tr><td>wasbs://final-project-summer24-team3@summer2024team3.blob.core.windows.net/TP/flight_stations_weather_all_cleaned2DownSample2-1/</td><td>flight_stations_weather_all_cleaned2DownSample2-1/</td><td>0</td><td>1722445509000</td></tr><tr><td>wasbs://final-project-summer24-team3@summer2024team3.blob.core.windows.net/TP/flight_stations_weather_all_cleaned2DownSample3-1/</td><td>flight_stations_weather_all_cleaned2DownSample3-1/</td><td>0</td><td>1722445240000</td></tr><tr><td>wasbs://final-project-summer24-team3@summer2024team3.blob.core.windows.net/TP/flight_stations_weather_all_cleaned3/</td><td>flight_stations_weather_all_cleaned3/</td><td>0</td><td>1722590110000</td></tr><tr><td>wasbs://final-project-summer24-team3@summer2024team3.blob.core.windows.net/TP/lr_data/</td><td>lr_data/</td><td>0</td><td>1721720411000</td></tr><tr><td>wasbs://final-project-summer24-team3@summer2024team3.blob.core.windows.net/TP/mlpipe.png</td><td>mlpipe.png</td><td>44394</td><td>1720753556000</td></tr><tr><td>wasbs://final-project-summer24-team3@summer2024team3.blob.core.windows.net/TP/part-00000-tid-5669257934384103852-091b7fb5-c969-4ffb-8606-1028f66fa60c-49-1-c000.snappy.parquet</td><td>part-00000-tid-5669257934384103852-091b7fb5-c969-4ffb-8606-1028f66fa60c-49-1-c000.snappy.parquet</td><td>14493</td><td>1720561571000</td></tr></tbody></table></div>"
      ]
     },
     "metadata": {
      "application/vnd.databricks.v1+output": {
       "addedWidgets": {},
       "aggData": [],
       "aggError": "",
       "aggOverflow": false,
       "aggSchema": [],
       "aggSeriesLimitReached": false,
       "aggType": "",
       "arguments": {},
       "columnCustomDisplayInfos": {},
       "data": [
        [
         "wasbs://final-project-summer24-team3@summer2024team3.blob.core.windows.net/TP/_SUCCESS",
         "_SUCCESS",
         0,
         1720561571000
        ],
        [
         "wasbs://final-project-summer24-team3@summer2024team3.blob.core.windows.net/TP/_committed_1002670972388615845",
         "_committed_1002670972388615845",
         625,
         1720560531000
        ],
        [
         "wasbs://final-project-summer24-team3@summer2024team3.blob.core.windows.net/TP/_committed_5669257934384103852",
         "_committed_5669257934384103852",
         221,
         1720561571000
        ],
        [
         "wasbs://final-project-summer24-team3@summer2024team3.blob.core.windows.net/TP/_committed_6618439955609603938",
         "_committed_6618439955609603938",
         419,
         1720561337000
        ],
        [
         "wasbs://final-project-summer24-team3@summer2024team3.blob.core.windows.net/TP/_committed_9167039456723159873",
         "_committed_9167039456723159873",
         318,
         1720559468000
        ],
        [
         "wasbs://final-project-summer24-team3@summer2024team3.blob.core.windows.net/TP/_committed_vacuum825530481471543349",
         "_committed_vacuum825530481471543349",
         95,
         1720561338000
        ],
        [
         "wasbs://final-project-summer24-team3@summer2024team3.blob.core.windows.net/TP/_started_1002670972388615845",
         "_started_1002670972388615845",
         0,
         1720560531000
        ],
        [
         "wasbs://final-project-summer24-team3@summer2024team3.blob.core.windows.net/TP/_started_5669257934384103852",
         "_started_5669257934384103852",
         0,
         1720561570000
        ],
        [
         "wasbs://final-project-summer24-team3@summer2024team3.blob.core.windows.net/TP/_started_6618439955609603938",
         "_started_6618439955609603938",
         0,
         1720561337000
        ],
        [
         "wasbs://final-project-summer24-team3@summer2024team3.blob.core.windows.net/TP/df_1y_cleaned_transformed/",
         "df_1y_cleaned_transformed/",
         0,
         1722046865000
        ],
        [
         "wasbs://final-project-summer24-team3@summer2024team3.blob.core.windows.net/TP/flat-ui__data.csv",
         "flat-ui__data.csv",
         5491822,
         1720877593000
        ],
        [
         "wasbs://final-project-summer24-team3@summer2024team3.blob.core.windows.net/TP/flight_stations_weather_1y/",
         "flight_stations_weather_1y/",
         0,
         1721986685000
        ],
        [
         "wasbs://final-project-summer24-team3@summer2024team3.blob.core.windows.net/TP/flight_stations_weather_1y_cleaned/",
         "flight_stations_weather_1y_cleaned/",
         0,
         1722318047000
        ],
        [
         "wasbs://final-project-summer24-team3@summer2024team3.blob.core.windows.net/TP/flight_stations_weather_1y_cleaned2/",
         "flight_stations_weather_1y_cleaned2/",
         0,
         1722328427000
        ],
        [
         "wasbs://final-project-summer24-team3@summer2024team3.blob.core.windows.net/TP/flight_stations_weather_1y_cleaned2DownSample1-1/",
         "flight_stations_weather_1y_cleaned2DownSample1-1/",
         0,
         1722533565000
        ],
        [
         "wasbs://final-project-summer24-team3@summer2024team3.blob.core.windows.net/TP/flight_stations_weather_1y_cleaned2DownSample2-1/",
         "flight_stations_weather_1y_cleaned2DownSample2-1/",
         0,
         1722445568000
        ],
        [
         "wasbs://final-project-summer24-team3@summer2024team3.blob.core.windows.net/TP/flight_stations_weather_1y_cleaned2DownSample3-1/",
         "flight_stations_weather_1y_cleaned2DownSample3-1/",
         0,
         1722445041000
        ],
        [
         "wasbs://final-project-summer24-team3@summer2024team3.blob.core.windows.net/TP/flight_stations_weather_3m/",
         "flight_stations_weather_3m/",
         0,
         1721983865000
        ],
        [
         "wasbs://final-project-summer24-team3@summer2024team3.blob.core.windows.net/TP/flight_stations_weather_3m_cleaned/",
         "flight_stations_weather_3m_cleaned/",
         0,
         1722317090000
        ],
        [
         "wasbs://final-project-summer24-team3@summer2024team3.blob.core.windows.net/TP/flight_stations_weather_3m_cleaned2/",
         "flight_stations_weather_3m_cleaned2/",
         0,
         1722329466000
        ],
        [
         "wasbs://final-project-summer24-team3@summer2024team3.blob.core.windows.net/TP/flight_stations_weather_3m_cleaned2DownSample2-1/",
         "flight_stations_weather_3m_cleaned2DownSample2-1/",
         0,
         1722445594000
        ],
        [
         "wasbs://final-project-summer24-team3@summer2024team3.blob.core.windows.net/TP/flight_stations_weather_3m_cleaned2DownSample3-1/",
         "flight_stations_weather_3m_cleaned2DownSample3-1/",
         0,
         1722444939000
        ],
        [
         "wasbs://final-project-summer24-team3@summer2024team3.blob.core.windows.net/TP/flight_stations_weather_3m_graphs/",
         "flight_stations_weather_3m_graphs/",
         0,
         1722492863000
        ],
        [
         "wasbs://final-project-summer24-team3@summer2024team3.blob.core.windows.net/TP/flight_stations_weather_all/",
         "flight_stations_weather_all/",
         0,
         1721990625000
        ],
        [
         "wasbs://final-project-summer24-team3@summer2024team3.blob.core.windows.net/TP/flight_stations_weather_all_cleaned/",
         "flight_stations_weather_all_cleaned/",
         0,
         1722328073000
        ],
        [
         "wasbs://final-project-summer24-team3@summer2024team3.blob.core.windows.net/TP/flight_stations_weather_all_cleaned2/",
         "flight_stations_weather_all_cleaned2/",
         0,
         1722329220000
        ],
        [
         "wasbs://final-project-summer24-team3@summer2024team3.blob.core.windows.net/TP/flight_stations_weather_all_cleaned2DownSample2-1/",
         "flight_stations_weather_all_cleaned2DownSample2-1/",
         0,
         1722445509000
        ],
        [
         "wasbs://final-project-summer24-team3@summer2024team3.blob.core.windows.net/TP/flight_stations_weather_all_cleaned2DownSample3-1/",
         "flight_stations_weather_all_cleaned2DownSample3-1/",
         0,
         1722445240000
        ],
        [
         "wasbs://final-project-summer24-team3@summer2024team3.blob.core.windows.net/TP/flight_stations_weather_all_cleaned3/",
         "flight_stations_weather_all_cleaned3/",
         0,
         1722590110000
        ],
        [
         "wasbs://final-project-summer24-team3@summer2024team3.blob.core.windows.net/TP/lr_data/",
         "lr_data/",
         0,
         1721720411000
        ],
        [
         "wasbs://final-project-summer24-team3@summer2024team3.blob.core.windows.net/TP/mlpipe.png",
         "mlpipe.png",
         44394,
         1720753556000
        ],
        [
         "wasbs://final-project-summer24-team3@summer2024team3.blob.core.windows.net/TP/part-00000-tid-5669257934384103852-091b7fb5-c969-4ffb-8606-1028f66fa60c-49-1-c000.snappy.parquet",
         "part-00000-tid-5669257934384103852-091b7fb5-c969-4ffb-8606-1028f66fa60c-49-1-c000.snappy.parquet",
         14493,
         1720561571000
        ]
       ],
       "datasetInfos": [],
       "dbfsResultPath": null,
       "isJsonSchema": true,
       "metadata": {},
       "overflow": false,
       "plotOptions": {
        "customPlotOptions": {},
        "displayType": "table",
        "pivotAggregation": null,
        "pivotColumns": null,
        "xColumns": null,
        "yColumns": null
       },
       "removedWidgets": [],
       "schema": [
        {
         "metadata": "{}",
         "name": "path",
         "type": "\"string\""
        },
        {
         "metadata": "{}",
         "name": "name",
         "type": "\"string\""
        },
        {
         "metadata": "{}",
         "name": "size",
         "type": "\"long\""
        },
        {
         "metadata": "{}",
         "name": "modificationTime",
         "type": "\"long\""
        }
       ],
       "type": "table"
      }
     },
     "output_type": "display_data"
    }
   ],
   "source": [
    "df.write.parquet(f\"{team_blob_url}/TP/flight_stations_weather_all_cleaned3\")\n",
    "display(dbutils.fs.ls(f\"{team_blob_url}/TP\"))"
   ]
  },
  {
   "cell_type": "code",
   "execution_count": 0,
   "metadata": {
    "application/vnd.databricks.v1+cell": {
     "cellMetadata": {
      "byteLimit": 2048000,
      "rowLimit": 10000
     },
     "inputWidgets": {},
     "nuid": "ce4060d2-c174-40d1-8d13-7ff05397d71d",
     "showTitle": false,
     "title": ""
    }
   },
   "outputs": [],
   "source": [
    "df = spark.read.parquet(f\"{team_blob_url}/TP/flight_stations_weather_all_cleaned3\")"
   ]
  },
  {
   "cell_type": "code",
   "execution_count": 0,
   "metadata": {
    "application/vnd.databricks.v1+cell": {
     "cellMetadata": {
      "byteLimit": 2048000,
      "rowLimit": 10000
     },
     "inputWidgets": {},
     "nuid": "5c943afe-f928-446a-b244-0928549dfc99",
     "showTitle": false,
     "title": ""
    }
   },
   "outputs": [],
   "source": [
    "# Downsample data \n",
    "\n",
    "def undersample_majority(df, ratio=3):\n",
    "    '''\n",
    "    Majority class 0\n",
    "    ratio is the ratio of majority to minority\n",
    "    Eg. ratio 1 is equivalent to majority:minority = 1:1\n",
    "    ratio 5 is equivalent to majority:minority = 5:1\n",
    "    '''\n",
    "    minority_count = df.filter(F.col('DEP_DEL15')==1).count()\n",
    "    whole_count = df.count()\n",
    "    undersampled_majority = df.filter(F.col('DEP_DEL15')==0)\\\n",
    "        .sample(withReplacement=False, fraction=(ratio*minority_count/whole_count),seed=88)\n",
    "    undersampled_df = df.filter(F.col('DEP_DEL15')==1).union(undersampled_majority)\n",
    "    \n",
    "    return undersampled_df\n",
    "\n",
    "df_train = df.withColumn(\"YEAR\", col(\"FL_DATE\").cast(\"string\").substr(0, 4)).filter(col(\"YEAR\").isin(\"2015\", \"2016\", \"2017\", \"2018\"))\n",
    "df_test = df.withColumn(\"YEAR\", col(\"FL_DATE\").cast(\"string\").substr(0, 4)).filter(col(\"YEAR\").isin(\"2019\"))\n",
    "\n",
    "# Undersample so that training set has a 2:1 ratio of not delayed to delayed \n",
    "# Only undersample training set to not affect test set \n",
    "df_train = undersample_majority(df_train, ratio = 2)"
   ]
  },
  {
   "cell_type": "code",
   "execution_count": 0,
   "metadata": {
    "application/vnd.databricks.v1+cell": {
     "cellMetadata": {
      "byteLimit": 2048000,
      "rowLimit": 10000
     },
     "inputWidgets": {},
     "nuid": "cc331c41-1eb0-49ee-900f-523bd4072cb9",
     "showTitle": false,
     "title": ""
    }
   },
   "outputs": [
    {
     "output_type": "stream",
     "name": "stdout",
     "output_type": "stream",
     "text": [
      "Train Count: 12053218\nTest Count: 7270542\n"
     ]
    }
   ],
   "source": [
    "print(\"Train Count:\", df_train.count())\n",
    "print(\"Test Count:\", df_test.count())"
   ]
  },
  {
   "cell_type": "code",
   "execution_count": 0,
   "metadata": {
    "application/vnd.databricks.v1+cell": {
     "cellMetadata": {
      "byteLimit": 2048000,
      "rowLimit": 10000
     },
     "inputWidgets": {},
     "nuid": "9619e7ab-bc64-495a-a280-fd0a83097b1d",
     "showTitle": false,
     "title": ""
    }
   },
   "outputs": [
    {
     "output_type": "display_data",
     "data": {
      "text/html": [
       "<style scoped>\n",
       "  .table-result-container {\n",
       "    max-height: 300px;\n",
       "    overflow: auto;\n",
       "  }\n",
       "  table, th, td {\n",
       "    border: 1px solid black;\n",
       "    border-collapse: collapse;\n",
       "  }\n",
       "  th, td {\n",
       "    padding: 5px;\n",
       "  }\n",
       "  th {\n",
       "    text-align: left;\n",
       "  }\n",
       "</style><div class='table-result-container'><table class='table-result'><thead style='background-color: white'><tr><th>path</th><th>name</th><th>size</th><th>modificationTime</th></tr></thead><tbody><tr><td>wasbs://final-project-summer24-team3@summer2024team3.blob.core.windows.net/TP/_SUCCESS</td><td>_SUCCESS</td><td>0</td><td>1720561571000</td></tr><tr><td>wasbs://final-project-summer24-team3@summer2024team3.blob.core.windows.net/TP/_committed_1002670972388615845</td><td>_committed_1002670972388615845</td><td>625</td><td>1720560531000</td></tr><tr><td>wasbs://final-project-summer24-team3@summer2024team3.blob.core.windows.net/TP/_committed_5669257934384103852</td><td>_committed_5669257934384103852</td><td>221</td><td>1720561571000</td></tr><tr><td>wasbs://final-project-summer24-team3@summer2024team3.blob.core.windows.net/TP/_committed_6618439955609603938</td><td>_committed_6618439955609603938</td><td>419</td><td>1720561337000</td></tr><tr><td>wasbs://final-project-summer24-team3@summer2024team3.blob.core.windows.net/TP/_committed_9167039456723159873</td><td>_committed_9167039456723159873</td><td>318</td><td>1720559468000</td></tr><tr><td>wasbs://final-project-summer24-team3@summer2024team3.blob.core.windows.net/TP/_committed_vacuum825530481471543349</td><td>_committed_vacuum825530481471543349</td><td>95</td><td>1720561338000</td></tr><tr><td>wasbs://final-project-summer24-team3@summer2024team3.blob.core.windows.net/TP/_started_1002670972388615845</td><td>_started_1002670972388615845</td><td>0</td><td>1720560531000</td></tr><tr><td>wasbs://final-project-summer24-team3@summer2024team3.blob.core.windows.net/TP/_started_5669257934384103852</td><td>_started_5669257934384103852</td><td>0</td><td>1720561570000</td></tr><tr><td>wasbs://final-project-summer24-team3@summer2024team3.blob.core.windows.net/TP/_started_6618439955609603938</td><td>_started_6618439955609603938</td><td>0</td><td>1720561337000</td></tr><tr><td>wasbs://final-project-summer24-team3@summer2024team3.blob.core.windows.net/TP/df_1y_cleaned_transformed/</td><td>df_1y_cleaned_transformed/</td><td>0</td><td>1722046865000</td></tr><tr><td>wasbs://final-project-summer24-team3@summer2024team3.blob.core.windows.net/TP/flat-ui__data.csv</td><td>flat-ui__data.csv</td><td>5491822</td><td>1720877593000</td></tr><tr><td>wasbs://final-project-summer24-team3@summer2024team3.blob.core.windows.net/TP/flight_stations_weather_1y/</td><td>flight_stations_weather_1y/</td><td>0</td><td>1721986685000</td></tr><tr><td>wasbs://final-project-summer24-team3@summer2024team3.blob.core.windows.net/TP/flight_stations_weather_1y_cleaned/</td><td>flight_stations_weather_1y_cleaned/</td><td>0</td><td>1722318047000</td></tr><tr><td>wasbs://final-project-summer24-team3@summer2024team3.blob.core.windows.net/TP/flight_stations_weather_1y_cleaned2/</td><td>flight_stations_weather_1y_cleaned2/</td><td>0</td><td>1722328427000</td></tr><tr><td>wasbs://final-project-summer24-team3@summer2024team3.blob.core.windows.net/TP/flight_stations_weather_1y_cleaned2DownSample1-1/</td><td>flight_stations_weather_1y_cleaned2DownSample1-1/</td><td>0</td><td>1722533565000</td></tr><tr><td>wasbs://final-project-summer24-team3@summer2024team3.blob.core.windows.net/TP/flight_stations_weather_1y_cleaned2DownSample2-1/</td><td>flight_stations_weather_1y_cleaned2DownSample2-1/</td><td>0</td><td>1722445568000</td></tr><tr><td>wasbs://final-project-summer24-team3@summer2024team3.blob.core.windows.net/TP/flight_stations_weather_1y_cleaned2DownSample3-1/</td><td>flight_stations_weather_1y_cleaned2DownSample3-1/</td><td>0</td><td>1722445041000</td></tr><tr><td>wasbs://final-project-summer24-team3@summer2024team3.blob.core.windows.net/TP/flight_stations_weather_3m/</td><td>flight_stations_weather_3m/</td><td>0</td><td>1721983865000</td></tr><tr><td>wasbs://final-project-summer24-team3@summer2024team3.blob.core.windows.net/TP/flight_stations_weather_3m_cleaned/</td><td>flight_stations_weather_3m_cleaned/</td><td>0</td><td>1722317090000</td></tr><tr><td>wasbs://final-project-summer24-team3@summer2024team3.blob.core.windows.net/TP/flight_stations_weather_3m_cleaned2/</td><td>flight_stations_weather_3m_cleaned2/</td><td>0</td><td>1722329466000</td></tr><tr><td>wasbs://final-project-summer24-team3@summer2024team3.blob.core.windows.net/TP/flight_stations_weather_3m_cleaned2DownSample2-1/</td><td>flight_stations_weather_3m_cleaned2DownSample2-1/</td><td>0</td><td>1722445594000</td></tr><tr><td>wasbs://final-project-summer24-team3@summer2024team3.blob.core.windows.net/TP/flight_stations_weather_3m_cleaned2DownSample3-1/</td><td>flight_stations_weather_3m_cleaned2DownSample3-1/</td><td>0</td><td>1722444939000</td></tr><tr><td>wasbs://final-project-summer24-team3@summer2024team3.blob.core.windows.net/TP/flight_stations_weather_3m_graphs/</td><td>flight_stations_weather_3m_graphs/</td><td>0</td><td>1722492863000</td></tr><tr><td>wasbs://final-project-summer24-team3@summer2024team3.blob.core.windows.net/TP/flight_stations_weather_all/</td><td>flight_stations_weather_all/</td><td>0</td><td>1721990625000</td></tr><tr><td>wasbs://final-project-summer24-team3@summer2024team3.blob.core.windows.net/TP/flight_stations_weather_all_cleaned/</td><td>flight_stations_weather_all_cleaned/</td><td>0</td><td>1722328073000</td></tr><tr><td>wasbs://final-project-summer24-team3@summer2024team3.blob.core.windows.net/TP/flight_stations_weather_all_cleaned2/</td><td>flight_stations_weather_all_cleaned2/</td><td>0</td><td>1722329220000</td></tr><tr><td>wasbs://final-project-summer24-team3@summer2024team3.blob.core.windows.net/TP/flight_stations_weather_all_cleaned2DownSample2-1/</td><td>flight_stations_weather_all_cleaned2DownSample2-1/</td><td>0</td><td>1722445509000</td></tr><tr><td>wasbs://final-project-summer24-team3@summer2024team3.blob.core.windows.net/TP/flight_stations_weather_all_cleaned2DownSample3-1/</td><td>flight_stations_weather_all_cleaned2DownSample3-1/</td><td>0</td><td>1722445240000</td></tr><tr><td>wasbs://final-project-summer24-team3@summer2024team3.blob.core.windows.net/TP/flight_stations_weather_all_cleaned3/</td><td>flight_stations_weather_all_cleaned3/</td><td>0</td><td>1722590621000</td></tr><tr><td>wasbs://final-project-summer24-team3@summer2024team3.blob.core.windows.net/TP/lr_data/</td><td>lr_data/</td><td>0</td><td>1721720411000</td></tr><tr><td>wasbs://final-project-summer24-team3@summer2024team3.blob.core.windows.net/TP/mlpipe.png</td><td>mlpipe.png</td><td>44394</td><td>1720753556000</td></tr><tr><td>wasbs://final-project-summer24-team3@summer2024team3.blob.core.windows.net/TP/part-00000-tid-5669257934384103852-091b7fb5-c969-4ffb-8606-1028f66fa60c-49-1-c000.snappy.parquet</td><td>part-00000-tid-5669257934384103852-091b7fb5-c969-4ffb-8606-1028f66fa60c-49-1-c000.snappy.parquet</td><td>14493</td><td>1720561571000</td></tr></tbody></table></div>"
      ]
     },
     "metadata": {
      "application/vnd.databricks.v1+output": {
       "addedWidgets": {},
       "aggData": [],
       "aggError": "",
       "aggOverflow": false,
       "aggSchema": [],
       "aggSeriesLimitReached": false,
       "aggType": "",
       "arguments": {},
       "columnCustomDisplayInfos": {},
       "data": [
        [
         "wasbs://final-project-summer24-team3@summer2024team3.blob.core.windows.net/TP/_SUCCESS",
         "_SUCCESS",
         0,
         1720561571000
        ],
        [
         "wasbs://final-project-summer24-team3@summer2024team3.blob.core.windows.net/TP/_committed_1002670972388615845",
         "_committed_1002670972388615845",
         625,
         1720560531000
        ],
        [
         "wasbs://final-project-summer24-team3@summer2024team3.blob.core.windows.net/TP/_committed_5669257934384103852",
         "_committed_5669257934384103852",
         221,
         1720561571000
        ],
        [
         "wasbs://final-project-summer24-team3@summer2024team3.blob.core.windows.net/TP/_committed_6618439955609603938",
         "_committed_6618439955609603938",
         419,
         1720561337000
        ],
        [
         "wasbs://final-project-summer24-team3@summer2024team3.blob.core.windows.net/TP/_committed_9167039456723159873",
         "_committed_9167039456723159873",
         318,
         1720559468000
        ],
        [
         "wasbs://final-project-summer24-team3@summer2024team3.blob.core.windows.net/TP/_committed_vacuum825530481471543349",
         "_committed_vacuum825530481471543349",
         95,
         1720561338000
        ],
        [
         "wasbs://final-project-summer24-team3@summer2024team3.blob.core.windows.net/TP/_started_1002670972388615845",
         "_started_1002670972388615845",
         0,
         1720560531000
        ],
        [
         "wasbs://final-project-summer24-team3@summer2024team3.blob.core.windows.net/TP/_started_5669257934384103852",
         "_started_5669257934384103852",
         0,
         1720561570000
        ],
        [
         "wasbs://final-project-summer24-team3@summer2024team3.blob.core.windows.net/TP/_started_6618439955609603938",
         "_started_6618439955609603938",
         0,
         1720561337000
        ],
        [
         "wasbs://final-project-summer24-team3@summer2024team3.blob.core.windows.net/TP/df_1y_cleaned_transformed/",
         "df_1y_cleaned_transformed/",
         0,
         1722046865000
        ],
        [
         "wasbs://final-project-summer24-team3@summer2024team3.blob.core.windows.net/TP/flat-ui__data.csv",
         "flat-ui__data.csv",
         5491822,
         1720877593000
        ],
        [
         "wasbs://final-project-summer24-team3@summer2024team3.blob.core.windows.net/TP/flight_stations_weather_1y/",
         "flight_stations_weather_1y/",
         0,
         1721986685000
        ],
        [
         "wasbs://final-project-summer24-team3@summer2024team3.blob.core.windows.net/TP/flight_stations_weather_1y_cleaned/",
         "flight_stations_weather_1y_cleaned/",
         0,
         1722318047000
        ],
        [
         "wasbs://final-project-summer24-team3@summer2024team3.blob.core.windows.net/TP/flight_stations_weather_1y_cleaned2/",
         "flight_stations_weather_1y_cleaned2/",
         0,
         1722328427000
        ],
        [
         "wasbs://final-project-summer24-team3@summer2024team3.blob.core.windows.net/TP/flight_stations_weather_1y_cleaned2DownSample1-1/",
         "flight_stations_weather_1y_cleaned2DownSample1-1/",
         0,
         1722533565000
        ],
        [
         "wasbs://final-project-summer24-team3@summer2024team3.blob.core.windows.net/TP/flight_stations_weather_1y_cleaned2DownSample2-1/",
         "flight_stations_weather_1y_cleaned2DownSample2-1/",
         0,
         1722445568000
        ],
        [
         "wasbs://final-project-summer24-team3@summer2024team3.blob.core.windows.net/TP/flight_stations_weather_1y_cleaned2DownSample3-1/",
         "flight_stations_weather_1y_cleaned2DownSample3-1/",
         0,
         1722445041000
        ],
        [
         "wasbs://final-project-summer24-team3@summer2024team3.blob.core.windows.net/TP/flight_stations_weather_3m/",
         "flight_stations_weather_3m/",
         0,
         1721983865000
        ],
        [
         "wasbs://final-project-summer24-team3@summer2024team3.blob.core.windows.net/TP/flight_stations_weather_3m_cleaned/",
         "flight_stations_weather_3m_cleaned/",
         0,
         1722317090000
        ],
        [
         "wasbs://final-project-summer24-team3@summer2024team3.blob.core.windows.net/TP/flight_stations_weather_3m_cleaned2/",
         "flight_stations_weather_3m_cleaned2/",
         0,
         1722329466000
        ],
        [
         "wasbs://final-project-summer24-team3@summer2024team3.blob.core.windows.net/TP/flight_stations_weather_3m_cleaned2DownSample2-1/",
         "flight_stations_weather_3m_cleaned2DownSample2-1/",
         0,
         1722445594000
        ],
        [
         "wasbs://final-project-summer24-team3@summer2024team3.blob.core.windows.net/TP/flight_stations_weather_3m_cleaned2DownSample3-1/",
         "flight_stations_weather_3m_cleaned2DownSample3-1/",
         0,
         1722444939000
        ],
        [
         "wasbs://final-project-summer24-team3@summer2024team3.blob.core.windows.net/TP/flight_stations_weather_3m_graphs/",
         "flight_stations_weather_3m_graphs/",
         0,
         1722492863000
        ],
        [
         "wasbs://final-project-summer24-team3@summer2024team3.blob.core.windows.net/TP/flight_stations_weather_all/",
         "flight_stations_weather_all/",
         0,
         1721990625000
        ],
        [
         "wasbs://final-project-summer24-team3@summer2024team3.blob.core.windows.net/TP/flight_stations_weather_all_cleaned/",
         "flight_stations_weather_all_cleaned/",
         0,
         1722328073000
        ],
        [
         "wasbs://final-project-summer24-team3@summer2024team3.blob.core.windows.net/TP/flight_stations_weather_all_cleaned2/",
         "flight_stations_weather_all_cleaned2/",
         0,
         1722329220000
        ],
        [
         "wasbs://final-project-summer24-team3@summer2024team3.blob.core.windows.net/TP/flight_stations_weather_all_cleaned2DownSample2-1/",
         "flight_stations_weather_all_cleaned2DownSample2-1/",
         0,
         1722445509000
        ],
        [
         "wasbs://final-project-summer24-team3@summer2024team3.blob.core.windows.net/TP/flight_stations_weather_all_cleaned2DownSample3-1/",
         "flight_stations_weather_all_cleaned2DownSample3-1/",
         0,
         1722445240000
        ],
        [
         "wasbs://final-project-summer24-team3@summer2024team3.blob.core.windows.net/TP/flight_stations_weather_all_cleaned3/",
         "flight_stations_weather_all_cleaned3/",
         0,
         1722590621000
        ],
        [
         "wasbs://final-project-summer24-team3@summer2024team3.blob.core.windows.net/TP/lr_data/",
         "lr_data/",
         0,
         1721720411000
        ],
        [
         "wasbs://final-project-summer24-team3@summer2024team3.blob.core.windows.net/TP/mlpipe.png",
         "mlpipe.png",
         44394,
         1720753556000
        ],
        [
         "wasbs://final-project-summer24-team3@summer2024team3.blob.core.windows.net/TP/part-00000-tid-5669257934384103852-091b7fb5-c969-4ffb-8606-1028f66fa60c-49-1-c000.snappy.parquet",
         "part-00000-tid-5669257934384103852-091b7fb5-c969-4ffb-8606-1028f66fa60c-49-1-c000.snappy.parquet",
         14493,
         1720561571000
        ]
       ],
       "datasetInfos": [],
       "dbfsResultPath": null,
       "isJsonSchema": true,
       "metadata": {},
       "overflow": false,
       "plotOptions": {
        "customPlotOptions": {},
        "displayType": "table",
        "pivotAggregation": null,
        "pivotColumns": null,
        "xColumns": null,
        "yColumns": null
       },
       "removedWidgets": [],
       "schema": [
        {
         "metadata": "{}",
         "name": "path",
         "type": "\"string\""
        },
        {
         "metadata": "{}",
         "name": "name",
         "type": "\"string\""
        },
        {
         "metadata": "{}",
         "name": "size",
         "type": "\"long\""
        },
        {
         "metadata": "{}",
         "name": "modificationTime",
         "type": "\"long\""
        }
       ],
       "type": "table"
      }
     },
     "output_type": "display_data"
    }
   ],
   "source": [
    "windowSpec = Window.orderBy(\"DATE_TIME\")\n",
    "\n",
    "df_train.union(df_test).withColumn(\"MOD_DEP_TIME\", lpad(col(\"CRS_DEP_TIME\").cast(\"string\"), 4, \"0\"))\\\n",
    ".withColumn(\"MOD_DEP_TIME\", concat_ws(\":\", merged_all.MOD_DEP_TIME.substr(1, 2), merged_all.MOD_DEP_TIME.substr(3, 2)))\\\n",
    ".withColumn(\"MOD_DEP_DATE_TIME\", concat_ws(\" \", col(\"FL_DATE\").cast(\"string\").substr(0, 10), col(\"MOD_DEP_TIME\")))\\\n",
    ".withColumn(\"DATE_TIME\", unix_timestamp(col(\"MOD_DEP_DATE_TIME\"), \"yyyy-MM-dd HH:mm\"))\\\n",
    ".withColumn(\"index\", row_number().over(windowSpec) - 1)\\\n",
    ".orderBy(\"index\").drop(\"MOD_DEP_TIME\", \"MOD_DEP_DATE_TIME\", \"DATE_TIME\")\\\n",
    ".write.mode(\"overwrite\").parquet(f\"{team_blob_url}/TP/flight_stations_weather_all_cleaned3\")\n",
    "display(dbutils.fs.ls(f\"{team_blob_url}/TP\"))"
   ]
  },
  {
   "cell_type": "code",
   "execution_count": 0,
   "metadata": {
    "application/vnd.databricks.v1+cell": {
     "cellMetadata": {},
     "inputWidgets": {},
     "nuid": "01c11faf-963c-4418-9d66-3adff974f018",
     "showTitle": false,
     "title": ""
    }
   },
   "outputs": [],
   "source": []
  }
 ],
 "metadata": {
  "application/vnd.databricks.v1+notebook": {
   "dashboards": [],
   "environmentMetadata": null,
   "language": "python",
   "notebookMetadata": {
    "pythonIndentUnit": 4
   },
   "notebookName": "Feature Engineering Phase 3",
   "widgets": {}
  }
 },
 "nbformat": 4,
 "nbformat_minor": 0
}
