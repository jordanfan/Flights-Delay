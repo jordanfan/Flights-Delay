{
 "cells": [
  {
   "cell_type": "code",
   "execution_count": 0,
   "metadata": {
    "application/vnd.databricks.v1+cell": {
     "cellMetadata": {
      "byteLimit": 2048000,
      "rowLimit": 10000
     },
     "inputWidgets": {},
     "nuid": "b5c62964-646d-46bd-9406-23cfe4b6df30",
     "showTitle": false,
     "title": ""
    }
   },
   "outputs": [
    {
     "output_type": "display_data",
     "data": {
      "text/html": [
       "<style scoped>\n",
       "  .table-result-container {\n",
       "    max-height: 300px;\n",
       "    overflow: auto;\n",
       "  }\n",
       "  table, th, td {\n",
       "    border: 1px solid black;\n",
       "    border-collapse: collapse;\n",
       "  }\n",
       "  th, td {\n",
       "    padding: 5px;\n",
       "  }\n",
       "  th {\n",
       "    text-align: left;\n",
       "  }\n",
       "</style><div class='table-result-container'><table class='table-result'><thead style='background-color: white'><tr><th>path</th><th>name</th><th>size</th><th>modificationTime</th></tr></thead><tbody><tr><td>wasbs://final-project-summer24-team3@summer2024team3.blob.core.windows.net/TP/</td><td>TP/</td><td>0</td><td>1722707375000</td></tr><tr><td>wasbs://final-project-summer24-team3@summer2024team3.blob.core.windows.net/df_clean_transformed_ian/</td><td>df_clean_transformed_ian/</td><td>0</td><td>1722606719000</td></tr></tbody></table></div>"
      ]
     },
     "metadata": {
      "application/vnd.databricks.v1+output": {
       "addedWidgets": {},
       "aggData": [],
       "aggError": "",
       "aggOverflow": false,
       "aggSchema": [],
       "aggSeriesLimitReached": false,
       "aggType": "",
       "arguments": {},
       "columnCustomDisplayInfos": {},
       "data": [
        [
         "wasbs://final-project-summer24-team3@summer2024team3.blob.core.windows.net/TP/",
         "TP/",
         0,
         1722707375000
        ],
        [
         "wasbs://final-project-summer24-team3@summer2024team3.blob.core.windows.net/df_clean_transformed_ian/",
         "df_clean_transformed_ian/",
         0,
         1722606719000
        ]
       ],
       "datasetInfos": [],
       "dbfsResultPath": null,
       "isJsonSchema": true,
       "metadata": {},
       "overflow": false,
       "plotOptions": {
        "customPlotOptions": {},
        "displayType": "table",
        "pivotAggregation": null,
        "pivotColumns": null,
        "xColumns": null,
        "yColumns": null
       },
       "removedWidgets": [],
       "schema": [
        {
         "metadata": "{}",
         "name": "path",
         "type": "\"string\""
        },
        {
         "metadata": "{}",
         "name": "name",
         "type": "\"string\""
        },
        {
         "metadata": "{}",
         "name": "size",
         "type": "\"long\""
        },
        {
         "metadata": "{}",
         "name": "modificationTime",
         "type": "\"long\""
        }
       ],
       "type": "table"
      }
     },
     "output_type": "display_data"
    }
   ],
   "source": [
    "# The following blob storage is accessible to team members only (read and write)\n",
    "# access key is valid til TTL\n",
    "# after that you will need to create a new SAS key and authenticate access again via DataBrick command line\n",
    "blob_container  = \"final-project-summer24-team3\"       # The name of your container created in https://portal.azure.com\n",
    "storage_account = \"summer2024team3\"  # The name of your Storage account created in https://portal.azure.com\n",
    "secret_scope    = \"summer24_team_3_2_scope\"           # The name of the scope created in your local computer using the Databricks CLI\n",
    "secret_key      = \"final-project-summer24-team3\"             # The name of the secret key created in your local computer using the Databricks CLI\n",
    "team_blob_url   = f\"wasbs://{blob_container}@{storage_account}.blob.core.windows.net\"  #points to the root of your team storage bucket\n",
    "\n",
    "# the 261 course blob storage is mounted here.\n",
    "mids261_mount_path      = \"/mnt/mids-w261\"\n",
    "\n",
    "# SAS Token: Grant the team limited access to Azure Storage resources\n",
    "spark.conf.set(\n",
    "  f\"fs.azure.sas.{blob_container}.{storage_account}.blob.core.windows.net\",\n",
    "  dbutils.secrets.get(scope = secret_scope, key = secret_key)\n",
    ")\n",
    "\n",
    "# see what's in the blob storage root folder \n",
    "display(dbutils.fs.ls(f\"{team_blob_url}\"))"
   ]
  },
  {
   "cell_type": "code",
   "execution_count": 0,
   "metadata": {
    "application/vnd.databricks.v1+cell": {
     "cellMetadata": {
      "byteLimit": 2048000,
      "rowLimit": 10000
     },
     "inputWidgets": {},
     "nuid": "e37cfbc4-574b-4734-a7ed-337145f31f3f",
     "showTitle": false,
     "title": ""
    }
   },
   "outputs": [],
   "source": [
    "from pyspark.sql import SparkSession\n",
    "from pyspark.ml import Pipeline\n",
    "from pyspark.ml.feature import VectorAssembler\n",
    "from pyspark.ml.classification import MultilayerPerceptronClassifier\n",
    "from pyspark.ml.evaluation import BinaryClassificationEvaluator, MulticlassClassificationEvaluator\n",
    "from pyspark.mllib.evaluation import MulticlassMetrics\n",
    "from pyspark.sql.functions import col, isnan, count, when, split, concat, lit, min, row_number, lower, lpad, udf, first, countDistinct, coalesce, to_timestamp, monotonically_increasing_id, explode, array, concat_ws, unix_timestamp\n",
    "from pyspark.sql import functions as F\n",
    "from pyspark.sql.types import IntegerType, FloatType, StructType, StructField, DoubleType\n",
    "aimport numpy as np \n",
    "from pyspark.sql.window import Window\n",
    "\n",
    "import warnings\n",
    "warnings.filterwarnings(\"ignore\")"
   ]
  },
  {
   "cell_type": "code",
   "execution_count": 0,
   "metadata": {
    "application/vnd.databricks.v1+cell": {
     "cellMetadata": {
      "byteLimit": 2048000,
      "rowLimit": 10000
     },
     "inputWidgets": {},
     "nuid": "2d1e6425-2566-4633-90d7-c5376f7cc42e",
     "showTitle": false,
     "title": ""
    }
   },
   "outputs": [],
   "source": [
    "#merged_3m = spark.read.parquet(\"wasbs://final-project-summer24-team3@summer2024team3.blob.core.windows.net/TP/flight_stations_weather_3m_cleaned2\")\n",
    "#merged_1y = spark.read.parquet(\"wasbs://final-project-summer24-team3@summer2024team3.blob.core.windows.net/TP/flight_stations_weather_1y_cleaned2\")\n",
    "merged_all = spark.read.parquet(\"wasbs://final-project-summer24-team3@summer2024team3.blob.core.windows.net/TP/flight_stations_weather_all_cleaned3\")"
   ]
  },
  {
   "cell_type": "code",
   "execution_count": 0,
   "metadata": {
    "application/vnd.databricks.v1+cell": {
     "cellMetadata": {
      "byteLimit": 2048000,
      "rowLimit": 10000
     },
     "inputWidgets": {},
     "nuid": "e4928994-0ce4-40bf-8f7f-f84c8c4b3847",
     "showTitle": false,
     "title": ""
    }
   },
   "outputs": [],
   "source": [
    "#df_train_3m = merged_3m.filter(col(\"MONTH\").isin(1,2))\n",
    "#df_test_3m = merged_3m.filter(col(\"MONTH\") == 3)\n",
    "#df_train_1y = merged_1y.filter(col('QUARTER').isin(1, 2, 3))\n",
    "#df_test_1y = merged_1y.filter(col('QUARTER').isin(4))\n",
    "\n",
    "df_train0 = merged_all.filter(col(\"YEAR\").isin([\"2015\", \"2016\", \"2017\", \"2018\"]))\n",
    "df_train = merged_all.filter(col(\"YEAR\").isin(\"2015\", \"2016\", \"2017\"))\n",
    "# Hold out 2018 for model blending \n",
    "df_val = merged_all.filter(col(\"YEAR\").isin(\"2018\"))\n",
    "df_test = merged_all.filter(col(\"YEAR\").isin(\"2019\"))"
   ]
  },
  {
   "cell_type": "code",
   "execution_count": 0,
   "metadata": {
    "application/vnd.databricks.v1+cell": {
     "cellMetadata": {
      "byteLimit": 2048000,
      "rowLimit": 10000
     },
     "inputWidgets": {},
     "nuid": "cbf71ebe-cde7-4175-a39d-06b5a6aa219a",
     "showTitle": false,
     "title": ""
    }
   },
   "outputs": [
    {
     "output_type": "execute_result",
     "data": {
      "text/plain": [
       "12053218"
      ]
     },
     "execution_count": 160,
     "metadata": {},
     "output_type": "execute_result"
    }
   ],
   "source": [
    "df_train0.count()"
   ]
  },
  {
   "cell_type": "code",
   "execution_count": 0,
   "metadata": {
    "application/vnd.databricks.v1+cell": {
     "cellMetadata": {
      "byteLimit": 2048000,
      "rowLimit": 10000
     },
     "inputWidgets": {},
     "nuid": "e053107c-bc6c-47c3-a0af-25f9caebb2c3",
     "showTitle": false,
     "title": ""
    }
   },
   "outputs": [
    {
     "output_type": "execute_result",
     "data": {
      "text/plain": [
       "8445849"
      ]
     },
     "execution_count": 9,
     "metadata": {},
     "output_type": "execute_result"
    }
   ],
   "source": [
    "df_train.count()"
   ]
  },
  {
   "cell_type": "code",
   "execution_count": 0,
   "metadata": {
    "application/vnd.databricks.v1+cell": {
     "cellMetadata": {
      "byteLimit": 2048000,
      "rowLimit": 10000
     },
     "inputWidgets": {},
     "nuid": "c9520d38-f68b-49ad-9690-e31e90439de8",
     "showTitle": false,
     "title": ""
    }
   },
   "outputs": [
    {
     "output_type": "execute_result",
     "data": {
      "text/plain": [
       "3607369"
      ]
     },
     "execution_count": 10,
     "metadata": {},
     "output_type": "execute_result"
    }
   ],
   "source": [
    "df_val.count()"
   ]
  },
  {
   "cell_type": "code",
   "execution_count": 0,
   "metadata": {
    "application/vnd.databricks.v1+cell": {
     "cellMetadata": {
      "byteLimit": 2048000,
      "rowLimit": 10000
     },
     "inputWidgets": {},
     "nuid": "c98a6c1e-cea8-4c08-8183-672769ec4c03",
     "showTitle": false,
     "title": ""
    }
   },
   "outputs": [
    {
     "output_type": "execute_result",
     "data": {
      "text/plain": [
       "7270542"
      ]
     },
     "execution_count": 11,
     "metadata": {},
     "output_type": "execute_result"
    }
   ],
   "source": [
    "df_test.count()"
   ]
  },
  {
   "cell_type": "markdown",
   "metadata": {
    "application/vnd.databricks.v1+cell": {
     "cellMetadata": {},
     "inputWidgets": {},
     "nuid": "e5a7e57c-d866-4854-bf7d-add5b3177e1d",
     "showTitle": false,
     "title": ""
    }
   },
   "source": [
    "### Settings"
   ]
  },
  {
   "cell_type": "code",
   "execution_count": 0,
   "metadata": {
    "application/vnd.databricks.v1+cell": {
     "cellMetadata": {
      "byteLimit": 2048000,
      "rowLimit": 10000
     },
     "inputWidgets": {},
     "nuid": "11062fe0-1a6b-4106-9073-7c732b1bfd16",
     "showTitle": false,
     "title": ""
    }
   },
   "outputs": [],
   "source": [
    "import time \n",
    "\n",
    "# Functions\n",
    "def block_splits(df, n_splits):\n",
    "    n_samples = df.count()\n",
    "    k_fold_size = n_samples // n_splits\n",
    "    indices = np.arange(n_samples)\n",
    "\n",
    "    blocks = []\n",
    "    for i in range(n_splits):\n",
    "        start = i * k_fold_size\n",
    "        stop = start + k_fold_size\n",
    "        mid = int(0.8 * (stop - start)) + start\n",
    "        blocks.append((start, mid, stop))\n",
    "    return blocks \n",
    "\n",
    "def evaluate_multiclass_metrics(predictions, target_feature):\n",
    "    # Convert DataFrame to RDD\n",
    "    prediction_and_label = predictions\\\n",
    "                            .select([\"prediction\", target_feature])\\\n",
    "                            .withColumn(target_feature, col(target_feature).cast(FloatType()))\\\n",
    "                            #.orderBy(target_feature)\n",
    "\n",
    "    # Create MulticlassMetrics object\n",
    "    metrics = MulticlassMetrics(prediction_and_label.rdd.map(tuple))\n",
    "\n",
    "    # Collect metrics\n",
    "    accuracy = metrics.accuracy\n",
    "    precision = metrics.precision(1.0)\n",
    "    recall = metrics.recall(1.0)\n",
    "    beta = 1/(2**0.5)\n",
    "    fbeta = (1 + beta**2) * (precision * recall) / ((beta**2 * precision) + recall)\n",
    "    return accuracy, precision, recall, fbeta\n",
    "\n",
    "def nn_cv(df, assembler, target_feature, k, layers, max_iters = 10):\n",
    "    def train_and_evaluate(df, assembler, layers, fold_tuple, max_iters):\n",
    "        start, mid, stop = fold_tuple\n",
    "        train_fold = df.filter((col(\"index\") >= start) & (col(\"index\") < mid))\n",
    "        test_fold = df.filter((col(\"index\") >= mid) & (col(\"index\") < stop))\n",
    "        assembler_train = assembler.transform(train_fold).select(\"features\", \"index\", \"DEP_DEL15\")\n",
    "        assembler_test = assembler.transform(test_fold).select(\"features\", \"index\", \"DEP_DEL15\")\n",
    "\n",
    "        # Define and train the classifier\n",
    "        classifier = MultilayerPerceptronClassifier(layers=layers, featuresCol = \"features\", \n",
    "                                                    labelCol = \"DEP_DEL15\", maxIter = max_iters)\n",
    "        model = classifier.fit(assembler_train)\n",
    "        \n",
    "        # Make predictions and evaluate\n",
    "        predictions = model.transform(assembler_test)\n",
    "        #evaluator = BinaryClassificationEvaluator(metricName=\"accuracy\")\n",
    "        #accuracy = evaluator.evaluate(predictions, target_feature)\n",
    "        accuracy, precision, recall, fbeta = evaluate_multiclass_metrics(predictions, target_feature)     \n",
    "        return accuracy, precision, recall, fbeta\n",
    "\n",
    "    folds = block_splits(df, k)\n",
    "    accuracy_list = []\n",
    "    precision_list = []\n",
    "    recall_list = []\n",
    "    fbeta_list = [] \n",
    "    start = time.time()\n",
    "    i = 1\n",
    "    for fold in folds:\n",
    "        acc, precision, recall, fbeta = train_and_evaluate(df, assembler, layers, fold, max_iters)\n",
    "        accuracy_list.append(acc)\n",
    "        precision_list.append(precision)\n",
    "        recall_list.append(recall)\n",
    "        fbeta_list.append(fbeta)\n",
    "        print(f\"Finished running {i} fold(s) in {round((time.time() - start)/60)} min\")\n",
    "        i += 1 \n",
    "\n",
    "    avg_accuracy = np.mean(accuracy_list)\n",
    "    avg_precision = np.mean(precision_list)\n",
    "    avg_recall = np.mean(recall_list)\n",
    "    avg_fbeta = np.mean(fbeta_list)\n",
    "    print(f\"Accuracy: {avg_accuracy}\\nPrecision: {avg_precision}\\nRecall: {avg_recall}\\nF-Beta: {avg_fbeta}\")"
   ]
  },
  {
   "cell_type": "code",
   "execution_count": 0,
   "metadata": {
    "application/vnd.databricks.v1+cell": {
     "cellMetadata": {
      "byteLimit": 2048000,
      "rowLimit": 10000
     },
     "inputWidgets": {},
     "nuid": "9bcf8b32-c453-414a-953a-439942b55d29",
     "showTitle": false,
     "title": ""
    }
   },
   "outputs": [
    {
     "output_type": "stream",
     "name": "stdout",
     "output_type": "stream",
     "text": [
      "Number of features: 84\n"
     ]
    }
   ],
   "source": [
    "# Input features\n",
    "vec_cols = [\"MONTH_vec\",\n",
    "            \"DAY_OF_WEEK_vec\",\n",
    "            \"OP_CARRIER_vec\", \n",
    "            \"HOUR_vec\", \n",
    "            \"type_vec\"]\n",
    "vector_size_udf = udf(lambda x: x.size, IntegerType())\n",
    "for column in vec_cols: \n",
    "    df_train = df_train.withColumn(f\"{column}_size\", vector_size_udf(column))\n",
    "\n",
    "n_vec_cols = sum(df_train.select([f\"{vec_col}_size\" for vec_col in vec_cols]).first().asDict().values())\n",
    "numeric_cols = ['DISTANCE', \n",
    "            'ELEVATION',\n",
    "            'HourlyAltimeterSetting',\n",
    "            'HourlyDryBulbTemperature',\n",
    "            'HourlyPrecipitation',\n",
    "            'HourlyRelativeHumidity',\n",
    "            'HourlySeaLevelPressure',\n",
    "            'HourlyVisibility',\n",
    "            'HourlyWindDirection',\n",
    "            'HourlyWindSpeed',\n",
    "            \"Rain\", \n",
    "            \"Snow\", \n",
    "            \"Thunder\",\n",
    "            \"View Obstruction\", \n",
    "            'DEP_12hr',\n",
    "            'DEP_6hr',\n",
    "            'DEP_4hr',\n",
    "            'DISTANCE_LAG',\n",
    "            'REALIZED_DELAY_MIN',\n",
    "            'REALIZED_DEL15', \n",
    "            'HOLIDAY', \n",
    "            'OUTDEG_AIRPORT_6hr'] \n",
    "n_features = len(numeric_cols) + n_vec_cols\n",
    "print(f\"Number of features: {n_features}\")\n",
    "features = numeric_cols + vec_cols\n",
    "assembler = VectorAssembler(inputCols=features, outputCol=\"features\", handleInvalid = \"skip\")\n"
   ]
  },
  {
   "cell_type": "markdown",
   "metadata": {
    "application/vnd.databricks.v1+cell": {
     "cellMetadata": {},
     "inputWidgets": {},
     "nuid": "9be06761-6814-46a4-b3bd-06201751e94e",
     "showTitle": false,
     "title": ""
    }
   },
   "source": [
    "### Basic NN on 2015-2018"
   ]
  },
  {
   "cell_type": "code",
   "execution_count": 0,
   "metadata": {
    "application/vnd.databricks.v1+cell": {
     "cellMetadata": {
      "byteLimit": 2048000,
      "rowLimit": 10000
     },
     "inputWidgets": {},
     "nuid": "69c64c6f-9db8-4a82-bc66-37d090302c58",
     "showTitle": false,
     "title": ""
    }
   },
   "outputs": [
    {
     "output_type": "stream",
     "name": "stdout",
     "output_type": "stream",
     "text": [
      "Finished running 1 fold(s) in 29 min\nFinished running 2 fold(s) in 52 min\nFinished running 3 fold(s) in 85 min\nAccuracy: 0.6932785989078264\nPrecision: 0.6332504282585641\nRecall: 0.3271850441581449\nF-Beta: 0.4826902599174084\n"
     ]
    }
   ],
   "source": [
    "layers0 = [n_features, 64, 2]\n",
    "nn_cv(df_train0, assembler, \"DEP_DEL15\", 3, layers0, max_iters = 50)\n"
   ]
  },
  {
   "cell_type": "markdown",
   "metadata": {
    "application/vnd.databricks.v1+cell": {
     "cellMetadata": {},
     "inputWidgets": {},
     "nuid": "09efcae8-7fb4-4594-858d-eacfd9659bbc",
     "showTitle": false,
     "title": ""
    }
   },
   "source": [
    "### Hyperparameter Tuning on 2015-2017"
   ]
  },
  {
   "cell_type": "markdown",
   "metadata": {
    "application/vnd.databricks.v1+cell": {
     "cellMetadata": {},
     "inputWidgets": {},
     "nuid": "160a59a7-17bc-4c82-8824-84dff9f040f4",
     "showTitle": false,
     "title": ""
    }
   },
   "source": [
    "### 1 Hidden Layer NN "
   ]
  },
  {
   "cell_type": "code",
   "execution_count": 0,
   "metadata": {
    "application/vnd.databricks.v1+cell": {
     "cellMetadata": {
      "byteLimit": 2048000,
      "rowLimit": 10000
     },
     "inputWidgets": {},
     "nuid": "d2bc880f-fa2c-409c-93b2-7eb56f0f9daa",
     "showTitle": false,
     "title": ""
    }
   },
   "outputs": [
    {
     "output_type": "stream",
     "name": "stderr",
     "output_type": "stream",
     "text": [
      "/databricks/spark/python/pyspark/sql/context.py:164: FutureWarning: Deprecated in 3.0.0. Use SparkSession.builder.getOrCreate() instead.\n  warnings.warn(\n"
     ]
    },
    {
     "output_type": "stream",
     "name": "stdout",
     "output_type": "stream",
     "text": [
      "Finished running 1 fold(s) in 37 min\nFinished running 2 fold(s) in 68 min\n"
     ]
    },
    {
     "output_type": "stream",
     "name": "stderr",
     "output_type": "stream",
     "text": [
      "/databricks/spark/python/pyspark/sql/context.py:164: FutureWarning: Deprecated in 3.0.0. Use SparkSession.builder.getOrCreate() instead.\n  warnings.warn(\n"
     ]
    },
    {
     "output_type": "stream",
     "name": "stdout",
     "output_type": "stream",
     "text": [
      "Finished running 3 fold(s) in 90 min\nAccuracy: 0.6801540756408363\nPrecision: 0.6051564069699442\nRecall: 0.1589100586119373\nF-Beta: 0.30016312448491045\n"
     ]
    }
   ],
   "source": [
    "layers1 = [n_features, 128, 2]\n",
    "nn_cv(df_train, assembler, \"DEP_DEL15\", 3, layers1, max_iters = 50)"
   ]
  },
  {
   "cell_type": "code",
   "execution_count": 0,
   "metadata": {
    "application/vnd.databricks.v1+cell": {
     "cellMetadata": {
      "byteLimit": 2048000,
      "rowLimit": 10000
     },
     "inputWidgets": {},
     "nuid": "03c699fc-b7ef-4875-a3ce-ee41a0fc3af2",
     "showTitle": false,
     "title": ""
    }
   },
   "outputs": [
    {
     "output_type": "stream",
     "name": "stdout",
     "output_type": "stream",
     "text": [
      "Finished running 1 fold(s) in 67 min\nFinished running 2 fold(s) in 136 min\nFinished running 3 fold(s) in 184 min\nAccuracy: 0.6939715727657685\nPrecision: 0.6337167141335804\nRecall: 0.20243750220401482\nF-Beta: 0.3686122812526964\n"
     ]
    }
   ],
   "source": [
    "layers2 = [n_features, 256, 2]\n",
    "nn_cv(df_train, assembler, \"DEP_DEL15\", 3, layers2, max_iters = 50)\n"
   ]
  },
  {
   "cell_type": "markdown",
   "metadata": {
    "application/vnd.databricks.v1+cell": {
     "cellMetadata": {},
     "inputWidgets": {},
     "nuid": "5921d501-a562-480a-94ad-60801dfb46f7",
     "showTitle": false,
     "title": ""
    }
   },
   "source": [
    "#### 2 Hidden Layers NN "
   ]
  },
  {
   "cell_type": "code",
   "execution_count": 0,
   "metadata": {
    "application/vnd.databricks.v1+cell": {
     "cellMetadata": {
      "byteLimit": 2048000,
      "rowLimit": 10000
     },
     "inputWidgets": {},
     "nuid": "01c04a5e-a7f8-47a7-9fd6-b65256badd72",
     "showTitle": false,
     "title": ""
    }
   },
   "outputs": [
    {
     "output_type": "stream",
     "name": "stdout",
     "output_type": "stream",
     "text": [
      "Finished running 1 fold(s) in 90 min\nFinished running 2 fold(s) in 158 min\nFinished running 3 fold(s) in 210 min\nAccuracy: 0.7047499527931657\nPrecision: 0.6231293705080367\nRecall: 0.29225635800781924\nF-Beta: 0.4512546373659514\n"
     ]
    }
   ],
   "source": [
    "layers3 = [n_features, 128, 64, 2]\n",
    "nn_cv(df_train, assembler, \"DEP_DEL15\", 3, layers3, max_iters = 75)\n"
   ]
  },
  {
   "cell_type": "code",
   "execution_count": 0,
   "metadata": {
    "application/vnd.databricks.v1+cell": {
     "cellMetadata": {
      "byteLimit": 2048000,
      "rowLimit": 10000
     },
     "inputWidgets": {},
     "nuid": "dbb6c5df-6b26-4083-a979-ab5dc5c78e2f",
     "showTitle": false,
     "title": ""
    }
   },
   "outputs": [
    {
     "output_type": "stream",
     "name": "stdout",
     "output_type": "stream",
     "text": [
      "Finished running 1 fold(s) in 184 min\nFinished running 2 fold(s) in 348 min\nFinished running 3 fold(s) in 464 min\nAccuracy: 0.7089228182218811\nPrecision: 0.6301697784770429\nRecall: 0.3079438511805255\nF-Beta: 0.4671374362117941\n"
     ]
    }
   ],
   "source": [
    "layers4 = [n_features, 256, 128, 2]\n",
    "nn_cv(df_train, assembler, \"DEP_DEL15\", 3, layers4, max_iters = 75)\n"
   ]
  },
  {
   "cell_type": "markdown",
   "metadata": {
    "application/vnd.databricks.v1+cell": {
     "cellMetadata": {},
     "inputWidgets": {},
     "nuid": "cf582185-c38b-45b4-8441-42b822fee689",
     "showTitle": false,
     "title": ""
    }
   },
   "source": [
    "#### 3 Hidden Layers NN "
   ]
  },
  {
   "cell_type": "code",
   "execution_count": 0,
   "metadata": {
    "application/vnd.databricks.v1+cell": {
     "cellMetadata": {
      "byteLimit": 2048000,
      "rowLimit": 10000
     },
     "inputWidgets": {},
     "nuid": "103b14f5-1214-422b-b20f-6aaf7433ca00",
     "showTitle": false,
     "title": ""
    }
   },
   "outputs": [
    {
     "output_type": "stream",
     "name": "stdout",
     "output_type": "stream",
     "text": [
      "Finished running 1 fold(s) in 294 min\nFinished running 2 fold(s) in 538 min\nFinished running 3 fold(s) in 724 min\nAccuracy: 0.7087517065518405\nPrecision: 0.6290800779178971\nRecall: 0.30996201480321567\nF-Beta: 0.4681343657413295\n"
     ]
    }
   ],
   "source": [
    "layers5 = [n_features, 256, 128, 64, 2]\n",
    "nn_cv(df_train, assembler, \"DEP_DEL15\", 3, layers5, max_iters = 100)\n"
   ]
  },
  {
   "cell_type": "markdown",
   "metadata": {
    "application/vnd.databricks.v1+cell": {
     "cellMetadata": {},
     "inputWidgets": {},
     "nuid": "afa8f981-f8f9-4468-a6d7-49210829dbff",
     "showTitle": false,
     "title": ""
    }
   },
   "source": [
    "### Model Testing"
   ]
  },
  {
   "cell_type": "code",
   "execution_count": 0,
   "metadata": {
    "application/vnd.databricks.v1+cell": {
     "cellMetadata": {
      "byteLimit": 2048000,
      "rowLimit": 10000
     },
     "inputWidgets": {},
     "nuid": "0b7911e9-8666-4a51-95c4-ed2da63496e0",
     "showTitle": false,
     "title": ""
    }
   },
   "outputs": [],
   "source": [
    "assembler = assembler = VectorAssembler(inputCols=features, outputCol=\"features\", handleInvalid = \"skip\")\n",
    "assembler_train = assembler.transform(df_train).select([\"features\", \"index\", \"DEP_DEL15\"])\n",
    "assembler_val = assembler.transform(df_val).select([\"features\", \"index\", \"DEP_DEL15\"])\n",
    "assembler_test = assembler.transform(df_test).select([\"features\", \"index\", \"DEP_DEL15\"])\n",
    "\n",
    "schema = StructType([\n",
    "    StructField(\"index\", IntegerType(), True),\n",
    "    StructField(\"probability\", DoubleType(), True)\n",
    "])\n",
    "\n",
    "layers1 = [n_features, 128, 2]\n",
    "layers2 = [n_features, 256, 2]\n",
    "layers3 = [n_features, 128, 64, 2]\n",
    "layers4 = [n_features, 256, 128, 2]\n",
    "layers5 = [n_features, 256, 128, 64, 2]"
   ]
  },
  {
   "cell_type": "markdown",
   "metadata": {
    "application/vnd.databricks.v1+cell": {
     "cellMetadata": {},
     "inputWidgets": {},
     "nuid": "d31f754e-6443-4941-959b-f63dc4685fad",
     "showTitle": false,
     "title": ""
    }
   },
   "source": [
    "#### 1 Hidden Layer NN"
   ]
  },
  {
   "cell_type": "code",
   "execution_count": 0,
   "metadata": {
    "application/vnd.databricks.v1+cell": {
     "cellMetadata": {
      "byteLimit": 2048000,
      "rowLimit": 10000
     },
     "inputWidgets": {},
     "nuid": "ec3165eb-1f67-4c03-b700-715c414a253d",
     "showTitle": false,
     "title": ""
    }
   },
   "outputs": [],
   "source": [
    "classifier1 = MultilayerPerceptronClassifier(layers=layers1, featuresCol = \"features\", \n",
    "                                                    labelCol = \"DEP_DEL15\", maxIter = 50)\n",
    "\n",
    "model1 = classifier1.fit(assembler_train)\n",
    "model1.save(f\"{team_blob_url}/TP/nn_model1\")\n",
    "preds_train1 = model1.transform(assembler_train)\n",
    "preds_val1 = model1.transform(assembler_val)\n",
    "preds_test1 = model1.transform(assembler_test)\n",
    "preds_proba_val1 = preds_val1.select([\"index\", \"probability\"]).rdd.map(lambda x: (x[0], float(x[1][1]))).toDF(schema)\n",
    "preds_proba_test1 = preds_test1.select([\"index\", \"probability\"]).rdd.map(lambda x: (x[0], float(x[1][1]))).toDF(schema)\n",
    "\n",
    "#preds_proba_val1.write.parquet(f\"{team_blob_url}/TP/nn_preds_val1\")\n",
    "#preds_proba_test1.write.parquet(f\"{team_blob_url}/TP/nn_preds_test1\")\n"
   ]
  },
  {
   "cell_type": "code",
   "execution_count": 0,
   "metadata": {
    "application/vnd.databricks.v1+cell": {
     "cellMetadata": {
      "byteLimit": 2048000,
      "rowLimit": 10000
     },
     "inputWidgets": {},
     "nuid": "4611d3b0-4623-41b2-8c2d-5e9667ca5aa5",
     "showTitle": false,
     "title": ""
    }
   },
   "outputs": [
    {
     "output_type": "stream",
     "name": "stdout",
     "output_type": "stream",
     "text": [
      "Accuracy: 0.6427266848123485\nPrecision: 0.6895575369986473\nRecall: 0.1074928209188101\nF-beta: 0.24583398528251477\n"
     ]
    }
   ],
   "source": [
    "acc, precision, recall, fbeta = evaluate_multiclass_metrics(preds_train1, \"DEP_DEL15\")\n",
    "print(\"Accuracy:\", acc)\n",
    "print(\"Precision:\", precision)\n",
    "print(\"Recall:\", recall)\n",
    "print(\"F-beta:\", fbeta)"
   ]
  },
  {
   "cell_type": "code",
   "execution_count": 0,
   "metadata": {
    "application/vnd.databricks.v1+cell": {
     "cellMetadata": {
      "byteLimit": 2048000,
      "rowLimit": 10000
     },
     "inputWidgets": {},
     "nuid": "daeb00ae-e729-473a-afd2-454b44f92886",
     "showTitle": false,
     "title": ""
    }
   },
   "outputs": [
    {
     "output_type": "stream",
     "name": "stdout",
     "output_type": "stream",
     "text": [
      "Accuracy: 0.7935686403750989\nPrecision: 0.46656450971336433\nRecall: 0.11842756138251434\nF-beta: 0.23565206838897584\n"
     ]
    }
   ],
   "source": [
    "acc, precision, recall, fbeta = evaluate_multiclass_metrics(preds_test1, \"DEP_DEL15\")\n",
    "print(\"Accuracy:\", acc)\n",
    "print(\"Precision:\", precision)\n",
    "print(\"Recall:\", recall)\n",
    "print(\"F-beta:\", fbeta)"
   ]
  },
  {
   "cell_type": "code",
   "execution_count": 0,
   "metadata": {
    "application/vnd.databricks.v1+cell": {
     "cellMetadata": {
      "byteLimit": 2048000,
      "rowLimit": 10000
     },
     "inputWidgets": {},
     "nuid": "751df532-6faa-4e43-ac3a-f81d34766728",
     "showTitle": false,
     "title": ""
    }
   },
   "outputs": [
    {
     "output_type": "stream",
     "name": "stdout",
     "output_type": "stream",
     "text": [
      "Time Elapsed 83 minutes\n"
     ]
    }
   ],
   "source": [
    "classifier2 = MultilayerPerceptronClassifier(layers=layers2, featuresCol = \"features\", \n",
    "                                                    labelCol = \"DEP_DEL15\", maxIter = 50)\n",
    "start = time.time()\n",
    "model2 = classifier2.fit(assembler_train)\n",
    "print(f\"Time Elapsed {round((time.time() - start)/60)} minutes\")\n",
    "model2.save(f\"{team_blob_url}/TP/nn_model2\")\n",
    "preds_train2 = model2.transform(assembler_train)\n",
    "preds_val2 = model2.transform(assembler_val)\n",
    "preds_test2 = model2.transform(assembler_test)\n",
    "preds_proba_val2 = preds_val2.select([\"index\", \"probability\"]).rdd.map(lambda x: (x[0], float(x[1][1]))).toDF(schema)\n",
    "preds_proba_test2 = preds_test2.select([\"index\", \"probability\"]).rdd.map(lambda x: (x[0], float(x[1][1]))).toDF(schema)\n",
    "preds_proba_val2.write.parquet(f\"{team_blob_url}/TP/nn_preds_val2\")\n",
    "preds_proba_test2.write.parquet(f\"{team_blob_url}/TP/nn_preds_test2\")"
   ]
  },
  {
   "cell_type": "code",
   "execution_count": 0,
   "metadata": {
    "application/vnd.databricks.v1+cell": {
     "cellMetadata": {
      "byteLimit": 2048000,
      "rowLimit": 10000
     },
     "inputWidgets": {},
     "nuid": "cba77167-ab7d-48de-9970-55a84b929f3a",
     "showTitle": false,
     "title": ""
    }
   },
   "outputs": [
    {
     "output_type": "stream",
     "name": "stdout",
     "output_type": "stream",
     "text": [
      "Accuracy: 0.6623518556683936\nPrecision: 0.681380595223625\nRecall: 0.20808573847369896\nF-beta: 0.3875504076766845\n"
     ]
    }
   ],
   "source": [
    "acc, precision, recall, fbeta = evaluate_multiclass_metrics(preds_train2, \"DEP_DEL15\")\n",
    "print(\"Accuracy:\", acc)\n",
    "print(\"Precision:\", precision)\n",
    "print(\"Recall:\", recall)\n",
    "print(\"F-beta:\", fbeta)"
   ]
  },
  {
   "cell_type": "code",
   "execution_count": 0,
   "metadata": {
    "application/vnd.databricks.v1+cell": {
     "cellMetadata": {
      "byteLimit": 2048000,
      "rowLimit": 10000
     },
     "inputWidgets": {},
     "nuid": "e51dca8a-9a8a-4d0b-9767-25ee1ebe9b78",
     "showTitle": false,
     "title": ""
    }
   },
   "outputs": [
    {
     "output_type": "stream",
     "name": "stdout",
     "output_type": "stream",
     "text": [
      "Accuracy: 0.789980150447258\nPrecision: 0.4636709026222763\nRecall: 0.22113493785515936\nF-beta: 0.3395382083098366\n"
     ]
    }
   ],
   "source": [
    "acc, precision, recall, fbeta = evaluate_multiclass_metrics(preds_test2, \"DEP_DEL15\")\n",
    "print(\"Accuracy:\", acc)\n",
    "print(\"Precision:\", precision)\n",
    "print(\"Recall:\", recall)\n",
    "print(\"F-beta:\", fbeta)"
   ]
  },
  {
   "cell_type": "code",
   "execution_count": 0,
   "metadata": {
    "application/vnd.databricks.v1+cell": {
     "cellMetadata": {},
     "inputWidgets": {},
     "nuid": "c484dcbd-aea2-498e-8088-96fbf043c866",
     "showTitle": false,
     "title": ""
    }
   },
   "outputs": [],
   "source": []
  },
  {
   "cell_type": "markdown",
   "metadata": {
    "application/vnd.databricks.v1+cell": {
     "cellMetadata": {},
     "inputWidgets": {},
     "nuid": "34abd53e-3bc7-4855-9cbc-24280035ed33",
     "showTitle": false,
     "title": ""
    }
   },
   "source": [
    "#### 2 Hidden Layers NN "
   ]
  },
  {
   "cell_type": "code",
   "execution_count": 0,
   "metadata": {
    "application/vnd.databricks.v1+cell": {
     "cellMetadata": {
      "byteLimit": 2048000,
      "rowLimit": 10000
     },
     "inputWidgets": {},
     "nuid": "c221246f-a228-4942-a6c0-f19a07d8f8a0",
     "showTitle": false,
     "title": ""
    }
   },
   "outputs": [
    {
     "output_type": "stream",
     "name": "stdout",
     "output_type": "stream",
     "text": [
      "Time Elapsed 105 minutes\n"
     ]
    }
   ],
   "source": [
    "classifier3 = MultilayerPerceptronClassifier(layers=layers3, featuresCol = \"features\", \n",
    "                                                    labelCol = \"DEP_DEL15\", maxIter = 75)\n",
    "\n",
    "start = time.time()\n",
    "model3 = classifier3.fit(assembler_train)\n",
    "print(f\"Time Elapsed {round((time.time() - start)/60)} minutes\")\n",
    "model3.save(f\"{team_blob_url}/TP/nn_model3\")\n",
    "preds_train3 = model3.transform(assembler_train)\n",
    "preds_val3 = model3.transform(assembler_val)\n",
    "preds_test3 = model3.transform(assembler_test)\n",
    "preds_proba_val3 = preds_val3.select([\"index\", \"probability\"]).rdd.map(lambda x: (x[0], float(x[1][1]))).toDF(schema)\n",
    "preds_proba_test3 = preds_test3.select([\"index\", \"probability\"]).rdd.map(lambda x: (x[0], float(x[1][1]))).toDF(schema)\n",
    "preds_proba_val3.write.parquet(f\"{team_blob_url}/TP/nn_preds_val3\")\n",
    "preds_proba_test3.write.parquet(f\"{team_blob_url}/TP/nn_preds_test3\")"
   ]
  },
  {
   "cell_type": "code",
   "execution_count": 0,
   "metadata": {
    "application/vnd.databricks.v1+cell": {
     "cellMetadata": {
      "byteLimit": 2048000,
      "rowLimit": 10000
     },
     "inputWidgets": {},
     "nuid": "844cbe14-1e68-4b81-9886-849a14a2deff",
     "showTitle": false,
     "title": ""
    }
   },
   "outputs": [
    {
     "output_type": "stream",
     "name": "stdout",
     "output_type": "stream",
     "text": [
      "Accuracy: 0.6779182923160381\nPrecision: 0.6434408807556679\nRecall: 0.34042008308581645\nF-beta: 0.4962093173406567\n"
     ]
    }
   ],
   "source": [
    "acc, precision, recall, fbeta = evaluate_multiclass_metrics(preds_train3, \"DEP_DEL15\")\n",
    "print(\"Accuracy:\", acc)\n",
    "print(\"Precision:\", precision)\n",
    "print(\"Recall:\", recall)\n",
    "print(\"F-beta:\", fbeta)"
   ]
  },
  {
   "cell_type": "code",
   "execution_count": 0,
   "metadata": {
    "application/vnd.databricks.v1+cell": {
     "cellMetadata": {
      "byteLimit": 2048000,
      "rowLimit": 10000
     },
     "inputWidgets": {},
     "nuid": "1f6d0057-dd35-407d-b728-f35b9371f7a1",
     "showTitle": false,
     "title": ""
    }
   },
   "outputs": [
    {
     "output_type": "stream",
     "name": "stdout",
     "output_type": "stream",
     "text": [
      "Accuracy: 0.7704206864498295\nPrecision: 0.4228116753234828\nRecall: 0.35881716772398503\nF-beta: 0.3990861988747188\n"
     ]
    }
   ],
   "source": [
    "acc, precision, recall, fbeta = evaluate_multiclass_metrics(preds_test3, \"DEP_DEL15\")\n",
    "print(\"Accuracy:\", acc)\n",
    "print(\"Precision:\", precision)\n",
    "print(\"Recall:\", recall)\n",
    "print(\"F-beta:\", fbeta)"
   ]
  },
  {
   "cell_type": "code",
   "execution_count": 0,
   "metadata": {
    "application/vnd.databricks.v1+cell": {
     "cellMetadata": {
      "byteLimit": 2048000,
      "rowLimit": 10000
     },
     "inputWidgets": {},
     "nuid": "bcafda0b-0216-4c03-a51f-05246fb75256",
     "showTitle": false,
     "title": ""
    }
   },
   "outputs": [
    {
     "output_type": "stream",
     "name": "stdout",
     "output_type": "stream",
     "text": [
      "Time Elapsed 193 minutes\n"
     ]
    }
   ],
   "source": [
    "classifier4 = MultilayerPerceptronClassifier(layers=layers4, featuresCol = \"features\", \n",
    "                                                    labelCol = \"DEP_DEL15\", maxIter = 75)\n",
    "start = time.time()\n",
    "model4 = classifier4.fit(assembler_train)\n",
    "print(f\"Time Elapsed {round((time.time() - start)/60)} minutes\")\n",
    "model4.save(f\"{team_blob_url}/TP/nn_model4\")\n",
    "preds_train4 = model4.transform(assembler_train)\n",
    "preds_val4 = model4.transform(assembler_val)\n",
    "preds_test4 = model4.transform(assembler_test)\n",
    "preds_proba_val4 = preds_val4.select([\"index\", \"probability\"]).rdd.map(lambda x: (x[0], float(x[1][1]))).toDF(schema)\n",
    "preds_proba_test4 = preds_test4.select([\"index\", \"probability\"]).rdd.map(lambda x: (x[0], float(x[1][1]))).toDF(schema)\n",
    "preds_proba_val4.write.parquet(f\"{team_blob_url}/TP/nn_preds_val4\")\n",
    "preds_proba_test4.write.parquet(f\"{team_blob_url}/TP/nn_preds_test4\")"
   ]
  },
  {
   "cell_type": "code",
   "execution_count": 0,
   "metadata": {
    "application/vnd.databricks.v1+cell": {
     "cellMetadata": {
      "byteLimit": 2048000,
      "rowLimit": 10000
     },
     "inputWidgets": {},
     "nuid": "2e781f08-57ee-4c50-86c3-6c0f5eccaf68",
     "showTitle": false,
     "title": ""
    }
   },
   "outputs": [
    {
     "output_type": "stream",
     "name": "stdout",
     "output_type": "stream",
     "text": [
      "Accuracy: 0.6763387178156958\nPrecision: 0.6706020953544157\nRecall: 0.2901287711621471\nF-beta: 0.46662540544915637\n"
     ]
    }
   ],
   "source": [
    "acc, precision, recall, fbeta = evaluate_multiclass_metrics(preds_train4, \"DEP_DEL15\")\n",
    "print(\"Accuracy:\", acc)\n",
    "print(\"Precision:\", precision)\n",
    "print(\"Recall:\", recall)\n",
    "print(\"F-beta:\", fbeta)"
   ]
  },
  {
   "cell_type": "code",
   "execution_count": 0,
   "metadata": {
    "application/vnd.databricks.v1+cell": {
     "cellMetadata": {
      "byteLimit": 2048000,
      "rowLimit": 10000
     },
     "inputWidgets": {},
     "nuid": "93f8d19e-910a-4567-9075-d363a4081270",
     "showTitle": false,
     "title": ""
    }
   },
   "outputs": [
    {
     "output_type": "stream",
     "name": "stdout",
     "output_type": "stream",
     "text": [
      "Accuracy: 0.7836324475195899\nPrecision: 0.4514172769864899\nRecall: 0.3062735728235076\nF-beta: 0.38983591739289447\n"
     ]
    }
   ],
   "source": [
    "acc, precision, recall, fbeta = evaluate_multiclass_metrics(preds_test4, \"DEP_DEL15\")\n",
    "print(\"Accuracy:\", acc)\n",
    "print(\"Precision:\", precision)\n",
    "print(\"Recall:\", recall)\n",
    "print(\"F-beta:\", fbeta)"
   ]
  },
  {
   "cell_type": "markdown",
   "metadata": {
    "application/vnd.databricks.v1+cell": {
     "cellMetadata": {},
     "inputWidgets": {},
     "nuid": "de3b4769-3e9b-4ff3-bb1a-7ae1cae286c3",
     "showTitle": false,
     "title": ""
    }
   },
   "source": [
    "#### 3 Hidden Layers NN"
   ]
  },
  {
   "cell_type": "code",
   "execution_count": 0,
   "metadata": {
    "application/vnd.databricks.v1+cell": {
     "cellMetadata": {
      "byteLimit": 2048000,
      "rowLimit": 10000
     },
     "inputWidgets": {},
     "nuid": "a7855685-f785-4fc5-83fd-8ad0d9b918d5",
     "showTitle": false,
     "title": ""
    }
   },
   "outputs": [
    {
     "output_type": "stream",
     "name": "stdout",
     "output_type": "stream",
     "text": [
      "Time Elapsed 358 minutes\n"
     ]
    }
   ],
   "source": [
    "classifier5 = MultilayerPerceptronClassifier(layers=layers5, featuresCol = \"features\", \n",
    "                                                    labelCol = \"DEP_DEL15\", maxIter = 100)\n",
    "start = time.time()\n",
    "model5 = classifier5.fit(assembler_train)\n",
    "print(f\"Time Elapsed {round((time.time() - start)/60)} minutes\")\n",
    "model5.save(f\"{team_blob_url}/TP/nn_model5\")\n",
    "preds_train5 = model5.transform(assembler_train)\n",
    "preds_val5 = model5.transform(assembler_val)\n",
    "preds_test5 = model5.transform(assembler_test)\n",
    "preds_proba_val5 = preds_val5.select([\"index\", \"probability\"]).rdd.map(lambda x: (x[0], float(x[1][1]))).toDF(schema)\n",
    "preds_proba_test5 = preds_test5.select([\"index\", \"probability\"]).rdd.map(lambda x: (x[0], float(x[1][1]))).toDF(schema)\n",
    "preds_proba_val5.write.parquet(f\"{team_blob_url}/TP/nn_preds_val5\")\n",
    "preds_proba_test5.write.parquet(f\"{team_blob_url}/TP/nn_preds_test5\")"
   ]
  },
  {
   "cell_type": "code",
   "execution_count": 0,
   "metadata": {
    "application/vnd.databricks.v1+cell": {
     "cellMetadata": {
      "byteLimit": 2048000,
      "rowLimit": 10000
     },
     "inputWidgets": {},
     "nuid": "eea2487a-789a-47d6-a9b2-aa873fcb6783",
     "showTitle": false,
     "title": ""
    }
   },
   "outputs": [
    {
     "output_type": "stream",
     "name": "stdout",
     "output_type": "stream",
     "text": [
      "Accuracy: 0.678029748495164\nPrecision: 0.6563812752285809\nRecall: 0.3191464208154987\nF-beta: 0.48540802342054157\n"
     ]
    }
   ],
   "source": [
    "acc, precision, recall, fbeta = evaluate_multiclass_metrics(preds_train5, \"DEP_DEL15\")\n",
    "print(\"Accuracy:\", acc)\n",
    "print(\"Precision:\", precision)\n",
    "print(\"Recall:\", recall)\n",
    "print(\"F-beta:\", fbeta)"
   ]
  },
  {
   "cell_type": "code",
   "execution_count": 0,
   "metadata": {
    "application/vnd.databricks.v1+cell": {
     "cellMetadata": {
      "byteLimit": 2048000,
      "rowLimit": 10000
     },
     "inputWidgets": {},
     "nuid": "9f61fa6d-f0bb-4a0c-8d99-4a118e1b964a",
     "showTitle": false,
     "title": ""
    }
   },
   "outputs": [
    {
     "output_type": "stream",
     "name": "stdout",
     "output_type": "stream",
     "text": [
      "Accuracy: 0.7764407500272689\nPrecision: 0.4347221155390449\nRecall: 0.3374849059390979\nF-beta: 0.3966294121301026\n"
     ]
    }
   ],
   "source": [
    "acc, precision, recall, fbeta = evaluate_multiclass_metrics(preds_test5, \"DEP_DEL15\")\n",
    "print(\"Accuracy:\", acc)\n",
    "print(\"Precision:\", precision)\n",
    "print(\"Recall:\", recall)\n",
    "print(\"F-beta:\", fbeta)"
   ]
  },
  {
   "cell_type": "code",
   "execution_count": 0,
   "metadata": {
    "application/vnd.databricks.v1+cell": {
     "cellMetadata": {
      "byteLimit": 2048000,
      "rowLimit": 10000
     },
     "inputWidgets": {},
     "nuid": "436bde82-1975-475c-a3b7-06c4a0274a4c",
     "showTitle": false,
     "title": ""
    }
   },
   "outputs": [
    {
     "output_type": "display_data",
     "data": {
      "text/html": [
       "<style scoped>\n",
       "  .table-result-container {\n",
       "    max-height: 300px;\n",
       "    overflow: auto;\n",
       "  }\n",
       "  table, th, td {\n",
       "    border: 1px solid black;\n",
       "    border-collapse: collapse;\n",
       "  }\n",
       "  th, td {\n",
       "    padding: 5px;\n",
       "  }\n",
       "  th {\n",
       "    text-align: left;\n",
       "  }\n",
       "</style><div class='table-result-container'><table class='table-result'><thead style='background-color: white'><tr><th>path</th><th>name</th><th>size</th><th>modificationTime</th></tr></thead><tbody><tr><td>wasbs://final-project-summer24-team3@summer2024team3.blob.core.windows.net/TP/_SUCCESS</td><td>_SUCCESS</td><td>0</td><td>1720561571000</td></tr><tr><td>wasbs://final-project-summer24-team3@summer2024team3.blob.core.windows.net/TP/_committed_1002670972388615845</td><td>_committed_1002670972388615845</td><td>625</td><td>1720560531000</td></tr><tr><td>wasbs://final-project-summer24-team3@summer2024team3.blob.core.windows.net/TP/_committed_5669257934384103852</td><td>_committed_5669257934384103852</td><td>221</td><td>1720561571000</td></tr><tr><td>wasbs://final-project-summer24-team3@summer2024team3.blob.core.windows.net/TP/_committed_6618439955609603938</td><td>_committed_6618439955609603938</td><td>419</td><td>1720561337000</td></tr><tr><td>wasbs://final-project-summer24-team3@summer2024team3.blob.core.windows.net/TP/_committed_9167039456723159873</td><td>_committed_9167039456723159873</td><td>318</td><td>1720559468000</td></tr><tr><td>wasbs://final-project-summer24-team3@summer2024team3.blob.core.windows.net/TP/_committed_vacuum825530481471543349</td><td>_committed_vacuum825530481471543349</td><td>95</td><td>1720561338000</td></tr><tr><td>wasbs://final-project-summer24-team3@summer2024team3.blob.core.windows.net/TP/_started_1002670972388615845</td><td>_started_1002670972388615845</td><td>0</td><td>1720560531000</td></tr><tr><td>wasbs://final-project-summer24-team3@summer2024team3.blob.core.windows.net/TP/_started_5669257934384103852</td><td>_started_5669257934384103852</td><td>0</td><td>1720561570000</td></tr><tr><td>wasbs://final-project-summer24-team3@summer2024team3.blob.core.windows.net/TP/_started_6618439955609603938</td><td>_started_6618439955609603938</td><td>0</td><td>1720561337000</td></tr><tr><td>wasbs://final-project-summer24-team3@summer2024team3.blob.core.windows.net/TP/df_1y_cleaned_transformed/</td><td>df_1y_cleaned_transformed/</td><td>0</td><td>1722046865000</td></tr><tr><td>wasbs://final-project-summer24-team3@summer2024team3.blob.core.windows.net/TP/df_clean_transformed_ian/</td><td>df_clean_transformed_ian/</td><td>0</td><td>1722702743000</td></tr><tr><td>wasbs://final-project-summer24-team3@summer2024team3.blob.core.windows.net/TP/flat-ui__data.csv</td><td>flat-ui__data.csv</td><td>5491822</td><td>1720877593000</td></tr><tr><td>wasbs://final-project-summer24-team3@summer2024team3.blob.core.windows.net/TP/flight_stations_weather_1y/</td><td>flight_stations_weather_1y/</td><td>0</td><td>1721986685000</td></tr><tr><td>wasbs://final-project-summer24-team3@summer2024team3.blob.core.windows.net/TP/flight_stations_weather_1y_cleaned/</td><td>flight_stations_weather_1y_cleaned/</td><td>0</td><td>1722318047000</td></tr><tr><td>wasbs://final-project-summer24-team3@summer2024team3.blob.core.windows.net/TP/flight_stations_weather_1y_cleaned2/</td><td>flight_stations_weather_1y_cleaned2/</td><td>0</td><td>1722328427000</td></tr><tr><td>wasbs://final-project-summer24-team3@summer2024team3.blob.core.windows.net/TP/flight_stations_weather_1y_cleaned2DownSample1-1/</td><td>flight_stations_weather_1y_cleaned2DownSample1-1/</td><td>0</td><td>1722533565000</td></tr><tr><td>wasbs://final-project-summer24-team3@summer2024team3.blob.core.windows.net/TP/flight_stations_weather_1y_cleaned2DownSample2-1/</td><td>flight_stations_weather_1y_cleaned2DownSample2-1/</td><td>0</td><td>1722445568000</td></tr><tr><td>wasbs://final-project-summer24-team3@summer2024team3.blob.core.windows.net/TP/flight_stations_weather_1y_cleaned2DownSample3-1/</td><td>flight_stations_weather_1y_cleaned2DownSample3-1/</td><td>0</td><td>1722445041000</td></tr><tr><td>wasbs://final-project-summer24-team3@summer2024team3.blob.core.windows.net/TP/flight_stations_weather_3m/</td><td>flight_stations_weather_3m/</td><td>0</td><td>1721983865000</td></tr><tr><td>wasbs://final-project-summer24-team3@summer2024team3.blob.core.windows.net/TP/flight_stations_weather_3m_cleaned/</td><td>flight_stations_weather_3m_cleaned/</td><td>0</td><td>1722317090000</td></tr><tr><td>wasbs://final-project-summer24-team3@summer2024team3.blob.core.windows.net/TP/flight_stations_weather_3m_cleaned2/</td><td>flight_stations_weather_3m_cleaned2/</td><td>0</td><td>1722329466000</td></tr><tr><td>wasbs://final-project-summer24-team3@summer2024team3.blob.core.windows.net/TP/flight_stations_weather_3m_cleaned2DownSample2-1/</td><td>flight_stations_weather_3m_cleaned2DownSample2-1/</td><td>0</td><td>1722445594000</td></tr><tr><td>wasbs://final-project-summer24-team3@summer2024team3.blob.core.windows.net/TP/flight_stations_weather_3m_cleaned2DownSample3-1/</td><td>flight_stations_weather_3m_cleaned2DownSample3-1/</td><td>0</td><td>1722444939000</td></tr><tr><td>wasbs://final-project-summer24-team3@summer2024team3.blob.core.windows.net/TP/flight_stations_weather_3m_graphs/</td><td>flight_stations_weather_3m_graphs/</td><td>0</td><td>1722492863000</td></tr><tr><td>wasbs://final-project-summer24-team3@summer2024team3.blob.core.windows.net/TP/flight_stations_weather_all/</td><td>flight_stations_weather_all/</td><td>0</td><td>1721990625000</td></tr><tr><td>wasbs://final-project-summer24-team3@summer2024team3.blob.core.windows.net/TP/flight_stations_weather_all_cleaned/</td><td>flight_stations_weather_all_cleaned/</td><td>0</td><td>1722328073000</td></tr><tr><td>wasbs://final-project-summer24-team3@summer2024team3.blob.core.windows.net/TP/flight_stations_weather_all_cleaned2/</td><td>flight_stations_weather_all_cleaned2/</td><td>0</td><td>1722329220000</td></tr><tr><td>wasbs://final-project-summer24-team3@summer2024team3.blob.core.windows.net/TP/flight_stations_weather_all_cleaned2DownSample2-1/</td><td>flight_stations_weather_all_cleaned2DownSample2-1/</td><td>0</td><td>1722445509000</td></tr><tr><td>wasbs://final-project-summer24-team3@summer2024team3.blob.core.windows.net/TP/flight_stations_weather_all_cleaned2DownSample3-1/</td><td>flight_stations_weather_all_cleaned2DownSample3-1/</td><td>0</td><td>1722445240000</td></tr><tr><td>wasbs://final-project-summer24-team3@summer2024team3.blob.core.windows.net/TP/flight_stations_weather_all_cleaned3/</td><td>flight_stations_weather_all_cleaned3/</td><td>0</td><td>1722596532000</td></tr><tr><td>wasbs://final-project-summer24-team3@summer2024team3.blob.core.windows.net/TP/logbaseline_probabilities_2018_2019/</td><td>logbaseline_probabilities_2018_2019/</td><td>0</td><td>1722737967000</td></tr><tr><td>wasbs://final-project-summer24-team3@summer2024team3.blob.core.windows.net/TP/lr_data/</td><td>lr_data/</td><td>0</td><td>1721720411000</td></tr><tr><td>wasbs://final-project-summer24-team3@summer2024team3.blob.core.windows.net/TP/mlpipe.png</td><td>mlpipe.png</td><td>44394</td><td>1720753556000</td></tr><tr><td>wasbs://final-project-summer24-team3@summer2024team3.blob.core.windows.net/TP/nn_model1/</td><td>nn_model1/</td><td>0</td><td>1722819918000</td></tr><tr><td>wasbs://final-project-summer24-team3@summer2024team3.blob.core.windows.net/TP/nn_model2/</td><td>nn_model2/</td><td>0</td><td>1722819888000</td></tr><tr><td>wasbs://final-project-summer24-team3@summer2024team3.blob.core.windows.net/TP/nn_model3/</td><td>nn_model3/</td><td>0</td><td>1722819879000</td></tr><tr><td>wasbs://final-project-summer24-team3@summer2024team3.blob.core.windows.net/TP/nn_model4/</td><td>nn_model4/</td><td>0</td><td>1722819872000</td></tr><tr><td>wasbs://final-project-summer24-team3@summer2024team3.blob.core.windows.net/TP/nn_model5/</td><td>nn_model5/</td><td>0</td><td>1722819813000</td></tr><tr><td>wasbs://final-project-summer24-team3@summer2024team3.blob.core.windows.net/TP/nn_preds_test1/</td><td>nn_preds_test1/</td><td>0</td><td>1722721986000</td></tr><tr><td>wasbs://final-project-summer24-team3@summer2024team3.blob.core.windows.net/TP/nn_preds_test2/</td><td>nn_preds_test2/</td><td>0</td><td>1722771326000</td></tr><tr><td>wasbs://final-project-summer24-team3@summer2024team3.blob.core.windows.net/TP/nn_preds_test3/</td><td>nn_preds_test3/</td><td>0</td><td>1722778571000</td></tr><tr><td>wasbs://final-project-summer24-team3@summer2024team3.blob.core.windows.net/TP/nn_preds_test4/</td><td>nn_preds_test4/</td><td>0</td><td>1722791190000</td></tr><tr><td>wasbs://final-project-summer24-team3@summer2024team3.blob.core.windows.net/TP/nn_preds_test5/</td><td>nn_preds_test5/</td><td>0</td><td>1722818460000</td></tr><tr><td>wasbs://final-project-summer24-team3@summer2024team3.blob.core.windows.net/TP/nn_preds_val1/</td><td>nn_preds_val1/</td><td>0</td><td>1722721834000</td></tr><tr><td>wasbs://final-project-summer24-team3@summer2024team3.blob.core.windows.net/TP/nn_preds_val2/</td><td>nn_preds_val2/</td><td>0</td><td>1722771147000</td></tr><tr><td>wasbs://final-project-summer24-team3@summer2024team3.blob.core.windows.net/TP/nn_preds_val3/</td><td>nn_preds_val3/</td><td>0</td><td>1722778422000</td></tr><tr><td>wasbs://final-project-summer24-team3@summer2024team3.blob.core.windows.net/TP/nn_preds_val4/</td><td>nn_preds_val4/</td><td>0</td><td>1722790886000</td></tr><tr><td>wasbs://final-project-summer24-team3@summer2024team3.blob.core.windows.net/TP/nn_preds_val5/</td><td>nn_preds_val5/</td><td>0</td><td>1722818080000</td></tr><tr><td>wasbs://final-project-summer24-team3@summer2024team3.blob.core.windows.net/TP/part-00000-tid-5669257934384103852-091b7fb5-c969-4ffb-8606-1028f66fa60c-49-1-c000.snappy.parquet</td><td>part-00000-tid-5669257934384103852-091b7fb5-c969-4ffb-8606-1028f66fa60c-49-1-c000.snappy.parquet</td><td>14493</td><td>1720561571000</td></tr><tr><td>wasbs://final-project-summer24-team3@summer2024team3.blob.core.windows.net/TP/xgboost_param_tuning/</td><td>xgboost_param_tuning/</td><td>0</td><td>1722724846000</td></tr></tbody></table></div>"
      ]
     },
     "metadata": {
      "application/vnd.databricks.v1+output": {
       "addedWidgets": {},
       "aggData": [],
       "aggError": "",
       "aggOverflow": false,
       "aggSchema": [],
       "aggSeriesLimitReached": false,
       "aggType": "",
       "arguments": {},
       "columnCustomDisplayInfos": {},
       "data": [
        [
         "wasbs://final-project-summer24-team3@summer2024team3.blob.core.windows.net/TP/_SUCCESS",
         "_SUCCESS",
         0,
         1720561571000
        ],
        [
         "wasbs://final-project-summer24-team3@summer2024team3.blob.core.windows.net/TP/_committed_1002670972388615845",
         "_committed_1002670972388615845",
         625,
         1720560531000
        ],
        [
         "wasbs://final-project-summer24-team3@summer2024team3.blob.core.windows.net/TP/_committed_5669257934384103852",
         "_committed_5669257934384103852",
         221,
         1720561571000
        ],
        [
         "wasbs://final-project-summer24-team3@summer2024team3.blob.core.windows.net/TP/_committed_6618439955609603938",
         "_committed_6618439955609603938",
         419,
         1720561337000
        ],
        [
         "wasbs://final-project-summer24-team3@summer2024team3.blob.core.windows.net/TP/_committed_9167039456723159873",
         "_committed_9167039456723159873",
         318,
         1720559468000
        ],
        [
         "wasbs://final-project-summer24-team3@summer2024team3.blob.core.windows.net/TP/_committed_vacuum825530481471543349",
         "_committed_vacuum825530481471543349",
         95,
         1720561338000
        ],
        [
         "wasbs://final-project-summer24-team3@summer2024team3.blob.core.windows.net/TP/_started_1002670972388615845",
         "_started_1002670972388615845",
         0,
         1720560531000
        ],
        [
         "wasbs://final-project-summer24-team3@summer2024team3.blob.core.windows.net/TP/_started_5669257934384103852",
         "_started_5669257934384103852",
         0,
         1720561570000
        ],
        [
         "wasbs://final-project-summer24-team3@summer2024team3.blob.core.windows.net/TP/_started_6618439955609603938",
         "_started_6618439955609603938",
         0,
         1720561337000
        ],
        [
         "wasbs://final-project-summer24-team3@summer2024team3.blob.core.windows.net/TP/df_1y_cleaned_transformed/",
         "df_1y_cleaned_transformed/",
         0,
         1722046865000
        ],
        [
         "wasbs://final-project-summer24-team3@summer2024team3.blob.core.windows.net/TP/df_clean_transformed_ian/",
         "df_clean_transformed_ian/",
         0,
         1722702743000
        ],
        [
         "wasbs://final-project-summer24-team3@summer2024team3.blob.core.windows.net/TP/flat-ui__data.csv",
         "flat-ui__data.csv",
         5491822,
         1720877593000
        ],
        [
         "wasbs://final-project-summer24-team3@summer2024team3.blob.core.windows.net/TP/flight_stations_weather_1y/",
         "flight_stations_weather_1y/",
         0,
         1721986685000
        ],
        [
         "wasbs://final-project-summer24-team3@summer2024team3.blob.core.windows.net/TP/flight_stations_weather_1y_cleaned/",
         "flight_stations_weather_1y_cleaned/",
         0,
         1722318047000
        ],
        [
         "wasbs://final-project-summer24-team3@summer2024team3.blob.core.windows.net/TP/flight_stations_weather_1y_cleaned2/",
         "flight_stations_weather_1y_cleaned2/",
         0,
         1722328427000
        ],
        [
         "wasbs://final-project-summer24-team3@summer2024team3.blob.core.windows.net/TP/flight_stations_weather_1y_cleaned2DownSample1-1/",
         "flight_stations_weather_1y_cleaned2DownSample1-1/",
         0,
         1722533565000
        ],
        [
         "wasbs://final-project-summer24-team3@summer2024team3.blob.core.windows.net/TP/flight_stations_weather_1y_cleaned2DownSample2-1/",
         "flight_stations_weather_1y_cleaned2DownSample2-1/",
         0,
         1722445568000
        ],
        [
         "wasbs://final-project-summer24-team3@summer2024team3.blob.core.windows.net/TP/flight_stations_weather_1y_cleaned2DownSample3-1/",
         "flight_stations_weather_1y_cleaned2DownSample3-1/",
         0,
         1722445041000
        ],
        [
         "wasbs://final-project-summer24-team3@summer2024team3.blob.core.windows.net/TP/flight_stations_weather_3m/",
         "flight_stations_weather_3m/",
         0,
         1721983865000
        ],
        [
         "wasbs://final-project-summer24-team3@summer2024team3.blob.core.windows.net/TP/flight_stations_weather_3m_cleaned/",
         "flight_stations_weather_3m_cleaned/",
         0,
         1722317090000
        ],
        [
         "wasbs://final-project-summer24-team3@summer2024team3.blob.core.windows.net/TP/flight_stations_weather_3m_cleaned2/",
         "flight_stations_weather_3m_cleaned2/",
         0,
         1722329466000
        ],
        [
         "wasbs://final-project-summer24-team3@summer2024team3.blob.core.windows.net/TP/flight_stations_weather_3m_cleaned2DownSample2-1/",
         "flight_stations_weather_3m_cleaned2DownSample2-1/",
         0,
         1722445594000
        ],
        [
         "wasbs://final-project-summer24-team3@summer2024team3.blob.core.windows.net/TP/flight_stations_weather_3m_cleaned2DownSample3-1/",
         "flight_stations_weather_3m_cleaned2DownSample3-1/",
         0,
         1722444939000
        ],
        [
         "wasbs://final-project-summer24-team3@summer2024team3.blob.core.windows.net/TP/flight_stations_weather_3m_graphs/",
         "flight_stations_weather_3m_graphs/",
         0,
         1722492863000
        ],
        [
         "wasbs://final-project-summer24-team3@summer2024team3.blob.core.windows.net/TP/flight_stations_weather_all/",
         "flight_stations_weather_all/",
         0,
         1721990625000
        ],
        [
         "wasbs://final-project-summer24-team3@summer2024team3.blob.core.windows.net/TP/flight_stations_weather_all_cleaned/",
         "flight_stations_weather_all_cleaned/",
         0,
         1722328073000
        ],
        [
         "wasbs://final-project-summer24-team3@summer2024team3.blob.core.windows.net/TP/flight_stations_weather_all_cleaned2/",
         "flight_stations_weather_all_cleaned2/",
         0,
         1722329220000
        ],
        [
         "wasbs://final-project-summer24-team3@summer2024team3.blob.core.windows.net/TP/flight_stations_weather_all_cleaned2DownSample2-1/",
         "flight_stations_weather_all_cleaned2DownSample2-1/",
         0,
         1722445509000
        ],
        [
         "wasbs://final-project-summer24-team3@summer2024team3.blob.core.windows.net/TP/flight_stations_weather_all_cleaned2DownSample3-1/",
         "flight_stations_weather_all_cleaned2DownSample3-1/",
         0,
         1722445240000
        ],
        [
         "wasbs://final-project-summer24-team3@summer2024team3.blob.core.windows.net/TP/flight_stations_weather_all_cleaned3/",
         "flight_stations_weather_all_cleaned3/",
         0,
         1722596532000
        ],
        [
         "wasbs://final-project-summer24-team3@summer2024team3.blob.core.windows.net/TP/logbaseline_probabilities_2018_2019/",
         "logbaseline_probabilities_2018_2019/",
         0,
         1722737967000
        ],
        [
         "wasbs://final-project-summer24-team3@summer2024team3.blob.core.windows.net/TP/lr_data/",
         "lr_data/",
         0,
         1721720411000
        ],
        [
         "wasbs://final-project-summer24-team3@summer2024team3.blob.core.windows.net/TP/mlpipe.png",
         "mlpipe.png",
         44394,
         1720753556000
        ],
        [
         "wasbs://final-project-summer24-team3@summer2024team3.blob.core.windows.net/TP/nn_model1/",
         "nn_model1/",
         0,
         1722819918000
        ],
        [
         "wasbs://final-project-summer24-team3@summer2024team3.blob.core.windows.net/TP/nn_model2/",
         "nn_model2/",
         0,
         1722819888000
        ],
        [
         "wasbs://final-project-summer24-team3@summer2024team3.blob.core.windows.net/TP/nn_model3/",
         "nn_model3/",
         0,
         1722819879000
        ],
        [
         "wasbs://final-project-summer24-team3@summer2024team3.blob.core.windows.net/TP/nn_model4/",
         "nn_model4/",
         0,
         1722819872000
        ],
        [
         "wasbs://final-project-summer24-team3@summer2024team3.blob.core.windows.net/TP/nn_model5/",
         "nn_model5/",
         0,
         1722819813000
        ],
        [
         "wasbs://final-project-summer24-team3@summer2024team3.blob.core.windows.net/TP/nn_preds_test1/",
         "nn_preds_test1/",
         0,
         1722721986000
        ],
        [
         "wasbs://final-project-summer24-team3@summer2024team3.blob.core.windows.net/TP/nn_preds_test2/",
         "nn_preds_test2/",
         0,
         1722771326000
        ],
        [
         "wasbs://final-project-summer24-team3@summer2024team3.blob.core.windows.net/TP/nn_preds_test3/",
         "nn_preds_test3/",
         0,
         1722778571000
        ],
        [
         "wasbs://final-project-summer24-team3@summer2024team3.blob.core.windows.net/TP/nn_preds_test4/",
         "nn_preds_test4/",
         0,
         1722791190000
        ],
        [
         "wasbs://final-project-summer24-team3@summer2024team3.blob.core.windows.net/TP/nn_preds_test5/",
         "nn_preds_test5/",
         0,
         1722818460000
        ],
        [
         "wasbs://final-project-summer24-team3@summer2024team3.blob.core.windows.net/TP/nn_preds_val1/",
         "nn_preds_val1/",
         0,
         1722721834000
        ],
        [
         "wasbs://final-project-summer24-team3@summer2024team3.blob.core.windows.net/TP/nn_preds_val2/",
         "nn_preds_val2/",
         0,
         1722771147000
        ],
        [
         "wasbs://final-project-summer24-team3@summer2024team3.blob.core.windows.net/TP/nn_preds_val3/",
         "nn_preds_val3/",
         0,
         1722778422000
        ],
        [
         "wasbs://final-project-summer24-team3@summer2024team3.blob.core.windows.net/TP/nn_preds_val4/",
         "nn_preds_val4/",
         0,
         1722790886000
        ],
        [
         "wasbs://final-project-summer24-team3@summer2024team3.blob.core.windows.net/TP/nn_preds_val5/",
         "nn_preds_val5/",
         0,
         1722818080000
        ],
        [
         "wasbs://final-project-summer24-team3@summer2024team3.blob.core.windows.net/TP/part-00000-tid-5669257934384103852-091b7fb5-c969-4ffb-8606-1028f66fa60c-49-1-c000.snappy.parquet",
         "part-00000-tid-5669257934384103852-091b7fb5-c969-4ffb-8606-1028f66fa60c-49-1-c000.snappy.parquet",
         14493,
         1720561571000
        ],
        [
         "wasbs://final-project-summer24-team3@summer2024team3.blob.core.windows.net/TP/xgboost_param_tuning/",
         "xgboost_param_tuning/",
         0,
         1722724846000
        ]
       ],
       "datasetInfos": [],
       "dbfsResultPath": null,
       "isJsonSchema": true,
       "metadata": {},
       "overflow": false,
       "plotOptions": {
        "customPlotOptions": {},
        "displayType": "table",
        "pivotAggregation": null,
        "pivotColumns": null,
        "xColumns": null,
        "yColumns": null
       },
       "removedWidgets": [],
       "schema": [
        {
         "metadata": "{}",
         "name": "path",
         "type": "\"string\""
        },
        {
         "metadata": "{}",
         "name": "name",
         "type": "\"string\""
        },
        {
         "metadata": "{}",
         "name": "size",
         "type": "\"long\""
        },
        {
         "metadata": "{}",
         "name": "modificationTime",
         "type": "\"long\""
        }
       ],
       "type": "table"
      }
     },
     "output_type": "display_data"
    }
   ],
   "source": [
    "display(dbutils.fs.ls(f\"{team_blob_url}/TP/\"))"
   ]
  }
 ],
 "metadata": {
  "application/vnd.databricks.v1+notebook": {
   "dashboards": [],
   "environmentMetadata": {
    "base_environment": "",
    "client": "1"
   },
   "language": "python",
   "notebookMetadata": {
    "pythonIndentUnit": 4
   },
   "notebookName": "Neural Networks",
   "widgets": {}
  }
 },
 "nbformat": 4,
 "nbformat_minor": 0
}
